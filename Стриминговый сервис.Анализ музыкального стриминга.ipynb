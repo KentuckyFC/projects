{
 "cells": [
  {
   "cell_type": "markdown",
   "metadata": {
    "id": "VUC88oWjTJw2"
   },
   "source": [
    "\n",
    " \n",
    " <div class=\"alert alert-success\" style=\"border-radius: 15px; box-shadow: 4px 4px 4px; border: 1px solid \">\n",
    "<b> Сравнить поведение пользователей музыкального стрима жителей Санкт-Петербурга и Москвы.</b>\n",
    "    \n",
    "**Цель исследования** — проверить три гипотезы:\n",
    "1. Активность пользователей зависит от дня недели. Причём в Москве и Петербурге это проявляется по-разному.\n",
    "2. В понедельник утром в Москве преобладают одни жанры, а в Петербурге — другие. Так же и вечером пятницы преобладают разные жанры — в зависимости от города. \n",
    "3. Москва и Петербург предпочитают разные жанры музыки. В Москве чаще слушают поп-музыку, в Петербурге — русский рэп.\n",
    "\n",
    "\n",
    "**Проблемы** - обработка данных, дубликаты, пропуски, логическая индексация, группировка, сортировка\n",
    "\n",
    "\n",
    "**Ход исследования** - исследование пройдёт в три этапа:\n",
    " 1. Обзор данных.\n",
    " 2. Предобработка данных.\n",
    " 3. Проверка гипотез.\n",
    " \n",
    "</div>\n",
    "\n"
   ]
  },
  {
   "cell_type": "markdown",
   "metadata": {
    "id": "Ml1hmfXC_Zcs"
   },
   "source": [
    "## Обзор данных"
   ]
  },
  {
   "cell_type": "code",
   "execution_count": 1,
   "metadata": {
    "id": "AXN7PHPN_Zcs"
   },
   "outputs": [
    {
     "data": {
      "text/html": [
       "<div>\n",
       "<style scoped>\n",
       "    .dataframe tbody tr th:only-of-type {\n",
       "        vertical-align: middle;\n",
       "    }\n",
       "\n",
       "    .dataframe tbody tr th {\n",
       "        vertical-align: top;\n",
       "    }\n",
       "\n",
       "    .dataframe thead th {\n",
       "        text-align: right;\n",
       "    }\n",
       "</style>\n",
       "<table border=\"1\" class=\"dataframe\">\n",
       "  <thead>\n",
       "    <tr style=\"text-align: right;\">\n",
       "      <th></th>\n",
       "      <th>userID</th>\n",
       "      <th>Track</th>\n",
       "      <th>artist</th>\n",
       "      <th>genre</th>\n",
       "      <th>City</th>\n",
       "      <th>time</th>\n",
       "      <th>Day</th>\n",
       "    </tr>\n",
       "  </thead>\n",
       "  <tbody>\n",
       "    <tr>\n",
       "      <th>0</th>\n",
       "      <td>FFB692EC</td>\n",
       "      <td>Kamigata To Boots</td>\n",
       "      <td>The Mass Missile</td>\n",
       "      <td>rock</td>\n",
       "      <td>Saint-Petersburg</td>\n",
       "      <td>20:28:33</td>\n",
       "      <td>Wednesday</td>\n",
       "    </tr>\n",
       "    <tr>\n",
       "      <th>1</th>\n",
       "      <td>55204538</td>\n",
       "      <td>Delayed Because of Accident</td>\n",
       "      <td>Andreas Rönnberg</td>\n",
       "      <td>rock</td>\n",
       "      <td>Moscow</td>\n",
       "      <td>14:07:09</td>\n",
       "      <td>Friday</td>\n",
       "    </tr>\n",
       "    <tr>\n",
       "      <th>2</th>\n",
       "      <td>20EC38</td>\n",
       "      <td>Funiculì funiculà</td>\n",
       "      <td>Mario Lanza</td>\n",
       "      <td>pop</td>\n",
       "      <td>Saint-Petersburg</td>\n",
       "      <td>20:58:07</td>\n",
       "      <td>Wednesday</td>\n",
       "    </tr>\n",
       "    <tr>\n",
       "      <th>3</th>\n",
       "      <td>A3DD03C9</td>\n",
       "      <td>Dragons in the Sunset</td>\n",
       "      <td>Fire + Ice</td>\n",
       "      <td>folk</td>\n",
       "      <td>Saint-Petersburg</td>\n",
       "      <td>08:37:09</td>\n",
       "      <td>Monday</td>\n",
       "    </tr>\n",
       "    <tr>\n",
       "      <th>4</th>\n",
       "      <td>E2DC1FAE</td>\n",
       "      <td>Soul People</td>\n",
       "      <td>Space Echo</td>\n",
       "      <td>dance</td>\n",
       "      <td>Moscow</td>\n",
       "      <td>08:34:34</td>\n",
       "      <td>Monday</td>\n",
       "    </tr>\n",
       "  </tbody>\n",
       "</table>\n",
       "</div>"
      ],
      "text/plain": [
       "     userID                        Track            artist  genre  \\\n",
       "0  FFB692EC            Kamigata To Boots  The Mass Missile   rock   \n",
       "1  55204538  Delayed Because of Accident  Andreas Rönnberg   rock   \n",
       "2    20EC38            Funiculì funiculà       Mario Lanza    pop   \n",
       "3  A3DD03C9        Dragons in the Sunset        Fire + Ice   folk   \n",
       "4  E2DC1FAE                  Soul People        Space Echo  dance   \n",
       "\n",
       "             City        time        Day  \n",
       "0  Saint-Petersburg  20:28:33  Wednesday  \n",
       "1            Moscow  14:07:09     Friday  \n",
       "2  Saint-Petersburg  20:58:07  Wednesday  \n",
       "3  Saint-Petersburg  08:37:09     Monday  \n",
       "4            Moscow  08:34:34     Monday  "
      ]
     },
     "execution_count": 1,
     "metadata": {},
     "output_type": "execute_result"
    }
   ],
   "source": [
    "import pandas as pd\n",
    "df = pd.read_csv('/datasets/yandex_music_project.csv')\n",
    "df.head()"
   ]
  },
  {
   "cell_type": "code",
   "execution_count": 2,
   "metadata": {
    "id": "DSf2kIb-_Zct",
    "scrolled": true
   },
   "outputs": [
    {
     "name": "stdout",
     "output_type": "stream",
     "text": [
      "<class 'pandas.core.frame.DataFrame'>\n",
      "RangeIndex: 65079 entries, 0 to 65078\n",
      "Data columns (total 7 columns):\n",
      " #   Column    Non-Null Count  Dtype \n",
      "---  ------    --------------  ----- \n",
      " 0     userID  65079 non-null  object\n",
      " 1   Track     63848 non-null  object\n",
      " 2   artist    57876 non-null  object\n",
      " 3   genre     63881 non-null  object\n",
      " 4     City    65079 non-null  object\n",
      " 5   time      65079 non-null  object\n",
      " 6   Day       65079 non-null  object\n",
      "dtypes: object(7)\n",
      "memory usage: 3.5+ MB\n"
     ]
    }
   ],
   "source": [
    "df.info()"
   ]
  },
  {
   "cell_type": "markdown",
   "metadata": {
    "id": "TaQ2Iwbr_Zct"
   },
   "source": [
    "\n",
    " \n",
    " <div class=\"alert alert-success\" style=\"border-radius: 15px; box-shadow: 4px 4px 4px; border: 1px solid \">\n",
    "Итак, в таблице семь столбцов. Тип данных во всех столбцах — `object`.\n",
    "\n",
    "Согласно документации к данным:\n",
    "* `userID` — идентификатор пользователя;\n",
    "* `Track` — название трека;  \n",
    "* `artist` — имя исполнителя;\n",
    "* `genre` — название жанра;\n",
    "* `City` — город пользователя;\n",
    "* `time` — время начала прослушивания;\n",
    "* `Day` — день недели.\n",
    "\n",
    "В названиях колонок видны три нарушения стиля:\n",
    "1. Строчные буквы сочетаются с прописными.\n",
    "2. Встречаются пробелы.\n",
    "3. Нет змеиного написания(snake_case) userID:user_id, и названия некоторых колонок плохо отображают их суть, например, Day:day_of_week, а time:start_playing\n",
    "4. Количество значений в столбцах различается. Значит, в данных есть пропущенные значения.\n",
    "\n",
    "\n",
    "\n",
    " \n",
    "</div>\n"
   ]
  },
  {
   "cell_type": "markdown",
   "metadata": {
    "id": "MCB6-dXG_Zct"
   },
   "source": [
    "<div class=\"alert alert-success\" style=\"border-radius: 15px; box-shadow: 4px 4px 4px; border: 1px solid \">\n",
    "<b> Выводы по обзору данных</b>\n",
    "    \n",
    "В каждой строке таблицы — данные о прослушанном треке. Часть колонок описывает саму композицию: название, исполнителя и жанр. Остальные данные рассказывают о пользователе: из какого он города, когда он слушал музыку. \n",
    "\n",
    "Предварительно можно утверждать, что, данных достаточно для проверки гипотез. Но встречаются пропуски в данных, а в названиях колонок — расхождения с хорошим стилем.\n",
    "\n",
    "Чтобы двигаться дальше, устраним проблемы в данных.\n",
    " \n",
    "</div>\n",
    "\n"
   ]
  },
  {
   "cell_type": "markdown",
   "metadata": {
    "id": "SjYF6Ub9_Zct"
   },
   "source": [
    "## Предобработка данных\n",
    "Исправим стиль в заголовках столбцов, исключим пропуски. Найдем дубликаты."
   ]
  },
  {
   "cell_type": "markdown",
   "metadata": {
    "id": "dIaKXr29_Zct"
   },
   "source": [
    "### Стиль заголовков"
   ]
  },
  {
   "cell_type": "code",
   "execution_count": 3,
   "metadata": {
    "id": "oKOTdF_Q_Zct"
   },
   "outputs": [
    {
     "data": {
      "text/plain": [
       "Index(['  userID', 'Track', 'artist', 'genre', '  City  ', 'time', 'Day'], dtype='object')"
      ]
     },
     "execution_count": 3,
     "metadata": {},
     "output_type": "execute_result"
    }
   ],
   "source": [
    "df.columns"
   ]
  },
  {
   "cell_type": "markdown",
   "metadata": {
    "id": "zj5534cv_Zct"
   },
   "source": [
    "Переименуем колонки так:\n",
    "* `'  userID'` → `'user_id'`;\n",
    "* `'Track'` → `'track'`;\n",
    "* `'  City  '` → `'city'`;\n",
    "* `'Day'` → `'day'`."
   ]
  },
  {
   "cell_type": "code",
   "execution_count": 4,
   "metadata": {
    "id": "ISlFqs5y_Zct"
   },
   "outputs": [
    {
     "data": {
      "text/plain": [
       "Index(['user_id', 'track', 'artist', 'genre', 'city', 'time', 'day'], dtype='object')"
      ]
     },
     "execution_count": 4,
     "metadata": {},
     "output_type": "execute_result"
    }
   ],
   "source": [
    "df = df.rename(columns={'  userID':'user_id', 'Track':'track', '  City  ':'city', 'Day':'day'})\n",
    "df.columns"
   ]
  },
  {
   "cell_type": "markdown",
   "metadata": {
    "id": "5ISfbcfY_Zct"
   },
   "source": [
    "### Пропуски значений\n",
    "Посчитаем, сколько в таблице пропущенных значений."
   ]
  },
  {
   "cell_type": "code",
   "execution_count": 5,
   "metadata": {
    "id": "RskX29qr_Zct"
   },
   "outputs": [
    {
     "data": {
      "text/plain": [
       "user_id       0\n",
       "track      1231\n",
       "artist     7203\n",
       "genre      1198\n",
       "city          0\n",
       "time          0\n",
       "day           0\n",
       "dtype: int64"
      ]
     },
     "execution_count": 5,
     "metadata": {},
     "output_type": "execute_result"
    }
   ],
   "source": [
    "df.isna().sum()"
   ]
  },
  {
   "cell_type": "markdown",
   "metadata": {
    "id": "qubhgnlO_Zct"
   },
   "source": [
    "\n",
    "Не все пропущенные значения влияют на исследование. Так в `track` и `artist` пропуски не важны для этой работы. Достаточно заменить их явными обозначениями.\n",
    "\n",
    "Но пропуски в `genre` могут помешать сравнению музыкальных вкусов в Москве и Санкт-Петербурге. На практике было бы правильно установить причину пропусков и восстановить данные. Такой возможности нет. Придётся:\n",
    "* заполнить и эти пропуски явными обозначениями,\n",
    "* оценить, насколько они повредят расчётам."
   ]
  },
  {
   "cell_type": "code",
   "execution_count": 6,
   "metadata": {
    "id": "KplB5qWs_Zct",
    "scrolled": false
   },
   "outputs": [
    {
     "data": {
      "text/plain": [
       "user_id    0\n",
       "track      0\n",
       "artist     0\n",
       "genre      0\n",
       "city       0\n",
       "time       0\n",
       "day        0\n",
       "dtype: int64"
      ]
     },
     "execution_count": 6,
     "metadata": {},
     "output_type": "execute_result"
    }
   ],
   "source": [
    "columns_to_replace = ['track','artist','genre']\n",
    "for column in columns_to_replace:\n",
    "    df[column] = df[column].fillna('unknown')\n",
    "    \n",
    "df.isna().sum()"
   ]
  },
  {
   "cell_type": "markdown",
   "metadata": {
    "id": "BWKRtBJ3_Zct"
   },
   "source": [
    "### Дубликаты\n",
    "Проверим на явные дубликаты"
   ]
  },
  {
   "cell_type": "code",
   "execution_count": 7,
   "metadata": {
    "id": "36eES_S0_Zct"
   },
   "outputs": [
    {
     "data": {
      "text/plain": [
       "3826"
      ]
     },
     "execution_count": 7,
     "metadata": {},
     "output_type": "execute_result"
    }
   ],
   "source": [
    "df.duplicated().sum() "
   ]
  },
  {
   "cell_type": "code",
   "execution_count": 8,
   "metadata": {
    "id": "exFHq6tt_Zct"
   },
   "outputs": [
    {
     "data": {
      "text/plain": [
       "0"
      ]
     },
     "execution_count": 8,
     "metadata": {},
     "output_type": "execute_result"
    }
   ],
   "source": [
    "df = df.drop_duplicates().reset_index(drop=True)\n",
    "df.duplicated().sum()"
   ]
  },
  {
   "cell_type": "markdown",
   "metadata": {
    "id": "QlFBsxAr_Zct"
   },
   "source": [
    "\n",
    "Теперь избавимся от неявных дубликатов в колонке `genre`. Например, название одного и того же жанра может быть записано немного по-разному. Такие ошибки тоже повлияют на результат исследования."
   ]
  },
  {
   "cell_type": "code",
   "execution_count": 9,
   "metadata": {
    "id": "JIUcqzZN_Zct"
   },
   "outputs": [
    {
     "data": {
      "text/plain": [
       "array(['acid', 'acoustic', 'action', 'adult', 'africa', 'afrikaans',\n",
       "       'alternative', 'alternativepunk', 'ambient', 'americana',\n",
       "       'animated', 'anime', 'arabesk', 'arabic', 'arena',\n",
       "       'argentinetango', 'art', 'audiobook', 'author', 'avantgarde',\n",
       "       'axé', 'baile', 'balkan', 'beats', 'bigroom', 'black', 'bluegrass',\n",
       "       'blues', 'bollywood', 'bossa', 'brazilian', 'breakbeat', 'breaks',\n",
       "       'broadway', 'cantautori', 'cantopop', 'canzone', 'caribbean',\n",
       "       'caucasian', 'celtic', 'chamber', 'chanson', 'children', 'chill',\n",
       "       'chinese', 'choral', 'christian', 'christmas', 'classical',\n",
       "       'classicmetal', 'club', 'colombian', 'comedy', 'conjazz',\n",
       "       'contemporary', 'country', 'cuban', 'dance', 'dancehall',\n",
       "       'dancepop', 'dark', 'death', 'deep', 'deutschrock', 'deutschspr',\n",
       "       'dirty', 'disco', 'dnb', 'documentary', 'downbeat', 'downtempo',\n",
       "       'drum', 'dub', 'dubstep', 'eastern', 'easy', 'electronic',\n",
       "       'electropop', 'emo', 'entehno', 'epicmetal', 'estrada', 'ethnic',\n",
       "       'eurofolk', 'european', 'experimental', 'extrememetal', 'fado',\n",
       "       'fairytail', 'film', 'fitness', 'flamenco', 'folk', 'folklore',\n",
       "       'folkmetal', 'folkrock', 'folktronica', 'forró', 'frankreich',\n",
       "       'französisch', 'french', 'funk', 'future', 'gangsta', 'garage',\n",
       "       'german', 'ghazal', 'gitarre', 'glitch', 'gospel', 'gothic',\n",
       "       'grime', 'grunge', 'gypsy', 'handsup', \"hard'n'heavy\", 'hardcore',\n",
       "       'hardstyle', 'hardtechno', 'hip', 'hip-hop', 'hiphop',\n",
       "       'historisch', 'holiday', 'hop', 'horror', 'house', 'hymn', 'idm',\n",
       "       'independent', 'indian', 'indie', 'indipop', 'industrial',\n",
       "       'inspirational', 'instrumental', 'international', 'irish', 'jam',\n",
       "       'japanese', 'jazz', 'jewish', 'jpop', 'jungle', 'k-pop',\n",
       "       'karadeniz', 'karaoke', 'kayokyoku', 'korean', 'laiko', 'latin',\n",
       "       'latino', 'leftfield', 'local', 'lounge', 'loungeelectronic',\n",
       "       'lovers', 'malaysian', 'mandopop', 'marschmusik', 'meditative',\n",
       "       'mediterranean', 'melodic', 'metal', 'metalcore', 'mexican',\n",
       "       'middle', 'minimal', 'miscellaneous', 'modern', 'mood', 'mpb',\n",
       "       'muslim', 'native', 'neoklassik', 'neue', 'new', 'newage',\n",
       "       'newwave', 'nu', 'nujazz', 'numetal', 'oceania', 'old', 'opera',\n",
       "       'orchestral', 'other', 'piano', 'podcasts', 'pop', 'popdance',\n",
       "       'popelectronic', 'popeurodance', 'poprussian', 'post',\n",
       "       'posthardcore', 'postrock', 'power', 'progmetal', 'progressive',\n",
       "       'psychedelic', 'punjabi', 'punk', 'quebecois', 'ragga', 'ram',\n",
       "       'rancheras', 'rap', 'rave', 'reggae', 'reggaeton', 'regional',\n",
       "       'relax', 'religious', 'retro', 'rhythm', 'rnb', 'rnr', 'rock',\n",
       "       'rockabilly', 'rockalternative', 'rockindie', 'rockother',\n",
       "       'romance', 'roots', 'ruspop', 'rusrap', 'rusrock', 'russian',\n",
       "       'salsa', 'samba', 'scenic', 'schlager', 'self', 'sertanejo',\n",
       "       'shanson', 'shoegazing', 'showtunes', 'singer', 'ska', 'skarock',\n",
       "       'slow', 'smooth', 'soft', 'soul', 'soulful', 'sound', 'soundtrack',\n",
       "       'southern', 'specialty', 'speech', 'spiritual', 'sport',\n",
       "       'stonerrock', 'surf', 'swing', 'synthpop', 'synthrock',\n",
       "       'sängerportrait', 'tango', 'tanzorchester', 'taraftar', 'tatar',\n",
       "       'tech', 'techno', 'teen', 'thrash', 'top', 'traditional',\n",
       "       'tradjazz', 'trance', 'tribal', 'trip', 'triphop', 'tropical',\n",
       "       'türk', 'türkçe', 'ukrrock', 'unknown', 'urban', 'uzbek',\n",
       "       'variété', 'vi', 'videogame', 'vocal', 'western', 'world',\n",
       "       'worldbeat', 'ïîï', 'электроника'], dtype=object)"
      ]
     },
     "execution_count": 9,
     "metadata": {},
     "output_type": "execute_result"
    }
   ],
   "source": [
    "df['genre'].sort_values(ascending = True).unique()"
   ]
  },
  {
   "cell_type": "code",
   "execution_count": 10,
   "metadata": {
    "id": "ErNDkmns_Zct"
   },
   "outputs": [],
   "source": [
    "def replace_wrong_genres(wrong_genres, correct_genre):\n",
    "    for wrong_genre in wrong_genres:\n",
    "        df['genre'] = df['genre'].replace(wrong_genre, correct_genre)"
   ]
  },
  {
   "cell_type": "code",
   "execution_count": 11,
   "metadata": {
    "id": "YN5i2hpmSo09"
   },
   "outputs": [],
   "source": [
    "duplicates = ['hip' ,'hop' , 'hip-hop']\n",
    "original_name_genre = 'hiphop'\n",
    "replace_wrong_genres(duplicates, original_name_genre)"
   ]
  },
  {
   "cell_type": "code",
   "execution_count": 12,
   "metadata": {
    "id": "wvixALnFG15m"
   },
   "outputs": [
    {
     "data": {
      "text/plain": [
       "array(['acid', 'acoustic', 'action', 'adult', 'africa', 'afrikaans',\n",
       "       'alternative', 'alternativepunk', 'ambient', 'americana',\n",
       "       'animated', 'anime', 'arabesk', 'arabic', 'arena',\n",
       "       'argentinetango', 'art', 'audiobook', 'author', 'avantgarde',\n",
       "       'axé', 'baile', 'balkan', 'beats', 'bigroom', 'black', 'bluegrass',\n",
       "       'blues', 'bollywood', 'bossa', 'brazilian', 'breakbeat', 'breaks',\n",
       "       'broadway', 'cantautori', 'cantopop', 'canzone', 'caribbean',\n",
       "       'caucasian', 'celtic', 'chamber', 'chanson', 'children', 'chill',\n",
       "       'chinese', 'choral', 'christian', 'christmas', 'classical',\n",
       "       'classicmetal', 'club', 'colombian', 'comedy', 'conjazz',\n",
       "       'contemporary', 'country', 'cuban', 'dance', 'dancehall',\n",
       "       'dancepop', 'dark', 'death', 'deep', 'deutschrock', 'deutschspr',\n",
       "       'dirty', 'disco', 'dnb', 'documentary', 'downbeat', 'downtempo',\n",
       "       'drum', 'dub', 'dubstep', 'eastern', 'easy', 'electronic',\n",
       "       'electropop', 'emo', 'entehno', 'epicmetal', 'estrada', 'ethnic',\n",
       "       'eurofolk', 'european', 'experimental', 'extrememetal', 'fado',\n",
       "       'fairytail', 'film', 'fitness', 'flamenco', 'folk', 'folklore',\n",
       "       'folkmetal', 'folkrock', 'folktronica', 'forró', 'frankreich',\n",
       "       'französisch', 'french', 'funk', 'future', 'gangsta', 'garage',\n",
       "       'german', 'ghazal', 'gitarre', 'glitch', 'gospel', 'gothic',\n",
       "       'grime', 'grunge', 'gypsy', 'handsup', \"hard'n'heavy\", 'hardcore',\n",
       "       'hardstyle', 'hardtechno', 'hiphop', 'historisch', 'holiday',\n",
       "       'horror', 'house', 'hymn', 'idm', 'independent', 'indian', 'indie',\n",
       "       'indipop', 'industrial', 'inspirational', 'instrumental',\n",
       "       'international', 'irish', 'jam', 'japanese', 'jazz', 'jewish',\n",
       "       'jpop', 'jungle', 'k-pop', 'karadeniz', 'karaoke', 'kayokyoku',\n",
       "       'korean', 'laiko', 'latin', 'latino', 'leftfield', 'local',\n",
       "       'lounge', 'loungeelectronic', 'lovers', 'malaysian', 'mandopop',\n",
       "       'marschmusik', 'meditative', 'mediterranean', 'melodic', 'metal',\n",
       "       'metalcore', 'mexican', 'middle', 'minimal', 'miscellaneous',\n",
       "       'modern', 'mood', 'mpb', 'muslim', 'native', 'neoklassik', 'neue',\n",
       "       'new', 'newage', 'newwave', 'nu', 'nujazz', 'numetal', 'oceania',\n",
       "       'old', 'opera', 'orchestral', 'other', 'piano', 'podcasts', 'pop',\n",
       "       'popdance', 'popelectronic', 'popeurodance', 'poprussian', 'post',\n",
       "       'posthardcore', 'postrock', 'power', 'progmetal', 'progressive',\n",
       "       'psychedelic', 'punjabi', 'punk', 'quebecois', 'ragga', 'ram',\n",
       "       'rancheras', 'rap', 'rave', 'reggae', 'reggaeton', 'regional',\n",
       "       'relax', 'religious', 'retro', 'rhythm', 'rnb', 'rnr', 'rock',\n",
       "       'rockabilly', 'rockalternative', 'rockindie', 'rockother',\n",
       "       'romance', 'roots', 'ruspop', 'rusrap', 'rusrock', 'russian',\n",
       "       'salsa', 'samba', 'scenic', 'schlager', 'self', 'sertanejo',\n",
       "       'shanson', 'shoegazing', 'showtunes', 'singer', 'ska', 'skarock',\n",
       "       'slow', 'smooth', 'soft', 'soul', 'soulful', 'sound', 'soundtrack',\n",
       "       'southern', 'specialty', 'speech', 'spiritual', 'sport',\n",
       "       'stonerrock', 'surf', 'swing', 'synthpop', 'synthrock',\n",
       "       'sängerportrait', 'tango', 'tanzorchester', 'taraftar', 'tatar',\n",
       "       'tech', 'techno', 'teen', 'thrash', 'top', 'traditional',\n",
       "       'tradjazz', 'trance', 'tribal', 'trip', 'triphop', 'tropical',\n",
       "       'türk', 'türkçe', 'ukrrock', 'unknown', 'urban', 'uzbek',\n",
       "       'variété', 'vi', 'videogame', 'vocal', 'western', 'world',\n",
       "       'worldbeat', 'ïîï', 'электроника'], dtype=object)"
      ]
     },
     "execution_count": 12,
     "metadata": {},
     "output_type": "execute_result"
    }
   ],
   "source": [
    "df['genre'].sort_values(ascending = True).unique()"
   ]
  },
  {
   "cell_type": "markdown",
   "metadata": {
    "id": "jz6a9-7HQUDd"
   },
   "source": [
    "<div class=\"alert alert-success\" style=\"border-radius: 15px; box-shadow: 4px 4px 4px; border: 1px solid \">\n",
    "<b> Выводы</b>\n",
    "    \n",
    "Предобработка обнаружила три проблемы в данных:\n",
    "\n",
    "- нарушения в стиле заголовков,\n",
    "- пропущенные значения,\n",
    "- дубликаты — явные и неявные.\n",
    "\n",
    "Вы исправили заголовки, чтобы упростить работу с таблицей. Без дубликатов исследование станет более точным.\n",
    "\n",
    "Пропущенные значения вы заменили на `'unknown'`. Ещё предстоит увидеть, не повредят ли исследованию пропуски в колонке `genre`.\n",
    "\n",
    "Теперь можно перейти к проверке гипотез. \n",
    "</div>"
   ]
  },
  {
   "cell_type": "markdown",
   "metadata": {
    "id": "WttZHXH0SqKk"
   },
   "source": [
    "## Проверка гипотез"
   ]
  },
  {
   "cell_type": "markdown",
   "metadata": {
    "id": "Im936VVi_Zcu"
   },
   "source": [
    "### Гипотеза 1"
   ]
  },
  {
   "cell_type": "markdown",
   "metadata": {
    "id": "nwt_MuaL_Zcu"
   },
   "source": [
    "Гипотеза - Активность пользователей зависит от дня недели. Причём в Москве и Петербурге это проявляется по-разному.\n"
   ]
  },
  {
   "cell_type": "code",
   "execution_count": 13,
   "metadata": {
    "id": "0_Qs96oh_Zcu"
   },
   "outputs": [
    {
     "data": {
      "text/plain": [
       "city\n",
       "Moscow              42741\n",
       "Saint-Petersburg    18512\n",
       "Name: time, dtype: int64"
      ]
     },
     "execution_count": 13,
     "metadata": {},
     "output_type": "execute_result"
    }
   ],
   "source": [
    "df.groupby('city')['time'].count()"
   ]
  },
  {
   "cell_type": "markdown",
   "metadata": {
    "id": "dzli3w8o_Zcu"
   },
   "source": [
    "<div class=\"alert alert-success\" style=\"border-radius: 15px; box-shadow: 4px 4px 4px; border: 1px solid \">\n",
    "\n",
    "В Москве прослушиваний больше, чем в Петербурге. Из этого не следует, что московские пользователи чаще слушают музыку. Просто самих пользователей в Москве больше.\n",
    "</div>"
   ]
  },
  {
   "cell_type": "code",
   "execution_count": 14,
   "metadata": {
    "id": "uZMKjiJz_Zcu"
   },
   "outputs": [
    {
     "data": {
      "text/html": [
       "<div>\n",
       "<style scoped>\n",
       "    .dataframe tbody tr th:only-of-type {\n",
       "        vertical-align: middle;\n",
       "    }\n",
       "\n",
       "    .dataframe tbody tr th {\n",
       "        vertical-align: top;\n",
       "    }\n",
       "\n",
       "    .dataframe thead th {\n",
       "        text-align: right;\n",
       "    }\n",
       "</style>\n",
       "<table border=\"1\" class=\"dataframe\">\n",
       "  <thead>\n",
       "    <tr style=\"text-align: right;\">\n",
       "      <th></th>\n",
       "      <th>user_id</th>\n",
       "      <th>track</th>\n",
       "      <th>artist</th>\n",
       "      <th>genre</th>\n",
       "      <th>city</th>\n",
       "      <th>time</th>\n",
       "    </tr>\n",
       "    <tr>\n",
       "      <th>day</th>\n",
       "      <th></th>\n",
       "      <th></th>\n",
       "      <th></th>\n",
       "      <th></th>\n",
       "      <th></th>\n",
       "      <th></th>\n",
       "    </tr>\n",
       "  </thead>\n",
       "  <tbody>\n",
       "    <tr>\n",
       "      <th>Friday</th>\n",
       "      <td>21840</td>\n",
       "      <td>21840</td>\n",
       "      <td>21840</td>\n",
       "      <td>21840</td>\n",
       "      <td>21840</td>\n",
       "      <td>21840</td>\n",
       "    </tr>\n",
       "    <tr>\n",
       "      <th>Monday</th>\n",
       "      <td>21354</td>\n",
       "      <td>21354</td>\n",
       "      <td>21354</td>\n",
       "      <td>21354</td>\n",
       "      <td>21354</td>\n",
       "      <td>21354</td>\n",
       "    </tr>\n",
       "    <tr>\n",
       "      <th>Wednesday</th>\n",
       "      <td>18059</td>\n",
       "      <td>18059</td>\n",
       "      <td>18059</td>\n",
       "      <td>18059</td>\n",
       "      <td>18059</td>\n",
       "      <td>18059</td>\n",
       "    </tr>\n",
       "  </tbody>\n",
       "</table>\n",
       "</div>"
      ],
      "text/plain": [
       "           user_id  track  artist  genre   city   time\n",
       "day                                                   \n",
       "Friday       21840  21840   21840  21840  21840  21840\n",
       "Monday       21354  21354   21354  21354  21354  21354\n",
       "Wednesday    18059  18059   18059  18059  18059  18059"
      ]
     },
     "execution_count": 14,
     "metadata": {},
     "output_type": "execute_result"
    }
   ],
   "source": [
    "df.groupby('day').count()"
   ]
  },
  {
   "cell_type": "code",
   "execution_count": 15,
   "metadata": {},
   "outputs": [
    {
     "data": {
      "text/html": [
       "<div>\n",
       "<style scoped>\n",
       "    .dataframe tbody tr th:only-of-type {\n",
       "        vertical-align: middle;\n",
       "    }\n",
       "\n",
       "    .dataframe tbody tr th {\n",
       "        vertical-align: top;\n",
       "    }\n",
       "\n",
       "    .dataframe thead th {\n",
       "        text-align: right;\n",
       "    }\n",
       "</style>\n",
       "<table border=\"1\" class=\"dataframe\">\n",
       "  <thead>\n",
       "    <tr style=\"text-align: right;\">\n",
       "      <th></th>\n",
       "      <th>user_id</th>\n",
       "    </tr>\n",
       "    <tr>\n",
       "      <th>day</th>\n",
       "      <th></th>\n",
       "    </tr>\n",
       "  </thead>\n",
       "  <tbody>\n",
       "    <tr>\n",
       "      <th>Friday</th>\n",
       "      <td>21840</td>\n",
       "    </tr>\n",
       "    <tr>\n",
       "      <th>Monday</th>\n",
       "      <td>21354</td>\n",
       "    </tr>\n",
       "    <tr>\n",
       "      <th>Wednesday</th>\n",
       "      <td>18059</td>\n",
       "    </tr>\n",
       "  </tbody>\n",
       "</table>\n",
       "</div>"
      ],
      "text/plain": [
       "           user_id\n",
       "day               \n",
       "Friday       21840\n",
       "Monday       21354\n",
       "Wednesday    18059"
      ]
     },
     "execution_count": 15,
     "metadata": {},
     "output_type": "execute_result"
    }
   ],
   "source": [
    "df.groupby('day')[['user_id']].count()"
   ]
  },
  {
   "cell_type": "markdown",
   "metadata": {
    "id": "cC2tNrlL_Zcu"
   },
   "source": [
    "<div class=\"alert alert-success\" style=\"border-radius: 15px; box-shadow: 4px 4px 4px; border: 1px solid \">\n",
    "\n",
    "В среднем пользователи из двух городов менее активны по средам. Но картина может измениться, если рассмотреть каждый город в отдельности.\n",
    "</div>"
   ]
  },
  {
   "cell_type": "markdown",
   "metadata": {
    "id": "POzs8bGa_Zcu"
   },
   "source": [
    "\n",
    "Создадим функцию `number_tracks()`, которая посчитает прослушивания для заданного дня и города.\n",
    "Посчитайте значения в столбце `user_id` получившейся таблицы.\n"
   ]
  },
  {
   "cell_type": "code",
   "execution_count": 16,
   "metadata": {
    "id": "Nz3GdQB1_Zcu"
   },
   "outputs": [],
   "source": [
    " \n",
    "def number_tracks(day, city):\n",
    "    track_list = []                \n",
    "    track_list = df.loc[(df['day'] == day) & (df['city'] == city)]\n",
    "    track_list_count = track_list['user_id'].count()\n",
    "    return track_list_count"
   ]
  },
  {
   "cell_type": "markdown",
   "metadata": {
    "id": "ytf7xFrFJQ2r"
   },
   "source": [
    "Вызовем `number_tracks()` шесть раз, меняя значение параметров — так, чтобы получить данные для каждого города в каждый из трёх дней."
   ]
  },
  {
   "cell_type": "code",
   "execution_count": 17,
   "metadata": {
    "id": "rJcRATNQ_Zcu"
   },
   "outputs": [
    {
     "data": {
      "text/plain": [
       "15740"
      ]
     },
     "execution_count": 17,
     "metadata": {},
     "output_type": "execute_result"
    }
   ],
   "source": [
    "number_tracks('Monday', 'Moscow')# количество прослушиваний в Москве по понедельникам"
   ]
  },
  {
   "cell_type": "code",
   "execution_count": 18,
   "metadata": {
    "id": "hq_ncZ5T_Zcu"
   },
   "outputs": [
    {
     "data": {
      "text/plain": [
       "5614"
      ]
     },
     "execution_count": 18,
     "metadata": {},
     "output_type": "execute_result"
    }
   ],
   "source": [
    "number_tracks('Monday', 'Saint-Petersburg')# количество прослушиваний в Санкт-Петербурге по понедельникам"
   ]
  },
  {
   "cell_type": "code",
   "execution_count": 19,
   "metadata": {
    "id": "_NTy2VPU_Zcu"
   },
   "outputs": [
    {
     "data": {
      "text/plain": [
       "11056"
      ]
     },
     "execution_count": 19,
     "metadata": {},
     "output_type": "execute_result"
    }
   ],
   "source": [
    "number_tracks('Wednesday', 'Moscow') # количество прослушиваний в Москве по средам"
   ]
  },
  {
   "cell_type": "code",
   "execution_count": 20,
   "metadata": {
    "id": "j2y3TAwo_Zcu"
   },
   "outputs": [
    {
     "data": {
      "text/plain": [
       "7003"
      ]
     },
     "execution_count": 20,
     "metadata": {},
     "output_type": "execute_result"
    }
   ],
   "source": [
    "number_tracks('Wednesday', 'Saint-Petersburg')# количество прослушиваний в Санкт-Петербурге по средам"
   ]
  },
  {
   "cell_type": "code",
   "execution_count": 21,
   "metadata": {
    "id": "vYDw5u_K_Zcu"
   },
   "outputs": [
    {
     "data": {
      "text/plain": [
       "15945"
      ]
     },
     "execution_count": 21,
     "metadata": {},
     "output_type": "execute_result"
    }
   ],
   "source": [
    "number_tracks('Friday', 'Moscow')# количество прослушиваний в Москве по пятницам"
   ]
  },
  {
   "cell_type": "code",
   "execution_count": 22,
   "metadata": {
    "id": "8_yzFtW3_Zcu"
   },
   "outputs": [
    {
     "data": {
      "text/plain": [
       "5895"
      ]
     },
     "execution_count": 22,
     "metadata": {},
     "output_type": "execute_result"
    }
   ],
   "source": [
    "number_tracks('Friday', 'Saint-Petersburg')# количество прослушиваний в Санкт-Петербурге по пятницам"
   ]
  },
  {
   "cell_type": "markdown",
   "metadata": {
    "id": "7QXffbO-_Zcu"
   },
   "source": [
    "Создадим таблицу, где\n",
    "* названия колонок — `['city', 'monday', 'wednesday', 'friday']`;\n",
    "* данные — результаты, которые вы получили с помощью `number_tracks`."
   ]
  },
  {
   "cell_type": "code",
   "execution_count": 23,
   "metadata": {
    "id": "APAcLpOr_Zcu"
   },
   "outputs": [
    {
     "data": {
      "text/html": [
       "<div>\n",
       "<style scoped>\n",
       "    .dataframe tbody tr th:only-of-type {\n",
       "        vertical-align: middle;\n",
       "    }\n",
       "\n",
       "    .dataframe tbody tr th {\n",
       "        vertical-align: top;\n",
       "    }\n",
       "\n",
       "    .dataframe thead th {\n",
       "        text-align: right;\n",
       "    }\n",
       "</style>\n",
       "<table border=\"1\" class=\"dataframe\">\n",
       "  <thead>\n",
       "    <tr style=\"text-align: right;\">\n",
       "      <th>day</th>\n",
       "      <th>Friday</th>\n",
       "      <th>Monday</th>\n",
       "      <th>Wednesday</th>\n",
       "    </tr>\n",
       "    <tr>\n",
       "      <th>city</th>\n",
       "      <th></th>\n",
       "      <th></th>\n",
       "      <th></th>\n",
       "    </tr>\n",
       "  </thead>\n",
       "  <tbody>\n",
       "    <tr>\n",
       "      <th>Moscow</th>\n",
       "      <td>15945</td>\n",
       "      <td>15740</td>\n",
       "      <td>11056</td>\n",
       "    </tr>\n",
       "    <tr>\n",
       "      <th>Saint-Petersburg</th>\n",
       "      <td>5895</td>\n",
       "      <td>5614</td>\n",
       "      <td>7003</td>\n",
       "    </tr>\n",
       "  </tbody>\n",
       "</table>\n",
       "</div>"
      ],
      "text/plain": [
       "day               Friday  Monday  Wednesday\n",
       "city                                       \n",
       "Moscow             15945   15740      11056\n",
       "Saint-Petersburg    5895    5614       7003"
      ]
     },
     "execution_count": 23,
     "metadata": {},
     "output_type": "execute_result"
    }
   ],
   "source": [
    "df.pivot_table(index = 'city', columns = 'day', values = 'track', aggfunc = 'count')"
   ]
  },
  {
   "cell_type": "markdown",
   "metadata": {
    "id": "-EgPIHYu_Zcu"
   },
   "source": [
    "\n",
    "<div class=\"alert alert-success\" style=\"border-radius: 15px; box-shadow: 4px 4px 4px; border: 1px solid \">\n",
    "<b> Выводы</b>\n",
    "    \n",
    "Данные показывают разницу поведения пользователей:\n",
    "\n",
    "- В Москве пик прослушиваний приходится на понедельник и пятницу, а в среду заметен спад.\n",
    "- В Петербурге, наоборот, больше слушают музыку по средам. Активность в понедельник и пятницу здесь почти в равной мере уступает среде.\n",
    "\n",
    "Значит, данные говорят в пользу первой гипотезы.\n",
    "</div>"
   ]
  },
  {
   "cell_type": "markdown",
   "metadata": {
    "id": "atZAxtq4_Zcu"
   },
   "source": [
    "### Гипотеза 2"
   ]
  },
  {
   "cell_type": "markdown",
   "metadata": {
    "id": "eXrQqXFH_Zcu"
   },
   "source": [
    "Гипотеза - В понедельник утром в Москве преобладают одни жанры, а в Петербурге — другие. Так же и вечером пятницы преобладают разные жанры — в зависимости от города."
   ]
  },
  {
   "cell_type": "markdown",
   "metadata": {
    "id": "S8UcW6Hw_Zcu"
   },
   "source": [
    "Сохраним таблицы с данными в две переменные:\n",
    "* по Москве — в `moscow_general`;\n",
    "* по Санкт-Петербургу — в `spb_general`."
   ]
  },
  {
   "cell_type": "code",
   "execution_count": 24,
   "metadata": {
    "id": "qeaFfM_P_Zcu"
   },
   "outputs": [],
   "source": [
    "moscow_general = df[df['city'] == 'Moscow']"
   ]
  },
  {
   "cell_type": "code",
   "execution_count": 25,
   "metadata": {
    "id": "ORaVRKto_Zcu"
   },
   "outputs": [],
   "source": [
    "spb_general = df[df['city'] == 'Saint-Petersburg']"
   ]
  },
  {
   "cell_type": "markdown",
   "metadata": {
    "id": "MEJV-CX2_Zcu"
   },
   "source": [
    "Создадим функцию `genre_weekday()` с четырьмя параметрами:\n",
    "* таблица (датафрейм) с данными,\n",
    "* день недели,\n",
    "* начальная временная метка в формате 'hh:mm', \n",
    "* последняя временная метка в формате 'hh:mm'.\n",
    "\n",
    "Функция должна вернуть информацию о топ-10 жанров тех треков, которые прослушивали в указанный день, в промежутке между двумя отметками времени."
   ]
  },
  {
   "cell_type": "code",
   "execution_count": 26,
   "metadata": {
    "id": "laJT9BYl_Zcu"
   },
   "outputs": [],
   "source": [
    "# Объявление функции genre_weekday() с параметрами table, day, time1, time2,\n",
    "def genre_weekday(table, day, time1, time2):\n",
    "    genre_df = table[(table['day']==day) & (table['time'] > time1) & (table['time']< time2)]\n",
    "    genre_df_count = genre_df.groupby('genre')['genre'].count() # которая возвращает информацию о самых популярных жанрах в указанный день в\n",
    "    genre_df_sorted = genre_df_count.sort_values(ascending = False).head(10)\n",
    "    return genre_df_sorted"
   ]
  },
  {
   "cell_type": "markdown",
   "metadata": {
    "id": "la2s2_PF_Zcu"
   },
   "source": [
    "Cравним результаты функции `genre_weekday()` для Москвы и Санкт-Петербурга в понедельник утром (с 7:00 до 11:00) и в пятницу вечером (с 17:00 до 23:00):"
   ]
  },
  {
   "cell_type": "code",
   "execution_count": 27,
   "metadata": {
    "id": "yz7itPUQ_Zcu",
    "scrolled": true
   },
   "outputs": [
    {
     "data": {
      "text/plain": [
       "genre\n",
       "pop            781\n",
       "dance          549\n",
       "electronic     480\n",
       "rock           474\n",
       "hiphop         286\n",
       "ruspop         186\n",
       "world          181\n",
       "rusrap         175\n",
       "alternative    164\n",
       "unknown        161\n",
       "Name: genre, dtype: int64"
      ]
     },
     "execution_count": 27,
     "metadata": {},
     "output_type": "execute_result"
    }
   ],
   "source": [
    "genre_weekday(moscow_general, 'Monday', '07:00', '11:00')"
   ]
  },
  {
   "cell_type": "code",
   "execution_count": 28,
   "metadata": {
    "id": "kwUcHPdy_Zcu"
   },
   "outputs": [
    {
     "data": {
      "text/plain": [
       "genre\n",
       "pop            218\n",
       "dance          182\n",
       "rock           162\n",
       "electronic     147\n",
       "hiphop          80\n",
       "ruspop          64\n",
       "alternative     58\n",
       "rusrap          55\n",
       "jazz            44\n",
       "classical       40\n",
       "Name: genre, dtype: int64"
      ]
     },
     "execution_count": 28,
     "metadata": {},
     "output_type": "execute_result"
    }
   ],
   "source": [
    "genre_weekday (spb_general, 'Monday', '07:00', '11:00')"
   ]
  },
  {
   "cell_type": "code",
   "execution_count": 29,
   "metadata": {
    "id": "EzXVRE1o_Zcu"
   },
   "outputs": [
    {
     "data": {
      "text/plain": [
       "genre\n",
       "pop            717\n",
       "dance          524\n",
       "rock           518\n",
       "electronic     485\n",
       "hiphop         238\n",
       "alternative    182\n",
       "classical      172\n",
       "world          172\n",
       "ruspop         149\n",
       "rusrap         133\n",
       "Name: genre, dtype: int64"
      ]
     },
     "execution_count": 29,
     "metadata": {},
     "output_type": "execute_result"
    }
   ],
   "source": [
    "genre_weekday (moscow_general, 'Monday', '17:00', '23:00')"
   ]
  },
  {
   "cell_type": "code",
   "execution_count": 30,
   "metadata": {
    "id": "JZaEKu5v_Zcu"
   },
   "outputs": [
    {
     "data": {
      "text/plain": [
       "genre\n",
       "pop            263\n",
       "rock           208\n",
       "electronic     192\n",
       "dance          191\n",
       "hiphop         104\n",
       "alternative     72\n",
       "classical       71\n",
       "jazz            57\n",
       "rusrap          54\n",
       "ruspop          53\n",
       "Name: genre, dtype: int64"
      ]
     },
     "execution_count": 30,
     "metadata": {},
     "output_type": "execute_result"
    }
   ],
   "source": [
    "genre_weekday (spb_general, 'Monday', '17:00', '23:00')"
   ]
  },
  {
   "cell_type": "markdown",
   "metadata": {
    "id": "wrCe4MNX_Zcu"
   },
   "source": [
    "<div class=\"alert alert-success\" style=\"border-radius: 15px; box-shadow: 4px 4px 4px; border: 1px solid \">\n",
    "<b> Выводы</b>\n",
    "    \n",
    "Если сравнить топ-10 жанров в понедельник утром, можно сделать такие выводы:\n",
    "\n",
    "1. В Москве и Петербурге слушают похожую музыку. Единственное отличие — в московский рейтинг вошёл жанр “world”, а в петербургский — джаз и классика.\n",
    "\n",
    "2. В Москве пропущенных значений оказалось так много, что значение `'unknown'` заняло десятое место среди самых популярных жанров. Значит, пропущенные значения занимают существенную долю в данных и угрожают достоверности исследования.\n",
    "\n",
    "Вечер пятницы не меняет эту картину. Некоторые жанры поднимаются немного выше, другие спускаются, но в целом топ-10 остаётся тем же самым.\n",
    "\n",
    "Таким образом, вторая гипотеза подтвердилась лишь частично:\n",
    "* Пользователи слушают похожую музыку в начале недели и в конце.\n",
    "* Разница между Москвой и Петербургом не слишком выражена. В Москве чаще слушают русскую популярную музыку, в Петербурге — джаз.\n",
    "\n",
    "Однако пропуски в данных ставят под сомнение этот результат. В Москве их так много, что рейтинг топ-10 мог бы выглядеть иначе, если бы не утерянные  данные о жанрах.\n",
    "</div>"
   ]
  },
  {
   "cell_type": "markdown",
   "metadata": {
    "id": "JolODAqr_Zcu"
   },
   "source": [
    "### Гипотеза 3\n",
    "\n",
    "Гипотеза - Петербург — столица рэпа, музыку этого жанра там слушают чаще, чем в Москве.  А Москва — город контрастов, в котором, тем не менее, преобладает поп-музыка."
   ]
  },
  {
   "cell_type": "code",
   "execution_count": 31,
   "metadata": {
    "id": "r19lIPke_Zcu"
   },
   "outputs": [
    {
     "data": {
      "text/plain": [
       "genre\n",
       "pop           5892\n",
       "dance         4435\n",
       "rock          3965\n",
       "electronic    3786\n",
       "hiphop        2096\n",
       "Name: genre, dtype: int64"
      ]
     },
     "execution_count": 31,
     "metadata": {},
     "output_type": "execute_result"
    }
   ],
   "source": [
    "moscow_genres = moscow_general.groupby('genre')['genre'].count().sort_values(ascending = False)\n",
    "moscow_genres.head()"
   ]
  },
  {
   "cell_type": "code",
   "execution_count": 32,
   "metadata": {},
   "outputs": [
    {
     "data": {
      "text/html": [
       "<div>\n",
       "<style scoped>\n",
       "    .dataframe tbody tr th:only-of-type {\n",
       "        vertical-align: middle;\n",
       "    }\n",
       "\n",
       "    .dataframe tbody tr th {\n",
       "        vertical-align: top;\n",
       "    }\n",
       "\n",
       "    .dataframe thead th {\n",
       "        text-align: right;\n",
       "    }\n",
       "</style>\n",
       "<table border=\"1\" class=\"dataframe\">\n",
       "  <thead>\n",
       "    <tr style=\"text-align: right;\">\n",
       "      <th></th>\n",
       "      <th>genre</th>\n",
       "    </tr>\n",
       "    <tr>\n",
       "      <th>genre</th>\n",
       "      <th></th>\n",
       "    </tr>\n",
       "  </thead>\n",
       "  <tbody>\n",
       "    <tr>\n",
       "      <th>pop</th>\n",
       "      <td>5892</td>\n",
       "    </tr>\n",
       "    <tr>\n",
       "      <th>dance</th>\n",
       "      <td>4435</td>\n",
       "    </tr>\n",
       "    <tr>\n",
       "      <th>rock</th>\n",
       "      <td>3965</td>\n",
       "    </tr>\n",
       "    <tr>\n",
       "      <th>electronic</th>\n",
       "      <td>3786</td>\n",
       "    </tr>\n",
       "    <tr>\n",
       "      <th>hiphop</th>\n",
       "      <td>2096</td>\n",
       "    </tr>\n",
       "  </tbody>\n",
       "</table>\n",
       "</div>"
      ],
      "text/plain": [
       "            genre\n",
       "genre            \n",
       "pop          5892\n",
       "dance        4435\n",
       "rock         3965\n",
       "electronic   3786\n",
       "hiphop       2096"
      ]
     },
     "execution_count": 32,
     "metadata": {},
     "output_type": "execute_result"
    }
   ],
   "source": [
    "moscow_genres.to_frame().head()"
   ]
  },
  {
   "cell_type": "markdown",
   "metadata": {
    "id": "cnPG2vnN_Zcv"
   },
   "source": [
    "# Теперь повторим то же и для Петербурга."
   ]
  },
  {
   "cell_type": "code",
   "execution_count": 33,
   "metadata": {
    "id": "gluLIpE7_Zcv"
   },
   "outputs": [],
   "source": [
    "spb_genres = spb_general.groupby('genre')['genre'].count().sort_values(ascending = False)"
   ]
  },
  {
   "cell_type": "code",
   "execution_count": 34,
   "metadata": {
    "id": "uaGJHjVU_Zcv"
   },
   "outputs": [
    {
     "data": {
      "text/plain": [
       "genre\n",
       "pop           2431\n",
       "dance         1932\n",
       "rock          1879\n",
       "electronic    1736\n",
       "hiphop         960\n",
       "Name: genre, dtype: int64"
      ]
     },
     "execution_count": 34,
     "metadata": {},
     "output_type": "execute_result"
    }
   ],
   "source": [
    "\n",
    "spb_genres.head(5)"
   ]
  },
  {
   "cell_type": "markdown",
   "metadata": {
    "id": "nVhnJEm__Zcv"
   },
   "source": [
    "\n",
    "<div class=\"alert alert-success\" style=\"border-radius: 15px; box-shadow: 4px 4px 4px; border: 1px solid \">\n",
    "<b> Выводы</b>\n",
    "    \n",
    "    \n",
    "Гипотеза частично подтвердилась:\n",
    "* Поп-музыка — самый популярный жанр в Москве, как и предполагала гипотеза. Более того, в топ-10 жанров встречается близкий жанр — русская популярная музыка.\n",
    "* Вопреки ожиданиям, рэп одинаково популярен в Москве и Петербурге. \n",
    "</div>"
   ]
  },
  {
   "cell_type": "markdown",
   "metadata": {
    "id": "ykKQ0N65_Zcv"
   },
   "source": [
    "## Итоги исследования"
   ]
  },
  {
   "cell_type": "markdown",
   "metadata": {
    "id": "tjUwbHb3_Zcv"
   },
   "source": [
    "\n",
    "\n",
    "\n",
    "\n",
    "\n",
    "\n",
    "\n",
    "\n",
    "\n",
    "<div class=\"alert alert-success\" style=\"border-radius: 15px; box-shadow: 4px 4px 4px; border: 1px solid \">\n",
    "<b>  Итоги исследования</b>\n",
    "    \n",
    "1. День недели по-разному влияет на активность пользователей в Москве и Петербурге. \n",
    "\n",
    "Первая гипотеза полностью подтвердилась.\n",
    "\n",
    "2. Музыкальные предпочтения не сильно меняются в течение недели — будь то Москва или Петербург. Небольшие различия заметны в начале недели, по понедельникам:\n",
    "* в Москве слушают музыку жанра “world”,\n",
    "* в Петербурге — джаз и классику.\n",
    "\n",
    "Таким образом, вторая гипотеза подтвердилась лишь отчасти. Этот результат мог оказаться иным, если бы не пропуски в данных.\n",
    "\n",
    "3. Во вкусах пользователей Москвы и Петербурга больше общего чем различий. Вопреки ожиданиям, предпочтения жанров в Петербурге напоминают московские.\n",
    "\n",
    "Третья гипотеза не подтвердилась. Если различия в предпочтениях и существуют, на основной массе пользователей они незаметны.\n",
    "\n",
    "**На практике исследования содержат проверки статистических гипотез.**\n",
    "Из данных одного сервиса не всегда можно сделать вывод о всех жителях города.\n",
    "Проверки статистических гипотез покажут, насколько они достоверны, исходя из имеющихся данных. \n",
    "С методами проверок гипотез вы ещё познакомитесь в следующих темах.\n",
    "\n",
    "\n",
    "</div>\n",
    "\n",
    "\n"
   ]
  },
  {
   "cell_type": "code",
   "execution_count": null,
   "metadata": {},
   "outputs": [],
   "source": []
  }
 ],
 "metadata": {
  "ExecuteTimeLog": [
   {
    "duration": 317,
    "start_time": "2021-08-12T20:28:55.975Z"
   },
   {
    "duration": 212,
    "start_time": "2021-08-12T20:29:10.745Z"
   },
   {
    "duration": 341,
    "start_time": "2021-08-12T20:29:51.639Z"
   },
   {
    "duration": 122,
    "start_time": "2021-08-12T20:30:17.733Z"
   },
   {
    "duration": 363,
    "start_time": "2021-08-12T20:30:23.124Z"
   },
   {
    "duration": 217,
    "start_time": "2021-08-12T20:31:12.017Z"
   },
   {
    "duration": 317,
    "start_time": "2021-08-12T20:37:15.739Z"
   },
   {
    "duration": 275,
    "start_time": "2021-08-12T20:37:34.458Z"
   },
   {
    "duration": 403,
    "start_time": "2021-08-12T20:38:00.985Z"
   },
   {
    "duration": 772,
    "start_time": "2021-08-12T20:42:34.551Z"
   },
   {
    "duration": 1892,
    "start_time": "2021-08-12T20:42:35.326Z"
   },
   {
    "duration": 8,
    "start_time": "2021-08-12T20:42:37.215Z"
   },
   {
    "duration": -38,
    "start_time": "2021-08-12T20:42:37.262Z"
   },
   {
    "duration": -57,
    "start_time": "2021-08-12T20:42:37.282Z"
   },
   {
    "duration": -69,
    "start_time": "2021-08-12T20:42:37.296Z"
   },
   {
    "duration": -73,
    "start_time": "2021-08-12T20:42:37.302Z"
   },
   {
    "duration": -75,
    "start_time": "2021-08-12T20:42:37.306Z"
   },
   {
    "duration": -76,
    "start_time": "2021-08-12T20:42:37.309Z"
   },
   {
    "duration": -77,
    "start_time": "2021-08-12T20:42:37.312Z"
   },
   {
    "duration": -79,
    "start_time": "2021-08-12T20:42:37.316Z"
   },
   {
    "duration": -81,
    "start_time": "2021-08-12T20:42:37.319Z"
   },
   {
    "duration": -82,
    "start_time": "2021-08-12T20:42:37.322Z"
   },
   {
    "duration": -83,
    "start_time": "2021-08-12T20:42:37.325Z"
   },
   {
    "duration": -84,
    "start_time": "2021-08-12T20:42:37.328Z"
   },
   {
    "duration": -90,
    "start_time": "2021-08-12T20:42:37.336Z"
   },
   {
    "duration": -93,
    "start_time": "2021-08-12T20:42:37.340Z"
   },
   {
    "duration": -93,
    "start_time": "2021-08-12T20:42:37.342Z"
   },
   {
    "duration": -94,
    "start_time": "2021-08-12T20:42:37.345Z"
   },
   {
    "duration": -98,
    "start_time": "2021-08-12T20:42:37.350Z"
   },
   {
    "duration": -107,
    "start_time": "2021-08-12T20:42:37.361Z"
   },
   {
    "duration": -108,
    "start_time": "2021-08-12T20:42:37.364Z"
   },
   {
    "duration": -110,
    "start_time": "2021-08-12T20:42:37.367Z"
   },
   {
    "duration": -117,
    "start_time": "2021-08-12T20:42:37.376Z"
   },
   {
    "duration": -119,
    "start_time": "2021-08-12T20:42:37.380Z"
   },
   {
    "duration": -101,
    "start_time": "2021-08-12T20:42:37.383Z"
   },
   {
    "duration": -108,
    "start_time": "2021-08-12T20:42:37.392Z"
   },
   {
    "duration": -110,
    "start_time": "2021-08-12T20:42:37.396Z"
   },
   {
    "duration": -111,
    "start_time": "2021-08-12T20:42:37.399Z"
   },
   {
    "duration": -119,
    "start_time": "2021-08-12T20:42:37.409Z"
   },
   {
    "duration": -120,
    "start_time": "2021-08-12T20:42:37.412Z"
   },
   {
    "duration": -122,
    "start_time": "2021-08-12T20:42:37.415Z"
   },
   {
    "duration": -122,
    "start_time": "2021-08-12T20:42:37.417Z"
   },
   {
    "duration": -122,
    "start_time": "2021-08-12T20:42:37.419Z"
   },
   {
    "duration": -122,
    "start_time": "2021-08-12T20:42:37.421Z"
   },
   {
    "duration": -124,
    "start_time": "2021-08-12T20:42:37.424Z"
   },
   {
    "duration": -124,
    "start_time": "2021-08-12T20:42:37.426Z"
   },
   {
    "duration": -124,
    "start_time": "2021-08-12T20:42:37.428Z"
   },
   {
    "duration": 301,
    "start_time": "2021-08-12T20:43:01.578Z"
   },
   {
    "duration": -44,
    "start_time": "2021-08-12T20:43:01.929Z"
   },
   {
    "duration": -47,
    "start_time": "2021-08-12T20:43:01.934Z"
   },
   {
    "duration": -48,
    "start_time": "2021-08-12T20:43:01.937Z"
   },
   {
    "duration": -110,
    "start_time": "2021-08-12T20:43:02.001Z"
   },
   {
    "duration": -118,
    "start_time": "2021-08-12T20:43:02.011Z"
   },
   {
    "duration": -119,
    "start_time": "2021-08-12T20:43:02.014Z"
   },
   {
    "duration": -120,
    "start_time": "2021-08-12T20:43:02.017Z"
   },
   {
    "duration": -121,
    "start_time": "2021-08-12T20:43:02.020Z"
   },
   {
    "duration": -123,
    "start_time": "2021-08-12T20:43:02.024Z"
   },
   {
    "duration": -123,
    "start_time": "2021-08-12T20:43:02.026Z"
   },
   {
    "duration": -124,
    "start_time": "2021-08-12T20:43:02.029Z"
   },
   {
    "duration": -124,
    "start_time": "2021-08-12T20:43:02.031Z"
   },
   {
    "duration": -126,
    "start_time": "2021-08-12T20:43:02.035Z"
   },
   {
    "duration": -127,
    "start_time": "2021-08-12T20:43:02.038Z"
   },
   {
    "duration": -127,
    "start_time": "2021-08-12T20:43:02.040Z"
   },
   {
    "duration": -128,
    "start_time": "2021-08-12T20:43:02.043Z"
   },
   {
    "duration": -129,
    "start_time": "2021-08-12T20:43:02.045Z"
   },
   {
    "duration": -129,
    "start_time": "2021-08-12T20:43:02.047Z"
   },
   {
    "duration": -129,
    "start_time": "2021-08-12T20:43:02.050Z"
   },
   {
    "duration": -129,
    "start_time": "2021-08-12T20:43:02.052Z"
   },
   {
    "duration": -130,
    "start_time": "2021-08-12T20:43:02.054Z"
   },
   {
    "duration": -130,
    "start_time": "2021-08-12T20:43:02.056Z"
   },
   {
    "duration": -130,
    "start_time": "2021-08-12T20:43:02.058Z"
   },
   {
    "duration": -79,
    "start_time": "2021-08-12T20:43:02.060Z"
   },
   {
    "duration": -78,
    "start_time": "2021-08-12T20:43:02.062Z"
   },
   {
    "duration": -78,
    "start_time": "2021-08-12T20:43:02.064Z"
   },
   {
    "duration": -78,
    "start_time": "2021-08-12T20:43:02.066Z"
   },
   {
    "duration": -78,
    "start_time": "2021-08-12T20:43:02.068Z"
   },
   {
    "duration": -78,
    "start_time": "2021-08-12T20:43:02.070Z"
   },
   {
    "duration": -86,
    "start_time": "2021-08-12T20:43:02.080Z"
   },
   {
    "duration": -87,
    "start_time": "2021-08-12T20:43:02.083Z"
   },
   {
    "duration": -87,
    "start_time": "2021-08-12T20:43:02.085Z"
   },
   {
    "duration": -88,
    "start_time": "2021-08-12T20:43:02.088Z"
   },
   {
    "duration": -88,
    "start_time": "2021-08-12T20:43:02.090Z"
   },
   {
    "duration": -88,
    "start_time": "2021-08-12T20:43:02.092Z"
   },
   {
    "duration": 581,
    "start_time": "2021-08-12T20:54:38.612Z"
   },
   {
    "duration": 277,
    "start_time": "2021-08-12T20:55:00.254Z"
   },
   {
    "duration": 258,
    "start_time": "2021-08-12T20:55:32.817Z"
   },
   {
    "duration": 296,
    "start_time": "2021-08-12T20:56:00.178Z"
   },
   {
    "duration": 300,
    "start_time": "2021-08-12T20:57:00.765Z"
   },
   {
    "duration": 260,
    "start_time": "2021-08-12T20:57:37.705Z"
   },
   {
    "duration": 239,
    "start_time": "2021-08-12T21:00:36.456Z"
   },
   {
    "duration": 18,
    "start_time": "2021-08-12T21:00:36.681Z"
   },
   {
    "duration": 15,
    "start_time": "2021-08-12T21:00:36.685Z"
   },
   {
    "duration": 12,
    "start_time": "2021-08-12T21:00:36.690Z"
   },
   {
    "duration": 3,
    "start_time": "2021-08-12T21:00:36.701Z"
   },
   {
    "duration": 0,
    "start_time": "2021-08-12T21:00:36.706Z"
   },
   {
    "duration": -5,
    "start_time": "2021-08-12T21:00:36.712Z"
   },
   {
    "duration": -7,
    "start_time": "2021-08-12T21:00:36.716Z"
   },
   {
    "duration": -7,
    "start_time": "2021-08-12T21:00:36.718Z"
   },
   {
    "duration": -30,
    "start_time": "2021-08-12T21:00:36.742Z"
   },
   {
    "duration": -32,
    "start_time": "2021-08-12T21:00:36.745Z"
   },
   {
    "duration": -33,
    "start_time": "2021-08-12T21:00:36.748Z"
   },
   {
    "duration": -35,
    "start_time": "2021-08-12T21:00:36.751Z"
   },
   {
    "duration": -36,
    "start_time": "2021-08-12T21:00:36.754Z"
   },
   {
    "duration": -38,
    "start_time": "2021-08-12T21:00:36.757Z"
   },
   {
    "duration": -45,
    "start_time": "2021-08-12T21:00:36.765Z"
   },
   {
    "duration": -47,
    "start_time": "2021-08-12T21:00:36.768Z"
   },
   {
    "duration": -48,
    "start_time": "2021-08-12T21:00:36.771Z"
   },
   {
    "duration": -49,
    "start_time": "2021-08-12T21:00:36.774Z"
   },
   {
    "duration": -51,
    "start_time": "2021-08-12T21:00:36.777Z"
   },
   {
    "duration": -53,
    "start_time": "2021-08-12T21:00:36.780Z"
   },
   {
    "duration": -54,
    "start_time": "2021-08-12T21:00:36.783Z"
   },
   {
    "duration": -55,
    "start_time": "2021-08-12T21:00:36.785Z"
   },
   {
    "duration": -57,
    "start_time": "2021-08-12T21:00:36.788Z"
   },
   {
    "duration": -57,
    "start_time": "2021-08-12T21:00:36.790Z"
   },
   {
    "duration": -59,
    "start_time": "2021-08-12T21:00:36.793Z"
   },
   {
    "duration": -19,
    "start_time": "2021-08-12T21:00:36.801Z"
   },
   {
    "duration": -20,
    "start_time": "2021-08-12T21:00:36.804Z"
   },
   {
    "duration": -22,
    "start_time": "2021-08-12T21:00:36.807Z"
   },
   {
    "duration": -25,
    "start_time": "2021-08-12T21:00:36.811Z"
   },
   {
    "duration": -25,
    "start_time": "2021-08-12T21:00:36.813Z"
   },
   {
    "duration": -29,
    "start_time": "2021-08-12T21:00:36.818Z"
   },
   {
    "duration": -33,
    "start_time": "2021-08-12T21:00:36.823Z"
   },
   {
    "duration": -33,
    "start_time": "2021-08-12T21:00:36.825Z"
   },
   {
    "duration": -34,
    "start_time": "2021-08-12T21:00:36.827Z"
   },
   {
    "duration": -37,
    "start_time": "2021-08-12T21:00:36.831Z"
   },
   {
    "duration": 274,
    "start_time": "2021-08-12T21:02:03.990Z"
   },
   {
    "duration": 4,
    "start_time": "2021-08-12T21:05:32.704Z"
   },
   {
    "duration": 257,
    "start_time": "2021-08-12T21:05:32.711Z"
   },
   {
    "duration": 38,
    "start_time": "2021-08-12T21:05:32.972Z"
   },
   {
    "duration": 69,
    "start_time": "2021-08-12T21:05:33.014Z"
   },
   {
    "duration": 5,
    "start_time": "2021-08-12T21:05:33.086Z"
   },
   {
    "duration": 12,
    "start_time": "2021-08-12T21:05:33.094Z"
   },
   {
    "duration": 5,
    "start_time": "2021-08-12T21:05:33.109Z"
   },
   {
    "duration": 3,
    "start_time": "2021-08-12T21:05:33.118Z"
   },
   {
    "duration": 6,
    "start_time": "2021-08-12T21:05:33.125Z"
   },
   {
    "duration": 7,
    "start_time": "2021-08-12T21:05:33.134Z"
   },
   {
    "duration": 4,
    "start_time": "2021-08-12T21:05:33.144Z"
   },
   {
    "duration": 15,
    "start_time": "2021-08-12T21:05:33.183Z"
   },
   {
    "duration": 5,
    "start_time": "2021-08-12T21:05:33.201Z"
   },
   {
    "duration": 5,
    "start_time": "2021-08-12T21:05:33.209Z"
   },
   {
    "duration": 6,
    "start_time": "2021-08-12T21:05:33.217Z"
   },
   {
    "duration": 5,
    "start_time": "2021-08-12T21:05:33.226Z"
   },
   {
    "duration": 6,
    "start_time": "2021-08-12T21:05:33.234Z"
   },
   {
    "duration": 43,
    "start_time": "2021-08-12T21:05:33.242Z"
   },
   {
    "duration": 12,
    "start_time": "2021-08-12T21:05:33.289Z"
   },
   {
    "duration": 4,
    "start_time": "2021-08-12T21:05:33.305Z"
   },
   {
    "duration": 7,
    "start_time": "2021-08-12T21:05:33.312Z"
   },
   {
    "duration": 5,
    "start_time": "2021-08-12T21:05:33.321Z"
   },
   {
    "duration": 4,
    "start_time": "2021-08-12T21:05:33.331Z"
   },
   {
    "duration": 5,
    "start_time": "2021-08-12T21:05:33.337Z"
   },
   {
    "duration": 42,
    "start_time": "2021-08-12T21:05:33.344Z"
   },
   {
    "duration": 14,
    "start_time": "2021-08-12T21:05:33.389Z"
   },
   {
    "duration": 4,
    "start_time": "2021-08-12T21:05:33.406Z"
   },
   {
    "duration": 5,
    "start_time": "2021-08-12T21:05:33.413Z"
   },
   {
    "duration": 5,
    "start_time": "2021-08-12T21:05:33.420Z"
   },
   {
    "duration": 9,
    "start_time": "2021-08-12T21:05:33.428Z"
   },
   {
    "duration": 10,
    "start_time": "2021-08-12T21:05:33.439Z"
   },
   {
    "duration": 7,
    "start_time": "2021-08-12T21:05:33.452Z"
   },
   {
    "duration": 3,
    "start_time": "2021-08-12T21:05:33.484Z"
   },
   {
    "duration": 8,
    "start_time": "2021-08-12T21:05:33.490Z"
   },
   {
    "duration": 8,
    "start_time": "2021-08-12T21:05:33.505Z"
   },
   {
    "duration": 8,
    "start_time": "2021-08-12T21:05:33.515Z"
   },
   {
    "duration": 5,
    "start_time": "2021-08-12T21:05:33.526Z"
   },
   {
    "duration": 5,
    "start_time": "2021-08-12T21:05:33.534Z"
   },
   {
    "duration": 4,
    "start_time": "2021-08-12T21:06:45.003Z"
   },
   {
    "duration": 215,
    "start_time": "2021-08-12T21:06:45.009Z"
   },
   {
    "duration": 16,
    "start_time": "2021-08-12T21:06:45.228Z"
   },
   {
    "duration": 60,
    "start_time": "2021-08-12T21:06:45.248Z"
   },
   {
    "duration": 5,
    "start_time": "2021-08-12T21:06:45.311Z"
   },
   {
    "duration": 5,
    "start_time": "2021-08-12T21:06:45.318Z"
   },
   {
    "duration": 4,
    "start_time": "2021-08-12T21:06:45.327Z"
   },
   {
    "duration": 6,
    "start_time": "2021-08-12T21:06:45.334Z"
   },
   {
    "duration": 46,
    "start_time": "2021-08-12T21:06:45.342Z"
   },
   {
    "duration": 3,
    "start_time": "2021-08-12T21:06:45.397Z"
   },
   {
    "duration": 11,
    "start_time": "2021-08-12T21:06:45.406Z"
   },
   {
    "duration": 11,
    "start_time": "2021-08-12T21:06:45.420Z"
   },
   {
    "duration": 5,
    "start_time": "2021-08-12T21:06:45.434Z"
   },
   {
    "duration": 4,
    "start_time": "2021-08-12T21:06:45.442Z"
   },
   {
    "duration": 5,
    "start_time": "2021-08-12T21:06:45.449Z"
   },
   {
    "duration": 10,
    "start_time": "2021-08-12T21:06:45.482Z"
   },
   {
    "duration": 10,
    "start_time": "2021-08-12T21:06:45.495Z"
   },
   {
    "duration": 6,
    "start_time": "2021-08-12T21:06:45.508Z"
   },
   {
    "duration": 4,
    "start_time": "2021-08-12T21:06:45.519Z"
   },
   {
    "duration": 4,
    "start_time": "2021-08-12T21:06:45.526Z"
   },
   {
    "duration": 6,
    "start_time": "2021-08-12T21:06:45.533Z"
   },
   {
    "duration": 5,
    "start_time": "2021-08-12T21:06:45.542Z"
   },
   {
    "duration": 6,
    "start_time": "2021-08-12T21:06:45.583Z"
   },
   {
    "duration": 4,
    "start_time": "2021-08-12T21:06:45.592Z"
   },
   {
    "duration": 17,
    "start_time": "2021-08-12T21:06:45.600Z"
   },
   {
    "duration": 12,
    "start_time": "2021-08-12T21:06:45.620Z"
   },
   {
    "duration": 5,
    "start_time": "2021-08-12T21:06:45.634Z"
   },
   {
    "duration": 5,
    "start_time": "2021-08-12T21:06:45.642Z"
   },
   {
    "duration": 5,
    "start_time": "2021-08-12T21:06:45.649Z"
   },
   {
    "duration": 10,
    "start_time": "2021-08-12T21:06:45.684Z"
   },
   {
    "duration": 8,
    "start_time": "2021-08-12T21:06:45.696Z"
   },
   {
    "duration": 5,
    "start_time": "2021-08-12T21:06:45.707Z"
   },
   {
    "duration": 10,
    "start_time": "2021-08-12T21:06:45.715Z"
   },
   {
    "duration": 6,
    "start_time": "2021-08-12T21:06:45.727Z"
   },
   {
    "duration": 4,
    "start_time": "2021-08-12T21:06:45.736Z"
   },
   {
    "duration": 42,
    "start_time": "2021-08-12T21:06:45.743Z"
   },
   {
    "duration": 13,
    "start_time": "2021-08-12T21:06:45.789Z"
   },
   {
    "duration": 6,
    "start_time": "2021-08-12T21:06:45.804Z"
   },
   {
    "duration": 4,
    "start_time": "2021-08-12T21:34:29.050Z"
   },
   {
    "duration": 206,
    "start_time": "2021-08-12T21:34:29.057Z"
   },
   {
    "duration": 23,
    "start_time": "2021-08-12T21:34:29.266Z"
   },
   {
    "duration": 33,
    "start_time": "2021-08-12T21:34:29.291Z"
   },
   {
    "duration": 5,
    "start_time": "2021-08-12T21:34:29.326Z"
   },
   {
    "duration": 3,
    "start_time": "2021-08-12T21:34:29.334Z"
   },
   {
    "duration": 41,
    "start_time": "2021-08-12T21:34:29.341Z"
   },
   {
    "duration": 3,
    "start_time": "2021-08-12T21:34:29.385Z"
   },
   {
    "duration": 6,
    "start_time": "2021-08-12T21:34:29.391Z"
   },
   {
    "duration": 4,
    "start_time": "2021-08-12T21:34:29.400Z"
   },
   {
    "duration": 6,
    "start_time": "2021-08-12T21:34:29.406Z"
   },
   {
    "duration": 9,
    "start_time": "2021-08-12T21:34:29.414Z"
   },
   {
    "duration": 6,
    "start_time": "2021-08-12T21:34:29.425Z"
   },
   {
    "duration": 9,
    "start_time": "2021-08-12T21:34:29.433Z"
   },
   {
    "duration": 38,
    "start_time": "2021-08-12T21:34:29.445Z"
   },
   {
    "duration": 6,
    "start_time": "2021-08-12T21:34:29.485Z"
   },
   {
    "duration": 4,
    "start_time": "2021-08-12T21:34:29.494Z"
   },
   {
    "duration": 6,
    "start_time": "2021-08-12T21:34:29.501Z"
   },
   {
    "duration": 3,
    "start_time": "2021-08-12T21:34:29.513Z"
   },
   {
    "duration": 4,
    "start_time": "2021-08-12T21:34:29.520Z"
   },
   {
    "duration": 10,
    "start_time": "2021-08-12T21:34:29.527Z"
   },
   {
    "duration": 42,
    "start_time": "2021-08-12T21:34:29.540Z"
   },
   {
    "duration": 4,
    "start_time": "2021-08-12T21:34:29.585Z"
   },
   {
    "duration": 9,
    "start_time": "2021-08-12T21:34:29.592Z"
   },
   {
    "duration": 6,
    "start_time": "2021-08-12T21:34:29.604Z"
   },
   {
    "duration": 8,
    "start_time": "2021-08-12T21:34:29.612Z"
   },
   {
    "duration": 7,
    "start_time": "2021-08-12T21:34:29.623Z"
   },
   {
    "duration": 5,
    "start_time": "2021-08-12T21:34:29.632Z"
   },
   {
    "duration": 6,
    "start_time": "2021-08-12T21:34:29.639Z"
   },
   {
    "duration": 35,
    "start_time": "2021-08-12T21:34:29.647Z"
   },
   {
    "duration": 3,
    "start_time": "2021-08-12T21:34:29.685Z"
   },
   {
    "duration": 7,
    "start_time": "2021-08-12T21:34:29.691Z"
   },
   {
    "duration": 14,
    "start_time": "2021-08-12T21:34:29.700Z"
   },
   {
    "duration": 6,
    "start_time": "2021-08-12T21:34:29.716Z"
   },
   {
    "duration": 4,
    "start_time": "2021-08-12T21:34:29.725Z"
   },
   {
    "duration": 7,
    "start_time": "2021-08-12T21:34:29.731Z"
   },
   {
    "duration": 5,
    "start_time": "2021-08-12T21:34:29.742Z"
   },
   {
    "duration": 6,
    "start_time": "2021-08-12T21:34:29.782Z"
   },
   {
    "duration": 4,
    "start_time": "2021-08-12T21:36:55.050Z"
   },
   {
    "duration": 205,
    "start_time": "2021-08-12T21:36:55.057Z"
   },
   {
    "duration": 19,
    "start_time": "2021-08-12T21:36:55.265Z"
   },
   {
    "duration": 30,
    "start_time": "2021-08-12T21:36:55.286Z"
   },
   {
    "duration": 5,
    "start_time": "2021-08-12T21:36:55.319Z"
   },
   {
    "duration": 25,
    "start_time": "2021-08-12T21:36:55.326Z"
   },
   {
    "duration": 6,
    "start_time": "2021-08-12T21:36:55.384Z"
   },
   {
    "duration": 6,
    "start_time": "2021-08-12T21:36:55.393Z"
   },
   {
    "duration": 9,
    "start_time": "2021-08-12T21:36:55.401Z"
   },
   {
    "duration": 10,
    "start_time": "2021-08-12T21:36:55.412Z"
   },
   {
    "duration": 12,
    "start_time": "2021-08-12T21:36:55.424Z"
   },
   {
    "duration": 6,
    "start_time": "2021-08-12T21:36:55.438Z"
   },
   {
    "duration": 5,
    "start_time": "2021-08-12T21:36:55.446Z"
   },
   {
    "duration": 5,
    "start_time": "2021-08-12T21:36:55.453Z"
   },
   {
    "duration": 3,
    "start_time": "2021-08-12T21:36:55.483Z"
   },
   {
    "duration": 5,
    "start_time": "2021-08-12T21:36:55.488Z"
   },
   {
    "duration": 5,
    "start_time": "2021-08-12T21:36:55.495Z"
   },
   {
    "duration": 6,
    "start_time": "2021-08-12T21:36:55.502Z"
   },
   {
    "duration": 4,
    "start_time": "2021-08-12T21:36:55.512Z"
   },
   {
    "duration": 6,
    "start_time": "2021-08-12T21:36:55.519Z"
   },
   {
    "duration": 9,
    "start_time": "2021-08-12T21:36:55.527Z"
   },
   {
    "duration": 3,
    "start_time": "2021-08-12T21:36:55.584Z"
   },
   {
    "duration": 5,
    "start_time": "2021-08-12T21:36:55.590Z"
   },
   {
    "duration": 6,
    "start_time": "2021-08-12T21:36:55.598Z"
   },
   {
    "duration": 5,
    "start_time": "2021-08-12T21:36:55.607Z"
   },
   {
    "duration": 7,
    "start_time": "2021-08-12T21:36:55.615Z"
   },
   {
    "duration": 15,
    "start_time": "2021-08-12T21:36:55.624Z"
   },
   {
    "duration": 6,
    "start_time": "2021-08-12T21:36:55.641Z"
   },
   {
    "duration": 33,
    "start_time": "2021-08-12T21:36:55.650Z"
   },
   {
    "duration": 5,
    "start_time": "2021-08-12T21:36:55.685Z"
   },
   {
    "duration": 11,
    "start_time": "2021-08-12T21:36:55.693Z"
   },
   {
    "duration": 8,
    "start_time": "2021-08-12T21:36:55.707Z"
   },
   {
    "duration": 14,
    "start_time": "2021-08-12T21:36:55.717Z"
   },
   {
    "duration": 5,
    "start_time": "2021-08-12T21:36:55.733Z"
   },
   {
    "duration": 5,
    "start_time": "2021-08-12T21:36:55.740Z"
   },
   {
    "duration": 6,
    "start_time": "2021-08-12T21:36:55.747Z"
   },
   {
    "duration": 28,
    "start_time": "2021-08-12T21:36:55.755Z"
   },
   {
    "duration": 7,
    "start_time": "2021-08-12T21:36:55.786Z"
   },
   {
    "duration": 4,
    "start_time": "2021-08-12T21:41:25.754Z"
   },
   {
    "duration": 221,
    "start_time": "2021-08-12T21:41:25.761Z"
   },
   {
    "duration": 15,
    "start_time": "2021-08-12T21:41:25.985Z"
   },
   {
    "duration": 31,
    "start_time": "2021-08-12T21:41:26.003Z"
   },
   {
    "duration": 5,
    "start_time": "2021-08-12T21:41:26.037Z"
   },
   {
    "duration": 57,
    "start_time": "2021-08-12T21:41:26.045Z"
   },
   {
    "duration": 6,
    "start_time": "2021-08-12T21:41:26.105Z"
   },
   {
    "duration": 49,
    "start_time": "2021-08-12T21:41:26.114Z"
   },
   {
    "duration": 3,
    "start_time": "2021-08-12T21:41:26.184Z"
   },
   {
    "duration": 7,
    "start_time": "2021-08-12T21:41:26.190Z"
   },
   {
    "duration": 4,
    "start_time": "2021-08-12T21:41:26.200Z"
   },
   {
    "duration": 5,
    "start_time": "2021-08-12T21:41:26.207Z"
   },
   {
    "duration": 5,
    "start_time": "2021-08-12T21:41:26.215Z"
   },
   {
    "duration": 4,
    "start_time": "2021-08-12T21:41:26.223Z"
   },
   {
    "duration": 6,
    "start_time": "2021-08-12T21:41:26.230Z"
   },
   {
    "duration": 44,
    "start_time": "2021-08-12T21:41:26.239Z"
   },
   {
    "duration": 4,
    "start_time": "2021-08-12T21:41:26.286Z"
   },
   {
    "duration": 5,
    "start_time": "2021-08-12T21:41:26.292Z"
   },
   {
    "duration": 4,
    "start_time": "2021-08-12T21:41:26.304Z"
   },
   {
    "duration": 4,
    "start_time": "2021-08-12T21:41:26.311Z"
   },
   {
    "duration": 10,
    "start_time": "2021-08-12T21:41:26.318Z"
   },
   {
    "duration": 9,
    "start_time": "2021-08-12T21:41:26.330Z"
   },
   {
    "duration": 40,
    "start_time": "2021-08-12T21:41:26.342Z"
   },
   {
    "duration": 3,
    "start_time": "2021-08-12T21:41:26.385Z"
   },
   {
    "duration": 4,
    "start_time": "2021-08-12T21:41:26.391Z"
   },
   {
    "duration": 16,
    "start_time": "2021-08-12T21:41:26.397Z"
   },
   {
    "duration": 5,
    "start_time": "2021-08-12T21:41:26.415Z"
   },
   {
    "duration": 6,
    "start_time": "2021-08-12T21:41:26.423Z"
   },
   {
    "duration": 8,
    "start_time": "2021-08-12T21:41:26.431Z"
   },
   {
    "duration": 41,
    "start_time": "2021-08-12T21:41:26.442Z"
   },
   {
    "duration": 7,
    "start_time": "2021-08-12T21:41:26.485Z"
   },
   {
    "duration": 5,
    "start_time": "2021-08-12T21:41:26.494Z"
   },
   {
    "duration": 7,
    "start_time": "2021-08-12T21:41:26.502Z"
   },
   {
    "duration": 5,
    "start_time": "2021-08-12T21:41:26.511Z"
   },
   {
    "duration": 6,
    "start_time": "2021-08-12T21:41:26.519Z"
   },
   {
    "duration": 5,
    "start_time": "2021-08-12T21:41:26.527Z"
   },
   {
    "duration": 4,
    "start_time": "2021-08-12T21:41:26.535Z"
   },
   {
    "duration": 10,
    "start_time": "2021-08-12T21:41:26.583Z"
   },
   {
    "duration": 3,
    "start_time": "2021-08-12T21:41:39.722Z"
   },
   {
    "duration": 174,
    "start_time": "2021-08-12T21:41:39.729Z"
   },
   {
    "duration": 14,
    "start_time": "2021-08-12T21:41:39.906Z"
   },
   {
    "duration": 34,
    "start_time": "2021-08-12T21:41:39.922Z"
   },
   {
    "duration": 26,
    "start_time": "2021-08-12T21:41:39.958Z"
   },
   {
    "duration": 29,
    "start_time": "2021-08-12T21:41:39.986Z"
   },
   {
    "duration": 5,
    "start_time": "2021-08-12T21:41:40.019Z"
   },
   {
    "duration": 57,
    "start_time": "2021-08-12T21:41:40.027Z"
   },
   {
    "duration": 3,
    "start_time": "2021-08-12T21:41:40.086Z"
   },
   {
    "duration": 10,
    "start_time": "2021-08-12T21:41:40.091Z"
   },
   {
    "duration": 8,
    "start_time": "2021-08-12T21:41:40.103Z"
   },
   {
    "duration": 10,
    "start_time": "2021-08-12T21:41:40.114Z"
   },
   {
    "duration": 5,
    "start_time": "2021-08-12T21:41:40.126Z"
   },
   {
    "duration": 4,
    "start_time": "2021-08-12T21:41:40.134Z"
   },
   {
    "duration": 4,
    "start_time": "2021-08-12T21:41:40.141Z"
   },
   {
    "duration": 37,
    "start_time": "2021-08-12T21:41:40.148Z"
   },
   {
    "duration": 15,
    "start_time": "2021-08-12T21:41:40.187Z"
   },
   {
    "duration": 10,
    "start_time": "2021-08-12T21:41:40.204Z"
   },
   {
    "duration": 17,
    "start_time": "2021-08-12T21:41:40.218Z"
   },
   {
    "duration": 14,
    "start_time": "2021-08-12T21:41:40.238Z"
   },
   {
    "duration": 18,
    "start_time": "2021-08-12T21:41:40.254Z"
   },
   {
    "duration": 12,
    "start_time": "2021-08-12T21:41:40.274Z"
   },
   {
    "duration": 13,
    "start_time": "2021-08-12T21:41:40.288Z"
   },
   {
    "duration": 11,
    "start_time": "2021-08-12T21:41:40.303Z"
   },
   {
    "duration": 16,
    "start_time": "2021-08-12T21:41:40.316Z"
   },
   {
    "duration": 31,
    "start_time": "2021-08-12T21:41:40.334Z"
   },
   {
    "duration": 12,
    "start_time": "2021-08-12T21:41:40.368Z"
   },
   {
    "duration": 15,
    "start_time": "2021-08-12T21:41:40.383Z"
   },
   {
    "duration": 9,
    "start_time": "2021-08-12T21:41:40.401Z"
   },
   {
    "duration": 8,
    "start_time": "2021-08-12T21:41:40.413Z"
   },
   {
    "duration": 24,
    "start_time": "2021-08-12T21:41:40.424Z"
   },
   {
    "duration": 6,
    "start_time": "2021-08-12T21:41:40.451Z"
   },
   {
    "duration": 7,
    "start_time": "2021-08-12T21:41:40.459Z"
   },
   {
    "duration": 6,
    "start_time": "2021-08-12T21:41:40.469Z"
   },
   {
    "duration": 7,
    "start_time": "2021-08-12T21:41:40.477Z"
   },
   {
    "duration": 9,
    "start_time": "2021-08-12T21:41:40.487Z"
   },
   {
    "duration": 6,
    "start_time": "2021-08-12T21:41:40.499Z"
   },
   {
    "duration": 5,
    "start_time": "2021-08-12T21:41:40.508Z"
   },
   {
    "duration": 3,
    "start_time": "2021-08-12T21:53:11.437Z"
   },
   {
    "duration": 198,
    "start_time": "2021-08-12T21:53:11.443Z"
   },
   {
    "duration": 15,
    "start_time": "2021-08-12T21:53:11.643Z"
   },
   {
    "duration": 49,
    "start_time": "2021-08-12T21:53:11.661Z"
   },
   {
    "duration": 5,
    "start_time": "2021-08-12T21:53:11.713Z"
   },
   {
    "duration": 26,
    "start_time": "2021-08-12T21:53:11.720Z"
   },
   {
    "duration": 34,
    "start_time": "2021-08-12T21:53:11.749Z"
   },
   {
    "duration": 31,
    "start_time": "2021-08-12T21:53:11.785Z"
   },
   {
    "duration": 294,
    "start_time": "2021-08-12T21:53:11.819Z"
   },
   {
    "duration": 52,
    "start_time": "2021-08-12T21:53:12.064Z"
   },
   {
    "duration": 30,
    "start_time": "2021-08-12T21:53:12.088Z"
   },
   {
    "duration": 24,
    "start_time": "2021-08-12T21:53:12.096Z"
   },
   {
    "duration": 22,
    "start_time": "2021-08-12T21:53:12.099Z"
   },
   {
    "duration": 21,
    "start_time": "2021-08-12T21:53:12.101Z"
   },
   {
    "duration": 19,
    "start_time": "2021-08-12T21:53:12.105Z"
   },
   {
    "duration": 17,
    "start_time": "2021-08-12T21:53:12.108Z"
   },
   {
    "duration": 16,
    "start_time": "2021-08-12T21:53:12.111Z"
   },
   {
    "duration": 16,
    "start_time": "2021-08-12T21:53:12.113Z"
   },
   {
    "duration": 15,
    "start_time": "2021-08-12T21:53:12.115Z"
   },
   {
    "duration": 14,
    "start_time": "2021-08-12T21:53:12.118Z"
   },
   {
    "duration": 11,
    "start_time": "2021-08-12T21:53:12.122Z"
   },
   {
    "duration": 5,
    "start_time": "2021-08-12T21:53:12.130Z"
   },
   {
    "duration": 2,
    "start_time": "2021-08-12T21:53:12.134Z"
   },
   {
    "duration": 1,
    "start_time": "2021-08-12T21:53:12.137Z"
   },
   {
    "duration": -17,
    "start_time": "2021-08-12T21:53:12.157Z"
   },
   {
    "duration": -19,
    "start_time": "2021-08-12T21:53:12.160Z"
   },
   {
    "duration": -20,
    "start_time": "2021-08-12T21:53:12.163Z"
   },
   {
    "duration": -22,
    "start_time": "2021-08-12T21:53:12.166Z"
   },
   {
    "duration": -27,
    "start_time": "2021-08-12T21:53:12.173Z"
   },
   {
    "duration": -28,
    "start_time": "2021-08-12T21:53:12.176Z"
   },
   {
    "duration": -29,
    "start_time": "2021-08-12T21:53:12.179Z"
   },
   {
    "duration": -30,
    "start_time": "2021-08-12T21:53:12.182Z"
   },
   {
    "duration": -4,
    "start_time": "2021-08-12T21:53:12.185Z"
   },
   {
    "duration": -5,
    "start_time": "2021-08-12T21:53:12.188Z"
   },
   {
    "duration": -6,
    "start_time": "2021-08-12T21:53:12.191Z"
   },
   {
    "duration": -6,
    "start_time": "2021-08-12T21:53:12.193Z"
   },
   {
    "duration": -7,
    "start_time": "2021-08-12T21:53:12.196Z"
   },
   {
    "duration": -7,
    "start_time": "2021-08-12T21:53:12.198Z"
   },
   {
    "duration": 4,
    "start_time": "2021-08-12T21:56:06.123Z"
   },
   {
    "duration": 201,
    "start_time": "2021-08-12T21:56:06.131Z"
   },
   {
    "duration": 18,
    "start_time": "2021-08-12T21:56:06.336Z"
   },
   {
    "duration": 51,
    "start_time": "2021-08-12T21:56:06.357Z"
   },
   {
    "duration": 7,
    "start_time": "2021-08-12T21:56:06.411Z"
   },
   {
    "duration": 65,
    "start_time": "2021-08-12T21:56:06.421Z"
   },
   {
    "duration": 6,
    "start_time": "2021-08-12T21:56:06.489Z"
   },
   {
    "duration": 36,
    "start_time": "2021-08-12T21:56:06.499Z"
   },
   {
    "duration": 287,
    "start_time": "2021-08-12T21:56:06.540Z"
   },
   {
    "duration": 23,
    "start_time": "2021-08-12T21:56:06.808Z"
   },
   {
    "duration": 17,
    "start_time": "2021-08-12T21:56:06.815Z"
   },
   {
    "duration": -2,
    "start_time": "2021-08-12T21:56:06.836Z"
   },
   {
    "duration": -6,
    "start_time": "2021-08-12T21:56:06.841Z"
   },
   {
    "duration": -8,
    "start_time": "2021-08-12T21:56:06.844Z"
   },
   {
    "duration": -9,
    "start_time": "2021-08-12T21:56:06.847Z"
   },
   {
    "duration": -11,
    "start_time": "2021-08-12T21:56:06.850Z"
   },
   {
    "duration": -12,
    "start_time": "2021-08-12T21:56:06.853Z"
   },
   {
    "duration": -13,
    "start_time": "2021-08-12T21:56:06.855Z"
   },
   {
    "duration": -15,
    "start_time": "2021-08-12T21:56:06.858Z"
   },
   {
    "duration": -18,
    "start_time": "2021-08-12T21:56:06.863Z"
   },
   {
    "duration": -20,
    "start_time": "2021-08-12T21:56:06.866Z"
   },
   {
    "duration": -22,
    "start_time": "2021-08-12T21:56:06.869Z"
   },
   {
    "duration": -24,
    "start_time": "2021-08-12T21:56:06.873Z"
   },
   {
    "duration": -25,
    "start_time": "2021-08-12T21:56:06.875Z"
   },
   {
    "duration": -28,
    "start_time": "2021-08-12T21:56:06.879Z"
   },
   {
    "duration": -28,
    "start_time": "2021-08-12T21:56:06.881Z"
   },
   {
    "duration": -31,
    "start_time": "2021-08-12T21:56:06.885Z"
   },
   {
    "duration": -32,
    "start_time": "2021-08-12T21:56:06.887Z"
   },
   {
    "duration": -33,
    "start_time": "2021-08-12T21:56:06.890Z"
   },
   {
    "duration": -33,
    "start_time": "2021-08-12T21:56:06.892Z"
   },
   {
    "duration": -43,
    "start_time": "2021-08-12T21:56:06.903Z"
   },
   {
    "duration": -44,
    "start_time": "2021-08-12T21:56:06.905Z"
   },
   {
    "duration": -46,
    "start_time": "2021-08-12T21:56:06.909Z"
   },
   {
    "duration": -48,
    "start_time": "2021-08-12T21:56:06.912Z"
   },
   {
    "duration": -50,
    "start_time": "2021-08-12T21:56:06.915Z"
   },
   {
    "duration": -36,
    "start_time": "2021-08-12T21:56:06.917Z"
   },
   {
    "duration": -36,
    "start_time": "2021-08-12T21:56:06.919Z"
   },
   {
    "duration": -36,
    "start_time": "2021-08-12T21:56:06.921Z"
   },
   {
    "duration": 5,
    "start_time": "2021-08-12T21:59:54.269Z"
   },
   {
    "duration": 182,
    "start_time": "2021-08-12T21:59:54.277Z"
   },
   {
    "duration": 24,
    "start_time": "2021-08-12T21:59:54.462Z"
   },
   {
    "duration": 32,
    "start_time": "2021-08-12T21:59:54.490Z"
   },
   {
    "duration": 6,
    "start_time": "2021-08-12T21:59:54.524Z"
   },
   {
    "duration": 62,
    "start_time": "2021-08-12T21:59:54.532Z"
   },
   {
    "duration": 5,
    "start_time": "2021-08-12T21:59:54.596Z"
   },
   {
    "duration": 33,
    "start_time": "2021-08-12T21:59:54.603Z"
   },
   {
    "duration": 8145,
    "start_time": "2021-08-12T21:59:54.640Z"
   },
   {
    "duration": -1,
    "start_time": "2021-08-12T22:00:02.790Z"
   },
   {
    "duration": -5,
    "start_time": "2021-08-12T22:00:02.795Z"
   },
   {
    "duration": -8,
    "start_time": "2021-08-12T22:00:02.799Z"
   },
   {
    "duration": -9,
    "start_time": "2021-08-12T22:00:02.802Z"
   },
   {
    "duration": -11,
    "start_time": "2021-08-12T22:00:02.805Z"
   },
   {
    "duration": -14,
    "start_time": "2021-08-12T22:00:02.809Z"
   },
   {
    "duration": -15,
    "start_time": "2021-08-12T22:00:02.812Z"
   },
   {
    "duration": -17,
    "start_time": "2021-08-12T22:00:02.815Z"
   },
   {
    "duration": -18,
    "start_time": "2021-08-12T22:00:02.818Z"
   },
   {
    "duration": -21,
    "start_time": "2021-08-12T22:00:02.823Z"
   },
   {
    "duration": -23,
    "start_time": "2021-08-12T22:00:02.826Z"
   },
   {
    "duration": -24,
    "start_time": "2021-08-12T22:00:02.829Z"
   },
   {
    "duration": -26,
    "start_time": "2021-08-12T22:00:02.832Z"
   },
   {
    "duration": -27,
    "start_time": "2021-08-12T22:00:02.834Z"
   },
   {
    "duration": -29,
    "start_time": "2021-08-12T22:00:02.837Z"
   },
   {
    "duration": -29,
    "start_time": "2021-08-12T22:00:02.839Z"
   },
   {
    "duration": -35,
    "start_time": "2021-08-12T22:00:02.847Z"
   },
   {
    "duration": -38,
    "start_time": "2021-08-12T22:00:02.851Z"
   },
   {
    "duration": -39,
    "start_time": "2021-08-12T22:00:02.853Z"
   },
   {
    "duration": -41,
    "start_time": "2021-08-12T22:00:02.857Z"
   },
   {
    "duration": -42,
    "start_time": "2021-08-12T22:00:02.859Z"
   },
   {
    "duration": -45,
    "start_time": "2021-08-12T22:00:02.863Z"
   },
   {
    "duration": -45,
    "start_time": "2021-08-12T22:00:02.865Z"
   },
   {
    "duration": -46,
    "start_time": "2021-08-12T22:00:02.868Z"
   },
   {
    "duration": -46,
    "start_time": "2021-08-12T22:00:02.870Z"
   },
   {
    "duration": 8,
    "start_time": "2021-08-12T22:00:02.873Z"
   },
   {
    "duration": 9,
    "start_time": "2021-08-12T22:00:02.875Z"
   },
   {
    "duration": 9,
    "start_time": "2021-08-12T22:00:02.877Z"
   },
   {
    "duration": 9,
    "start_time": "2021-08-12T22:00:02.879Z"
   },
   {
    "duration": 4,
    "start_time": "2021-08-12T22:03:41.669Z"
   },
   {
    "duration": 261,
    "start_time": "2021-08-12T22:03:41.676Z"
   },
   {
    "duration": 20,
    "start_time": "2021-08-12T22:03:41.941Z"
   },
   {
    "duration": 57,
    "start_time": "2021-08-12T22:03:41.964Z"
   },
   {
    "duration": 6,
    "start_time": "2021-08-12T22:03:42.024Z"
   },
   {
    "duration": 54,
    "start_time": "2021-08-12T22:03:42.033Z"
   },
   {
    "duration": 6,
    "start_time": "2021-08-12T22:03:42.090Z"
   },
   {
    "duration": 52,
    "start_time": "2021-08-12T22:03:42.098Z"
   },
   {
    "duration": 7410,
    "start_time": "2021-08-12T22:03:42.156Z"
   },
   {
    "duration": 7,
    "start_time": "2021-08-12T22:03:49.563Z"
   },
   {
    "duration": 4,
    "start_time": "2021-08-12T22:03:49.567Z"
   },
   {
    "duration": 2,
    "start_time": "2021-08-12T22:03:49.570Z"
   },
   {
    "duration": 1,
    "start_time": "2021-08-12T22:03:49.573Z"
   },
   {
    "duration": -1,
    "start_time": "2021-08-12T22:03:49.576Z"
   },
   {
    "duration": -1,
    "start_time": "2021-08-12T22:03:49.577Z"
   },
   {
    "duration": -3,
    "start_time": "2021-08-12T22:03:49.580Z"
   },
   {
    "duration": -4,
    "start_time": "2021-08-12T22:03:49.583Z"
   },
   {
    "duration": -6,
    "start_time": "2021-08-12T22:03:49.586Z"
   },
   {
    "duration": -6,
    "start_time": "2021-08-12T22:03:49.588Z"
   },
   {
    "duration": -7,
    "start_time": "2021-08-12T22:03:49.590Z"
   },
   {
    "duration": -8,
    "start_time": "2021-08-12T22:03:49.592Z"
   },
   {
    "duration": -9,
    "start_time": "2021-08-12T22:03:49.595Z"
   },
   {
    "duration": -10,
    "start_time": "2021-08-12T22:03:49.597Z"
   },
   {
    "duration": -11,
    "start_time": "2021-08-12T22:03:49.599Z"
   },
   {
    "duration": -12,
    "start_time": "2021-08-12T22:03:49.601Z"
   },
   {
    "duration": -12,
    "start_time": "2021-08-12T22:03:49.603Z"
   },
   {
    "duration": -20,
    "start_time": "2021-08-12T22:03:49.612Z"
   },
   {
    "duration": -23,
    "start_time": "2021-08-12T22:03:49.616Z"
   },
   {
    "duration": -23,
    "start_time": "2021-08-12T22:03:49.618Z"
   },
   {
    "duration": -25,
    "start_time": "2021-08-12T22:03:49.621Z"
   },
   {
    "duration": -25,
    "start_time": "2021-08-12T22:03:49.623Z"
   },
   {
    "duration": -27,
    "start_time": "2021-08-12T22:03:49.626Z"
   },
   {
    "duration": -28,
    "start_time": "2021-08-12T22:03:49.628Z"
   },
   {
    "duration": -28,
    "start_time": "2021-08-12T22:03:49.630Z"
   },
   {
    "duration": -29,
    "start_time": "2021-08-12T22:03:49.632Z"
   },
   {
    "duration": -31,
    "start_time": "2021-08-12T22:03:49.635Z"
   },
   {
    "duration": -32,
    "start_time": "2021-08-12T22:03:49.638Z"
   },
   {
    "duration": -33,
    "start_time": "2021-08-12T22:03:49.640Z"
   },
   {
    "duration": 4,
    "start_time": "2021-08-12T22:04:39.854Z"
   },
   {
    "duration": 211,
    "start_time": "2021-08-12T22:04:39.860Z"
   },
   {
    "duration": 16,
    "start_time": "2021-08-12T22:04:40.074Z"
   },
   {
    "duration": 38,
    "start_time": "2021-08-12T22:04:40.092Z"
   },
   {
    "duration": 5,
    "start_time": "2021-08-12T22:04:40.133Z"
   },
   {
    "duration": 50,
    "start_time": "2021-08-12T22:04:40.141Z"
   },
   {
    "duration": 5,
    "start_time": "2021-08-12T22:04:40.195Z"
   },
   {
    "duration": 43,
    "start_time": "2021-08-12T22:04:40.203Z"
   },
   {
    "duration": 77,
    "start_time": "2021-08-12T22:04:40.249Z"
   },
   {
    "duration": 33,
    "start_time": "2021-08-12T22:04:40.297Z"
   },
   {
    "duration": 31,
    "start_time": "2021-08-12T22:04:40.300Z"
   },
   {
    "duration": 8,
    "start_time": "2021-08-12T22:04:40.325Z"
   },
   {
    "duration": 4,
    "start_time": "2021-08-12T22:04:40.330Z"
   },
   {
    "duration": 1,
    "start_time": "2021-08-12T22:04:40.334Z"
   },
   {
    "duration": -1,
    "start_time": "2021-08-12T22:04:40.338Z"
   },
   {
    "duration": -3,
    "start_time": "2021-08-12T22:04:40.341Z"
   },
   {
    "duration": -5,
    "start_time": "2021-08-12T22:04:40.344Z"
   },
   {
    "duration": -6,
    "start_time": "2021-08-12T22:04:40.347Z"
   },
   {
    "duration": -9,
    "start_time": "2021-08-12T22:04:40.351Z"
   },
   {
    "duration": -10,
    "start_time": "2021-08-12T22:04:40.354Z"
   },
   {
    "duration": -13,
    "start_time": "2021-08-12T22:04:40.358Z"
   },
   {
    "duration": -37,
    "start_time": "2021-08-12T22:04:40.384Z"
   },
   {
    "duration": -40,
    "start_time": "2021-08-12T22:04:40.388Z"
   },
   {
    "duration": -41,
    "start_time": "2021-08-12T22:04:40.391Z"
   },
   {
    "duration": -43,
    "start_time": "2021-08-12T22:04:40.394Z"
   },
   {
    "duration": -44,
    "start_time": "2021-08-12T22:04:40.396Z"
   },
   {
    "duration": -56,
    "start_time": "2021-08-12T22:04:40.410Z"
   },
   {
    "duration": -58,
    "start_time": "2021-08-12T22:04:40.413Z"
   },
   {
    "duration": -60,
    "start_time": "2021-08-12T22:04:40.416Z"
   },
   {
    "duration": -61,
    "start_time": "2021-08-12T22:04:40.418Z"
   },
   {
    "duration": -63,
    "start_time": "2021-08-12T22:04:40.422Z"
   },
   {
    "duration": -65,
    "start_time": "2021-08-12T22:04:40.425Z"
   },
   {
    "duration": -66,
    "start_time": "2021-08-12T22:04:40.428Z"
   },
   {
    "duration": -67,
    "start_time": "2021-08-12T22:04:40.430Z"
   },
   {
    "duration": -68,
    "start_time": "2021-08-12T22:04:40.433Z"
   },
   {
    "duration": -69,
    "start_time": "2021-08-12T22:04:40.435Z"
   },
   {
    "duration": -56,
    "start_time": "2021-08-12T22:04:40.439Z"
   },
   {
    "duration": -57,
    "start_time": "2021-08-12T22:04:40.441Z"
   },
   {
    "duration": 4,
    "start_time": "2021-08-12T22:05:01.359Z"
   },
   {
    "duration": 209,
    "start_time": "2021-08-12T22:05:01.365Z"
   },
   {
    "duration": 24,
    "start_time": "2021-08-12T22:05:01.577Z"
   },
   {
    "duration": 58,
    "start_time": "2021-08-12T22:05:01.605Z"
   },
   {
    "duration": 19,
    "start_time": "2021-08-12T22:05:01.666Z"
   },
   {
    "duration": 30,
    "start_time": "2021-08-12T22:05:01.689Z"
   },
   {
    "duration": 8,
    "start_time": "2021-08-12T22:05:01.722Z"
   },
   {
    "duration": 66,
    "start_time": "2021-08-12T22:05:01.734Z"
   },
   {
    "duration": 235,
    "start_time": "2021-08-12T22:05:01.802Z"
   },
   {
    "duration": 53,
    "start_time": "2021-08-12T22:05:01.988Z"
   },
   {
    "duration": 48,
    "start_time": "2021-08-12T22:05:01.994Z"
   },
   {
    "duration": 45,
    "start_time": "2021-08-12T22:05:01.998Z"
   },
   {
    "duration": 23,
    "start_time": "2021-08-12T22:05:02.021Z"
   },
   {
    "duration": 19,
    "start_time": "2021-08-12T22:05:02.027Z"
   },
   {
    "duration": 17,
    "start_time": "2021-08-12T22:05:02.030Z"
   },
   {
    "duration": 14,
    "start_time": "2021-08-12T22:05:02.034Z"
   },
   {
    "duration": 13,
    "start_time": "2021-08-12T22:05:02.037Z"
   },
   {
    "duration": 4,
    "start_time": "2021-08-12T22:05:02.047Z"
   },
   {
    "duration": 2,
    "start_time": "2021-08-12T22:05:02.050Z"
   },
   {
    "duration": -1,
    "start_time": "2021-08-12T22:05:02.054Z"
   },
   {
    "duration": -2,
    "start_time": "2021-08-12T22:05:02.057Z"
   },
   {
    "duration": -5,
    "start_time": "2021-08-12T22:05:02.061Z"
   },
   {
    "duration": -6,
    "start_time": "2021-08-12T22:05:02.064Z"
   },
   {
    "duration": -9,
    "start_time": "2021-08-12T22:05:02.068Z"
   },
   {
    "duration": -9,
    "start_time": "2021-08-12T22:05:02.071Z"
   },
   {
    "duration": -11,
    "start_time": "2021-08-12T22:05:02.075Z"
   },
   {
    "duration": -13,
    "start_time": "2021-08-12T22:05:02.078Z"
   },
   {
    "duration": -14,
    "start_time": "2021-08-12T22:05:02.081Z"
   },
   {
    "duration": -16,
    "start_time": "2021-08-12T22:05:02.084Z"
   },
   {
    "duration": -18,
    "start_time": "2021-08-12T22:05:02.087Z"
   },
   {
    "duration": -19,
    "start_time": "2021-08-12T22:05:02.090Z"
   },
   {
    "duration": -21,
    "start_time": "2021-08-12T22:05:02.093Z"
   },
   {
    "duration": -22,
    "start_time": "2021-08-12T22:05:02.095Z"
   },
   {
    "duration": -24,
    "start_time": "2021-08-12T22:05:02.098Z"
   },
   {
    "duration": -25,
    "start_time": "2021-08-12T22:05:02.101Z"
   },
   {
    "duration": -27,
    "start_time": "2021-08-12T22:05:02.104Z"
   },
   {
    "duration": -25,
    "start_time": "2021-08-12T22:05:02.107Z"
   },
   {
    "duration": -36,
    "start_time": "2021-08-12T22:05:02.119Z"
   },
   {
    "duration": 3,
    "start_time": "2021-08-12T22:06:16.402Z"
   },
   {
    "duration": 194,
    "start_time": "2021-08-12T22:06:16.408Z"
   },
   {
    "duration": 18,
    "start_time": "2021-08-12T22:06:16.605Z"
   },
   {
    "duration": 54,
    "start_time": "2021-08-12T22:06:16.632Z"
   },
   {
    "duration": 5,
    "start_time": "2021-08-12T22:06:16.689Z"
   },
   {
    "duration": 25,
    "start_time": "2021-08-12T22:06:16.696Z"
   },
   {
    "duration": 5,
    "start_time": "2021-08-12T22:06:16.724Z"
   },
   {
    "duration": 75,
    "start_time": "2021-08-12T22:06:16.732Z"
   },
   {
    "duration": 272,
    "start_time": "2021-08-12T22:06:16.811Z"
   },
   {
    "duration": -244,
    "start_time": "2021-08-12T22:06:17.331Z"
   },
   {
    "duration": -245,
    "start_time": "2021-08-12T22:06:17.333Z"
   },
   {
    "duration": -246,
    "start_time": "2021-08-12T22:06:17.336Z"
   },
   {
    "duration": -247,
    "start_time": "2021-08-12T22:06:17.339Z"
   },
   {
    "duration": -249,
    "start_time": "2021-08-12T22:06:17.342Z"
   },
   {
    "duration": -250,
    "start_time": "2021-08-12T22:06:17.345Z"
   },
   {
    "duration": -251,
    "start_time": "2021-08-12T22:06:17.348Z"
   },
   {
    "duration": -274,
    "start_time": "2021-08-12T22:06:17.372Z"
   },
   {
    "duration": -277,
    "start_time": "2021-08-12T22:06:17.377Z"
   },
   {
    "duration": -279,
    "start_time": "2021-08-12T22:06:17.380Z"
   },
   {
    "duration": -280,
    "start_time": "2021-08-12T22:06:17.383Z"
   },
   {
    "duration": -280,
    "start_time": "2021-08-12T22:06:17.385Z"
   },
   {
    "duration": -283,
    "start_time": "2021-08-12T22:06:17.389Z"
   },
   {
    "duration": -285,
    "start_time": "2021-08-12T22:06:17.392Z"
   },
   {
    "duration": -286,
    "start_time": "2021-08-12T22:06:17.395Z"
   },
   {
    "duration": -287,
    "start_time": "2021-08-12T22:06:17.397Z"
   },
   {
    "duration": -288,
    "start_time": "2021-08-12T22:06:17.400Z"
   },
   {
    "duration": -288,
    "start_time": "2021-08-12T22:06:17.402Z"
   },
   {
    "duration": -289,
    "start_time": "2021-08-12T22:06:17.404Z"
   },
   {
    "duration": -290,
    "start_time": "2021-08-12T22:06:17.407Z"
   },
   {
    "duration": -292,
    "start_time": "2021-08-12T22:06:17.410Z"
   },
   {
    "duration": -292,
    "start_time": "2021-08-12T22:06:17.412Z"
   },
   {
    "duration": -294,
    "start_time": "2021-08-12T22:06:17.415Z"
   },
   {
    "duration": -294,
    "start_time": "2021-08-12T22:06:17.417Z"
   },
   {
    "duration": -296,
    "start_time": "2021-08-12T22:06:17.420Z"
   },
   {
    "duration": -296,
    "start_time": "2021-08-12T22:06:17.422Z"
   },
   {
    "duration": -242,
    "start_time": "2021-08-12T22:06:17.424Z"
   },
   {
    "duration": -243,
    "start_time": "2021-08-12T22:06:17.427Z"
   },
   {
    "duration": -243,
    "start_time": "2021-08-12T22:06:17.429Z"
   },
   {
    "duration": 4,
    "start_time": "2021-08-12T22:13:59.793Z"
   },
   {
    "duration": 199,
    "start_time": "2021-08-12T22:13:59.799Z"
   },
   {
    "duration": 15,
    "start_time": "2021-08-12T22:14:00.001Z"
   },
   {
    "duration": 54,
    "start_time": "2021-08-12T22:14:00.018Z"
   },
   {
    "duration": 10,
    "start_time": "2021-08-12T22:14:00.074Z"
   },
   {
    "duration": 29,
    "start_time": "2021-08-12T22:14:00.086Z"
   },
   {
    "duration": 5,
    "start_time": "2021-08-12T22:14:00.118Z"
   },
   {
    "duration": 59,
    "start_time": "2021-08-12T22:14:00.126Z"
   },
   {
    "duration": 265,
    "start_time": "2021-08-12T22:14:00.187Z"
   },
   {
    "duration": 23,
    "start_time": "2021-08-12T22:14:00.433Z"
   },
   {
    "duration": 17,
    "start_time": "2021-08-12T22:14:00.441Z"
   },
   {
    "duration": 16,
    "start_time": "2021-08-12T22:14:00.444Z"
   },
   {
    "duration": 14,
    "start_time": "2021-08-12T22:14:00.447Z"
   },
   {
    "duration": 12,
    "start_time": "2021-08-12T22:14:00.451Z"
   },
   {
    "duration": 11,
    "start_time": "2021-08-12T22:14:00.453Z"
   },
   {
    "duration": 10,
    "start_time": "2021-08-12T22:14:00.455Z"
   },
   {
    "duration": -8,
    "start_time": "2021-08-12T22:14:00.474Z"
   },
   {
    "duration": -9,
    "start_time": "2021-08-12T22:14:00.477Z"
   },
   {
    "duration": -10,
    "start_time": "2021-08-12T22:14:00.479Z"
   },
   {
    "duration": -11,
    "start_time": "2021-08-12T22:14:00.481Z"
   },
   {
    "duration": -12,
    "start_time": "2021-08-12T22:14:00.484Z"
   },
   {
    "duration": -18,
    "start_time": "2021-08-12T22:14:00.491Z"
   },
   {
    "duration": -20,
    "start_time": "2021-08-12T22:14:00.494Z"
   },
   {
    "duration": -22,
    "start_time": "2021-08-12T22:14:00.497Z"
   },
   {
    "duration": -23,
    "start_time": "2021-08-12T22:14:00.499Z"
   },
   {
    "duration": -23,
    "start_time": "2021-08-12T22:14:00.501Z"
   },
   {
    "duration": -24,
    "start_time": "2021-08-12T22:14:00.503Z"
   },
   {
    "duration": -25,
    "start_time": "2021-08-12T22:14:00.505Z"
   },
   {
    "duration": -26,
    "start_time": "2021-08-12T22:14:00.507Z"
   },
   {
    "duration": -27,
    "start_time": "2021-08-12T22:14:00.510Z"
   },
   {
    "duration": -29,
    "start_time": "2021-08-12T22:14:00.513Z"
   },
   {
    "duration": -30,
    "start_time": "2021-08-12T22:14:00.515Z"
   },
   {
    "duration": -30,
    "start_time": "2021-08-12T22:14:00.517Z"
   },
   {
    "duration": -32,
    "start_time": "2021-08-12T22:14:00.520Z"
   },
   {
    "duration": -33,
    "start_time": "2021-08-12T22:14:00.522Z"
   },
   {
    "duration": -34,
    "start_time": "2021-08-12T22:14:00.524Z"
   },
   {
    "duration": -34,
    "start_time": "2021-08-12T22:14:00.526Z"
   },
   {
    "duration": -35,
    "start_time": "2021-08-12T22:14:00.528Z"
   },
   {
    "duration": 4,
    "start_time": "2021-08-12T22:16:45.467Z"
   },
   {
    "duration": 201,
    "start_time": "2021-08-12T22:16:45.473Z"
   },
   {
    "duration": 18,
    "start_time": "2021-08-12T22:16:45.676Z"
   },
   {
    "duration": 34,
    "start_time": "2021-08-12T22:16:45.698Z"
   },
   {
    "duration": 7,
    "start_time": "2021-08-12T22:16:45.734Z"
   },
   {
    "duration": 26,
    "start_time": "2021-08-12T22:16:45.782Z"
   },
   {
    "duration": 7,
    "start_time": "2021-08-12T22:16:45.811Z"
   },
   {
    "duration": 65,
    "start_time": "2021-08-12T22:16:45.821Z"
   },
   {
    "duration": 261,
    "start_time": "2021-08-12T22:16:45.891Z"
   },
   {
    "duration": 10,
    "start_time": "2021-08-12T22:16:46.145Z"
   },
   {
    "duration": 9,
    "start_time": "2021-08-12T22:16:46.148Z"
   },
   {
    "duration": -12,
    "start_time": "2021-08-12T22:16:46.170Z"
   },
   {
    "duration": -13,
    "start_time": "2021-08-12T22:16:46.173Z"
   },
   {
    "duration": -16,
    "start_time": "2021-08-12T22:16:46.177Z"
   },
   {
    "duration": -19,
    "start_time": "2021-08-12T22:16:46.181Z"
   },
   {
    "duration": -20,
    "start_time": "2021-08-12T22:16:46.184Z"
   },
   {
    "duration": -21,
    "start_time": "2021-08-12T22:16:46.187Z"
   },
   {
    "duration": -23,
    "start_time": "2021-08-12T22:16:46.190Z"
   },
   {
    "duration": -25,
    "start_time": "2021-08-12T22:16:46.193Z"
   },
   {
    "duration": -25,
    "start_time": "2021-08-12T22:16:46.195Z"
   },
   {
    "duration": -27,
    "start_time": "2021-08-12T22:16:46.198Z"
   },
   {
    "duration": -29,
    "start_time": "2021-08-12T22:16:46.201Z"
   },
   {
    "duration": -29,
    "start_time": "2021-08-12T22:16:46.203Z"
   },
   {
    "duration": -31,
    "start_time": "2021-08-12T22:16:46.206Z"
   },
   {
    "duration": -32,
    "start_time": "2021-08-12T22:16:46.209Z"
   },
   {
    "duration": -34,
    "start_time": "2021-08-12T22:16:46.212Z"
   },
   {
    "duration": -35,
    "start_time": "2021-08-12T22:16:46.214Z"
   },
   {
    "duration": -43,
    "start_time": "2021-08-12T22:16:46.224Z"
   },
   {
    "duration": -45,
    "start_time": "2021-08-12T22:16:46.227Z"
   },
   {
    "duration": -46,
    "start_time": "2021-08-12T22:16:46.229Z"
   },
   {
    "duration": -46,
    "start_time": "2021-08-12T22:16:46.231Z"
   },
   {
    "duration": -49,
    "start_time": "2021-08-12T22:16:46.235Z"
   },
   {
    "duration": -49,
    "start_time": "2021-08-12T22:16:46.237Z"
   },
   {
    "duration": -50,
    "start_time": "2021-08-12T22:16:46.239Z"
   },
   {
    "duration": -51,
    "start_time": "2021-08-12T22:16:46.242Z"
   },
   {
    "duration": -54,
    "start_time": "2021-08-12T22:16:46.246Z"
   },
   {
    "duration": -56,
    "start_time": "2021-08-12T22:16:46.249Z"
   },
   {
    "duration": -57,
    "start_time": "2021-08-12T22:16:46.252Z"
   },
   {
    "duration": 4,
    "start_time": "2021-08-12T22:17:08.030Z"
   },
   {
    "duration": 185,
    "start_time": "2021-08-12T22:17:08.037Z"
   },
   {
    "duration": 17,
    "start_time": "2021-08-12T22:17:08.225Z"
   },
   {
    "duration": 53,
    "start_time": "2021-08-12T22:17:08.245Z"
   },
   {
    "duration": 18,
    "start_time": "2021-08-12T22:17:08.301Z"
   },
   {
    "duration": 34,
    "start_time": "2021-08-12T22:17:08.321Z"
   },
   {
    "duration": 9,
    "start_time": "2021-08-12T22:17:08.358Z"
   },
   {
    "duration": 46,
    "start_time": "2021-08-12T22:17:08.369Z"
   },
   {
    "duration": 385,
    "start_time": "2021-08-12T22:17:08.419Z"
   },
   {
    "duration": 3,
    "start_time": "2021-08-12T22:17:08.805Z"
   },
   {
    "duration": 1,
    "start_time": "2021-08-12T22:17:08.809Z"
   },
   {
    "duration": -1,
    "start_time": "2021-08-12T22:17:08.813Z"
   },
   {
    "duration": -1,
    "start_time": "2021-08-12T22:17:08.815Z"
   },
   {
    "duration": -2,
    "start_time": "2021-08-12T22:17:08.818Z"
   },
   {
    "duration": -3,
    "start_time": "2021-08-12T22:17:08.821Z"
   },
   {
    "duration": -3,
    "start_time": "2021-08-12T22:17:08.823Z"
   },
   {
    "duration": -4,
    "start_time": "2021-08-12T22:17:08.826Z"
   },
   {
    "duration": -5,
    "start_time": "2021-08-12T22:17:08.829Z"
   },
   {
    "duration": -7,
    "start_time": "2021-08-12T22:17:08.832Z"
   },
   {
    "duration": -17,
    "start_time": "2021-08-12T22:17:08.844Z"
   },
   {
    "duration": -18,
    "start_time": "2021-08-12T22:17:08.847Z"
   },
   {
    "duration": -19,
    "start_time": "2021-08-12T22:17:08.851Z"
   },
   {
    "duration": -19,
    "start_time": "2021-08-12T22:17:08.853Z"
   },
   {
    "duration": -21,
    "start_time": "2021-08-12T22:17:08.857Z"
   },
   {
    "duration": -22,
    "start_time": "2021-08-12T22:17:08.860Z"
   },
   {
    "duration": -23,
    "start_time": "2021-08-12T22:17:08.863Z"
   },
   {
    "duration": -25,
    "start_time": "2021-08-12T22:17:08.867Z"
   },
   {
    "duration": -24,
    "start_time": "2021-08-12T22:17:08.870Z"
   },
   {
    "duration": 9,
    "start_time": "2021-08-12T22:17:08.873Z"
   },
   {
    "duration": 7,
    "start_time": "2021-08-12T22:17:08.877Z"
   },
   {
    "duration": 7,
    "start_time": "2021-08-12T22:17:08.879Z"
   },
   {
    "duration": 5,
    "start_time": "2021-08-12T22:17:08.883Z"
   },
   {
    "duration": 4,
    "start_time": "2021-08-12T22:17:08.885Z"
   },
   {
    "duration": 3,
    "start_time": "2021-08-12T22:17:08.888Z"
   },
   {
    "duration": 2,
    "start_time": "2021-08-12T22:17:08.891Z"
   },
   {
    "duration": -7,
    "start_time": "2021-08-12T22:17:08.902Z"
   },
   {
    "duration": -8,
    "start_time": "2021-08-12T22:17:08.905Z"
   },
   {
    "duration": -11,
    "start_time": "2021-08-12T22:17:08.910Z"
   },
   {
    "duration": 3,
    "start_time": "2021-08-12T22:19:33.589Z"
   },
   {
    "duration": 215,
    "start_time": "2021-08-12T22:19:33.595Z"
   },
   {
    "duration": 16,
    "start_time": "2021-08-12T22:19:33.813Z"
   },
   {
    "duration": 50,
    "start_time": "2021-08-12T22:19:33.832Z"
   },
   {
    "duration": 5,
    "start_time": "2021-08-12T22:19:33.885Z"
   },
   {
    "duration": 26,
    "start_time": "2021-08-12T22:19:33.892Z"
   },
   {
    "duration": 6,
    "start_time": "2021-08-12T22:19:33.922Z"
   },
   {
    "duration": 64,
    "start_time": "2021-08-12T22:19:33.931Z"
   },
   {
    "duration": 272,
    "start_time": "2021-08-12T22:19:33.998Z"
   },
   {
    "duration": 41,
    "start_time": "2021-08-12T22:19:34.232Z"
   },
   {
    "duration": 40,
    "start_time": "2021-08-12T22:19:34.235Z"
   },
   {
    "duration": 16,
    "start_time": "2021-08-12T22:19:34.260Z"
   },
   {
    "duration": 10,
    "start_time": "2021-08-12T22:19:34.267Z"
   },
   {
    "duration": 9,
    "start_time": "2021-08-12T22:19:34.270Z"
   },
   {
    "duration": -14,
    "start_time": "2021-08-12T22:19:34.294Z"
   },
   {
    "duration": -16,
    "start_time": "2021-08-12T22:19:34.297Z"
   },
   {
    "duration": -19,
    "start_time": "2021-08-12T22:19:34.301Z"
   },
   {
    "duration": -20,
    "start_time": "2021-08-12T22:19:34.304Z"
   },
   {
    "duration": -22,
    "start_time": "2021-08-12T22:19:34.307Z"
   },
   {
    "duration": -24,
    "start_time": "2021-08-12T22:19:34.310Z"
   },
   {
    "duration": -26,
    "start_time": "2021-08-12T22:19:34.313Z"
   },
   {
    "duration": -27,
    "start_time": "2021-08-12T22:19:34.317Z"
   },
   {
    "duration": -29,
    "start_time": "2021-08-12T22:19:34.320Z"
   },
   {
    "duration": -29,
    "start_time": "2021-08-12T22:19:34.322Z"
   },
   {
    "duration": -31,
    "start_time": "2021-08-12T22:19:34.325Z"
   },
   {
    "duration": -33,
    "start_time": "2021-08-12T22:19:34.329Z"
   },
   {
    "duration": -34,
    "start_time": "2021-08-12T22:19:34.332Z"
   },
   {
    "duration": -45,
    "start_time": "2021-08-12T22:19:34.344Z"
   },
   {
    "duration": -47,
    "start_time": "2021-08-12T22:19:34.348Z"
   },
   {
    "duration": -49,
    "start_time": "2021-08-12T22:19:34.351Z"
   },
   {
    "duration": -50,
    "start_time": "2021-08-12T22:19:34.354Z"
   },
   {
    "duration": -62,
    "start_time": "2021-08-12T22:19:34.367Z"
   },
   {
    "duration": -63,
    "start_time": "2021-08-12T22:19:34.370Z"
   },
   {
    "duration": -65,
    "start_time": "2021-08-12T22:19:34.373Z"
   },
   {
    "duration": -66,
    "start_time": "2021-08-12T22:19:34.376Z"
   },
   {
    "duration": -68,
    "start_time": "2021-08-12T22:19:34.379Z"
   },
   {
    "duration": -71,
    "start_time": "2021-08-12T22:19:34.384Z"
   },
   {
    "duration": -80,
    "start_time": "2021-08-12T22:19:34.394Z"
   },
   {
    "duration": 3,
    "start_time": "2021-08-12T22:20:39.344Z"
   },
   {
    "duration": 190,
    "start_time": "2021-08-12T22:20:39.350Z"
   },
   {
    "duration": 16,
    "start_time": "2021-08-12T22:20:39.543Z"
   },
   {
    "duration": 43,
    "start_time": "2021-08-12T22:20:39.562Z"
   },
   {
    "duration": 6,
    "start_time": "2021-08-12T22:20:39.607Z"
   },
   {
    "duration": 24,
    "start_time": "2021-08-12T22:20:39.615Z"
   },
   {
    "duration": 6,
    "start_time": "2021-08-12T22:20:39.642Z"
   },
   {
    "duration": 29,
    "start_time": "2021-08-12T22:20:39.683Z"
   },
   {
    "duration": 7077,
    "start_time": "2021-08-12T22:20:39.716Z"
   },
   {
    "duration": -30,
    "start_time": "2021-08-12T22:20:46.826Z"
   },
   {
    "duration": -32,
    "start_time": "2021-08-12T22:20:46.829Z"
   },
   {
    "duration": -33,
    "start_time": "2021-08-12T22:20:46.832Z"
   },
   {
    "duration": -35,
    "start_time": "2021-08-12T22:20:46.835Z"
   },
   {
    "duration": -37,
    "start_time": "2021-08-12T22:20:46.838Z"
   },
   {
    "duration": -38,
    "start_time": "2021-08-12T22:20:46.840Z"
   },
   {
    "duration": -38,
    "start_time": "2021-08-12T22:20:46.842Z"
   },
   {
    "duration": -39,
    "start_time": "2021-08-12T22:20:46.844Z"
   },
   {
    "duration": -40,
    "start_time": "2021-08-12T22:20:46.846Z"
   },
   {
    "duration": -41,
    "start_time": "2021-08-12T22:20:46.848Z"
   },
   {
    "duration": -42,
    "start_time": "2021-08-12T22:20:46.851Z"
   },
   {
    "duration": -49,
    "start_time": "2021-08-12T22:20:46.859Z"
   },
   {
    "duration": -52,
    "start_time": "2021-08-12T22:20:46.863Z"
   },
   {
    "duration": -52,
    "start_time": "2021-08-12T22:20:46.865Z"
   },
   {
    "duration": -53,
    "start_time": "2021-08-12T22:20:46.867Z"
   },
   {
    "duration": -55,
    "start_time": "2021-08-12T22:20:46.870Z"
   },
   {
    "duration": -56,
    "start_time": "2021-08-12T22:20:46.872Z"
   },
   {
    "duration": -56,
    "start_time": "2021-08-12T22:20:46.874Z"
   },
   {
    "duration": -59,
    "start_time": "2021-08-12T22:20:46.878Z"
   },
   {
    "duration": -159,
    "start_time": "2021-08-12T22:20:46.980Z"
   },
   {
    "duration": -174,
    "start_time": "2021-08-12T22:20:46.996Z"
   },
   {
    "duration": -189,
    "start_time": "2021-08-12T22:20:47.012Z"
   },
   {
    "duration": -191,
    "start_time": "2021-08-12T22:20:47.015Z"
   },
   {
    "duration": -192,
    "start_time": "2021-08-12T22:20:47.018Z"
   },
   {
    "duration": -194,
    "start_time": "2021-08-12T22:20:47.021Z"
   },
   {
    "duration": -195,
    "start_time": "2021-08-12T22:20:47.023Z"
   },
   {
    "duration": -197,
    "start_time": "2021-08-12T22:20:47.026Z"
   },
   {
    "duration": -198,
    "start_time": "2021-08-12T22:20:47.028Z"
   },
   {
    "duration": -199,
    "start_time": "2021-08-12T22:20:47.031Z"
   },
   {
    "duration": 4,
    "start_time": "2021-08-12T22:21:30.336Z"
   },
   {
    "duration": 202,
    "start_time": "2021-08-12T22:21:30.343Z"
   },
   {
    "duration": 16,
    "start_time": "2021-08-12T22:21:30.548Z"
   },
   {
    "duration": 57,
    "start_time": "2021-08-12T22:21:30.567Z"
   },
   {
    "duration": 15,
    "start_time": "2021-08-12T22:21:30.626Z"
   },
   {
    "duration": 37,
    "start_time": "2021-08-12T22:21:30.644Z"
   },
   {
    "duration": 7,
    "start_time": "2021-08-12T22:21:30.685Z"
   },
   {
    "duration": 35,
    "start_time": "2021-08-12T22:21:30.695Z"
   },
   {
    "duration": 271,
    "start_time": "2021-08-12T22:21:30.733Z"
   },
   {
    "duration": 21,
    "start_time": "2021-08-12T22:21:30.987Z"
   },
   {
    "duration": 13,
    "start_time": "2021-08-12T22:21:30.996Z"
   },
   {
    "duration": 11,
    "start_time": "2021-08-12T22:21:31.000Z"
   },
   {
    "duration": 8,
    "start_time": "2021-08-12T22:21:31.004Z"
   },
   {
    "duration": 4,
    "start_time": "2021-08-12T22:21:31.009Z"
   },
   {
    "duration": 3,
    "start_time": "2021-08-12T22:21:31.011Z"
   },
   {
    "duration": 1,
    "start_time": "2021-08-12T22:21:31.015Z"
   },
   {
    "duration": -1,
    "start_time": "2021-08-12T22:21:31.018Z"
   },
   {
    "duration": -3,
    "start_time": "2021-08-12T22:21:31.022Z"
   },
   {
    "duration": -5,
    "start_time": "2021-08-12T22:21:31.025Z"
   },
   {
    "duration": -7,
    "start_time": "2021-08-12T22:21:31.028Z"
   },
   {
    "duration": -14,
    "start_time": "2021-08-12T22:21:31.037Z"
   },
   {
    "duration": -18,
    "start_time": "2021-08-12T22:21:31.042Z"
   },
   {
    "duration": -19,
    "start_time": "2021-08-12T22:21:31.045Z"
   },
   {
    "duration": -26,
    "start_time": "2021-08-12T22:21:31.053Z"
   },
   {
    "duration": -30,
    "start_time": "2021-08-12T22:21:31.058Z"
   },
   {
    "duration": -31,
    "start_time": "2021-08-12T22:21:31.061Z"
   },
   {
    "duration": -33,
    "start_time": "2021-08-12T22:21:31.064Z"
   },
   {
    "duration": -35,
    "start_time": "2021-08-12T22:21:31.068Z"
   },
   {
    "duration": -37,
    "start_time": "2021-08-12T22:21:31.071Z"
   },
   {
    "duration": -39,
    "start_time": "2021-08-12T22:21:31.075Z"
   },
   {
    "duration": -41,
    "start_time": "2021-08-12T22:21:31.078Z"
   },
   {
    "duration": -49,
    "start_time": "2021-08-12T22:21:31.087Z"
   },
   {
    "duration": -52,
    "start_time": "2021-08-12T22:21:31.091Z"
   },
   {
    "duration": -53,
    "start_time": "2021-08-12T22:21:31.094Z"
   },
   {
    "duration": -54,
    "start_time": "2021-08-12T22:21:31.096Z"
   },
   {
    "duration": -58,
    "start_time": "2021-08-12T22:21:31.102Z"
   },
   {
    "duration": -60,
    "start_time": "2021-08-12T22:21:31.105Z"
   },
   {
    "duration": -26,
    "start_time": "2021-08-12T22:21:31.108Z"
   },
   {
    "duration": 3,
    "start_time": "2021-08-12T22:24:02.394Z"
   },
   {
    "duration": 197,
    "start_time": "2021-08-12T22:24:02.400Z"
   },
   {
    "duration": 14,
    "start_time": "2021-08-12T22:24:02.600Z"
   },
   {
    "duration": 42,
    "start_time": "2021-08-12T22:24:02.617Z"
   },
   {
    "duration": 6,
    "start_time": "2021-08-12T22:24:02.663Z"
   },
   {
    "duration": 24,
    "start_time": "2021-08-12T22:24:02.683Z"
   },
   {
    "duration": 6,
    "start_time": "2021-08-12T22:24:02.711Z"
   },
   {
    "duration": 66,
    "start_time": "2021-08-12T22:24:02.719Z"
   },
   {
    "duration": 6939,
    "start_time": "2021-08-12T22:24:02.787Z"
   },
   {
    "duration": 8,
    "start_time": "2021-08-12T22:24:09.721Z"
   },
   {
    "duration": 6,
    "start_time": "2021-08-12T22:24:09.725Z"
   },
   {
    "duration": 5,
    "start_time": "2021-08-12T22:24:09.728Z"
   },
   {
    "duration": 0,
    "start_time": "2021-08-12T22:24:09.734Z"
   },
   {
    "duration": -2,
    "start_time": "2021-08-12T22:24:09.738Z"
   },
   {
    "duration": -4,
    "start_time": "2021-08-12T22:24:09.741Z"
   },
   {
    "duration": -5,
    "start_time": "2021-08-12T22:24:09.744Z"
   },
   {
    "duration": -7,
    "start_time": "2021-08-12T22:24:09.747Z"
   },
   {
    "duration": -9,
    "start_time": "2021-08-12T22:24:09.750Z"
   },
   {
    "duration": -16,
    "start_time": "2021-08-12T22:24:09.759Z"
   },
   {
    "duration": -20,
    "start_time": "2021-08-12T22:24:09.764Z"
   },
   {
    "duration": -21,
    "start_time": "2021-08-12T22:24:09.767Z"
   },
   {
    "duration": -23,
    "start_time": "2021-08-12T22:24:09.770Z"
   },
   {
    "duration": -25,
    "start_time": "2021-08-12T22:24:09.774Z"
   },
   {
    "duration": -27,
    "start_time": "2021-08-12T22:24:09.777Z"
   },
   {
    "duration": -29,
    "start_time": "2021-08-12T22:24:09.780Z"
   },
   {
    "duration": -35,
    "start_time": "2021-08-12T22:24:09.788Z"
   },
   {
    "duration": -38,
    "start_time": "2021-08-12T22:24:09.792Z"
   },
   {
    "duration": -41,
    "start_time": "2021-08-12T22:24:09.796Z"
   },
   {
    "duration": -44,
    "start_time": "2021-08-12T22:24:09.800Z"
   },
   {
    "duration": -45,
    "start_time": "2021-08-12T22:24:09.803Z"
   },
   {
    "duration": -46,
    "start_time": "2021-08-12T22:24:09.805Z"
   },
   {
    "duration": -47,
    "start_time": "2021-08-12T22:24:09.808Z"
   },
   {
    "duration": -49,
    "start_time": "2021-08-12T22:24:09.811Z"
   },
   {
    "duration": -50,
    "start_time": "2021-08-12T22:24:09.813Z"
   },
   {
    "duration": -52,
    "start_time": "2021-08-12T22:24:09.817Z"
   },
   {
    "duration": -53,
    "start_time": "2021-08-12T22:24:09.819Z"
   },
   {
    "duration": -40,
    "start_time": "2021-08-12T22:24:09.822Z"
   },
   {
    "duration": -42,
    "start_time": "2021-08-12T22:24:09.825Z"
   },
   {
    "duration": 4,
    "start_time": "2021-08-12T22:25:21.237Z"
   },
   {
    "duration": 197,
    "start_time": "2021-08-12T22:25:21.244Z"
   },
   {
    "duration": 15,
    "start_time": "2021-08-12T22:25:21.444Z"
   },
   {
    "duration": 49,
    "start_time": "2021-08-12T22:25:21.462Z"
   },
   {
    "duration": 5,
    "start_time": "2021-08-12T22:25:21.513Z"
   },
   {
    "duration": 24,
    "start_time": "2021-08-12T22:25:21.522Z"
   },
   {
    "duration": 38,
    "start_time": "2021-08-12T22:25:21.549Z"
   },
   {
    "duration": 31,
    "start_time": "2021-08-12T22:25:21.590Z"
   },
   {
    "duration": 21,
    "start_time": "2021-08-12T22:25:21.626Z"
   },
   {
    "duration": 31,
    "start_time": "2021-08-12T22:25:21.684Z"
   },
   {
    "duration": 7,
    "start_time": "2021-08-12T22:25:21.718Z"
   },
   {
    "duration": 10,
    "start_time": "2021-08-12T22:25:21.727Z"
   },
   {
    "duration": 6,
    "start_time": "2021-08-12T22:25:21.740Z"
   },
   {
    "duration": 35,
    "start_time": "2021-08-12T22:25:21.748Z"
   },
   {
    "duration": 6,
    "start_time": "2021-08-12T22:25:21.786Z"
   },
   {
    "duration": 6,
    "start_time": "2021-08-12T22:25:21.794Z"
   },
   {
    "duration": 5,
    "start_time": "2021-08-12T22:25:21.803Z"
   },
   {
    "duration": 7,
    "start_time": "2021-08-12T22:25:21.811Z"
   },
   {
    "duration": 11,
    "start_time": "2021-08-12T22:25:21.820Z"
   },
   {
    "duration": 6,
    "start_time": "2021-08-12T22:25:21.834Z"
   },
   {
    "duration": 39,
    "start_time": "2021-08-12T22:25:21.843Z"
   },
   {
    "duration": 7,
    "start_time": "2021-08-12T22:25:21.885Z"
   },
   {
    "duration": 8,
    "start_time": "2021-08-12T22:25:21.894Z"
   },
   {
    "duration": 10,
    "start_time": "2021-08-12T22:25:21.904Z"
   },
   {
    "duration": 8,
    "start_time": "2021-08-12T22:25:21.916Z"
   },
   {
    "duration": 8,
    "start_time": "2021-08-12T22:25:21.927Z"
   },
   {
    "duration": 4,
    "start_time": "2021-08-12T22:25:21.941Z"
   },
   {
    "duration": 5,
    "start_time": "2021-08-12T22:25:21.947Z"
   },
   {
    "duration": 30,
    "start_time": "2021-08-12T22:25:21.955Z"
   },
   {
    "duration": 5,
    "start_time": "2021-08-12T22:25:21.988Z"
   },
   {
    "duration": 9,
    "start_time": "2021-08-12T22:25:21.995Z"
   },
   {
    "duration": 8,
    "start_time": "2021-08-12T22:25:22.006Z"
   },
   {
    "duration": 7,
    "start_time": "2021-08-12T22:25:22.016Z"
   },
   {
    "duration": 5,
    "start_time": "2021-08-12T22:25:22.026Z"
   },
   {
    "duration": 5,
    "start_time": "2021-08-12T22:25:22.033Z"
   },
   {
    "duration": 4,
    "start_time": "2021-08-12T22:25:22.041Z"
   },
   {
    "duration": 7,
    "start_time": "2021-08-12T22:25:22.083Z"
   },
   {
    "duration": 11,
    "start_time": "2021-08-12T22:25:22.092Z"
   },
   {
    "duration": 4,
    "start_time": "2021-08-12T22:25:52.414Z"
   },
   {
    "duration": 187,
    "start_time": "2021-08-12T22:25:52.420Z"
   },
   {
    "duration": 16,
    "start_time": "2021-08-12T22:25:52.609Z"
   },
   {
    "duration": 30,
    "start_time": "2021-08-12T22:25:52.627Z"
   },
   {
    "duration": 5,
    "start_time": "2021-08-12T22:25:52.684Z"
   },
   {
    "duration": 28,
    "start_time": "2021-08-12T22:25:52.691Z"
   },
   {
    "duration": 7,
    "start_time": "2021-08-12T22:25:52.722Z"
   },
   {
    "duration": 62,
    "start_time": "2021-08-12T22:25:52.732Z"
   },
   {
    "duration": 23,
    "start_time": "2021-08-12T22:25:52.796Z"
   },
   {
    "duration": 31,
    "start_time": "2021-08-12T22:25:52.822Z"
   },
   {
    "duration": 28,
    "start_time": "2021-08-12T22:25:52.855Z"
   },
   {
    "duration": 4,
    "start_time": "2021-08-12T22:25:52.885Z"
   },
   {
    "duration": 5,
    "start_time": "2021-08-12T22:25:52.892Z"
   },
   {
    "duration": 5,
    "start_time": "2021-08-12T22:25:52.899Z"
   },
   {
    "duration": 5,
    "start_time": "2021-08-12T22:25:52.907Z"
   },
   {
    "duration": 6,
    "start_time": "2021-08-12T22:25:52.915Z"
   },
   {
    "duration": 5,
    "start_time": "2021-08-12T22:25:52.924Z"
   },
   {
    "duration": 4,
    "start_time": "2021-08-12T22:25:52.932Z"
   },
   {
    "duration": 4,
    "start_time": "2021-08-12T22:25:52.988Z"
   },
   {
    "duration": 5,
    "start_time": "2021-08-12T22:25:52.995Z"
   },
   {
    "duration": 13,
    "start_time": "2021-08-12T22:25:53.003Z"
   },
   {
    "duration": 11,
    "start_time": "2021-08-12T22:25:53.019Z"
   },
   {
    "duration": 11,
    "start_time": "2021-08-12T22:25:53.033Z"
   },
   {
    "duration": 6,
    "start_time": "2021-08-12T22:25:53.046Z"
   },
   {
    "duration": 12,
    "start_time": "2021-08-12T22:25:53.054Z"
   },
   {
    "duration": 3,
    "start_time": "2021-08-12T22:25:53.083Z"
   },
   {
    "duration": 8,
    "start_time": "2021-08-12T22:25:53.088Z"
   },
   {
    "duration": 8,
    "start_time": "2021-08-12T22:25:53.098Z"
   },
   {
    "duration": 14,
    "start_time": "2021-08-12T22:25:53.108Z"
   },
   {
    "duration": 17,
    "start_time": "2021-08-12T22:25:53.124Z"
   },
   {
    "duration": 17,
    "start_time": "2021-08-12T22:25:53.144Z"
   },
   {
    "duration": 8,
    "start_time": "2021-08-12T22:25:53.163Z"
   },
   {
    "duration": 15,
    "start_time": "2021-08-12T22:25:53.173Z"
   },
   {
    "duration": 6,
    "start_time": "2021-08-12T22:25:53.190Z"
   },
   {
    "duration": 9,
    "start_time": "2021-08-12T22:25:53.198Z"
   },
   {
    "duration": 10,
    "start_time": "2021-08-12T22:25:53.209Z"
   },
   {
    "duration": 9,
    "start_time": "2021-08-12T22:25:53.221Z"
   },
   {
    "duration": 11,
    "start_time": "2021-08-12T22:25:53.232Z"
   },
   {
    "duration": 3,
    "start_time": "2021-08-12T22:32:47.871Z"
   },
   {
    "duration": 224,
    "start_time": "2021-08-12T22:32:47.877Z"
   },
   {
    "duration": 17,
    "start_time": "2021-08-12T22:32:48.105Z"
   },
   {
    "duration": 32,
    "start_time": "2021-08-12T22:32:48.126Z"
   },
   {
    "duration": 6,
    "start_time": "2021-08-12T22:32:48.183Z"
   },
   {
    "duration": 22,
    "start_time": "2021-08-12T22:32:48.191Z"
   },
   {
    "duration": 6,
    "start_time": "2021-08-12T22:32:48.216Z"
   },
   {
    "duration": 70,
    "start_time": "2021-08-12T22:32:48.224Z"
   },
   {
    "duration": 23,
    "start_time": "2021-08-12T22:32:48.297Z"
   },
   {
    "duration": 29,
    "start_time": "2021-08-12T22:32:48.323Z"
   },
   {
    "duration": 100,
    "start_time": "2021-08-12T22:32:48.355Z"
   },
   {
    "duration": 3,
    "start_time": "2021-08-12T22:32:48.457Z"
   },
   {
    "duration": 20,
    "start_time": "2021-08-12T22:32:48.463Z"
   },
   {
    "duration": 8,
    "start_time": "2021-08-12T22:32:48.486Z"
   },
   {
    "duration": 6,
    "start_time": "2021-08-12T22:32:48.497Z"
   },
   {
    "duration": 5,
    "start_time": "2021-08-12T22:32:48.506Z"
   },
   {
    "duration": 5,
    "start_time": "2021-08-12T22:32:48.514Z"
   },
   {
    "duration": 6,
    "start_time": "2021-08-12T22:32:48.521Z"
   },
   {
    "duration": 3,
    "start_time": "2021-08-12T22:32:48.531Z"
   },
   {
    "duration": 4,
    "start_time": "2021-08-12T22:32:48.537Z"
   },
   {
    "duration": 6,
    "start_time": "2021-08-12T22:32:48.583Z"
   },
   {
    "duration": 5,
    "start_time": "2021-08-12T22:32:48.591Z"
   },
   {
    "duration": 4,
    "start_time": "2021-08-12T22:32:48.599Z"
   },
   {
    "duration": 5,
    "start_time": "2021-08-12T22:32:48.606Z"
   },
   {
    "duration": 5,
    "start_time": "2021-08-12T22:32:48.614Z"
   },
   {
    "duration": 7,
    "start_time": "2021-08-12T22:32:48.622Z"
   },
   {
    "duration": 4,
    "start_time": "2021-08-12T22:32:48.632Z"
   },
   {
    "duration": 43,
    "start_time": "2021-08-12T22:32:48.639Z"
   },
   {
    "duration": 17,
    "start_time": "2021-08-12T22:32:48.685Z"
   },
   {
    "duration": 8,
    "start_time": "2021-08-12T22:32:48.705Z"
   },
   {
    "duration": 19,
    "start_time": "2021-08-12T22:32:48.716Z"
   },
   {
    "duration": 10,
    "start_time": "2021-08-12T22:32:48.737Z"
   },
   {
    "duration": 19,
    "start_time": "2021-08-12T22:32:48.750Z"
   },
   {
    "duration": 19,
    "start_time": "2021-08-12T22:32:48.772Z"
   },
   {
    "duration": 12,
    "start_time": "2021-08-12T22:32:48.793Z"
   },
   {
    "duration": 14,
    "start_time": "2021-08-12T22:32:48.807Z"
   },
   {
    "duration": 8,
    "start_time": "2021-08-12T22:32:48.824Z"
   },
   {
    "duration": 15,
    "start_time": "2021-08-12T22:32:48.834Z"
   },
   {
    "duration": 3,
    "start_time": "2021-08-12T22:33:50.628Z"
   },
   {
    "duration": 180,
    "start_time": "2021-08-12T22:33:50.635Z"
   },
   {
    "duration": 16,
    "start_time": "2021-08-12T22:33:50.817Z"
   },
   {
    "duration": 46,
    "start_time": "2021-08-12T22:33:50.836Z"
   },
   {
    "duration": 5,
    "start_time": "2021-08-12T22:33:50.885Z"
   },
   {
    "duration": 25,
    "start_time": "2021-08-12T22:33:50.892Z"
   },
   {
    "duration": 5,
    "start_time": "2021-08-12T22:33:50.922Z"
   },
   {
    "duration": 57,
    "start_time": "2021-08-12T22:33:50.930Z"
   },
   {
    "duration": 21,
    "start_time": "2021-08-12T22:33:50.990Z"
   },
   {
    "duration": 29,
    "start_time": "2021-08-12T22:33:51.013Z"
   },
   {
    "duration": 104,
    "start_time": "2021-08-12T22:33:51.045Z"
   },
   {
    "duration": 102,
    "start_time": "2021-08-12T22:33:51.152Z"
   },
   {
    "duration": 83,
    "start_time": "2021-08-12T22:33:51.257Z"
   },
   {
    "duration": 3,
    "start_time": "2021-08-12T22:33:51.342Z"
   },
   {
    "duration": 6,
    "start_time": "2021-08-12T22:33:51.348Z"
   },
   {
    "duration": 26,
    "start_time": "2021-08-12T22:33:51.356Z"
   },
   {
    "duration": 6,
    "start_time": "2021-08-12T22:33:51.385Z"
   },
   {
    "duration": 9,
    "start_time": "2021-08-12T22:33:51.393Z"
   },
   {
    "duration": 4,
    "start_time": "2021-08-12T22:33:51.407Z"
   },
   {
    "duration": 5,
    "start_time": "2021-08-12T22:33:51.414Z"
   },
   {
    "duration": 13,
    "start_time": "2021-08-12T22:33:51.422Z"
   },
   {
    "duration": 7,
    "start_time": "2021-08-12T22:33:51.437Z"
   },
   {
    "duration": 6,
    "start_time": "2021-08-12T22:33:51.447Z"
   },
   {
    "duration": 26,
    "start_time": "2021-08-12T22:33:51.456Z"
   },
   {
    "duration": 11,
    "start_time": "2021-08-12T22:33:51.484Z"
   },
   {
    "duration": 8,
    "start_time": "2021-08-12T22:33:51.497Z"
   },
   {
    "duration": 10,
    "start_time": "2021-08-12T22:33:51.507Z"
   },
   {
    "duration": 7,
    "start_time": "2021-08-12T22:33:51.519Z"
   },
   {
    "duration": 7,
    "start_time": "2021-08-12T22:33:51.528Z"
   },
   {
    "duration": 6,
    "start_time": "2021-08-12T22:33:51.537Z"
   },
   {
    "duration": 14,
    "start_time": "2021-08-12T22:33:51.545Z"
   },
   {
    "duration": 22,
    "start_time": "2021-08-12T22:33:51.561Z"
   },
   {
    "duration": 12,
    "start_time": "2021-08-12T22:33:51.585Z"
   },
   {
    "duration": 6,
    "start_time": "2021-08-12T22:33:51.599Z"
   },
   {
    "duration": 5,
    "start_time": "2021-08-12T22:33:51.608Z"
   },
   {
    "duration": 6,
    "start_time": "2021-08-12T22:33:51.615Z"
   },
   {
    "duration": 7,
    "start_time": "2021-08-12T22:33:51.623Z"
   },
   {
    "duration": 7,
    "start_time": "2021-08-12T22:33:51.632Z"
   },
   {
    "duration": 3,
    "start_time": "2021-08-12T22:35:42.256Z"
   },
   {
    "duration": 203,
    "start_time": "2021-08-12T22:35:42.262Z"
   },
   {
    "duration": 22,
    "start_time": "2021-08-12T22:35:42.468Z"
   },
   {
    "duration": 31,
    "start_time": "2021-08-12T22:35:42.492Z"
   },
   {
    "duration": 6,
    "start_time": "2021-08-12T22:35:42.525Z"
   },
   {
    "duration": 52,
    "start_time": "2021-08-12T22:35:42.535Z"
   },
   {
    "duration": 6,
    "start_time": "2021-08-12T22:35:42.590Z"
   },
   {
    "duration": 32,
    "start_time": "2021-08-12T22:35:42.599Z"
   },
   {
    "duration": 56,
    "start_time": "2021-08-12T22:35:42.637Z"
   },
   {
    "duration": 29,
    "start_time": "2021-08-12T22:35:42.696Z"
   },
   {
    "duration": 103,
    "start_time": "2021-08-12T22:35:42.728Z"
   },
   {
    "duration": 107,
    "start_time": "2021-08-12T22:35:42.834Z"
   },
   {
    "duration": 87,
    "start_time": "2021-08-12T22:35:42.944Z"
   },
   {
    "duration": 4,
    "start_time": "2021-08-12T22:35:43.034Z"
   },
   {
    "duration": 7,
    "start_time": "2021-08-12T22:35:43.041Z"
   },
   {
    "duration": 6,
    "start_time": "2021-08-12T22:35:43.050Z"
   },
   {
    "duration": 26,
    "start_time": "2021-08-12T22:35:43.058Z"
   },
   {
    "duration": 6,
    "start_time": "2021-08-12T22:35:43.087Z"
   },
   {
    "duration": 5,
    "start_time": "2021-08-12T22:35:43.096Z"
   },
   {
    "duration": 7,
    "start_time": "2021-08-12T22:35:43.103Z"
   },
   {
    "duration": 7,
    "start_time": "2021-08-12T22:35:43.112Z"
   },
   {
    "duration": 7,
    "start_time": "2021-08-12T22:35:43.122Z"
   },
   {
    "duration": 6,
    "start_time": "2021-08-12T22:35:43.131Z"
   },
   {
    "duration": 43,
    "start_time": "2021-08-12T22:35:43.139Z"
   },
   {
    "duration": 5,
    "start_time": "2021-08-12T22:35:43.185Z"
   },
   {
    "duration": 8,
    "start_time": "2021-08-12T22:35:43.193Z"
   },
   {
    "duration": 3,
    "start_time": "2021-08-12T22:35:43.206Z"
   },
   {
    "duration": 10,
    "start_time": "2021-08-12T22:35:43.211Z"
   },
   {
    "duration": 7,
    "start_time": "2021-08-12T22:35:43.224Z"
   },
   {
    "duration": 6,
    "start_time": "2021-08-12T22:35:43.234Z"
   },
   {
    "duration": 8,
    "start_time": "2021-08-12T22:35:43.242Z"
   },
   {
    "duration": 30,
    "start_time": "2021-08-12T22:35:43.253Z"
   },
   {
    "duration": 8,
    "start_time": "2021-08-12T22:35:43.286Z"
   },
   {
    "duration": 7,
    "start_time": "2021-08-12T22:35:43.297Z"
   },
   {
    "duration": 8,
    "start_time": "2021-08-12T22:35:43.307Z"
   },
   {
    "duration": 5,
    "start_time": "2021-08-12T22:35:43.318Z"
   },
   {
    "duration": 6,
    "start_time": "2021-08-12T22:35:43.325Z"
   },
   {
    "duration": 8,
    "start_time": "2021-08-12T22:35:43.334Z"
   },
   {
    "duration": 4,
    "start_time": "2021-08-12T22:39:04.933Z"
   },
   {
    "duration": 254,
    "start_time": "2021-08-12T22:39:04.941Z"
   },
   {
    "duration": 23,
    "start_time": "2021-08-12T22:39:05.199Z"
   },
   {
    "duration": 65,
    "start_time": "2021-08-12T22:39:05.225Z"
   },
   {
    "duration": 6,
    "start_time": "2021-08-12T22:39:05.294Z"
   },
   {
    "duration": 26,
    "start_time": "2021-08-12T22:39:05.303Z"
   },
   {
    "duration": 6,
    "start_time": "2021-08-12T22:39:05.332Z"
   },
   {
    "duration": 79,
    "start_time": "2021-08-12T22:39:05.342Z"
   },
   {
    "duration": 31,
    "start_time": "2021-08-12T22:39:05.427Z"
   },
   {
    "duration": 59,
    "start_time": "2021-08-12T22:39:05.462Z"
   },
   {
    "duration": 123,
    "start_time": "2021-08-12T22:39:05.525Z"
   },
   {
    "duration": 151,
    "start_time": "2021-08-12T22:39:05.651Z"
   },
   {
    "duration": 115,
    "start_time": "2021-08-12T22:39:05.805Z"
   },
   {
    "duration": 72,
    "start_time": "2021-08-12T22:39:05.923Z"
   },
   {
    "duration": 38,
    "start_time": "2021-08-12T22:39:05.962Z"
   },
   {
    "duration": 15,
    "start_time": "2021-08-12T22:39:05.987Z"
   },
   {
    "duration": 14,
    "start_time": "2021-08-12T22:39:05.990Z"
   },
   {
    "duration": 13,
    "start_time": "2021-08-12T22:39:05.993Z"
   },
   {
    "duration": -6,
    "start_time": "2021-08-12T22:39:06.014Z"
   },
   {
    "duration": -7,
    "start_time": "2021-08-12T22:39:06.017Z"
   },
   {
    "duration": -8,
    "start_time": "2021-08-12T22:39:06.020Z"
   },
   {
    "duration": -8,
    "start_time": "2021-08-12T22:39:06.022Z"
   },
   {
    "duration": -9,
    "start_time": "2021-08-12T22:39:06.025Z"
   },
   {
    "duration": -11,
    "start_time": "2021-08-12T22:39:06.028Z"
   },
   {
    "duration": -10,
    "start_time": "2021-08-12T22:39:06.030Z"
   },
   {
    "duration": -10,
    "start_time": "2021-08-12T22:39:06.032Z"
   },
   {
    "duration": -10,
    "start_time": "2021-08-12T22:39:06.034Z"
   },
   {
    "duration": -10,
    "start_time": "2021-08-12T22:39:06.036Z"
   },
   {
    "duration": -10,
    "start_time": "2021-08-12T22:39:06.038Z"
   },
   {
    "duration": -11,
    "start_time": "2021-08-12T22:39:06.041Z"
   },
   {
    "duration": -12,
    "start_time": "2021-08-12T22:39:06.043Z"
   },
   {
    "duration": -21,
    "start_time": "2021-08-12T22:39:06.054Z"
   },
   {
    "duration": -22,
    "start_time": "2021-08-12T22:39:06.057Z"
   },
   {
    "duration": -22,
    "start_time": "2021-08-12T22:39:06.059Z"
   },
   {
    "duration": -24,
    "start_time": "2021-08-12T22:39:06.062Z"
   },
   {
    "duration": -25,
    "start_time": "2021-08-12T22:39:06.065Z"
   },
   {
    "duration": -26,
    "start_time": "2021-08-12T22:39:06.067Z"
   },
   {
    "duration": -26,
    "start_time": "2021-08-12T22:39:06.069Z"
   },
   {
    "duration": 4,
    "start_time": "2021-08-12T22:39:32.428Z"
   },
   {
    "duration": 248,
    "start_time": "2021-08-12T22:39:32.435Z"
   },
   {
    "duration": 21,
    "start_time": "2021-08-12T22:39:32.687Z"
   },
   {
    "duration": 47,
    "start_time": "2021-08-12T22:39:32.712Z"
   },
   {
    "duration": 6,
    "start_time": "2021-08-12T22:39:32.784Z"
   },
   {
    "duration": 23,
    "start_time": "2021-08-12T22:39:32.792Z"
   },
   {
    "duration": 5,
    "start_time": "2021-08-12T22:39:32.817Z"
   },
   {
    "duration": 68,
    "start_time": "2021-08-12T22:39:32.826Z"
   },
   {
    "duration": 26,
    "start_time": "2021-08-12T22:39:32.897Z"
   },
   {
    "duration": 59,
    "start_time": "2021-08-12T22:39:32.926Z"
   },
   {
    "duration": 96,
    "start_time": "2021-08-12T22:39:32.988Z"
   },
   {
    "duration": 110,
    "start_time": "2021-08-12T22:39:33.087Z"
   },
   {
    "duration": 89,
    "start_time": "2021-08-12T22:39:33.200Z"
   },
   {
    "duration": 12,
    "start_time": "2021-08-12T22:39:33.292Z"
   },
   {
    "duration": 3,
    "start_time": "2021-08-12T22:39:33.307Z"
   },
   {
    "duration": 10,
    "start_time": "2021-08-12T22:39:33.312Z"
   },
   {
    "duration": 6,
    "start_time": "2021-08-12T22:39:33.324Z"
   },
   {
    "duration": 9,
    "start_time": "2021-08-12T22:39:33.332Z"
   },
   {
    "duration": 39,
    "start_time": "2021-08-12T22:39:33.343Z"
   },
   {
    "duration": 8,
    "start_time": "2021-08-12T22:39:33.384Z"
   },
   {
    "duration": 12,
    "start_time": "2021-08-12T22:39:33.395Z"
   },
   {
    "duration": 8,
    "start_time": "2021-08-12T22:39:33.409Z"
   },
   {
    "duration": 6,
    "start_time": "2021-08-12T22:39:33.421Z"
   },
   {
    "duration": 9,
    "start_time": "2021-08-12T22:39:33.429Z"
   },
   {
    "duration": 13,
    "start_time": "2021-08-12T22:39:33.441Z"
   },
   {
    "duration": 11,
    "start_time": "2021-08-12T22:39:33.456Z"
   },
   {
    "duration": 12,
    "start_time": "2021-08-12T22:39:33.470Z"
   },
   {
    "duration": 4,
    "start_time": "2021-08-12T22:39:33.485Z"
   },
   {
    "duration": 8,
    "start_time": "2021-08-12T22:39:33.491Z"
   },
   {
    "duration": 7,
    "start_time": "2021-08-12T22:39:33.501Z"
   },
   {
    "duration": 12,
    "start_time": "2021-08-12T22:39:33.510Z"
   },
   {
    "duration": 6,
    "start_time": "2021-08-12T22:39:33.525Z"
   },
   {
    "duration": 8,
    "start_time": "2021-08-12T22:39:33.533Z"
   },
   {
    "duration": 39,
    "start_time": "2021-08-12T22:39:33.544Z"
   },
   {
    "duration": 10,
    "start_time": "2021-08-12T22:39:33.586Z"
   },
   {
    "duration": 12,
    "start_time": "2021-08-12T22:39:33.599Z"
   },
   {
    "duration": 7,
    "start_time": "2021-08-12T22:39:33.613Z"
   },
   {
    "duration": 6,
    "start_time": "2021-08-12T22:39:33.622Z"
   },
   {
    "duration": 5,
    "start_time": "2021-08-12T22:55:03.405Z"
   },
   {
    "duration": 230,
    "start_time": "2021-08-12T22:55:03.413Z"
   },
   {
    "duration": 21,
    "start_time": "2021-08-12T22:55:03.646Z"
   },
   {
    "duration": 40,
    "start_time": "2021-08-12T22:55:03.670Z"
   },
   {
    "duration": 23,
    "start_time": "2021-08-12T22:55:03.713Z"
   },
   {
    "duration": 25,
    "start_time": "2021-08-12T22:55:03.738Z"
   },
   {
    "duration": 5,
    "start_time": "2021-08-12T22:55:03.767Z"
   },
   {
    "duration": 47,
    "start_time": "2021-08-12T22:55:03.774Z"
   },
   {
    "duration": 29,
    "start_time": "2021-08-12T22:55:03.823Z"
   },
   {
    "duration": 36,
    "start_time": "2021-08-12T22:55:03.855Z"
   },
   {
    "duration": 97,
    "start_time": "2021-08-12T22:55:03.893Z"
   },
   {
    "duration": 106,
    "start_time": "2021-08-12T22:55:03.993Z"
   },
   {
    "duration": 81,
    "start_time": "2021-08-12T22:55:04.102Z"
   },
   {
    "duration": 9,
    "start_time": "2021-08-12T22:55:04.185Z"
   },
   {
    "duration": 440,
    "start_time": "2021-08-12T22:55:04.196Z"
   },
   {
    "duration": -378,
    "start_time": "2021-08-12T22:55:05.018Z"
   },
   {
    "duration": -386,
    "start_time": "2021-08-12T22:55:05.027Z"
   },
   {
    "duration": -389,
    "start_time": "2021-08-12T22:55:05.031Z"
   },
   {
    "duration": -392,
    "start_time": "2021-08-12T22:55:05.036Z"
   },
   {
    "duration": -394,
    "start_time": "2021-08-12T22:55:05.039Z"
   },
   {
    "duration": -396,
    "start_time": "2021-08-12T22:55:05.042Z"
   },
   {
    "duration": -398,
    "start_time": "2021-08-12T22:55:05.046Z"
   },
   {
    "duration": -401,
    "start_time": "2021-08-12T22:55:05.050Z"
   },
   {
    "duration": -402,
    "start_time": "2021-08-12T22:55:05.053Z"
   },
   {
    "duration": -404,
    "start_time": "2021-08-12T22:55:05.056Z"
   },
   {
    "duration": -406,
    "start_time": "2021-08-12T22:55:05.059Z"
   },
   {
    "duration": -407,
    "start_time": "2021-08-12T22:55:05.062Z"
   },
   {
    "duration": -408,
    "start_time": "2021-08-12T22:55:05.065Z"
   },
   {
    "duration": -411,
    "start_time": "2021-08-12T22:55:05.069Z"
   },
   {
    "duration": -412,
    "start_time": "2021-08-12T22:55:05.072Z"
   },
   {
    "duration": -414,
    "start_time": "2021-08-12T22:55:05.075Z"
   },
   {
    "duration": -417,
    "start_time": "2021-08-12T22:55:05.079Z"
   },
   {
    "duration": -426,
    "start_time": "2021-08-12T22:55:05.090Z"
   },
   {
    "duration": -429,
    "start_time": "2021-08-12T22:55:05.094Z"
   },
   {
    "duration": -430,
    "start_time": "2021-08-12T22:55:05.097Z"
   },
   {
    "duration": -433,
    "start_time": "2021-08-12T22:55:05.101Z"
   },
   {
    "duration": -434,
    "start_time": "2021-08-12T22:55:05.104Z"
   },
   {
    "duration": -435,
    "start_time": "2021-08-12T22:55:05.106Z"
   },
   {
    "duration": 3,
    "start_time": "2021-08-12T22:57:06.546Z"
   },
   {
    "duration": 218,
    "start_time": "2021-08-12T22:57:06.552Z"
   },
   {
    "duration": 17,
    "start_time": "2021-08-12T22:57:06.773Z"
   },
   {
    "duration": 32,
    "start_time": "2021-08-12T22:57:06.793Z"
   },
   {
    "duration": 6,
    "start_time": "2021-08-12T22:57:06.828Z"
   },
   {
    "duration": 56,
    "start_time": "2021-08-12T22:57:06.836Z"
   },
   {
    "duration": 5,
    "start_time": "2021-08-12T22:57:06.896Z"
   },
   {
    "duration": 34,
    "start_time": "2021-08-12T22:57:06.904Z"
   },
   {
    "duration": 42,
    "start_time": "2021-08-12T22:57:06.941Z"
   },
   {
    "duration": 37,
    "start_time": "2021-08-12T22:57:06.985Z"
   },
   {
    "duration": 91,
    "start_time": "2021-08-12T22:57:07.025Z"
   },
   {
    "duration": 112,
    "start_time": "2021-08-12T22:57:07.118Z"
   },
   {
    "duration": 89,
    "start_time": "2021-08-12T22:57:07.233Z"
   },
   {
    "duration": 9,
    "start_time": "2021-08-12T22:57:07.325Z"
   },
   {
    "duration": 524,
    "start_time": "2021-08-12T22:57:07.337Z"
   },
   {
    "duration": 27,
    "start_time": "2021-08-12T22:57:07.837Z"
   },
   {
    "duration": 25,
    "start_time": "2021-08-12T22:57:07.841Z"
   },
   {
    "duration": 24,
    "start_time": "2021-08-12T22:57:07.843Z"
   },
   {
    "duration": 22,
    "start_time": "2021-08-12T22:57:07.846Z"
   },
   {
    "duration": 21,
    "start_time": "2021-08-12T22:57:07.849Z"
   },
   {
    "duration": 19,
    "start_time": "2021-08-12T22:57:07.852Z"
   },
   {
    "duration": 18,
    "start_time": "2021-08-12T22:57:07.855Z"
   },
   {
    "duration": 17,
    "start_time": "2021-08-12T22:57:07.857Z"
   },
   {
    "duration": 15,
    "start_time": "2021-08-12T22:57:07.860Z"
   },
   {
    "duration": 15,
    "start_time": "2021-08-12T22:57:07.862Z"
   },
   {
    "duration": 12,
    "start_time": "2021-08-12T22:57:07.866Z"
   },
   {
    "duration": 11,
    "start_time": "2021-08-12T22:57:07.869Z"
   },
   {
    "duration": 9,
    "start_time": "2021-08-12T22:57:07.872Z"
   },
   {
    "duration": 8,
    "start_time": "2021-08-12T22:57:07.874Z"
   },
   {
    "duration": 6,
    "start_time": "2021-08-12T22:57:07.877Z"
   },
   {
    "duration": 6,
    "start_time": "2021-08-12T22:57:07.879Z"
   },
   {
    "duration": 5,
    "start_time": "2021-08-12T22:57:07.881Z"
   },
   {
    "duration": 5,
    "start_time": "2021-08-12T22:57:07.883Z"
   },
   {
    "duration": 4,
    "start_time": "2021-08-12T22:57:07.886Z"
   },
   {
    "duration": -5,
    "start_time": "2021-08-12T22:57:07.896Z"
   },
   {
    "duration": -6,
    "start_time": "2021-08-12T22:57:07.898Z"
   },
   {
    "duration": -7,
    "start_time": "2021-08-12T22:57:07.901Z"
   },
   {
    "duration": -9,
    "start_time": "2021-08-12T22:57:07.904Z"
   },
   {
    "duration": 3,
    "start_time": "2021-08-12T22:59:14.941Z"
   },
   {
    "duration": 201,
    "start_time": "2021-08-12T22:59:14.947Z"
   },
   {
    "duration": 15,
    "start_time": "2021-08-12T22:59:15.151Z"
   },
   {
    "duration": 42,
    "start_time": "2021-08-12T22:59:15.168Z"
   },
   {
    "duration": 5,
    "start_time": "2021-08-12T22:59:15.213Z"
   },
   {
    "duration": 26,
    "start_time": "2021-08-12T22:59:15.221Z"
   },
   {
    "duration": 6,
    "start_time": "2021-08-12T22:59:15.283Z"
   },
   {
    "duration": 32,
    "start_time": "2021-08-12T22:59:15.292Z"
   },
   {
    "duration": 22,
    "start_time": "2021-08-12T22:59:15.328Z"
   },
   {
    "duration": 58,
    "start_time": "2021-08-12T22:59:15.352Z"
   },
   {
    "duration": 93,
    "start_time": "2021-08-12T22:59:15.412Z"
   },
   {
    "duration": 105,
    "start_time": "2021-08-12T22:59:15.507Z"
   },
   {
    "duration": 83,
    "start_time": "2021-08-12T22:59:15.615Z"
   },
   {
    "duration": 10,
    "start_time": "2021-08-12T22:59:15.700Z"
   },
   {
    "duration": 4,
    "start_time": "2021-08-12T22:59:15.712Z"
   },
   {
    "duration": 472,
    "start_time": "2021-08-12T22:59:15.718Z"
   },
   {
    "duration": 34,
    "start_time": "2021-08-12T22:59:16.159Z"
   },
   {
    "duration": 32,
    "start_time": "2021-08-12T22:59:16.163Z"
   },
   {
    "duration": 28,
    "start_time": "2021-08-12T22:59:16.168Z"
   },
   {
    "duration": 27,
    "start_time": "2021-08-12T22:59:16.171Z"
   },
   {
    "duration": 26,
    "start_time": "2021-08-12T22:59:16.173Z"
   },
   {
    "duration": 24,
    "start_time": "2021-08-12T22:59:16.176Z"
   },
   {
    "duration": 24,
    "start_time": "2021-08-12T22:59:16.178Z"
   },
   {
    "duration": 22,
    "start_time": "2021-08-12T22:59:16.181Z"
   },
   {
    "duration": 22,
    "start_time": "2021-08-12T22:59:16.183Z"
   },
   {
    "duration": 20,
    "start_time": "2021-08-12T22:59:16.186Z"
   },
   {
    "duration": 19,
    "start_time": "2021-08-12T22:59:16.188Z"
   },
   {
    "duration": 19,
    "start_time": "2021-08-12T22:59:16.190Z"
   },
   {
    "duration": 16,
    "start_time": "2021-08-12T22:59:16.194Z"
   },
   {
    "duration": 15,
    "start_time": "2021-08-12T22:59:16.196Z"
   },
   {
    "duration": 15,
    "start_time": "2021-08-12T22:59:16.198Z"
   },
   {
    "duration": 13,
    "start_time": "2021-08-12T22:59:16.201Z"
   },
   {
    "duration": 12,
    "start_time": "2021-08-12T22:59:16.204Z"
   },
   {
    "duration": 11,
    "start_time": "2021-08-12T22:59:16.206Z"
   },
   {
    "duration": 9,
    "start_time": "2021-08-12T22:59:16.209Z"
   },
   {
    "duration": 2,
    "start_time": "2021-08-12T22:59:16.218Z"
   },
   {
    "duration": -1,
    "start_time": "2021-08-12T22:59:16.222Z"
   },
   {
    "duration": -2,
    "start_time": "2021-08-12T22:59:16.224Z"
   },
   {
    "duration": 4,
    "start_time": "2021-08-12T23:00:41.901Z"
   },
   {
    "duration": 240,
    "start_time": "2021-08-12T23:00:41.908Z"
   },
   {
    "duration": 21,
    "start_time": "2021-08-12T23:00:42.152Z"
   },
   {
    "duration": 36,
    "start_time": "2021-08-12T23:00:42.175Z"
   },
   {
    "duration": 7,
    "start_time": "2021-08-12T23:00:42.214Z"
   },
   {
    "duration": 24,
    "start_time": "2021-08-12T23:00:42.224Z"
   },
   {
    "duration": 6,
    "start_time": "2021-08-12T23:00:42.283Z"
   },
   {
    "duration": 32,
    "start_time": "2021-08-12T23:00:42.292Z"
   },
   {
    "duration": 21,
    "start_time": "2021-08-12T23:00:42.327Z"
   },
   {
    "duration": 58,
    "start_time": "2021-08-12T23:00:42.351Z"
   },
   {
    "duration": 97,
    "start_time": "2021-08-12T23:00:42.412Z"
   },
   {
    "duration": 108,
    "start_time": "2021-08-12T23:00:42.511Z"
   },
   {
    "duration": 87,
    "start_time": "2021-08-12T23:00:42.621Z"
   },
   {
    "duration": 14,
    "start_time": "2021-08-12T23:00:42.710Z"
   },
   {
    "duration": 3,
    "start_time": "2021-08-12T23:00:42.727Z"
   },
   {
    "duration": 522,
    "start_time": "2021-08-12T23:00:42.733Z"
   },
   {
    "duration": 60,
    "start_time": "2021-08-12T23:00:43.198Z"
   },
   {
    "duration": 36,
    "start_time": "2021-08-12T23:00:43.224Z"
   },
   {
    "duration": 32,
    "start_time": "2021-08-12T23:00:43.229Z"
   },
   {
    "duration": 31,
    "start_time": "2021-08-12T23:00:43.232Z"
   },
   {
    "duration": 29,
    "start_time": "2021-08-12T23:00:43.235Z"
   },
   {
    "duration": 28,
    "start_time": "2021-08-12T23:00:43.238Z"
   },
   {
    "duration": 27,
    "start_time": "2021-08-12T23:00:43.240Z"
   },
   {
    "duration": 26,
    "start_time": "2021-08-12T23:00:43.243Z"
   },
   {
    "duration": 26,
    "start_time": "2021-08-12T23:00:43.245Z"
   },
   {
    "duration": 24,
    "start_time": "2021-08-12T23:00:43.248Z"
   },
   {
    "duration": 22,
    "start_time": "2021-08-12T23:00:43.251Z"
   },
   {
    "duration": 21,
    "start_time": "2021-08-12T23:00:43.254Z"
   },
   {
    "duration": 20,
    "start_time": "2021-08-12T23:00:43.256Z"
   },
   {
    "duration": 19,
    "start_time": "2021-08-12T23:00:43.259Z"
   },
   {
    "duration": 18,
    "start_time": "2021-08-12T23:00:43.261Z"
   },
   {
    "duration": 10,
    "start_time": "2021-08-12T23:00:43.270Z"
   },
   {
    "duration": 9,
    "start_time": "2021-08-12T23:00:43.273Z"
   },
   {
    "duration": 8,
    "start_time": "2021-08-12T23:00:43.275Z"
   },
   {
    "duration": 6,
    "start_time": "2021-08-12T23:00:43.278Z"
   },
   {
    "duration": 6,
    "start_time": "2021-08-12T23:00:43.280Z"
   },
   {
    "duration": 5,
    "start_time": "2021-08-12T23:00:43.282Z"
   },
   {
    "duration": 4,
    "start_time": "2021-08-12T23:00:43.284Z"
   },
   {
    "duration": 3,
    "start_time": "2021-08-12T23:08:43.803Z"
   },
   {
    "duration": 189,
    "start_time": "2021-08-12T23:08:43.809Z"
   },
   {
    "duration": 16,
    "start_time": "2021-08-12T23:08:44.001Z"
   },
   {
    "duration": 31,
    "start_time": "2021-08-12T23:08:44.019Z"
   },
   {
    "duration": 43,
    "start_time": "2021-08-12T23:08:44.052Z"
   },
   {
    "duration": 21,
    "start_time": "2021-08-12T23:08:44.097Z"
   },
   {
    "duration": 4,
    "start_time": "2021-08-12T23:08:44.120Z"
   },
   {
    "duration": 30,
    "start_time": "2021-08-12T23:08:44.127Z"
   },
   {
    "duration": 37,
    "start_time": "2021-08-12T23:08:44.161Z"
   },
   {
    "duration": 29,
    "start_time": "2021-08-12T23:08:44.202Z"
   },
   {
    "duration": 106,
    "start_time": "2021-08-12T23:08:44.233Z"
   },
   {
    "duration": 97,
    "start_time": "2021-08-12T23:08:44.341Z"
   },
   {
    "duration": 79,
    "start_time": "2021-08-12T23:08:44.440Z"
   },
   {
    "duration": 9,
    "start_time": "2021-08-12T23:08:44.521Z"
   },
   {
    "duration": 4,
    "start_time": "2021-08-12T23:08:44.532Z"
   },
   {
    "duration": 545,
    "start_time": "2021-08-12T23:08:44.539Z"
   },
   {
    "duration": 30,
    "start_time": "2021-08-12T23:08:45.057Z"
   },
   {
    "duration": 29,
    "start_time": "2021-08-12T23:08:45.060Z"
   },
   {
    "duration": 27,
    "start_time": "2021-08-12T23:08:45.063Z"
   },
   {
    "duration": 25,
    "start_time": "2021-08-12T23:08:45.066Z"
   },
   {
    "duration": 24,
    "start_time": "2021-08-12T23:08:45.069Z"
   },
   {
    "duration": 21,
    "start_time": "2021-08-12T23:08:45.073Z"
   },
   {
    "duration": 19,
    "start_time": "2021-08-12T23:08:45.077Z"
   },
   {
    "duration": 17,
    "start_time": "2021-08-12T23:08:45.080Z"
   },
   {
    "duration": 14,
    "start_time": "2021-08-12T23:08:45.084Z"
   },
   {
    "duration": 11,
    "start_time": "2021-08-12T23:08:45.088Z"
   },
   {
    "duration": 11,
    "start_time": "2021-08-12T23:08:45.090Z"
   },
   {
    "duration": -4,
    "start_time": "2021-08-12T23:08:45.106Z"
   },
   {
    "duration": -7,
    "start_time": "2021-08-12T23:08:45.110Z"
   },
   {
    "duration": -9,
    "start_time": "2021-08-12T23:08:45.114Z"
   },
   {
    "duration": -11,
    "start_time": "2021-08-12T23:08:45.117Z"
   },
   {
    "duration": -15,
    "start_time": "2021-08-12T23:08:45.122Z"
   },
   {
    "duration": -17,
    "start_time": "2021-08-12T23:08:45.126Z"
   },
   {
    "duration": -20,
    "start_time": "2021-08-12T23:08:45.130Z"
   },
   {
    "duration": -20,
    "start_time": "2021-08-12T23:08:45.132Z"
   },
   {
    "duration": -24,
    "start_time": "2021-08-12T23:08:45.137Z"
   },
   {
    "duration": -34,
    "start_time": "2021-08-12T23:08:45.148Z"
   },
   {
    "duration": -38,
    "start_time": "2021-08-12T23:08:45.153Z"
   },
   {
    "duration": 4,
    "start_time": "2021-08-12T23:10:08.531Z"
   },
   {
    "duration": 197,
    "start_time": "2021-08-12T23:10:08.538Z"
   },
   {
    "duration": 15,
    "start_time": "2021-08-12T23:10:08.738Z"
   },
   {
    "duration": 50,
    "start_time": "2021-08-12T23:10:08.756Z"
   },
   {
    "duration": 7,
    "start_time": "2021-08-12T23:10:08.809Z"
   },
   {
    "duration": 26,
    "start_time": "2021-08-12T23:10:08.819Z"
   },
   {
    "duration": 5,
    "start_time": "2021-08-12T23:10:08.849Z"
   },
   {
    "duration": 60,
    "start_time": "2021-08-12T23:10:08.857Z"
   },
   {
    "duration": 22,
    "start_time": "2021-08-12T23:10:08.920Z"
   },
   {
    "duration": 48,
    "start_time": "2021-08-12T23:10:08.945Z"
   },
   {
    "duration": 124,
    "start_time": "2021-08-12T23:10:08.996Z"
   },
   {
    "duration": 127,
    "start_time": "2021-08-12T23:10:09.123Z"
   },
   {
    "duration": 73,
    "start_time": "2021-08-12T23:10:09.252Z"
   },
   {
    "duration": 9,
    "start_time": "2021-08-12T23:10:09.327Z"
   },
   {
    "duration": 4,
    "start_time": "2021-08-12T23:10:09.339Z"
   },
   {
    "duration": 55,
    "start_time": "2021-08-12T23:10:09.345Z"
   },
   {
    "duration": 273,
    "start_time": "2021-08-12T23:10:09.402Z"
   },
   {
    "duration": 44,
    "start_time": "2021-08-12T23:10:09.634Z"
   },
   {
    "duration": 38,
    "start_time": "2021-08-12T23:10:09.641Z"
   },
   {
    "duration": 37,
    "start_time": "2021-08-12T23:10:09.644Z"
   },
   {
    "duration": 34,
    "start_time": "2021-08-12T23:10:09.648Z"
   },
   {
    "duration": 32,
    "start_time": "2021-08-12T23:10:09.651Z"
   },
   {
    "duration": 29,
    "start_time": "2021-08-12T23:10:09.656Z"
   },
   {
    "duration": 28,
    "start_time": "2021-08-12T23:10:09.658Z"
   },
   {
    "duration": 27,
    "start_time": "2021-08-12T23:10:09.661Z"
   },
   {
    "duration": 25,
    "start_time": "2021-08-12T23:10:09.664Z"
   },
   {
    "duration": 22,
    "start_time": "2021-08-12T23:10:09.668Z"
   },
   {
    "duration": 16,
    "start_time": "2021-08-12T23:10:09.676Z"
   },
   {
    "duration": 14,
    "start_time": "2021-08-12T23:10:09.679Z"
   },
   {
    "duration": 13,
    "start_time": "2021-08-12T23:10:09.681Z"
   },
   {
    "duration": 11,
    "start_time": "2021-08-12T23:10:09.685Z"
   },
   {
    "duration": 9,
    "start_time": "2021-08-12T23:10:09.688Z"
   },
   {
    "duration": 8,
    "start_time": "2021-08-12T23:10:09.691Z"
   },
   {
    "duration": 7,
    "start_time": "2021-08-12T23:10:09.693Z"
   },
   {
    "duration": 6,
    "start_time": "2021-08-12T23:10:09.695Z"
   },
   {
    "duration": 5,
    "start_time": "2021-08-12T23:10:09.698Z"
   },
   {
    "duration": 4,
    "start_time": "2021-08-12T23:10:09.700Z"
   },
   {
    "duration": 4,
    "start_time": "2021-08-12T23:10:09.702Z"
   },
   {
    "duration": 3,
    "start_time": "2021-08-12T23:11:02.010Z"
   },
   {
    "duration": 205,
    "start_time": "2021-08-12T23:11:02.015Z"
   },
   {
    "duration": 17,
    "start_time": "2021-08-12T23:11:02.223Z"
   },
   {
    "duration": 49,
    "start_time": "2021-08-12T23:11:02.243Z"
   },
   {
    "duration": 8,
    "start_time": "2021-08-12T23:11:02.295Z"
   },
   {
    "duration": 18,
    "start_time": "2021-08-12T23:11:02.305Z"
   },
   {
    "duration": 5,
    "start_time": "2021-08-12T23:11:02.326Z"
   },
   {
    "duration": 56,
    "start_time": "2021-08-12T23:11:02.334Z"
   },
   {
    "duration": 22,
    "start_time": "2021-08-12T23:11:02.394Z"
   },
   {
    "duration": 29,
    "start_time": "2021-08-12T23:11:02.419Z"
   },
   {
    "duration": 103,
    "start_time": "2021-08-12T23:11:02.451Z"
   },
   {
    "duration": 95,
    "start_time": "2021-08-12T23:11:02.556Z"
   },
   {
    "duration": 82,
    "start_time": "2021-08-12T23:11:02.653Z"
   },
   {
    "duration": 26,
    "start_time": "2021-08-12T23:11:02.737Z"
   },
   {
    "duration": 18,
    "start_time": "2021-08-12T23:11:02.765Z"
   },
   {
    "duration": 36,
    "start_time": "2021-08-12T23:11:02.786Z"
   },
   {
    "duration": 10,
    "start_time": "2021-08-12T23:11:02.824Z"
   },
   {
    "duration": 3,
    "start_time": "2021-08-12T23:11:02.837Z"
   },
   {
    "duration": 42,
    "start_time": "2021-08-12T23:11:02.842Z"
   },
   {
    "duration": 6,
    "start_time": "2021-08-12T23:11:02.886Z"
   },
   {
    "duration": 10,
    "start_time": "2021-08-12T23:11:02.894Z"
   },
   {
    "duration": 9,
    "start_time": "2021-08-12T23:11:02.906Z"
   },
   {
    "duration": 6,
    "start_time": "2021-08-12T23:11:02.917Z"
   },
   {
    "duration": 10,
    "start_time": "2021-08-12T23:11:02.925Z"
   },
   {
    "duration": 7,
    "start_time": "2021-08-12T23:11:02.937Z"
   },
   {
    "duration": 37,
    "start_time": "2021-08-12T23:11:02.946Z"
   },
   {
    "duration": 3,
    "start_time": "2021-08-12T23:11:02.990Z"
   },
   {
    "duration": 6,
    "start_time": "2021-08-12T23:11:02.995Z"
   },
   {
    "duration": 7,
    "start_time": "2021-08-12T23:11:03.003Z"
   },
   {
    "duration": 9,
    "start_time": "2021-08-12T23:11:03.012Z"
   },
   {
    "duration": 10,
    "start_time": "2021-08-12T23:11:03.023Z"
   },
   {
    "duration": 7,
    "start_time": "2021-08-12T23:11:03.035Z"
   },
   {
    "duration": 38,
    "start_time": "2021-08-12T23:11:03.044Z"
   },
   {
    "duration": 7,
    "start_time": "2021-08-12T23:11:03.084Z"
   },
   {
    "duration": 6,
    "start_time": "2021-08-12T23:11:03.093Z"
   },
   {
    "duration": 9,
    "start_time": "2021-08-12T23:11:03.101Z"
   },
   {
    "duration": 15,
    "start_time": "2021-08-12T23:11:03.112Z"
   },
   {
    "duration": 7,
    "start_time": "2021-08-12T23:11:03.129Z"
   },
   {
    "duration": 4,
    "start_time": "2021-08-12T23:12:37.199Z"
   },
   {
    "duration": 197,
    "start_time": "2021-08-12T23:12:37.206Z"
   },
   {
    "duration": 16,
    "start_time": "2021-08-12T23:12:37.407Z"
   },
   {
    "duration": 42,
    "start_time": "2021-08-12T23:12:37.426Z"
   },
   {
    "duration": 13,
    "start_time": "2021-08-12T23:12:37.471Z"
   },
   {
    "duration": 21,
    "start_time": "2021-08-12T23:12:37.486Z"
   },
   {
    "duration": 10,
    "start_time": "2021-08-12T23:12:37.509Z"
   },
   {
    "duration": 31,
    "start_time": "2021-08-12T23:12:37.521Z"
   },
   {
    "duration": 40,
    "start_time": "2021-08-12T23:12:37.556Z"
   },
   {
    "duration": 30,
    "start_time": "2021-08-12T23:12:37.599Z"
   },
   {
    "duration": 100,
    "start_time": "2021-08-12T23:12:37.632Z"
   },
   {
    "duration": 97,
    "start_time": "2021-08-12T23:12:37.734Z"
   },
   {
    "duration": 102,
    "start_time": "2021-08-12T23:12:37.834Z"
   },
   {
    "duration": 9,
    "start_time": "2021-08-12T23:12:37.938Z"
   },
   {
    "duration": 6,
    "start_time": "2021-08-12T23:12:37.949Z"
   },
   {
    "duration": 13,
    "start_time": "2021-08-12T23:12:37.983Z"
   },
   {
    "duration": 21,
    "start_time": "2021-08-12T23:12:37.998Z"
   },
   {
    "duration": 4,
    "start_time": "2021-08-12T23:12:38.021Z"
   },
   {
    "duration": 12,
    "start_time": "2021-08-12T23:12:38.027Z"
   },
   {
    "duration": 5,
    "start_time": "2021-08-12T23:12:38.041Z"
   },
   {
    "duration": 16,
    "start_time": "2021-08-12T23:12:38.048Z"
   },
   {
    "duration": 6,
    "start_time": "2021-08-12T23:12:38.066Z"
   },
   {
    "duration": 10,
    "start_time": "2021-08-12T23:12:38.074Z"
   },
   {
    "duration": 10,
    "start_time": "2021-08-12T23:12:38.086Z"
   },
   {
    "duration": 10,
    "start_time": "2021-08-12T23:12:38.098Z"
   },
   {
    "duration": 7,
    "start_time": "2021-08-12T23:12:38.110Z"
   },
   {
    "duration": 9,
    "start_time": "2021-08-12T23:12:38.122Z"
   },
   {
    "duration": 20,
    "start_time": "2021-08-12T23:12:38.134Z"
   },
   {
    "duration": 10,
    "start_time": "2021-08-12T23:12:38.157Z"
   },
   {
    "duration": 13,
    "start_time": "2021-08-12T23:12:38.169Z"
   },
   {
    "duration": 13,
    "start_time": "2021-08-12T23:12:38.184Z"
   },
   {
    "duration": 7,
    "start_time": "2021-08-12T23:12:38.199Z"
   },
   {
    "duration": 15,
    "start_time": "2021-08-12T23:12:38.209Z"
   },
   {
    "duration": 13,
    "start_time": "2021-08-12T23:12:38.226Z"
   },
   {
    "duration": 13,
    "start_time": "2021-08-12T23:12:38.242Z"
   },
   {
    "duration": 8,
    "start_time": "2021-08-12T23:12:38.257Z"
   },
   {
    "duration": 13,
    "start_time": "2021-08-12T23:12:38.267Z"
   },
   {
    "duration": 9,
    "start_time": "2021-08-12T23:12:38.282Z"
   },
   {
    "duration": 732,
    "start_time": "2021-08-15T08:31:49.233Z"
   },
   {
    "duration": 187,
    "start_time": "2021-08-15T08:31:49.968Z"
   },
   {
    "duration": 25,
    "start_time": "2021-08-15T08:31:50.159Z"
   },
   {
    "duration": 46,
    "start_time": "2021-08-15T08:31:50.186Z"
   },
   {
    "duration": 6,
    "start_time": "2021-08-15T08:31:50.234Z"
   },
   {
    "duration": 58,
    "start_time": "2021-08-15T08:31:50.242Z"
   },
   {
    "duration": 5,
    "start_time": "2021-08-15T08:31:50.303Z"
   },
   {
    "duration": 34,
    "start_time": "2021-08-15T08:31:50.311Z"
   },
   {
    "duration": 22,
    "start_time": "2021-08-15T08:31:50.349Z"
   },
   {
    "duration": 30,
    "start_time": "2021-08-15T08:31:50.400Z"
   },
   {
    "duration": 99,
    "start_time": "2021-08-15T08:31:50.432Z"
   },
   {
    "duration": 100,
    "start_time": "2021-08-15T08:31:50.534Z"
   },
   {
    "duration": 79,
    "start_time": "2021-08-15T08:31:50.636Z"
   },
   {
    "duration": 10,
    "start_time": "2021-08-15T08:31:50.718Z"
   },
   {
    "duration": 4,
    "start_time": "2021-08-15T08:31:50.730Z"
   },
   {
    "duration": 19,
    "start_time": "2021-08-15T08:31:50.736Z"
   },
   {
    "duration": 9,
    "start_time": "2021-08-15T08:31:50.758Z"
   },
   {
    "duration": 73,
    "start_time": "2021-08-15T08:31:50.769Z"
   },
   {
    "duration": 3,
    "start_time": "2021-08-15T08:31:50.845Z"
   },
   {
    "duration": 11,
    "start_time": "2021-08-15T08:31:50.850Z"
   },
   {
    "duration": 9,
    "start_time": "2021-08-15T08:31:50.863Z"
   },
   {
    "duration": 25,
    "start_time": "2021-08-15T08:31:50.875Z"
   },
   {
    "duration": 3,
    "start_time": "2021-08-15T08:31:50.903Z"
   },
   {
    "duration": 11,
    "start_time": "2021-08-15T08:31:50.908Z"
   },
   {
    "duration": 7,
    "start_time": "2021-08-15T08:31:50.921Z"
   },
   {
    "duration": 11,
    "start_time": "2021-08-15T08:31:50.930Z"
   },
   {
    "duration": 7,
    "start_time": "2021-08-15T08:31:50.945Z"
   },
   {
    "duration": 10,
    "start_time": "2021-08-15T08:31:50.955Z"
   },
   {
    "duration": 5,
    "start_time": "2021-08-15T08:31:50.968Z"
   },
   {
    "duration": 25,
    "start_time": "2021-08-15T08:31:50.975Z"
   },
   {
    "duration": 11,
    "start_time": "2021-08-15T08:31:51.003Z"
   },
   {
    "duration": 8,
    "start_time": "2021-08-15T08:31:51.016Z"
   },
   {
    "duration": 11,
    "start_time": "2021-08-15T08:31:51.026Z"
   },
   {
    "duration": 6,
    "start_time": "2021-08-15T08:31:51.039Z"
   },
   {
    "duration": 16,
    "start_time": "2021-08-15T08:31:51.048Z"
   },
   {
    "duration": 25,
    "start_time": "2021-08-15T08:31:51.066Z"
   },
   {
    "duration": 9,
    "start_time": "2021-08-15T08:31:51.094Z"
   },
   {
    "duration": 10,
    "start_time": "2021-08-15T08:31:51.105Z"
   },
   {
    "duration": 3,
    "start_time": "2021-08-15T08:33:57.591Z"
   },
   {
    "duration": 227,
    "start_time": "2021-08-15T08:33:57.597Z"
   },
   {
    "duration": 24,
    "start_time": "2021-08-15T08:33:57.828Z"
   },
   {
    "duration": 53,
    "start_time": "2021-08-15T08:33:57.855Z"
   },
   {
    "duration": 7,
    "start_time": "2021-08-15T08:33:57.911Z"
   },
   {
    "duration": 30,
    "start_time": "2021-08-15T08:33:57.921Z"
   },
   {
    "duration": 5,
    "start_time": "2021-08-15T08:33:57.957Z"
   },
   {
    "duration": 33,
    "start_time": "2021-08-15T08:33:58.001Z"
   },
   {
    "duration": 33,
    "start_time": "2021-08-15T08:33:58.037Z"
   },
   {
    "duration": 55,
    "start_time": "2021-08-15T08:33:58.073Z"
   },
   {
    "duration": 101,
    "start_time": "2021-08-15T08:33:58.131Z"
   },
   {
    "duration": 100,
    "start_time": "2021-08-15T08:33:58.234Z"
   },
   {
    "duration": 78,
    "start_time": "2021-08-15T08:33:58.337Z"
   },
   {
    "duration": 10,
    "start_time": "2021-08-15T08:33:58.417Z"
   },
   {
    "duration": 4,
    "start_time": "2021-08-15T08:33:58.429Z"
   },
   {
    "duration": 14,
    "start_time": "2021-08-15T08:33:58.436Z"
   },
   {
    "duration": 10,
    "start_time": "2021-08-15T08:33:58.453Z"
   },
   {
    "duration": 17,
    "start_time": "2021-08-15T08:33:58.500Z"
   },
   {
    "duration": 2,
    "start_time": "2021-08-15T08:33:58.522Z"
   },
   {
    "duration": 6,
    "start_time": "2021-08-15T08:33:58.527Z"
   },
   {
    "duration": 11,
    "start_time": "2021-08-15T08:33:58.535Z"
   },
   {
    "duration": 9,
    "start_time": "2021-08-15T08:33:58.548Z"
   },
   {
    "duration": 8,
    "start_time": "2021-08-15T08:33:58.559Z"
   },
   {
    "duration": 31,
    "start_time": "2021-08-15T08:33:58.569Z"
   },
   {
    "duration": 5,
    "start_time": "2021-08-15T08:33:58.603Z"
   },
   {
    "duration": 8,
    "start_time": "2021-08-15T08:33:58.611Z"
   },
   {
    "duration": 5,
    "start_time": "2021-08-15T08:33:58.622Z"
   },
   {
    "duration": 6,
    "start_time": "2021-08-15T08:33:58.630Z"
   },
   {
    "duration": 8,
    "start_time": "2021-08-15T08:33:58.639Z"
   },
   {
    "duration": 8,
    "start_time": "2021-08-15T08:33:58.649Z"
   },
   {
    "duration": 13,
    "start_time": "2021-08-15T08:33:58.660Z"
   },
   {
    "duration": 7,
    "start_time": "2021-08-15T08:33:58.702Z"
   },
   {
    "duration": 10,
    "start_time": "2021-08-15T08:33:58.712Z"
   },
   {
    "duration": 5,
    "start_time": "2021-08-15T08:33:58.725Z"
   },
   {
    "duration": 7,
    "start_time": "2021-08-15T08:33:58.732Z"
   },
   {
    "duration": 7,
    "start_time": "2021-08-15T08:33:58.741Z"
   },
   {
    "duration": 9,
    "start_time": "2021-08-15T08:33:58.750Z"
   },
   {
    "duration": 5,
    "start_time": "2021-08-15T08:33:58.761Z"
   },
   {
    "duration": 3,
    "start_time": "2021-08-15T08:45:34.299Z"
   },
   {
    "duration": 189,
    "start_time": "2021-08-15T08:45:34.305Z"
   },
   {
    "duration": 17,
    "start_time": "2021-08-15T08:45:34.496Z"
   },
   {
    "duration": 34,
    "start_time": "2021-08-15T08:45:34.516Z"
   },
   {
    "duration": 12,
    "start_time": "2021-08-15T08:45:34.552Z"
   },
   {
    "duration": 42,
    "start_time": "2021-08-15T08:45:34.567Z"
   },
   {
    "duration": 6,
    "start_time": "2021-08-15T08:45:34.611Z"
   },
   {
    "duration": 61,
    "start_time": "2021-08-15T08:45:34.619Z"
   },
   {
    "duration": 27,
    "start_time": "2021-08-15T08:45:34.684Z"
   },
   {
    "duration": 29,
    "start_time": "2021-08-15T08:45:34.715Z"
   },
   {
    "duration": 112,
    "start_time": "2021-08-15T08:45:34.747Z"
   },
   {
    "duration": 101,
    "start_time": "2021-08-15T08:45:34.861Z"
   },
   {
    "duration": 83,
    "start_time": "2021-08-15T08:45:34.965Z"
   },
   {
    "duration": 9,
    "start_time": "2021-08-15T08:45:35.050Z"
   },
   {
    "duration": 8,
    "start_time": "2021-08-15T08:45:35.061Z"
   },
   {
    "duration": 35,
    "start_time": "2021-08-15T08:45:35.072Z"
   },
   {
    "duration": 16,
    "start_time": "2021-08-15T08:45:35.110Z"
   },
   {
    "duration": 26,
    "start_time": "2021-08-15T08:45:35.128Z"
   },
   {
    "duration": 14,
    "start_time": "2021-08-15T08:45:35.157Z"
   },
   {
    "duration": 27,
    "start_time": "2021-08-15T08:45:35.173Z"
   },
   {
    "duration": 21,
    "start_time": "2021-08-15T08:45:35.203Z"
   },
   {
    "duration": 18,
    "start_time": "2021-08-15T08:45:35.226Z"
   },
   {
    "duration": 16,
    "start_time": "2021-08-15T08:45:35.246Z"
   },
   {
    "duration": 20,
    "start_time": "2021-08-15T08:45:35.265Z"
   },
   {
    "duration": 15,
    "start_time": "2021-08-15T08:45:35.288Z"
   },
   {
    "duration": 24,
    "start_time": "2021-08-15T08:45:35.305Z"
   },
   {
    "duration": 22,
    "start_time": "2021-08-15T08:45:35.334Z"
   },
   {
    "duration": 14,
    "start_time": "2021-08-15T08:45:35.359Z"
   },
   {
    "duration": 19,
    "start_time": "2021-08-15T08:45:35.375Z"
   },
   {
    "duration": 14,
    "start_time": "2021-08-15T08:45:35.396Z"
   },
   {
    "duration": 24,
    "start_time": "2021-08-15T08:45:35.413Z"
   },
   {
    "duration": 26,
    "start_time": "2021-08-15T08:45:35.440Z"
   },
   {
    "duration": 27,
    "start_time": "2021-08-15T08:45:35.468Z"
   },
   {
    "duration": 9,
    "start_time": "2021-08-15T08:45:35.498Z"
   },
   {
    "duration": 26,
    "start_time": "2021-08-15T08:45:35.509Z"
   },
   {
    "duration": 21,
    "start_time": "2021-08-15T08:45:35.537Z"
   },
   {
    "duration": 21,
    "start_time": "2021-08-15T08:45:35.560Z"
   },
   {
    "duration": 22,
    "start_time": "2021-08-15T08:45:35.584Z"
   },
   {
    "duration": 3,
    "start_time": "2021-08-15T08:46:28.416Z"
   },
   {
    "duration": 194,
    "start_time": "2021-08-15T08:46:28.423Z"
   },
   {
    "duration": 14,
    "start_time": "2021-08-15T08:46:28.620Z"
   },
   {
    "duration": 33,
    "start_time": "2021-08-15T08:46:28.637Z"
   },
   {
    "duration": 28,
    "start_time": "2021-08-15T08:46:28.673Z"
   },
   {
    "duration": 14,
    "start_time": "2021-08-15T08:46:28.703Z"
   },
   {
    "duration": 5,
    "start_time": "2021-08-15T08:46:28.720Z"
   },
   {
    "duration": 35,
    "start_time": "2021-08-15T08:46:28.728Z"
   },
   {
    "duration": 51,
    "start_time": "2021-08-15T08:46:28.767Z"
   },
   {
    "duration": 37,
    "start_time": "2021-08-15T08:46:28.821Z"
   },
   {
    "duration": 93,
    "start_time": "2021-08-15T08:46:28.860Z"
   },
   {
    "duration": 97,
    "start_time": "2021-08-15T08:46:28.956Z"
   },
   {
    "duration": 82,
    "start_time": "2021-08-15T08:46:29.056Z"
   },
   {
    "duration": 9,
    "start_time": "2021-08-15T08:46:29.140Z"
   },
   {
    "duration": 4,
    "start_time": "2021-08-15T08:46:29.152Z"
   },
   {
    "duration": 43,
    "start_time": "2021-08-15T08:46:29.158Z"
   },
   {
    "duration": 14,
    "start_time": "2021-08-15T08:46:29.203Z"
   },
   {
    "duration": 16,
    "start_time": "2021-08-15T08:46:29.219Z"
   },
   {
    "duration": 599,
    "start_time": "2021-08-15T08:46:29.237Z"
   },
   {
    "duration": 3,
    "start_time": "2021-08-15T08:46:29.839Z"
   },
   {
    "duration": 13,
    "start_time": "2021-08-15T08:46:29.844Z"
   },
   {
    "duration": 8,
    "start_time": "2021-08-15T08:46:29.859Z"
   },
   {
    "duration": 8,
    "start_time": "2021-08-15T08:46:29.869Z"
   },
   {
    "duration": 6,
    "start_time": "2021-08-15T08:46:29.879Z"
   },
   {
    "duration": 3,
    "start_time": "2021-08-15T08:46:29.901Z"
   },
   {
    "duration": 15,
    "start_time": "2021-08-15T08:46:29.906Z"
   },
   {
    "duration": 6,
    "start_time": "2021-08-15T08:46:29.926Z"
   },
   {
    "duration": 5,
    "start_time": "2021-08-15T08:46:29.934Z"
   },
   {
    "duration": 6,
    "start_time": "2021-08-15T08:46:29.941Z"
   },
   {
    "duration": 7,
    "start_time": "2021-08-15T08:46:29.949Z"
   },
   {
    "duration": 7,
    "start_time": "2021-08-15T08:46:29.958Z"
   },
   {
    "duration": 6,
    "start_time": "2021-08-15T08:46:29.968Z"
   },
   {
    "duration": 4,
    "start_time": "2021-08-15T08:46:30.004Z"
   },
   {
    "duration": 9,
    "start_time": "2021-08-15T08:46:30.010Z"
   },
   {
    "duration": 21,
    "start_time": "2021-08-15T08:46:30.022Z"
   },
   {
    "duration": 10,
    "start_time": "2021-08-15T08:46:30.045Z"
   },
   {
    "duration": 19,
    "start_time": "2021-08-15T08:46:30.057Z"
   },
   {
    "duration": 7,
    "start_time": "2021-08-15T08:46:30.078Z"
   },
   {
    "duration": 4,
    "start_time": "2021-08-15T08:46:57.842Z"
   },
   {
    "duration": 190,
    "start_time": "2021-08-15T08:46:57.848Z"
   },
   {
    "duration": 14,
    "start_time": "2021-08-15T08:46:58.041Z"
   },
   {
    "duration": 49,
    "start_time": "2021-08-15T08:46:58.058Z"
   },
   {
    "duration": 5,
    "start_time": "2021-08-15T08:46:58.109Z"
   },
   {
    "duration": 16,
    "start_time": "2021-08-15T08:46:58.117Z"
   },
   {
    "duration": 5,
    "start_time": "2021-08-15T08:46:58.135Z"
   },
   {
    "duration": 64,
    "start_time": "2021-08-15T08:46:58.142Z"
   },
   {
    "duration": 21,
    "start_time": "2021-08-15T08:46:58.209Z"
   },
   {
    "duration": 34,
    "start_time": "2021-08-15T08:46:58.233Z"
   },
   {
    "duration": 100,
    "start_time": "2021-08-15T08:46:58.269Z"
   },
   {
    "duration": 102,
    "start_time": "2021-08-15T08:46:58.372Z"
   },
   {
    "duration": 79,
    "start_time": "2021-08-15T08:46:58.477Z"
   },
   {
    "duration": 9,
    "start_time": "2021-08-15T08:46:58.559Z"
   },
   {
    "duration": 4,
    "start_time": "2021-08-15T08:46:58.570Z"
   },
   {
    "duration": 37,
    "start_time": "2021-08-15T08:46:58.576Z"
   },
   {
    "duration": 9,
    "start_time": "2021-08-15T08:46:58.615Z"
   },
   {
    "duration": 14,
    "start_time": "2021-08-15T08:46:58.626Z"
   },
   {
    "duration": 13,
    "start_time": "2021-08-15T08:46:58.642Z"
   },
   {
    "duration": 3,
    "start_time": "2021-08-15T08:46:58.657Z"
   },
   {
    "duration": 38,
    "start_time": "2021-08-15T08:46:58.663Z"
   },
   {
    "duration": 6,
    "start_time": "2021-08-15T08:46:58.703Z"
   },
   {
    "duration": 8,
    "start_time": "2021-08-15T08:46:58.712Z"
   },
   {
    "duration": 5,
    "start_time": "2021-08-15T08:46:58.723Z"
   },
   {
    "duration": 10,
    "start_time": "2021-08-15T08:46:58.730Z"
   },
   {
    "duration": 11,
    "start_time": "2021-08-15T08:46:58.742Z"
   },
   {
    "duration": 5,
    "start_time": "2021-08-15T08:46:58.758Z"
   },
   {
    "duration": 36,
    "start_time": "2021-08-15T08:46:58.765Z"
   },
   {
    "duration": 3,
    "start_time": "2021-08-15T08:46:58.804Z"
   },
   {
    "duration": 6,
    "start_time": "2021-08-15T08:46:58.809Z"
   },
   {
    "duration": 17,
    "start_time": "2021-08-15T08:46:58.818Z"
   },
   {
    "duration": 15,
    "start_time": "2021-08-15T08:46:58.837Z"
   },
   {
    "duration": 22,
    "start_time": "2021-08-15T08:46:58.854Z"
   },
   {
    "duration": 12,
    "start_time": "2021-08-15T08:46:58.879Z"
   },
   {
    "duration": 16,
    "start_time": "2021-08-15T08:46:58.893Z"
   },
   {
    "duration": 26,
    "start_time": "2021-08-15T08:46:58.911Z"
   },
   {
    "duration": 15,
    "start_time": "2021-08-15T08:46:58.939Z"
   },
   {
    "duration": 11,
    "start_time": "2021-08-15T08:46:58.956Z"
   },
   {
    "duration": 3,
    "start_time": "2021-08-15T08:48:00.109Z"
   },
   {
    "duration": 224,
    "start_time": "2021-08-15T08:48:00.116Z"
   },
   {
    "duration": 18,
    "start_time": "2021-08-15T08:48:00.344Z"
   },
   {
    "duration": 50,
    "start_time": "2021-08-15T08:48:00.364Z"
   },
   {
    "duration": 14,
    "start_time": "2021-08-15T08:48:00.417Z"
   },
   {
    "duration": 59,
    "start_time": "2021-08-15T08:48:00.433Z"
   },
   {
    "duration": 5,
    "start_time": "2021-08-15T08:48:00.495Z"
   },
   {
    "duration": 34,
    "start_time": "2021-08-15T08:48:00.502Z"
   },
   {
    "duration": 33,
    "start_time": "2021-08-15T08:48:00.540Z"
   },
   {
    "duration": 44,
    "start_time": "2021-08-15T08:48:00.576Z"
   },
   {
    "duration": 94,
    "start_time": "2021-08-15T08:48:00.623Z"
   },
   {
    "duration": 98,
    "start_time": "2021-08-15T08:48:00.719Z"
   },
   {
    "duration": 87,
    "start_time": "2021-08-15T08:48:00.820Z"
   },
   {
    "duration": 10,
    "start_time": "2021-08-15T08:48:00.910Z"
   },
   {
    "duration": 9,
    "start_time": "2021-08-15T08:48:00.922Z"
   },
   {
    "duration": 30,
    "start_time": "2021-08-15T08:48:00.933Z"
   },
   {
    "duration": 18,
    "start_time": "2021-08-15T08:48:00.966Z"
   },
   {
    "duration": 27,
    "start_time": "2021-08-15T08:48:00.987Z"
   },
   {
    "duration": 48,
    "start_time": "2021-08-15T08:48:01.017Z"
   },
   {
    "duration": 4,
    "start_time": "2021-08-15T08:48:01.067Z"
   },
   {
    "duration": 30,
    "start_time": "2021-08-15T08:48:01.073Z"
   },
   {
    "duration": 22,
    "start_time": "2021-08-15T08:48:01.106Z"
   },
   {
    "duration": 16,
    "start_time": "2021-08-15T08:48:01.131Z"
   },
   {
    "duration": 14,
    "start_time": "2021-08-15T08:48:01.150Z"
   },
   {
    "duration": 12,
    "start_time": "2021-08-15T08:48:01.166Z"
   },
   {
    "duration": 24,
    "start_time": "2021-08-15T08:48:01.180Z"
   },
   {
    "duration": 36,
    "start_time": "2021-08-15T08:48:01.208Z"
   },
   {
    "duration": 25,
    "start_time": "2021-08-15T08:48:01.247Z"
   },
   {
    "duration": 29,
    "start_time": "2021-08-15T08:48:01.274Z"
   },
   {
    "duration": 24,
    "start_time": "2021-08-15T08:48:01.306Z"
   },
   {
    "duration": 44,
    "start_time": "2021-08-15T08:48:01.333Z"
   },
   {
    "duration": 27,
    "start_time": "2021-08-15T08:48:01.379Z"
   },
   {
    "duration": 22,
    "start_time": "2021-08-15T08:48:01.409Z"
   },
   {
    "duration": 13,
    "start_time": "2021-08-15T08:48:01.433Z"
   },
   {
    "duration": 15,
    "start_time": "2021-08-15T08:48:01.449Z"
   },
   {
    "duration": 15,
    "start_time": "2021-08-15T08:48:01.467Z"
   },
   {
    "duration": 18,
    "start_time": "2021-08-15T08:48:01.485Z"
   },
   {
    "duration": 41,
    "start_time": "2021-08-15T08:48:01.505Z"
   },
   {
    "duration": 3,
    "start_time": "2021-08-15T11:55:59.894Z"
   },
   {
    "duration": 225,
    "start_time": "2021-08-15T11:55:59.905Z"
   },
   {
    "duration": 15,
    "start_time": "2021-08-15T11:56:00.133Z"
   },
   {
    "duration": 49,
    "start_time": "2021-08-15T11:56:00.151Z"
   },
   {
    "duration": 6,
    "start_time": "2021-08-15T11:56:00.203Z"
   },
   {
    "duration": 21,
    "start_time": "2021-08-15T11:56:00.211Z"
   },
   {
    "duration": 6,
    "start_time": "2021-08-15T11:56:00.235Z"
   },
   {
    "duration": 58,
    "start_time": "2021-08-15T11:56:00.244Z"
   },
   {
    "duration": 21,
    "start_time": "2021-08-15T11:56:00.305Z"
   },
   {
    "duration": 49,
    "start_time": "2021-08-15T11:56:00.330Z"
   },
   {
    "duration": 90,
    "start_time": "2021-08-15T11:56:00.382Z"
   },
   {
    "duration": 97,
    "start_time": "2021-08-15T11:56:00.474Z"
   },
   {
    "duration": 83,
    "start_time": "2021-08-15T11:56:00.573Z"
   },
   {
    "duration": 12,
    "start_time": "2021-08-15T11:56:00.659Z"
   },
   {
    "duration": 5,
    "start_time": "2021-08-15T11:56:00.674Z"
   },
   {
    "duration": 14,
    "start_time": "2021-08-15T11:56:00.701Z"
   },
   {
    "duration": 16,
    "start_time": "2021-08-15T11:56:00.718Z"
   },
   {
    "duration": 16,
    "start_time": "2021-08-15T11:56:00.737Z"
   },
   {
    "duration": 78,
    "start_time": "2021-08-15T11:56:00.756Z"
   },
   {
    "duration": 5,
    "start_time": "2021-08-15T11:56:00.836Z"
   },
   {
    "duration": 11,
    "start_time": "2021-08-15T11:56:00.844Z"
   },
   {
    "duration": 11,
    "start_time": "2021-08-15T11:56:00.857Z"
   },
   {
    "duration": 7,
    "start_time": "2021-08-15T11:56:00.871Z"
   },
   {
    "duration": 20,
    "start_time": "2021-08-15T11:56:00.881Z"
   },
   {
    "duration": 9,
    "start_time": "2021-08-15T11:56:00.904Z"
   },
   {
    "duration": 16,
    "start_time": "2021-08-15T11:56:00.915Z"
   },
   {
    "duration": 9,
    "start_time": "2021-08-15T11:56:00.933Z"
   },
   {
    "duration": 4,
    "start_time": "2021-08-15T11:56:00.947Z"
   },
   {
    "duration": 9,
    "start_time": "2021-08-15T11:56:00.953Z"
   },
   {
    "duration": 7,
    "start_time": "2021-08-15T11:56:00.965Z"
   },
   {
    "duration": 12,
    "start_time": "2021-08-15T11:56:00.974Z"
   },
   {
    "duration": 12,
    "start_time": "2021-08-15T11:56:00.988Z"
   },
   {
    "duration": 17,
    "start_time": "2021-08-15T11:56:01.002Z"
   },
   {
    "duration": 9,
    "start_time": "2021-08-15T11:56:01.022Z"
   },
   {
    "duration": 7,
    "start_time": "2021-08-15T11:56:01.033Z"
   },
   {
    "duration": 11,
    "start_time": "2021-08-15T11:56:01.042Z"
   },
   {
    "duration": 12,
    "start_time": "2021-08-15T11:56:01.055Z"
   },
   {
    "duration": 11,
    "start_time": "2021-08-15T11:56:01.069Z"
   },
   {
    "duration": 793,
    "start_time": "2021-08-16T18:39:11.807Z"
   },
   {
    "duration": 179,
    "start_time": "2021-08-16T18:39:12.603Z"
   },
   {
    "duration": 32,
    "start_time": "2021-08-16T18:39:12.785Z"
   },
   {
    "duration": 33,
    "start_time": "2021-08-16T18:39:12.820Z"
   },
   {
    "duration": 5,
    "start_time": "2021-08-16T18:39:12.855Z"
   },
   {
    "duration": 55,
    "start_time": "2021-08-16T18:39:12.863Z"
   },
   {
    "duration": 6,
    "start_time": "2021-08-16T18:39:12.921Z"
   },
   {
    "duration": 37,
    "start_time": "2021-08-16T18:39:12.930Z"
   },
   {
    "duration": 39,
    "start_time": "2021-08-16T18:39:12.971Z"
   },
   {
    "duration": 29,
    "start_time": "2021-08-16T18:39:13.013Z"
   },
   {
    "duration": 111,
    "start_time": "2021-08-16T18:39:13.046Z"
   },
   {
    "duration": 101,
    "start_time": "2021-08-16T18:39:13.160Z"
   },
   {
    "duration": 85,
    "start_time": "2021-08-16T18:39:13.264Z"
   },
   {
    "duration": 10,
    "start_time": "2021-08-16T18:39:13.352Z"
   },
   {
    "duration": 5,
    "start_time": "2021-08-16T18:39:13.365Z"
   },
   {
    "duration": 38,
    "start_time": "2021-08-16T18:39:13.373Z"
   },
   {
    "duration": 12,
    "start_time": "2021-08-16T18:39:13.414Z"
   },
   {
    "duration": 16,
    "start_time": "2021-08-16T18:39:13.430Z"
   },
   {
    "duration": 81,
    "start_time": "2021-08-16T18:39:13.449Z"
   },
   {
    "duration": 6,
    "start_time": "2021-08-16T18:39:13.533Z"
   },
   {
    "duration": 32,
    "start_time": "2021-08-16T18:39:13.542Z"
   },
   {
    "duration": 36,
    "start_time": "2021-08-16T18:39:13.578Z"
   },
   {
    "duration": 20,
    "start_time": "2021-08-16T18:39:13.617Z"
   },
   {
    "duration": 19,
    "start_time": "2021-08-16T18:39:13.640Z"
   },
   {
    "duration": 59,
    "start_time": "2021-08-16T18:39:13.661Z"
   },
   {
    "duration": 19,
    "start_time": "2021-08-16T18:39:13.723Z"
   },
   {
    "duration": 3,
    "start_time": "2021-08-16T18:39:13.749Z"
   },
   {
    "duration": 46,
    "start_time": "2021-08-16T18:39:13.755Z"
   },
   {
    "duration": 3,
    "start_time": "2021-08-16T18:39:13.804Z"
   },
   {
    "duration": 5,
    "start_time": "2021-08-16T18:39:13.810Z"
   },
   {
    "duration": 8,
    "start_time": "2021-08-16T18:39:13.817Z"
   },
   {
    "duration": 9,
    "start_time": "2021-08-16T18:39:13.828Z"
   },
   {
    "duration": 14,
    "start_time": "2021-08-16T18:39:13.839Z"
   },
   {
    "duration": 8,
    "start_time": "2021-08-16T18:39:13.856Z"
   },
   {
    "duration": 12,
    "start_time": "2021-08-16T18:39:13.866Z"
   },
   {
    "duration": 20,
    "start_time": "2021-08-16T18:39:13.880Z"
   },
   {
    "duration": 5,
    "start_time": "2021-08-16T18:39:13.903Z"
   },
   {
    "duration": 6,
    "start_time": "2021-08-16T18:39:13.911Z"
   },
   {
    "duration": 4,
    "start_time": "2021-08-16T18:50:02.540Z"
   },
   {
    "duration": 213,
    "start_time": "2021-08-16T18:50:02.546Z"
   },
   {
    "duration": 15,
    "start_time": "2021-08-16T18:50:02.763Z"
   },
   {
    "duration": 54,
    "start_time": "2021-08-16T18:50:02.781Z"
   },
   {
    "duration": 10,
    "start_time": "2021-08-16T18:50:02.837Z"
   },
   {
    "duration": 33,
    "start_time": "2021-08-16T18:50:02.849Z"
   },
   {
    "duration": 15,
    "start_time": "2021-08-16T18:50:02.885Z"
   },
   {
    "duration": 40,
    "start_time": "2021-08-16T18:50:02.903Z"
   },
   {
    "duration": 30,
    "start_time": "2021-08-16T18:50:02.947Z"
   },
   {
    "duration": 38,
    "start_time": "2021-08-16T18:50:02.981Z"
   },
   {
    "duration": 92,
    "start_time": "2021-08-16T18:50:03.022Z"
   },
   {
    "duration": 100,
    "start_time": "2021-08-16T18:50:03.116Z"
   },
   {
    "duration": 86,
    "start_time": "2021-08-16T18:50:03.219Z"
   },
   {
    "duration": 10,
    "start_time": "2021-08-16T18:50:03.307Z"
   },
   {
    "duration": 11,
    "start_time": "2021-08-16T18:50:03.320Z"
   },
   {
    "duration": 23,
    "start_time": "2021-08-16T18:50:03.333Z"
   },
   {
    "duration": 33,
    "start_time": "2021-08-16T18:50:03.358Z"
   },
   {
    "duration": 39,
    "start_time": "2021-08-16T18:50:03.394Z"
   },
   {
    "duration": 54,
    "start_time": "2021-08-16T18:50:03.436Z"
   },
   {
    "duration": 5,
    "start_time": "2021-08-16T18:50:03.492Z"
   },
   {
    "duration": 58,
    "start_time": "2021-08-16T18:50:03.499Z"
   },
   {
    "duration": 46,
    "start_time": "2021-08-16T18:50:03.559Z"
   },
   {
    "duration": 45,
    "start_time": "2021-08-16T18:50:03.607Z"
   },
   {
    "duration": 35,
    "start_time": "2021-08-16T18:50:03.654Z"
   },
   {
    "duration": 29,
    "start_time": "2021-08-16T18:50:03.691Z"
   },
   {
    "duration": 30,
    "start_time": "2021-08-16T18:50:03.723Z"
   },
   {
    "duration": 428,
    "start_time": "2021-08-16T18:50:03.758Z"
   },
   {
    "duration": 140,
    "start_time": "2021-08-16T18:50:04.049Z"
   },
   {
    "duration": 133,
    "start_time": "2021-08-16T18:50:04.058Z"
   },
   {
    "duration": 130,
    "start_time": "2021-08-16T18:50:04.062Z"
   },
   {
    "duration": 128,
    "start_time": "2021-08-16T18:50:04.066Z"
   },
   {
    "duration": 125,
    "start_time": "2021-08-16T18:50:04.070Z"
   },
   {
    "duration": 124,
    "start_time": "2021-08-16T18:50:04.073Z"
   },
   {
    "duration": 120,
    "start_time": "2021-08-16T18:50:04.078Z"
   },
   {
    "duration": 118,
    "start_time": "2021-08-16T18:50:04.081Z"
   },
   {
    "duration": 115,
    "start_time": "2021-08-16T18:50:04.086Z"
   },
   {
    "duration": 113,
    "start_time": "2021-08-16T18:50:04.089Z"
   },
   {
    "duration": 105,
    "start_time": "2021-08-16T18:50:04.099Z"
   },
   {
    "duration": 4,
    "start_time": "2021-08-16T18:51:10.165Z"
   },
   {
    "duration": 189,
    "start_time": "2021-08-16T18:51:10.172Z"
   },
   {
    "duration": 15,
    "start_time": "2021-08-16T18:51:10.364Z"
   },
   {
    "duration": 31,
    "start_time": "2021-08-16T18:51:10.402Z"
   },
   {
    "duration": 6,
    "start_time": "2021-08-16T18:51:10.435Z"
   },
   {
    "duration": 14,
    "start_time": "2021-08-16T18:51:10.443Z"
   },
   {
    "duration": 41,
    "start_time": "2021-08-16T18:51:10.459Z"
   },
   {
    "duration": 30,
    "start_time": "2021-08-16T18:51:10.503Z"
   },
   {
    "duration": 21,
    "start_time": "2021-08-16T18:51:10.537Z"
   },
   {
    "duration": 54,
    "start_time": "2021-08-16T18:51:10.561Z"
   },
   {
    "duration": 95,
    "start_time": "2021-08-16T18:51:10.617Z"
   },
   {
    "duration": 105,
    "start_time": "2021-08-16T18:51:10.714Z"
   },
   {
    "duration": 70,
    "start_time": "2021-08-16T18:51:10.821Z"
   },
   {
    "duration": 9,
    "start_time": "2021-08-16T18:51:10.901Z"
   },
   {
    "duration": 4,
    "start_time": "2021-08-16T18:51:10.913Z"
   },
   {
    "duration": 17,
    "start_time": "2021-08-16T18:51:10.919Z"
   },
   {
    "duration": 13,
    "start_time": "2021-08-16T18:51:10.938Z"
   },
   {
    "duration": 47,
    "start_time": "2021-08-16T18:51:10.953Z"
   },
   {
    "duration": 42,
    "start_time": "2021-08-16T18:51:11.003Z"
   },
   {
    "duration": 4,
    "start_time": "2021-08-16T18:51:11.048Z"
   },
   {
    "duration": 47,
    "start_time": "2021-08-16T18:51:11.055Z"
   },
   {
    "duration": 17,
    "start_time": "2021-08-16T18:51:11.104Z"
   },
   {
    "duration": 24,
    "start_time": "2021-08-16T18:51:11.124Z"
   },
   {
    "duration": 16,
    "start_time": "2021-08-16T18:51:11.151Z"
   },
   {
    "duration": 48,
    "start_time": "2021-08-16T18:51:11.170Z"
   },
   {
    "duration": 25,
    "start_time": "2021-08-16T18:51:11.221Z"
   },
   {
    "duration": 340,
    "start_time": "2021-08-16T18:51:11.253Z"
   },
   {
    "duration": 140,
    "start_time": "2021-08-16T18:51:11.456Z"
   },
   {
    "duration": 126,
    "start_time": "2021-08-16T18:51:11.471Z"
   },
   {
    "duration": 125,
    "start_time": "2021-08-16T18:51:11.474Z"
   },
   {
    "duration": 122,
    "start_time": "2021-08-16T18:51:11.478Z"
   },
   {
    "duration": 120,
    "start_time": "2021-08-16T18:51:11.482Z"
   },
   {
    "duration": 119,
    "start_time": "2021-08-16T18:51:11.485Z"
   },
   {
    "duration": 115,
    "start_time": "2021-08-16T18:51:11.490Z"
   },
   {
    "duration": 113,
    "start_time": "2021-08-16T18:51:11.493Z"
   },
   {
    "duration": 111,
    "start_time": "2021-08-16T18:51:11.497Z"
   },
   {
    "duration": 109,
    "start_time": "2021-08-16T18:51:11.500Z"
   },
   {
    "duration": 107,
    "start_time": "2021-08-16T18:51:11.504Z"
   },
   {
    "duration": 5,
    "start_time": "2021-08-16T18:52:36.269Z"
   },
   {
    "duration": 306,
    "start_time": "2021-08-16T18:52:36.277Z"
   },
   {
    "duration": 23,
    "start_time": "2021-08-16T18:52:36.587Z"
   },
   {
    "duration": 37,
    "start_time": "2021-08-16T18:52:36.613Z"
   },
   {
    "duration": 5,
    "start_time": "2021-08-16T18:52:36.653Z"
   },
   {
    "duration": 46,
    "start_time": "2021-08-16T18:52:36.660Z"
   },
   {
    "duration": 5,
    "start_time": "2021-08-16T18:52:36.710Z"
   },
   {
    "duration": 30,
    "start_time": "2021-08-16T18:52:36.718Z"
   },
   {
    "duration": 50,
    "start_time": "2021-08-16T18:52:36.750Z"
   },
   {
    "duration": 30,
    "start_time": "2021-08-16T18:52:36.803Z"
   },
   {
    "duration": 99,
    "start_time": "2021-08-16T18:52:36.835Z"
   },
   {
    "duration": 102,
    "start_time": "2021-08-16T18:52:36.937Z"
   },
   {
    "duration": 88,
    "start_time": "2021-08-16T18:52:37.042Z"
   },
   {
    "duration": 10,
    "start_time": "2021-08-16T18:52:37.132Z"
   },
   {
    "duration": 4,
    "start_time": "2021-08-16T18:52:37.145Z"
   },
   {
    "duration": 17,
    "start_time": "2021-08-16T18:52:37.152Z"
   },
   {
    "duration": 34,
    "start_time": "2021-08-16T18:52:37.172Z"
   },
   {
    "duration": 16,
    "start_time": "2021-08-16T18:52:37.208Z"
   },
   {
    "duration": 71,
    "start_time": "2021-08-16T18:52:37.229Z"
   },
   {
    "duration": 6,
    "start_time": "2021-08-16T18:52:37.303Z"
   },
   {
    "duration": 30,
    "start_time": "2021-08-16T18:52:37.311Z"
   },
   {
    "duration": 18,
    "start_time": "2021-08-16T18:52:37.343Z"
   },
   {
    "duration": 46,
    "start_time": "2021-08-16T18:52:37.364Z"
   },
   {
    "duration": 25,
    "start_time": "2021-08-16T18:52:37.412Z"
   },
   {
    "duration": 23,
    "start_time": "2021-08-16T18:52:37.439Z"
   },
   {
    "duration": 51,
    "start_time": "2021-08-16T18:52:37.465Z"
   },
   {
    "duration": 382,
    "start_time": "2021-08-16T18:52:37.518Z"
   },
   {
    "duration": 59,
    "start_time": "2021-08-16T18:52:37.844Z"
   },
   {
    "duration": 56,
    "start_time": "2021-08-16T18:52:37.849Z"
   },
   {
    "duration": 54,
    "start_time": "2021-08-16T18:52:37.853Z"
   },
   {
    "duration": 53,
    "start_time": "2021-08-16T18:52:37.856Z"
   },
   {
    "duration": 47,
    "start_time": "2021-08-16T18:52:37.864Z"
   },
   {
    "duration": 46,
    "start_time": "2021-08-16T18:52:37.867Z"
   },
   {
    "duration": 44,
    "start_time": "2021-08-16T18:52:37.871Z"
   },
   {
    "duration": 44,
    "start_time": "2021-08-16T18:52:37.874Z"
   },
   {
    "duration": 43,
    "start_time": "2021-08-16T18:52:37.877Z"
   },
   {
    "duration": 43,
    "start_time": "2021-08-16T18:52:37.879Z"
   },
   {
    "duration": 43,
    "start_time": "2021-08-16T18:52:37.882Z"
   },
   {
    "duration": 3,
    "start_time": "2021-08-16T18:54:36.711Z"
   },
   {
    "duration": 197,
    "start_time": "2021-08-16T18:54:36.717Z"
   },
   {
    "duration": 16,
    "start_time": "2021-08-16T18:54:36.917Z"
   },
   {
    "duration": 38,
    "start_time": "2021-08-16T18:54:36.935Z"
   },
   {
    "duration": 25,
    "start_time": "2021-08-16T18:54:36.976Z"
   },
   {
    "duration": 21,
    "start_time": "2021-08-16T18:54:37.004Z"
   },
   {
    "duration": 5,
    "start_time": "2021-08-16T18:54:37.028Z"
   },
   {
    "duration": 63,
    "start_time": "2021-08-16T18:54:37.037Z"
   },
   {
    "duration": 22,
    "start_time": "2021-08-16T18:54:37.105Z"
   },
   {
    "duration": 30,
    "start_time": "2021-08-16T18:54:37.130Z"
   },
   {
    "duration": 113,
    "start_time": "2021-08-16T18:54:37.163Z"
   },
   {
    "duration": 101,
    "start_time": "2021-08-16T18:54:37.278Z"
   },
   {
    "duration": 77,
    "start_time": "2021-08-16T18:54:37.382Z"
   },
   {
    "duration": 10,
    "start_time": "2021-08-16T18:54:37.461Z"
   },
   {
    "duration": 28,
    "start_time": "2021-08-16T18:54:37.473Z"
   },
   {
    "duration": 17,
    "start_time": "2021-08-16T18:54:37.503Z"
   },
   {
    "duration": 10,
    "start_time": "2021-08-16T18:54:37.523Z"
   },
   {
    "duration": 16,
    "start_time": "2021-08-16T18:54:37.536Z"
   },
   {
    "duration": 81,
    "start_time": "2021-08-16T18:54:37.554Z"
   },
   {
    "duration": 5,
    "start_time": "2021-08-16T18:54:37.638Z"
   },
   {
    "duration": 30,
    "start_time": "2021-08-16T18:54:37.645Z"
   },
   {
    "duration": 42,
    "start_time": "2021-08-16T18:54:37.678Z"
   },
   {
    "duration": 22,
    "start_time": "2021-08-16T18:54:37.723Z"
   },
   {
    "duration": 17,
    "start_time": "2021-08-16T18:54:37.748Z"
   },
   {
    "duration": 21,
    "start_time": "2021-08-16T18:54:37.801Z"
   },
   {
    "duration": 25,
    "start_time": "2021-08-16T18:54:37.825Z"
   },
   {
    "duration": 366,
    "start_time": "2021-08-16T18:54:37.859Z"
   },
   {
    "duration": 154,
    "start_time": "2021-08-16T18:54:38.075Z"
   },
   {
    "duration": 153,
    "start_time": "2021-08-16T18:54:38.078Z"
   },
   {
    "duration": 152,
    "start_time": "2021-08-16T18:54:38.081Z"
   },
   {
    "duration": 152,
    "start_time": "2021-08-16T18:54:38.084Z"
   },
   {
    "duration": 152,
    "start_time": "2021-08-16T18:54:38.086Z"
   },
   {
    "duration": 151,
    "start_time": "2021-08-16T18:54:38.089Z"
   },
   {
    "duration": 150,
    "start_time": "2021-08-16T18:54:38.092Z"
   },
   {
    "duration": 148,
    "start_time": "2021-08-16T18:54:38.096Z"
   },
   {
    "duration": 140,
    "start_time": "2021-08-16T18:54:38.105Z"
   },
   {
    "duration": 138,
    "start_time": "2021-08-16T18:54:38.108Z"
   },
   {
    "duration": 137,
    "start_time": "2021-08-16T18:54:38.111Z"
   },
   {
    "duration": 4,
    "start_time": "2021-08-16T18:54:59.847Z"
   },
   {
    "duration": 319,
    "start_time": "2021-08-16T18:54:59.854Z"
   },
   {
    "duration": 27,
    "start_time": "2021-08-16T18:55:00.178Z"
   },
   {
    "duration": 38,
    "start_time": "2021-08-16T18:55:00.208Z"
   },
   {
    "duration": 6,
    "start_time": "2021-08-16T18:55:00.249Z"
   },
   {
    "duration": 42,
    "start_time": "2021-08-16T18:55:00.258Z"
   },
   {
    "duration": 7,
    "start_time": "2021-08-16T18:55:00.304Z"
   },
   {
    "duration": 61,
    "start_time": "2021-08-16T18:55:00.315Z"
   },
   {
    "duration": 51,
    "start_time": "2021-08-16T18:55:00.383Z"
   },
   {
    "duration": 63,
    "start_time": "2021-08-16T18:55:00.439Z"
   },
   {
    "duration": 141,
    "start_time": "2021-08-16T18:55:00.506Z"
   },
   {
    "duration": 146,
    "start_time": "2021-08-16T18:55:00.650Z"
   },
   {
    "duration": 121,
    "start_time": "2021-08-16T18:55:00.802Z"
   },
   {
    "duration": 14,
    "start_time": "2021-08-16T18:55:00.927Z"
   },
   {
    "duration": 9,
    "start_time": "2021-08-16T18:55:00.944Z"
   },
   {
    "duration": 44,
    "start_time": "2021-08-16T18:55:00.957Z"
   },
   {
    "duration": 14,
    "start_time": "2021-08-16T18:55:01.004Z"
   },
   {
    "duration": 32,
    "start_time": "2021-08-16T18:55:01.022Z"
   },
   {
    "duration": 91,
    "start_time": "2021-08-16T18:55:01.057Z"
   },
   {
    "duration": 7,
    "start_time": "2021-08-16T18:55:01.152Z"
   },
   {
    "duration": 61,
    "start_time": "2021-08-16T18:55:01.162Z"
   },
   {
    "duration": 21,
    "start_time": "2021-08-16T18:55:01.226Z"
   },
   {
    "duration": 22,
    "start_time": "2021-08-16T18:55:01.249Z"
   },
   {
    "duration": 45,
    "start_time": "2021-08-16T18:55:01.274Z"
   },
   {
    "duration": 31,
    "start_time": "2021-08-16T18:55:01.321Z"
   },
   {
    "duration": 26,
    "start_time": "2021-08-16T18:55:01.355Z"
   },
   {
    "duration": 379,
    "start_time": "2021-08-16T18:55:01.407Z"
   },
   {
    "duration": 79,
    "start_time": "2021-08-16T18:55:01.711Z"
   },
   {
    "duration": 77,
    "start_time": "2021-08-16T18:55:01.715Z"
   },
   {
    "duration": 63,
    "start_time": "2021-08-16T18:55:01.732Z"
   },
   {
    "duration": 63,
    "start_time": "2021-08-16T18:55:01.734Z"
   },
   {
    "duration": 63,
    "start_time": "2021-08-16T18:55:01.737Z"
   },
   {
    "duration": 63,
    "start_time": "2021-08-16T18:55:01.739Z"
   },
   {
    "duration": 61,
    "start_time": "2021-08-16T18:55:01.743Z"
   },
   {
    "duration": 61,
    "start_time": "2021-08-16T18:55:01.746Z"
   },
   {
    "duration": 60,
    "start_time": "2021-08-16T18:55:01.749Z"
   },
   {
    "duration": 60,
    "start_time": "2021-08-16T18:55:01.751Z"
   },
   {
    "duration": 59,
    "start_time": "2021-08-16T18:55:01.754Z"
   },
   {
    "duration": 4,
    "start_time": "2021-08-16T19:25:20.540Z"
   },
   {
    "duration": 214,
    "start_time": "2021-08-16T19:25:20.547Z"
   },
   {
    "duration": 15,
    "start_time": "2021-08-16T19:25:20.764Z"
   },
   {
    "duration": 47,
    "start_time": "2021-08-16T19:25:20.782Z"
   },
   {
    "duration": 5,
    "start_time": "2021-08-16T19:25:20.832Z"
   },
   {
    "duration": 27,
    "start_time": "2021-08-16T19:25:20.840Z"
   },
   {
    "duration": 6,
    "start_time": "2021-08-16T19:25:20.869Z"
   },
   {
    "duration": 30,
    "start_time": "2021-08-16T19:25:20.901Z"
   },
   {
    "duration": 28,
    "start_time": "2021-08-16T19:25:20.935Z"
   },
   {
    "duration": 51,
    "start_time": "2021-08-16T19:25:20.966Z"
   },
   {
    "duration": 110,
    "start_time": "2021-08-16T19:25:21.019Z"
   },
   {
    "duration": 117,
    "start_time": "2021-08-16T19:25:21.132Z"
   },
   {
    "duration": 88,
    "start_time": "2021-08-16T19:25:21.251Z"
   },
   {
    "duration": 10,
    "start_time": "2021-08-16T19:25:21.341Z"
   },
   {
    "duration": 7,
    "start_time": "2021-08-16T19:25:21.353Z"
   },
   {
    "duration": 39,
    "start_time": "2021-08-16T19:25:21.362Z"
   },
   {
    "duration": 9,
    "start_time": "2021-08-16T19:25:21.404Z"
   },
   {
    "duration": 17,
    "start_time": "2021-08-16T19:25:21.416Z"
   },
   {
    "duration": 73,
    "start_time": "2021-08-16T19:25:21.436Z"
   },
   {
    "duration": 5,
    "start_time": "2021-08-16T19:25:21.512Z"
   },
   {
    "duration": 27,
    "start_time": "2021-08-16T19:25:21.519Z"
   },
   {
    "duration": 18,
    "start_time": "2021-08-16T19:25:21.549Z"
   },
   {
    "duration": 47,
    "start_time": "2021-08-16T19:25:21.570Z"
   },
   {
    "duration": 17,
    "start_time": "2021-08-16T19:25:21.619Z"
   },
   {
    "duration": 20,
    "start_time": "2021-08-16T19:25:21.639Z"
   },
   {
    "duration": 51,
    "start_time": "2021-08-16T19:25:21.661Z"
   },
   {
    "duration": 330,
    "start_time": "2021-08-16T19:25:21.718Z"
   },
   {
    "duration": -108,
    "start_time": "2021-08-16T19:25:22.158Z"
   },
   {
    "duration": -111,
    "start_time": "2021-08-16T19:25:22.163Z"
   },
   {
    "duration": -118,
    "start_time": "2021-08-16T19:25:22.171Z"
   },
   {
    "duration": -120,
    "start_time": "2021-08-16T19:25:22.174Z"
   },
   {
    "duration": -123,
    "start_time": "2021-08-16T19:25:22.179Z"
   },
   {
    "duration": -127,
    "start_time": "2021-08-16T19:25:22.184Z"
   },
   {
    "duration": -129,
    "start_time": "2021-08-16T19:25:22.187Z"
   },
   {
    "duration": -132,
    "start_time": "2021-08-16T19:25:22.191Z"
   },
   {
    "duration": -134,
    "start_time": "2021-08-16T19:25:22.194Z"
   },
   {
    "duration": -137,
    "start_time": "2021-08-16T19:25:22.198Z"
   },
   {
    "duration": -138,
    "start_time": "2021-08-16T19:25:22.201Z"
   },
   {
    "duration": 3,
    "start_time": "2021-08-16T19:26:03.052Z"
   },
   {
    "duration": 206,
    "start_time": "2021-08-16T19:26:03.058Z"
   },
   {
    "duration": 16,
    "start_time": "2021-08-16T19:26:03.267Z"
   },
   {
    "duration": 31,
    "start_time": "2021-08-16T19:26:03.300Z"
   },
   {
    "duration": 10,
    "start_time": "2021-08-16T19:26:03.334Z"
   },
   {
    "duration": 29,
    "start_time": "2021-08-16T19:26:03.346Z"
   },
   {
    "duration": 21,
    "start_time": "2021-08-16T19:26:03.379Z"
   },
   {
    "duration": 31,
    "start_time": "2021-08-16T19:26:03.403Z"
   },
   {
    "duration": 25,
    "start_time": "2021-08-16T19:26:03.436Z"
   },
   {
    "duration": 66,
    "start_time": "2021-08-16T19:26:03.464Z"
   },
   {
    "duration": 104,
    "start_time": "2021-08-16T19:26:03.532Z"
   },
   {
    "duration": 104,
    "start_time": "2021-08-16T19:26:03.638Z"
   },
   {
    "duration": 94,
    "start_time": "2021-08-16T19:26:03.744Z"
   },
   {
    "duration": 25,
    "start_time": "2021-08-16T19:26:03.841Z"
   },
   {
    "duration": 13,
    "start_time": "2021-08-16T19:26:03.869Z"
   },
   {
    "duration": 32,
    "start_time": "2021-08-16T19:26:03.885Z"
   },
   {
    "duration": 22,
    "start_time": "2021-08-16T19:26:03.921Z"
   },
   {
    "duration": 24,
    "start_time": "2021-08-16T19:26:03.946Z"
   },
   {
    "duration": 79,
    "start_time": "2021-08-16T19:26:04.000Z"
   },
   {
    "duration": 17,
    "start_time": "2021-08-16T19:26:04.084Z"
   },
   {
    "duration": 43,
    "start_time": "2021-08-16T19:26:04.110Z"
   },
   {
    "duration": 55,
    "start_time": "2021-08-16T19:26:04.157Z"
   },
   {
    "duration": 38,
    "start_time": "2021-08-16T19:26:04.221Z"
   },
   {
    "duration": 25,
    "start_time": "2021-08-16T19:26:04.262Z"
   },
   {
    "duration": 21,
    "start_time": "2021-08-16T19:26:04.290Z"
   },
   {
    "duration": 21,
    "start_time": "2021-08-16T19:26:04.313Z"
   },
   {
    "duration": 379,
    "start_time": "2021-08-16T19:26:04.337Z"
   },
   {
    "duration": -39,
    "start_time": "2021-08-16T19:26:04.757Z"
   },
   {
    "duration": -43,
    "start_time": "2021-08-16T19:26:04.763Z"
   },
   {
    "duration": -50,
    "start_time": "2021-08-16T19:26:04.771Z"
   },
   {
    "duration": -52,
    "start_time": "2021-08-16T19:26:04.774Z"
   },
   {
    "duration": -53,
    "start_time": "2021-08-16T19:26:04.777Z"
   },
   {
    "duration": -54,
    "start_time": "2021-08-16T19:26:04.779Z"
   },
   {
    "duration": -56,
    "start_time": "2021-08-16T19:26:04.782Z"
   },
   {
    "duration": -57,
    "start_time": "2021-08-16T19:26:04.785Z"
   },
   {
    "duration": -60,
    "start_time": "2021-08-16T19:26:04.789Z"
   },
   {
    "duration": -62,
    "start_time": "2021-08-16T19:26:04.792Z"
   },
   {
    "duration": -62,
    "start_time": "2021-08-16T19:26:04.794Z"
   },
   {
    "duration": 5,
    "start_time": "2021-08-16T19:26:41.312Z"
   },
   {
    "duration": 196,
    "start_time": "2021-08-16T19:26:41.320Z"
   },
   {
    "duration": 18,
    "start_time": "2021-08-16T19:26:41.520Z"
   },
   {
    "duration": 73,
    "start_time": "2021-08-16T19:26:41.541Z"
   },
   {
    "duration": 7,
    "start_time": "2021-08-16T19:26:41.617Z"
   },
   {
    "duration": 21,
    "start_time": "2021-08-16T19:26:41.626Z"
   },
   {
    "duration": 6,
    "start_time": "2021-08-16T19:26:41.649Z"
   },
   {
    "duration": 64,
    "start_time": "2021-08-16T19:26:41.657Z"
   },
   {
    "duration": 23,
    "start_time": "2021-08-16T19:26:41.728Z"
   },
   {
    "duration": 48,
    "start_time": "2021-08-16T19:26:41.754Z"
   },
   {
    "duration": 98,
    "start_time": "2021-08-16T19:26:41.804Z"
   },
   {
    "duration": 98,
    "start_time": "2021-08-16T19:26:41.905Z"
   },
   {
    "duration": 74,
    "start_time": "2021-08-16T19:26:42.005Z"
   },
   {
    "duration": 23,
    "start_time": "2021-08-16T19:26:42.081Z"
   },
   {
    "duration": 6,
    "start_time": "2021-08-16T19:26:42.107Z"
   },
   {
    "duration": 30,
    "start_time": "2021-08-16T19:26:42.116Z"
   },
   {
    "duration": 19,
    "start_time": "2021-08-16T19:26:42.149Z"
   },
   {
    "duration": 41,
    "start_time": "2021-08-16T19:26:42.170Z"
   },
   {
    "duration": 55,
    "start_time": "2021-08-16T19:26:42.214Z"
   },
   {
    "duration": 5,
    "start_time": "2021-08-16T19:26:42.272Z"
   },
   {
    "duration": 40,
    "start_time": "2021-08-16T19:26:42.280Z"
   },
   {
    "duration": 19,
    "start_time": "2021-08-16T19:26:42.323Z"
   },
   {
    "duration": 57,
    "start_time": "2021-08-16T19:26:42.345Z"
   },
   {
    "duration": 20,
    "start_time": "2021-08-16T19:26:42.405Z"
   },
   {
    "duration": 23,
    "start_time": "2021-08-16T19:26:42.428Z"
   },
   {
    "duration": 54,
    "start_time": "2021-08-16T19:26:42.453Z"
   },
   {
    "duration": 367,
    "start_time": "2021-08-16T19:26:42.512Z"
   },
   {
    "duration": -52,
    "start_time": "2021-08-16T19:26:42.934Z"
   },
   {
    "duration": -54,
    "start_time": "2021-08-16T19:26:42.938Z"
   },
   {
    "duration": -83,
    "start_time": "2021-08-16T19:26:42.968Z"
   },
   {
    "duration": -84,
    "start_time": "2021-08-16T19:26:42.971Z"
   },
   {
    "duration": -86,
    "start_time": "2021-08-16T19:26:42.974Z"
   },
   {
    "duration": -86,
    "start_time": "2021-08-16T19:26:42.976Z"
   },
   {
    "duration": -87,
    "start_time": "2021-08-16T19:26:42.979Z"
   },
   {
    "duration": -95,
    "start_time": "2021-08-16T19:26:42.988Z"
   },
   {
    "duration": -97,
    "start_time": "2021-08-16T19:26:42.991Z"
   },
   {
    "duration": -98,
    "start_time": "2021-08-16T19:26:42.994Z"
   },
   {
    "duration": -101,
    "start_time": "2021-08-16T19:26:42.998Z"
   },
   {
    "duration": 4,
    "start_time": "2021-08-16T19:27:49.632Z"
   },
   {
    "duration": 207,
    "start_time": "2021-08-16T19:27:49.639Z"
   },
   {
    "duration": 15,
    "start_time": "2021-08-16T19:27:49.849Z"
   },
   {
    "duration": 51,
    "start_time": "2021-08-16T19:27:49.868Z"
   },
   {
    "duration": 6,
    "start_time": "2021-08-16T19:27:49.921Z"
   },
   {
    "duration": 20,
    "start_time": "2021-08-16T19:27:49.930Z"
   },
   {
    "duration": 5,
    "start_time": "2021-08-16T19:27:49.953Z"
   },
   {
    "duration": 69,
    "start_time": "2021-08-16T19:27:49.960Z"
   },
   {
    "duration": 22,
    "start_time": "2021-08-16T19:27:50.033Z"
   },
   {
    "duration": 47,
    "start_time": "2021-08-16T19:27:50.059Z"
   },
   {
    "duration": 95,
    "start_time": "2021-08-16T19:27:50.108Z"
   },
   {
    "duration": 105,
    "start_time": "2021-08-16T19:27:50.205Z"
   },
   {
    "duration": 74,
    "start_time": "2021-08-16T19:27:50.312Z"
   },
   {
    "duration": 18,
    "start_time": "2021-08-16T19:27:50.389Z"
   },
   {
    "duration": 4,
    "start_time": "2021-08-16T19:27:50.410Z"
   },
   {
    "duration": 19,
    "start_time": "2021-08-16T19:27:50.416Z"
   },
   {
    "duration": 17,
    "start_time": "2021-08-16T19:27:50.438Z"
   },
   {
    "duration": 49,
    "start_time": "2021-08-16T19:27:50.457Z"
   },
   {
    "duration": 45,
    "start_time": "2021-08-16T19:27:50.508Z"
   },
   {
    "duration": 5,
    "start_time": "2021-08-16T19:27:50.555Z"
   },
   {
    "duration": 48,
    "start_time": "2021-08-16T19:27:50.562Z"
   },
   {
    "duration": 18,
    "start_time": "2021-08-16T19:27:50.613Z"
   },
   {
    "duration": 23,
    "start_time": "2021-08-16T19:27:50.634Z"
   },
   {
    "duration": 47,
    "start_time": "2021-08-16T19:27:50.660Z"
   },
   {
    "duration": 24,
    "start_time": "2021-08-16T19:27:50.710Z"
   },
   {
    "duration": 20,
    "start_time": "2021-08-16T19:27:50.737Z"
   },
   {
    "duration": 343,
    "start_time": "2021-08-16T19:27:50.800Z"
   },
   {
    "duration": -112,
    "start_time": "2021-08-16T19:27:51.259Z"
   },
   {
    "duration": -116,
    "start_time": "2021-08-16T19:27:51.264Z"
   },
   {
    "duration": -123,
    "start_time": "2021-08-16T19:27:51.273Z"
   },
   {
    "duration": -124,
    "start_time": "2021-08-16T19:27:51.277Z"
   },
   {
    "duration": -125,
    "start_time": "2021-08-16T19:27:51.280Z"
   },
   {
    "duration": -125,
    "start_time": "2021-08-16T19:27:51.282Z"
   },
   {
    "duration": -125,
    "start_time": "2021-08-16T19:27:51.285Z"
   },
   {
    "duration": -126,
    "start_time": "2021-08-16T19:27:51.288Z"
   },
   {
    "duration": -127,
    "start_time": "2021-08-16T19:27:51.291Z"
   },
   {
    "duration": -127,
    "start_time": "2021-08-16T19:27:51.293Z"
   },
   {
    "duration": -128,
    "start_time": "2021-08-16T19:27:51.296Z"
   },
   {
    "duration": 4,
    "start_time": "2021-08-16T19:52:35.336Z"
   },
   {
    "duration": 211,
    "start_time": "2021-08-16T19:52:35.343Z"
   },
   {
    "duration": 15,
    "start_time": "2021-08-16T19:52:35.557Z"
   },
   {
    "duration": 52,
    "start_time": "2021-08-16T19:52:35.575Z"
   },
   {
    "duration": 6,
    "start_time": "2021-08-16T19:52:35.630Z"
   },
   {
    "duration": 22,
    "start_time": "2021-08-16T19:52:35.638Z"
   },
   {
    "duration": 5,
    "start_time": "2021-08-16T19:52:35.662Z"
   },
   {
    "duration": 58,
    "start_time": "2021-08-16T19:52:35.670Z"
   },
   {
    "duration": 22,
    "start_time": "2021-08-16T19:52:35.733Z"
   },
   {
    "duration": 55,
    "start_time": "2021-08-16T19:52:35.758Z"
   },
   {
    "duration": 94,
    "start_time": "2021-08-16T19:52:35.815Z"
   },
   {
    "duration": 99,
    "start_time": "2021-08-16T19:52:35.911Z"
   },
   {
    "duration": 75,
    "start_time": "2021-08-16T19:52:36.013Z"
   },
   {
    "duration": 10,
    "start_time": "2021-08-16T19:52:36.101Z"
   },
   {
    "duration": 5,
    "start_time": "2021-08-16T19:52:36.113Z"
   },
   {
    "duration": 19,
    "start_time": "2021-08-16T19:52:36.120Z"
   },
   {
    "duration": 12,
    "start_time": "2021-08-16T19:52:36.142Z"
   },
   {
    "duration": 51,
    "start_time": "2021-08-16T19:52:36.156Z"
   },
   {
    "duration": 45,
    "start_time": "2021-08-16T19:52:36.210Z"
   },
   {
    "duration": 5,
    "start_time": "2021-08-16T19:52:36.258Z"
   },
   {
    "duration": 51,
    "start_time": "2021-08-16T19:52:36.266Z"
   },
   {
    "duration": 19,
    "start_time": "2021-08-16T19:52:36.320Z"
   },
   {
    "duration": 21,
    "start_time": "2021-08-16T19:52:36.342Z"
   },
   {
    "duration": 43,
    "start_time": "2021-08-16T19:52:36.366Z"
   },
   {
    "duration": 21,
    "start_time": "2021-08-16T19:52:36.411Z"
   },
   {
    "duration": 19,
    "start_time": "2021-08-16T19:52:36.435Z"
   },
   {
    "duration": 333,
    "start_time": "2021-08-16T19:52:36.459Z"
   },
   {
    "duration": -74,
    "start_time": "2021-08-16T19:52:36.869Z"
   },
   {
    "duration": -77,
    "start_time": "2021-08-16T19:52:36.873Z"
   },
   {
    "duration": -78,
    "start_time": "2021-08-16T19:52:36.876Z"
   },
   {
    "duration": -80,
    "start_time": "2021-08-16T19:52:36.879Z"
   },
   {
    "duration": -85,
    "start_time": "2021-08-16T19:52:36.886Z"
   },
   {
    "duration": -88,
    "start_time": "2021-08-16T19:52:36.890Z"
   },
   {
    "duration": -90,
    "start_time": "2021-08-16T19:52:36.893Z"
   },
   {
    "duration": -91,
    "start_time": "2021-08-16T19:52:36.895Z"
   },
   {
    "duration": -93,
    "start_time": "2021-08-16T19:52:36.898Z"
   },
   {
    "duration": -93,
    "start_time": "2021-08-16T19:52:36.900Z"
   },
   {
    "duration": -95,
    "start_time": "2021-08-16T19:52:36.903Z"
   },
   {
    "duration": 4,
    "start_time": "2021-08-16T19:53:13.615Z"
   },
   {
    "duration": 205,
    "start_time": "2021-08-16T19:53:13.622Z"
   },
   {
    "duration": 15,
    "start_time": "2021-08-16T19:53:13.830Z"
   },
   {
    "duration": 33,
    "start_time": "2021-08-16T19:53:13.848Z"
   },
   {
    "duration": 6,
    "start_time": "2021-08-16T19:53:13.901Z"
   },
   {
    "duration": 22,
    "start_time": "2021-08-16T19:53:13.909Z"
   },
   {
    "duration": 5,
    "start_time": "2021-08-16T19:53:13.933Z"
   },
   {
    "duration": 60,
    "start_time": "2021-08-16T19:53:13.940Z"
   },
   {
    "duration": 22,
    "start_time": "2021-08-16T19:53:14.004Z"
   },
   {
    "duration": 32,
    "start_time": "2021-08-16T19:53:14.029Z"
   },
   {
    "duration": 112,
    "start_time": "2021-08-16T19:53:14.063Z"
   },
   {
    "duration": 102,
    "start_time": "2021-08-16T19:53:14.177Z"
   },
   {
    "duration": 85,
    "start_time": "2021-08-16T19:53:14.282Z"
   },
   {
    "duration": 9,
    "start_time": "2021-08-16T19:53:14.370Z"
   },
   {
    "duration": 19,
    "start_time": "2021-08-16T19:53:14.382Z"
   },
   {
    "duration": 16,
    "start_time": "2021-08-16T19:53:14.404Z"
   },
   {
    "duration": 13,
    "start_time": "2021-08-16T19:53:14.422Z"
   },
   {
    "duration": 16,
    "start_time": "2021-08-16T19:53:14.437Z"
   },
   {
    "duration": 79,
    "start_time": "2021-08-16T19:53:14.455Z"
   },
   {
    "duration": 4,
    "start_time": "2021-08-16T19:53:14.537Z"
   },
   {
    "duration": 28,
    "start_time": "2021-08-16T19:53:14.544Z"
   },
   {
    "duration": 35,
    "start_time": "2021-08-16T19:53:14.574Z"
   },
   {
    "duration": 20,
    "start_time": "2021-08-16T19:53:14.611Z"
   },
   {
    "duration": 18,
    "start_time": "2021-08-16T19:53:14.633Z"
   },
   {
    "duration": 54,
    "start_time": "2021-08-16T19:53:14.654Z"
   },
   {
    "duration": 19,
    "start_time": "2021-08-16T19:53:14.710Z"
   },
   {
    "duration": 71,
    "start_time": "2021-08-16T19:53:14.734Z"
   },
   {
    "duration": 3,
    "start_time": "2021-08-16T19:53:14.808Z"
   },
   {
    "duration": 14,
    "start_time": "2021-08-16T19:53:14.813Z"
   },
   {
    "duration": 11,
    "start_time": "2021-08-16T19:53:14.830Z"
   },
   {
    "duration": 14,
    "start_time": "2021-08-16T19:53:14.843Z"
   },
   {
    "duration": 6,
    "start_time": "2021-08-16T19:53:14.859Z"
   },
   {
    "duration": 13,
    "start_time": "2021-08-16T19:53:14.867Z"
   },
   {
    "duration": 9,
    "start_time": "2021-08-16T19:53:14.882Z"
   },
   {
    "duration": 3,
    "start_time": "2021-08-16T19:53:14.901Z"
   },
   {
    "duration": 12,
    "start_time": "2021-08-16T19:53:14.906Z"
   },
   {
    "duration": 12,
    "start_time": "2021-08-16T19:53:14.920Z"
   },
   {
    "duration": 9,
    "start_time": "2021-08-16T19:53:14.934Z"
   },
   {
    "duration": 4,
    "start_time": "2021-08-16T19:55:18.687Z"
   },
   {
    "duration": 193,
    "start_time": "2021-08-16T19:55:18.694Z"
   },
   {
    "duration": 19,
    "start_time": "2021-08-16T19:55:18.890Z"
   },
   {
    "duration": 36,
    "start_time": "2021-08-16T19:55:18.912Z"
   },
   {
    "duration": 7,
    "start_time": "2021-08-16T19:55:18.951Z"
   },
   {
    "duration": 53,
    "start_time": "2021-08-16T19:55:18.961Z"
   },
   {
    "duration": 6,
    "start_time": "2021-08-16T19:55:19.018Z"
   },
   {
    "duration": 31,
    "start_time": "2021-08-16T19:55:19.026Z"
   },
   {
    "duration": 54,
    "start_time": "2021-08-16T19:55:19.060Z"
   },
   {
    "duration": 29,
    "start_time": "2021-08-16T19:55:19.117Z"
   },
   {
    "duration": 98,
    "start_time": "2021-08-16T19:55:19.148Z"
   },
   {
    "duration": 104,
    "start_time": "2021-08-16T19:55:19.249Z"
   },
   {
    "duration": 83,
    "start_time": "2021-08-16T19:55:19.356Z"
   },
   {
    "duration": 10,
    "start_time": "2021-08-16T19:55:19.442Z"
   },
   {
    "duration": 4,
    "start_time": "2021-08-16T19:55:19.455Z"
   },
   {
    "duration": 40,
    "start_time": "2021-08-16T19:55:19.461Z"
   },
   {
    "duration": 10,
    "start_time": "2021-08-16T19:55:19.503Z"
   },
   {
    "duration": 15,
    "start_time": "2021-08-16T19:55:19.515Z"
   },
   {
    "duration": 72,
    "start_time": "2021-08-16T19:55:19.535Z"
   },
   {
    "duration": 5,
    "start_time": "2021-08-16T19:55:19.610Z"
   },
   {
    "duration": 26,
    "start_time": "2021-08-16T19:55:19.617Z"
   },
   {
    "duration": 19,
    "start_time": "2021-08-16T19:55:19.646Z"
   },
   {
    "duration": 47,
    "start_time": "2021-08-16T19:55:19.667Z"
   },
   {
    "duration": 17,
    "start_time": "2021-08-16T19:55:19.716Z"
   },
   {
    "duration": 20,
    "start_time": "2021-08-16T19:55:19.736Z"
   },
   {
    "duration": 51,
    "start_time": "2021-08-16T19:55:19.759Z"
   },
   {
    "duration": 365,
    "start_time": "2021-08-16T19:55:19.813Z"
   },
   {
    "duration": -120,
    "start_time": "2021-08-16T19:55:20.300Z"
   },
   {
    "duration": -122,
    "start_time": "2021-08-16T19:55:20.304Z"
   },
   {
    "duration": -124,
    "start_time": "2021-08-16T19:55:20.307Z"
   },
   {
    "duration": -124,
    "start_time": "2021-08-16T19:55:20.309Z"
   },
   {
    "duration": -128,
    "start_time": "2021-08-16T19:55:20.314Z"
   },
   {
    "duration": -129,
    "start_time": "2021-08-16T19:55:20.317Z"
   },
   {
    "duration": -131,
    "start_time": "2021-08-16T19:55:20.320Z"
   },
   {
    "duration": -132,
    "start_time": "2021-08-16T19:55:20.322Z"
   },
   {
    "duration": -133,
    "start_time": "2021-08-16T19:55:20.325Z"
   },
   {
    "duration": -134,
    "start_time": "2021-08-16T19:55:20.327Z"
   },
   {
    "duration": -136,
    "start_time": "2021-08-16T19:55:20.330Z"
   },
   {
    "duration": 3,
    "start_time": "2021-08-16T19:57:32.637Z"
   },
   {
    "duration": 189,
    "start_time": "2021-08-16T19:57:32.643Z"
   },
   {
    "duration": 25,
    "start_time": "2021-08-16T19:57:32.837Z"
   },
   {
    "duration": 56,
    "start_time": "2021-08-16T19:57:32.867Z"
   },
   {
    "duration": 8,
    "start_time": "2021-08-16T19:57:32.927Z"
   },
   {
    "duration": 40,
    "start_time": "2021-08-16T19:57:32.938Z"
   },
   {
    "duration": 6,
    "start_time": "2021-08-16T19:57:32.999Z"
   },
   {
    "duration": 34,
    "start_time": "2021-08-16T19:57:33.008Z"
   },
   {
    "duration": 22,
    "start_time": "2021-08-16T19:57:33.046Z"
   },
   {
    "duration": 32,
    "start_time": "2021-08-16T19:57:33.100Z"
   },
   {
    "duration": 99,
    "start_time": "2021-08-16T19:57:33.134Z"
   },
   {
    "duration": 117,
    "start_time": "2021-08-16T19:57:33.236Z"
   },
   {
    "duration": 89,
    "start_time": "2021-08-16T19:57:33.355Z"
   },
   {
    "duration": 11,
    "start_time": "2021-08-16T19:57:33.447Z"
   },
   {
    "duration": 14,
    "start_time": "2021-08-16T19:57:33.461Z"
   },
   {
    "duration": 45,
    "start_time": "2021-08-16T19:57:33.477Z"
   },
   {
    "duration": 13,
    "start_time": "2021-08-16T19:57:33.525Z"
   },
   {
    "duration": 24,
    "start_time": "2021-08-16T19:57:33.541Z"
   },
   {
    "duration": 60,
    "start_time": "2021-08-16T19:57:33.568Z"
   },
   {
    "duration": 6,
    "start_time": "2021-08-16T19:57:33.631Z"
   },
   {
    "duration": 38,
    "start_time": "2021-08-16T19:57:33.640Z"
   },
   {
    "duration": 29,
    "start_time": "2021-08-16T19:57:33.681Z"
   },
   {
    "duration": 35,
    "start_time": "2021-08-16T19:57:33.713Z"
   },
   {
    "duration": 25,
    "start_time": "2021-08-16T19:57:33.751Z"
   },
   {
    "duration": 34,
    "start_time": "2021-08-16T19:57:33.779Z"
   },
   {
    "duration": 23,
    "start_time": "2021-08-16T19:57:33.816Z"
   },
   {
    "duration": 4,
    "start_time": "2021-08-16T19:57:41.624Z"
   },
   {
    "duration": 207,
    "start_time": "2021-08-16T19:57:41.631Z"
   },
   {
    "duration": 15,
    "start_time": "2021-08-16T19:57:41.841Z"
   },
   {
    "duration": 54,
    "start_time": "2021-08-16T19:57:41.859Z"
   },
   {
    "duration": 6,
    "start_time": "2021-08-16T19:57:41.916Z"
   },
   {
    "duration": 25,
    "start_time": "2021-08-16T19:57:41.925Z"
   },
   {
    "duration": 7,
    "start_time": "2021-08-16T19:57:41.953Z"
   },
   {
    "duration": 65,
    "start_time": "2021-08-16T19:57:41.963Z"
   },
   {
    "duration": 24,
    "start_time": "2021-08-16T19:57:42.033Z"
   },
   {
    "duration": 49,
    "start_time": "2021-08-16T19:57:42.061Z"
   },
   {
    "duration": 110,
    "start_time": "2021-08-16T19:57:42.113Z"
   },
   {
    "duration": 138,
    "start_time": "2021-08-16T19:57:42.226Z"
   },
   {
    "duration": 94,
    "start_time": "2021-08-16T19:57:42.367Z"
   },
   {
    "duration": 9,
    "start_time": "2021-08-16T19:57:42.463Z"
   },
   {
    "duration": 5,
    "start_time": "2021-08-16T19:57:42.474Z"
   },
   {
    "duration": 31,
    "start_time": "2021-08-16T19:57:42.481Z"
   },
   {
    "duration": 9,
    "start_time": "2021-08-16T19:57:42.515Z"
   },
   {
    "duration": 22,
    "start_time": "2021-08-16T19:57:42.526Z"
   },
   {
    "duration": 77,
    "start_time": "2021-08-16T19:57:42.550Z"
   },
   {
    "duration": 5,
    "start_time": "2021-08-16T19:57:42.629Z"
   },
   {
    "duration": 29,
    "start_time": "2021-08-16T19:57:42.636Z"
   },
   {
    "duration": 40,
    "start_time": "2021-08-16T19:57:42.668Z"
   },
   {
    "duration": 19,
    "start_time": "2021-08-16T19:57:42.710Z"
   },
   {
    "duration": 22,
    "start_time": "2021-08-16T19:57:42.732Z"
   },
   {
    "duration": 56,
    "start_time": "2021-08-16T19:57:42.757Z"
   },
   {
    "duration": 18,
    "start_time": "2021-08-16T19:57:42.816Z"
   },
   {
    "duration": 425,
    "start_time": "2021-08-16T19:57:42.841Z"
   },
   {
    "duration": -81,
    "start_time": "2021-08-16T19:57:43.350Z"
   },
   {
    "duration": -82,
    "start_time": "2021-08-16T19:57:43.354Z"
   },
   {
    "duration": -84,
    "start_time": "2021-08-16T19:57:43.358Z"
   },
   {
    "duration": -92,
    "start_time": "2021-08-16T19:57:43.367Z"
   },
   {
    "duration": -93,
    "start_time": "2021-08-16T19:57:43.370Z"
   },
   {
    "duration": -95,
    "start_time": "2021-08-16T19:57:43.374Z"
   },
   {
    "duration": -97,
    "start_time": "2021-08-16T19:57:43.378Z"
   },
   {
    "duration": -97,
    "start_time": "2021-08-16T19:57:43.380Z"
   },
   {
    "duration": -98,
    "start_time": "2021-08-16T19:57:43.383Z"
   },
   {
    "duration": -100,
    "start_time": "2021-08-16T19:57:43.387Z"
   },
   {
    "duration": -101,
    "start_time": "2021-08-16T19:57:43.390Z"
   },
   {
    "duration": 4,
    "start_time": "2021-08-16T20:02:12.704Z"
   },
   {
    "duration": 233,
    "start_time": "2021-08-16T20:02:12.711Z"
   },
   {
    "duration": 17,
    "start_time": "2021-08-16T20:02:12.947Z"
   },
   {
    "duration": 55,
    "start_time": "2021-08-16T20:02:12.968Z"
   },
   {
    "duration": 6,
    "start_time": "2021-08-16T20:02:13.026Z"
   },
   {
    "duration": 27,
    "start_time": "2021-08-16T20:02:13.034Z"
   },
   {
    "duration": 38,
    "start_time": "2021-08-16T20:02:13.065Z"
   },
   {
    "duration": 31,
    "start_time": "2021-08-16T20:02:13.106Z"
   },
   {
    "duration": 22,
    "start_time": "2021-08-16T20:02:13.140Z"
   },
   {
    "duration": 63,
    "start_time": "2021-08-16T20:02:13.164Z"
   },
   {
    "duration": 105,
    "start_time": "2021-08-16T20:02:13.230Z"
   },
   {
    "duration": 106,
    "start_time": "2021-08-16T20:02:13.337Z"
   },
   {
    "duration": 84,
    "start_time": "2021-08-16T20:02:13.445Z"
   },
   {
    "duration": 10,
    "start_time": "2021-08-16T20:02:13.531Z"
   },
   {
    "duration": 4,
    "start_time": "2021-08-16T20:02:13.544Z"
   },
   {
    "duration": 17,
    "start_time": "2021-08-16T20:02:13.551Z"
   },
   {
    "duration": 10,
    "start_time": "2021-08-16T20:02:13.600Z"
   },
   {
    "duration": 15,
    "start_time": "2021-08-16T20:02:13.613Z"
   },
   {
    "duration": 85,
    "start_time": "2021-08-16T20:02:13.632Z"
   },
   {
    "duration": 4,
    "start_time": "2021-08-16T20:02:13.720Z"
   },
   {
    "duration": 25,
    "start_time": "2021-08-16T20:02:13.727Z"
   },
   {
    "duration": 18,
    "start_time": "2021-08-16T20:02:13.755Z"
   },
   {
    "duration": 42,
    "start_time": "2021-08-16T20:02:13.776Z"
   },
   {
    "duration": 18,
    "start_time": "2021-08-16T20:02:13.820Z"
   },
   {
    "duration": 67,
    "start_time": "2021-08-16T20:02:13.840Z"
   },
   {
    "duration": 19,
    "start_time": "2021-08-16T20:02:13.909Z"
   },
   {
    "duration": 348,
    "start_time": "2021-08-16T20:02:13.930Z"
   },
   {
    "duration": -96,
    "start_time": "2021-08-16T20:02:14.376Z"
   },
   {
    "duration": -99,
    "start_time": "2021-08-16T20:02:14.380Z"
   },
   {
    "duration": -100,
    "start_time": "2021-08-16T20:02:14.383Z"
   },
   {
    "duration": -102,
    "start_time": "2021-08-16T20:02:14.386Z"
   },
   {
    "duration": -104,
    "start_time": "2021-08-16T20:02:14.390Z"
   },
   {
    "duration": -127,
    "start_time": "2021-08-16T20:02:14.414Z"
   },
   {
    "duration": -131,
    "start_time": "2021-08-16T20:02:14.419Z"
   },
   {
    "duration": -133,
    "start_time": "2021-08-16T20:02:14.423Z"
   },
   {
    "duration": -135,
    "start_time": "2021-08-16T20:02:14.426Z"
   },
   {
    "duration": -136,
    "start_time": "2021-08-16T20:02:14.429Z"
   },
   {
    "duration": -138,
    "start_time": "2021-08-16T20:02:14.432Z"
   },
   {
    "duration": 3,
    "start_time": "2021-08-16T20:02:43.580Z"
   },
   {
    "duration": 214,
    "start_time": "2021-08-16T20:02:43.586Z"
   },
   {
    "duration": 15,
    "start_time": "2021-08-16T20:02:43.804Z"
   },
   {
    "duration": 34,
    "start_time": "2021-08-16T20:02:43.823Z"
   },
   {
    "duration": 6,
    "start_time": "2021-08-16T20:02:43.860Z"
   },
   {
    "duration": 57,
    "start_time": "2021-08-16T20:02:43.869Z"
   },
   {
    "duration": 6,
    "start_time": "2021-08-16T20:02:43.928Z"
   },
   {
    "duration": 73,
    "start_time": "2021-08-16T20:02:43.938Z"
   },
   {
    "duration": 22,
    "start_time": "2021-08-16T20:02:44.017Z"
   },
   {
    "duration": 59,
    "start_time": "2021-08-16T20:02:44.044Z"
   },
   {
    "duration": 95,
    "start_time": "2021-08-16T20:02:44.106Z"
   },
   {
    "duration": 116,
    "start_time": "2021-08-16T20:02:44.204Z"
   },
   {
    "duration": 90,
    "start_time": "2021-08-16T20:02:44.322Z"
   },
   {
    "duration": 12,
    "start_time": "2021-08-16T20:02:44.415Z"
   },
   {
    "duration": 5,
    "start_time": "2021-08-16T20:02:44.430Z"
   },
   {
    "duration": 17,
    "start_time": "2021-08-16T20:02:44.438Z"
   },
   {
    "duration": 51,
    "start_time": "2021-08-16T20:02:44.457Z"
   },
   {
    "duration": 18,
    "start_time": "2021-08-16T20:02:44.511Z"
   },
   {
    "duration": 77,
    "start_time": "2021-08-16T20:02:44.532Z"
   },
   {
    "duration": 5,
    "start_time": "2021-08-16T20:02:44.612Z"
   },
   {
    "duration": 26,
    "start_time": "2021-08-16T20:02:44.621Z"
   },
   {
    "duration": 50,
    "start_time": "2021-08-16T20:02:44.650Z"
   },
   {
    "duration": 21,
    "start_time": "2021-08-16T20:02:44.704Z"
   },
   {
    "duration": 19,
    "start_time": "2021-08-16T20:02:44.728Z"
   },
   {
    "duration": 60,
    "start_time": "2021-08-16T20:02:44.750Z"
   },
   {
    "duration": 20,
    "start_time": "2021-08-16T20:02:44.813Z"
   },
   {
    "duration": 71,
    "start_time": "2021-08-16T20:02:44.840Z"
   },
   {
    "duration": 4,
    "start_time": "2021-08-16T20:02:44.914Z"
   },
   {
    "duration": 7,
    "start_time": "2021-08-16T20:02:44.921Z"
   },
   {
    "duration": 10,
    "start_time": "2021-08-16T20:02:44.930Z"
   },
   {
    "duration": 10,
    "start_time": "2021-08-16T20:02:44.943Z"
   },
   {
    "duration": 6,
    "start_time": "2021-08-16T20:02:44.955Z"
   },
   {
    "duration": 9,
    "start_time": "2021-08-16T20:02:44.964Z"
   },
   {
    "duration": 4,
    "start_time": "2021-08-16T20:02:45.001Z"
   },
   {
    "duration": 20,
    "start_time": "2021-08-16T20:02:45.008Z"
   },
   {
    "duration": 15,
    "start_time": "2021-08-16T20:02:45.031Z"
   },
   {
    "duration": 16,
    "start_time": "2021-08-16T20:02:45.049Z"
   },
   {
    "duration": 18,
    "start_time": "2021-08-16T20:02:45.068Z"
   },
   {
    "duration": 3,
    "start_time": "2021-08-16T20:22:51.502Z"
   },
   {
    "duration": 217,
    "start_time": "2021-08-16T20:22:51.508Z"
   },
   {
    "duration": 15,
    "start_time": "2021-08-16T20:22:51.729Z"
   },
   {
    "duration": 54,
    "start_time": "2021-08-16T20:22:51.747Z"
   },
   {
    "duration": 5,
    "start_time": "2021-08-16T20:22:51.804Z"
   },
   {
    "duration": 20,
    "start_time": "2021-08-16T20:22:51.812Z"
   },
   {
    "duration": 6,
    "start_time": "2021-08-16T20:22:51.834Z"
   },
   {
    "duration": 62,
    "start_time": "2021-08-16T20:22:51.843Z"
   },
   {
    "duration": 23,
    "start_time": "2021-08-16T20:22:51.911Z"
   },
   {
    "duration": 64,
    "start_time": "2021-08-16T20:22:51.938Z"
   },
   {
    "duration": 98,
    "start_time": "2021-08-16T20:22:52.005Z"
   },
   {
    "duration": 113,
    "start_time": "2021-08-16T20:22:52.106Z"
   },
   {
    "duration": 94,
    "start_time": "2021-08-16T20:22:52.222Z"
   },
   {
    "duration": 11,
    "start_time": "2021-08-16T20:22:52.319Z"
   },
   {
    "duration": 5,
    "start_time": "2021-08-16T20:22:52.333Z"
   },
   {
    "duration": 16,
    "start_time": "2021-08-16T20:22:52.341Z"
   },
   {
    "duration": 47,
    "start_time": "2021-08-16T20:22:52.360Z"
   },
   {
    "duration": 16,
    "start_time": "2021-08-16T20:22:52.409Z"
   },
   {
    "duration": 75,
    "start_time": "2021-08-16T20:22:52.428Z"
   },
   {
    "duration": 16,
    "start_time": "2021-08-16T20:22:52.506Z"
   },
   {
    "duration": 28,
    "start_time": "2021-08-16T20:22:52.525Z"
   },
   {
    "duration": 44,
    "start_time": "2021-08-16T20:22:52.556Z"
   },
   {
    "duration": 19,
    "start_time": "2021-08-16T20:22:52.603Z"
   },
   {
    "duration": 19,
    "start_time": "2021-08-16T20:22:52.624Z"
   },
   {
    "duration": 21,
    "start_time": "2021-08-16T20:22:52.646Z"
   },
   {
    "duration": 19,
    "start_time": "2021-08-16T20:22:52.702Z"
   },
   {
    "duration": 41,
    "start_time": "2021-08-16T20:22:52.726Z"
   },
   {
    "duration": 39,
    "start_time": "2021-08-16T20:22:52.770Z"
   },
   {
    "duration": 12,
    "start_time": "2021-08-16T20:22:52.812Z"
   },
   {
    "duration": 4,
    "start_time": "2021-08-16T20:22:52.827Z"
   },
   {
    "duration": 8,
    "start_time": "2021-08-16T20:22:52.833Z"
   },
   {
    "duration": 7,
    "start_time": "2021-08-16T20:22:52.844Z"
   },
   {
    "duration": 8,
    "start_time": "2021-08-16T20:22:52.854Z"
   },
   {
    "duration": 45,
    "start_time": "2021-08-16T20:22:52.865Z"
   },
   {
    "duration": 7,
    "start_time": "2021-08-16T20:22:52.912Z"
   },
   {
    "duration": 9,
    "start_time": "2021-08-16T20:22:52.922Z"
   },
   {
    "duration": 8,
    "start_time": "2021-08-16T20:22:52.934Z"
   },
   {
    "duration": 8,
    "start_time": "2021-08-16T20:22:52.944Z"
   },
   {
    "duration": 4,
    "start_time": "2021-08-16T21:04:20.225Z"
   },
   {
    "duration": 201,
    "start_time": "2021-08-16T21:04:20.231Z"
   },
   {
    "duration": 16,
    "start_time": "2021-08-16T21:04:20.435Z"
   },
   {
    "duration": 53,
    "start_time": "2021-08-16T21:04:20.454Z"
   },
   {
    "duration": 7,
    "start_time": "2021-08-16T21:04:20.509Z"
   },
   {
    "duration": 33,
    "start_time": "2021-08-16T21:04:20.519Z"
   },
   {
    "duration": 5,
    "start_time": "2021-08-16T21:04:20.555Z"
   },
   {
    "duration": 61,
    "start_time": "2021-08-16T21:04:20.563Z"
   },
   {
    "duration": 26,
    "start_time": "2021-08-16T21:04:20.629Z"
   },
   {
    "duration": 43,
    "start_time": "2021-08-16T21:04:20.659Z"
   },
   {
    "duration": 97,
    "start_time": "2021-08-16T21:04:20.705Z"
   },
   {
    "duration": 105,
    "start_time": "2021-08-16T21:04:20.804Z"
   },
   {
    "duration": 90,
    "start_time": "2021-08-16T21:04:20.912Z"
   },
   {
    "duration": 10,
    "start_time": "2021-08-16T21:04:21.004Z"
   },
   {
    "duration": 4,
    "start_time": "2021-08-16T21:04:21.017Z"
   },
   {
    "duration": 21,
    "start_time": "2021-08-16T21:04:21.023Z"
   },
   {
    "duration": 11,
    "start_time": "2021-08-16T21:04:21.046Z"
   },
   {
    "duration": 49,
    "start_time": "2021-08-16T21:04:21.059Z"
   },
   {
    "duration": 43,
    "start_time": "2021-08-16T21:04:21.110Z"
   },
   {
    "duration": 4,
    "start_time": "2021-08-16T21:04:21.156Z"
   },
   {
    "duration": 47,
    "start_time": "2021-08-16T21:04:21.163Z"
   },
   {
    "duration": 23,
    "start_time": "2021-08-16T21:04:21.213Z"
   },
   {
    "duration": 22,
    "start_time": "2021-08-16T21:04:21.239Z"
   },
   {
    "duration": 53,
    "start_time": "2021-08-16T21:04:21.264Z"
   },
   {
    "duration": 23,
    "start_time": "2021-08-16T21:04:21.320Z"
   },
   {
    "duration": 56,
    "start_time": "2021-08-16T21:04:21.346Z"
   },
   {
    "duration": 41,
    "start_time": "2021-08-16T21:04:21.409Z"
   },
   {
    "duration": 47,
    "start_time": "2021-08-16T21:04:21.453Z"
   },
   {
    "duration": 17,
    "start_time": "2021-08-16T21:04:21.503Z"
   },
   {
    "duration": 114,
    "start_time": "2021-08-16T21:04:21.522Z"
   },
   {
    "duration": 178,
    "start_time": "2021-08-16T21:04:21.461Z"
   },
   {
    "duration": 175,
    "start_time": "2021-08-16T21:04:21.465Z"
   },
   {
    "duration": 151,
    "start_time": "2021-08-16T21:04:21.490Z"
   },
   {
    "duration": 143,
    "start_time": "2021-08-16T21:04:21.499Z"
   },
   {
    "duration": 142,
    "start_time": "2021-08-16T21:04:21.502Z"
   },
   {
    "duration": 139,
    "start_time": "2021-08-16T21:04:21.506Z"
   },
   {
    "duration": 138,
    "start_time": "2021-08-16T21:04:21.508Z"
   },
   {
    "duration": 137,
    "start_time": "2021-08-16T21:04:21.511Z"
   },
   {
    "duration": 4,
    "start_time": "2021-08-16T21:07:38.589Z"
   },
   {
    "duration": 229,
    "start_time": "2021-08-16T21:07:38.597Z"
   },
   {
    "duration": 16,
    "start_time": "2021-08-16T21:07:38.830Z"
   },
   {
    "duration": 55,
    "start_time": "2021-08-16T21:07:38.850Z"
   },
   {
    "duration": 6,
    "start_time": "2021-08-16T21:07:38.908Z"
   },
   {
    "duration": 28,
    "start_time": "2021-08-16T21:07:38.917Z"
   },
   {
    "duration": 6,
    "start_time": "2021-08-16T21:07:38.948Z"
   },
   {
    "duration": 75,
    "start_time": "2021-08-16T21:07:38.957Z"
   },
   {
    "duration": 23,
    "start_time": "2021-08-16T21:07:39.036Z"
   },
   {
    "duration": 46,
    "start_time": "2021-08-16T21:07:39.062Z"
   },
   {
    "duration": 96,
    "start_time": "2021-08-16T21:07:39.111Z"
   },
   {
    "duration": 98,
    "start_time": "2021-08-16T21:07:39.210Z"
   },
   {
    "duration": 78,
    "start_time": "2021-08-16T21:07:39.310Z"
   },
   {
    "duration": 9,
    "start_time": "2021-08-16T21:07:39.401Z"
   },
   {
    "duration": 7,
    "start_time": "2021-08-16T21:07:39.413Z"
   },
   {
    "duration": 30,
    "start_time": "2021-08-16T21:07:39.422Z"
   },
   {
    "duration": 24,
    "start_time": "2021-08-16T21:07:39.454Z"
   },
   {
    "duration": 29,
    "start_time": "2021-08-16T21:07:39.480Z"
   },
   {
    "duration": 45,
    "start_time": "2021-08-16T21:07:39.511Z"
   },
   {
    "duration": 5,
    "start_time": "2021-08-16T21:07:39.558Z"
   },
   {
    "duration": 50,
    "start_time": "2021-08-16T21:07:39.566Z"
   },
   {
    "duration": 18,
    "start_time": "2021-08-16T21:07:39.619Z"
   },
   {
    "duration": 18,
    "start_time": "2021-08-16T21:07:39.640Z"
   },
   {
    "duration": 42,
    "start_time": "2021-08-16T21:07:39.661Z"
   },
   {
    "duration": 22,
    "start_time": "2021-08-16T21:07:39.706Z"
   },
   {
    "duration": 18,
    "start_time": "2021-08-16T21:07:39.730Z"
   },
   {
    "duration": 77,
    "start_time": "2021-08-16T21:07:39.753Z"
   },
   {
    "duration": 17,
    "start_time": "2021-08-16T21:07:39.833Z"
   },
   {
    "duration": 13,
    "start_time": "2021-08-16T21:07:39.853Z"
   },
   {
    "duration": 121,
    "start_time": "2021-08-16T21:07:39.869Z"
   },
   {
    "duration": 161,
    "start_time": "2021-08-16T21:07:39.831Z"
   },
   {
    "duration": 159,
    "start_time": "2021-08-16T21:07:39.835Z"
   },
   {
    "duration": 158,
    "start_time": "2021-08-16T21:07:39.837Z"
   },
   {
    "duration": 149,
    "start_time": "2021-08-16T21:07:39.848Z"
   },
   {
    "duration": 147,
    "start_time": "2021-08-16T21:07:39.852Z"
   },
   {
    "duration": 145,
    "start_time": "2021-08-16T21:07:39.855Z"
   },
   {
    "duration": 144,
    "start_time": "2021-08-16T21:07:39.857Z"
   },
   {
    "duration": 141,
    "start_time": "2021-08-16T21:07:39.862Z"
   },
   {
    "duration": 4,
    "start_time": "2021-08-16T21:10:01.059Z"
   },
   {
    "duration": 236,
    "start_time": "2021-08-16T21:10:01.067Z"
   },
   {
    "duration": 16,
    "start_time": "2021-08-16T21:10:01.306Z"
   },
   {
    "duration": 41,
    "start_time": "2021-08-16T21:10:01.326Z"
   },
   {
    "duration": 30,
    "start_time": "2021-08-16T21:10:01.370Z"
   },
   {
    "duration": 32,
    "start_time": "2021-08-16T21:10:01.403Z"
   },
   {
    "duration": 9,
    "start_time": "2021-08-16T21:10:01.438Z"
   },
   {
    "duration": 54,
    "start_time": "2021-08-16T21:10:01.450Z"
   },
   {
    "duration": 42,
    "start_time": "2021-08-16T21:10:01.511Z"
   },
   {
    "duration": 38,
    "start_time": "2021-08-16T21:10:01.557Z"
   },
   {
    "duration": 105,
    "start_time": "2021-08-16T21:10:01.599Z"
   },
   {
    "duration": 109,
    "start_time": "2021-08-16T21:10:01.707Z"
   },
   {
    "duration": 86,
    "start_time": "2021-08-16T21:10:01.819Z"
   },
   {
    "duration": 11,
    "start_time": "2021-08-16T21:10:01.908Z"
   },
   {
    "duration": 22,
    "start_time": "2021-08-16T21:10:01.922Z"
   },
   {
    "duration": 40,
    "start_time": "2021-08-16T21:10:01.946Z"
   },
   {
    "duration": 35,
    "start_time": "2021-08-16T21:10:01.989Z"
   },
   {
    "duration": 42,
    "start_time": "2021-08-16T21:10:02.027Z"
   },
   {
    "duration": 74,
    "start_time": "2021-08-16T21:10:02.072Z"
   },
   {
    "duration": 4,
    "start_time": "2021-08-16T21:10:02.148Z"
   },
   {
    "duration": 75,
    "start_time": "2021-08-16T21:10:02.155Z"
   },
   {
    "duration": 34,
    "start_time": "2021-08-16T21:10:02.232Z"
   },
   {
    "duration": 55,
    "start_time": "2021-08-16T21:10:02.269Z"
   },
   {
    "duration": 33,
    "start_time": "2021-08-16T21:10:02.326Z"
   },
   {
    "duration": 44,
    "start_time": "2021-08-16T21:10:02.361Z"
   },
   {
    "duration": 33,
    "start_time": "2021-08-16T21:10:02.407Z"
   },
   {
    "duration": 62,
    "start_time": "2021-08-16T21:10:02.444Z"
   },
   {
    "duration": 17,
    "start_time": "2021-08-16T21:10:02.508Z"
   },
   {
    "duration": 14,
    "start_time": "2021-08-16T21:10:02.527Z"
   },
   {
    "duration": 124,
    "start_time": "2021-08-16T21:10:02.543Z"
   },
   {
    "duration": 196,
    "start_time": "2021-08-16T21:10:02.473Z"
   },
   {
    "duration": 177,
    "start_time": "2021-08-16T21:10:02.493Z"
   },
   {
    "duration": 174,
    "start_time": "2021-08-16T21:10:02.498Z"
   },
   {
    "duration": 172,
    "start_time": "2021-08-16T21:10:02.501Z"
   },
   {
    "duration": 166,
    "start_time": "2021-08-16T21:10:02.508Z"
   },
   {
    "duration": 165,
    "start_time": "2021-08-16T21:10:02.511Z"
   },
   {
    "duration": 163,
    "start_time": "2021-08-16T21:10:02.514Z"
   },
   {
    "duration": 161,
    "start_time": "2021-08-16T21:10:02.517Z"
   },
   {
    "duration": 4,
    "start_time": "2021-08-16T21:10:50.262Z"
   },
   {
    "duration": 211,
    "start_time": "2021-08-16T21:10:50.269Z"
   },
   {
    "duration": 25,
    "start_time": "2021-08-16T21:10:50.484Z"
   },
   {
    "duration": 47,
    "start_time": "2021-08-16T21:10:50.511Z"
   },
   {
    "duration": 9,
    "start_time": "2021-08-16T21:10:50.560Z"
   },
   {
    "duration": 40,
    "start_time": "2021-08-16T21:10:50.571Z"
   },
   {
    "duration": 5,
    "start_time": "2021-08-16T21:10:50.614Z"
   },
   {
    "duration": 39,
    "start_time": "2021-08-16T21:10:50.621Z"
   },
   {
    "duration": 43,
    "start_time": "2021-08-16T21:10:50.665Z"
   },
   {
    "duration": 30,
    "start_time": "2021-08-16T21:10:50.711Z"
   },
   {
    "duration": 98,
    "start_time": "2021-08-16T21:10:50.743Z"
   },
   {
    "duration": 102,
    "start_time": "2021-08-16T21:10:50.843Z"
   },
   {
    "duration": 81,
    "start_time": "2021-08-16T21:10:50.947Z"
   },
   {
    "duration": 12,
    "start_time": "2021-08-16T21:10:51.031Z"
   },
   {
    "duration": 6,
    "start_time": "2021-08-16T21:10:51.045Z"
   },
   {
    "duration": 46,
    "start_time": "2021-08-16T21:10:51.054Z"
   },
   {
    "duration": 24,
    "start_time": "2021-08-16T21:10:51.103Z"
   },
   {
    "duration": 21,
    "start_time": "2021-08-16T21:10:51.129Z"
   },
   {
    "duration": 51,
    "start_time": "2021-08-16T21:10:51.153Z"
   },
   {
    "duration": 4,
    "start_time": "2021-08-16T21:10:51.207Z"
   },
   {
    "duration": 28,
    "start_time": "2021-08-16T21:10:51.214Z"
   },
   {
    "duration": 20,
    "start_time": "2021-08-16T21:10:51.245Z"
   },
   {
    "duration": 50,
    "start_time": "2021-08-16T21:10:51.268Z"
   },
   {
    "duration": 20,
    "start_time": "2021-08-16T21:10:51.321Z"
   },
   {
    "duration": 57,
    "start_time": "2021-08-16T21:10:51.343Z"
   },
   {
    "duration": 18,
    "start_time": "2021-08-16T21:10:51.403Z"
   },
   {
    "duration": 36,
    "start_time": "2021-08-16T21:10:51.426Z"
   },
   {
    "duration": 42,
    "start_time": "2021-08-16T21:10:51.465Z"
   },
   {
    "duration": 17,
    "start_time": "2021-08-16T21:10:51.509Z"
   },
   {
    "duration": 115,
    "start_time": "2021-08-16T21:10:51.529Z"
   },
   {
    "duration": 198,
    "start_time": "2021-08-16T21:10:51.448Z"
   },
   {
    "duration": 196,
    "start_time": "2021-08-16T21:10:51.452Z"
   },
   {
    "duration": 194,
    "start_time": "2021-08-16T21:10:51.455Z"
   },
   {
    "duration": 193,
    "start_time": "2021-08-16T21:10:51.458Z"
   },
   {
    "duration": 191,
    "start_time": "2021-08-16T21:10:51.461Z"
   },
   {
    "duration": 168,
    "start_time": "2021-08-16T21:10:51.486Z"
   },
   {
    "duration": 165,
    "start_time": "2021-08-16T21:10:51.490Z"
   },
   {
    "duration": 161,
    "start_time": "2021-08-16T21:10:51.495Z"
   },
   {
    "duration": 3,
    "start_time": "2021-08-16T21:11:19.752Z"
   },
   {
    "duration": 201,
    "start_time": "2021-08-16T21:11:19.758Z"
   },
   {
    "duration": 16,
    "start_time": "2021-08-16T21:11:19.962Z"
   },
   {
    "duration": 52,
    "start_time": "2021-08-16T21:11:19.980Z"
   },
   {
    "duration": 6,
    "start_time": "2021-08-16T21:11:20.034Z"
   },
   {
    "duration": 32,
    "start_time": "2021-08-16T21:11:20.043Z"
   },
   {
    "duration": 23,
    "start_time": "2021-08-16T21:11:20.077Z"
   },
   {
    "duration": 33,
    "start_time": "2021-08-16T21:11:20.102Z"
   },
   {
    "duration": 21,
    "start_time": "2021-08-16T21:11:20.140Z"
   },
   {
    "duration": 61,
    "start_time": "2021-08-16T21:11:20.164Z"
   },
   {
    "duration": 98,
    "start_time": "2021-08-16T21:11:20.228Z"
   },
   {
    "duration": 103,
    "start_time": "2021-08-16T21:11:20.330Z"
   },
   {
    "duration": 83,
    "start_time": "2021-08-16T21:11:20.435Z"
   },
   {
    "duration": 9,
    "start_time": "2021-08-16T21:11:20.521Z"
   },
   {
    "duration": 5,
    "start_time": "2021-08-16T21:11:20.533Z"
   },
   {
    "duration": 17,
    "start_time": "2021-08-16T21:11:20.540Z"
   },
   {
    "duration": 9,
    "start_time": "2021-08-16T21:11:20.559Z"
   },
   {
    "duration": 16,
    "start_time": "2021-08-16T21:11:20.601Z"
   },
   {
    "duration": 43,
    "start_time": "2021-08-16T21:11:20.619Z"
   },
   {
    "duration": 5,
    "start_time": "2021-08-16T21:11:20.664Z"
   },
   {
    "duration": 22,
    "start_time": "2021-08-16T21:11:20.701Z"
   },
   {
    "duration": 18,
    "start_time": "2021-08-16T21:11:20.726Z"
   },
   {
    "duration": 28,
    "start_time": "2021-08-16T21:11:20.747Z"
   },
   {
    "duration": 18,
    "start_time": "2021-08-16T21:11:20.802Z"
   },
   {
    "duration": 31,
    "start_time": "2021-08-16T21:11:20.823Z"
   },
   {
    "duration": 19,
    "start_time": "2021-08-16T21:11:20.857Z"
   },
   {
    "duration": 38,
    "start_time": "2021-08-16T21:11:20.901Z"
   },
   {
    "duration": 16,
    "start_time": "2021-08-16T21:11:20.942Z"
   },
   {
    "duration": 13,
    "start_time": "2021-08-16T21:11:20.960Z"
   },
   {
    "duration": 333,
    "start_time": "2021-08-16T21:11:21.002Z"
   },
   {
    "duration": 128,
    "start_time": "2021-08-16T21:11:21.210Z"
   },
   {
    "duration": 126,
    "start_time": "2021-08-16T21:11:21.214Z"
   },
   {
    "duration": 120,
    "start_time": "2021-08-16T21:11:21.222Z"
   },
   {
    "duration": 118,
    "start_time": "2021-08-16T21:11:21.226Z"
   },
   {
    "duration": 117,
    "start_time": "2021-08-16T21:11:21.228Z"
   },
   {
    "duration": 116,
    "start_time": "2021-08-16T21:11:21.231Z"
   },
   {
    "duration": 116,
    "start_time": "2021-08-16T21:11:21.233Z"
   },
   {
    "duration": 115,
    "start_time": "2021-08-16T21:11:21.236Z"
   },
   {
    "duration": 4,
    "start_time": "2021-08-16T21:12:14.884Z"
   },
   {
    "duration": 204,
    "start_time": "2021-08-16T21:12:14.890Z"
   },
   {
    "duration": 15,
    "start_time": "2021-08-16T21:12:15.102Z"
   },
   {
    "duration": 33,
    "start_time": "2021-08-16T21:12:15.119Z"
   },
   {
    "duration": 5,
    "start_time": "2021-08-16T21:12:15.154Z"
   },
   {
    "duration": 57,
    "start_time": "2021-08-16T21:12:15.161Z"
   },
   {
    "duration": 5,
    "start_time": "2021-08-16T21:12:15.221Z"
   },
   {
    "duration": 31,
    "start_time": "2021-08-16T21:12:15.229Z"
   },
   {
    "duration": 47,
    "start_time": "2021-08-16T21:12:15.264Z"
   },
   {
    "duration": 29,
    "start_time": "2021-08-16T21:12:15.315Z"
   },
   {
    "duration": 98,
    "start_time": "2021-08-16T21:12:15.346Z"
   },
   {
    "duration": 97,
    "start_time": "2021-08-16T21:12:15.447Z"
   },
   {
    "duration": 88,
    "start_time": "2021-08-16T21:12:15.546Z"
   },
   {
    "duration": 10,
    "start_time": "2021-08-16T21:12:15.636Z"
   },
   {
    "duration": 9,
    "start_time": "2021-08-16T21:12:15.648Z"
   },
   {
    "duration": 21,
    "start_time": "2021-08-16T21:12:15.659Z"
   },
   {
    "duration": 27,
    "start_time": "2021-08-16T21:12:15.682Z"
   },
   {
    "duration": 23,
    "start_time": "2021-08-16T21:12:15.711Z"
   },
   {
    "duration": 40,
    "start_time": "2021-08-16T21:12:15.737Z"
   },
   {
    "duration": 5,
    "start_time": "2021-08-16T21:12:15.800Z"
   },
   {
    "duration": 26,
    "start_time": "2021-08-16T21:12:15.808Z"
   },
   {
    "duration": 18,
    "start_time": "2021-08-16T21:12:15.837Z"
   },
   {
    "duration": 51,
    "start_time": "2021-08-16T21:12:15.857Z"
   },
   {
    "duration": 18,
    "start_time": "2021-08-16T21:12:15.910Z"
   },
   {
    "duration": 21,
    "start_time": "2021-08-16T21:12:15.930Z"
   },
   {
    "duration": 46,
    "start_time": "2021-08-16T21:12:15.954Z"
   },
   {
    "duration": 39,
    "start_time": "2021-08-16T21:12:16.007Z"
   },
   {
    "duration": 18,
    "start_time": "2021-08-16T21:12:16.050Z"
   },
   {
    "duration": 45,
    "start_time": "2021-08-16T21:12:16.070Z"
   },
   {
    "duration": 111,
    "start_time": "2021-08-16T21:12:16.118Z"
   },
   {
    "duration": 204,
    "start_time": "2021-08-16T21:12:16.027Z"
   },
   {
    "duration": 180,
    "start_time": "2021-08-16T21:12:16.053Z"
   },
   {
    "duration": 176,
    "start_time": "2021-08-16T21:12:16.058Z"
   },
   {
    "duration": 174,
    "start_time": "2021-08-16T21:12:16.062Z"
   },
   {
    "duration": 167,
    "start_time": "2021-08-16T21:12:16.070Z"
   },
   {
    "duration": 165,
    "start_time": "2021-08-16T21:12:16.074Z"
   },
   {
    "duration": 163,
    "start_time": "2021-08-16T21:12:16.077Z"
   },
   {
    "duration": 160,
    "start_time": "2021-08-16T21:12:16.081Z"
   },
   {
    "duration": 4,
    "start_time": "2021-08-16T21:13:47.911Z"
   },
   {
    "duration": 210,
    "start_time": "2021-08-16T21:13:47.918Z"
   },
   {
    "duration": 16,
    "start_time": "2021-08-16T21:13:48.132Z"
   },
   {
    "duration": 58,
    "start_time": "2021-08-16T21:13:48.151Z"
   },
   {
    "duration": 6,
    "start_time": "2021-08-16T21:13:48.212Z"
   },
   {
    "duration": 28,
    "start_time": "2021-08-16T21:13:48.221Z"
   },
   {
    "duration": 7,
    "start_time": "2021-08-16T21:13:48.251Z"
   },
   {
    "duration": 32,
    "start_time": "2021-08-16T21:13:48.300Z"
   },
   {
    "duration": 23,
    "start_time": "2021-08-16T21:13:48.338Z"
   },
   {
    "duration": 61,
    "start_time": "2021-08-16T21:13:48.364Z"
   },
   {
    "duration": 100,
    "start_time": "2021-08-16T21:13:48.428Z"
   },
   {
    "duration": 98,
    "start_time": "2021-08-16T21:13:48.531Z"
   },
   {
    "duration": 86,
    "start_time": "2021-08-16T21:13:48.631Z"
   },
   {
    "duration": 12,
    "start_time": "2021-08-16T21:13:48.720Z"
   },
   {
    "duration": 5,
    "start_time": "2021-08-16T21:13:48.735Z"
   },
   {
    "duration": 15,
    "start_time": "2021-08-16T21:13:48.744Z"
   },
   {
    "duration": 44,
    "start_time": "2021-08-16T21:13:48.761Z"
   },
   {
    "duration": 20,
    "start_time": "2021-08-16T21:13:48.808Z"
   },
   {
    "duration": 78,
    "start_time": "2021-08-16T21:13:48.831Z"
   },
   {
    "duration": 5,
    "start_time": "2021-08-16T21:13:48.911Z"
   },
   {
    "duration": 24,
    "start_time": "2021-08-16T21:13:48.919Z"
   },
   {
    "duration": 17,
    "start_time": "2021-08-16T21:13:48.945Z"
   },
   {
    "duration": 48,
    "start_time": "2021-08-16T21:13:48.965Z"
   },
   {
    "duration": 18,
    "start_time": "2021-08-16T21:13:49.015Z"
   },
   {
    "duration": 20,
    "start_time": "2021-08-16T21:13:49.035Z"
   },
   {
    "duration": 51,
    "start_time": "2021-08-16T21:13:49.057Z"
   },
   {
    "duration": 36,
    "start_time": "2021-08-16T21:13:49.113Z"
   },
   {
    "duration": 16,
    "start_time": "2021-08-16T21:13:49.152Z"
   },
   {
    "duration": 38,
    "start_time": "2021-08-16T21:13:49.170Z"
   },
   {
    "duration": 126,
    "start_time": "2021-08-16T21:13:49.210Z"
   },
   {
    "duration": 183,
    "start_time": "2021-08-16T21:13:49.155Z"
   },
   {
    "duration": 182,
    "start_time": "2021-08-16T21:13:49.158Z"
   },
   {
    "duration": 178,
    "start_time": "2021-08-16T21:13:49.163Z"
   },
   {
    "duration": 176,
    "start_time": "2021-08-16T21:13:49.166Z"
   },
   {
    "duration": 175,
    "start_time": "2021-08-16T21:13:49.169Z"
   },
   {
    "duration": 172,
    "start_time": "2021-08-16T21:13:49.173Z"
   },
   {
    "duration": 170,
    "start_time": "2021-08-16T21:13:49.176Z"
   },
   {
    "duration": 168,
    "start_time": "2021-08-16T21:13:49.180Z"
   },
   {
    "duration": 4,
    "start_time": "2021-08-16T21:14:57.059Z"
   },
   {
    "duration": 196,
    "start_time": "2021-08-16T21:14:57.066Z"
   },
   {
    "duration": 16,
    "start_time": "2021-08-16T21:14:57.266Z"
   },
   {
    "duration": 46,
    "start_time": "2021-08-16T21:14:57.285Z"
   },
   {
    "duration": 6,
    "start_time": "2021-08-16T21:14:57.334Z"
   },
   {
    "duration": 27,
    "start_time": "2021-08-16T21:14:57.342Z"
   },
   {
    "duration": 34,
    "start_time": "2021-08-16T21:14:57.371Z"
   },
   {
    "duration": 33,
    "start_time": "2021-08-16T21:14:57.407Z"
   },
   {
    "duration": 22,
    "start_time": "2021-08-16T21:14:57.445Z"
   },
   {
    "duration": 56,
    "start_time": "2021-08-16T21:14:57.470Z"
   },
   {
    "duration": 101,
    "start_time": "2021-08-16T21:14:57.530Z"
   },
   {
    "duration": 106,
    "start_time": "2021-08-16T21:14:57.634Z"
   },
   {
    "duration": 81,
    "start_time": "2021-08-16T21:14:57.742Z"
   },
   {
    "duration": 12,
    "start_time": "2021-08-16T21:14:57.826Z"
   },
   {
    "duration": 5,
    "start_time": "2021-08-16T21:14:57.841Z"
   },
   {
    "duration": 53,
    "start_time": "2021-08-16T21:14:57.849Z"
   },
   {
    "duration": 12,
    "start_time": "2021-08-16T21:14:57.904Z"
   },
   {
    "duration": 19,
    "start_time": "2021-08-16T21:14:57.919Z"
   },
   {
    "duration": 72,
    "start_time": "2021-08-16T21:14:57.941Z"
   },
   {
    "duration": 6,
    "start_time": "2021-08-16T21:14:58.016Z"
   },
   {
    "duration": 28,
    "start_time": "2021-08-16T21:14:58.024Z"
   },
   {
    "duration": 45,
    "start_time": "2021-08-16T21:14:58.055Z"
   },
   {
    "duration": 19,
    "start_time": "2021-08-16T21:14:58.103Z"
   },
   {
    "duration": 17,
    "start_time": "2021-08-16T21:14:58.125Z"
   },
   {
    "duration": 20,
    "start_time": "2021-08-16T21:14:58.145Z"
   },
   {
    "duration": 47,
    "start_time": "2021-08-16T21:14:58.167Z"
   },
   {
    "duration": 36,
    "start_time": "2021-08-16T21:14:58.219Z"
   },
   {
    "duration": 47,
    "start_time": "2021-08-16T21:14:58.258Z"
   },
   {
    "duration": 15,
    "start_time": "2021-08-16T21:14:58.307Z"
   },
   {
    "duration": 992,
    "start_time": "2021-08-16T21:14:58.324Z"
   },
   {
    "duration": 130,
    "start_time": "2021-08-16T21:14:59.188Z"
   },
   {
    "duration": 127,
    "start_time": "2021-08-16T21:14:59.192Z"
   },
   {
    "duration": 125,
    "start_time": "2021-08-16T21:14:59.196Z"
   },
   {
    "duration": 123,
    "start_time": "2021-08-16T21:14:59.199Z"
   },
   {
    "duration": 118,
    "start_time": "2021-08-16T21:14:59.205Z"
   },
   {
    "duration": 117,
    "start_time": "2021-08-16T21:14:59.208Z"
   },
   {
    "duration": 116,
    "start_time": "2021-08-16T21:14:59.210Z"
   },
   {
    "duration": 116,
    "start_time": "2021-08-16T21:14:59.212Z"
   },
   {
    "duration": 4,
    "start_time": "2021-08-16T21:15:15.011Z"
   },
   {
    "duration": 207,
    "start_time": "2021-08-16T21:15:15.018Z"
   },
   {
    "duration": 15,
    "start_time": "2021-08-16T21:15:15.228Z"
   },
   {
    "duration": 30,
    "start_time": "2021-08-16T21:15:15.246Z"
   },
   {
    "duration": 26,
    "start_time": "2021-08-16T21:15:15.278Z"
   },
   {
    "duration": 28,
    "start_time": "2021-08-16T21:15:15.306Z"
   },
   {
    "duration": 5,
    "start_time": "2021-08-16T21:15:15.337Z"
   },
   {
    "duration": 63,
    "start_time": "2021-08-16T21:15:15.344Z"
   },
   {
    "duration": 23,
    "start_time": "2021-08-16T21:15:15.412Z"
   },
   {
    "duration": 29,
    "start_time": "2021-08-16T21:15:15.438Z"
   },
   {
    "duration": 102,
    "start_time": "2021-08-16T21:15:15.470Z"
   },
   {
    "duration": 106,
    "start_time": "2021-08-16T21:15:15.575Z"
   },
   {
    "duration": 81,
    "start_time": "2021-08-16T21:15:15.684Z"
   },
   {
    "duration": 34,
    "start_time": "2021-08-16T21:15:15.768Z"
   },
   {
    "duration": 4,
    "start_time": "2021-08-16T21:15:15.804Z"
   },
   {
    "duration": 18,
    "start_time": "2021-08-16T21:15:15.811Z"
   },
   {
    "duration": 9,
    "start_time": "2021-08-16T21:15:15.831Z"
   },
   {
    "duration": 20,
    "start_time": "2021-08-16T21:15:15.842Z"
   },
   {
    "duration": 71,
    "start_time": "2021-08-16T21:15:15.865Z"
   },
   {
    "duration": 5,
    "start_time": "2021-08-16T21:15:15.938Z"
   },
   {
    "duration": 27,
    "start_time": "2021-08-16T21:15:15.945Z"
   },
   {
    "duration": 35,
    "start_time": "2021-08-16T21:15:15.974Z"
   },
   {
    "duration": 23,
    "start_time": "2021-08-16T21:15:16.012Z"
   },
   {
    "duration": 17,
    "start_time": "2021-08-16T21:15:16.038Z"
   },
   {
    "duration": 57,
    "start_time": "2021-08-16T21:15:16.057Z"
   },
   {
    "duration": 17,
    "start_time": "2021-08-16T21:15:16.117Z"
   },
   {
    "duration": 63,
    "start_time": "2021-08-16T21:15:16.139Z"
   },
   {
    "duration": 17,
    "start_time": "2021-08-16T21:15:16.205Z"
   },
   {
    "duration": 14,
    "start_time": "2021-08-16T21:15:16.224Z"
   },
   {
    "duration": 539,
    "start_time": "2021-08-16T21:15:16.240Z"
   },
   {
    "duration": 187,
    "start_time": "2021-08-16T21:15:16.596Z"
   },
   {
    "duration": 185,
    "start_time": "2021-08-16T21:15:16.599Z"
   },
   {
    "duration": 183,
    "start_time": "2021-08-16T21:15:16.602Z"
   },
   {
    "duration": 181,
    "start_time": "2021-08-16T21:15:16.606Z"
   },
   {
    "duration": 179,
    "start_time": "2021-08-16T21:15:16.609Z"
   },
   {
    "duration": 178,
    "start_time": "2021-08-16T21:15:16.611Z"
   },
   {
    "duration": 177,
    "start_time": "2021-08-16T21:15:16.614Z"
   },
   {
    "duration": 176,
    "start_time": "2021-08-16T21:15:16.617Z"
   },
   {
    "duration": 4,
    "start_time": "2021-08-16T21:15:27.291Z"
   },
   {
    "duration": 193,
    "start_time": "2021-08-16T21:15:27.298Z"
   },
   {
    "duration": 18,
    "start_time": "2021-08-16T21:15:27.495Z"
   },
   {
    "duration": 42,
    "start_time": "2021-08-16T21:15:27.516Z"
   },
   {
    "duration": 7,
    "start_time": "2021-08-16T21:15:27.561Z"
   },
   {
    "duration": 48,
    "start_time": "2021-08-16T21:15:27.571Z"
   },
   {
    "duration": 5,
    "start_time": "2021-08-16T21:15:27.622Z"
   },
   {
    "duration": 38,
    "start_time": "2021-08-16T21:15:27.630Z"
   },
   {
    "duration": 36,
    "start_time": "2021-08-16T21:15:27.672Z"
   },
   {
    "duration": 28,
    "start_time": "2021-08-16T21:15:27.711Z"
   },
   {
    "duration": 97,
    "start_time": "2021-08-16T21:15:27.742Z"
   },
   {
    "duration": 102,
    "start_time": "2021-08-16T21:15:27.842Z"
   },
   {
    "duration": 86,
    "start_time": "2021-08-16T21:15:27.946Z"
   },
   {
    "duration": 10,
    "start_time": "2021-08-16T21:15:28.035Z"
   },
   {
    "duration": 4,
    "start_time": "2021-08-16T21:15:28.047Z"
   },
   {
    "duration": 23,
    "start_time": "2021-08-16T21:15:28.054Z"
   },
   {
    "duration": 30,
    "start_time": "2021-08-16T21:15:28.079Z"
   },
   {
    "duration": 18,
    "start_time": "2021-08-16T21:15:28.112Z"
   },
   {
    "duration": 68,
    "start_time": "2021-08-16T21:15:28.133Z"
   },
   {
    "duration": 5,
    "start_time": "2021-08-16T21:15:28.203Z"
   },
   {
    "duration": 28,
    "start_time": "2021-08-16T21:15:28.210Z"
   },
   {
    "duration": 17,
    "start_time": "2021-08-16T21:15:28.241Z"
   },
   {
    "duration": 49,
    "start_time": "2021-08-16T21:15:28.260Z"
   },
   {
    "duration": 17,
    "start_time": "2021-08-16T21:15:28.311Z"
   },
   {
    "duration": 19,
    "start_time": "2021-08-16T21:15:28.331Z"
   },
   {
    "duration": 49,
    "start_time": "2021-08-16T21:15:28.353Z"
   },
   {
    "duration": 38,
    "start_time": "2021-08-16T21:15:28.407Z"
   },
   {
    "duration": 17,
    "start_time": "2021-08-16T21:15:28.447Z"
   },
   {
    "duration": 38,
    "start_time": "2021-08-16T21:15:28.466Z"
   },
   {
    "duration": 5,
    "start_time": "2021-08-16T21:15:28.506Z"
   },
   {
    "duration": 9,
    "start_time": "2021-08-16T21:15:28.513Z"
   },
   {
    "duration": 9,
    "start_time": "2021-08-16T21:15:28.524Z"
   },
   {
    "duration": 12,
    "start_time": "2021-08-16T21:15:28.535Z"
   },
   {
    "duration": 6,
    "start_time": "2021-08-16T21:15:28.550Z"
   },
   {
    "duration": 11,
    "start_time": "2021-08-16T21:15:28.558Z"
   },
   {
    "duration": 6,
    "start_time": "2021-08-16T21:15:28.571Z"
   },
   {
    "duration": 21,
    "start_time": "2021-08-16T21:15:28.580Z"
   },
   {
    "duration": 6,
    "start_time": "2021-08-16T21:15:28.605Z"
   },
   {
    "duration": 4,
    "start_time": "2021-08-16T21:15:57.981Z"
   },
   {
    "duration": 281,
    "start_time": "2021-08-16T21:15:57.988Z"
   },
   {
    "duration": 15,
    "start_time": "2021-08-16T21:15:58.273Z"
   },
   {
    "duration": 32,
    "start_time": "2021-08-16T21:15:58.301Z"
   },
   {
    "duration": 6,
    "start_time": "2021-08-16T21:15:58.335Z"
   },
   {
    "duration": 57,
    "start_time": "2021-08-16T21:15:58.343Z"
   },
   {
    "duration": 6,
    "start_time": "2021-08-16T21:15:58.403Z"
   },
   {
    "duration": 32,
    "start_time": "2021-08-16T21:15:58.411Z"
   },
   {
    "duration": 52,
    "start_time": "2021-08-16T21:15:58.449Z"
   },
   {
    "duration": 32,
    "start_time": "2021-08-16T21:15:58.505Z"
   },
   {
    "duration": 104,
    "start_time": "2021-08-16T21:15:58.540Z"
   },
   {
    "duration": 99,
    "start_time": "2021-08-16T21:15:58.647Z"
   },
   {
    "duration": 80,
    "start_time": "2021-08-16T21:15:58.749Z"
   },
   {
    "duration": 9,
    "start_time": "2021-08-16T21:15:58.831Z"
   },
   {
    "duration": 4,
    "start_time": "2021-08-16T21:15:58.843Z"
   },
   {
    "duration": 20,
    "start_time": "2021-08-16T21:15:58.849Z"
   },
   {
    "duration": 32,
    "start_time": "2021-08-16T21:15:58.872Z"
   },
   {
    "duration": 14,
    "start_time": "2021-08-16T21:15:58.907Z"
   },
   {
    "duration": 39,
    "start_time": "2021-08-16T21:15:58.924Z"
   },
   {
    "duration": 37,
    "start_time": "2021-08-16T21:15:58.966Z"
   },
   {
    "duration": 24,
    "start_time": "2021-08-16T21:15:59.006Z"
   },
   {
    "duration": 20,
    "start_time": "2021-08-16T21:15:59.033Z"
   },
   {
    "duration": 50,
    "start_time": "2021-08-16T21:15:59.055Z"
   },
   {
    "duration": 17,
    "start_time": "2021-08-16T21:15:59.107Z"
   },
   {
    "duration": 18,
    "start_time": "2021-08-16T21:15:59.126Z"
   },
   {
    "duration": 17,
    "start_time": "2021-08-16T21:15:59.146Z"
   },
   {
    "duration": 38,
    "start_time": "2021-08-16T21:15:59.202Z"
   },
   {
    "duration": 16,
    "start_time": "2021-08-16T21:15:59.243Z"
   },
   {
    "duration": 42,
    "start_time": "2021-08-16T21:15:59.262Z"
   },
   {
    "duration": 5,
    "start_time": "2021-08-16T21:15:59.306Z"
   },
   {
    "duration": 10,
    "start_time": "2021-08-16T21:15:59.314Z"
   },
   {
    "duration": 10,
    "start_time": "2021-08-16T21:15:59.326Z"
   },
   {
    "duration": 5,
    "start_time": "2021-08-16T21:15:59.338Z"
   },
   {
    "duration": 5,
    "start_time": "2021-08-16T21:15:59.346Z"
   },
   {
    "duration": 7,
    "start_time": "2021-08-16T21:15:59.354Z"
   },
   {
    "duration": 12,
    "start_time": "2021-08-16T21:15:59.363Z"
   },
   {
    "duration": 24,
    "start_time": "2021-08-16T21:15:59.377Z"
   },
   {
    "duration": 12,
    "start_time": "2021-08-16T21:15:59.403Z"
   },
   {
    "duration": 5,
    "start_time": "2021-08-16T21:17:05.180Z"
   },
   {
    "duration": 203,
    "start_time": "2021-08-16T21:17:05.188Z"
   },
   {
    "duration": 20,
    "start_time": "2021-08-16T21:17:05.395Z"
   },
   {
    "duration": 32,
    "start_time": "2021-08-16T21:17:05.419Z"
   },
   {
    "duration": 7,
    "start_time": "2021-08-16T21:17:05.455Z"
   },
   {
    "duration": 61,
    "start_time": "2021-08-16T21:17:05.464Z"
   },
   {
    "duration": 7,
    "start_time": "2021-08-16T21:17:05.528Z"
   },
   {
    "duration": 68,
    "start_time": "2021-08-16T21:17:05.538Z"
   },
   {
    "duration": 30,
    "start_time": "2021-08-16T21:17:05.611Z"
   },
   {
    "duration": 29,
    "start_time": "2021-08-16T21:17:05.644Z"
   },
   {
    "duration": 78,
    "start_time": "2021-08-16T21:17:05.700Z"
   },
   {
    "duration": 104,
    "start_time": "2021-08-16T21:17:05.781Z"
   },
   {
    "duration": 74,
    "start_time": "2021-08-16T21:17:05.888Z"
   },
   {
    "duration": 9,
    "start_time": "2021-08-16T21:17:05.964Z"
   },
   {
    "duration": 26,
    "start_time": "2021-08-16T21:17:05.975Z"
   },
   {
    "duration": 26,
    "start_time": "2021-08-16T21:17:06.003Z"
   },
   {
    "duration": 15,
    "start_time": "2021-08-16T21:17:06.032Z"
   },
   {
    "duration": 23,
    "start_time": "2021-08-16T21:17:06.049Z"
   },
   {
    "duration": 51,
    "start_time": "2021-08-16T21:17:06.075Z"
   },
   {
    "duration": 5,
    "start_time": "2021-08-16T21:17:06.128Z"
   },
   {
    "duration": 35,
    "start_time": "2021-08-16T21:17:06.136Z"
   },
   {
    "duration": 33,
    "start_time": "2021-08-16T21:17:06.173Z"
   },
   {
    "duration": 20,
    "start_time": "2021-08-16T21:17:06.208Z"
   },
   {
    "duration": 19,
    "start_time": "2021-08-16T21:17:06.230Z"
   },
   {
    "duration": 55,
    "start_time": "2021-08-16T21:17:06.252Z"
   },
   {
    "duration": 21,
    "start_time": "2021-08-16T21:17:06.310Z"
   },
   {
    "duration": 64,
    "start_time": "2021-08-16T21:17:06.338Z"
   },
   {
    "duration": 18,
    "start_time": "2021-08-16T21:17:06.404Z"
   },
   {
    "duration": 13,
    "start_time": "2021-08-16T21:17:06.424Z"
   },
   {
    "duration": 384,
    "start_time": "2021-08-16T21:17:06.440Z"
   },
   {
    "duration": 135,
    "start_time": "2021-08-16T21:17:06.692Z"
   },
   {
    "duration": 132,
    "start_time": "2021-08-16T21:17:06.696Z"
   },
   {
    "duration": 131,
    "start_time": "2021-08-16T21:17:06.699Z"
   },
   {
    "duration": 130,
    "start_time": "2021-08-16T21:17:06.701Z"
   },
   {
    "duration": 129,
    "start_time": "2021-08-16T21:17:06.704Z"
   },
   {
    "duration": 122,
    "start_time": "2021-08-16T21:17:06.712Z"
   },
   {
    "duration": 119,
    "start_time": "2021-08-16T21:17:06.716Z"
   },
   {
    "duration": 118,
    "start_time": "2021-08-16T21:17:06.719Z"
   },
   {
    "duration": 4,
    "start_time": "2021-08-16T21:17:37.042Z"
   },
   {
    "duration": 210,
    "start_time": "2021-08-16T21:17:37.049Z"
   },
   {
    "duration": 16,
    "start_time": "2021-08-16T21:17:37.262Z"
   },
   {
    "duration": 32,
    "start_time": "2021-08-16T21:17:37.299Z"
   },
   {
    "duration": 6,
    "start_time": "2021-08-16T21:17:37.333Z"
   },
   {
    "duration": 28,
    "start_time": "2021-08-16T21:17:37.341Z"
   },
   {
    "duration": 30,
    "start_time": "2021-08-16T21:17:37.372Z"
   },
   {
    "duration": 31,
    "start_time": "2021-08-16T21:17:37.405Z"
   },
   {
    "duration": 22,
    "start_time": "2021-08-16T21:17:37.441Z"
   },
   {
    "duration": 58,
    "start_time": "2021-08-16T21:17:37.466Z"
   },
   {
    "duration": 96,
    "start_time": "2021-08-16T21:17:37.526Z"
   },
   {
    "duration": 100,
    "start_time": "2021-08-16T21:17:37.624Z"
   },
   {
    "duration": 81,
    "start_time": "2021-08-16T21:17:37.726Z"
   },
   {
    "duration": 9,
    "start_time": "2021-08-16T21:17:37.810Z"
   },
   {
    "duration": 3,
    "start_time": "2021-08-16T21:17:37.822Z"
   },
   {
    "duration": 18,
    "start_time": "2021-08-16T21:17:37.828Z"
   },
   {
    "duration": 10,
    "start_time": "2021-08-16T21:17:37.849Z"
   },
   {
    "duration": 51,
    "start_time": "2021-08-16T21:17:37.861Z"
   },
   {
    "duration": 44,
    "start_time": "2021-08-16T21:17:37.914Z"
   },
   {
    "duration": 4,
    "start_time": "2021-08-16T21:17:37.961Z"
   },
   {
    "duration": 52,
    "start_time": "2021-08-16T21:17:37.968Z"
   },
   {
    "duration": 19,
    "start_time": "2021-08-16T21:17:38.022Z"
   },
   {
    "duration": 24,
    "start_time": "2021-08-16T21:17:38.043Z"
   },
   {
    "duration": 47,
    "start_time": "2021-08-16T21:17:38.069Z"
   },
   {
    "duration": 23,
    "start_time": "2021-08-16T21:17:38.119Z"
   },
   {
    "duration": 19,
    "start_time": "2021-08-16T21:17:38.144Z"
   },
   {
    "duration": 67,
    "start_time": "2021-08-16T21:17:38.168Z"
   },
   {
    "duration": 18,
    "start_time": "2021-08-16T21:17:38.238Z"
   },
   {
    "duration": 14,
    "start_time": "2021-08-16T21:17:38.258Z"
   },
   {
    "duration": 5,
    "start_time": "2021-08-16T21:17:38.300Z"
   },
   {
    "duration": 11,
    "start_time": "2021-08-16T21:17:38.308Z"
   },
   {
    "duration": 18,
    "start_time": "2021-08-16T21:17:38.321Z"
   },
   {
    "duration": 5,
    "start_time": "2021-08-16T21:17:38.342Z"
   },
   {
    "duration": 7,
    "start_time": "2021-08-16T21:17:38.349Z"
   },
   {
    "duration": 7,
    "start_time": "2021-08-16T21:17:38.358Z"
   },
   {
    "duration": 7,
    "start_time": "2021-08-16T21:17:38.367Z"
   },
   {
    "duration": 7,
    "start_time": "2021-08-16T21:17:38.376Z"
   },
   {
    "duration": 17,
    "start_time": "2021-08-16T21:17:38.385Z"
   },
   {
    "duration": 4,
    "start_time": "2021-08-16T21:18:41.270Z"
   },
   {
    "duration": 204,
    "start_time": "2021-08-16T21:18:41.277Z"
   },
   {
    "duration": 21,
    "start_time": "2021-08-16T21:18:41.484Z"
   },
   {
    "duration": 39,
    "start_time": "2021-08-16T21:18:41.508Z"
   },
   {
    "duration": 5,
    "start_time": "2021-08-16T21:18:41.550Z"
   },
   {
    "duration": 56,
    "start_time": "2021-08-16T21:18:41.557Z"
   },
   {
    "duration": 7,
    "start_time": "2021-08-16T21:18:41.616Z"
   },
   {
    "duration": 32,
    "start_time": "2021-08-16T21:18:41.626Z"
   },
   {
    "duration": 56,
    "start_time": "2021-08-16T21:18:41.664Z"
   },
   {
    "duration": 30,
    "start_time": "2021-08-16T21:18:41.725Z"
   },
   {
    "duration": 113,
    "start_time": "2021-08-16T21:18:41.758Z"
   },
   {
    "duration": 99,
    "start_time": "2021-08-16T21:18:41.873Z"
   },
   {
    "duration": 82,
    "start_time": "2021-08-16T21:18:41.975Z"
   },
   {
    "duration": 9,
    "start_time": "2021-08-16T21:18:42.059Z"
   },
   {
    "duration": 14,
    "start_time": "2021-08-16T21:18:42.070Z"
   },
   {
    "duration": 25,
    "start_time": "2021-08-16T21:18:42.087Z"
   },
   {
    "duration": 9,
    "start_time": "2021-08-16T21:18:42.114Z"
   },
   {
    "duration": 15,
    "start_time": "2021-08-16T21:18:42.125Z"
   },
   {
    "duration": 87,
    "start_time": "2021-08-16T21:18:42.142Z"
   },
   {
    "duration": 4,
    "start_time": "2021-08-16T21:18:42.232Z"
   },
   {
    "duration": 26,
    "start_time": "2021-08-16T21:18:42.239Z"
   },
   {
    "duration": 40,
    "start_time": "2021-08-16T21:18:42.268Z"
   },
   {
    "duration": 20,
    "start_time": "2021-08-16T21:18:42.310Z"
   },
   {
    "duration": 18,
    "start_time": "2021-08-16T21:18:42.333Z"
   },
   {
    "duration": 56,
    "start_time": "2021-08-16T21:18:42.354Z"
   },
   {
    "duration": 17,
    "start_time": "2021-08-16T21:18:42.412Z"
   },
   {
    "duration": 37,
    "start_time": "2021-08-16T21:18:42.434Z"
   },
   {
    "duration": 18,
    "start_time": "2021-08-16T21:18:42.501Z"
   },
   {
    "duration": 15,
    "start_time": "2021-08-16T21:18:42.521Z"
   },
   {
    "duration": 109,
    "start_time": "2021-08-16T21:18:42.539Z"
   },
   {
    "duration": 216,
    "start_time": "2021-08-16T21:18:42.434Z"
   },
   {
    "duration": 215,
    "start_time": "2021-08-16T21:18:42.437Z"
   },
   {
    "duration": 214,
    "start_time": "2021-08-16T21:18:42.440Z"
   },
   {
    "duration": 187,
    "start_time": "2021-08-16T21:18:42.468Z"
   },
   {
    "duration": 180,
    "start_time": "2021-08-16T21:18:42.476Z"
   },
   {
    "duration": 180,
    "start_time": "2021-08-16T21:18:42.478Z"
   },
   {
    "duration": 177,
    "start_time": "2021-08-16T21:18:42.482Z"
   },
   {
    "duration": 177,
    "start_time": "2021-08-16T21:18:42.484Z"
   },
   {
    "duration": 4,
    "start_time": "2021-08-16T21:18:57.001Z"
   },
   {
    "duration": 216,
    "start_time": "2021-08-16T21:18:57.007Z"
   },
   {
    "duration": 16,
    "start_time": "2021-08-16T21:18:57.227Z"
   },
   {
    "duration": 39,
    "start_time": "2021-08-16T21:18:57.246Z"
   },
   {
    "duration": 5,
    "start_time": "2021-08-16T21:18:57.301Z"
   },
   {
    "duration": 34,
    "start_time": "2021-08-16T21:18:57.309Z"
   },
   {
    "duration": 5,
    "start_time": "2021-08-16T21:18:57.346Z"
   },
   {
    "duration": 59,
    "start_time": "2021-08-16T21:18:57.353Z"
   },
   {
    "duration": 25,
    "start_time": "2021-08-16T21:18:57.416Z"
   },
   {
    "duration": 28,
    "start_time": "2021-08-16T21:18:57.444Z"
   },
   {
    "duration": 94,
    "start_time": "2021-08-16T21:18:57.475Z"
   },
   {
    "duration": 103,
    "start_time": "2021-08-16T21:18:57.572Z"
   },
   {
    "duration": 81,
    "start_time": "2021-08-16T21:18:57.678Z"
   },
   {
    "duration": 9,
    "start_time": "2021-08-16T21:18:57.762Z"
   },
   {
    "duration": 27,
    "start_time": "2021-08-16T21:18:57.773Z"
   },
   {
    "duration": 18,
    "start_time": "2021-08-16T21:18:57.803Z"
   },
   {
    "duration": 12,
    "start_time": "2021-08-16T21:18:57.823Z"
   },
   {
    "duration": 19,
    "start_time": "2021-08-16T21:18:57.838Z"
   },
   {
    "duration": 67,
    "start_time": "2021-08-16T21:18:57.859Z"
   },
   {
    "duration": 4,
    "start_time": "2021-08-16T21:18:57.929Z"
   },
   {
    "duration": 29,
    "start_time": "2021-08-16T21:18:57.936Z"
   },
   {
    "duration": 35,
    "start_time": "2021-08-16T21:18:57.967Z"
   },
   {
    "duration": 20,
    "start_time": "2021-08-16T21:18:58.005Z"
   },
   {
    "duration": 18,
    "start_time": "2021-08-16T21:18:58.027Z"
   },
   {
    "duration": 54,
    "start_time": "2021-08-16T21:18:58.048Z"
   },
   {
    "duration": 19,
    "start_time": "2021-08-16T21:18:58.104Z"
   },
   {
    "duration": 38,
    "start_time": "2021-08-16T21:18:58.128Z"
   },
   {
    "duration": 41,
    "start_time": "2021-08-16T21:18:58.169Z"
   },
   {
    "duration": 13,
    "start_time": "2021-08-16T21:18:58.213Z"
   },
   {
    "duration": 341,
    "start_time": "2021-08-16T21:18:58.229Z"
   },
   {
    "duration": 167,
    "start_time": "2021-08-16T21:18:58.405Z"
   },
   {
    "duration": 165,
    "start_time": "2021-08-16T21:18:58.409Z"
   },
   {
    "duration": 149,
    "start_time": "2021-08-16T21:18:58.426Z"
   },
   {
    "duration": 147,
    "start_time": "2021-08-16T21:18:58.430Z"
   },
   {
    "duration": 146,
    "start_time": "2021-08-16T21:18:58.432Z"
   },
   {
    "duration": 144,
    "start_time": "2021-08-16T21:18:58.435Z"
   },
   {
    "duration": 142,
    "start_time": "2021-08-16T21:18:58.439Z"
   },
   {
    "duration": 141,
    "start_time": "2021-08-16T21:18:58.441Z"
   },
   {
    "duration": 4,
    "start_time": "2021-08-16T21:20:50.004Z"
   },
   {
    "duration": 206,
    "start_time": "2021-08-16T21:20:50.011Z"
   },
   {
    "duration": 15,
    "start_time": "2021-08-16T21:20:50.221Z"
   },
   {
    "duration": 35,
    "start_time": "2021-08-16T21:20:50.239Z"
   },
   {
    "duration": 25,
    "start_time": "2021-08-16T21:20:50.277Z"
   },
   {
    "duration": 27,
    "start_time": "2021-08-16T21:20:50.304Z"
   },
   {
    "duration": 5,
    "start_time": "2021-08-16T21:20:50.333Z"
   },
   {
    "duration": 34,
    "start_time": "2021-08-16T21:20:50.341Z"
   },
   {
    "duration": 22,
    "start_time": "2021-08-16T21:20:50.403Z"
   },
   {
    "duration": 30,
    "start_time": "2021-08-16T21:20:50.428Z"
   },
   {
    "duration": 109,
    "start_time": "2021-08-16T21:20:50.461Z"
   },
   {
    "duration": 106,
    "start_time": "2021-08-16T21:20:50.572Z"
   },
   {
    "duration": 83,
    "start_time": "2021-08-16T21:20:50.680Z"
   },
   {
    "duration": 10,
    "start_time": "2021-08-16T21:20:50.765Z"
   },
   {
    "duration": 4,
    "start_time": "2021-08-16T21:20:50.778Z"
   },
   {
    "duration": 13,
    "start_time": "2021-08-16T21:20:50.802Z"
   },
   {
    "duration": 15,
    "start_time": "2021-08-16T21:20:50.818Z"
   },
   {
    "duration": 15,
    "start_time": "2021-08-16T21:20:50.836Z"
   },
   {
    "duration": 82,
    "start_time": "2021-08-16T21:20:50.854Z"
   },
   {
    "duration": 6,
    "start_time": "2021-08-16T21:20:50.939Z"
   },
   {
    "duration": 30,
    "start_time": "2021-08-16T21:20:50.947Z"
   },
   {
    "duration": 35,
    "start_time": "2021-08-16T21:20:50.980Z"
   },
   {
    "duration": 18,
    "start_time": "2021-08-16T21:20:51.017Z"
   },
   {
    "duration": 17,
    "start_time": "2021-08-16T21:20:51.037Z"
   },
   {
    "duration": 53,
    "start_time": "2021-08-16T21:20:51.056Z"
   },
   {
    "duration": 17,
    "start_time": "2021-08-16T21:20:51.112Z"
   },
   {
    "duration": 35,
    "start_time": "2021-08-16T21:20:51.134Z"
   },
   {
    "duration": 42,
    "start_time": "2021-08-16T21:20:51.172Z"
   },
   {
    "duration": 14,
    "start_time": "2021-08-16T21:20:51.217Z"
   },
   {
    "duration": 6,
    "start_time": "2021-08-16T21:20:51.233Z"
   },
   {
    "duration": 9,
    "start_time": "2021-08-16T21:20:51.241Z"
   },
   {
    "duration": 8,
    "start_time": "2021-08-16T21:20:51.252Z"
   },
   {
    "duration": 6,
    "start_time": "2021-08-16T21:20:51.263Z"
   },
   {
    "duration": 7,
    "start_time": "2021-08-16T21:20:51.302Z"
   },
   {
    "duration": 6,
    "start_time": "2021-08-16T21:20:51.311Z"
   },
   {
    "duration": 7,
    "start_time": "2021-08-16T21:20:51.320Z"
   },
   {
    "duration": 9,
    "start_time": "2021-08-16T21:20:51.329Z"
   },
   {
    "duration": 7,
    "start_time": "2021-08-16T21:20:51.340Z"
   },
   {
    "duration": 4,
    "start_time": "2021-08-16T21:29:58.339Z"
   },
   {
    "duration": 190,
    "start_time": "2021-08-16T21:29:58.346Z"
   },
   {
    "duration": 14,
    "start_time": "2021-08-16T21:29:58.539Z"
   },
   {
    "duration": 51,
    "start_time": "2021-08-16T21:29:58.556Z"
   },
   {
    "duration": 6,
    "start_time": "2021-08-16T21:29:58.610Z"
   },
   {
    "duration": 28,
    "start_time": "2021-08-16T21:29:58.618Z"
   },
   {
    "duration": 6,
    "start_time": "2021-08-16T21:29:58.649Z"
   },
   {
    "duration": 69,
    "start_time": "2021-08-16T21:29:58.658Z"
   },
   {
    "duration": 26,
    "start_time": "2021-08-16T21:29:58.730Z"
   },
   {
    "duration": 29,
    "start_time": "2021-08-16T21:29:58.758Z"
   },
   {
    "duration": 81,
    "start_time": "2021-08-16T21:29:58.801Z"
   },
   {
    "duration": 100,
    "start_time": "2021-08-16T21:29:58.900Z"
   },
   {
    "duration": 72,
    "start_time": "2021-08-16T21:29:59.003Z"
   },
   {
    "duration": 25,
    "start_time": "2021-08-16T21:29:59.077Z"
   },
   {
    "duration": 6,
    "start_time": "2021-08-16T21:29:59.105Z"
   },
   {
    "duration": 15,
    "start_time": "2021-08-16T21:29:59.113Z"
   },
   {
    "duration": 10,
    "start_time": "2021-08-16T21:29:59.130Z"
   },
   {
    "duration": 16,
    "start_time": "2021-08-16T21:29:59.142Z"
   },
   {
    "duration": 78,
    "start_time": "2021-08-16T21:29:59.163Z"
   },
   {
    "duration": 5,
    "start_time": "2021-08-16T21:29:59.244Z"
   },
   {
    "duration": 50,
    "start_time": "2021-08-16T21:29:59.251Z"
   },
   {
    "duration": 18,
    "start_time": "2021-08-16T21:29:59.303Z"
   },
   {
    "duration": 19,
    "start_time": "2021-08-16T21:29:59.323Z"
   },
   {
    "duration": 18,
    "start_time": "2021-08-16T21:29:59.344Z"
   },
   {
    "duration": 53,
    "start_time": "2021-08-16T21:29:59.364Z"
   },
   {
    "duration": 17,
    "start_time": "2021-08-16T21:29:59.419Z"
   },
   {
    "duration": 66,
    "start_time": "2021-08-16T21:29:59.438Z"
   },
   {
    "duration": 17,
    "start_time": "2021-08-16T21:29:59.506Z"
   },
   {
    "duration": 14,
    "start_time": "2021-08-16T21:29:59.525Z"
   },
   {
    "duration": 6,
    "start_time": "2021-08-16T21:29:59.541Z"
   },
   {
    "duration": 762,
    "start_time": "2021-08-16T21:30:17.811Z"
   },
   {
    "duration": 176,
    "start_time": "2021-08-16T21:30:18.576Z"
   },
   {
    "duration": 25,
    "start_time": "2021-08-16T21:30:18.756Z"
   },
   {
    "duration": 44,
    "start_time": "2021-08-16T21:30:18.784Z"
   },
   {
    "duration": 12,
    "start_time": "2021-08-16T21:30:18.830Z"
   },
   {
    "duration": 36,
    "start_time": "2021-08-16T21:30:18.844Z"
   },
   {
    "duration": 19,
    "start_time": "2021-08-16T21:30:18.883Z"
   },
   {
    "duration": 38,
    "start_time": "2021-08-16T21:30:18.904Z"
   },
   {
    "duration": 23,
    "start_time": "2021-08-16T21:30:18.946Z"
   },
   {
    "duration": 45,
    "start_time": "2021-08-16T21:30:18.972Z"
   },
   {
    "duration": 94,
    "start_time": "2021-08-16T21:30:19.019Z"
   },
   {
    "duration": 103,
    "start_time": "2021-08-16T21:30:19.115Z"
   },
   {
    "duration": 87,
    "start_time": "2021-08-16T21:30:19.221Z"
   },
   {
    "duration": 8,
    "start_time": "2021-08-16T21:30:19.311Z"
   },
   {
    "duration": 12,
    "start_time": "2021-08-16T21:30:19.322Z"
   },
   {
    "duration": 29,
    "start_time": "2021-08-16T21:30:19.337Z"
   },
   {
    "duration": 18,
    "start_time": "2021-08-16T21:30:19.369Z"
   },
   {
    "duration": 26,
    "start_time": "2021-08-16T21:30:19.389Z"
   },
   {
    "duration": 49,
    "start_time": "2021-08-16T21:30:19.418Z"
   },
   {
    "duration": 5,
    "start_time": "2021-08-16T21:30:19.469Z"
   },
   {
    "duration": 37,
    "start_time": "2021-08-16T21:30:19.477Z"
   },
   {
    "duration": 21,
    "start_time": "2021-08-16T21:30:19.517Z"
   },
   {
    "duration": 29,
    "start_time": "2021-08-16T21:30:19.541Z"
   },
   {
    "duration": 38,
    "start_time": "2021-08-16T21:30:19.573Z"
   },
   {
    "duration": 30,
    "start_time": "2021-08-16T21:30:19.613Z"
   },
   {
    "duration": 31,
    "start_time": "2021-08-16T21:30:19.645Z"
   },
   {
    "duration": 42,
    "start_time": "2021-08-16T21:30:19.681Z"
   },
   {
    "duration": 14,
    "start_time": "2021-08-16T21:30:19.726Z"
   },
   {
    "duration": 24,
    "start_time": "2021-08-16T21:30:19.743Z"
   },
   {
    "duration": 19,
    "start_time": "2021-08-16T21:30:19.769Z"
   },
   {
    "duration": 714,
    "start_time": "2021-08-16T21:31:12.149Z"
   },
   {
    "duration": 182,
    "start_time": "2021-08-16T21:31:12.866Z"
   },
   {
    "duration": 26,
    "start_time": "2021-08-16T21:31:13.051Z"
   },
   {
    "duration": 53,
    "start_time": "2021-08-16T21:31:13.080Z"
   },
   {
    "duration": 5,
    "start_time": "2021-08-16T21:31:13.136Z"
   },
   {
    "duration": 31,
    "start_time": "2021-08-16T21:31:13.143Z"
   },
   {
    "duration": 26,
    "start_time": "2021-08-16T21:31:13.176Z"
   },
   {
    "duration": 31,
    "start_time": "2021-08-16T21:31:13.204Z"
   },
   {
    "duration": 21,
    "start_time": "2021-08-16T21:31:13.240Z"
   },
   {
    "duration": 63,
    "start_time": "2021-08-16T21:31:13.265Z"
   },
   {
    "duration": 98,
    "start_time": "2021-08-16T21:31:13.331Z"
   },
   {
    "duration": 110,
    "start_time": "2021-08-16T21:31:13.432Z"
   },
   {
    "duration": 81,
    "start_time": "2021-08-16T21:31:13.545Z"
   },
   {
    "duration": 12,
    "start_time": "2021-08-16T21:31:13.629Z"
   },
   {
    "duration": 8,
    "start_time": "2021-08-16T21:31:13.644Z"
   },
   {
    "duration": 40,
    "start_time": "2021-08-16T21:31:13.655Z"
   },
   {
    "duration": 12,
    "start_time": "2021-08-16T21:31:13.700Z"
   },
   {
    "duration": 31,
    "start_time": "2021-08-16T21:31:13.715Z"
   },
   {
    "duration": 58,
    "start_time": "2021-08-16T21:31:13.749Z"
   },
   {
    "duration": 7,
    "start_time": "2021-08-16T21:31:13.810Z"
   },
   {
    "duration": 30,
    "start_time": "2021-08-16T21:31:13.820Z"
   },
   {
    "duration": 47,
    "start_time": "2021-08-16T21:31:13.853Z"
   },
   {
    "duration": 21,
    "start_time": "2021-08-16T21:31:13.903Z"
   },
   {
    "duration": 19,
    "start_time": "2021-08-16T21:31:13.926Z"
   },
   {
    "duration": 59,
    "start_time": "2021-08-16T21:31:13.948Z"
   },
   {
    "duration": 20,
    "start_time": "2021-08-16T21:31:14.011Z"
   },
   {
    "duration": 65,
    "start_time": "2021-08-16T21:31:14.038Z"
   },
   {
    "duration": 17,
    "start_time": "2021-08-16T21:31:14.107Z"
   },
   {
    "duration": 14,
    "start_time": "2021-08-16T21:31:14.127Z"
   },
   {
    "duration": 6,
    "start_time": "2021-08-16T21:31:14.144Z"
   },
   {
    "duration": 718,
    "start_time": "2021-08-16T21:32:09.238Z"
   },
   {
    "duration": 180,
    "start_time": "2021-08-16T21:32:09.959Z"
   },
   {
    "duration": 26,
    "start_time": "2021-08-16T21:32:10.143Z"
   },
   {
    "duration": 51,
    "start_time": "2021-08-16T21:32:10.172Z"
   },
   {
    "duration": 6,
    "start_time": "2021-08-16T21:32:10.226Z"
   },
   {
    "duration": 41,
    "start_time": "2021-08-16T21:32:10.234Z"
   },
   {
    "duration": 25,
    "start_time": "2021-08-16T21:32:10.277Z"
   },
   {
    "duration": 32,
    "start_time": "2021-08-16T21:32:10.305Z"
   },
   {
    "duration": 21,
    "start_time": "2021-08-16T21:32:10.341Z"
   },
   {
    "duration": 54,
    "start_time": "2021-08-16T21:32:10.365Z"
   },
   {
    "duration": 99,
    "start_time": "2021-08-16T21:32:10.422Z"
   },
   {
    "duration": 107,
    "start_time": "2021-08-16T21:32:10.524Z"
   },
   {
    "duration": 81,
    "start_time": "2021-08-16T21:32:10.633Z"
   },
   {
    "duration": 10,
    "start_time": "2021-08-16T21:32:10.716Z"
   },
   {
    "duration": 3,
    "start_time": "2021-08-16T21:32:10.729Z"
   },
   {
    "duration": 20,
    "start_time": "2021-08-16T21:32:10.734Z"
   },
   {
    "duration": 43,
    "start_time": "2021-08-16T21:32:10.757Z"
   },
   {
    "duration": 16,
    "start_time": "2021-08-16T21:32:10.803Z"
   },
   {
    "duration": 40,
    "start_time": "2021-08-16T21:32:10.822Z"
   },
   {
    "duration": 5,
    "start_time": "2021-08-16T21:32:10.864Z"
   },
   {
    "duration": 20,
    "start_time": "2021-08-16T21:32:10.900Z"
   },
   {
    "duration": 17,
    "start_time": "2021-08-16T21:32:10.923Z"
   },
   {
    "duration": 24,
    "start_time": "2021-08-16T21:32:10.942Z"
   },
   {
    "duration": 19,
    "start_time": "2021-08-16T21:32:11.001Z"
   },
   {
    "duration": 20,
    "start_time": "2021-08-16T21:32:11.022Z"
   },
   {
    "duration": 17,
    "start_time": "2021-08-16T21:32:11.044Z"
   },
   {
    "duration": 69,
    "start_time": "2021-08-16T21:32:11.066Z"
   },
   {
    "duration": 17,
    "start_time": "2021-08-16T21:32:11.138Z"
   },
   {
    "duration": 46,
    "start_time": "2021-08-16T21:32:11.158Z"
   },
   {
    "duration": 6,
    "start_time": "2021-08-16T21:32:11.207Z"
   },
   {
    "duration": 768,
    "start_time": "2021-08-16T21:34:09.137Z"
   },
   {
    "duration": 186,
    "start_time": "2021-08-16T21:34:09.908Z"
   },
   {
    "duration": 27,
    "start_time": "2021-08-16T21:34:10.097Z"
   },
   {
    "duration": 35,
    "start_time": "2021-08-16T21:34:10.126Z"
   },
   {
    "duration": 7,
    "start_time": "2021-08-16T21:34:10.164Z"
   },
   {
    "duration": 28,
    "start_time": "2021-08-16T21:34:10.202Z"
   },
   {
    "duration": 8,
    "start_time": "2021-08-16T21:34:10.233Z"
   },
   {
    "duration": 64,
    "start_time": "2021-08-16T21:34:10.245Z"
   },
   {
    "duration": 22,
    "start_time": "2021-08-16T21:34:10.312Z"
   },
   {
    "duration": 33,
    "start_time": "2021-08-16T21:34:10.337Z"
   },
   {
    "duration": 108,
    "start_time": "2021-08-16T21:34:10.373Z"
   },
   {
    "duration": 106,
    "start_time": "2021-08-16T21:34:10.483Z"
   },
   {
    "duration": 82,
    "start_time": "2021-08-16T21:34:10.591Z"
   },
   {
    "duration": 25,
    "start_time": "2021-08-16T21:34:10.676Z"
   },
   {
    "duration": 3,
    "start_time": "2021-08-16T21:34:10.705Z"
   },
   {
    "duration": 23,
    "start_time": "2021-08-16T21:34:10.711Z"
   },
   {
    "duration": 9,
    "start_time": "2021-08-16T21:34:10.737Z"
   },
   {
    "duration": 15,
    "start_time": "2021-08-16T21:34:10.748Z"
   },
   {
    "duration": 44,
    "start_time": "2021-08-16T21:34:10.801Z"
   },
   {
    "duration": 5,
    "start_time": "2021-08-16T21:34:10.847Z"
   },
   {
    "duration": 46,
    "start_time": "2021-08-16T21:34:10.854Z"
   },
   {
    "duration": 17,
    "start_time": "2021-08-16T21:34:10.903Z"
   },
   {
    "duration": 18,
    "start_time": "2021-08-16T21:34:10.925Z"
   },
   {
    "duration": 16,
    "start_time": "2021-08-16T21:34:10.946Z"
   },
   {
    "duration": 53,
    "start_time": "2021-08-16T21:34:10.964Z"
   },
   {
    "duration": 20,
    "start_time": "2021-08-16T21:34:11.020Z"
   },
   {
    "duration": 73,
    "start_time": "2021-08-16T21:34:11.043Z"
   },
   {
    "duration": 14,
    "start_time": "2021-08-16T21:34:11.119Z"
   },
   {
    "duration": 13,
    "start_time": "2021-08-16T21:34:11.135Z"
   },
   {
    "duration": 6,
    "start_time": "2021-08-16T21:34:11.150Z"
   },
   {
    "duration": 766,
    "start_time": "2021-08-16T21:39:43.192Z"
   },
   {
    "duration": 180,
    "start_time": "2021-08-16T21:39:43.961Z"
   },
   {
    "duration": 25,
    "start_time": "2021-08-16T21:39:44.144Z"
   },
   {
    "duration": 55,
    "start_time": "2021-08-16T21:39:44.172Z"
   },
   {
    "duration": 6,
    "start_time": "2021-08-16T21:39:44.230Z"
   },
   {
    "duration": 27,
    "start_time": "2021-08-16T21:39:44.239Z"
   },
   {
    "duration": 31,
    "start_time": "2021-08-16T21:39:44.269Z"
   },
   {
    "duration": 30,
    "start_time": "2021-08-16T21:39:44.303Z"
   },
   {
    "duration": 21,
    "start_time": "2021-08-16T21:39:44.337Z"
   },
   {
    "duration": 53,
    "start_time": "2021-08-16T21:39:44.361Z"
   },
   {
    "duration": 97,
    "start_time": "2021-08-16T21:39:44.417Z"
   },
   {
    "duration": 106,
    "start_time": "2021-08-16T21:39:44.517Z"
   },
   {
    "duration": 80,
    "start_time": "2021-08-16T21:39:44.626Z"
   },
   {
    "duration": 10,
    "start_time": "2021-08-16T21:39:44.709Z"
   },
   {
    "duration": 5,
    "start_time": "2021-08-16T21:39:44.721Z"
   },
   {
    "duration": 18,
    "start_time": "2021-08-16T21:39:44.729Z"
   },
   {
    "duration": 11,
    "start_time": "2021-08-16T21:39:44.750Z"
   },
   {
    "duration": 17,
    "start_time": "2021-08-16T21:39:44.801Z"
   },
   {
    "duration": 45,
    "start_time": "2021-08-16T21:39:44.821Z"
   },
   {
    "duration": 35,
    "start_time": "2021-08-16T21:39:44.869Z"
   },
   {
    "duration": 26,
    "start_time": "2021-08-16T21:39:44.907Z"
   },
   {
    "duration": 20,
    "start_time": "2021-08-16T21:39:44.936Z"
   },
   {
    "duration": 58,
    "start_time": "2021-08-16T21:39:44.959Z"
   },
   {
    "duration": 21,
    "start_time": "2021-08-16T21:39:45.020Z"
   },
   {
    "duration": 58,
    "start_time": "2021-08-16T21:39:45.044Z"
   },
   {
    "duration": 18,
    "start_time": "2021-08-16T21:39:45.105Z"
   },
   {
    "duration": 40,
    "start_time": "2021-08-16T21:39:45.128Z"
   },
   {
    "duration": 41,
    "start_time": "2021-08-16T21:39:45.170Z"
   },
   {
    "duration": 12,
    "start_time": "2021-08-16T21:39:45.213Z"
   },
   {
    "duration": 5,
    "start_time": "2021-08-16T21:39:45.228Z"
   },
   {
    "duration": 740,
    "start_time": "2021-08-16T21:41:27.125Z"
   },
   {
    "duration": 189,
    "start_time": "2021-08-16T21:41:27.868Z"
   },
   {
    "duration": 25,
    "start_time": "2021-08-16T21:41:28.060Z"
   },
   {
    "duration": 32,
    "start_time": "2021-08-16T21:41:28.101Z"
   },
   {
    "duration": 5,
    "start_time": "2021-08-16T21:41:28.136Z"
   },
   {
    "duration": 57,
    "start_time": "2021-08-16T21:41:28.143Z"
   },
   {
    "duration": 6,
    "start_time": "2021-08-16T21:41:28.202Z"
   },
   {
    "duration": 34,
    "start_time": "2021-08-16T21:41:28.210Z"
   },
   {
    "duration": 22,
    "start_time": "2021-08-16T21:41:28.249Z"
   },
   {
    "duration": 54,
    "start_time": "2021-08-16T21:41:28.274Z"
   },
   {
    "duration": 99,
    "start_time": "2021-08-16T21:41:28.330Z"
   },
   {
    "duration": 108,
    "start_time": "2021-08-16T21:41:28.431Z"
   },
   {
    "duration": 81,
    "start_time": "2021-08-16T21:41:28.541Z"
   },
   {
    "duration": 10,
    "start_time": "2021-08-16T21:41:28.624Z"
   },
   {
    "duration": 8,
    "start_time": "2021-08-16T21:41:28.637Z"
   },
   {
    "duration": 23,
    "start_time": "2021-08-16T21:41:28.647Z"
   },
   {
    "duration": 30,
    "start_time": "2021-08-16T21:41:28.672Z"
   },
   {
    "duration": 15,
    "start_time": "2021-08-16T21:41:28.704Z"
   },
   {
    "duration": 42,
    "start_time": "2021-08-16T21:41:28.721Z"
   },
   {
    "duration": 5,
    "start_time": "2021-08-16T21:41:28.765Z"
   },
   {
    "duration": 23,
    "start_time": "2021-08-16T21:41:28.801Z"
   },
   {
    "duration": 18,
    "start_time": "2021-08-16T21:41:28.826Z"
   },
   {
    "duration": 54,
    "start_time": "2021-08-16T21:41:28.846Z"
   },
   {
    "duration": 21,
    "start_time": "2021-08-16T21:41:28.903Z"
   },
   {
    "duration": 24,
    "start_time": "2021-08-16T21:41:28.927Z"
   },
   {
    "duration": 51,
    "start_time": "2021-08-16T21:41:28.953Z"
   },
   {
    "duration": 43,
    "start_time": "2021-08-16T21:41:29.010Z"
   },
   {
    "duration": 14,
    "start_time": "2021-08-16T21:41:29.056Z"
   },
   {
    "duration": 36,
    "start_time": "2021-08-16T21:41:29.072Z"
   },
   {
    "duration": 5,
    "start_time": "2021-08-16T21:41:29.111Z"
   },
   {
    "duration": 790,
    "start_time": "2021-08-16T21:42:15.282Z"
   },
   {
    "duration": 196,
    "start_time": "2021-08-16T21:42:16.075Z"
   },
   {
    "duration": 39,
    "start_time": "2021-08-16T21:42:16.275Z"
   },
   {
    "duration": 32,
    "start_time": "2021-08-16T21:42:16.317Z"
   },
   {
    "duration": 6,
    "start_time": "2021-08-16T21:42:16.351Z"
   },
   {
    "duration": 60,
    "start_time": "2021-08-16T21:42:16.360Z"
   },
   {
    "duration": 8,
    "start_time": "2021-08-16T21:42:16.422Z"
   },
   {
    "duration": 31,
    "start_time": "2021-08-16T21:42:16.433Z"
   },
   {
    "duration": 48,
    "start_time": "2021-08-16T21:42:16.468Z"
   },
   {
    "duration": 28,
    "start_time": "2021-08-16T21:42:16.519Z"
   },
   {
    "duration": 109,
    "start_time": "2021-08-16T21:42:16.550Z"
   },
   {
    "duration": 110,
    "start_time": "2021-08-16T21:42:16.661Z"
   },
   {
    "duration": 84,
    "start_time": "2021-08-16T21:42:16.773Z"
   },
   {
    "duration": 9,
    "start_time": "2021-08-16T21:42:16.860Z"
   },
   {
    "duration": 4,
    "start_time": "2021-08-16T21:42:16.872Z"
   },
   {
    "duration": 33,
    "start_time": "2021-08-16T21:42:16.879Z"
   },
   {
    "duration": 10,
    "start_time": "2021-08-16T21:42:16.915Z"
   },
   {
    "duration": 16,
    "start_time": "2021-08-16T21:42:16.927Z"
   },
   {
    "duration": 71,
    "start_time": "2021-08-16T21:42:16.945Z"
   },
   {
    "duration": 4,
    "start_time": "2021-08-16T21:42:17.019Z"
   },
   {
    "duration": 27,
    "start_time": "2021-08-16T21:42:17.026Z"
   },
   {
    "duration": 47,
    "start_time": "2021-08-16T21:42:17.055Z"
   },
   {
    "duration": 18,
    "start_time": "2021-08-16T21:42:17.104Z"
   },
   {
    "duration": 18,
    "start_time": "2021-08-16T21:42:17.124Z"
   },
   {
    "duration": 20,
    "start_time": "2021-08-16T21:42:17.144Z"
   },
   {
    "duration": 51,
    "start_time": "2021-08-16T21:42:17.166Z"
   },
   {
    "duration": 35,
    "start_time": "2021-08-16T21:42:17.222Z"
   },
   {
    "duration": 48,
    "start_time": "2021-08-16T21:42:17.260Z"
   },
   {
    "duration": 12,
    "start_time": "2021-08-16T21:42:17.311Z"
   },
   {
    "duration": 7,
    "start_time": "2021-08-16T21:42:17.326Z"
   },
   {
    "duration": 115,
    "start_time": "2021-08-16T21:42:17.336Z"
   },
   {
    "duration": 179,
    "start_time": "2021-08-16T21:42:17.274Z"
   },
   {
    "duration": 178,
    "start_time": "2021-08-16T21:42:17.277Z"
   },
   {
    "duration": 176,
    "start_time": "2021-08-16T21:42:17.280Z"
   },
   {
    "duration": 176,
    "start_time": "2021-08-16T21:42:17.282Z"
   },
   {
    "duration": 173,
    "start_time": "2021-08-16T21:42:17.286Z"
   },
   {
    "duration": 172,
    "start_time": "2021-08-16T21:42:17.289Z"
   },
   {
    "duration": 172,
    "start_time": "2021-08-16T21:42:17.291Z"
   },
   {
    "duration": 3,
    "start_time": "2021-08-16T21:42:57.110Z"
   },
   {
    "duration": 206,
    "start_time": "2021-08-16T21:42:57.116Z"
   },
   {
    "duration": 16,
    "start_time": "2021-08-16T21:42:57.326Z"
   },
   {
    "duration": 58,
    "start_time": "2021-08-16T21:42:57.346Z"
   },
   {
    "duration": 5,
    "start_time": "2021-08-16T21:42:57.406Z"
   },
   {
    "duration": 23,
    "start_time": "2021-08-16T21:42:57.414Z"
   },
   {
    "duration": 7,
    "start_time": "2021-08-16T21:42:57.439Z"
   },
   {
    "duration": 67,
    "start_time": "2021-08-16T21:42:57.448Z"
   },
   {
    "duration": 24,
    "start_time": "2021-08-16T21:42:57.519Z"
   },
   {
    "duration": 29,
    "start_time": "2021-08-16T21:42:57.546Z"
   },
   {
    "duration": 80,
    "start_time": "2021-08-16T21:42:57.599Z"
   },
   {
    "duration": 99,
    "start_time": "2021-08-16T21:42:57.681Z"
   },
   {
    "duration": 95,
    "start_time": "2021-08-16T21:42:57.782Z"
   },
   {
    "duration": 22,
    "start_time": "2021-08-16T21:42:57.879Z"
   },
   {
    "duration": 3,
    "start_time": "2021-08-16T21:42:57.904Z"
   },
   {
    "duration": 19,
    "start_time": "2021-08-16T21:42:57.910Z"
   },
   {
    "duration": 11,
    "start_time": "2021-08-16T21:42:57.931Z"
   },
   {
    "duration": 14,
    "start_time": "2021-08-16T21:42:57.944Z"
   },
   {
    "duration": 79,
    "start_time": "2021-08-16T21:42:57.960Z"
   },
   {
    "duration": 5,
    "start_time": "2021-08-16T21:42:58.042Z"
   },
   {
    "duration": 33,
    "start_time": "2021-08-16T21:42:58.050Z"
   },
   {
    "duration": 30,
    "start_time": "2021-08-16T21:42:58.086Z"
   },
   {
    "duration": 18,
    "start_time": "2021-08-16T21:42:58.119Z"
   },
   {
    "duration": 17,
    "start_time": "2021-08-16T21:42:58.139Z"
   },
   {
    "duration": 53,
    "start_time": "2021-08-16T21:42:58.159Z"
   },
   {
    "duration": 17,
    "start_time": "2021-08-16T21:42:58.215Z"
   },
   {
    "duration": 67,
    "start_time": "2021-08-16T21:42:58.237Z"
   },
   {
    "duration": 17,
    "start_time": "2021-08-16T21:42:58.307Z"
   },
   {
    "duration": 13,
    "start_time": "2021-08-16T21:42:58.327Z"
   },
   {
    "duration": 6,
    "start_time": "2021-08-16T21:42:58.343Z"
   },
   {
    "duration": 123,
    "start_time": "2021-08-16T21:42:58.351Z"
   },
   {
    "duration": 193,
    "start_time": "2021-08-16T21:42:58.283Z"
   },
   {
    "duration": 187,
    "start_time": "2021-08-16T21:42:58.290Z"
   },
   {
    "duration": 185,
    "start_time": "2021-08-16T21:42:58.293Z"
   },
   {
    "duration": 184,
    "start_time": "2021-08-16T21:42:58.296Z"
   },
   {
    "duration": 182,
    "start_time": "2021-08-16T21:42:58.299Z"
   },
   {
    "duration": 180,
    "start_time": "2021-08-16T21:42:58.302Z"
   },
   {
    "duration": 179,
    "start_time": "2021-08-16T21:42:58.304Z"
   },
   {
    "duration": 4,
    "start_time": "2021-08-16T21:44:34.988Z"
   },
   {
    "duration": 215,
    "start_time": "2021-08-16T21:44:34.996Z"
   },
   {
    "duration": 17,
    "start_time": "2021-08-16T21:44:35.215Z"
   },
   {
    "duration": 35,
    "start_time": "2021-08-16T21:44:35.235Z"
   },
   {
    "duration": 7,
    "start_time": "2021-08-16T21:44:35.301Z"
   },
   {
    "duration": 14,
    "start_time": "2021-08-16T21:44:35.311Z"
   },
   {
    "duration": 5,
    "start_time": "2021-08-16T21:44:35.328Z"
   },
   {
    "duration": 66,
    "start_time": "2021-08-16T21:44:35.336Z"
   },
   {
    "duration": 22,
    "start_time": "2021-08-16T21:44:35.406Z"
   },
   {
    "duration": 30,
    "start_time": "2021-08-16T21:44:35.431Z"
   },
   {
    "duration": 108,
    "start_time": "2021-08-16T21:44:35.463Z"
   },
   {
    "duration": 97,
    "start_time": "2021-08-16T21:44:35.574Z"
   },
   {
    "duration": 84,
    "start_time": "2021-08-16T21:44:35.674Z"
   },
   {
    "duration": 12,
    "start_time": "2021-08-16T21:44:35.761Z"
   },
   {
    "duration": 24,
    "start_time": "2021-08-16T21:44:35.777Z"
   },
   {
    "duration": 20,
    "start_time": "2021-08-16T21:44:35.804Z"
   },
   {
    "duration": 12,
    "start_time": "2021-08-16T21:44:35.826Z"
   },
   {
    "duration": 17,
    "start_time": "2021-08-16T21:44:35.840Z"
   },
   {
    "duration": 81,
    "start_time": "2021-08-16T21:44:35.861Z"
   },
   {
    "duration": 5,
    "start_time": "2021-08-16T21:44:35.945Z"
   },
   {
    "duration": 49,
    "start_time": "2021-08-16T21:44:35.953Z"
   },
   {
    "duration": 19,
    "start_time": "2021-08-16T21:44:36.004Z"
   },
   {
    "duration": 20,
    "start_time": "2021-08-16T21:44:36.025Z"
   },
   {
    "duration": 18,
    "start_time": "2021-08-16T21:44:36.048Z"
   },
   {
    "duration": 21,
    "start_time": "2021-08-16T21:44:36.101Z"
   },
   {
    "duration": 17,
    "start_time": "2021-08-16T21:44:36.125Z"
   },
   {
    "duration": 70,
    "start_time": "2021-08-16T21:44:36.148Z"
   },
   {
    "duration": 16,
    "start_time": "2021-08-16T21:44:36.221Z"
   },
   {
    "duration": 14,
    "start_time": "2021-08-16T21:44:36.240Z"
   },
   {
    "duration": 6,
    "start_time": "2021-08-16T21:44:36.256Z"
   },
   {
    "duration": 123,
    "start_time": "2021-08-16T21:44:36.264Z"
   },
   {
    "duration": 199,
    "start_time": "2021-08-16T21:44:36.191Z"
   },
   {
    "duration": 197,
    "start_time": "2021-08-16T21:44:36.195Z"
   },
   {
    "duration": 196,
    "start_time": "2021-08-16T21:44:36.198Z"
   },
   {
    "duration": 197,
    "start_time": "2021-08-16T21:44:36.200Z"
   },
   {
    "duration": 197,
    "start_time": "2021-08-16T21:44:36.202Z"
   },
   {
    "duration": 196,
    "start_time": "2021-08-16T21:44:36.205Z"
   },
   {
    "duration": 190,
    "start_time": "2021-08-16T21:44:36.214Z"
   },
   {
    "duration": 4,
    "start_time": "2021-08-16T21:45:50.556Z"
   },
   {
    "duration": 201,
    "start_time": "2021-08-16T21:45:50.563Z"
   },
   {
    "duration": 15,
    "start_time": "2021-08-16T21:45:50.767Z"
   },
   {
    "duration": 48,
    "start_time": "2021-08-16T21:45:50.785Z"
   },
   {
    "duration": 5,
    "start_time": "2021-08-16T21:45:50.836Z"
   },
   {
    "duration": 23,
    "start_time": "2021-08-16T21:45:50.844Z"
   },
   {
    "duration": 6,
    "start_time": "2021-08-16T21:45:50.899Z"
   },
   {
    "duration": 38,
    "start_time": "2021-08-16T21:45:50.908Z"
   },
   {
    "duration": 24,
    "start_time": "2021-08-16T21:45:50.948Z"
   },
   {
    "duration": 50,
    "start_time": "2021-08-16T21:45:50.975Z"
   },
   {
    "duration": 106,
    "start_time": "2021-08-16T21:45:51.028Z"
   },
   {
    "duration": 105,
    "start_time": "2021-08-16T21:45:51.137Z"
   },
   {
    "duration": 86,
    "start_time": "2021-08-16T21:45:51.244Z"
   },
   {
    "duration": 10,
    "start_time": "2021-08-16T21:45:51.333Z"
   },
   {
    "duration": 7,
    "start_time": "2021-08-16T21:45:51.346Z"
   },
   {
    "duration": 21,
    "start_time": "2021-08-16T21:45:51.355Z"
   },
   {
    "duration": 26,
    "start_time": "2021-08-16T21:45:51.379Z"
   },
   {
    "duration": 15,
    "start_time": "2021-08-16T21:45:51.408Z"
   },
   {
    "duration": 75,
    "start_time": "2021-08-16T21:45:51.428Z"
   },
   {
    "duration": 6,
    "start_time": "2021-08-16T21:45:51.506Z"
   },
   {
    "duration": 33,
    "start_time": "2021-08-16T21:45:51.514Z"
   },
   {
    "duration": 19,
    "start_time": "2021-08-16T21:45:51.549Z"
   },
   {
    "duration": 37,
    "start_time": "2021-08-16T21:45:51.571Z"
   },
   {
    "duration": 17,
    "start_time": "2021-08-16T21:45:51.611Z"
   },
   {
    "duration": 22,
    "start_time": "2021-08-16T21:45:51.631Z"
   },
   {
    "duration": 47,
    "start_time": "2021-08-16T21:45:51.655Z"
   },
   {
    "duration": 38,
    "start_time": "2021-08-16T21:45:51.704Z"
   },
   {
    "duration": 16,
    "start_time": "2021-08-16T21:45:51.745Z"
   },
   {
    "duration": 39,
    "start_time": "2021-08-16T21:45:51.764Z"
   },
   {
    "duration": 5,
    "start_time": "2021-08-16T21:45:51.806Z"
   },
   {
    "duration": 134,
    "start_time": "2021-08-16T21:45:51.814Z"
   },
   {
    "duration": 223,
    "start_time": "2021-08-16T21:45:51.727Z"
   },
   {
    "duration": 221,
    "start_time": "2021-08-16T21:45:51.731Z"
   },
   {
    "duration": 216,
    "start_time": "2021-08-16T21:45:51.737Z"
   },
   {
    "duration": 196,
    "start_time": "2021-08-16T21:45:51.759Z"
   },
   {
    "duration": 194,
    "start_time": "2021-08-16T21:45:51.763Z"
   },
   {
    "duration": 192,
    "start_time": "2021-08-16T21:45:51.766Z"
   },
   {
    "duration": 191,
    "start_time": "2021-08-16T21:45:51.769Z"
   },
   {
    "duration": 4,
    "start_time": "2021-08-16T21:49:11.240Z"
   },
   {
    "duration": 259,
    "start_time": "2021-08-16T21:49:11.247Z"
   },
   {
    "duration": 17,
    "start_time": "2021-08-16T21:49:11.509Z"
   },
   {
    "duration": 44,
    "start_time": "2021-08-16T21:49:11.529Z"
   },
   {
    "duration": 26,
    "start_time": "2021-08-16T21:49:11.577Z"
   },
   {
    "duration": 44,
    "start_time": "2021-08-16T21:49:11.607Z"
   },
   {
    "duration": 7,
    "start_time": "2021-08-16T21:49:11.655Z"
   },
   {
    "duration": 55,
    "start_time": "2021-08-16T21:49:11.665Z"
   },
   {
    "duration": 22,
    "start_time": "2021-08-16T21:49:11.724Z"
   },
   {
    "duration": 50,
    "start_time": "2021-08-16T21:49:11.750Z"
   },
   {
    "duration": 83,
    "start_time": "2021-08-16T21:49:11.803Z"
   },
   {
    "duration": 87,
    "start_time": "2021-08-16T21:49:11.901Z"
   },
   {
    "duration": 76,
    "start_time": "2021-08-16T21:49:12.001Z"
   },
   {
    "duration": 26,
    "start_time": "2021-08-16T21:49:12.079Z"
   },
   {
    "duration": 4,
    "start_time": "2021-08-16T21:49:12.108Z"
   },
   {
    "duration": 48,
    "start_time": "2021-08-16T21:49:12.114Z"
   },
   {
    "duration": 12,
    "start_time": "2021-08-16T21:49:12.165Z"
   },
   {
    "duration": 27,
    "start_time": "2021-08-16T21:49:12.181Z"
   },
   {
    "duration": 52,
    "start_time": "2021-08-16T21:49:12.210Z"
   },
   {
    "duration": 5,
    "start_time": "2021-08-16T21:49:12.264Z"
   },
   {
    "duration": 48,
    "start_time": "2021-08-16T21:49:12.271Z"
   },
   {
    "duration": 19,
    "start_time": "2021-08-16T21:49:12.321Z"
   },
   {
    "duration": 17,
    "start_time": "2021-08-16T21:49:12.343Z"
   },
   {
    "duration": 46,
    "start_time": "2021-08-16T21:49:12.363Z"
   },
   {
    "duration": 20,
    "start_time": "2021-08-16T21:49:12.412Z"
   },
   {
    "duration": 19,
    "start_time": "2021-08-16T21:49:12.434Z"
   },
   {
    "duration": 73,
    "start_time": "2021-08-16T21:49:12.458Z"
   },
   {
    "duration": 16,
    "start_time": "2021-08-16T21:49:12.534Z"
   },
   {
    "duration": 13,
    "start_time": "2021-08-16T21:49:12.552Z"
   },
   {
    "duration": 34,
    "start_time": "2021-08-16T21:49:12.568Z"
   },
   {
    "duration": 126,
    "start_time": "2021-08-16T21:49:12.604Z"
   },
   {
    "duration": 207,
    "start_time": "2021-08-16T21:49:12.526Z"
   },
   {
    "duration": 200,
    "start_time": "2021-08-16T21:49:12.534Z"
   },
   {
    "duration": 199,
    "start_time": "2021-08-16T21:49:12.537Z"
   },
   {
    "duration": 197,
    "start_time": "2021-08-16T21:49:12.540Z"
   },
   {
    "duration": 196,
    "start_time": "2021-08-16T21:49:12.543Z"
   },
   {
    "duration": 194,
    "start_time": "2021-08-16T21:49:12.546Z"
   },
   {
    "duration": 193,
    "start_time": "2021-08-16T21:49:12.548Z"
   },
   {
    "duration": 4,
    "start_time": "2021-08-16T21:51:02.032Z"
   },
   {
    "duration": 214,
    "start_time": "2021-08-16T21:51:02.039Z"
   },
   {
    "duration": 15,
    "start_time": "2021-08-16T21:51:02.256Z"
   },
   {
    "duration": 44,
    "start_time": "2021-08-16T21:51:02.274Z"
   },
   {
    "duration": 13,
    "start_time": "2021-08-16T21:51:02.321Z"
   },
   {
    "duration": 28,
    "start_time": "2021-08-16T21:51:02.337Z"
   },
   {
    "duration": 6,
    "start_time": "2021-08-16T21:51:02.367Z"
   },
   {
    "duration": 50,
    "start_time": "2021-08-16T21:51:02.375Z"
   },
   {
    "duration": 22,
    "start_time": "2021-08-16T21:51:02.430Z"
   },
   {
    "duration": 50,
    "start_time": "2021-08-16T21:51:02.455Z"
   },
   {
    "duration": 99,
    "start_time": "2021-08-16T21:51:02.507Z"
   },
   {
    "duration": 112,
    "start_time": "2021-08-16T21:51:02.609Z"
   },
   {
    "duration": 81,
    "start_time": "2021-08-16T21:51:02.724Z"
   },
   {
    "duration": 11,
    "start_time": "2021-08-16T21:51:02.808Z"
   },
   {
    "duration": 4,
    "start_time": "2021-08-16T21:51:02.821Z"
   },
   {
    "duration": 30,
    "start_time": "2021-08-16T21:51:02.828Z"
   },
   {
    "duration": 21,
    "start_time": "2021-08-16T21:51:02.860Z"
   },
   {
    "duration": 15,
    "start_time": "2021-08-16T21:51:02.900Z"
   },
   {
    "duration": 42,
    "start_time": "2021-08-16T21:51:02.918Z"
   },
   {
    "duration": 6,
    "start_time": "2021-08-16T21:51:02.963Z"
   },
   {
    "duration": 47,
    "start_time": "2021-08-16T21:51:02.971Z"
   },
   {
    "duration": 18,
    "start_time": "2021-08-16T21:51:03.021Z"
   },
   {
    "duration": 21,
    "start_time": "2021-08-16T21:51:03.042Z"
   },
   {
    "duration": 52,
    "start_time": "2021-08-16T21:51:03.066Z"
   },
   {
    "duration": 21,
    "start_time": "2021-08-16T21:51:03.121Z"
   },
   {
    "duration": 19,
    "start_time": "2021-08-16T21:51:03.144Z"
   },
   {
    "duration": 37,
    "start_time": "2021-08-16T21:51:03.201Z"
   },
   {
    "duration": 16,
    "start_time": "2021-08-16T21:51:03.241Z"
   },
   {
    "duration": 42,
    "start_time": "2021-08-16T21:51:03.260Z"
   },
   {
    "duration": 6,
    "start_time": "2021-08-16T21:51:03.304Z"
   },
   {
    "duration": 12,
    "start_time": "2021-08-16T21:51:03.312Z"
   },
   {
    "duration": 11,
    "start_time": "2021-08-16T21:51:03.327Z"
   },
   {
    "duration": 7,
    "start_time": "2021-08-16T21:51:03.340Z"
   },
   {
    "duration": 8,
    "start_time": "2021-08-16T21:51:03.349Z"
   },
   {
    "duration": 11,
    "start_time": "2021-08-16T21:51:03.359Z"
   },
   {
    "duration": 7,
    "start_time": "2021-08-16T21:51:03.373Z"
   },
   {
    "duration": 18,
    "start_time": "2021-08-16T21:51:03.382Z"
   },
   {
    "duration": 7,
    "start_time": "2021-08-16T21:51:03.403Z"
   },
   {
    "duration": 3,
    "start_time": "2021-08-16T21:54:10.515Z"
   },
   {
    "duration": 195,
    "start_time": "2021-08-16T21:54:10.522Z"
   },
   {
    "duration": 15,
    "start_time": "2021-08-16T21:54:10.720Z"
   },
   {
    "duration": 38,
    "start_time": "2021-08-16T21:54:10.738Z"
   },
   {
    "duration": 25,
    "start_time": "2021-08-16T21:54:10.778Z"
   },
   {
    "duration": 25,
    "start_time": "2021-08-16T21:54:10.806Z"
   },
   {
    "duration": 5,
    "start_time": "2021-08-16T21:54:10.834Z"
   },
   {
    "duration": 58,
    "start_time": "2021-08-16T21:54:10.842Z"
   },
   {
    "duration": 22,
    "start_time": "2021-08-16T21:54:10.904Z"
   },
   {
    "duration": 37,
    "start_time": "2021-08-16T21:54:10.930Z"
   },
   {
    "duration": 99,
    "start_time": "2021-08-16T21:54:10.970Z"
   },
   {
    "duration": 108,
    "start_time": "2021-08-16T21:54:11.072Z"
   },
   {
    "duration": 84,
    "start_time": "2021-08-16T21:54:11.183Z"
   },
   {
    "duration": 10,
    "start_time": "2021-08-16T21:54:11.269Z"
   },
   {
    "duration": 21,
    "start_time": "2021-08-16T21:54:11.281Z"
   },
   {
    "duration": 19,
    "start_time": "2021-08-16T21:54:11.305Z"
   },
   {
    "duration": 14,
    "start_time": "2021-08-16T21:54:11.327Z"
   },
   {
    "duration": 15,
    "start_time": "2021-08-16T21:54:11.343Z"
   },
   {
    "duration": 76,
    "start_time": "2021-08-16T21:54:11.360Z"
   },
   {
    "duration": 5,
    "start_time": "2021-08-16T21:54:11.439Z"
   },
   {
    "duration": 27,
    "start_time": "2021-08-16T21:54:11.447Z"
   },
   {
    "duration": 41,
    "start_time": "2021-08-16T21:54:11.477Z"
   },
   {
    "duration": 25,
    "start_time": "2021-08-16T21:54:11.521Z"
   },
   {
    "duration": 52,
    "start_time": "2021-08-16T21:54:11.548Z"
   },
   {
    "duration": 23,
    "start_time": "2021-08-16T21:54:11.604Z"
   },
   {
    "duration": 17,
    "start_time": "2021-08-16T21:54:11.629Z"
   },
   {
    "duration": 65,
    "start_time": "2021-08-16T21:54:11.650Z"
   },
   {
    "duration": 17,
    "start_time": "2021-08-16T21:54:11.717Z"
   },
   {
    "duration": 14,
    "start_time": "2021-08-16T21:54:11.736Z"
   },
   {
    "duration": 5,
    "start_time": "2021-08-16T21:54:11.752Z"
   },
   {
    "duration": 9,
    "start_time": "2021-08-16T21:54:11.760Z"
   },
   {
    "duration": 30,
    "start_time": "2021-08-16T21:54:11.772Z"
   },
   {
    "duration": 5,
    "start_time": "2021-08-16T21:54:11.805Z"
   },
   {
    "duration": 6,
    "start_time": "2021-08-16T21:54:11.813Z"
   },
   {
    "duration": 7,
    "start_time": "2021-08-16T21:54:11.821Z"
   },
   {
    "duration": 5,
    "start_time": "2021-08-16T21:54:11.831Z"
   },
   {
    "duration": 8,
    "start_time": "2021-08-16T21:54:11.838Z"
   },
   {
    "duration": 6,
    "start_time": "2021-08-16T21:54:11.848Z"
   },
   {
    "duration": 5,
    "start_time": "2021-08-16T21:54:27.322Z"
   },
   {
    "duration": 214,
    "start_time": "2021-08-16T21:54:27.330Z"
   },
   {
    "duration": 15,
    "start_time": "2021-08-16T21:54:27.547Z"
   },
   {
    "duration": 48,
    "start_time": "2021-08-16T21:54:27.565Z"
   },
   {
    "duration": 5,
    "start_time": "2021-08-16T21:54:27.616Z"
   },
   {
    "duration": 16,
    "start_time": "2021-08-16T21:54:27.623Z"
   },
   {
    "duration": 6,
    "start_time": "2021-08-16T21:54:27.641Z"
   },
   {
    "duration": 67,
    "start_time": "2021-08-16T21:54:27.649Z"
   },
   {
    "duration": 21,
    "start_time": "2021-08-16T21:54:27.721Z"
   },
   {
    "duration": 57,
    "start_time": "2021-08-16T21:54:27.746Z"
   },
   {
    "duration": 76,
    "start_time": "2021-08-16T21:54:27.806Z"
   },
   {
    "duration": 100,
    "start_time": "2021-08-16T21:54:27.884Z"
   },
   {
    "duration": 88,
    "start_time": "2021-08-16T21:54:27.986Z"
   },
   {
    "duration": 25,
    "start_time": "2021-08-16T21:54:28.077Z"
   },
   {
    "duration": 5,
    "start_time": "2021-08-16T21:54:28.105Z"
   },
   {
    "duration": 17,
    "start_time": "2021-08-16T21:54:28.113Z"
   },
   {
    "duration": 10,
    "start_time": "2021-08-16T21:54:28.132Z"
   },
   {
    "duration": 57,
    "start_time": "2021-08-16T21:54:28.145Z"
   },
   {
    "duration": 43,
    "start_time": "2021-08-16T21:54:28.204Z"
   },
   {
    "duration": 5,
    "start_time": "2021-08-16T21:54:28.249Z"
   },
   {
    "duration": 47,
    "start_time": "2021-08-16T21:54:28.257Z"
   },
   {
    "duration": 18,
    "start_time": "2021-08-16T21:54:28.307Z"
   },
   {
    "duration": 19,
    "start_time": "2021-08-16T21:54:28.328Z"
   },
   {
    "duration": 16,
    "start_time": "2021-08-16T21:54:28.350Z"
   },
   {
    "duration": 24,
    "start_time": "2021-08-16T21:54:28.399Z"
   },
   {
    "duration": 18,
    "start_time": "2021-08-16T21:54:28.425Z"
   },
   {
    "duration": 66,
    "start_time": "2021-08-16T21:54:28.449Z"
   },
   {
    "duration": 17,
    "start_time": "2021-08-16T21:54:28.517Z"
   },
   {
    "duration": 13,
    "start_time": "2021-08-16T21:54:28.537Z"
   },
   {
    "duration": 5,
    "start_time": "2021-08-16T21:54:28.553Z"
   },
   {
    "duration": 6,
    "start_time": "2021-08-16T21:54:28.560Z"
   },
   {
    "duration": 3,
    "start_time": "2021-08-16T21:54:28.601Z"
   },
   {
    "duration": 6,
    "start_time": "2021-08-16T21:54:28.607Z"
   },
   {
    "duration": 7,
    "start_time": "2021-08-16T21:54:28.616Z"
   },
   {
    "duration": 6,
    "start_time": "2021-08-16T21:54:28.625Z"
   },
   {
    "duration": 7,
    "start_time": "2021-08-16T21:54:28.633Z"
   },
   {
    "duration": 7,
    "start_time": "2021-08-16T21:54:28.642Z"
   },
   {
    "duration": 7,
    "start_time": "2021-08-16T21:54:28.651Z"
   },
   {
    "duration": 4,
    "start_time": "2021-08-16T21:54:54.640Z"
   },
   {
    "duration": 206,
    "start_time": "2021-08-16T21:54:54.646Z"
   },
   {
    "duration": 15,
    "start_time": "2021-08-16T21:54:54.855Z"
   },
   {
    "duration": 48,
    "start_time": "2021-08-16T21:54:54.873Z"
   },
   {
    "duration": 6,
    "start_time": "2021-08-16T21:54:54.924Z"
   },
   {
    "duration": 19,
    "start_time": "2021-08-16T21:54:54.932Z"
   },
   {
    "duration": 6,
    "start_time": "2021-08-16T21:54:54.954Z"
   },
   {
    "duration": 64,
    "start_time": "2021-08-16T21:54:54.962Z"
   },
   {
    "duration": 21,
    "start_time": "2021-08-16T21:54:55.030Z"
   },
   {
    "duration": 51,
    "start_time": "2021-08-16T21:54:55.055Z"
   },
   {
    "duration": 93,
    "start_time": "2021-08-16T21:54:55.109Z"
   },
   {
    "duration": 100,
    "start_time": "2021-08-16T21:54:55.205Z"
   },
   {
    "duration": 76,
    "start_time": "2021-08-16T21:54:55.307Z"
   },
   {
    "duration": 22,
    "start_time": "2021-08-16T21:54:55.385Z"
   },
   {
    "duration": 5,
    "start_time": "2021-08-16T21:54:55.409Z"
   },
   {
    "duration": 16,
    "start_time": "2021-08-16T21:54:55.416Z"
   },
   {
    "duration": 13,
    "start_time": "2021-08-16T21:54:55.435Z"
   },
   {
    "duration": 55,
    "start_time": "2021-08-16T21:54:55.451Z"
   },
   {
    "duration": 42,
    "start_time": "2021-08-16T21:54:55.509Z"
   },
   {
    "duration": 5,
    "start_time": "2021-08-16T21:54:55.554Z"
   },
   {
    "duration": 49,
    "start_time": "2021-08-16T21:54:55.561Z"
   },
   {
    "duration": 18,
    "start_time": "2021-08-16T21:54:55.613Z"
   },
   {
    "duration": 18,
    "start_time": "2021-08-16T21:54:55.634Z"
   },
   {
    "duration": 17,
    "start_time": "2021-08-16T21:54:55.655Z"
   },
   {
    "duration": 20,
    "start_time": "2021-08-16T21:54:55.701Z"
   },
   {
    "duration": 17,
    "start_time": "2021-08-16T21:54:55.724Z"
   },
   {
    "duration": 73,
    "start_time": "2021-08-16T21:54:55.746Z"
   },
   {
    "duration": 17,
    "start_time": "2021-08-16T21:54:55.822Z"
   },
   {
    "duration": 14,
    "start_time": "2021-08-16T21:54:55.841Z"
   },
   {
    "duration": 5,
    "start_time": "2021-08-16T21:54:55.857Z"
   },
   {
    "duration": 10,
    "start_time": "2021-08-16T21:54:55.864Z"
   },
   {
    "duration": 4,
    "start_time": "2021-08-16T21:54:55.901Z"
   },
   {
    "duration": 6,
    "start_time": "2021-08-16T21:54:55.908Z"
   },
   {
    "duration": 6,
    "start_time": "2021-08-16T21:54:55.917Z"
   },
   {
    "duration": 6,
    "start_time": "2021-08-16T21:54:55.926Z"
   },
   {
    "duration": 6,
    "start_time": "2021-08-16T21:54:55.934Z"
   },
   {
    "duration": 8,
    "start_time": "2021-08-16T21:54:55.942Z"
   },
   {
    "duration": 8,
    "start_time": "2021-08-16T21:54:55.953Z"
   },
   {
    "duration": 4,
    "start_time": "2021-08-16T21:59:43.511Z"
   },
   {
    "duration": 194,
    "start_time": "2021-08-16T21:59:43.518Z"
   },
   {
    "duration": 15,
    "start_time": "2021-08-16T21:59:43.715Z"
   },
   {
    "duration": 33,
    "start_time": "2021-08-16T21:59:43.732Z"
   },
   {
    "duration": 6,
    "start_time": "2021-08-16T21:59:43.767Z"
   },
   {
    "duration": 39,
    "start_time": "2021-08-16T21:59:43.775Z"
   },
   {
    "duration": 5,
    "start_time": "2021-08-16T21:59:43.816Z"
   },
   {
    "duration": 31,
    "start_time": "2021-08-16T21:59:43.824Z"
   },
   {
    "duration": 56,
    "start_time": "2021-08-16T21:59:43.859Z"
   },
   {
    "duration": 27,
    "start_time": "2021-08-16T21:59:43.918Z"
   },
   {
    "duration": 101,
    "start_time": "2021-08-16T21:59:43.948Z"
   },
   {
    "duration": 94,
    "start_time": "2021-08-16T21:59:44.051Z"
   },
   {
    "duration": 84,
    "start_time": "2021-08-16T21:59:44.148Z"
   },
   {
    "duration": 10,
    "start_time": "2021-08-16T21:59:44.234Z"
   },
   {
    "duration": 5,
    "start_time": "2021-08-16T21:59:44.246Z"
   },
   {
    "duration": 15,
    "start_time": "2021-08-16T21:59:44.253Z"
   },
   {
    "duration": 37,
    "start_time": "2021-08-16T21:59:44.270Z"
   },
   {
    "duration": 15,
    "start_time": "2021-08-16T21:59:44.310Z"
   },
   {
    "duration": 41,
    "start_time": "2021-08-16T21:59:44.327Z"
   },
   {
    "duration": 5,
    "start_time": "2021-08-16T21:59:44.401Z"
   },
   {
    "duration": 33,
    "start_time": "2021-08-16T21:59:44.408Z"
   },
   {
    "duration": 17,
    "start_time": "2021-08-16T21:59:44.443Z"
   },
   {
    "duration": 43,
    "start_time": "2021-08-16T21:59:44.463Z"
   },
   {
    "duration": 18,
    "start_time": "2021-08-16T21:59:44.508Z"
   },
   {
    "duration": 30,
    "start_time": "2021-08-16T21:59:44.528Z"
   },
   {
    "duration": 40,
    "start_time": "2021-08-16T21:59:44.560Z"
   },
   {
    "duration": 39,
    "start_time": "2021-08-16T21:59:44.605Z"
   },
   {
    "duration": 17,
    "start_time": "2021-08-16T21:59:44.646Z"
   },
   {
    "duration": 44,
    "start_time": "2021-08-16T21:59:44.665Z"
   },
   {
    "duration": 130,
    "start_time": "2021-08-16T21:59:44.712Z"
   },
   {
    "duration": 42,
    "start_time": "2021-08-16T21:59:44.802Z"
   },
   {
    "duration": 27,
    "start_time": "2021-08-16T21:59:44.818Z"
   },
   {
    "duration": 26,
    "start_time": "2021-08-16T21:59:44.821Z"
   },
   {
    "duration": 24,
    "start_time": "2021-08-16T21:59:44.824Z"
   },
   {
    "duration": 24,
    "start_time": "2021-08-16T21:59:44.826Z"
   },
   {
    "duration": 21,
    "start_time": "2021-08-16T21:59:44.830Z"
   },
   {
    "duration": 20,
    "start_time": "2021-08-16T21:59:44.832Z"
   },
   {
    "duration": 19,
    "start_time": "2021-08-16T21:59:44.834Z"
   },
   {
    "duration": 4,
    "start_time": "2021-08-16T22:00:54.785Z"
   },
   {
    "duration": 213,
    "start_time": "2021-08-16T22:00:54.792Z"
   },
   {
    "duration": 16,
    "start_time": "2021-08-16T22:00:55.008Z"
   },
   {
    "duration": 34,
    "start_time": "2021-08-16T22:00:55.027Z"
   },
   {
    "duration": 6,
    "start_time": "2021-08-16T22:00:55.063Z"
   },
   {
    "duration": 18,
    "start_time": "2021-08-16T22:00:55.101Z"
   },
   {
    "duration": 5,
    "start_time": "2021-08-16T22:00:55.121Z"
   },
   {
    "duration": 32,
    "start_time": "2021-08-16T22:00:55.129Z"
   },
   {
    "duration": 50,
    "start_time": "2021-08-16T22:00:55.165Z"
   },
   {
    "duration": 30,
    "start_time": "2021-08-16T22:00:55.218Z"
   },
   {
    "duration": 106,
    "start_time": "2021-08-16T22:00:55.251Z"
   },
   {
    "duration": 97,
    "start_time": "2021-08-16T22:00:55.359Z"
   },
   {
    "duration": 83,
    "start_time": "2021-08-16T22:00:55.458Z"
   },
   {
    "duration": 9,
    "start_time": "2021-08-16T22:00:55.543Z"
   },
   {
    "duration": 5,
    "start_time": "2021-08-16T22:00:55.554Z"
   },
   {
    "duration": 39,
    "start_time": "2021-08-16T22:00:55.561Z"
   },
   {
    "duration": 12,
    "start_time": "2021-08-16T22:00:55.603Z"
   },
   {
    "duration": 16,
    "start_time": "2021-08-16T22:00:55.618Z"
   },
   {
    "duration": 69,
    "start_time": "2021-08-16T22:00:55.637Z"
   },
   {
    "duration": 4,
    "start_time": "2021-08-16T22:00:55.709Z"
   },
   {
    "duration": 32,
    "start_time": "2021-08-16T22:00:55.716Z"
   },
   {
    "duration": 17,
    "start_time": "2021-08-16T22:00:55.750Z"
   },
   {
    "duration": 44,
    "start_time": "2021-08-16T22:00:55.770Z"
   },
   {
    "duration": 17,
    "start_time": "2021-08-16T22:00:55.817Z"
   },
   {
    "duration": 20,
    "start_time": "2021-08-16T22:00:55.836Z"
   },
   {
    "duration": 43,
    "start_time": "2021-08-16T22:00:55.859Z"
   },
   {
    "duration": 36,
    "start_time": "2021-08-16T22:00:55.908Z"
   },
   {
    "duration": 18,
    "start_time": "2021-08-16T22:00:55.946Z"
   },
   {
    "duration": 45,
    "start_time": "2021-08-16T22:00:55.966Z"
   },
   {
    "duration": 6,
    "start_time": "2021-08-16T22:00:56.014Z"
   },
   {
    "duration": 9,
    "start_time": "2021-08-16T22:00:56.023Z"
   },
   {
    "duration": 8,
    "start_time": "2021-08-16T22:00:56.035Z"
   },
   {
    "duration": 5,
    "start_time": "2021-08-16T22:00:56.046Z"
   },
   {
    "duration": 6,
    "start_time": "2021-08-16T22:00:56.054Z"
   },
   {
    "duration": 41,
    "start_time": "2021-08-16T22:00:56.062Z"
   },
   {
    "duration": 6,
    "start_time": "2021-08-16T22:00:56.106Z"
   },
   {
    "duration": 6,
    "start_time": "2021-08-16T22:00:56.115Z"
   },
   {
    "duration": 5,
    "start_time": "2021-08-16T22:00:56.124Z"
   },
   {
    "duration": 3,
    "start_time": "2021-08-16T22:04:08.661Z"
   },
   {
    "duration": 200,
    "start_time": "2021-08-16T22:04:08.667Z"
   },
   {
    "duration": 15,
    "start_time": "2021-08-16T22:04:08.870Z"
   },
   {
    "duration": 32,
    "start_time": "2021-08-16T22:04:08.900Z"
   },
   {
    "duration": 6,
    "start_time": "2021-08-16T22:04:08.934Z"
   },
   {
    "duration": 30,
    "start_time": "2021-08-16T22:04:08.943Z"
   },
   {
    "duration": 28,
    "start_time": "2021-08-16T22:04:08.975Z"
   },
   {
    "duration": 39,
    "start_time": "2021-08-16T22:04:09.005Z"
   },
   {
    "duration": 22,
    "start_time": "2021-08-16T22:04:09.049Z"
   },
   {
    "duration": 48,
    "start_time": "2021-08-16T22:04:09.074Z"
   },
   {
    "duration": 98,
    "start_time": "2021-08-16T22:04:09.125Z"
   },
   {
    "duration": 103,
    "start_time": "2021-08-16T22:04:09.225Z"
   },
   {
    "duration": 84,
    "start_time": "2021-08-16T22:04:09.330Z"
   },
   {
    "duration": 9,
    "start_time": "2021-08-16T22:04:09.417Z"
   },
   {
    "duration": 5,
    "start_time": "2021-08-16T22:04:09.430Z"
   },
   {
    "duration": 15,
    "start_time": "2021-08-16T22:04:09.438Z"
   },
   {
    "duration": 47,
    "start_time": "2021-08-16T22:04:09.456Z"
   },
   {
    "duration": 17,
    "start_time": "2021-08-16T22:04:09.506Z"
   },
   {
    "duration": 80,
    "start_time": "2021-08-16T22:04:09.526Z"
   },
   {
    "duration": 5,
    "start_time": "2021-08-16T22:04:09.610Z"
   },
   {
    "duration": 29,
    "start_time": "2021-08-16T22:04:09.619Z"
   },
   {
    "duration": 19,
    "start_time": "2021-08-16T22:04:09.652Z"
   },
   {
    "duration": 43,
    "start_time": "2021-08-16T22:04:09.673Z"
   },
   {
    "duration": 18,
    "start_time": "2021-08-16T22:04:09.719Z"
   },
   {
    "duration": 22,
    "start_time": "2021-08-16T22:04:09.739Z"
   },
   {
    "duration": 18,
    "start_time": "2021-08-16T22:04:09.800Z"
   },
   {
    "duration": 36,
    "start_time": "2021-08-16T22:04:09.823Z"
   },
   {
    "duration": 41,
    "start_time": "2021-08-16T22:04:09.862Z"
   },
   {
    "duration": 13,
    "start_time": "2021-08-16T22:04:09.905Z"
   },
   {
    "duration": 5,
    "start_time": "2021-08-16T22:04:09.921Z"
   },
   {
    "duration": 9,
    "start_time": "2021-08-16T22:04:09.929Z"
   },
   {
    "duration": 12,
    "start_time": "2021-08-16T22:04:09.940Z"
   },
   {
    "duration": 12,
    "start_time": "2021-08-16T22:04:09.954Z"
   },
   {
    "duration": 7,
    "start_time": "2021-08-16T22:04:09.969Z"
   },
   {
    "duration": 24,
    "start_time": "2021-08-16T22:04:09.978Z"
   },
   {
    "duration": 12,
    "start_time": "2021-08-16T22:04:10.004Z"
   },
   {
    "duration": 11,
    "start_time": "2021-08-16T22:04:10.018Z"
   },
   {
    "duration": 10,
    "start_time": "2021-08-16T22:04:10.031Z"
   },
   {
    "duration": 3,
    "start_time": "2021-08-16T22:04:49.493Z"
   },
   {
    "duration": 201,
    "start_time": "2021-08-16T22:04:49.499Z"
   },
   {
    "duration": 16,
    "start_time": "2021-08-16T22:04:49.704Z"
   },
   {
    "duration": 39,
    "start_time": "2021-08-16T22:04:49.723Z"
   },
   {
    "duration": 12,
    "start_time": "2021-08-16T22:04:49.766Z"
   },
   {
    "duration": 18,
    "start_time": "2021-08-16T22:04:49.800Z"
   },
   {
    "duration": 6,
    "start_time": "2021-08-16T22:04:49.821Z"
   },
   {
    "duration": 42,
    "start_time": "2021-08-16T22:04:49.830Z"
   },
   {
    "duration": 20,
    "start_time": "2021-08-16T22:04:49.901Z"
   },
   {
    "duration": 35,
    "start_time": "2021-08-16T22:04:49.925Z"
   },
   {
    "duration": 97,
    "start_time": "2021-08-16T22:04:49.962Z"
   },
   {
    "duration": 100,
    "start_time": "2021-08-16T22:04:50.061Z"
   },
   {
    "duration": 82,
    "start_time": "2021-08-16T22:04:50.163Z"
   },
   {
    "duration": 9,
    "start_time": "2021-08-16T22:04:50.248Z"
   },
   {
    "duration": 10,
    "start_time": "2021-08-16T22:04:50.259Z"
   },
   {
    "duration": 35,
    "start_time": "2021-08-16T22:04:50.271Z"
   },
   {
    "duration": 9,
    "start_time": "2021-08-16T22:04:50.308Z"
   },
   {
    "duration": 22,
    "start_time": "2021-08-16T22:04:50.320Z"
   },
   {
    "duration": 66,
    "start_time": "2021-08-16T22:04:50.344Z"
   },
   {
    "duration": 5,
    "start_time": "2021-08-16T22:04:50.412Z"
   },
   {
    "duration": 38,
    "start_time": "2021-08-16T22:04:50.419Z"
   },
   {
    "duration": 17,
    "start_time": "2021-08-16T22:04:50.459Z"
   },
   {
    "duration": 32,
    "start_time": "2021-08-16T22:04:50.479Z"
   },
   {
    "duration": 21,
    "start_time": "2021-08-16T22:04:50.514Z"
   },
   {
    "duration": 35,
    "start_time": "2021-08-16T22:04:50.537Z"
   },
   {
    "duration": 28,
    "start_time": "2021-08-16T22:04:50.575Z"
   },
   {
    "duration": 42,
    "start_time": "2021-08-16T22:04:50.610Z"
   },
   {
    "duration": 17,
    "start_time": "2021-08-16T22:04:50.656Z"
   },
   {
    "duration": 14,
    "start_time": "2021-08-16T22:04:50.701Z"
   },
   {
    "duration": 10,
    "start_time": "2021-08-16T22:04:50.718Z"
   },
   {
    "duration": 28,
    "start_time": "2021-08-16T22:04:50.730Z"
   },
   {
    "duration": 30,
    "start_time": "2021-08-16T22:04:50.760Z"
   },
   {
    "duration": 21,
    "start_time": "2021-08-16T22:04:50.792Z"
   },
   {
    "duration": 7,
    "start_time": "2021-08-16T22:04:50.816Z"
   },
   {
    "duration": 18,
    "start_time": "2021-08-16T22:04:50.825Z"
   },
   {
    "duration": 13,
    "start_time": "2021-08-16T22:04:50.846Z"
   },
   {
    "duration": 6,
    "start_time": "2021-08-16T22:04:50.861Z"
   },
   {
    "duration": 10,
    "start_time": "2021-08-16T22:04:50.869Z"
   },
   {
    "duration": 4,
    "start_time": "2021-08-16T22:05:13.768Z"
   },
   {
    "duration": 203,
    "start_time": "2021-08-16T22:05:13.774Z"
   },
   {
    "duration": 21,
    "start_time": "2021-08-16T22:05:13.980Z"
   },
   {
    "duration": 31,
    "start_time": "2021-08-16T22:05:14.004Z"
   },
   {
    "duration": 5,
    "start_time": "2021-08-16T22:05:14.038Z"
   },
   {
    "duration": 57,
    "start_time": "2021-08-16T22:05:14.045Z"
   },
   {
    "duration": 6,
    "start_time": "2021-08-16T22:05:14.104Z"
   },
   {
    "duration": 34,
    "start_time": "2021-08-16T22:05:14.113Z"
   },
   {
    "duration": 48,
    "start_time": "2021-08-16T22:05:14.152Z"
   },
   {
    "duration": 31,
    "start_time": "2021-08-16T22:05:14.203Z"
   },
   {
    "duration": 93,
    "start_time": "2021-08-16T22:05:14.237Z"
   },
   {
    "duration": 102,
    "start_time": "2021-08-16T22:05:14.332Z"
   },
   {
    "duration": 80,
    "start_time": "2021-08-16T22:05:14.436Z"
   },
   {
    "duration": 10,
    "start_time": "2021-08-16T22:05:14.518Z"
   },
   {
    "duration": 4,
    "start_time": "2021-08-16T22:05:14.530Z"
   },
   {
    "duration": 16,
    "start_time": "2021-08-16T22:05:14.537Z"
   },
   {
    "duration": 46,
    "start_time": "2021-08-16T22:05:14.556Z"
   },
   {
    "duration": 19,
    "start_time": "2021-08-16T22:05:14.605Z"
   },
   {
    "duration": 77,
    "start_time": "2021-08-16T22:05:14.626Z"
   },
   {
    "duration": 6,
    "start_time": "2021-08-16T22:05:14.706Z"
   },
   {
    "duration": 29,
    "start_time": "2021-08-16T22:05:14.715Z"
   },
   {
    "duration": 20,
    "start_time": "2021-08-16T22:05:14.747Z"
   },
   {
    "duration": 22,
    "start_time": "2021-08-16T22:05:14.801Z"
   },
   {
    "duration": 20,
    "start_time": "2021-08-16T22:05:14.826Z"
   },
   {
    "duration": 57,
    "start_time": "2021-08-16T22:05:14.849Z"
   },
   {
    "duration": 21,
    "start_time": "2021-08-16T22:05:14.910Z"
   },
   {
    "duration": 74,
    "start_time": "2021-08-16T22:05:14.938Z"
   },
   {
    "duration": 20,
    "start_time": "2021-08-16T22:05:15.016Z"
   },
   {
    "duration": 16,
    "start_time": "2021-08-16T22:05:15.039Z"
   },
   {
    "duration": 43,
    "start_time": "2021-08-16T22:05:15.058Z"
   },
   {
    "duration": 6,
    "start_time": "2021-08-16T22:05:15.103Z"
   },
   {
    "duration": 18,
    "start_time": "2021-08-16T22:05:15.112Z"
   },
   {
    "duration": 11,
    "start_time": "2021-08-16T22:05:15.133Z"
   },
   {
    "duration": 11,
    "start_time": "2021-08-16T22:05:15.147Z"
   },
   {
    "duration": 8,
    "start_time": "2021-08-16T22:05:15.161Z"
   },
   {
    "duration": 6,
    "start_time": "2021-08-16T22:05:15.171Z"
   },
   {
    "duration": 22,
    "start_time": "2021-08-16T22:05:15.180Z"
   },
   {
    "duration": 9,
    "start_time": "2021-08-16T22:05:15.205Z"
   },
   {
    "duration": 3,
    "start_time": "2021-08-16T22:06:08.877Z"
   },
   {
    "duration": 199,
    "start_time": "2021-08-16T22:06:08.883Z"
   },
   {
    "duration": 24,
    "start_time": "2021-08-16T22:06:09.086Z"
   },
   {
    "duration": 45,
    "start_time": "2021-08-16T22:06:09.113Z"
   },
   {
    "duration": 18,
    "start_time": "2021-08-16T22:06:09.161Z"
   },
   {
    "duration": 34,
    "start_time": "2021-08-16T22:06:09.181Z"
   },
   {
    "duration": 12,
    "start_time": "2021-08-16T22:06:09.217Z"
   },
   {
    "duration": 39,
    "start_time": "2021-08-16T22:06:09.231Z"
   },
   {
    "duration": 33,
    "start_time": "2021-08-16T22:06:09.275Z"
   },
   {
    "duration": 29,
    "start_time": "2021-08-16T22:06:09.311Z"
   },
   {
    "duration": 103,
    "start_time": "2021-08-16T22:06:09.342Z"
   },
   {
    "duration": 98,
    "start_time": "2021-08-16T22:06:09.447Z"
   },
   {
    "duration": 86,
    "start_time": "2021-08-16T22:06:09.547Z"
   },
   {
    "duration": 9,
    "start_time": "2021-08-16T22:06:09.635Z"
   },
   {
    "duration": 11,
    "start_time": "2021-08-16T22:06:09.647Z"
   },
   {
    "duration": 30,
    "start_time": "2021-08-16T22:06:09.660Z"
   },
   {
    "duration": 19,
    "start_time": "2021-08-16T22:06:09.692Z"
   },
   {
    "duration": 18,
    "start_time": "2021-08-16T22:06:09.714Z"
   },
   {
    "duration": 49,
    "start_time": "2021-08-16T22:06:09.735Z"
   },
   {
    "duration": 18,
    "start_time": "2021-08-16T22:06:09.786Z"
   },
   {
    "duration": 39,
    "start_time": "2021-08-16T22:06:09.807Z"
   },
   {
    "duration": 20,
    "start_time": "2021-08-16T22:06:09.849Z"
   },
   {
    "duration": 39,
    "start_time": "2021-08-16T22:06:09.872Z"
   },
   {
    "duration": 22,
    "start_time": "2021-08-16T22:06:09.914Z"
   },
   {
    "duration": 20,
    "start_time": "2021-08-16T22:06:09.939Z"
   },
   {
    "duration": 47,
    "start_time": "2021-08-16T22:06:09.961Z"
   },
   {
    "duration": 38,
    "start_time": "2021-08-16T22:06:10.013Z"
   },
   {
    "duration": 16,
    "start_time": "2021-08-16T22:06:10.054Z"
   },
   {
    "duration": 37,
    "start_time": "2021-08-16T22:06:10.072Z"
   },
   {
    "duration": 12,
    "start_time": "2021-08-16T22:06:10.112Z"
   },
   {
    "duration": 22,
    "start_time": "2021-08-16T22:06:10.126Z"
   },
   {
    "duration": 19,
    "start_time": "2021-08-16T22:06:10.150Z"
   },
   {
    "duration": 17,
    "start_time": "2021-08-16T22:06:10.171Z"
   },
   {
    "duration": 14,
    "start_time": "2021-08-16T22:06:10.191Z"
   },
   {
    "duration": 29,
    "start_time": "2021-08-16T22:06:10.208Z"
   },
   {
    "duration": 17,
    "start_time": "2021-08-16T22:06:10.240Z"
   },
   {
    "duration": 19,
    "start_time": "2021-08-16T22:06:10.259Z"
   },
   {
    "duration": 10,
    "start_time": "2021-08-16T22:06:10.280Z"
   },
   {
    "duration": 3,
    "start_time": "2021-08-16T22:07:49.945Z"
   },
   {
    "duration": 209,
    "start_time": "2021-08-16T22:07:49.951Z"
   },
   {
    "duration": 17,
    "start_time": "2021-08-16T22:07:50.163Z"
   },
   {
    "duration": 50,
    "start_time": "2021-08-16T22:07:50.184Z"
   },
   {
    "duration": 9,
    "start_time": "2021-08-16T22:07:50.237Z"
   },
   {
    "duration": 51,
    "start_time": "2021-08-16T22:07:50.249Z"
   },
   {
    "duration": 7,
    "start_time": "2021-08-16T22:07:50.303Z"
   },
   {
    "duration": 41,
    "start_time": "2021-08-16T22:07:50.313Z"
   },
   {
    "duration": 51,
    "start_time": "2021-08-16T22:07:50.359Z"
   },
   {
    "duration": 29,
    "start_time": "2021-08-16T22:07:50.413Z"
   },
   {
    "duration": 106,
    "start_time": "2021-08-16T22:07:50.445Z"
   },
   {
    "duration": 103,
    "start_time": "2021-08-16T22:07:50.554Z"
   },
   {
    "duration": 98,
    "start_time": "2021-08-16T22:07:50.660Z"
   },
   {
    "duration": 10,
    "start_time": "2021-08-16T22:07:50.760Z"
   },
   {
    "duration": 28,
    "start_time": "2021-08-16T22:07:50.772Z"
   },
   {
    "duration": 14,
    "start_time": "2021-08-16T22:07:50.803Z"
   },
   {
    "duration": 12,
    "start_time": "2021-08-16T22:07:50.820Z"
   },
   {
    "duration": 26,
    "start_time": "2021-08-16T22:07:50.834Z"
   },
   {
    "duration": 73,
    "start_time": "2021-08-16T22:07:50.863Z"
   },
   {
    "duration": 5,
    "start_time": "2021-08-16T22:07:50.940Z"
   },
   {
    "duration": 83,
    "start_time": "2021-08-16T22:07:50.949Z"
   },
   {
    "duration": 52,
    "start_time": "2021-08-16T22:07:51.035Z"
   },
   {
    "duration": 74,
    "start_time": "2021-08-16T22:07:51.090Z"
   },
   {
    "duration": 53,
    "start_time": "2021-08-16T22:07:51.167Z"
   },
   {
    "duration": 44,
    "start_time": "2021-08-16T22:07:51.223Z"
   },
   {
    "duration": 32,
    "start_time": "2021-08-16T22:07:51.270Z"
   },
   {
    "duration": 60,
    "start_time": "2021-08-16T22:07:51.308Z"
   },
   {
    "duration": 22,
    "start_time": "2021-08-16T22:07:51.371Z"
   },
   {
    "duration": 33,
    "start_time": "2021-08-16T22:07:51.395Z"
   },
   {
    "duration": 32,
    "start_time": "2021-08-16T22:07:51.431Z"
   },
   {
    "duration": 44,
    "start_time": "2021-08-16T22:07:51.466Z"
   },
   {
    "duration": 40,
    "start_time": "2021-08-16T22:07:51.513Z"
   },
   {
    "duration": 30,
    "start_time": "2021-08-16T22:07:51.556Z"
   },
   {
    "duration": 32,
    "start_time": "2021-08-16T22:07:51.589Z"
   },
   {
    "duration": 25,
    "start_time": "2021-08-16T22:07:51.624Z"
   },
   {
    "duration": 22,
    "start_time": "2021-08-16T22:07:51.652Z"
   },
   {
    "duration": 36,
    "start_time": "2021-08-16T22:07:51.677Z"
   },
   {
    "duration": 15,
    "start_time": "2021-08-16T22:07:51.715Z"
   },
   {
    "duration": 4,
    "start_time": "2021-08-16T22:08:26.824Z"
   },
   {
    "duration": 194,
    "start_time": "2021-08-16T22:08:26.831Z"
   },
   {
    "duration": 16,
    "start_time": "2021-08-16T22:08:27.028Z"
   },
   {
    "duration": 38,
    "start_time": "2021-08-16T22:08:27.047Z"
   },
   {
    "duration": 5,
    "start_time": "2021-08-16T22:08:27.101Z"
   },
   {
    "duration": 32,
    "start_time": "2021-08-16T22:08:27.108Z"
   },
   {
    "duration": 6,
    "start_time": "2021-08-16T22:08:27.143Z"
   },
   {
    "duration": 67,
    "start_time": "2021-08-16T22:08:27.152Z"
   },
   {
    "duration": 29,
    "start_time": "2021-08-16T22:08:27.225Z"
   },
   {
    "duration": 52,
    "start_time": "2021-08-16T22:08:27.257Z"
   },
   {
    "duration": 101,
    "start_time": "2021-08-16T22:08:27.312Z"
   },
   {
    "duration": 108,
    "start_time": "2021-08-16T22:08:27.415Z"
   },
   {
    "duration": 85,
    "start_time": "2021-08-16T22:08:27.525Z"
   },
   {
    "duration": 9,
    "start_time": "2021-08-16T22:08:27.613Z"
   },
   {
    "duration": 6,
    "start_time": "2021-08-16T22:08:27.625Z"
   },
   {
    "duration": 20,
    "start_time": "2021-08-16T22:08:27.633Z"
   },
   {
    "duration": 10,
    "start_time": "2021-08-16T22:08:27.655Z"
   },
   {
    "duration": 14,
    "start_time": "2021-08-16T22:08:27.700Z"
   },
   {
    "duration": 41,
    "start_time": "2021-08-16T22:08:27.716Z"
   },
   {
    "duration": 5,
    "start_time": "2021-08-16T22:08:27.759Z"
   },
   {
    "duration": 49,
    "start_time": "2021-08-16T22:08:27.766Z"
   },
   {
    "duration": 18,
    "start_time": "2021-08-16T22:08:27.817Z"
   },
   {
    "duration": 18,
    "start_time": "2021-08-16T22:08:27.838Z"
   },
   {
    "duration": 50,
    "start_time": "2021-08-16T22:08:27.858Z"
   },
   {
    "duration": 21,
    "start_time": "2021-08-16T22:08:27.911Z"
   },
   {
    "duration": 18,
    "start_time": "2021-08-16T22:08:27.934Z"
   },
   {
    "duration": 77,
    "start_time": "2021-08-16T22:08:27.956Z"
   },
   {
    "duration": 20,
    "start_time": "2021-08-16T22:08:28.035Z"
   },
   {
    "duration": 43,
    "start_time": "2021-08-16T22:08:28.058Z"
   },
   {
    "duration": 6,
    "start_time": "2021-08-16T22:08:28.104Z"
   },
   {
    "duration": 17,
    "start_time": "2021-08-16T22:08:28.113Z"
   },
   {
    "duration": 23,
    "start_time": "2021-08-16T22:08:28.133Z"
   },
   {
    "duration": 10,
    "start_time": "2021-08-16T22:08:28.158Z"
   },
   {
    "duration": 13,
    "start_time": "2021-08-16T22:08:28.170Z"
   },
   {
    "duration": 17,
    "start_time": "2021-08-16T22:08:28.185Z"
   },
   {
    "duration": 8,
    "start_time": "2021-08-16T22:08:28.204Z"
   },
   {
    "duration": 13,
    "start_time": "2021-08-16T22:08:28.214Z"
   },
   {
    "duration": 16,
    "start_time": "2021-08-16T22:08:28.229Z"
   },
   {
    "duration": 4,
    "start_time": "2021-08-16T22:08:47.776Z"
   },
   {
    "duration": 187,
    "start_time": "2021-08-16T22:08:47.783Z"
   },
   {
    "duration": 27,
    "start_time": "2021-08-16T22:08:47.973Z"
   },
   {
    "duration": 31,
    "start_time": "2021-08-16T22:08:48.003Z"
   },
   {
    "duration": 13,
    "start_time": "2021-08-16T22:08:48.037Z"
   },
   {
    "duration": 48,
    "start_time": "2021-08-16T22:08:48.053Z"
   },
   {
    "duration": 5,
    "start_time": "2021-08-16T22:08:48.104Z"
   },
   {
    "duration": 32,
    "start_time": "2021-08-16T22:08:48.112Z"
   },
   {
    "duration": 22,
    "start_time": "2021-08-16T22:08:48.148Z"
   },
   {
    "duration": 31,
    "start_time": "2021-08-16T22:08:48.200Z"
   },
   {
    "duration": 101,
    "start_time": "2021-08-16T22:08:48.234Z"
   },
   {
    "duration": 100,
    "start_time": "2021-08-16T22:08:48.337Z"
   },
   {
    "duration": 81,
    "start_time": "2021-08-16T22:08:48.440Z"
   },
   {
    "duration": 10,
    "start_time": "2021-08-16T22:08:48.523Z"
   },
   {
    "duration": 4,
    "start_time": "2021-08-16T22:08:48.536Z"
   },
   {
    "duration": 20,
    "start_time": "2021-08-16T22:08:48.542Z"
   },
   {
    "duration": 38,
    "start_time": "2021-08-16T22:08:48.565Z"
   },
   {
    "duration": 15,
    "start_time": "2021-08-16T22:08:48.606Z"
   },
   {
    "duration": 45,
    "start_time": "2021-08-16T22:08:48.624Z"
   },
   {
    "duration": 6,
    "start_time": "2021-08-16T22:08:48.701Z"
   },
   {
    "duration": 27,
    "start_time": "2021-08-16T22:08:48.710Z"
   },
   {
    "duration": 19,
    "start_time": "2021-08-16T22:08:48.740Z"
   },
   {
    "duration": 52,
    "start_time": "2021-08-16T22:08:48.762Z"
   },
   {
    "duration": 20,
    "start_time": "2021-08-16T22:08:48.817Z"
   },
   {
    "duration": 23,
    "start_time": "2021-08-16T22:08:48.840Z"
   },
   {
    "duration": 52,
    "start_time": "2021-08-16T22:08:48.866Z"
   },
   {
    "duration": 40,
    "start_time": "2021-08-16T22:08:48.926Z"
   },
   {
    "duration": 48,
    "start_time": "2021-08-16T22:08:48.969Z"
   },
   {
    "duration": 16,
    "start_time": "2021-08-16T22:08:49.020Z"
   },
   {
    "duration": 6,
    "start_time": "2021-08-16T22:08:49.039Z"
   },
   {
    "duration": 13,
    "start_time": "2021-08-16T22:08:49.048Z"
   },
   {
    "duration": 38,
    "start_time": "2021-08-16T22:08:49.064Z"
   },
   {
    "duration": 10,
    "start_time": "2021-08-16T22:08:49.104Z"
   },
   {
    "duration": 8,
    "start_time": "2021-08-16T22:08:49.117Z"
   },
   {
    "duration": 8,
    "start_time": "2021-08-16T22:08:49.127Z"
   },
   {
    "duration": 8,
    "start_time": "2021-08-16T22:08:49.137Z"
   },
   {
    "duration": 7,
    "start_time": "2021-08-16T22:08:49.147Z"
   },
   {
    "duration": 11,
    "start_time": "2021-08-16T22:08:49.156Z"
   },
   {
    "duration": 3,
    "start_time": "2021-08-16T22:14:55.050Z"
   },
   {
    "duration": 212,
    "start_time": "2021-08-16T22:14:55.056Z"
   },
   {
    "duration": 15,
    "start_time": "2021-08-16T22:14:55.271Z"
   },
   {
    "duration": 32,
    "start_time": "2021-08-16T22:14:55.300Z"
   },
   {
    "duration": 11,
    "start_time": "2021-08-16T22:14:55.334Z"
   },
   {
    "duration": 31,
    "start_time": "2021-08-16T22:14:55.348Z"
   },
   {
    "duration": 22,
    "start_time": "2021-08-16T22:14:55.381Z"
   },
   {
    "duration": 32,
    "start_time": "2021-08-16T22:14:55.405Z"
   },
   {
    "duration": 27,
    "start_time": "2021-08-16T22:14:55.441Z"
   },
   {
    "duration": 53,
    "start_time": "2021-08-16T22:14:55.471Z"
   },
   {
    "duration": 95,
    "start_time": "2021-08-16T22:14:55.527Z"
   },
   {
    "duration": 95,
    "start_time": "2021-08-16T22:14:55.625Z"
   },
   {
    "duration": 86,
    "start_time": "2021-08-16T22:14:55.723Z"
   },
   {
    "duration": 11,
    "start_time": "2021-08-16T22:14:55.811Z"
   },
   {
    "duration": 5,
    "start_time": "2021-08-16T22:14:55.825Z"
   },
   {
    "duration": 19,
    "start_time": "2021-08-16T22:14:55.833Z"
   },
   {
    "duration": 45,
    "start_time": "2021-08-16T22:14:55.855Z"
   },
   {
    "duration": 18,
    "start_time": "2021-08-16T22:14:55.903Z"
   },
   {
    "duration": 44,
    "start_time": "2021-08-16T22:14:55.924Z"
   },
   {
    "duration": 34,
    "start_time": "2021-08-16T22:14:55.971Z"
   },
   {
    "duration": 38,
    "start_time": "2021-08-16T22:14:56.008Z"
   },
   {
    "duration": 20,
    "start_time": "2021-08-16T22:14:56.049Z"
   },
   {
    "duration": 45,
    "start_time": "2021-08-16T22:14:56.072Z"
   },
   {
    "duration": 20,
    "start_time": "2021-08-16T22:14:56.120Z"
   },
   {
    "duration": 34,
    "start_time": "2021-08-16T22:14:56.142Z"
   },
   {
    "duration": 33,
    "start_time": "2021-08-16T22:14:56.178Z"
   },
   {
    "duration": 41,
    "start_time": "2021-08-16T22:14:56.216Z"
   },
   {
    "duration": 47,
    "start_time": "2021-08-16T22:14:56.261Z"
   },
   {
    "duration": 17,
    "start_time": "2021-08-16T22:14:56.310Z"
   },
   {
    "duration": 8,
    "start_time": "2021-08-16T22:14:56.330Z"
   },
   {
    "duration": 21,
    "start_time": "2021-08-16T22:14:56.341Z"
   },
   {
    "duration": 14,
    "start_time": "2021-08-16T22:14:56.364Z"
   },
   {
    "duration": 20,
    "start_time": "2021-08-16T22:14:56.381Z"
   },
   {
    "duration": 14,
    "start_time": "2021-08-16T22:14:56.404Z"
   },
   {
    "duration": 14,
    "start_time": "2021-08-16T22:14:56.421Z"
   },
   {
    "duration": 9,
    "start_time": "2021-08-16T22:14:56.438Z"
   },
   {
    "duration": 16,
    "start_time": "2021-08-16T22:14:56.450Z"
   },
   {
    "duration": 20,
    "start_time": "2021-08-16T22:14:56.468Z"
   },
   {
    "duration": 4,
    "start_time": "2021-08-16T22:18:11.903Z"
   },
   {
    "duration": 234,
    "start_time": "2021-08-16T22:18:11.911Z"
   },
   {
    "duration": 25,
    "start_time": "2021-08-16T22:18:12.149Z"
   },
   {
    "duration": 50,
    "start_time": "2021-08-16T22:18:12.177Z"
   },
   {
    "duration": 5,
    "start_time": "2021-08-16T22:18:12.238Z"
   },
   {
    "duration": 33,
    "start_time": "2021-08-16T22:18:12.246Z"
   },
   {
    "duration": 6,
    "start_time": "2021-08-16T22:18:12.302Z"
   },
   {
    "duration": 46,
    "start_time": "2021-08-16T22:18:12.311Z"
   },
   {
    "duration": 51,
    "start_time": "2021-08-16T22:18:12.361Z"
   },
   {
    "duration": 30,
    "start_time": "2021-08-16T22:18:12.415Z"
   },
   {
    "duration": 105,
    "start_time": "2021-08-16T22:18:12.447Z"
   },
   {
    "duration": 96,
    "start_time": "2021-08-16T22:18:12.554Z"
   },
   {
    "duration": 82,
    "start_time": "2021-08-16T22:18:12.652Z"
   },
   {
    "duration": 10,
    "start_time": "2021-08-16T22:18:12.736Z"
   },
   {
    "duration": 4,
    "start_time": "2021-08-16T22:18:12.748Z"
   },
   {
    "duration": 17,
    "start_time": "2021-08-16T22:18:12.754Z"
   },
   {
    "duration": 10,
    "start_time": "2021-08-16T22:18:12.800Z"
   },
   {
    "duration": 15,
    "start_time": "2021-08-16T22:18:12.813Z"
   },
   {
    "duration": 41,
    "start_time": "2021-08-16T22:18:12.831Z"
   },
   {
    "duration": 5,
    "start_time": "2021-08-16T22:18:12.901Z"
   },
   {
    "duration": 29,
    "start_time": "2021-08-16T22:18:12.909Z"
   },
   {
    "duration": 17,
    "start_time": "2021-08-16T22:18:12.941Z"
   },
   {
    "duration": 47,
    "start_time": "2021-08-16T22:18:12.961Z"
   },
   {
    "duration": 18,
    "start_time": "2021-08-16T22:18:13.011Z"
   },
   {
    "duration": 24,
    "start_time": "2021-08-16T22:18:13.032Z"
   },
   {
    "duration": 45,
    "start_time": "2021-08-16T22:18:13.059Z"
   },
   {
    "duration": 36,
    "start_time": "2021-08-16T22:18:13.110Z"
   },
   {
    "duration": 17,
    "start_time": "2021-08-16T22:18:13.149Z"
   },
   {
    "duration": 42,
    "start_time": "2021-08-16T22:18:13.168Z"
   },
   {
    "duration": 6,
    "start_time": "2021-08-16T22:18:13.213Z"
   },
   {
    "duration": 8,
    "start_time": "2021-08-16T22:18:13.221Z"
   },
   {
    "duration": 9,
    "start_time": "2021-08-16T22:18:13.232Z"
   },
   {
    "duration": 7,
    "start_time": "2021-08-16T22:18:13.244Z"
   },
   {
    "duration": 7,
    "start_time": "2021-08-16T22:18:13.253Z"
   },
   {
    "duration": 7,
    "start_time": "2021-08-16T22:18:13.262Z"
   },
   {
    "duration": 32,
    "start_time": "2021-08-16T22:18:13.271Z"
   },
   {
    "duration": 8,
    "start_time": "2021-08-16T22:18:13.305Z"
   },
   {
    "duration": 6,
    "start_time": "2021-08-16T22:18:13.316Z"
   },
   {
    "duration": 4,
    "start_time": "2021-08-16T22:22:30.050Z"
   },
   {
    "duration": 202,
    "start_time": "2021-08-16T22:22:30.057Z"
   },
   {
    "duration": 16,
    "start_time": "2021-08-16T22:22:30.262Z"
   },
   {
    "duration": 59,
    "start_time": "2021-08-16T22:22:30.281Z"
   },
   {
    "duration": 22,
    "start_time": "2021-08-16T22:22:30.343Z"
   },
   {
    "duration": 48,
    "start_time": "2021-08-16T22:22:30.368Z"
   },
   {
    "duration": 34,
    "start_time": "2021-08-16T22:22:30.418Z"
   },
   {
    "duration": 50,
    "start_time": "2021-08-16T22:22:30.454Z"
   },
   {
    "duration": 35,
    "start_time": "2021-08-16T22:22:30.509Z"
   },
   {
    "duration": 47,
    "start_time": "2021-08-16T22:22:30.548Z"
   },
   {
    "duration": 100,
    "start_time": "2021-08-16T22:22:30.598Z"
   },
   {
    "duration": 101,
    "start_time": "2021-08-16T22:22:30.700Z"
   },
   {
    "duration": 79,
    "start_time": "2021-08-16T22:22:30.804Z"
   },
   {
    "duration": 12,
    "start_time": "2021-08-16T22:22:30.901Z"
   },
   {
    "duration": 26,
    "start_time": "2021-08-16T22:22:30.916Z"
   },
   {
    "duration": 33,
    "start_time": "2021-08-16T22:22:30.945Z"
   },
   {
    "duration": 12,
    "start_time": "2021-08-16T22:22:30.981Z"
   },
   {
    "duration": 28,
    "start_time": "2021-08-16T22:22:30.996Z"
   },
   {
    "duration": 59,
    "start_time": "2021-08-16T22:22:31.027Z"
   },
   {
    "duration": 6,
    "start_time": "2021-08-16T22:22:31.089Z"
   },
   {
    "duration": 41,
    "start_time": "2021-08-16T22:22:31.101Z"
   },
   {
    "duration": 37,
    "start_time": "2021-08-16T22:22:31.145Z"
   },
   {
    "duration": 46,
    "start_time": "2021-08-16T22:22:31.185Z"
   },
   {
    "duration": 32,
    "start_time": "2021-08-16T22:22:31.234Z"
   },
   {
    "duration": 39,
    "start_time": "2021-08-16T22:22:31.270Z"
   },
   {
    "duration": 32,
    "start_time": "2021-08-16T22:22:31.312Z"
   },
   {
    "duration": 46,
    "start_time": "2021-08-16T22:22:31.350Z"
   },
   {
    "duration": 23,
    "start_time": "2021-08-16T22:22:31.400Z"
   },
   {
    "duration": 29,
    "start_time": "2021-08-16T22:22:31.426Z"
   },
   {
    "duration": 14,
    "start_time": "2021-08-16T22:22:31.458Z"
   },
   {
    "duration": 38,
    "start_time": "2021-08-16T22:22:31.475Z"
   },
   {
    "duration": 33,
    "start_time": "2021-08-16T22:22:31.515Z"
   },
   {
    "duration": 31,
    "start_time": "2021-08-16T22:22:31.551Z"
   },
   {
    "duration": 26,
    "start_time": "2021-08-16T22:22:31.585Z"
   },
   {
    "duration": 26,
    "start_time": "2021-08-16T22:22:31.613Z"
   },
   {
    "duration": 22,
    "start_time": "2021-08-16T22:22:31.642Z"
   },
   {
    "duration": 18,
    "start_time": "2021-08-16T22:22:31.667Z"
   },
   {
    "duration": 27,
    "start_time": "2021-08-16T22:22:31.688Z"
   },
   {
    "duration": 6,
    "start_time": "2021-08-16T22:22:58.364Z"
   },
   {
    "duration": 4,
    "start_time": "2021-08-16T22:23:01.835Z"
   },
   {
    "duration": 250,
    "start_time": "2021-08-16T22:23:01.842Z"
   },
   {
    "duration": 16,
    "start_time": "2021-08-16T22:23:02.100Z"
   },
   {
    "duration": 42,
    "start_time": "2021-08-16T22:23:02.120Z"
   },
   {
    "duration": 7,
    "start_time": "2021-08-16T22:23:02.166Z"
   },
   {
    "duration": 26,
    "start_time": "2021-08-16T22:23:02.201Z"
   },
   {
    "duration": 16,
    "start_time": "2021-08-16T22:23:02.229Z"
   },
   {
    "duration": 55,
    "start_time": "2021-08-16T22:23:02.248Z"
   },
   {
    "duration": 26,
    "start_time": "2021-08-16T22:23:02.308Z"
   },
   {
    "duration": 37,
    "start_time": "2021-08-16T22:23:02.337Z"
   },
   {
    "duration": 106,
    "start_time": "2021-08-16T22:23:02.377Z"
   },
   {
    "duration": 120,
    "start_time": "2021-08-16T22:23:02.485Z"
   },
   {
    "duration": 113,
    "start_time": "2021-08-16T22:23:02.609Z"
   },
   {
    "duration": 10,
    "start_time": "2021-08-16T22:23:02.725Z"
   },
   {
    "duration": 18,
    "start_time": "2021-08-16T22:23:02.737Z"
   },
   {
    "duration": 19,
    "start_time": "2021-08-16T22:23:02.758Z"
   },
   {
    "duration": 32,
    "start_time": "2021-08-16T22:23:02.779Z"
   },
   {
    "duration": 22,
    "start_time": "2021-08-16T22:23:02.814Z"
   },
   {
    "duration": 67,
    "start_time": "2021-08-16T22:23:02.838Z"
   },
   {
    "duration": 5,
    "start_time": "2021-08-16T22:23:02.908Z"
   },
   {
    "duration": 28,
    "start_time": "2021-08-16T22:23:02.916Z"
   },
   {
    "duration": 18,
    "start_time": "2021-08-16T22:23:02.947Z"
   },
   {
    "duration": 46,
    "start_time": "2021-08-16T22:23:02.967Z"
   },
   {
    "duration": 20,
    "start_time": "2021-08-16T22:23:03.016Z"
   },
   {
    "duration": 29,
    "start_time": "2021-08-16T22:23:03.038Z"
   },
   {
    "duration": 40,
    "start_time": "2021-08-16T22:23:03.069Z"
   },
   {
    "duration": 39,
    "start_time": "2021-08-16T22:23:03.114Z"
   },
   {
    "duration": 45,
    "start_time": "2021-08-16T22:23:03.156Z"
   },
   {
    "duration": 13,
    "start_time": "2021-08-16T22:23:03.204Z"
   },
   {
    "duration": 7,
    "start_time": "2021-08-16T22:23:03.219Z"
   },
   {
    "duration": 8,
    "start_time": "2021-08-16T22:23:03.228Z"
   },
   {
    "duration": 15,
    "start_time": "2021-08-16T22:23:03.238Z"
   },
   {
    "duration": 8,
    "start_time": "2021-08-16T22:23:03.256Z"
   },
   {
    "duration": 33,
    "start_time": "2021-08-16T22:23:03.267Z"
   },
   {
    "duration": 12,
    "start_time": "2021-08-16T22:23:03.303Z"
   },
   {
    "duration": 11,
    "start_time": "2021-08-16T22:23:03.317Z"
   },
   {
    "duration": 14,
    "start_time": "2021-08-16T22:23:03.331Z"
   },
   {
    "duration": 7,
    "start_time": "2021-08-16T22:23:03.347Z"
   },
   {
    "duration": 4,
    "start_time": "2021-08-16T22:24:18.988Z"
   },
   {
    "duration": 198,
    "start_time": "2021-08-16T22:24:18.994Z"
   },
   {
    "duration": 15,
    "start_time": "2021-08-16T22:24:19.195Z"
   },
   {
    "duration": 37,
    "start_time": "2021-08-16T22:24:19.213Z"
   },
   {
    "duration": 14,
    "start_time": "2021-08-16T22:24:19.253Z"
   },
   {
    "duration": 49,
    "start_time": "2021-08-16T22:24:19.270Z"
   },
   {
    "duration": 7,
    "start_time": "2021-08-16T22:24:19.322Z"
   },
   {
    "duration": 51,
    "start_time": "2021-08-16T22:24:19.331Z"
   },
   {
    "duration": 35,
    "start_time": "2021-08-16T22:24:19.386Z"
   },
   {
    "duration": 32,
    "start_time": "2021-08-16T22:24:19.424Z"
   },
   {
    "duration": 93,
    "start_time": "2021-08-16T22:24:19.458Z"
   },
   {
    "duration": 100,
    "start_time": "2021-08-16T22:24:19.554Z"
   },
   {
    "duration": 81,
    "start_time": "2021-08-16T22:24:19.656Z"
   },
   {
    "duration": 9,
    "start_time": "2021-08-16T22:24:19.739Z"
   },
   {
    "duration": 8,
    "start_time": "2021-08-16T22:24:19.750Z"
   },
   {
    "duration": 40,
    "start_time": "2021-08-16T22:24:19.760Z"
   },
   {
    "duration": 10,
    "start_time": "2021-08-16T22:24:19.802Z"
   },
   {
    "duration": 15,
    "start_time": "2021-08-16T22:24:19.814Z"
   },
   {
    "duration": 75,
    "start_time": "2021-08-16T22:24:19.831Z"
   },
   {
    "duration": 5,
    "start_time": "2021-08-16T22:24:19.909Z"
   },
   {
    "duration": 26,
    "start_time": "2021-08-16T22:24:19.916Z"
   },
   {
    "duration": 18,
    "start_time": "2021-08-16T22:24:19.945Z"
   },
   {
    "duration": 46,
    "start_time": "2021-08-16T22:24:19.966Z"
   },
   {
    "duration": 19,
    "start_time": "2021-08-16T22:24:20.014Z"
   },
   {
    "duration": 20,
    "start_time": "2021-08-16T22:24:20.035Z"
   },
   {
    "duration": 52,
    "start_time": "2021-08-16T22:24:20.058Z"
   },
   {
    "duration": 41,
    "start_time": "2021-08-16T22:24:20.116Z"
   },
   {
    "duration": 48,
    "start_time": "2021-08-16T22:24:20.160Z"
   },
   {
    "duration": 13,
    "start_time": "2021-08-16T22:24:20.211Z"
   },
   {
    "duration": 14,
    "start_time": "2021-08-16T22:24:20.227Z"
   },
   {
    "duration": 21,
    "start_time": "2021-08-16T22:24:20.244Z"
   },
   {
    "duration": 27,
    "start_time": "2021-08-16T22:24:20.267Z"
   },
   {
    "duration": 20,
    "start_time": "2021-08-16T22:24:20.296Z"
   },
   {
    "duration": 24,
    "start_time": "2021-08-16T22:24:20.318Z"
   },
   {
    "duration": 32,
    "start_time": "2021-08-16T22:24:20.344Z"
   },
   {
    "duration": 11,
    "start_time": "2021-08-16T22:24:20.378Z"
   },
   {
    "duration": 24,
    "start_time": "2021-08-16T22:24:20.391Z"
   },
   {
    "duration": 21,
    "start_time": "2021-08-16T22:24:20.417Z"
   },
   {
    "duration": 3,
    "start_time": "2021-08-16T22:24:58.512Z"
   },
   {
    "duration": 202,
    "start_time": "2021-08-16T22:24:58.518Z"
   },
   {
    "duration": 16,
    "start_time": "2021-08-16T22:24:58.723Z"
   },
   {
    "duration": 34,
    "start_time": "2021-08-16T22:24:58.743Z"
   },
   {
    "duration": 6,
    "start_time": "2021-08-16T22:24:58.800Z"
   },
   {
    "duration": 33,
    "start_time": "2021-08-16T22:24:58.809Z"
   },
   {
    "duration": 7,
    "start_time": "2021-08-16T22:24:58.845Z"
   },
   {
    "duration": 69,
    "start_time": "2021-08-16T22:24:58.855Z"
   },
   {
    "duration": 22,
    "start_time": "2021-08-16T22:24:58.930Z"
   },
   {
    "duration": 55,
    "start_time": "2021-08-16T22:24:58.956Z"
   },
   {
    "duration": 100,
    "start_time": "2021-08-16T22:24:59.015Z"
   },
   {
    "duration": 105,
    "start_time": "2021-08-16T22:24:59.118Z"
   },
   {
    "duration": 92,
    "start_time": "2021-08-16T22:24:59.226Z"
   },
   {
    "duration": 10,
    "start_time": "2021-08-16T22:24:59.320Z"
   },
   {
    "duration": 5,
    "start_time": "2021-08-16T22:24:59.333Z"
   },
   {
    "duration": 15,
    "start_time": "2021-08-16T22:24:59.340Z"
   },
   {
    "duration": 44,
    "start_time": "2021-08-16T22:24:59.358Z"
   },
   {
    "duration": 15,
    "start_time": "2021-08-16T22:24:59.405Z"
   },
   {
    "duration": 55,
    "start_time": "2021-08-16T22:24:59.423Z"
   },
   {
    "duration": 21,
    "start_time": "2021-08-16T22:24:59.480Z"
   },
   {
    "duration": 26,
    "start_time": "2021-08-16T22:24:59.504Z"
   },
   {
    "duration": 18,
    "start_time": "2021-08-16T22:24:59.533Z"
   },
   {
    "duration": 51,
    "start_time": "2021-08-16T22:24:59.555Z"
   },
   {
    "duration": 20,
    "start_time": "2021-08-16T22:24:59.609Z"
   },
   {
    "duration": 23,
    "start_time": "2021-08-16T22:24:59.632Z"
   },
   {
    "duration": 57,
    "start_time": "2021-08-16T22:24:59.658Z"
   },
   {
    "duration": 38,
    "start_time": "2021-08-16T22:24:59.721Z"
   },
   {
    "duration": 49,
    "start_time": "2021-08-16T22:24:59.763Z"
   },
   {
    "duration": 16,
    "start_time": "2021-08-16T22:24:59.815Z"
   },
   {
    "duration": 7,
    "start_time": "2021-08-16T22:24:59.834Z"
   },
   {
    "duration": 12,
    "start_time": "2021-08-16T22:24:59.844Z"
   },
   {
    "duration": 9,
    "start_time": "2021-08-16T22:24:59.859Z"
   },
   {
    "duration": 4,
    "start_time": "2021-08-16T22:24:59.901Z"
   },
   {
    "duration": 7,
    "start_time": "2021-08-16T22:24:59.908Z"
   },
   {
    "duration": 6,
    "start_time": "2021-08-16T22:24:59.918Z"
   },
   {
    "duration": 5,
    "start_time": "2021-08-16T22:24:59.927Z"
   },
   {
    "duration": 7,
    "start_time": "2021-08-16T22:24:59.935Z"
   },
   {
    "duration": 10,
    "start_time": "2021-08-16T22:24:59.944Z"
   },
   {
    "duration": 5,
    "start_time": "2021-08-16T22:27:32.098Z"
   },
   {
    "duration": 282,
    "start_time": "2021-08-16T22:27:32.109Z"
   },
   {
    "duration": 18,
    "start_time": "2021-08-16T22:27:32.400Z"
   },
   {
    "duration": 41,
    "start_time": "2021-08-16T22:27:32.421Z"
   },
   {
    "duration": 35,
    "start_time": "2021-08-16T22:27:32.466Z"
   },
   {
    "duration": 34,
    "start_time": "2021-08-16T22:27:32.504Z"
   },
   {
    "duration": 7,
    "start_time": "2021-08-16T22:27:32.541Z"
   },
   {
    "duration": 64,
    "start_time": "2021-08-16T22:27:32.550Z"
   },
   {
    "duration": 24,
    "start_time": "2021-08-16T22:27:32.623Z"
   },
   {
    "duration": 51,
    "start_time": "2021-08-16T22:27:32.651Z"
   },
   {
    "duration": 114,
    "start_time": "2021-08-16T22:27:32.705Z"
   },
   {
    "duration": 133,
    "start_time": "2021-08-16T22:27:32.823Z"
   },
   {
    "duration": 94,
    "start_time": "2021-08-16T22:27:32.959Z"
   },
   {
    "duration": 10,
    "start_time": "2021-08-16T22:27:33.057Z"
   },
   {
    "duration": 30,
    "start_time": "2021-08-16T22:27:33.070Z"
   },
   {
    "duration": 27,
    "start_time": "2021-08-16T22:27:33.103Z"
   },
   {
    "duration": 12,
    "start_time": "2021-08-16T22:27:33.133Z"
   },
   {
    "duration": 17,
    "start_time": "2021-08-16T22:27:33.148Z"
   },
   {
    "duration": 76,
    "start_time": "2021-08-16T22:27:33.168Z"
   },
   {
    "duration": 6,
    "start_time": "2021-08-16T22:27:33.247Z"
   },
   {
    "duration": 60,
    "start_time": "2021-08-16T22:27:33.255Z"
   },
   {
    "duration": 35,
    "start_time": "2021-08-16T22:27:33.319Z"
   },
   {
    "duration": 54,
    "start_time": "2021-08-16T22:27:33.357Z"
   },
   {
    "duration": 24,
    "start_time": "2021-08-16T22:27:33.413Z"
   },
   {
    "duration": 26,
    "start_time": "2021-08-16T22:27:33.439Z"
   },
   {
    "duration": 52,
    "start_time": "2021-08-16T22:27:33.468Z"
   },
   {
    "duration": 43,
    "start_time": "2021-08-16T22:27:33.525Z"
   },
   {
    "duration": 44,
    "start_time": "2021-08-16T22:27:33.571Z"
   },
   {
    "duration": 19,
    "start_time": "2021-08-16T22:27:33.618Z"
   },
   {
    "duration": 19,
    "start_time": "2021-08-16T22:27:33.641Z"
   },
   {
    "duration": 10139,
    "start_time": "2021-08-16T22:27:33.667Z"
   },
   {
    "duration": -129,
    "start_time": "2021-08-16T22:27:43.938Z"
   },
   {
    "duration": -131,
    "start_time": "2021-08-16T22:27:43.942Z"
   },
   {
    "duration": -133,
    "start_time": "2021-08-16T22:27:43.945Z"
   },
   {
    "duration": -135,
    "start_time": "2021-08-16T22:27:43.949Z"
   },
   {
    "duration": -137,
    "start_time": "2021-08-16T22:27:43.952Z"
   },
   {
    "duration": -138,
    "start_time": "2021-08-16T22:27:43.955Z"
   },
   {
    "duration": -139,
    "start_time": "2021-08-16T22:27:43.958Z"
   },
   {
    "duration": 3,
    "start_time": "2021-08-16T22:31:09.198Z"
   },
   {
    "duration": 197,
    "start_time": "2021-08-16T22:31:09.204Z"
   },
   {
    "duration": 16,
    "start_time": "2021-08-16T22:31:09.404Z"
   },
   {
    "duration": 30,
    "start_time": "2021-08-16T22:31:09.424Z"
   },
   {
    "duration": 6,
    "start_time": "2021-08-16T22:31:09.456Z"
   },
   {
    "duration": 56,
    "start_time": "2021-08-16T22:31:09.465Z"
   },
   {
    "duration": 15,
    "start_time": "2021-08-16T22:31:09.523Z"
   },
   {
    "duration": 42,
    "start_time": "2021-08-16T22:31:09.540Z"
   },
   {
    "duration": 36,
    "start_time": "2021-08-16T22:31:09.586Z"
   },
   {
    "duration": 28,
    "start_time": "2021-08-16T22:31:09.625Z"
   },
   {
    "duration": 106,
    "start_time": "2021-08-16T22:31:09.655Z"
   },
   {
    "duration": 98,
    "start_time": "2021-08-16T22:31:09.764Z"
   },
   {
    "duration": 81,
    "start_time": "2021-08-16T22:31:09.865Z"
   },
   {
    "duration": 9,
    "start_time": "2021-08-16T22:31:09.949Z"
   },
   {
    "duration": 5,
    "start_time": "2021-08-16T22:31:09.960Z"
   },
   {
    "duration": 37,
    "start_time": "2021-08-16T22:31:09.967Z"
   },
   {
    "duration": 14,
    "start_time": "2021-08-16T22:31:10.006Z"
   },
   {
    "duration": 15,
    "start_time": "2021-08-16T22:31:10.022Z"
   },
   {
    "duration": 68,
    "start_time": "2021-08-16T22:31:10.040Z"
   },
   {
    "duration": 4,
    "start_time": "2021-08-16T22:31:10.110Z"
   },
   {
    "duration": 33,
    "start_time": "2021-08-16T22:31:10.117Z"
   },
   {
    "duration": 18,
    "start_time": "2021-08-16T22:31:10.153Z"
   },
   {
    "duration": 41,
    "start_time": "2021-08-16T22:31:10.173Z"
   },
   {
    "duration": 18,
    "start_time": "2021-08-16T22:31:10.216Z"
   },
   {
    "duration": 23,
    "start_time": "2021-08-16T22:31:10.237Z"
   },
   {
    "duration": 52,
    "start_time": "2021-08-16T22:31:10.264Z"
   },
   {
    "duration": 37,
    "start_time": "2021-08-16T22:31:10.324Z"
   },
   {
    "duration": 48,
    "start_time": "2021-08-16T22:31:10.365Z"
   },
   {
    "duration": 15,
    "start_time": "2021-08-16T22:31:10.416Z"
   },
   {
    "duration": 6,
    "start_time": "2021-08-16T22:31:10.434Z"
   },
   {
    "duration": 9549,
    "start_time": "2021-08-16T22:31:10.443Z"
   },
   {
    "duration": -85,
    "start_time": "2021-08-16T22:31:20.079Z"
   },
   {
    "duration": -88,
    "start_time": "2021-08-16T22:31:20.084Z"
   },
   {
    "duration": -90,
    "start_time": "2021-08-16T22:31:20.087Z"
   },
   {
    "duration": -92,
    "start_time": "2021-08-16T22:31:20.091Z"
   },
   {
    "duration": -95,
    "start_time": "2021-08-16T22:31:20.095Z"
   },
   {
    "duration": -97,
    "start_time": "2021-08-16T22:31:20.098Z"
   },
   {
    "duration": -98,
    "start_time": "2021-08-16T22:31:20.101Z"
   },
   {
    "duration": 4,
    "start_time": "2021-08-16T22:32:17.444Z"
   },
   {
    "duration": 197,
    "start_time": "2021-08-16T22:32:17.452Z"
   },
   {
    "duration": 16,
    "start_time": "2021-08-16T22:32:17.652Z"
   },
   {
    "duration": 55,
    "start_time": "2021-08-16T22:32:17.672Z"
   },
   {
    "duration": 10,
    "start_time": "2021-08-16T22:32:17.730Z"
   },
   {
    "duration": 27,
    "start_time": "2021-08-16T22:32:17.743Z"
   },
   {
    "duration": 29,
    "start_time": "2021-08-16T22:32:17.773Z"
   },
   {
    "duration": 42,
    "start_time": "2021-08-16T22:32:17.805Z"
   },
   {
    "duration": 24,
    "start_time": "2021-08-16T22:32:17.851Z"
   },
   {
    "duration": 50,
    "start_time": "2021-08-16T22:32:17.878Z"
   },
   {
    "duration": 92,
    "start_time": "2021-08-16T22:32:17.931Z"
   },
   {
    "duration": 98,
    "start_time": "2021-08-16T22:32:18.026Z"
   },
   {
    "duration": 84,
    "start_time": "2021-08-16T22:32:18.127Z"
   },
   {
    "duration": 10,
    "start_time": "2021-08-16T22:32:18.213Z"
   },
   {
    "duration": 4,
    "start_time": "2021-08-16T22:32:18.226Z"
   },
   {
    "duration": 21,
    "start_time": "2021-08-16T22:32:18.232Z"
   },
   {
    "duration": 10,
    "start_time": "2021-08-16T22:32:18.255Z"
   },
   {
    "duration": 46,
    "start_time": "2021-08-16T22:32:18.267Z"
   },
   {
    "duration": 40,
    "start_time": "2021-08-16T22:32:18.316Z"
   },
   {
    "duration": 4,
    "start_time": "2021-08-16T22:32:18.359Z"
   },
   {
    "duration": 48,
    "start_time": "2021-08-16T22:32:18.366Z"
   },
   {
    "duration": 18,
    "start_time": "2021-08-16T22:32:18.416Z"
   },
   {
    "duration": 26,
    "start_time": "2021-08-16T22:32:18.436Z"
   },
   {
    "duration": 44,
    "start_time": "2021-08-16T22:32:18.464Z"
   },
   {
    "duration": 19,
    "start_time": "2021-08-16T22:32:18.510Z"
   },
   {
    "duration": 16,
    "start_time": "2021-08-16T22:32:18.532Z"
   },
   {
    "duration": 74,
    "start_time": "2021-08-16T22:32:18.553Z"
   },
   {
    "duration": 14,
    "start_time": "2021-08-16T22:32:18.630Z"
   },
   {
    "duration": 13,
    "start_time": "2021-08-16T22:32:18.646Z"
   },
   {
    "duration": 5,
    "start_time": "2021-08-16T22:32:18.662Z"
   },
   {
    "duration": 24,
    "start_time": "2021-08-16T22:32:18.700Z"
   },
   {
    "duration": 16,
    "start_time": "2021-08-16T22:32:18.726Z"
   },
   {
    "duration": 24,
    "start_time": "2021-08-16T22:32:18.744Z"
   },
   {
    "duration": 45,
    "start_time": "2021-08-16T22:32:18.770Z"
   },
   {
    "duration": 3,
    "start_time": "2021-08-16T22:32:18.818Z"
   },
   {
    "duration": 4,
    "start_time": "2021-08-16T22:32:18.824Z"
   },
   {
    "duration": 7,
    "start_time": "2021-08-16T22:32:18.831Z"
   },
   {
    "duration": 7,
    "start_time": "2021-08-16T22:32:18.840Z"
   },
   {
    "duration": 4,
    "start_time": "2021-08-16T22:38:15.551Z"
   },
   {
    "duration": 203,
    "start_time": "2021-08-16T22:38:15.559Z"
   },
   {
    "duration": 16,
    "start_time": "2021-08-16T22:38:15.765Z"
   },
   {
    "duration": 49,
    "start_time": "2021-08-16T22:38:15.784Z"
   },
   {
    "duration": 5,
    "start_time": "2021-08-16T22:38:15.835Z"
   },
   {
    "duration": 28,
    "start_time": "2021-08-16T22:38:15.842Z"
   },
   {
    "duration": 30,
    "start_time": "2021-08-16T22:38:15.872Z"
   },
   {
    "duration": 34,
    "start_time": "2021-08-16T22:38:15.904Z"
   },
   {
    "duration": 22,
    "start_time": "2021-08-16T22:38:15.942Z"
   },
   {
    "duration": 59,
    "start_time": "2021-08-16T22:38:15.967Z"
   },
   {
    "duration": 94,
    "start_time": "2021-08-16T22:38:16.029Z"
   },
   {
    "duration": 100,
    "start_time": "2021-08-16T22:38:16.125Z"
   },
   {
    "duration": 85,
    "start_time": "2021-08-16T22:38:16.228Z"
   },
   {
    "duration": 11,
    "start_time": "2021-08-16T22:38:16.316Z"
   },
   {
    "duration": 5,
    "start_time": "2021-08-16T22:38:16.331Z"
   },
   {
    "duration": 16,
    "start_time": "2021-08-16T22:38:16.339Z"
   },
   {
    "duration": 51,
    "start_time": "2021-08-16T22:38:16.358Z"
   },
   {
    "duration": 15,
    "start_time": "2021-08-16T22:38:16.412Z"
   },
   {
    "duration": 41,
    "start_time": "2021-08-16T22:38:16.429Z"
   },
   {
    "duration": 29,
    "start_time": "2021-08-16T22:38:16.472Z"
   },
   {
    "duration": 20,
    "start_time": "2021-08-16T22:38:16.504Z"
   },
   {
    "duration": 18,
    "start_time": "2021-08-16T22:38:16.526Z"
   },
   {
    "duration": 62,
    "start_time": "2021-08-16T22:38:16.546Z"
   },
   {
    "duration": 18,
    "start_time": "2021-08-16T22:38:16.610Z"
   },
   {
    "duration": 24,
    "start_time": "2021-08-16T22:38:16.630Z"
   },
   {
    "duration": 44,
    "start_time": "2021-08-16T22:38:16.656Z"
   },
   {
    "duration": 35,
    "start_time": "2021-08-16T22:38:16.705Z"
   },
   {
    "duration": 17,
    "start_time": "2021-08-16T22:38:16.742Z"
   },
   {
    "duration": 41,
    "start_time": "2021-08-16T22:38:16.762Z"
   },
   {
    "duration": 5,
    "start_time": "2021-08-16T22:38:16.806Z"
   },
   {
    "duration": 29,
    "start_time": "2021-08-16T22:38:16.813Z"
   },
   {
    "duration": 16,
    "start_time": "2021-08-16T22:38:16.845Z"
   },
   {
    "duration": 50,
    "start_time": "2021-08-16T22:38:16.864Z"
   },
   {
    "duration": 16,
    "start_time": "2021-08-16T22:38:16.917Z"
   },
   {
    "duration": 10,
    "start_time": "2021-08-16T22:38:16.936Z"
   },
   {
    "duration": 6,
    "start_time": "2021-08-16T22:38:16.949Z"
   },
   {
    "duration": 44,
    "start_time": "2021-08-16T22:38:16.957Z"
   },
   {
    "duration": 3,
    "start_time": "2021-08-16T22:38:17.003Z"
   },
   {
    "duration": 4,
    "start_time": "2021-08-16T22:42:57.121Z"
   },
   {
    "duration": 202,
    "start_time": "2021-08-16T22:42:57.128Z"
   },
   {
    "duration": 15,
    "start_time": "2021-08-16T22:42:57.333Z"
   },
   {
    "duration": 33,
    "start_time": "2021-08-16T22:42:57.350Z"
   },
   {
    "duration": 6,
    "start_time": "2021-08-16T22:42:57.401Z"
   },
   {
    "duration": 26,
    "start_time": "2021-08-16T22:42:57.411Z"
   },
   {
    "duration": 7,
    "start_time": "2021-08-16T22:42:57.439Z"
   },
   {
    "duration": 72,
    "start_time": "2021-08-16T22:42:57.449Z"
   },
   {
    "duration": 22,
    "start_time": "2021-08-16T22:42:57.527Z"
   },
   {
    "duration": 58,
    "start_time": "2021-08-16T22:42:57.552Z"
   },
   {
    "duration": 92,
    "start_time": "2021-08-16T22:42:57.613Z"
   },
   {
    "duration": 99,
    "start_time": "2021-08-16T22:42:57.708Z"
   },
   {
    "duration": 71,
    "start_time": "2021-08-16T22:42:57.809Z"
   },
   {
    "duration": 20,
    "start_time": "2021-08-16T22:42:57.882Z"
   },
   {
    "duration": 5,
    "start_time": "2021-08-16T22:42:57.905Z"
   },
   {
    "duration": 16,
    "start_time": "2021-08-16T22:42:57.913Z"
   },
   {
    "duration": 10,
    "start_time": "2021-08-16T22:42:57.931Z"
   },
   {
    "duration": 61,
    "start_time": "2021-08-16T22:42:57.944Z"
   },
   {
    "duration": 41,
    "start_time": "2021-08-16T22:42:58.007Z"
   },
   {
    "duration": 5,
    "start_time": "2021-08-16T22:42:58.050Z"
   },
   {
    "duration": 45,
    "start_time": "2021-08-16T22:42:58.057Z"
   },
   {
    "duration": 17,
    "start_time": "2021-08-16T22:42:58.104Z"
   },
   {
    "duration": 17,
    "start_time": "2021-08-16T22:42:58.124Z"
   },
   {
    "duration": 17,
    "start_time": "2021-08-16T22:42:58.143Z"
   },
   {
    "duration": 57,
    "start_time": "2021-08-16T22:42:58.163Z"
   },
   {
    "duration": 18,
    "start_time": "2021-08-16T22:42:58.222Z"
   },
   {
    "duration": 64,
    "start_time": "2021-08-16T22:42:58.245Z"
   },
   {
    "duration": 17,
    "start_time": "2021-08-16T22:42:58.313Z"
   },
   {
    "duration": 13,
    "start_time": "2021-08-16T22:42:58.333Z"
   },
   {
    "duration": 5,
    "start_time": "2021-08-16T22:42:58.349Z"
   },
   {
    "duration": 64,
    "start_time": "2021-08-16T22:42:58.356Z"
   },
   {
    "duration": 19,
    "start_time": "2021-08-16T22:42:58.423Z"
   },
   {
    "duration": 24,
    "start_time": "2021-08-16T22:42:58.445Z"
   },
   {
    "duration": 21,
    "start_time": "2021-08-16T22:42:58.502Z"
   },
   {
    "duration": 12,
    "start_time": "2021-08-16T22:42:58.526Z"
   },
   {
    "duration": 8,
    "start_time": "2021-08-16T22:42:58.541Z"
   },
   {
    "duration": 55,
    "start_time": "2021-08-16T22:42:58.552Z"
   },
   {
    "duration": 8,
    "start_time": "2021-08-16T22:42:58.609Z"
   },
   {
    "duration": 730,
    "start_time": "2021-08-16T23:46:18.434Z"
   },
   {
    "duration": 193,
    "start_time": "2021-08-16T23:46:19.166Z"
   },
   {
    "duration": 29,
    "start_time": "2021-08-16T23:46:19.362Z"
   },
   {
    "duration": 33,
    "start_time": "2021-08-16T23:46:19.394Z"
   },
   {
    "duration": 13,
    "start_time": "2021-08-16T23:46:19.430Z"
   },
   {
    "duration": 55,
    "start_time": "2021-08-16T23:46:19.445Z"
   },
   {
    "duration": 11,
    "start_time": "2021-08-16T23:46:19.503Z"
   },
   {
    "duration": 31,
    "start_time": "2021-08-16T23:46:19.518Z"
   },
   {
    "duration": 45,
    "start_time": "2021-08-16T23:46:19.552Z"
   },
   {
    "duration": 35,
    "start_time": "2021-08-16T23:46:19.600Z"
   },
   {
    "duration": 108,
    "start_time": "2021-08-16T23:46:19.638Z"
   },
   {
    "duration": 129,
    "start_time": "2021-08-16T23:46:19.748Z"
   },
   {
    "duration": 85,
    "start_time": "2021-08-16T23:46:19.879Z"
   },
   {
    "duration": 20,
    "start_time": "2021-08-16T23:46:19.967Z"
   },
   {
    "duration": 4,
    "start_time": "2021-08-16T23:46:19.989Z"
   },
   {
    "duration": 21,
    "start_time": "2021-08-16T23:46:19.996Z"
   },
   {
    "duration": 12,
    "start_time": "2021-08-16T23:46:20.020Z"
   },
   {
    "duration": 51,
    "start_time": "2021-08-16T23:46:20.034Z"
   },
   {
    "duration": 45,
    "start_time": "2021-08-16T23:46:20.087Z"
   },
   {
    "duration": 5,
    "start_time": "2021-08-16T23:46:20.134Z"
   },
   {
    "duration": 49,
    "start_time": "2021-08-16T23:46:20.142Z"
   },
   {
    "duration": 19,
    "start_time": "2021-08-16T23:46:20.193Z"
   },
   {
    "duration": 22,
    "start_time": "2021-08-16T23:46:20.217Z"
   },
   {
    "duration": 47,
    "start_time": "2021-08-16T23:46:20.242Z"
   },
   {
    "duration": 20,
    "start_time": "2021-08-16T23:46:20.291Z"
   },
   {
    "duration": 18,
    "start_time": "2021-08-16T23:46:20.314Z"
   },
   {
    "duration": 70,
    "start_time": "2021-08-16T23:46:20.334Z"
   },
   {
    "duration": 14,
    "start_time": "2021-08-16T23:46:20.406Z"
   },
   {
    "duration": 12,
    "start_time": "2021-08-16T23:46:20.422Z"
   },
   {
    "duration": 6,
    "start_time": "2021-08-16T23:46:20.437Z"
   },
   {
    "duration": 55,
    "start_time": "2021-08-16T23:46:20.445Z"
   },
   {
    "duration": 18,
    "start_time": "2021-08-16T23:46:20.503Z"
   },
   {
    "duration": 27,
    "start_time": "2021-08-16T23:46:20.523Z"
   },
   {
    "duration": 48,
    "start_time": "2021-08-16T23:46:20.552Z"
   },
   {
    "duration": 11,
    "start_time": "2021-08-16T23:46:20.602Z"
   },
   {
    "duration": 6,
    "start_time": "2021-08-16T23:46:20.616Z"
   },
   {
    "duration": 11,
    "start_time": "2021-08-16T23:46:20.625Z"
   },
   {
    "duration": 47,
    "start_time": "2021-08-16T23:46:20.638Z"
   },
   {
    "duration": 20,
    "start_time": "2021-08-16T23:52:53.261Z"
   },
   {
    "duration": 10,
    "start_time": "2021-08-16T23:54:44.014Z"
   },
   {
    "duration": 771,
    "start_time": "2021-08-19T16:21:30.562Z"
   },
   {
    "duration": 183,
    "start_time": "2021-08-19T16:21:31.336Z"
   },
   {
    "duration": 25,
    "start_time": "2021-08-19T16:21:31.522Z"
   },
   {
    "duration": 65,
    "start_time": "2021-08-19T16:21:31.550Z"
   },
   {
    "duration": 10,
    "start_time": "2021-08-19T16:21:31.618Z"
   },
   {
    "duration": 83,
    "start_time": "2021-08-19T16:21:31.631Z"
   },
   {
    "duration": 6,
    "start_time": "2021-08-19T16:21:31.716Z"
   },
   {
    "duration": 85,
    "start_time": "2021-08-19T16:21:31.726Z"
   },
   {
    "duration": 29,
    "start_time": "2021-08-19T16:21:31.815Z"
   },
   {
    "duration": 82,
    "start_time": "2021-08-19T16:21:31.846Z"
   },
   {
    "duration": 217,
    "start_time": "2021-08-19T16:21:31.930Z"
   },
   {
    "duration": 150,
    "start_time": "2021-08-19T16:21:32.201Z"
   },
   {
    "duration": 108,
    "start_time": "2021-08-19T16:21:32.354Z"
   },
   {
    "duration": 11,
    "start_time": "2021-08-19T16:21:32.464Z"
   },
   {
    "duration": 23,
    "start_time": "2021-08-19T16:21:32.477Z"
   },
   {
    "duration": 15,
    "start_time": "2021-08-19T16:21:32.503Z"
   },
   {
    "duration": 21,
    "start_time": "2021-08-19T16:21:32.520Z"
   },
   {
    "duration": 51,
    "start_time": "2021-08-19T16:21:32.543Z"
   },
   {
    "duration": 47,
    "start_time": "2021-08-19T16:21:32.597Z"
   },
   {
    "duration": 18,
    "start_time": "2021-08-19T16:21:32.646Z"
   },
   {
    "duration": 14,
    "start_time": "2021-08-19T16:21:32.666Z"
   },
   {
    "duration": 44,
    "start_time": "2021-08-19T16:21:32.682Z"
   },
   {
    "duration": 42,
    "start_time": "2021-08-19T16:21:32.730Z"
   },
   {
    "duration": 45,
    "start_time": "2021-08-19T16:21:32.775Z"
   },
   {
    "duration": 29,
    "start_time": "2021-08-19T16:21:32.823Z"
   },
   {
    "duration": 29,
    "start_time": "2021-08-19T16:21:32.854Z"
   },
   {
    "duration": 27,
    "start_time": "2021-08-19T16:21:32.885Z"
   },
   {
    "duration": 49,
    "start_time": "2021-08-19T16:21:32.914Z"
   },
   {
    "duration": 13,
    "start_time": "2021-08-19T16:21:32.965Z"
   },
   {
    "duration": 25,
    "start_time": "2021-08-19T16:21:32.980Z"
   },
   {
    "duration": 13,
    "start_time": "2021-08-19T16:21:33.007Z"
   },
   {
    "duration": 47,
    "start_time": "2021-08-19T16:21:33.022Z"
   },
   {
    "duration": 40,
    "start_time": "2021-08-19T16:21:33.071Z"
   },
   {
    "duration": 29,
    "start_time": "2021-08-19T16:21:33.113Z"
   },
   {
    "duration": 24,
    "start_time": "2021-08-19T16:21:33.144Z"
   },
   {
    "duration": 18,
    "start_time": "2021-08-19T16:21:33.170Z"
   },
   {
    "duration": 18,
    "start_time": "2021-08-19T16:21:33.190Z"
   },
   {
    "duration": 25,
    "start_time": "2021-08-19T16:21:33.211Z"
   },
   {
    "duration": 23,
    "start_time": "2021-08-19T16:21:33.239Z"
   },
   {
    "duration": 16,
    "start_time": "2021-08-19T16:21:33.264Z"
   },
   {
    "duration": 1890,
    "start_time": "2021-08-21T08:11:53.306Z"
   },
   {
    "duration": 194,
    "start_time": "2021-08-21T08:11:55.199Z"
   },
   {
    "duration": 26,
    "start_time": "2021-08-21T08:11:55.397Z"
   },
   {
    "duration": 33,
    "start_time": "2021-08-21T08:11:55.426Z"
   },
   {
    "duration": 27,
    "start_time": "2021-08-21T08:11:55.462Z"
   },
   {
    "duration": 31,
    "start_time": "2021-08-21T08:11:55.492Z"
   },
   {
    "duration": 20,
    "start_time": "2021-08-21T08:11:55.526Z"
   },
   {
    "duration": 57,
    "start_time": "2021-08-21T08:11:55.550Z"
   },
   {
    "duration": 24,
    "start_time": "2021-08-21T08:11:55.610Z"
   },
   {
    "duration": 31,
    "start_time": "2021-08-21T08:11:55.636Z"
   },
   {
    "duration": 101,
    "start_time": "2021-08-21T08:11:55.685Z"
   },
   {
    "duration": 114,
    "start_time": "2021-08-21T08:11:55.789Z"
   },
   {
    "duration": 85,
    "start_time": "2021-08-21T08:11:55.905Z"
   },
   {
    "duration": 597,
    "start_time": "2021-08-21T08:11:55.992Z"
   },
   {
    "duration": 72,
    "start_time": "2021-08-21T08:11:56.520Z"
   },
   {
    "duration": 38,
    "start_time": "2021-08-21T08:11:56.556Z"
   },
   {
    "duration": 36,
    "start_time": "2021-08-21T08:11:56.560Z"
   },
   {
    "duration": 34,
    "start_time": "2021-08-21T08:11:56.563Z"
   },
   {
    "duration": 32,
    "start_time": "2021-08-21T08:11:56.567Z"
   },
   {
    "duration": 30,
    "start_time": "2021-08-21T08:11:56.570Z"
   },
   {
    "duration": 29,
    "start_time": "2021-08-21T08:11:56.573Z"
   },
   {
    "duration": 28,
    "start_time": "2021-08-21T08:11:56.575Z"
   },
   {
    "duration": 26,
    "start_time": "2021-08-21T08:11:56.579Z"
   },
   {
    "duration": -34,
    "start_time": "2021-08-21T08:11:56.641Z"
   },
   {
    "duration": -36,
    "start_time": "2021-08-21T08:11:56.644Z"
   },
   {
    "duration": -38,
    "start_time": "2021-08-21T08:11:56.647Z"
   },
   {
    "duration": -39,
    "start_time": "2021-08-21T08:11:56.650Z"
   },
   {
    "duration": -58,
    "start_time": "2021-08-21T08:11:56.671Z"
   },
   {
    "duration": -58,
    "start_time": "2021-08-21T08:11:56.673Z"
   },
   {
    "duration": -59,
    "start_time": "2021-08-21T08:11:56.676Z"
   },
   {
    "duration": -61,
    "start_time": "2021-08-21T08:11:56.679Z"
   },
   {
    "duration": -62,
    "start_time": "2021-08-21T08:11:56.682Z"
   },
   {
    "duration": -97,
    "start_time": "2021-08-21T08:11:56.719Z"
   },
   {
    "duration": -102,
    "start_time": "2021-08-21T08:11:56.725Z"
   },
   {
    "duration": -104,
    "start_time": "2021-08-21T08:11:56.729Z"
   },
   {
    "duration": -105,
    "start_time": "2021-08-21T08:11:56.731Z"
   },
   {
    "duration": -107,
    "start_time": "2021-08-21T08:11:56.735Z"
   },
   {
    "duration": -108,
    "start_time": "2021-08-21T08:11:56.737Z"
   },
   {
    "duration": -110,
    "start_time": "2021-08-21T08:11:56.740Z"
   },
   {
    "duration": -111,
    "start_time": "2021-08-21T08:11:56.742Z"
   },
   {
    "duration": 4,
    "start_time": "2021-08-21T08:12:30.233Z"
   },
   {
    "duration": 212,
    "start_time": "2021-08-21T08:12:30.240Z"
   },
   {
    "duration": 33,
    "start_time": "2021-08-21T08:12:30.455Z"
   },
   {
    "duration": 102,
    "start_time": "2021-08-21T08:12:30.491Z"
   },
   {
    "duration": 50,
    "start_time": "2021-08-21T08:12:30.595Z"
   },
   {
    "duration": 64,
    "start_time": "2021-08-21T08:12:30.648Z"
   },
   {
    "duration": 14,
    "start_time": "2021-08-21T08:12:30.715Z"
   },
   {
    "duration": 44,
    "start_time": "2021-08-21T08:12:30.733Z"
   },
   {
    "duration": 24,
    "start_time": "2021-08-21T08:12:30.780Z"
   },
   {
    "duration": 29,
    "start_time": "2021-08-21T08:12:30.806Z"
   },
   {
    "duration": 106,
    "start_time": "2021-08-21T08:12:30.838Z"
   },
   {
    "duration": 106,
    "start_time": "2021-08-21T08:12:30.946Z"
   },
   {
    "duration": 85,
    "start_time": "2021-08-21T08:12:31.054Z"
   },
   {
    "duration": 403,
    "start_time": "2021-08-21T08:12:31.141Z"
   },
   {
    "duration": 34,
    "start_time": "2021-08-21T08:12:31.513Z"
   },
   {
    "duration": 34,
    "start_time": "2021-08-21T08:12:31.515Z"
   },
   {
    "duration": -23,
    "start_time": "2021-08-21T08:12:31.573Z"
   },
   {
    "duration": -28,
    "start_time": "2021-08-21T08:12:31.580Z"
   },
   {
    "duration": -28,
    "start_time": "2021-08-21T08:12:31.583Z"
   },
   {
    "duration": -28,
    "start_time": "2021-08-21T08:12:31.585Z"
   },
   {
    "duration": -30,
    "start_time": "2021-08-21T08:12:31.589Z"
   },
   {
    "duration": -31,
    "start_time": "2021-08-21T08:12:31.592Z"
   },
   {
    "duration": -32,
    "start_time": "2021-08-21T08:12:31.595Z"
   },
   {
    "duration": -39,
    "start_time": "2021-08-21T08:12:31.604Z"
   },
   {
    "duration": -39,
    "start_time": "2021-08-21T08:12:31.607Z"
   },
   {
    "duration": -40,
    "start_time": "2021-08-21T08:12:31.610Z"
   },
   {
    "duration": -42,
    "start_time": "2021-08-21T08:12:31.614Z"
   },
   {
    "duration": -43,
    "start_time": "2021-08-21T08:12:31.617Z"
   },
   {
    "duration": -182,
    "start_time": "2021-08-21T08:12:31.759Z"
   },
   {
    "duration": -183,
    "start_time": "2021-08-21T08:12:31.762Z"
   },
   {
    "duration": -184,
    "start_time": "2021-08-21T08:12:31.765Z"
   },
   {
    "duration": -185,
    "start_time": "2021-08-21T08:12:31.768Z"
   },
   {
    "duration": -184,
    "start_time": "2021-08-21T08:12:31.770Z"
   },
   {
    "duration": -185,
    "start_time": "2021-08-21T08:12:31.773Z"
   },
   {
    "duration": -185,
    "start_time": "2021-08-21T08:12:31.775Z"
   },
   {
    "duration": -184,
    "start_time": "2021-08-21T08:12:31.777Z"
   },
   {
    "duration": -190,
    "start_time": "2021-08-21T08:12:31.785Z"
   },
   {
    "duration": -191,
    "start_time": "2021-08-21T08:12:31.788Z"
   },
   {
    "duration": -191,
    "start_time": "2021-08-21T08:12:31.791Z"
   },
   {
    "duration": -191,
    "start_time": "2021-08-21T08:12:31.793Z"
   },
   {
    "duration": 5,
    "start_time": "2021-08-21T08:14:22.663Z"
   },
   {
    "duration": 206,
    "start_time": "2021-08-21T08:14:22.702Z"
   },
   {
    "duration": 16,
    "start_time": "2021-08-21T08:14:22.911Z"
   },
   {
    "duration": 63,
    "start_time": "2021-08-21T08:14:22.931Z"
   },
   {
    "duration": 17,
    "start_time": "2021-08-21T08:14:22.997Z"
   },
   {
    "duration": 20,
    "start_time": "2021-08-21T08:14:23.017Z"
   },
   {
    "duration": 5,
    "start_time": "2021-08-21T08:14:23.040Z"
   },
   {
    "duration": 60,
    "start_time": "2021-08-21T08:14:23.047Z"
   },
   {
    "duration": 24,
    "start_time": "2021-08-21T08:14:23.110Z"
   },
   {
    "duration": 52,
    "start_time": "2021-08-21T08:14:23.137Z"
   },
   {
    "duration": 99,
    "start_time": "2021-08-21T08:14:23.191Z"
   },
   {
    "duration": 110,
    "start_time": "2021-08-21T08:14:23.293Z"
   },
   {
    "duration": 82,
    "start_time": "2021-08-21T08:14:23.405Z"
   },
   {
    "duration": 496,
    "start_time": "2021-08-21T08:14:23.489Z"
   },
   {
    "duration": -13,
    "start_time": "2021-08-21T08:14:24.002Z"
   },
   {
    "duration": -15,
    "start_time": "2021-08-21T08:14:24.005Z"
   },
   {
    "duration": -16,
    "start_time": "2021-08-21T08:14:24.008Z"
   },
   {
    "duration": -45,
    "start_time": "2021-08-21T08:14:24.039Z"
   },
   {
    "duration": -49,
    "start_time": "2021-08-21T08:14:24.044Z"
   },
   {
    "duration": -52,
    "start_time": "2021-08-21T08:14:24.048Z"
   },
   {
    "duration": -53,
    "start_time": "2021-08-21T08:14:24.051Z"
   },
   {
    "duration": -55,
    "start_time": "2021-08-21T08:14:24.055Z"
   },
   {
    "duration": -57,
    "start_time": "2021-08-21T08:14:24.058Z"
   },
   {
    "duration": -64,
    "start_time": "2021-08-21T08:14:24.066Z"
   },
   {
    "duration": -66,
    "start_time": "2021-08-21T08:14:24.070Z"
   },
   {
    "duration": -69,
    "start_time": "2021-08-21T08:14:24.074Z"
   },
   {
    "duration": -75,
    "start_time": "2021-08-21T08:14:24.082Z"
   },
   {
    "duration": -76,
    "start_time": "2021-08-21T08:14:24.085Z"
   },
   {
    "duration": -126,
    "start_time": "2021-08-21T08:14:24.136Z"
   },
   {
    "duration": -135,
    "start_time": "2021-08-21T08:14:24.147Z"
   },
   {
    "duration": -152,
    "start_time": "2021-08-21T08:14:24.165Z"
   },
   {
    "duration": -153,
    "start_time": "2021-08-21T08:14:24.168Z"
   },
   {
    "duration": -178,
    "start_time": "2021-08-21T08:14:24.194Z"
   },
   {
    "duration": -179,
    "start_time": "2021-08-21T08:14:24.197Z"
   },
   {
    "duration": -181,
    "start_time": "2021-08-21T08:14:24.200Z"
   },
   {
    "duration": -181,
    "start_time": "2021-08-21T08:14:24.202Z"
   },
   {
    "duration": -184,
    "start_time": "2021-08-21T08:14:24.206Z"
   },
   {
    "duration": -185,
    "start_time": "2021-08-21T08:14:24.208Z"
   },
   {
    "duration": -198,
    "start_time": "2021-08-21T08:14:24.222Z"
   },
   {
    "duration": -199,
    "start_time": "2021-08-21T08:14:24.225Z"
   },
   {
    "duration": 3,
    "start_time": "2021-08-21T08:25:32.632Z"
   },
   {
    "duration": 187,
    "start_time": "2021-08-21T08:25:32.698Z"
   },
   {
    "duration": 16,
    "start_time": "2021-08-21T08:25:32.888Z"
   },
   {
    "duration": 35,
    "start_time": "2021-08-21T08:25:32.907Z"
   },
   {
    "duration": 7,
    "start_time": "2021-08-21T08:25:32.945Z"
   },
   {
    "duration": 44,
    "start_time": "2021-08-21T08:25:32.954Z"
   },
   {
    "duration": 6,
    "start_time": "2021-08-21T08:25:33.001Z"
   },
   {
    "duration": 33,
    "start_time": "2021-08-21T08:25:33.010Z"
   },
   {
    "duration": 57,
    "start_time": "2021-08-21T08:25:33.047Z"
   },
   {
    "duration": 31,
    "start_time": "2021-08-21T08:25:33.108Z"
   },
   {
    "duration": 110,
    "start_time": "2021-08-21T08:25:33.142Z"
   },
   {
    "duration": 109,
    "start_time": "2021-08-21T08:25:33.254Z"
   },
   {
    "duration": 87,
    "start_time": "2021-08-21T08:25:33.366Z"
   },
   {
    "duration": 30,
    "start_time": "2021-08-21T08:25:33.457Z"
   },
   {
    "duration": 4,
    "start_time": "2021-08-21T08:25:33.490Z"
   },
   {
    "duration": 17,
    "start_time": "2021-08-21T08:25:33.497Z"
   },
   {
    "duration": 10,
    "start_time": "2021-08-21T08:25:33.516Z"
   },
   {
    "duration": 14,
    "start_time": "2021-08-21T08:25:33.528Z"
   },
   {
    "duration": 80,
    "start_time": "2021-08-21T08:25:33.544Z"
   },
   {
    "duration": 19,
    "start_time": "2021-08-21T08:25:33.626Z"
   },
   {
    "duration": 5,
    "start_time": "2021-08-21T08:25:33.647Z"
   },
   {
    "duration": 51,
    "start_time": "2021-08-21T08:25:33.654Z"
   },
   {
    "duration": 18,
    "start_time": "2021-08-21T08:25:33.707Z"
   },
   {
    "duration": 19,
    "start_time": "2021-08-21T08:25:33.727Z"
   },
   {
    "duration": 19,
    "start_time": "2021-08-21T08:25:33.785Z"
   },
   {
    "duration": 21,
    "start_time": "2021-08-21T08:25:33.807Z"
   },
   {
    "duration": 18,
    "start_time": "2021-08-21T08:25:33.832Z"
   },
   {
    "duration": 40,
    "start_time": "2021-08-21T08:25:33.886Z"
   },
   {
    "duration": 14,
    "start_time": "2021-08-21T08:25:33.929Z"
   },
   {
    "duration": 44,
    "start_time": "2021-08-21T08:25:33.946Z"
   },
   {
    "duration": 6,
    "start_time": "2021-08-21T08:25:33.993Z"
   },
   {
    "duration": 33,
    "start_time": "2021-08-21T08:25:34.001Z"
   },
   {
    "duration": 18,
    "start_time": "2021-08-21T08:25:34.037Z"
   },
   {
    "duration": 53,
    "start_time": "2021-08-21T08:25:34.058Z"
   },
   {
    "duration": 20,
    "start_time": "2021-08-21T08:25:34.113Z"
   },
   {
    "duration": 47,
    "start_time": "2021-08-21T08:25:34.139Z"
   },
   {
    "duration": 8,
    "start_time": "2021-08-21T08:25:34.189Z"
   },
   {
    "duration": 14,
    "start_time": "2021-08-21T08:25:34.199Z"
   },
   {
    "duration": 11,
    "start_time": "2021-08-21T08:25:34.216Z"
   },
   {
    "duration": 6,
    "start_time": "2021-08-21T08:25:34.230Z"
   },
   {
    "duration": 3,
    "start_time": "2021-08-21T08:27:23.177Z"
   },
   {
    "duration": 181,
    "start_time": "2021-08-21T08:27:24.019Z"
   },
   {
    "duration": 16,
    "start_time": "2021-08-21T08:27:24.694Z"
   },
   {
    "duration": 32,
    "start_time": "2021-08-21T08:27:25.259Z"
   },
   {
    "duration": 7,
    "start_time": "2021-08-21T08:27:25.794Z"
   },
   {
    "duration": 17,
    "start_time": "2021-08-21T08:27:26.996Z"
   },
   {
    "duration": 5,
    "start_time": "2021-08-21T08:27:27.016Z"
   },
   {
    "duration": 31,
    "start_time": "2021-08-21T08:27:28.030Z"
   },
   {
    "duration": 25,
    "start_time": "2021-08-21T08:27:28.065Z"
   },
   {
    "duration": 37,
    "start_time": "2021-08-21T08:27:30.614Z"
   },
   {
    "duration": 109,
    "start_time": "2021-08-21T08:27:30.654Z"
   },
   {
    "duration": 106,
    "start_time": "2021-08-21T08:27:33.189Z"
   },
   {
    "duration": 89,
    "start_time": "2021-08-21T08:27:33.298Z"
   },
   {
    "duration": 78,
    "start_time": "2021-08-21T08:27:33.390Z"
   },
   {
    "duration": 6,
    "start_time": "2021-08-21T08:27:33.594Z"
   },
   {
    "duration": 14,
    "start_time": "2021-08-21T08:27:34.815Z"
   },
   {
    "duration": 17,
    "start_time": "2021-08-21T08:27:34.832Z"
   },
   {
    "duration": 17,
    "start_time": "2021-08-21T08:27:35.631Z"
   },
   {
    "duration": 51,
    "start_time": "2021-08-21T08:27:35.651Z"
   },
   {
    "duration": 19,
    "start_time": "2021-08-21T08:27:35.705Z"
   },
   {
    "duration": 5,
    "start_time": "2021-08-21T08:27:42.878Z"
   },
   {
    "duration": 987,
    "start_time": "2021-08-21T13:25:02.750Z"
   },
   {
    "duration": 488,
    "start_time": "2021-08-21T13:25:03.740Z"
   },
   {
    "duration": 77,
    "start_time": "2021-08-21T13:25:04.232Z"
   },
   {
    "duration": 102,
    "start_time": "2021-08-21T13:25:04.312Z"
   },
   {
    "duration": 6,
    "start_time": "2021-08-21T13:25:04.417Z"
   },
   {
    "duration": 70,
    "start_time": "2021-08-21T13:25:04.426Z"
   },
   {
    "duration": 6,
    "start_time": "2021-08-21T13:25:04.499Z"
   },
   {
    "duration": 46,
    "start_time": "2021-08-21T13:25:04.507Z"
   },
   {
    "duration": 33,
    "start_time": "2021-08-21T13:25:04.583Z"
   },
   {
    "duration": 63,
    "start_time": "2021-08-21T13:25:04.620Z"
   },
   {
    "duration": 78,
    "start_time": "2021-08-21T13:25:04.686Z"
   },
   {
    "duration": 121,
    "start_time": "2021-08-21T13:25:04.766Z"
   },
   {
    "duration": 73,
    "start_time": "2021-08-21T13:25:04.889Z"
   },
   {
    "duration": 59,
    "start_time": "2021-08-21T13:25:04.982Z"
   },
   {
    "duration": 10,
    "start_time": "2021-08-21T13:25:05.044Z"
   },
   {
    "duration": 39,
    "start_time": "2021-08-21T13:25:05.056Z"
   },
   {
    "duration": 14,
    "start_time": "2021-08-21T13:25:05.098Z"
   },
   {
    "duration": 14,
    "start_time": "2021-08-21T13:25:05.115Z"
   },
   {
    "duration": 69,
    "start_time": "2021-08-21T13:25:05.132Z"
   },
   {
    "duration": 19,
    "start_time": "2021-08-21T13:25:05.203Z"
   },
   {
    "duration": 5,
    "start_time": "2021-08-21T13:25:05.224Z"
   },
   {
    "duration": 57,
    "start_time": "2021-08-21T13:25:05.231Z"
   },
   {
    "duration": 17,
    "start_time": "2021-08-21T13:25:05.290Z"
   },
   {
    "duration": 21,
    "start_time": "2021-08-21T13:25:05.309Z"
   },
   {
    "duration": 17,
    "start_time": "2021-08-21T13:25:05.332Z"
   },
   {
    "duration": 47,
    "start_time": "2021-08-21T13:25:05.351Z"
   },
   {
    "duration": 17,
    "start_time": "2021-08-21T13:25:05.405Z"
   },
   {
    "duration": 74,
    "start_time": "2021-08-21T13:25:05.425Z"
   },
   {
    "duration": 13,
    "start_time": "2021-08-21T13:25:05.502Z"
   },
   {
    "duration": 15,
    "start_time": "2021-08-21T13:25:05.518Z"
   },
   {
    "duration": 6,
    "start_time": "2021-08-21T13:25:05.536Z"
   },
   {
    "duration": 53,
    "start_time": "2021-08-21T13:25:05.545Z"
   },
   {
    "duration": 19,
    "start_time": "2021-08-21T13:25:05.601Z"
   },
   {
    "duration": 25,
    "start_time": "2021-08-21T13:25:05.623Z"
   },
   {
    "duration": 48,
    "start_time": "2021-08-21T13:25:05.651Z"
   },
   {
    "duration": 10,
    "start_time": "2021-08-21T13:25:05.702Z"
   },
   {
    "duration": 6,
    "start_time": "2021-08-21T13:25:05.715Z"
   },
   {
    "duration": 11,
    "start_time": "2021-08-21T13:25:05.723Z"
   },
   {
    "duration": 55,
    "start_time": "2021-08-21T13:25:05.736Z"
   },
   {
    "duration": 7,
    "start_time": "2021-08-21T13:25:05.794Z"
   },
   {
    "duration": 90,
    "start_time": "2021-08-21T14:00:11.952Z"
   },
   {
    "duration": 93,
    "start_time": "2021-08-21T14:00:14.283Z"
   },
   {
    "duration": 4,
    "start_time": "2021-08-21T14:00:17.403Z"
   },
   {
    "duration": 216,
    "start_time": "2021-08-21T14:00:17.432Z"
   },
   {
    "duration": 18,
    "start_time": "2021-08-21T14:00:17.651Z"
   },
   {
    "duration": 61,
    "start_time": "2021-08-21T14:00:17.674Z"
   },
   {
    "duration": 5,
    "start_time": "2021-08-21T14:00:17.738Z"
   },
   {
    "duration": 22,
    "start_time": "2021-08-21T14:00:17.746Z"
   },
   {
    "duration": 6,
    "start_time": "2021-08-21T14:00:17.800Z"
   },
   {
    "duration": 33,
    "start_time": "2021-08-21T14:00:17.809Z"
   },
   {
    "duration": 22,
    "start_time": "2021-08-21T14:00:17.845Z"
   },
   {
    "duration": 56,
    "start_time": "2021-08-21T14:00:17.872Z"
   },
   {
    "duration": 109,
    "start_time": "2021-08-21T14:00:17.931Z"
   },
   {
    "duration": 119,
    "start_time": "2021-08-21T14:00:18.042Z"
   },
   {
    "duration": 93,
    "start_time": "2021-08-21T14:00:18.164Z"
   },
   {
    "duration": 75,
    "start_time": "2021-08-21T14:00:18.260Z"
   },
   {
    "duration": 4,
    "start_time": "2021-08-21T14:00:18.338Z"
   },
   {
    "duration": 25,
    "start_time": "2021-08-21T14:00:18.344Z"
   },
   {
    "duration": 89,
    "start_time": "2021-08-21T14:00:18.372Z"
   },
   {
    "duration": 18,
    "start_time": "2021-08-21T14:00:18.463Z"
   },
   {
    "duration": 52,
    "start_time": "2021-08-21T14:00:18.500Z"
   },
   {
    "duration": 47,
    "start_time": "2021-08-21T14:00:18.555Z"
   },
   {
    "duration": 6,
    "start_time": "2021-08-21T14:00:18.605Z"
   },
   {
    "duration": 37,
    "start_time": "2021-08-21T14:00:18.614Z"
   },
   {
    "duration": 18,
    "start_time": "2021-08-21T14:00:18.654Z"
   },
   {
    "duration": 43,
    "start_time": "2021-08-21T14:00:18.675Z"
   },
   {
    "duration": 23,
    "start_time": "2021-08-21T14:00:18.721Z"
   },
   {
    "duration": 57,
    "start_time": "2021-08-21T14:00:18.747Z"
   },
   {
    "duration": 20,
    "start_time": "2021-08-21T14:00:18.807Z"
   },
   {
    "duration": 69,
    "start_time": "2021-08-21T14:00:18.833Z"
   },
   {
    "duration": 17,
    "start_time": "2021-08-21T14:00:18.905Z"
   },
   {
    "duration": 14,
    "start_time": "2021-08-21T14:00:18.925Z"
   },
   {
    "duration": 8,
    "start_time": "2021-08-21T14:00:18.942Z"
   },
   {
    "duration": 71,
    "start_time": "2021-08-21T14:00:18.953Z"
   },
   {
    "duration": 16,
    "start_time": "2021-08-21T14:00:19.027Z"
   },
   {
    "duration": 23,
    "start_time": "2021-08-21T14:00:19.046Z"
   },
   {
    "duration": 18,
    "start_time": "2021-08-21T14:00:19.101Z"
   },
   {
    "duration": 11,
    "start_time": "2021-08-21T14:00:19.121Z"
   },
   {
    "duration": 7,
    "start_time": "2021-08-21T14:00:19.134Z"
   },
   {
    "duration": 12,
    "start_time": "2021-08-21T14:00:19.144Z"
   },
   {
    "duration": 50,
    "start_time": "2021-08-21T14:00:19.159Z"
   },
   {
    "duration": 9,
    "start_time": "2021-08-21T14:00:19.212Z"
   },
   {
    "duration": 512,
    "start_time": "2022-06-15T20:32:56.851Z"
   },
   {
    "duration": 505,
    "start_time": "2022-06-15T20:32:57.365Z"
   },
   {
    "duration": 16,
    "start_time": "2022-06-15T20:32:57.872Z"
   },
   {
    "duration": 35,
    "start_time": "2022-06-15T20:32:57.889Z"
   },
   {
    "duration": 5,
    "start_time": "2022-06-15T20:32:57.927Z"
   },
   {
    "duration": 11,
    "start_time": "2022-06-15T20:32:57.933Z"
   },
   {
    "duration": 6,
    "start_time": "2022-06-15T20:32:57.945Z"
   },
   {
    "duration": 65,
    "start_time": "2022-06-15T20:32:57.952Z"
   },
   {
    "duration": 17,
    "start_time": "2022-06-15T20:32:58.019Z"
   },
   {
    "duration": 18,
    "start_time": "2022-06-15T20:32:58.038Z"
   },
   {
    "duration": 80,
    "start_time": "2022-06-15T20:32:58.057Z"
   },
   {
    "duration": 84,
    "start_time": "2022-06-15T20:32:58.138Z"
   },
   {
    "duration": 54,
    "start_time": "2022-06-15T20:32:58.224Z"
   },
   {
    "duration": 56,
    "start_time": "2022-06-15T20:32:58.282Z"
   },
   {
    "duration": 3,
    "start_time": "2022-06-15T20:32:58.339Z"
   },
   {
    "duration": 13,
    "start_time": "2022-06-15T20:32:58.343Z"
   },
   {
    "duration": 51,
    "start_time": "2022-06-15T20:32:58.357Z"
   },
   {
    "duration": 16,
    "start_time": "2022-06-15T20:32:58.411Z"
   },
   {
    "duration": 30,
    "start_time": "2022-06-15T20:32:58.429Z"
   },
   {
    "duration": 12,
    "start_time": "2022-06-15T20:32:58.460Z"
   },
   {
    "duration": 21,
    "start_time": "2022-06-15T20:32:58.473Z"
   },
   {
    "duration": 35,
    "start_time": "2022-06-15T20:32:58.496Z"
   },
   {
    "duration": 12,
    "start_time": "2022-06-15T20:32:58.533Z"
   },
   {
    "duration": 14,
    "start_time": "2022-06-15T20:32:58.546Z"
   },
   {
    "duration": 11,
    "start_time": "2022-06-15T20:32:58.561Z"
   },
   {
    "duration": 27,
    "start_time": "2022-06-15T20:32:58.573Z"
   },
   {
    "duration": 21,
    "start_time": "2022-06-15T20:32:58.602Z"
   },
   {
    "duration": 30,
    "start_time": "2022-06-15T20:32:58.625Z"
   },
   {
    "duration": 8,
    "start_time": "2022-06-15T20:32:58.656Z"
   },
   {
    "duration": 38,
    "start_time": "2022-06-15T20:32:58.665Z"
   },
   {
    "duration": 6,
    "start_time": "2022-06-15T20:32:58.710Z"
   },
   {
    "duration": 19,
    "start_time": "2022-06-15T20:32:58.718Z"
   },
   {
    "duration": 9,
    "start_time": "2022-06-15T20:32:58.739Z"
   },
   {
    "duration": 13,
    "start_time": "2022-06-15T20:32:58.749Z"
   },
   {
    "duration": 9,
    "start_time": "2022-06-15T20:32:58.764Z"
   },
   {
    "duration": 27,
    "start_time": "2022-06-15T20:32:58.774Z"
   },
   {
    "duration": 5,
    "start_time": "2022-06-15T20:32:58.803Z"
   },
   {
    "duration": 32,
    "start_time": "2022-06-15T20:32:58.810Z"
   },
   {
    "duration": 7,
    "start_time": "2022-06-15T20:32:58.844Z"
   },
   {
    "duration": 4,
    "start_time": "2022-06-15T20:32:58.852Z"
   },
   {
    "duration": 185,
    "start_time": "2022-06-15T20:38:35.147Z"
   },
   {
    "duration": 190,
    "start_time": "2022-06-15T20:38:40.420Z"
   },
   {
    "duration": 536,
    "start_time": "2022-06-15T20:40:37.636Z"
   },
   {
    "duration": 51,
    "start_time": "2022-06-15T20:40:38.174Z"
   },
   {
    "duration": 9,
    "start_time": "2022-06-15T20:40:38.227Z"
   },
   {
    "duration": 13,
    "start_time": "2022-06-15T20:40:38.238Z"
   },
   {
    "duration": 7,
    "start_time": "2022-06-15T20:40:38.253Z"
   },
   {
    "duration": 21,
    "start_time": "2022-06-15T20:40:38.261Z"
   },
   {
    "duration": 36,
    "start_time": "2022-06-15T20:40:38.283Z"
   },
   {
    "duration": 26,
    "start_time": "2022-06-15T20:40:38.322Z"
   },
   {
    "duration": 79,
    "start_time": "2022-06-15T20:40:38.350Z"
   },
   {
    "duration": 114,
    "start_time": "2022-06-15T20:40:38.433Z"
   },
   {
    "duration": 70,
    "start_time": "2022-06-15T20:40:38.548Z"
   },
   {
    "duration": 36,
    "start_time": "2022-06-15T20:40:38.620Z"
   },
   {
    "duration": 3,
    "start_time": "2022-06-15T20:40:38.657Z"
   },
   {
    "duration": 10,
    "start_time": "2022-06-15T20:40:38.661Z"
   },
   {
    "duration": 63,
    "start_time": "2022-06-15T20:40:38.673Z"
   },
   {
    "duration": 11,
    "start_time": "2022-06-15T20:40:38.737Z"
   },
   {
    "duration": 41,
    "start_time": "2022-06-15T20:40:38.750Z"
   },
   {
    "duration": 21,
    "start_time": "2022-06-15T20:40:38.796Z"
   },
   {
    "duration": 5,
    "start_time": "2022-06-15T20:40:38.820Z"
   },
   {
    "duration": 26,
    "start_time": "2022-06-15T20:40:38.827Z"
   },
   {
    "duration": 12,
    "start_time": "2022-06-15T20:40:38.854Z"
   },
   {
    "duration": 44,
    "start_time": "2022-06-15T20:40:38.867Z"
   },
   {
    "duration": 19,
    "start_time": "2022-06-15T20:40:38.914Z"
   },
   {
    "duration": 13,
    "start_time": "2022-06-15T20:40:38.935Z"
   },
   {
    "duration": 11,
    "start_time": "2022-06-15T20:40:38.949Z"
   },
   {
    "duration": 57,
    "start_time": "2022-06-15T20:40:38.961Z"
   },
   {
    "duration": 10,
    "start_time": "2022-06-15T20:40:39.019Z"
   },
   {
    "duration": 11,
    "start_time": "2022-06-15T20:40:39.032Z"
   },
   {
    "duration": 7,
    "start_time": "2022-06-15T20:40:39.044Z"
   },
   {
    "duration": 18,
    "start_time": "2022-06-15T20:40:39.052Z"
   },
   {
    "duration": 8,
    "start_time": "2022-06-15T20:40:39.071Z"
   },
   {
    "duration": 40,
    "start_time": "2022-06-15T20:40:39.080Z"
   },
   {
    "duration": 12,
    "start_time": "2022-06-15T20:40:39.121Z"
   },
   {
    "duration": 13,
    "start_time": "2022-06-15T20:40:39.134Z"
   },
   {
    "duration": 3,
    "start_time": "2022-06-15T20:40:39.148Z"
   },
   {
    "duration": 12,
    "start_time": "2022-06-15T20:40:39.152Z"
   },
   {
    "duration": 6,
    "start_time": "2022-06-15T20:40:39.165Z"
   },
   {
    "duration": 6,
    "start_time": "2022-06-15T20:40:39.172Z"
   },
   {
    "duration": 189,
    "start_time": "2022-06-15T20:41:04.117Z"
   },
   {
    "duration": 170,
    "start_time": "2022-06-15T20:41:12.417Z"
   },
   {
    "duration": 4,
    "start_time": "2022-06-15T20:42:37.217Z"
   },
   {
    "duration": 8,
    "start_time": "2022-06-15T20:44:19.418Z"
   },
   {
    "duration": 23,
    "start_time": "2022-06-15T20:44:51.517Z"
   },
   {
    "duration": 127,
    "start_time": "2022-06-15T20:46:57.416Z"
   },
   {
    "duration": 4,
    "start_time": "2022-06-15T21:01:49.532Z"
   },
   {
    "duration": 14,
    "start_time": "2022-06-15T21:02:10.661Z"
   },
   {
    "duration": 7,
    "start_time": "2022-06-15T21:03:56.697Z"
   },
   {
    "duration": 9,
    "start_time": "2022-06-15T21:04:21.975Z"
   },
   {
    "duration": 6,
    "start_time": "2022-06-15T21:04:38.867Z"
   },
   {
    "duration": 6,
    "start_time": "2022-06-15T21:04:42.543Z"
   },
   {
    "duration": 32,
    "start_time": "2022-06-15T21:14:18.292Z"
   },
   {
    "duration": 540,
    "start_time": "2022-06-15T21:14:46.882Z"
   },
   {
    "duration": 23,
    "start_time": "2022-06-15T21:14:47.424Z"
   },
   {
    "duration": 5,
    "start_time": "2022-06-15T21:14:47.449Z"
   },
   {
    "duration": 12,
    "start_time": "2022-06-15T21:14:47.455Z"
   },
   {
    "duration": 38,
    "start_time": "2022-06-15T21:14:47.468Z"
   },
   {
    "duration": 31,
    "start_time": "2022-06-15T21:14:47.508Z"
   },
   {
    "duration": 71,
    "start_time": "2022-06-15T21:14:47.540Z"
   },
   {
    "duration": 117,
    "start_time": "2022-06-15T21:14:47.613Z"
   },
   {
    "duration": 32,
    "start_time": "2022-06-15T21:14:47.732Z"
   },
   {
    "duration": 2,
    "start_time": "2022-06-15T21:14:47.766Z"
   },
   {
    "duration": 26,
    "start_time": "2022-06-15T21:14:47.770Z"
   },
   {
    "duration": 30,
    "start_time": "2022-06-15T21:14:47.797Z"
   },
   {
    "duration": 11,
    "start_time": "2022-06-15T21:14:47.828Z"
   },
   {
    "duration": 27,
    "start_time": "2022-06-15T21:14:47.840Z"
   },
   {
    "duration": 27,
    "start_time": "2022-06-15T21:14:47.869Z"
   },
   {
    "duration": 3,
    "start_time": "2022-06-15T21:14:47.897Z"
   },
   {
    "duration": 15,
    "start_time": "2022-06-15T21:14:47.902Z"
   },
   {
    "duration": 11,
    "start_time": "2022-06-15T21:14:47.919Z"
   },
   {
    "duration": 13,
    "start_time": "2022-06-15T21:14:47.931Z"
   },
   {
    "duration": 11,
    "start_time": "2022-06-15T21:14:47.945Z"
   },
   {
    "duration": 36,
    "start_time": "2022-06-15T21:14:47.957Z"
   },
   {
    "duration": 11,
    "start_time": "2022-06-15T21:14:47.995Z"
   },
   {
    "duration": 25,
    "start_time": "2022-06-15T21:14:48.007Z"
   },
   {
    "duration": 8,
    "start_time": "2022-06-15T21:14:48.033Z"
   },
   {
    "duration": 7,
    "start_time": "2022-06-15T21:14:48.043Z"
   },
   {
    "duration": 3,
    "start_time": "2022-06-15T21:14:48.052Z"
   },
   {
    "duration": 42,
    "start_time": "2022-06-15T21:14:48.056Z"
   },
   {
    "duration": 9,
    "start_time": "2022-06-15T21:14:48.101Z"
   },
   {
    "duration": 16,
    "start_time": "2022-06-15T21:14:48.112Z"
   },
   {
    "duration": 9,
    "start_time": "2022-06-15T21:14:48.129Z"
   },
   {
    "duration": 9,
    "start_time": "2022-06-15T21:14:48.139Z"
   },
   {
    "duration": 5,
    "start_time": "2022-06-15T21:14:48.149Z"
   },
   {
    "duration": 7,
    "start_time": "2022-06-15T21:14:48.155Z"
   },
   {
    "duration": 29,
    "start_time": "2022-06-15T21:14:48.163Z"
   }
  ],
  "colab": {
   "collapsed_sections": [
    "E0vqbgi9ay0H",
    "VUC88oWjTJw2"
   ],
   "name": "yandex_music_project_2021.2.ipynb",
   "provenance": []
  },
  "kernelspec": {
   "display_name": "Python 3 (ipykernel)",
   "language": "python",
   "name": "python3"
  },
  "language_info": {
   "codemirror_mode": {
    "name": "ipython",
    "version": 3
   },
   "file_extension": ".py",
   "mimetype": "text/x-python",
   "name": "python",
   "nbconvert_exporter": "python",
   "pygments_lexer": "ipython3",
   "version": "3.9.5"
  },
  "toc": {
   "base_numbering": 1,
   "nav_menu": {},
   "number_sections": true,
   "sideBar": true,
   "skip_h1_title": true,
   "title_cell": "Table of Contents",
   "title_sidebar": "Contents",
   "toc_cell": false,
   "toc_position": {
    "height": "calc(100% - 180px)",
    "left": "10px",
    "top": "150px",
    "width": "213px"
   },
   "toc_section_display": true,
   "toc_window_display": true
  }
 },
 "nbformat": 4,
 "nbformat_minor": 1
}
