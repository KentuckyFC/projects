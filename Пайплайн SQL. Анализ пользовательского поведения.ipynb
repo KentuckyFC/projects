{
 "cells": [
  {
   "cell_type": "markdown",
   "id": "fafa1cde",
   "metadata": {},
   "source": [
    "## Анализ пользовательского поведения в мобильном приложении"
   ]
  },
  {
   "cell_type": "markdown",
   "id": "cf6978b4",
   "metadata": {},
   "source": [
    "В данном проекте были изучены принципы событийной аналитики. Мы строим воронку продаж, исследуем путь пользователей до покупки. Проанализировали результаты A/B-теста введения новых шрифтов. Сравнили 2 контрольных группы между собой, убедились в правильном разделении трафика, а затем сравнили с тестовой группой\n",
    "\n",
    "Выявлено, что новый шрифт значительно не повлияет на поведение пользователей."
   ]
  },
  {
   "cell_type": "markdown",
   "id": "9e2c25b8",
   "metadata": {},
   "source": [
    "На основе данных использования мобильного приложения для продажи продуктов питания проанализировали воронку продаж, а также оценили результаты A/B-тестирования"
   ]
  },
  {
   "cell_type": "code",
   "execution_count": 2,
   "id": "2b0b0b03",
   "metadata": {
    "tags": [
     "aa81075c-062f-4de0-b5fe-14c73dc7468e"
    ]
   },
   "outputs": [],
   "source": [
    "import pandas as pd\n",
    "import numpy as np\n",
    "from sqlalchemy import create_engine"
   ]
  },
  {
   "cell_type": "code",
   "execution_count": 3,
   "id": "afccc0fa",
   "metadata": {},
   "outputs": [],
   "source": [
    "path_to_db = '/datasets/telecomm_csi.db'\n",
    "engine = create_engine(f'sqlite:///{path_to_db}', echo = False)"
   ]
  },
  {
   "cell_type": "code",
   "execution_count": 4,
   "id": "d55609e0",
   "metadata": {},
   "outputs": [],
   "source": [
    "query = '''\n",
    "WITH \n",
    "c AS (\n",
    "SELECT user_id,   (CASE\n",
    "                      WHEN nps_score <= 6 THEN \"detractors\"\n",
    "                      WHEN nps_score > 6 and nps_score <= 8 THEN \"passives\"\n",
    "                     WHEN nps_score > 8 THEN \"promoters\"\n",
    "                 END) AS nps_group,\n",
    " \n",
    "                  (CASE\n",
    "                     WHEN gender_segment = 0 THEN \"мужской\"\n",
    "                     WHEN gender_segment = 1 THEN \"женский\"\n",
    "                 END) AS gender\n",
    "           FROM user\n",
    "            ),\n",
    " \n",
    "i AS (\n",
    "select us.user_id,  \n",
    "us.lt_day,\n",
    "us.lt_day <= 365 as is_new ,\n",
    "us.age,\n",
    "us.gender_segment,\n",
    "us.os_name,\n",
    "us.cpe_type_name,\n",
    "lo.country,\n",
    "lo.city,\n",
    "ags.title as age_segment ,\n",
    "ts.title as traffic_segment ,\n",
    "ls.title as lifetime_segment \n",
    ",\n",
    "us.nps_score,\n",
    "us.nps_score \n",
    "from user as us\n",
    "LEFT JOIN location AS lo  ON us.location_id=lo.location_id\n",
    "LEFT JOIN age_segment AS ags  ON us.age_gr_id=ags.age_gr_id\n",
    "LEFT JOIN traffic_segment AS ts  ON us.tr_gr_id=ts.tr_gr_id\n",
    "LEFT JOIN lifetime_segment AS ls  ON us.lt_gr_id=ls.lt_gr_id\n",
    ")\n",
    " \n",
    " \n",
    "select i.user_id,  \n",
    "i.lt_day,\n",
    "i.is_new,\n",
    "i.age,\n",
    "c.gender,\n",
    "i.os_name,\n",
    "i.cpe_type_name,\n",
    "i.country,\n",
    "i.city,\n",
    "i.age_segment,\n",
    "i.traffic_segment,\n",
    "i.lifetime_segment,\n",
    "i.nps_score,\n",
    "c.nps_group\n",
    " \n",
    " from c INNER JOIN i ON c.user_id = i.user_id\n",
    " \n",
    "            '''"
   ]
  },
  {
   "cell_type": "code",
   "execution_count": 5,
   "id": "7b21fdd0",
   "metadata": {},
   "outputs": [
    {
     "data": {
      "text/html": [
       "<div>\n",
       "<style scoped>\n",
       "    .dataframe tbody tr th:only-of-type {\n",
       "        vertical-align: middle;\n",
       "    }\n",
       "\n",
       "    .dataframe tbody tr th {\n",
       "        vertical-align: top;\n",
       "    }\n",
       "\n",
       "    .dataframe thead th {\n",
       "        text-align: right;\n",
       "    }\n",
       "</style>\n",
       "<table border=\"1\" class=\"dataframe\">\n",
       "  <thead>\n",
       "    <tr style=\"text-align: right;\">\n",
       "      <th></th>\n",
       "      <th>user_id</th>\n",
       "      <th>lt_day</th>\n",
       "      <th>is_new</th>\n",
       "      <th>age</th>\n",
       "      <th>gender</th>\n",
       "      <th>os_name</th>\n",
       "      <th>cpe_type_name</th>\n",
       "      <th>country</th>\n",
       "      <th>city</th>\n",
       "      <th>age_segment</th>\n",
       "      <th>traffic_segment</th>\n",
       "      <th>lifetime_segment</th>\n",
       "      <th>nps_score</th>\n",
       "      <th>nps_group</th>\n",
       "    </tr>\n",
       "  </thead>\n",
       "  <tbody>\n",
       "    <tr>\n",
       "      <th>0</th>\n",
       "      <td>A001A2</td>\n",
       "      <td>2320</td>\n",
       "      <td>0</td>\n",
       "      <td>45.0</td>\n",
       "      <td>женский</td>\n",
       "      <td>ANDROID</td>\n",
       "      <td>SMARTPHONE</td>\n",
       "      <td>Россия</td>\n",
       "      <td>Уфа</td>\n",
       "      <td>05 45-54</td>\n",
       "      <td>04 1-5</td>\n",
       "      <td>08 36+</td>\n",
       "      <td>10</td>\n",
       "      <td>promoters</td>\n",
       "    </tr>\n",
       "    <tr>\n",
       "      <th>1</th>\n",
       "      <td>A001WF</td>\n",
       "      <td>2344</td>\n",
       "      <td>0</td>\n",
       "      <td>53.0</td>\n",
       "      <td>мужской</td>\n",
       "      <td>ANDROID</td>\n",
       "      <td>SMARTPHONE</td>\n",
       "      <td>Россия</td>\n",
       "      <td>Киров</td>\n",
       "      <td>05 45-54</td>\n",
       "      <td>04 1-5</td>\n",
       "      <td>08 36+</td>\n",
       "      <td>10</td>\n",
       "      <td>promoters</td>\n",
       "    </tr>\n",
       "    <tr>\n",
       "      <th>2</th>\n",
       "      <td>A003Q7</td>\n",
       "      <td>467</td>\n",
       "      <td>0</td>\n",
       "      <td>57.0</td>\n",
       "      <td>мужской</td>\n",
       "      <td>ANDROID</td>\n",
       "      <td>SMARTPHONE</td>\n",
       "      <td>Россия</td>\n",
       "      <td>Москва</td>\n",
       "      <td>06 55-64</td>\n",
       "      <td>08 20-25</td>\n",
       "      <td>06 13-24</td>\n",
       "      <td>10</td>\n",
       "      <td>promoters</td>\n",
       "    </tr>\n",
       "    <tr>\n",
       "      <th>3</th>\n",
       "      <td>A004TB</td>\n",
       "      <td>4190</td>\n",
       "      <td>0</td>\n",
       "      <td>44.0</td>\n",
       "      <td>женский</td>\n",
       "      <td>IOS</td>\n",
       "      <td>SMARTPHONE</td>\n",
       "      <td>Россия</td>\n",
       "      <td>РостовнаДону</td>\n",
       "      <td>04 35-44</td>\n",
       "      <td>03 0.1-1</td>\n",
       "      <td>08 36+</td>\n",
       "      <td>10</td>\n",
       "      <td>promoters</td>\n",
       "    </tr>\n",
       "    <tr>\n",
       "      <th>4</th>\n",
       "      <td>A004XT</td>\n",
       "      <td>1163</td>\n",
       "      <td>0</td>\n",
       "      <td>24.0</td>\n",
       "      <td>мужской</td>\n",
       "      <td>ANDROID</td>\n",
       "      <td>SMARTPHONE</td>\n",
       "      <td>Россия</td>\n",
       "      <td>Рязань</td>\n",
       "      <td>02 16-24</td>\n",
       "      <td>05 5-10</td>\n",
       "      <td>08 36+</td>\n",
       "      <td>10</td>\n",
       "      <td>promoters</td>\n",
       "    </tr>\n",
       "  </tbody>\n",
       "</table>\n",
       "</div>"
      ],
      "text/plain": [
       "  user_id  lt_day  is_new   age   gender  os_name cpe_type_name country  \\\n",
       "0  A001A2    2320       0  45.0  женский  ANDROID    SMARTPHONE  Россия   \n",
       "1  A001WF    2344       0  53.0  мужской  ANDROID    SMARTPHONE  Россия   \n",
       "2  A003Q7     467       0  57.0  мужской  ANDROID    SMARTPHONE  Россия   \n",
       "3  A004TB    4190       0  44.0  женский      IOS    SMARTPHONE  Россия   \n",
       "4  A004XT    1163       0  24.0  мужской  ANDROID    SMARTPHONE  Россия   \n",
       "\n",
       "           city age_segment traffic_segment lifetime_segment  nps_score  \\\n",
       "0           Уфа    05 45-54          04 1-5           08 36+         10   \n",
       "1         Киров    05 45-54          04 1-5           08 36+         10   \n",
       "2        Москва    06 55-64        08 20-25         06 13-24         10   \n",
       "3  РостовнаДону    04 35-44        03 0.1-1           08 36+         10   \n",
       "4        Рязань    02 16-24         05 5-10           08 36+         10   \n",
       "\n",
       "   nps_group  \n",
       "0  promoters  \n",
       "1  promoters  \n",
       "2  promoters  \n",
       "3  promoters  \n",
       "4  promoters  "
      ]
     },
     "execution_count": 5,
     "metadata": {},
     "output_type": "execute_result"
    }
   ],
   "source": [
    "df = pd.read_sql(query, engine)\n",
    "df.head()"
   ]
  },
  {
   "cell_type": "code",
   "execution_count": 6,
   "id": "1c96a2c1",
   "metadata": {},
   "outputs": [],
   "source": [
    "df.to_csv('telecomm_csi_tableau.csv', index=False)"
   ]
  },
  {
   "cell_type": "markdown",
   "id": "b26d14f5",
   "metadata": {},
   "source": [
    "### Ссылка на pdf-файл с презентацией:"
   ]
  },
  {
   "cell_type": "markdown",
   "id": "6b02819f",
   "metadata": {},
   "source": [
    "https://disk.yandex.ru/i/40iXWl2dWyosQA"
   ]
  },
  {
   "cell_type": "code",
   "execution_count": 7,
   "id": "01727257",
   "metadata": {},
   "outputs": [
    {
     "data": {
      "text/html": [
       "<div>\n",
       "<style scoped>\n",
       "    .dataframe tbody tr th:only-of-type {\n",
       "        vertical-align: middle;\n",
       "    }\n",
       "\n",
       "    .dataframe tbody tr th {\n",
       "        vertical-align: top;\n",
       "    }\n",
       "\n",
       "    .dataframe thead th {\n",
       "        text-align: right;\n",
       "    }\n",
       "</style>\n",
       "<table border=\"1\" class=\"dataframe\">\n",
       "  <thead>\n",
       "    <tr style=\"text-align: right;\">\n",
       "      <th></th>\n",
       "      <th>age_segment</th>\n",
       "      <th>01 до 16</th>\n",
       "      <th>02 16-24</th>\n",
       "      <th>03 25-34</th>\n",
       "      <th>04 35-44</th>\n",
       "      <th>05 45-54</th>\n",
       "      <th>06 55-64</th>\n",
       "      <th>07 66 +</th>\n",
       "      <th>08 n/a</th>\n",
       "    </tr>\n",
       "    <tr>\n",
       "      <th>is_new</th>\n",
       "      <th>gender</th>\n",
       "      <th></th>\n",
       "      <th></th>\n",
       "      <th></th>\n",
       "      <th></th>\n",
       "      <th></th>\n",
       "      <th></th>\n",
       "      <th></th>\n",
       "      <th></th>\n",
       "    </tr>\n",
       "  </thead>\n",
       "  <tbody>\n",
       "    <tr>\n",
       "      <th rowspan=\"2\" valign=\"top\">0</th>\n",
       "      <th>женский</th>\n",
       "      <td>-0.030651</td>\n",
       "      <td>0.001719</td>\n",
       "      <td>0.084923</td>\n",
       "      <td>0.213887</td>\n",
       "      <td>0.327369</td>\n",
       "      <td>0.439379</td>\n",
       "      <td>0.543689</td>\n",
       "      <td>-0.166667</td>\n",
       "    </tr>\n",
       "    <tr>\n",
       "      <th>мужской</th>\n",
       "      <td>-0.150183</td>\n",
       "      <td>-0.027697</td>\n",
       "      <td>0.028052</td>\n",
       "      <td>0.158118</td>\n",
       "      <td>0.262021</td>\n",
       "      <td>0.358026</td>\n",
       "      <td>0.435383</td>\n",
       "      <td>-0.555556</td>\n",
       "    </tr>\n",
       "    <tr>\n",
       "      <th rowspan=\"2\" valign=\"top\">1</th>\n",
       "      <th>женский</th>\n",
       "      <td>0.222222</td>\n",
       "      <td>0.216469</td>\n",
       "      <td>0.309779</td>\n",
       "      <td>0.420068</td>\n",
       "      <td>0.514749</td>\n",
       "      <td>0.587825</td>\n",
       "      <td>0.598240</td>\n",
       "      <td>1.000000</td>\n",
       "    </tr>\n",
       "    <tr>\n",
       "      <th>мужской</th>\n",
       "      <td>0.058140</td>\n",
       "      <td>0.193298</td>\n",
       "      <td>0.261561</td>\n",
       "      <td>0.373902</td>\n",
       "      <td>0.455968</td>\n",
       "      <td>0.495995</td>\n",
       "      <td>0.577167</td>\n",
       "      <td>-0.714286</td>\n",
       "    </tr>\n",
       "  </tbody>\n",
       "</table>\n",
       "</div>"
      ],
      "text/plain": [
       "age_segment     01 до 16  02 16-24  03 25-34  04 35-44  05 45-54  06 55-64  \\\n",
       "is_new gender                                                                \n",
       "0      женский -0.030651  0.001719  0.084923  0.213887  0.327369  0.439379   \n",
       "       мужской -0.150183 -0.027697  0.028052  0.158118  0.262021  0.358026   \n",
       "1      женский  0.222222  0.216469  0.309779  0.420068  0.514749  0.587825   \n",
       "       мужской  0.058140  0.193298  0.261561  0.373902  0.455968  0.495995   \n",
       "\n",
       "age_segment      07 66 +    08 n/a  \n",
       "is_new gender                       \n",
       "0      женский  0.543689 -0.166667  \n",
       "       мужской  0.435383 -0.555556  \n",
       "1      женский  0.598240  1.000000  \n",
       "       мужской  0.577167 -0.714286  "
      ]
     },
     "metadata": {},
     "output_type": "display_data"
    },
    {
     "name": "stdout",
     "output_type": "stream",
     "text": [
      "Total_nps: 21.9%\n"
     ]
    }
   ],
   "source": [
    "#NPS\n",
    "d = df.assign(total_nps=lambda row: row['nps_group'].map({'promoters': 1, 'passives': 0, 'detractors': -1}))\\\n",
    "  .pivot_table(index=['is_new', 'gender'], columns='age_segment', values='total_nps', aggfunc='mean')\n",
    "\n",
    "display(d)\n",
    "\n",
    "total_nps = df.assign(total_nps=lambda row: row['nps_group'].map({'promoters': 1, 'passives': 0, 'detractors': -1}))\\\n",
    "  ['total_nps'].mean()\n",
    "print(f\"Total_nps: {total_nps:.1%}\")"
   ]
  }
 ],
 "metadata": {
  "ExecuteTimeLog": [
   {
    "duration": 752,
    "start_time": "2021-10-03T17:40:52.731Z"
   },
   {
    "duration": 20,
    "start_time": "2021-10-03T17:40:53.486Z"
   },
   {
    "duration": 4,
    "start_time": "2021-10-03T17:41:04.638Z"
   },
   {
    "duration": 461,
    "start_time": "2021-10-03T17:41:04.912Z"
   },
   {
    "duration": 284,
    "start_time": "2021-10-03T17:41:05.376Z"
   },
   {
    "duration": 574,
    "start_time": "2021-10-06T07:55:05.029Z"
   },
   {
    "duration": 6,
    "start_time": "2021-10-06T07:55:05.605Z"
   },
   {
    "duration": 3,
    "start_time": "2021-10-06T07:55:14.685Z"
   },
   {
    "duration": 406,
    "start_time": "2021-10-06T07:55:15.522Z"
   },
   {
    "duration": 67,
    "start_time": "2021-10-06T07:55:15.929Z"
   },
   {
    "duration": 840,
    "start_time": "2021-10-07T07:54:04.647Z"
   },
   {
    "duration": 10,
    "start_time": "2021-10-07T07:54:05.490Z"
   },
   {
    "duration": 4,
    "start_time": "2021-10-07T07:54:05.544Z"
   },
   {
    "duration": 391,
    "start_time": "2021-10-07T07:54:06.237Z"
   },
   {
    "duration": 293,
    "start_time": "2021-10-07T07:54:06.654Z"
   },
   {
    "duration": 825,
    "start_time": "2022-03-05T15:01:16.659Z"
   },
   {
    "duration": 11,
    "start_time": "2022-03-05T15:01:17.487Z"
   },
   {
    "duration": 4,
    "start_time": "2022-03-05T15:01:17.501Z"
   },
   {
    "duration": 7185,
    "start_time": "2022-03-05T15:01:17.508Z"
   },
   {
    "duration": 11094,
    "start_time": "2022-03-05T15:01:24.695Z"
   },
   {
    "duration": 856,
    "start_time": "2022-03-09T04:50:37.223Z"
   },
   {
    "duration": 21,
    "start_time": "2022-03-09T04:50:38.081Z"
   },
   {
    "duration": 4,
    "start_time": "2022-03-09T04:50:38.105Z"
   },
   {
    "duration": 10075,
    "start_time": "2022-03-09T04:50:38.112Z"
   },
   {
    "duration": 11049,
    "start_time": "2022-03-09T04:50:48.189Z"
   },
   {
    "duration": 8460,
    "start_time": "2022-03-09T04:59:15.535Z"
   },
   {
    "duration": 9310,
    "start_time": "2022-03-09T04:59:28.361Z"
   },
   {
    "duration": 840,
    "start_time": "2022-03-09T04:59:56.865Z"
   },
   {
    "duration": 1282,
    "start_time": "2022-03-09T05:00:31.519Z"
   },
   {
    "duration": 1413,
    "start_time": "2022-03-09T05:06:41.623Z"
   },
   {
    "duration": 779,
    "start_time": "2022-03-09T09:37:46.372Z"
   },
   {
    "duration": 11,
    "start_time": "2022-03-09T09:37:47.154Z"
   },
   {
    "duration": 4,
    "start_time": "2022-03-09T09:37:47.168Z"
   },
   {
    "duration": 7231,
    "start_time": "2022-03-09T09:37:47.175Z"
   },
   {
    "duration": 8096,
    "start_time": "2022-03-09T09:37:54.408Z"
   },
   {
    "duration": 763,
    "start_time": "2022-03-09T09:38:02.507Z"
   },
   {
    "duration": 3,
    "start_time": "2022-03-09T09:51:24.142Z"
   },
   {
    "duration": 8,
    "start_time": "2022-03-09T09:51:24.148Z"
   },
   {
    "duration": 10,
    "start_time": "2022-03-09T09:51:24.159Z"
   },
   {
    "duration": 6933,
    "start_time": "2022-03-09T09:51:24.172Z"
   },
   {
    "duration": 10456,
    "start_time": "2022-03-09T09:51:31.107Z"
   },
   {
    "duration": 633,
    "start_time": "2022-03-09T09:51:41.566Z"
   },
   {
    "duration": 73,
    "start_time": "2022-03-09T12:01:29.096Z"
   },
   {
    "duration": 869,
    "start_time": "2022-03-09T14:27:37.496Z"
   },
   {
    "duration": 10,
    "start_time": "2022-03-09T14:27:38.367Z"
   },
   {
    "duration": 4,
    "start_time": "2022-03-09T14:27:38.380Z"
   },
   {
    "duration": 7357,
    "start_time": "2022-03-09T14:27:38.386Z"
   },
   {
    "duration": 7845,
    "start_time": "2022-03-09T14:27:45.745Z"
   },
   {
    "duration": 786,
    "start_time": "2022-03-09T14:27:53.593Z"
   },
   {
    "duration": 587,
    "start_time": "2022-03-10T04:36:18.060Z"
   },
   {
    "duration": 6,
    "start_time": "2022-03-10T04:36:18.649Z"
   },
   {
    "duration": 3,
    "start_time": "2022-03-10T04:36:18.657Z"
   },
   {
    "duration": 4832,
    "start_time": "2022-03-10T04:36:18.661Z"
   },
   {
    "duration": 4292,
    "start_time": "2022-03-10T04:36:23.495Z"
   },
   {
    "duration": 552,
    "start_time": "2022-03-10T04:36:27.790Z"
   },
   {
    "duration": 1026,
    "start_time": "2022-03-10T04:37:47.451Z"
   },
   {
    "duration": 798,
    "start_time": "2022-03-11T03:20:47.169Z"
   },
   {
    "duration": 13,
    "start_time": "2022-03-11T03:20:47.970Z"
   },
   {
    "duration": 5,
    "start_time": "2022-03-11T03:20:47.986Z"
   },
   {
    "duration": 7570,
    "start_time": "2022-03-11T03:20:47.994Z"
   },
   {
    "duration": 7621,
    "start_time": "2022-03-11T03:20:55.567Z"
   },
   {
    "duration": 1319,
    "start_time": "2022-03-11T03:21:03.190Z"
   },
   {
    "duration": 8,
    "start_time": "2022-06-16T00:03:07.767Z"
   },
   {
    "duration": 0,
    "start_time": "2022-06-16T00:03:07.777Z"
   },
   {
    "duration": 0,
    "start_time": "2022-06-16T00:03:07.778Z"
   },
   {
    "duration": 0,
    "start_time": "2022-06-16T00:03:07.779Z"
   },
   {
    "duration": 0,
    "start_time": "2022-06-16T00:03:07.780Z"
   },
   {
    "duration": 0,
    "start_time": "2022-06-16T00:03:07.781Z"
   },
   {
    "duration": 0,
    "start_time": "2022-06-16T00:03:07.782Z"
   },
   {
    "duration": 443,
    "start_time": "2022-06-16T00:03:19.017Z"
   },
   {
    "duration": 19,
    "start_time": "2022-06-16T00:03:19.462Z"
   },
   {
    "duration": 3,
    "start_time": "2022-06-16T00:03:19.482Z"
   },
   {
    "duration": 5745,
    "start_time": "2022-06-16T00:03:19.486Z"
   },
   {
    "duration": 3341,
    "start_time": "2022-06-16T00:03:25.233Z"
   },
   {
    "duration": 926,
    "start_time": "2022-06-16T00:03:28.576Z"
   }
  ],
  "kernelspec": {
   "display_name": "Python 3 (ipykernel)",
   "language": "python",
   "name": "python3"
  },
  "language_info": {
   "codemirror_mode": {
    "name": "ipython",
    "version": 3
   },
   "file_extension": ".py",
   "mimetype": "text/x-python",
   "name": "python",
   "nbconvert_exporter": "python",
   "pygments_lexer": "ipython3",
   "version": "3.9.5"
  },
  "toc": {
   "base_numbering": 1,
   "nav_menu": {},
   "number_sections": true,
   "sideBar": true,
   "skip_h1_title": true,
   "title_cell": "Table of Contents",
   "title_sidebar": "Contents",
   "toc_cell": false,
   "toc_position": {},
   "toc_section_display": true,
   "toc_window_display": false
  }
 },
 "nbformat": 4,
 "nbformat_minor": 5
}
