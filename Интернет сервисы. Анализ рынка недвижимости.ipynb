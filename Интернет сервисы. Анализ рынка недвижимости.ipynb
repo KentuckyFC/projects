{
 "cells": [
  {
   "cell_type": "markdown",
   "metadata": {
    "toc": true
   },
   "source": [
    "<h1>Содержание<span class=\"tocSkip\"></span></h1>\n",
    "<div class=\"toc\"><ul class=\"toc-item\"><li><span><a href=\"#Изучение-данных-из-файла\" data-toc-modified-id=\"Изучение-данных-из-файла-1\"><span class=\"toc-item-num\">1&nbsp;&nbsp;</span>Изучение данных из файла</a></span></li><li><span><a href=\"#Предобработка-данных\" data-toc-modified-id=\"Предобработка-данных-2\"><span class=\"toc-item-num\">2&nbsp;&nbsp;</span>Предобработка данных</a></span></li><li><span><a href=\"#Расчёты-и-добавление-результатов-в-таблицу\" data-toc-modified-id=\"Расчёты-и-добавление-результатов-в-таблицу-3\"><span class=\"toc-item-num\">3&nbsp;&nbsp;</span>Расчёты и добавление результатов в таблицу</a></span></li><li><span><a href=\"#Исследовательский-анализ-данных\" data-toc-modified-id=\"Исследовательский-анализ-данных-4\"><span class=\"toc-item-num\">4&nbsp;&nbsp;</span>Исследовательский анализ данных</a></span><ul class=\"toc-item\"><li><span><a href=\"#изучение-общей-площади\" data-toc-modified-id=\"изучение-общей-площади-4.1\"><span class=\"toc-item-num\">4.1&nbsp;&nbsp;</span>изучение общей площади</a></span></li><li><span><a href=\"#изучение-цен\" data-toc-modified-id=\"изучение-цен-4.2\"><span class=\"toc-item-num\">4.2&nbsp;&nbsp;</span>изучение цен</a></span></li><li><span><a href=\"#изучение-числа-комнат\" data-toc-modified-id=\"изучение-числа-комнат-4.3\"><span class=\"toc-item-num\">4.3&nbsp;&nbsp;</span>изучение числа комнат</a></span></li><li><span><a href=\"#изучение-высоты-потолков\" data-toc-modified-id=\"изучение-высоты-потолков-4.4\"><span class=\"toc-item-num\">4.4&nbsp;&nbsp;</span>изучение высоты потолков</a></span></li><li><span><a href=\"#Изучение-времени-продажи-квартиры.\" data-toc-modified-id=\"Изучение-времени-продажи-квартиры.-4.5\"><span class=\"toc-item-num\">4.5&nbsp;&nbsp;</span>Изучение времени продажи квартиры.</a></span></li></ul></li><li><span><a href=\"#Анализ-данных\" data-toc-modified-id=\"Анализ-данных-5\"><span class=\"toc-item-num\">5&nbsp;&nbsp;</span>Анализ данных</a></span><ul class=\"toc-item\"><li><span><a href=\"#Выбросы-и-аномалии\" data-toc-modified-id=\"Выбросы-и-аномалии-5.1\"><span class=\"toc-item-num\">5.1&nbsp;&nbsp;</span>Выбросы и аномалии</a></span></li><li><span><a href=\"#Факторы-больше-всего-влияющие-на-стоимость-квартиры?\" data-toc-modified-id=\"Факторы-больше-всего-влияющие-на-стоимость-квартиры?-5.2\"><span class=\"toc-item-num\">5.2&nbsp;&nbsp;</span>Факторы больше всего влияющие на стоимость квартиры?</a></span><ul class=\"toc-item\"><li><span><a href=\"#зависимость-цены-квадратного-метра-от-общей-площади-квартиры\" data-toc-modified-id=\"зависимость-цены-квадратного-метра-от-общей-площади-квартиры-5.2.1\"><span class=\"toc-item-num\">5.2.1&nbsp;&nbsp;</span>зависимость цены квадратного метра от общей площади квартиры</a></span></li><li><span><a href=\"#зависимость-цены-квадратного-метра-от-числа-комнат\" data-toc-modified-id=\"зависимость-цены-квадратного-метра-от-числа-комнат-5.2.2\"><span class=\"toc-item-num\">5.2.2&nbsp;&nbsp;</span>зависимость цены квадратного метра от числа комнат</a></span></li><li><span><a href=\"#зависимость-цены-квадратного-метра-от-этажа-(первого-или-последнего)\" data-toc-modified-id=\"зависимость-цены-квадратного-метра-от-этажа-(первого-или-последнего)-5.2.3\"><span class=\"toc-item-num\">5.2.3&nbsp;&nbsp;</span>зависимость цены квадратного метра от этажа (первого или последнего)</a></span></li><li><span><a href=\"#зависимость-цены-квадратного-метра-от-удалённости-от-центра\" data-toc-modified-id=\"зависимость-цены-квадратного-метра-от-удалённости-от-центра-5.2.4\"><span class=\"toc-item-num\">5.2.4&nbsp;&nbsp;</span>зависимость цены квадратного метра от удалённости от центра</a></span></li><li><span><a href=\"#зависимость-цены-квадратного-метра-от-даты-размещения:-дня-недели.\" data-toc-modified-id=\"зависимость-цены-квадратного-метра-от-даты-размещения:-дня-недели.-5.2.5\"><span class=\"toc-item-num\">5.2.5&nbsp;&nbsp;</span>зависимость цены квадратного метра от даты размещения: дня недели.</a></span></li><li><span><a href=\"#зависимость-цены-квадратного-метра-от-даты-размещения:-месяца.\" data-toc-modified-id=\"зависимость-цены-квадратного-метра-от-даты-размещения:-месяца.-5.2.6\"><span class=\"toc-item-num\">5.2.6&nbsp;&nbsp;</span>зависимость цены квадратного метра от даты размещения: месяца.</a></span></li><li><span><a href=\"#зависимость-цены-квадратного-метра-от-даты-размещения:-года.\" data-toc-modified-id=\"зависимость-цены-квадратного-метра-от-даты-размещения:-года.-5.2.7\"><span class=\"toc-item-num\">5.2.7&nbsp;&nbsp;</span>зависимость цены квадратного метра от даты размещения: года.</a></span></li></ul></li><li><span><a href=\"#10-населённых-пунктов-с-наибольшим-числом-объявлений\" data-toc-modified-id=\"10-населённых-пунктов-с-наибольшим-числом-объявлений-5.3\"><span class=\"toc-item-num\">5.3&nbsp;&nbsp;</span>10 населённых пунктов с наибольшим числом объявлений</a></span></li><li><span><a href=\"#Предложения-квартир-по-расстоянию-до-центра.\" data-toc-modified-id=\"Предложения-квартир-по-расстоянию-до-центра.-5.4\"><span class=\"toc-item-num\">5.4&nbsp;&nbsp;</span>Предложения квартир по расстоянию до центра.</a></span></li><li><span><a href=\"#cегментация-квартир-в-центре.\" data-toc-modified-id=\"cегментация-квартир-в-центре.-5.5\"><span class=\"toc-item-num\">5.5&nbsp;&nbsp;</span>cегментация квартир в центре.</a></span><ul class=\"toc-item\"><li><span><a href=\"#зависимость-стоимости-квадратного-метра-от-количества-комнат-квартир-в-центре.\" data-toc-modified-id=\"зависимость-стоимости-квадратного-метра-от-количества-комнат-квартир-в-центре.-5.5.1\"><span class=\"toc-item-num\">5.5.1&nbsp;&nbsp;</span>зависимость стоимости квадратного метра от количества комнат квартир в центре.</a></span></li><li><span><a href=\"#Зависимость-стоимости-квадратного-метра-от-этажа-квартир-в-центре.\" data-toc-modified-id=\"Зависимость-стоимости-квадратного-метра-от-этажа-квартир-в-центре.-5.5.2\"><span class=\"toc-item-num\">5.5.2&nbsp;&nbsp;</span>Зависимость стоимости квадратного метра от этажа квартир в центре.</a></span></li><li><span><a href=\"#Зависимость-стоимости-квадратного-метра-от-от-удаленности-от-центра-в-радиусе-6-км\" data-toc-modified-id=\"Зависимость-стоимости-квадратного-метра-от-от-удаленности-от-центра-в-радиусе-6-км-5.5.3\"><span class=\"toc-item-num\">5.5.3&nbsp;&nbsp;</span>Зависимость стоимости квадратного метра от от удаленности от центра в радиусе 6 км</a></span></li><li><span><a href=\"#Зависимость-стоимости-квадратного-метра-от-дня-недели-размещения-объявления-квартир-в-центре\" data-toc-modified-id=\"Зависимость-стоимости-квадратного-метра-от-дня-недели-размещения-объявления-квартир-в-центре-5.5.4\"><span class=\"toc-item-num\">5.5.4&nbsp;&nbsp;</span>Зависимость стоимости квадратного метра от дня недели размещения объявления квартир в центре</a></span></li><li><span><a href=\"#Зависимость-стоимости-квадратного-метра-от-месяца-размещения-объявления-квартир-в-центре\" data-toc-modified-id=\"Зависимость-стоимости-квадратного-метра-от-месяца-размещения-объявления-квартир-в-центре-5.5.5\"><span class=\"toc-item-num\">5.5.5&nbsp;&nbsp;</span>Зависимость стоимости квадратного метра от месяца размещения объявления квартир в центре</a></span></li><li><span><a href=\"#Зависимость-стоимости-квадратного-метра-от-года-размещения-объявления-квартир-в-центре\" data-toc-modified-id=\"Зависимость-стоимости-квадратного-метра-от-года-размещения-объявления-квартир-в-центре-5.5.6\"><span class=\"toc-item-num\">5.5.6&nbsp;&nbsp;</span>Зависимость стоимости квадратного метра от года размещения объявления квартир в центре</a></span></li></ul></li></ul></li><li><span><a href=\"#Общий-вывод\" data-toc-modified-id=\"Общий-вывод-6\"><span class=\"toc-item-num\">6&nbsp;&nbsp;</span>Общий вывод</a></span></li></ul></div>"
   ]
  },
  {
   "cell_type": "markdown",
   "metadata": {},
   "source": [
    "# Интернет - сервисы. Анализ рынка недвижимости\n",
    "\n",
    "В вашем распоряжении архив объявлений о продаже квартир в Санкт-Петербурге и соседних населённых пунктах за несколько лет. \n",
    "\n",
    "**Задача**\n",
    "\n",
    "Определить рыночную стоимость объектов недвижимости. Установить параметры, позволившие построить автоматизированную систему: она отследит аномалии и мошенническую деятельность. \n",
    "\n",
    "**Данные**\n",
    "\n",
    "По каждой квартире на продажу доступны два вида данных. Первые вписаны пользователем, вторые получены автоматически на основе картографических данных. Например, расстояние до центра, аэропорта, ближайшего парка и водоёма. "
   ]
  },
  {
   "cell_type": "markdown",
   "metadata": {},
   "source": [
    "## Изучение данных из файла"
   ]
  },
  {
   "cell_type": "code",
   "execution_count": 55,
   "metadata": {},
   "outputs": [
    {
     "name": "stdout",
     "output_type": "stream",
     "text": [
      "<class 'pandas.core.frame.DataFrame'>\n",
      "RangeIndex: 23699 entries, 0 to 23698\n",
      "Data columns (total 22 columns):\n",
      " #   Column                Non-Null Count  Dtype  \n",
      "---  ------                --------------  -----  \n",
      " 0   total_images          23699 non-null  int64  \n",
      " 1   last_price            23699 non-null  float64\n",
      " 2   total_area            23699 non-null  float64\n",
      " 3   first_day_exposition  23699 non-null  object \n",
      " 4   rooms                 23699 non-null  int64  \n",
      " 5   ceiling_height        14504 non-null  float64\n",
      " 6   floors_total          23613 non-null  float64\n",
      " 7   living_area           21796 non-null  float64\n",
      " 8   floor                 23699 non-null  int64  \n",
      " 9   is_apartment          2775 non-null   object \n",
      " 10  studio                23699 non-null  bool   \n",
      " 11  open_plan             23699 non-null  bool   \n",
      " 12  kitchen_area          21421 non-null  float64\n",
      " 13  balcony               12180 non-null  float64\n",
      " 14  locality_name         23650 non-null  object \n",
      " 15  airports_nearest      18157 non-null  float64\n",
      " 16  cityCenters_nearest   18180 non-null  float64\n",
      " 17  parks_around3000      18181 non-null  float64\n",
      " 18  parks_nearest         8079 non-null   float64\n",
      " 19  ponds_around3000      18181 non-null  float64\n",
      " 20  ponds_nearest         9110 non-null   float64\n",
      " 21  days_exposition       20518 non-null  float64\n",
      "dtypes: bool(2), float64(14), int64(3), object(3)\n",
      "memory usage: 3.7+ MB\n"
     ]
    }
   ],
   "source": [
    "import pandas as pd\n",
    "data = pd.read_csv('/datasets/real_estate_data.csv', sep = '\\t')\n",
    "data.info()"
   ]
  },
  {
   "cell_type": "markdown",
   "metadata": {},
   "source": [
    "\n",
    "<div class=\"alert alert-info\">\n",
    "<b>Вывод</b> \n",
    "\n",
    "\n",
    "Видим что:\n",
    "    \n",
    "- first_day_exposition - object - вместо datetime\n",
    "- ceiling_height - нулевые значения\n",
    "- floors_total - должен быть тип int, т.к. количество этажей - целое значение + нулевые значения\n",
    "- is_apartment - должен быть тип bool + нулевые значения\n",
    "- living_area - нулевые значения\n",
    "- kitchen_area - нулевые значения\n",
    "- balcony - нулевые значения\n",
    "- locality_name - нулевые значения\n",
    "- airports_nearest - нулевые значения\n",
    "- cityCenters_nearest - нулевые значения\n",
    "- parks_around3000 - тип должен быть int + нулевые значения\n",
    "- parks_nearest - нулевые значения\n",
    "- ponds_around3000 - тип должен быть int + нулевые значения\n",
    "- ponds_nearest - нулевые значения\n",
    "- days_exposition - тип должен быть int + нулевые значения </b> "
   ]
  },
  {
   "cell_type": "markdown",
   "metadata": {},
   "source": [
    "<div class=\"alert alert-info\">\n",
    "<b>Доп. коммент </b> \n",
    "\n",
    "К теме замены типа данных в столбцах:\n",
    "- first_day_exposition переведем в формат datetime, так как именно этот формат позволит корректно работать с датой\n",
    "- floors_total - должен быть тип int, т.к. количество этажей - целое значение\n",
    "- is_apartment - должен быть тип bool, так как предполагается ответ True or False\n",
    "- parks_around3000 - тип должен быть int, так как парки исчисляются целыми числами\n",
    "- ponds_around3000 - тип должен быть int, так как водоемы исчисляются целыми числами\n",
    "- days_exposition - тип должен быть int, так как число дней от публикации до снятия - целое число\n",
    "\n",
    "Итог:\n",
    "- bool - булевы да/нет\n",
    "- float 64 - вещественное нецелое число, с запятой\n",
    "- int 64 - целое (целочислительное)число\n",
    "- object - строковое представление объекта\n",
    "    \n",
    "    \n",
    "    "
   ]
  },
  {
   "cell_type": "code",
   "execution_count": 56,
   "metadata": {},
   "outputs": [
    {
     "data": {
      "text/plain": [
       "0"
      ]
     },
     "execution_count": 56,
     "metadata": {},
     "output_type": "execute_result"
    }
   ],
   "source": [
    "data.duplicated().sum()"
   ]
  },
  {
   "cell_type": "markdown",
   "metadata": {},
   "source": [
    "## Предобработка данных"
   ]
  },
  {
   "cell_type": "code",
   "execution_count": 57,
   "metadata": {},
   "outputs": [
    {
     "data": {
      "text/html": [
       "<div>\n",
       "<style scoped>\n",
       "    .dataframe tbody tr th:only-of-type {\n",
       "        vertical-align: middle;\n",
       "    }\n",
       "\n",
       "    .dataframe tbody tr th {\n",
       "        vertical-align: top;\n",
       "    }\n",
       "\n",
       "    .dataframe thead th {\n",
       "        text-align: right;\n",
       "    }\n",
       "</style>\n",
       "<table border=\"1\" class=\"dataframe\">\n",
       "  <thead>\n",
       "    <tr style=\"text-align: right;\">\n",
       "      <th></th>\n",
       "      <th>total_images</th>\n",
       "      <th>last_price</th>\n",
       "      <th>total_area</th>\n",
       "      <th>first_day_exposition</th>\n",
       "      <th>rooms</th>\n",
       "      <th>ceiling_height</th>\n",
       "      <th>floors_total</th>\n",
       "      <th>living_area</th>\n",
       "      <th>floor</th>\n",
       "      <th>is_apartment</th>\n",
       "      <th>...</th>\n",
       "      <th>kitchen_area</th>\n",
       "      <th>balcony</th>\n",
       "      <th>locality_name</th>\n",
       "      <th>airports_nearest</th>\n",
       "      <th>cityCenters_nearest</th>\n",
       "      <th>parks_around3000</th>\n",
       "      <th>parks_nearest</th>\n",
       "      <th>ponds_around3000</th>\n",
       "      <th>ponds_nearest</th>\n",
       "      <th>days_exposition</th>\n",
       "    </tr>\n",
       "  </thead>\n",
       "  <tbody>\n",
       "    <tr>\n",
       "      <th>0</th>\n",
       "      <td>20</td>\n",
       "      <td>13000000.0</td>\n",
       "      <td>108.0</td>\n",
       "      <td>2019-03-07T00:00:00</td>\n",
       "      <td>3</td>\n",
       "      <td>2.70</td>\n",
       "      <td>16.0</td>\n",
       "      <td>51.0</td>\n",
       "      <td>8</td>\n",
       "      <td>NaN</td>\n",
       "      <td>...</td>\n",
       "      <td>25.0</td>\n",
       "      <td>NaN</td>\n",
       "      <td>Санкт-Петербург</td>\n",
       "      <td>18863.0</td>\n",
       "      <td>16028.0</td>\n",
       "      <td>1.0</td>\n",
       "      <td>482.0</td>\n",
       "      <td>2.0</td>\n",
       "      <td>755.0</td>\n",
       "      <td>NaN</td>\n",
       "    </tr>\n",
       "    <tr>\n",
       "      <th>1</th>\n",
       "      <td>7</td>\n",
       "      <td>3350000.0</td>\n",
       "      <td>40.4</td>\n",
       "      <td>2018-12-04T00:00:00</td>\n",
       "      <td>1</td>\n",
       "      <td>NaN</td>\n",
       "      <td>11.0</td>\n",
       "      <td>18.6</td>\n",
       "      <td>1</td>\n",
       "      <td>NaN</td>\n",
       "      <td>...</td>\n",
       "      <td>11.0</td>\n",
       "      <td>2.0</td>\n",
       "      <td>посёлок Шушары</td>\n",
       "      <td>12817.0</td>\n",
       "      <td>18603.0</td>\n",
       "      <td>0.0</td>\n",
       "      <td>NaN</td>\n",
       "      <td>0.0</td>\n",
       "      <td>NaN</td>\n",
       "      <td>81.0</td>\n",
       "    </tr>\n",
       "    <tr>\n",
       "      <th>2</th>\n",
       "      <td>10</td>\n",
       "      <td>5196000.0</td>\n",
       "      <td>56.0</td>\n",
       "      <td>2015-08-20T00:00:00</td>\n",
       "      <td>2</td>\n",
       "      <td>NaN</td>\n",
       "      <td>5.0</td>\n",
       "      <td>34.3</td>\n",
       "      <td>4</td>\n",
       "      <td>NaN</td>\n",
       "      <td>...</td>\n",
       "      <td>8.3</td>\n",
       "      <td>0.0</td>\n",
       "      <td>Санкт-Петербург</td>\n",
       "      <td>21741.0</td>\n",
       "      <td>13933.0</td>\n",
       "      <td>1.0</td>\n",
       "      <td>90.0</td>\n",
       "      <td>2.0</td>\n",
       "      <td>574.0</td>\n",
       "      <td>558.0</td>\n",
       "    </tr>\n",
       "    <tr>\n",
       "      <th>3</th>\n",
       "      <td>0</td>\n",
       "      <td>64900000.0</td>\n",
       "      <td>159.0</td>\n",
       "      <td>2015-07-24T00:00:00</td>\n",
       "      <td>3</td>\n",
       "      <td>NaN</td>\n",
       "      <td>14.0</td>\n",
       "      <td>NaN</td>\n",
       "      <td>9</td>\n",
       "      <td>NaN</td>\n",
       "      <td>...</td>\n",
       "      <td>NaN</td>\n",
       "      <td>0.0</td>\n",
       "      <td>Санкт-Петербург</td>\n",
       "      <td>28098.0</td>\n",
       "      <td>6800.0</td>\n",
       "      <td>2.0</td>\n",
       "      <td>84.0</td>\n",
       "      <td>3.0</td>\n",
       "      <td>234.0</td>\n",
       "      <td>424.0</td>\n",
       "    </tr>\n",
       "    <tr>\n",
       "      <th>4</th>\n",
       "      <td>2</td>\n",
       "      <td>10000000.0</td>\n",
       "      <td>100.0</td>\n",
       "      <td>2018-06-19T00:00:00</td>\n",
       "      <td>2</td>\n",
       "      <td>3.03</td>\n",
       "      <td>14.0</td>\n",
       "      <td>32.0</td>\n",
       "      <td>13</td>\n",
       "      <td>NaN</td>\n",
       "      <td>...</td>\n",
       "      <td>41.0</td>\n",
       "      <td>NaN</td>\n",
       "      <td>Санкт-Петербург</td>\n",
       "      <td>31856.0</td>\n",
       "      <td>8098.0</td>\n",
       "      <td>2.0</td>\n",
       "      <td>112.0</td>\n",
       "      <td>1.0</td>\n",
       "      <td>48.0</td>\n",
       "      <td>121.0</td>\n",
       "    </tr>\n",
       "  </tbody>\n",
       "</table>\n",
       "<p>5 rows × 22 columns</p>\n",
       "</div>"
      ],
      "text/plain": [
       "   total_images  last_price  total_area first_day_exposition  rooms  \\\n",
       "0            20  13000000.0       108.0  2019-03-07T00:00:00      3   \n",
       "1             7   3350000.0        40.4  2018-12-04T00:00:00      1   \n",
       "2            10   5196000.0        56.0  2015-08-20T00:00:00      2   \n",
       "3             0  64900000.0       159.0  2015-07-24T00:00:00      3   \n",
       "4             2  10000000.0       100.0  2018-06-19T00:00:00      2   \n",
       "\n",
       "   ceiling_height  floors_total  living_area  floor is_apartment  ...  \\\n",
       "0            2.70          16.0         51.0      8          NaN  ...   \n",
       "1             NaN          11.0         18.6      1          NaN  ...   \n",
       "2             NaN           5.0         34.3      4          NaN  ...   \n",
       "3             NaN          14.0          NaN      9          NaN  ...   \n",
       "4            3.03          14.0         32.0     13          NaN  ...   \n",
       "\n",
       "   kitchen_area  balcony    locality_name  airports_nearest  \\\n",
       "0          25.0      NaN  Санкт-Петербург           18863.0   \n",
       "1          11.0      2.0   посёлок Шушары           12817.0   \n",
       "2           8.3      0.0  Санкт-Петербург           21741.0   \n",
       "3           NaN      0.0  Санкт-Петербург           28098.0   \n",
       "4          41.0      NaN  Санкт-Петербург           31856.0   \n",
       "\n",
       "  cityCenters_nearest  parks_around3000  parks_nearest  ponds_around3000  \\\n",
       "0             16028.0               1.0          482.0               2.0   \n",
       "1             18603.0               0.0            NaN               0.0   \n",
       "2             13933.0               1.0           90.0               2.0   \n",
       "3              6800.0               2.0           84.0               3.0   \n",
       "4              8098.0               2.0          112.0               1.0   \n",
       "\n",
       "   ponds_nearest  days_exposition  \n",
       "0          755.0              NaN  \n",
       "1            NaN             81.0  \n",
       "2          574.0            558.0  \n",
       "3          234.0            424.0  \n",
       "4           48.0            121.0  \n",
       "\n",
       "[5 rows x 22 columns]"
      ]
     },
     "metadata": {},
     "output_type": "display_data"
    }
   ],
   "source": [
    "display(data.head())"
   ]
  },
  {
   "cell_type": "code",
   "execution_count": 58,
   "metadata": {},
   "outputs": [
    {
     "data": {
      "text/plain": [
       "23699"
      ]
     },
     "execution_count": 58,
     "metadata": {},
     "output_type": "execute_result"
    }
   ],
   "source": [
    "data['days_exposition'] = data['days_exposition'].fillna(0).astype('int')\n",
    "data['days_exposition'].count()"
   ]
  },
  {
   "cell_type": "code",
   "execution_count": 59,
   "metadata": {},
   "outputs": [
    {
     "data": {
      "text/plain": [
       "Санкт-Петербург           15721\n",
       "посёлок Мурино              522\n",
       "посёлок Шушары              440\n",
       "Всеволожск                  398\n",
       "Пушкин                      369\n",
       "                          ...  \n",
       "посёлок Ропша                 1\n",
       "посёлок Высокоключевой        1\n",
       "деревня Мануйлово             1\n",
       "поселок Лисий Нос             1\n",
       "деревня Борисова Грива        1\n",
       "Name: locality_name, Length: 364, dtype: int64"
      ]
     },
     "execution_count": 59,
     "metadata": {},
     "output_type": "execute_result"
    }
   ],
   "source": [
    "#пропущенные значения в locality_name не будем брать в расчет\n",
    "data['locality_name'].value_counts()"
   ]
  },
  {
   "cell_type": "code",
   "execution_count": 104,
   "metadata": {},
   "outputs": [
    {
     "data": {
      "text/html": [
       "<div>\n",
       "<style scoped>\n",
       "    .dataframe tbody tr th:only-of-type {\n",
       "        vertical-align: middle;\n",
       "    }\n",
       "\n",
       "    .dataframe tbody tr th {\n",
       "        vertical-align: top;\n",
       "    }\n",
       "\n",
       "    .dataframe thead th {\n",
       "        text-align: right;\n",
       "    }\n",
       "</style>\n",
       "<table border=\"1\" class=\"dataframe\">\n",
       "  <thead>\n",
       "    <tr style=\"text-align: right;\">\n",
       "      <th></th>\n",
       "      <th>total_images</th>\n",
       "      <th>last_price</th>\n",
       "      <th>total_area</th>\n",
       "      <th>first_day_exposition</th>\n",
       "      <th>rooms</th>\n",
       "      <th>ceiling_height</th>\n",
       "      <th>floors_total</th>\n",
       "      <th>living_area</th>\n",
       "      <th>floor</th>\n",
       "      <th>is_apartment</th>\n",
       "      <th>...</th>\n",
       "      <th>ponds_nearest</th>\n",
       "      <th>days_exposition</th>\n",
       "      <th>price_per_square_meter</th>\n",
       "      <th>weekday</th>\n",
       "      <th>month</th>\n",
       "      <th>year</th>\n",
       "      <th>floor_category</th>\n",
       "      <th>useful_area_ratio</th>\n",
       "      <th>kitchen_area_ratio</th>\n",
       "      <th>cityCenters_nearest_km</th>\n",
       "    </tr>\n",
       "  </thead>\n",
       "  <tbody>\n",
       "    <tr>\n",
       "      <th>0</th>\n",
       "      <td>20</td>\n",
       "      <td>13.000</td>\n",
       "      <td>108.0</td>\n",
       "      <td>2019-03-07</td>\n",
       "      <td>3</td>\n",
       "      <td>2.70</td>\n",
       "      <td>16.0</td>\n",
       "      <td>51.0</td>\n",
       "      <td>8</td>\n",
       "      <td>False</td>\n",
       "      <td>...</td>\n",
       "      <td>755.0</td>\n",
       "      <td>0</td>\n",
       "      <td>120370</td>\n",
       "      <td>3</td>\n",
       "      <td>3</td>\n",
       "      <td>2019</td>\n",
       "      <td>другой</td>\n",
       "      <td>0.472222</td>\n",
       "      <td>0.231481</td>\n",
       "      <td>16</td>\n",
       "    </tr>\n",
       "    <tr>\n",
       "      <th>1</th>\n",
       "      <td>7</td>\n",
       "      <td>3.350</td>\n",
       "      <td>40.4</td>\n",
       "      <td>2018-12-04</td>\n",
       "      <td>1</td>\n",
       "      <td>NaN</td>\n",
       "      <td>11.0</td>\n",
       "      <td>18.6</td>\n",
       "      <td>1</td>\n",
       "      <td>False</td>\n",
       "      <td>...</td>\n",
       "      <td>NaN</td>\n",
       "      <td>81</td>\n",
       "      <td>82920</td>\n",
       "      <td>1</td>\n",
       "      <td>12</td>\n",
       "      <td>2018</td>\n",
       "      <td>первый</td>\n",
       "      <td>0.460396</td>\n",
       "      <td>0.272277</td>\n",
       "      <td>18</td>\n",
       "    </tr>\n",
       "    <tr>\n",
       "      <th>2</th>\n",
       "      <td>10</td>\n",
       "      <td>5.196</td>\n",
       "      <td>56.0</td>\n",
       "      <td>2015-08-20</td>\n",
       "      <td>2</td>\n",
       "      <td>NaN</td>\n",
       "      <td>5.0</td>\n",
       "      <td>34.3</td>\n",
       "      <td>4</td>\n",
       "      <td>False</td>\n",
       "      <td>...</td>\n",
       "      <td>574.0</td>\n",
       "      <td>558</td>\n",
       "      <td>92785</td>\n",
       "      <td>3</td>\n",
       "      <td>8</td>\n",
       "      <td>2015</td>\n",
       "      <td>другой</td>\n",
       "      <td>0.612500</td>\n",
       "      <td>0.148214</td>\n",
       "      <td>13</td>\n",
       "    </tr>\n",
       "    <tr>\n",
       "      <th>3</th>\n",
       "      <td>0</td>\n",
       "      <td>64.900</td>\n",
       "      <td>159.0</td>\n",
       "      <td>2015-07-24</td>\n",
       "      <td>3</td>\n",
       "      <td>NaN</td>\n",
       "      <td>14.0</td>\n",
       "      <td>NaN</td>\n",
       "      <td>9</td>\n",
       "      <td>False</td>\n",
       "      <td>...</td>\n",
       "      <td>234.0</td>\n",
       "      <td>424</td>\n",
       "      <td>408176</td>\n",
       "      <td>4</td>\n",
       "      <td>7</td>\n",
       "      <td>2015</td>\n",
       "      <td>другой</td>\n",
       "      <td>NaN</td>\n",
       "      <td>NaN</td>\n",
       "      <td>6</td>\n",
       "    </tr>\n",
       "    <tr>\n",
       "      <th>4</th>\n",
       "      <td>2</td>\n",
       "      <td>10.000</td>\n",
       "      <td>100.0</td>\n",
       "      <td>2018-06-19</td>\n",
       "      <td>2</td>\n",
       "      <td>3.03</td>\n",
       "      <td>14.0</td>\n",
       "      <td>32.0</td>\n",
       "      <td>13</td>\n",
       "      <td>False</td>\n",
       "      <td>...</td>\n",
       "      <td>48.0</td>\n",
       "      <td>121</td>\n",
       "      <td>100000</td>\n",
       "      <td>1</td>\n",
       "      <td>6</td>\n",
       "      <td>2018</td>\n",
       "      <td>другой</td>\n",
       "      <td>0.320000</td>\n",
       "      <td>0.410000</td>\n",
       "      <td>8</td>\n",
       "    </tr>\n",
       "  </tbody>\n",
       "</table>\n",
       "<p>5 rows × 30 columns</p>\n",
       "</div>"
      ],
      "text/plain": [
       "   total_images  last_price  total_area first_day_exposition  rooms  \\\n",
       "0            20      13.000       108.0           2019-03-07      3   \n",
       "1             7       3.350        40.4           2018-12-04      1   \n",
       "2            10       5.196        56.0           2015-08-20      2   \n",
       "3             0      64.900       159.0           2015-07-24      3   \n",
       "4             2      10.000       100.0           2018-06-19      2   \n",
       "\n",
       "   ceiling_height  floors_total  living_area  floor  is_apartment  ...  \\\n",
       "0            2.70          16.0         51.0      8         False  ...   \n",
       "1             NaN          11.0         18.6      1         False  ...   \n",
       "2             NaN           5.0         34.3      4         False  ...   \n",
       "3             NaN          14.0          NaN      9         False  ...   \n",
       "4            3.03          14.0         32.0     13         False  ...   \n",
       "\n",
       "   ponds_nearest  days_exposition  price_per_square_meter  weekday month  \\\n",
       "0          755.0                0                  120370        3     3   \n",
       "1            NaN               81                   82920        1    12   \n",
       "2          574.0              558                   92785        3     8   \n",
       "3          234.0              424                  408176        4     7   \n",
       "4           48.0              121                  100000        1     6   \n",
       "\n",
       "   year  floor_category  useful_area_ratio  kitchen_area_ratio  \\\n",
       "0  2019          другой           0.472222            0.231481   \n",
       "1  2018          первый           0.460396            0.272277   \n",
       "2  2015          другой           0.612500            0.148214   \n",
       "3  2015          другой                NaN                 NaN   \n",
       "4  2018          другой           0.320000            0.410000   \n",
       "\n",
       "   cityCenters_nearest_km  \n",
       "0                      16  \n",
       "1                      18  \n",
       "2                      13  \n",
       "3                       6  \n",
       "4                       8  \n",
       "\n",
       "[5 rows x 30 columns]"
      ]
     },
     "execution_count": 104,
     "metadata": {},
     "output_type": "execute_result"
    }
   ],
   "source": [
    "data['first_day_exposition'] = pd.to_datetime(data['first_day_exposition'], format = '%Y-%m-%d')\n",
    "data.head()"
   ]
  },
  {
   "cell_type": "code",
   "execution_count": 61,
   "metadata": {},
   "outputs": [
    {
     "name": "stdout",
     "output_type": "stream",
     "text": [
      "<class 'pandas.core.frame.DataFrame'>\n",
      "RangeIndex: 23699 entries, 0 to 23698\n",
      "Data columns (total 22 columns):\n",
      " #   Column                Non-Null Count  Dtype         \n",
      "---  ------                --------------  -----         \n",
      " 0   total_images          23699 non-null  int64         \n",
      " 1   last_price            23699 non-null  float64       \n",
      " 2   total_area            23699 non-null  float64       \n",
      " 3   first_day_exposition  23699 non-null  datetime64[ns]\n",
      " 4   rooms                 23699 non-null  int64         \n",
      " 5   ceiling_height        14504 non-null  float64       \n",
      " 6   floors_total          23613 non-null  float64       \n",
      " 7   living_area           21796 non-null  float64       \n",
      " 8   floor                 23699 non-null  int64         \n",
      " 9   is_apartment          2775 non-null   object        \n",
      " 10  studio                23699 non-null  bool          \n",
      " 11  open_plan             23699 non-null  bool          \n",
      " 12  kitchen_area          21421 non-null  float64       \n",
      " 13  balcony               23699 non-null  int64         \n",
      " 14  locality_name         23650 non-null  object        \n",
      " 15  airports_nearest      18157 non-null  float64       \n",
      " 16  cityCenters_nearest   18180 non-null  float64       \n",
      " 17  parks_around3000      18181 non-null  float64       \n",
      " 18  parks_nearest         8079 non-null   float64       \n",
      " 19  ponds_around3000      18181 non-null  float64       \n",
      " 20  ponds_nearest         9110 non-null   float64       \n",
      " 21  days_exposition       23699 non-null  int64         \n",
      "dtypes: bool(2), datetime64[ns](1), float64(12), int64(5), object(2)\n",
      "memory usage: 3.7+ MB\n"
     ]
    }
   ],
   "source": [
    "#заменим пропуски в balcony на 0 и изменим тип данных на int\n",
    "data['balcony'] = data['balcony'].fillna(0)\n",
    "data['balcony'] = data['balcony'].astype('int')\n",
    "data.info()"
   ]
  },
  {
   "cell_type": "code",
   "execution_count": 62,
   "metadata": {},
   "outputs": [
    {
     "data": {
      "text/html": [
       "<div>\n",
       "<style scoped>\n",
       "    .dataframe tbody tr th:only-of-type {\n",
       "        vertical-align: middle;\n",
       "    }\n",
       "\n",
       "    .dataframe tbody tr th {\n",
       "        vertical-align: top;\n",
       "    }\n",
       "\n",
       "    .dataframe thead th {\n",
       "        text-align: right;\n",
       "    }\n",
       "</style>\n",
       "<table border=\"1\" class=\"dataframe\">\n",
       "  <thead>\n",
       "    <tr style=\"text-align: right;\">\n",
       "      <th></th>\n",
       "      <th>total_images</th>\n",
       "      <th>last_price</th>\n",
       "      <th>total_area</th>\n",
       "      <th>first_day_exposition</th>\n",
       "      <th>rooms</th>\n",
       "      <th>ceiling_height</th>\n",
       "      <th>floors_total</th>\n",
       "      <th>living_area</th>\n",
       "      <th>floor</th>\n",
       "      <th>is_apartment</th>\n",
       "      <th>...</th>\n",
       "      <th>kitchen_area</th>\n",
       "      <th>balcony</th>\n",
       "      <th>locality_name</th>\n",
       "      <th>airports_nearest</th>\n",
       "      <th>cityCenters_nearest</th>\n",
       "      <th>parks_around3000</th>\n",
       "      <th>parks_nearest</th>\n",
       "      <th>ponds_around3000</th>\n",
       "      <th>ponds_nearest</th>\n",
       "      <th>days_exposition</th>\n",
       "    </tr>\n",
       "  </thead>\n",
       "  <tbody>\n",
       "    <tr>\n",
       "      <th>17857</th>\n",
       "      <td>1</td>\n",
       "      <td>3900000.0</td>\n",
       "      <td>56.0</td>\n",
       "      <td>2017-12-22</td>\n",
       "      <td>3</td>\n",
       "      <td>27.0</td>\n",
       "      <td>5.0</td>\n",
       "      <td>33.0</td>\n",
       "      <td>4</td>\n",
       "      <td>False</td>\n",
       "      <td>...</td>\n",
       "      <td>NaN</td>\n",
       "      <td>0</td>\n",
       "      <td>Санкт-Петербург</td>\n",
       "      <td>41030.0</td>\n",
       "      <td>15543.0</td>\n",
       "      <td>0.0</td>\n",
       "      <td>NaN</td>\n",
       "      <td>0.0</td>\n",
       "      <td>NaN</td>\n",
       "      <td>73</td>\n",
       "    </tr>\n",
       "    <tr>\n",
       "      <th>21377</th>\n",
       "      <td>19</td>\n",
       "      <td>4900000.0</td>\n",
       "      <td>42.0</td>\n",
       "      <td>2017-04-18</td>\n",
       "      <td>1</td>\n",
       "      <td>27.5</td>\n",
       "      <td>24.0</td>\n",
       "      <td>37.7</td>\n",
       "      <td>19</td>\n",
       "      <td>False</td>\n",
       "      <td>...</td>\n",
       "      <td>11.0</td>\n",
       "      <td>2</td>\n",
       "      <td>Санкт-Петербург</td>\n",
       "      <td>42742.0</td>\n",
       "      <td>9760.0</td>\n",
       "      <td>0.0</td>\n",
       "      <td>NaN</td>\n",
       "      <td>0.0</td>\n",
       "      <td>NaN</td>\n",
       "      <td>61</td>\n",
       "    </tr>\n",
       "    <tr>\n",
       "      <th>22336</th>\n",
       "      <td>19</td>\n",
       "      <td>9999000.0</td>\n",
       "      <td>92.4</td>\n",
       "      <td>2019-04-05</td>\n",
       "      <td>2</td>\n",
       "      <td>32.0</td>\n",
       "      <td>6.0</td>\n",
       "      <td>55.5</td>\n",
       "      <td>5</td>\n",
       "      <td>False</td>\n",
       "      <td>...</td>\n",
       "      <td>16.5</td>\n",
       "      <td>4</td>\n",
       "      <td>Санкт-Петербург</td>\n",
       "      <td>18838.0</td>\n",
       "      <td>3506.0</td>\n",
       "      <td>0.0</td>\n",
       "      <td>NaN</td>\n",
       "      <td>3.0</td>\n",
       "      <td>511.0</td>\n",
       "      <td>0</td>\n",
       "    </tr>\n",
       "    <tr>\n",
       "      <th>3148</th>\n",
       "      <td>14</td>\n",
       "      <td>2900000.0</td>\n",
       "      <td>75.0</td>\n",
       "      <td>2018-11-12</td>\n",
       "      <td>3</td>\n",
       "      <td>32.0</td>\n",
       "      <td>3.0</td>\n",
       "      <td>53.0</td>\n",
       "      <td>2</td>\n",
       "      <td>NaN</td>\n",
       "      <td>...</td>\n",
       "      <td>8.0</td>\n",
       "      <td>0</td>\n",
       "      <td>Волхов</td>\n",
       "      <td>NaN</td>\n",
       "      <td>NaN</td>\n",
       "      <td>NaN</td>\n",
       "      <td>NaN</td>\n",
       "      <td>NaN</td>\n",
       "      <td>NaN</td>\n",
       "      <td>0</td>\n",
       "    </tr>\n",
       "    <tr>\n",
       "      <th>22869</th>\n",
       "      <td>0</td>\n",
       "      <td>15000000.0</td>\n",
       "      <td>25.0</td>\n",
       "      <td>2018-07-25</td>\n",
       "      <td>1</td>\n",
       "      <td>100.0</td>\n",
       "      <td>5.0</td>\n",
       "      <td>14.0</td>\n",
       "      <td>5</td>\n",
       "      <td>True</td>\n",
       "      <td>...</td>\n",
       "      <td>11.0</td>\n",
       "      <td>5</td>\n",
       "      <td>Санкт-Петербург</td>\n",
       "      <td>34963.0</td>\n",
       "      <td>8283.0</td>\n",
       "      <td>1.0</td>\n",
       "      <td>223.0</td>\n",
       "      <td>3.0</td>\n",
       "      <td>30.0</td>\n",
       "      <td>19</td>\n",
       "    </tr>\n",
       "  </tbody>\n",
       "</table>\n",
       "<p>5 rows × 22 columns</p>\n",
       "</div>"
      ],
      "text/plain": [
       "       total_images  last_price  total_area first_day_exposition  rooms  \\\n",
       "17857             1   3900000.0        56.0           2017-12-22      3   \n",
       "21377            19   4900000.0        42.0           2017-04-18      1   \n",
       "22336            19   9999000.0        92.4           2019-04-05      2   \n",
       "3148             14   2900000.0        75.0           2018-11-12      3   \n",
       "22869             0  15000000.0        25.0           2018-07-25      1   \n",
       "\n",
       "       ceiling_height  floors_total  living_area  floor is_apartment  ...  \\\n",
       "17857            27.0           5.0         33.0      4        False  ...   \n",
       "21377            27.5          24.0         37.7     19        False  ...   \n",
       "22336            32.0           6.0         55.5      5        False  ...   \n",
       "3148             32.0           3.0         53.0      2          NaN  ...   \n",
       "22869           100.0           5.0         14.0      5         True  ...   \n",
       "\n",
       "       kitchen_area  balcony    locality_name  airports_nearest  \\\n",
       "17857           NaN        0  Санкт-Петербург           41030.0   \n",
       "21377          11.0        2  Санкт-Петербург           42742.0   \n",
       "22336          16.5        4  Санкт-Петербург           18838.0   \n",
       "3148            8.0        0           Волхов               NaN   \n",
       "22869          11.0        5  Санкт-Петербург           34963.0   \n",
       "\n",
       "      cityCenters_nearest  parks_around3000  parks_nearest  ponds_around3000  \\\n",
       "17857             15543.0               0.0            NaN               0.0   \n",
       "21377              9760.0               0.0            NaN               0.0   \n",
       "22336              3506.0               0.0            NaN               3.0   \n",
       "3148                  NaN               NaN            NaN               NaN   \n",
       "22869              8283.0               1.0          223.0               3.0   \n",
       "\n",
       "       ponds_nearest  days_exposition  \n",
       "17857            NaN               73  \n",
       "21377            NaN               61  \n",
       "22336          511.0                0  \n",
       "3148             NaN                0  \n",
       "22869           30.0               19  \n",
       "\n",
       "[5 rows x 22 columns]"
      ]
     },
     "execution_count": 62,
     "metadata": {},
     "output_type": "execute_result"
    },
    {
     "data": {
      "image/png": "[encoded data removed]",
      "text/plain": [
       "<Figure size 432x288 with 1 Axes>"
      ]
     },
     "metadata": {
      "needs_background": "light"
     },
     "output_type": "display_data"
    }
   ],
   "source": [
    "#в столбце ceiling_height, видим что есть необоснованно большие значения но пока оставим их как есть,\n",
    "#из-за этих выбросов во всей выборке медиана от среднего отличается не сильно \n",
    "data['ceiling_height'].sort_values().plot(y = 'ceiling_height', kind = 'hist', bins = 30, range=(2,5),grid=True, legend=True)\n",
    "data['ceiling_height'].value_counts()\n",
    "data['ceiling_height'].describe()\n",
    "data[data['ceiling_height'] > 4].sort_values('ceiling_height').tail(5)"
   ]
  },
  {
   "cell_type": "markdown",
   "metadata": {},
   "source": [
    "\n",
    "\n",
    "- в столбце ceiling_height, видим что есть необоснованно большие значения но пока оставим их как есть, всякое бывает\n",
    "- из-за этих выбросов во всей выборке медиана от среднего отличается не сильно "
   ]
  },
  {
   "cell_type": "code",
   "execution_count": 105,
   "metadata": {},
   "outputs": [
    {
     "data": {
      "text/plain": [
       "dtype('int64')"
      ]
     },
     "execution_count": 105,
     "metadata": {},
     "output_type": "execute_result"
    }
   ],
   "source": [
    "#в столбце с принадлежностью к апартаментам все пропущенные значения заменим на False\n",
    "data['is_apartment'] = data['is_apartment'].fillna(False)\n",
    "data['is_apartment'].dtypes\n",
    "data['last_price'] = data['last_price'].astype('int')\n",
    "data['last_price'].dtypes"
   ]
  },
  {
   "cell_type": "code",
   "execution_count": 65,
   "metadata": {},
   "outputs": [
    {
     "data": {
      "text/html": [
       "<div>\n",
       "<style scoped>\n",
       "    .dataframe tbody tr th:only-of-type {\n",
       "        vertical-align: middle;\n",
       "    }\n",
       "\n",
       "    .dataframe tbody tr th {\n",
       "        vertical-align: top;\n",
       "    }\n",
       "\n",
       "    .dataframe thead th {\n",
       "        text-align: right;\n",
       "    }\n",
       "</style>\n",
       "<table border=\"1\" class=\"dataframe\">\n",
       "  <thead>\n",
       "    <tr style=\"text-align: right;\">\n",
       "      <th></th>\n",
       "      <th>total_images</th>\n",
       "      <th>last_price</th>\n",
       "      <th>total_area</th>\n",
       "      <th>first_day_exposition</th>\n",
       "      <th>rooms</th>\n",
       "      <th>ceiling_height</th>\n",
       "      <th>floors_total</th>\n",
       "      <th>living_area</th>\n",
       "      <th>floor</th>\n",
       "      <th>is_apartment</th>\n",
       "      <th>...</th>\n",
       "      <th>kitchen_area</th>\n",
       "      <th>balcony</th>\n",
       "      <th>locality_name</th>\n",
       "      <th>airports_nearest</th>\n",
       "      <th>cityCenters_nearest</th>\n",
       "      <th>parks_around3000</th>\n",
       "      <th>parks_nearest</th>\n",
       "      <th>ponds_around3000</th>\n",
       "      <th>ponds_nearest</th>\n",
       "      <th>days_exposition</th>\n",
       "    </tr>\n",
       "  </thead>\n",
       "  <tbody>\n",
       "    <tr>\n",
       "      <th>186</th>\n",
       "      <td>12</td>\n",
       "      <td>11640000</td>\n",
       "      <td>65.2</td>\n",
       "      <td>2018-10-02</td>\n",
       "      <td>2</td>\n",
       "      <td>NaN</td>\n",
       "      <td>NaN</td>\n",
       "      <td>30.80</td>\n",
       "      <td>4</td>\n",
       "      <td>False</td>\n",
       "      <td>...</td>\n",
       "      <td>12.00</td>\n",
       "      <td>0</td>\n",
       "      <td>Санкт-Петербург</td>\n",
       "      <td>39197.0</td>\n",
       "      <td>12373.0</td>\n",
       "      <td>1.0</td>\n",
       "      <td>123.0</td>\n",
       "      <td>0.0</td>\n",
       "      <td>NaN</td>\n",
       "      <td>49</td>\n",
       "    </tr>\n",
       "    <tr>\n",
       "      <th>237</th>\n",
       "      <td>4</td>\n",
       "      <td>2438033</td>\n",
       "      <td>28.1</td>\n",
       "      <td>2016-11-23</td>\n",
       "      <td>1</td>\n",
       "      <td>NaN</td>\n",
       "      <td>NaN</td>\n",
       "      <td>20.75</td>\n",
       "      <td>1</td>\n",
       "      <td>False</td>\n",
       "      <td>...</td>\n",
       "      <td>NaN</td>\n",
       "      <td>0</td>\n",
       "      <td>Санкт-Петербург</td>\n",
       "      <td>22041.0</td>\n",
       "      <td>17369.0</td>\n",
       "      <td>0.0</td>\n",
       "      <td>NaN</td>\n",
       "      <td>1.0</td>\n",
       "      <td>374.0</td>\n",
       "      <td>251</td>\n",
       "    </tr>\n",
       "    <tr>\n",
       "      <th>457</th>\n",
       "      <td>4</td>\n",
       "      <td>9788348</td>\n",
       "      <td>70.8</td>\n",
       "      <td>2015-08-01</td>\n",
       "      <td>2</td>\n",
       "      <td>NaN</td>\n",
       "      <td>NaN</td>\n",
       "      <td>38.40</td>\n",
       "      <td>12</td>\n",
       "      <td>False</td>\n",
       "      <td>...</td>\n",
       "      <td>10.63</td>\n",
       "      <td>0</td>\n",
       "      <td>Санкт-Петербург</td>\n",
       "      <td>37364.0</td>\n",
       "      <td>8322.0</td>\n",
       "      <td>2.0</td>\n",
       "      <td>309.0</td>\n",
       "      <td>2.0</td>\n",
       "      <td>706.0</td>\n",
       "      <td>727</td>\n",
       "    </tr>\n",
       "    <tr>\n",
       "      <th>671</th>\n",
       "      <td>4</td>\n",
       "      <td>6051191</td>\n",
       "      <td>93.6</td>\n",
       "      <td>2017-04-06</td>\n",
       "      <td>3</td>\n",
       "      <td>NaN</td>\n",
       "      <td>NaN</td>\n",
       "      <td>47.10</td>\n",
       "      <td>8</td>\n",
       "      <td>False</td>\n",
       "      <td>...</td>\n",
       "      <td>16.80</td>\n",
       "      <td>0</td>\n",
       "      <td>Санкт-Петербург</td>\n",
       "      <td>22041.0</td>\n",
       "      <td>17369.0</td>\n",
       "      <td>0.0</td>\n",
       "      <td>NaN</td>\n",
       "      <td>1.0</td>\n",
       "      <td>374.0</td>\n",
       "      <td>123</td>\n",
       "    </tr>\n",
       "    <tr>\n",
       "      <th>1757</th>\n",
       "      <td>5</td>\n",
       "      <td>3600000</td>\n",
       "      <td>39.0</td>\n",
       "      <td>2017-04-22</td>\n",
       "      <td>1</td>\n",
       "      <td>NaN</td>\n",
       "      <td>NaN</td>\n",
       "      <td>NaN</td>\n",
       "      <td>9</td>\n",
       "      <td>False</td>\n",
       "      <td>...</td>\n",
       "      <td>NaN</td>\n",
       "      <td>0</td>\n",
       "      <td>Санкт-Петербург</td>\n",
       "      <td>22735.0</td>\n",
       "      <td>11618.0</td>\n",
       "      <td>1.0</td>\n",
       "      <td>835.0</td>\n",
       "      <td>1.0</td>\n",
       "      <td>652.0</td>\n",
       "      <td>77</td>\n",
       "    </tr>\n",
       "    <tr>\n",
       "      <th>...</th>\n",
       "      <td>...</td>\n",
       "      <td>...</td>\n",
       "      <td>...</td>\n",
       "      <td>...</td>\n",
       "      <td>...</td>\n",
       "      <td>...</td>\n",
       "      <td>...</td>\n",
       "      <td>...</td>\n",
       "      <td>...</td>\n",
       "      <td>...</td>\n",
       "      <td>...</td>\n",
       "      <td>...</td>\n",
       "      <td>...</td>\n",
       "      <td>...</td>\n",
       "      <td>...</td>\n",
       "      <td>...</td>\n",
       "      <td>...</td>\n",
       "      <td>...</td>\n",
       "      <td>...</td>\n",
       "      <td>...</td>\n",
       "      <td>...</td>\n",
       "    </tr>\n",
       "    <tr>\n",
       "      <th>22542</th>\n",
       "      <td>5</td>\n",
       "      <td>8500000</td>\n",
       "      <td>63.5</td>\n",
       "      <td>2017-05-24</td>\n",
       "      <td>2</td>\n",
       "      <td>2.8</td>\n",
       "      <td>NaN</td>\n",
       "      <td>NaN</td>\n",
       "      <td>3</td>\n",
       "      <td>False</td>\n",
       "      <td>...</td>\n",
       "      <td>NaN</td>\n",
       "      <td>0</td>\n",
       "      <td>Санкт-Петербург</td>\n",
       "      <td>51340.0</td>\n",
       "      <td>15363.0</td>\n",
       "      <td>0.0</td>\n",
       "      <td>NaN</td>\n",
       "      <td>1.0</td>\n",
       "      <td>853.0</td>\n",
       "      <td>512</td>\n",
       "    </tr>\n",
       "    <tr>\n",
       "      <th>22656</th>\n",
       "      <td>4</td>\n",
       "      <td>4574160</td>\n",
       "      <td>64.5</td>\n",
       "      <td>2017-04-02</td>\n",
       "      <td>2</td>\n",
       "      <td>NaN</td>\n",
       "      <td>NaN</td>\n",
       "      <td>31.70</td>\n",
       "      <td>20</td>\n",
       "      <td>False</td>\n",
       "      <td>...</td>\n",
       "      <td>14.40</td>\n",
       "      <td>0</td>\n",
       "      <td>Санкт-Петербург</td>\n",
       "      <td>22041.0</td>\n",
       "      <td>17369.0</td>\n",
       "      <td>0.0</td>\n",
       "      <td>NaN</td>\n",
       "      <td>1.0</td>\n",
       "      <td>374.0</td>\n",
       "      <td>127</td>\n",
       "    </tr>\n",
       "    <tr>\n",
       "      <th>22808</th>\n",
       "      <td>0</td>\n",
       "      <td>14569263</td>\n",
       "      <td>110.4</td>\n",
       "      <td>2016-11-20</td>\n",
       "      <td>3</td>\n",
       "      <td>NaN</td>\n",
       "      <td>NaN</td>\n",
       "      <td>45.38</td>\n",
       "      <td>6</td>\n",
       "      <td>False</td>\n",
       "      <td>...</td>\n",
       "      <td>23.42</td>\n",
       "      <td>0</td>\n",
       "      <td>Санкт-Петербург</td>\n",
       "      <td>19095.0</td>\n",
       "      <td>4529.0</td>\n",
       "      <td>0.0</td>\n",
       "      <td>NaN</td>\n",
       "      <td>0.0</td>\n",
       "      <td>NaN</td>\n",
       "      <td>260</td>\n",
       "    </tr>\n",
       "    <tr>\n",
       "      <th>23590</th>\n",
       "      <td>0</td>\n",
       "      <td>21187872</td>\n",
       "      <td>123.3</td>\n",
       "      <td>2017-04-25</td>\n",
       "      <td>3</td>\n",
       "      <td>NaN</td>\n",
       "      <td>NaN</td>\n",
       "      <td>50.40</td>\n",
       "      <td>18</td>\n",
       "      <td>False</td>\n",
       "      <td>...</td>\n",
       "      <td>23.60</td>\n",
       "      <td>0</td>\n",
       "      <td>Санкт-Петербург</td>\n",
       "      <td>19095.0</td>\n",
       "      <td>4529.0</td>\n",
       "      <td>0.0</td>\n",
       "      <td>NaN</td>\n",
       "      <td>0.0</td>\n",
       "      <td>NaN</td>\n",
       "      <td>104</td>\n",
       "    </tr>\n",
       "    <tr>\n",
       "      <th>23658</th>\n",
       "      <td>6</td>\n",
       "      <td>3063600</td>\n",
       "      <td>43.8</td>\n",
       "      <td>2016-11-28</td>\n",
       "      <td>1</td>\n",
       "      <td>2.7</td>\n",
       "      <td>NaN</td>\n",
       "      <td>14.00</td>\n",
       "      <td>8</td>\n",
       "      <td>False</td>\n",
       "      <td>...</td>\n",
       "      <td>15.50</td>\n",
       "      <td>2</td>\n",
       "      <td>Санкт-Петербург</td>\n",
       "      <td>8426.0</td>\n",
       "      <td>12082.0</td>\n",
       "      <td>2.0</td>\n",
       "      <td>24.0</td>\n",
       "      <td>1.0</td>\n",
       "      <td>271.0</td>\n",
       "      <td>246</td>\n",
       "    </tr>\n",
       "  </tbody>\n",
       "</table>\n",
       "<p>86 rows × 22 columns</p>\n",
       "</div>"
      ],
      "text/plain": [
       "       total_images  last_price  total_area first_day_exposition  rooms  \\\n",
       "186              12    11640000        65.2           2018-10-02      2   \n",
       "237               4     2438033        28.1           2016-11-23      1   \n",
       "457               4     9788348        70.8           2015-08-01      2   \n",
       "671               4     6051191        93.6           2017-04-06      3   \n",
       "1757              5     3600000        39.0           2017-04-22      1   \n",
       "...             ...         ...         ...                  ...    ...   \n",
       "22542             5     8500000        63.5           2017-05-24      2   \n",
       "22656             4     4574160        64.5           2017-04-02      2   \n",
       "22808             0    14569263       110.4           2016-11-20      3   \n",
       "23590             0    21187872       123.3           2017-04-25      3   \n",
       "23658             6     3063600        43.8           2016-11-28      1   \n",
       "\n",
       "       ceiling_height  floors_total  living_area  floor  is_apartment  ...  \\\n",
       "186               NaN           NaN        30.80      4         False  ...   \n",
       "237               NaN           NaN        20.75      1         False  ...   \n",
       "457               NaN           NaN        38.40     12         False  ...   \n",
       "671               NaN           NaN        47.10      8         False  ...   \n",
       "1757              NaN           NaN          NaN      9         False  ...   \n",
       "...               ...           ...          ...    ...           ...  ...   \n",
       "22542             2.8           NaN          NaN      3         False  ...   \n",
       "22656             NaN           NaN        31.70     20         False  ...   \n",
       "22808             NaN           NaN        45.38      6         False  ...   \n",
       "23590             NaN           NaN        50.40     18         False  ...   \n",
       "23658             2.7           NaN        14.00      8         False  ...   \n",
       "\n",
       "       kitchen_area  balcony    locality_name  airports_nearest  \\\n",
       "186           12.00        0  Санкт-Петербург           39197.0   \n",
       "237             NaN        0  Санкт-Петербург           22041.0   \n",
       "457           10.63        0  Санкт-Петербург           37364.0   \n",
       "671           16.80        0  Санкт-Петербург           22041.0   \n",
       "1757            NaN        0  Санкт-Петербург           22735.0   \n",
       "...             ...      ...              ...               ...   \n",
       "22542           NaN        0  Санкт-Петербург           51340.0   \n",
       "22656         14.40        0  Санкт-Петербург           22041.0   \n",
       "22808         23.42        0  Санкт-Петербург           19095.0   \n",
       "23590         23.60        0  Санкт-Петербург           19095.0   \n",
       "23658         15.50        2  Санкт-Петербург            8426.0   \n",
       "\n",
       "      cityCenters_nearest  parks_around3000  parks_nearest  ponds_around3000  \\\n",
       "186               12373.0               1.0          123.0               0.0   \n",
       "237               17369.0               0.0            NaN               1.0   \n",
       "457                8322.0               2.0          309.0               2.0   \n",
       "671               17369.0               0.0            NaN               1.0   \n",
       "1757              11618.0               1.0          835.0               1.0   \n",
       "...                   ...               ...            ...               ...   \n",
       "22542             15363.0               0.0            NaN               1.0   \n",
       "22656             17369.0               0.0            NaN               1.0   \n",
       "22808              4529.0               0.0            NaN               0.0   \n",
       "23590              4529.0               0.0            NaN               0.0   \n",
       "23658             12082.0               2.0           24.0               1.0   \n",
       "\n",
       "       ponds_nearest  days_exposition  \n",
       "186              NaN               49  \n",
       "237            374.0              251  \n",
       "457            706.0              727  \n",
       "671            374.0              123  \n",
       "1757           652.0               77  \n",
       "...              ...              ...  \n",
       "22542          853.0              512  \n",
       "22656          374.0              127  \n",
       "22808            NaN              260  \n",
       "23590            NaN              104  \n",
       "23658          271.0              246  \n",
       "\n",
       "[86 rows x 22 columns]"
      ]
     },
     "execution_count": 65,
     "metadata": {},
     "output_type": "execute_result"
    }
   ],
   "source": [
    "#посмотрим данные с пропущенными значениями в floors_total\n",
    "data[data['floors_total'].isna()]"
   ]
  },
  {
   "cell_type": "code",
   "execution_count": 66,
   "metadata": {
    "scrolled": false
   },
   "outputs": [
    {
     "data": {
      "text/plain": [
       "count    21796.000000\n",
       "mean        34.457852\n",
       "std         22.030445\n",
       "min          2.000000\n",
       "25%         18.600000\n",
       "50%         30.000000\n",
       "75%         42.300000\n",
       "max        409.700000\n",
       "Name: living_area, dtype: float64"
      ]
     },
     "execution_count": 66,
     "metadata": {},
     "output_type": "execute_result"
    }
   ],
   "source": [
    "# в living_area слишком много знаков после запятой и есть пропущенные значения\n",
    "data['living_area'].value_counts()\n",
    "data['living_area'].describe()"
   ]
  },
  {
   "cell_type": "markdown",
   "metadata": {},
   "source": [
    "<div class=\"alert alert-info\">\n",
    "<b>Вывод</b>\n",
    "\n",
    "    \n",
    "\n",
    "    \n",
    "Определены и изучены пропущенные значения:\n",
    "В столбце \"Балкон\" мы заменили пропущенные значения нулевыми, будем считать что их нет. Для других типов данных нет подходящего значения на замену. В таких случаях мы оставили эти значения пустыми.\n",
    "Заполнили пропуски в 'days_exposition','balcony', 'is_apartment'.\n",
    "Причиной к пропускам могло быть\n",
    "- человеческое незнание некоторых фактов, например, объявление мог размещать знакомый и не знающий принадлежность к аппартаментам, - балконов скорее всего просто нет, там, где значения пропущены\n",
    "- в сроках размещения мы приравняли к нулю те значения, которые, вероятно, были размещены и сняты до начала ведения подобной статистики по ээтому показателю\n",
    "\n",
    "Так же мы привели данные к нужным форматам.\n",
    "- first_day_exposition переведем в формат datetime, так как именно этот формат позволит корректно работать с датой\n",
    "- floors_total - должен быть тип int, т.к. количество этажей - целое значение\n",
    "- is_apartment - должен быть тип bool, так как предполагается ответ True or False\n",
    "- parks_around3000 - тип должен быть int, так как парки исчисляются целыми числами\n",
    "- ponds_around3000 - тип должен быть int, так как водоемы исчисляются целыми числами\n",
    "- days_exposition - тип должен быть int, так как число дней от публикации до снятия - целое число\n",
    "    \n",
    "Итог:\n",
    "\n",
    "- bool - будевые да/нет\n",
    "- float 64 - вещественное нецелое число, с запятой\n",
    "- int 64 - целое (целочислительное)число\n",
    "- object - строковое представление объекта\n"
   ]
  },
  {
   "cell_type": "markdown",
   "metadata": {},
   "source": [
    "## Расчёты и добавление результатов в таблицу"
   ]
  },
  {
   "cell_type": "code",
   "execution_count": 67,
   "metadata": {},
   "outputs": [],
   "source": [
    "#подсчет цен кв.м\n",
    "data['price_per_square_meter'] = data['last_price'] / data['total_area']\n",
    "data['price_per_square_meter'] = data['price_per_square_meter'].astype('int')"
   ]
  },
  {
   "cell_type": "code",
   "execution_count": 68,
   "metadata": {},
   "outputs": [],
   "source": [
    "#новый столбец с днями недели\n",
    "data['weekday'] = data['first_day_exposition'].dt.weekday\n",
    "\n",
    "#новый столбец с месяцами\n",
    "data['month'] = data['first_day_exposition'].dt.month\n",
    "\n",
    "#новый с годами\n",
    "data['year'] = data['first_day_exposition'].dt.year"
   ]
  },
  {
   "cell_type": "code",
   "execution_count": 71,
   "metadata": {},
   "outputs": [],
   "source": [
    "def floor_category(row):\n",
    "    floors_total = row['floors_total']\n",
    "    floor = row['floor']\n",
    "    if floor == 1:\n",
    "        return 'первый'\n",
    "    elif floor == floors_total:\n",
    "        return 'последний'\n",
    "    elif 1 < floor < floors_total:\n",
    "        return 'другой'\n",
    "    \n",
    "\n",
    "data['floor_category'] = data.apply(floor_category, axis = 1)"
   ]
  },
  {
   "cell_type": "code",
   "execution_count": 72,
   "metadata": {},
   "outputs": [],
   "source": [
    "#добавляем столбец соотношения жилой плозади к общей\n",
    "#добавим столбец отношения площади кухни к общей\n",
    "data['useful_area_ratio'] = data['living_area'] / data['total_area']\n",
    "data['kitchen_area_ratio'] = data['kitchen_area'] / data['total_area']"
   ]
  },
  {
   "cell_type": "code",
   "execution_count": 73,
   "metadata": {},
   "outputs": [
    {
     "data": {
      "text/html": [
       "<div>\n",
       "<style scoped>\n",
       "    .dataframe tbody tr th:only-of-type {\n",
       "        vertical-align: middle;\n",
       "    }\n",
       "\n",
       "    .dataframe tbody tr th {\n",
       "        vertical-align: top;\n",
       "    }\n",
       "\n",
       "    .dataframe thead th {\n",
       "        text-align: right;\n",
       "    }\n",
       "</style>\n",
       "<table border=\"1\" class=\"dataframe\">\n",
       "  <thead>\n",
       "    <tr style=\"text-align: right;\">\n",
       "      <th></th>\n",
       "      <th>total_images</th>\n",
       "      <th>last_price</th>\n",
       "      <th>total_area</th>\n",
       "      <th>first_day_exposition</th>\n",
       "      <th>rooms</th>\n",
       "      <th>ceiling_height</th>\n",
       "      <th>floors_total</th>\n",
       "      <th>living_area</th>\n",
       "      <th>floor</th>\n",
       "      <th>is_apartment</th>\n",
       "      <th>...</th>\n",
       "      <th>ponds_around3000</th>\n",
       "      <th>ponds_nearest</th>\n",
       "      <th>days_exposition</th>\n",
       "      <th>price_per_square_meter</th>\n",
       "      <th>weekday</th>\n",
       "      <th>month</th>\n",
       "      <th>year</th>\n",
       "      <th>floor_category</th>\n",
       "      <th>useful_area_ratio</th>\n",
       "      <th>kitchen_area_ratio</th>\n",
       "    </tr>\n",
       "  </thead>\n",
       "  <tbody>\n",
       "    <tr>\n",
       "      <th>0</th>\n",
       "      <td>20</td>\n",
       "      <td>13000000</td>\n",
       "      <td>108.00</td>\n",
       "      <td>2019-03-07</td>\n",
       "      <td>3</td>\n",
       "      <td>2.70</td>\n",
       "      <td>16.0</td>\n",
       "      <td>51.0</td>\n",
       "      <td>8</td>\n",
       "      <td>False</td>\n",
       "      <td>...</td>\n",
       "      <td>2.0</td>\n",
       "      <td>755.0</td>\n",
       "      <td>0</td>\n",
       "      <td>120370</td>\n",
       "      <td>3</td>\n",
       "      <td>3</td>\n",
       "      <td>2019</td>\n",
       "      <td>другой</td>\n",
       "      <td>0.472222</td>\n",
       "      <td>0.231481</td>\n",
       "    </tr>\n",
       "    <tr>\n",
       "      <th>1</th>\n",
       "      <td>7</td>\n",
       "      <td>3350000</td>\n",
       "      <td>40.40</td>\n",
       "      <td>2018-12-04</td>\n",
       "      <td>1</td>\n",
       "      <td>NaN</td>\n",
       "      <td>11.0</td>\n",
       "      <td>18.6</td>\n",
       "      <td>1</td>\n",
       "      <td>False</td>\n",
       "      <td>...</td>\n",
       "      <td>0.0</td>\n",
       "      <td>NaN</td>\n",
       "      <td>81</td>\n",
       "      <td>82920</td>\n",
       "      <td>1</td>\n",
       "      <td>12</td>\n",
       "      <td>2018</td>\n",
       "      <td>первый</td>\n",
       "      <td>0.460396</td>\n",
       "      <td>0.272277</td>\n",
       "    </tr>\n",
       "    <tr>\n",
       "      <th>2</th>\n",
       "      <td>10</td>\n",
       "      <td>5196000</td>\n",
       "      <td>56.00</td>\n",
       "      <td>2015-08-20</td>\n",
       "      <td>2</td>\n",
       "      <td>NaN</td>\n",
       "      <td>5.0</td>\n",
       "      <td>34.3</td>\n",
       "      <td>4</td>\n",
       "      <td>False</td>\n",
       "      <td>...</td>\n",
       "      <td>2.0</td>\n",
       "      <td>574.0</td>\n",
       "      <td>558</td>\n",
       "      <td>92785</td>\n",
       "      <td>3</td>\n",
       "      <td>8</td>\n",
       "      <td>2015</td>\n",
       "      <td>другой</td>\n",
       "      <td>0.612500</td>\n",
       "      <td>0.148214</td>\n",
       "    </tr>\n",
       "    <tr>\n",
       "      <th>3</th>\n",
       "      <td>0</td>\n",
       "      <td>64900000</td>\n",
       "      <td>159.00</td>\n",
       "      <td>2015-07-24</td>\n",
       "      <td>3</td>\n",
       "      <td>NaN</td>\n",
       "      <td>14.0</td>\n",
       "      <td>NaN</td>\n",
       "      <td>9</td>\n",
       "      <td>False</td>\n",
       "      <td>...</td>\n",
       "      <td>3.0</td>\n",
       "      <td>234.0</td>\n",
       "      <td>424</td>\n",
       "      <td>408176</td>\n",
       "      <td>4</td>\n",
       "      <td>7</td>\n",
       "      <td>2015</td>\n",
       "      <td>другой</td>\n",
       "      <td>NaN</td>\n",
       "      <td>NaN</td>\n",
       "    </tr>\n",
       "    <tr>\n",
       "      <th>4</th>\n",
       "      <td>2</td>\n",
       "      <td>10000000</td>\n",
       "      <td>100.00</td>\n",
       "      <td>2018-06-19</td>\n",
       "      <td>2</td>\n",
       "      <td>3.03</td>\n",
       "      <td>14.0</td>\n",
       "      <td>32.0</td>\n",
       "      <td>13</td>\n",
       "      <td>False</td>\n",
       "      <td>...</td>\n",
       "      <td>1.0</td>\n",
       "      <td>48.0</td>\n",
       "      <td>121</td>\n",
       "      <td>100000</td>\n",
       "      <td>1</td>\n",
       "      <td>6</td>\n",
       "      <td>2018</td>\n",
       "      <td>другой</td>\n",
       "      <td>0.320000</td>\n",
       "      <td>0.410000</td>\n",
       "    </tr>\n",
       "    <tr>\n",
       "      <th>...</th>\n",
       "      <td>...</td>\n",
       "      <td>...</td>\n",
       "      <td>...</td>\n",
       "      <td>...</td>\n",
       "      <td>...</td>\n",
       "      <td>...</td>\n",
       "      <td>...</td>\n",
       "      <td>...</td>\n",
       "      <td>...</td>\n",
       "      <td>...</td>\n",
       "      <td>...</td>\n",
       "      <td>...</td>\n",
       "      <td>...</td>\n",
       "      <td>...</td>\n",
       "      <td>...</td>\n",
       "      <td>...</td>\n",
       "      <td>...</td>\n",
       "      <td>...</td>\n",
       "      <td>...</td>\n",
       "      <td>...</td>\n",
       "      <td>...</td>\n",
       "    </tr>\n",
       "    <tr>\n",
       "      <th>23694</th>\n",
       "      <td>9</td>\n",
       "      <td>9700000</td>\n",
       "      <td>133.81</td>\n",
       "      <td>2017-03-21</td>\n",
       "      <td>3</td>\n",
       "      <td>3.70</td>\n",
       "      <td>5.0</td>\n",
       "      <td>73.3</td>\n",
       "      <td>3</td>\n",
       "      <td>False</td>\n",
       "      <td>...</td>\n",
       "      <td>3.0</td>\n",
       "      <td>381.0</td>\n",
       "      <td>0</td>\n",
       "      <td>72490</td>\n",
       "      <td>1</td>\n",
       "      <td>3</td>\n",
       "      <td>2017</td>\n",
       "      <td>другой</td>\n",
       "      <td>0.547792</td>\n",
       "      <td>0.103356</td>\n",
       "    </tr>\n",
       "    <tr>\n",
       "      <th>23695</th>\n",
       "      <td>14</td>\n",
       "      <td>3100000</td>\n",
       "      <td>59.00</td>\n",
       "      <td>2018-01-15</td>\n",
       "      <td>3</td>\n",
       "      <td>NaN</td>\n",
       "      <td>5.0</td>\n",
       "      <td>38.0</td>\n",
       "      <td>4</td>\n",
       "      <td>False</td>\n",
       "      <td>...</td>\n",
       "      <td>NaN</td>\n",
       "      <td>NaN</td>\n",
       "      <td>45</td>\n",
       "      <td>52542</td>\n",
       "      <td>0</td>\n",
       "      <td>1</td>\n",
       "      <td>2018</td>\n",
       "      <td>другой</td>\n",
       "      <td>0.644068</td>\n",
       "      <td>0.144068</td>\n",
       "    </tr>\n",
       "    <tr>\n",
       "      <th>23696</th>\n",
       "      <td>18</td>\n",
       "      <td>2500000</td>\n",
       "      <td>56.70</td>\n",
       "      <td>2018-02-11</td>\n",
       "      <td>2</td>\n",
       "      <td>NaN</td>\n",
       "      <td>3.0</td>\n",
       "      <td>29.7</td>\n",
       "      <td>1</td>\n",
       "      <td>False</td>\n",
       "      <td>...</td>\n",
       "      <td>NaN</td>\n",
       "      <td>NaN</td>\n",
       "      <td>0</td>\n",
       "      <td>44091</td>\n",
       "      <td>6</td>\n",
       "      <td>2</td>\n",
       "      <td>2018</td>\n",
       "      <td>первый</td>\n",
       "      <td>0.523810</td>\n",
       "      <td>NaN</td>\n",
       "    </tr>\n",
       "    <tr>\n",
       "      <th>23697</th>\n",
       "      <td>13</td>\n",
       "      <td>11475000</td>\n",
       "      <td>76.75</td>\n",
       "      <td>2017-03-28</td>\n",
       "      <td>2</td>\n",
       "      <td>3.00</td>\n",
       "      <td>17.0</td>\n",
       "      <td>NaN</td>\n",
       "      <td>12</td>\n",
       "      <td>False</td>\n",
       "      <td>...</td>\n",
       "      <td>3.0</td>\n",
       "      <td>196.0</td>\n",
       "      <td>602</td>\n",
       "      <td>149511</td>\n",
       "      <td>1</td>\n",
       "      <td>3</td>\n",
       "      <td>2017</td>\n",
       "      <td>другой</td>\n",
       "      <td>NaN</td>\n",
       "      <td>0.303583</td>\n",
       "    </tr>\n",
       "    <tr>\n",
       "      <th>23698</th>\n",
       "      <td>4</td>\n",
       "      <td>1350000</td>\n",
       "      <td>32.30</td>\n",
       "      <td>2017-07-21</td>\n",
       "      <td>1</td>\n",
       "      <td>2.50</td>\n",
       "      <td>5.0</td>\n",
       "      <td>12.3</td>\n",
       "      <td>1</td>\n",
       "      <td>False</td>\n",
       "      <td>...</td>\n",
       "      <td>NaN</td>\n",
       "      <td>NaN</td>\n",
       "      <td>0</td>\n",
       "      <td>41795</td>\n",
       "      <td>4</td>\n",
       "      <td>7</td>\n",
       "      <td>2017</td>\n",
       "      <td>первый</td>\n",
       "      <td>0.380805</td>\n",
       "      <td>0.278638</td>\n",
       "    </tr>\n",
       "  </tbody>\n",
       "</table>\n",
       "<p>23699 rows × 29 columns</p>\n",
       "</div>"
      ],
      "text/plain": [
       "       total_images  last_price  total_area first_day_exposition  rooms  \\\n",
       "0                20    13000000      108.00           2019-03-07      3   \n",
       "1                 7     3350000       40.40           2018-12-04      1   \n",
       "2                10     5196000       56.00           2015-08-20      2   \n",
       "3                 0    64900000      159.00           2015-07-24      3   \n",
       "4                 2    10000000      100.00           2018-06-19      2   \n",
       "...             ...         ...         ...                  ...    ...   \n",
       "23694             9     9700000      133.81           2017-03-21      3   \n",
       "23695            14     3100000       59.00           2018-01-15      3   \n",
       "23696            18     2500000       56.70           2018-02-11      2   \n",
       "23697            13    11475000       76.75           2017-03-28      2   \n",
       "23698             4     1350000       32.30           2017-07-21      1   \n",
       "\n",
       "       ceiling_height  floors_total  living_area  floor  is_apartment  ...  \\\n",
       "0                2.70          16.0         51.0      8         False  ...   \n",
       "1                 NaN          11.0         18.6      1         False  ...   \n",
       "2                 NaN           5.0         34.3      4         False  ...   \n",
       "3                 NaN          14.0          NaN      9         False  ...   \n",
       "4                3.03          14.0         32.0     13         False  ...   \n",
       "...               ...           ...          ...    ...           ...  ...   \n",
       "23694            3.70           5.0         73.3      3         False  ...   \n",
       "23695             NaN           5.0         38.0      4         False  ...   \n",
       "23696             NaN           3.0         29.7      1         False  ...   \n",
       "23697            3.00          17.0          NaN     12         False  ...   \n",
       "23698            2.50           5.0         12.3      1         False  ...   \n",
       "\n",
       "       ponds_around3000  ponds_nearest  days_exposition  \\\n",
       "0                   2.0          755.0                0   \n",
       "1                   0.0            NaN               81   \n",
       "2                   2.0          574.0              558   \n",
       "3                   3.0          234.0              424   \n",
       "4                   1.0           48.0              121   \n",
       "...                 ...            ...              ...   \n",
       "23694               3.0          381.0                0   \n",
       "23695               NaN            NaN               45   \n",
       "23696               NaN            NaN                0   \n",
       "23697               3.0          196.0              602   \n",
       "23698               NaN            NaN                0   \n",
       "\n",
       "       price_per_square_meter weekday  month  year  floor_category  \\\n",
       "0                      120370       3      3  2019          другой   \n",
       "1                       82920       1     12  2018          первый   \n",
       "2                       92785       3      8  2015          другой   \n",
       "3                      408176       4      7  2015          другой   \n",
       "4                      100000       1      6  2018          другой   \n",
       "...                       ...     ...    ...   ...             ...   \n",
       "23694                   72490       1      3  2017          другой   \n",
       "23695                   52542       0      1  2018          другой   \n",
       "23696                   44091       6      2  2018          первый   \n",
       "23697                  149511       1      3  2017          другой   \n",
       "23698                   41795       4      7  2017          первый   \n",
       "\n",
       "       useful_area_ratio  kitchen_area_ratio  \n",
       "0               0.472222            0.231481  \n",
       "1               0.460396            0.272277  \n",
       "2               0.612500            0.148214  \n",
       "3                    NaN                 NaN  \n",
       "4               0.320000            0.410000  \n",
       "...                  ...                 ...  \n",
       "23694           0.547792            0.103356  \n",
       "23695           0.644068            0.144068  \n",
       "23696           0.523810                 NaN  \n",
       "23697                NaN            0.303583  \n",
       "23698           0.380805            0.278638  \n",
       "\n",
       "[23699 rows x 29 columns]"
      ]
     },
     "metadata": {},
     "output_type": "display_data"
    }
   ],
   "source": [
    "display(data)"
   ]
  },
  {
   "cell_type": "markdown",
   "metadata": {},
   "source": [
    "<div class=\"alert alert-info\">\n",
    "<b>Вывод </b> \n",
    "    \n",
    "Посчитаны и добавлены в таблицу:\n",
    "- цена квадратного метра\n",
    "- день недели, месяц и год публикации объявления\n",
    "- этаж квартиры; варианты — первый, последний, другой;\n",
    "- соотношение жилой и общей площади, а также отношение площади кухни к общей.\n"
   ]
  },
  {
   "cell_type": "markdown",
   "metadata": {},
   "source": [
    "## Исследовательский анализ данных"
   ]
  },
  {
   "cell_type": "markdown",
   "metadata": {},
   "source": [
    "### изучение общей площади"
   ]
  },
  {
   "cell_type": "code",
   "execution_count": 74,
   "metadata": {},
   "outputs": [
    {
     "data": {
      "text/plain": [
       "count    23699.000000\n",
       "mean        60.348651\n",
       "std         35.654083\n",
       "min         12.000000\n",
       "25%         40.000000\n",
       "50%         52.000000\n",
       "75%         69.900000\n",
       "max        900.000000\n",
       "Name: total_area, dtype: float64"
      ]
     },
     "execution_count": 74,
     "metadata": {},
     "output_type": "execute_result"
    },
    {
     "data": {
      "image/png": "[encoded data removed]",
      "text/plain": [
       "<Figure size 360x216 with 1 Axes>"
      ]
     },
     "metadata": {
      "needs_background": "light"
     },
     "output_type": "display_data"
    }
   ],
   "source": [
    "data\n",
    "data.plot(y = 'total_area', kind = 'hist', bins = 100, grid=True, figsize = (5,3), range = (0,500))\n",
    "data['total_area'].describe()"
   ]
  },
  {
   "cell_type": "markdown",
   "metadata": {},
   "source": [
    "\n",
    "    \n",
    "Комментарий: видим нормальное распределение данных , есть выбросы но они не сильно влияют на данные,по гистограмме кроме распределения нечего больше указать, с помошью describe получил общее представление"
   ]
  },
  {
   "cell_type": "markdown",
   "metadata": {},
   "source": [
    "\n",
    "Комментарий:  Здесь несколько вариантов: Либо это опечатка, и вместо 30м продавец напечатал 300м, либо это большая  элитная недвижимость, а может продается две больших квартиры, объединенных в 1.Точно мы не сможем узнать с таким набором данных."
   ]
  },
  {
   "cell_type": "markdown",
   "metadata": {},
   "source": [
    "### изучение цен"
   ]
  },
  {
   "cell_type": "code",
   "execution_count": 75,
   "metadata": {},
   "outputs": [
    {
     "data": {
      "text/plain": [
       "count    23699.000000\n",
       "mean         6.541549\n",
       "std         10.887013\n",
       "min          0.012190\n",
       "25%          3.400000\n",
       "50%          4.650000\n",
       "75%          6.800000\n",
       "max        763.000000\n",
       "Name: last_price, dtype: float64"
      ]
     },
     "execution_count": 75,
     "metadata": {},
     "output_type": "execute_result"
    },
    {
     "data": {
      "image/png": "[encoded data removed]",
      "text/plain": [
       "<Figure size 360x216 with 1 Axes>"
      ]
     },
     "metadata": {
      "needs_background": "light"
     },
     "output_type": "display_data"
    }
   ],
   "source": [
    "data['last_price'] = data['last_price']/1000000\n",
    "data.plot(y = 'last_price', kind = 'hist', bins = 100, grid=True, range = (0,15), figsize = (5,3))\n",
    "data['last_price'].describe()"
   ]
  },
  {
   "cell_type": "markdown",
   "metadata": {},
   "source": [
    "<div class=\"alert alert-info\">\n",
    "<b>Вывод </b> \n",
    "    \n",
    "Изучили цену:\n",
    "    \n",
    "- средняя цена 6.5 млн\n",
    "- максимальная 763 млн\n",
    "- минимальная 12190 тыс\n",
    "    \n",
    "С данными все впорядке. Перевили цены в миллион для более удобного восприятия.  Нормальное распределение или распределение Гаусса!\n"
   ]
  },
  {
   "cell_type": "markdown",
   "metadata": {},
   "source": [
    "### изучение числа комнат"
   ]
  },
  {
   "cell_type": "code",
   "execution_count": 100,
   "metadata": {},
   "outputs": [
    {
     "data": {
      "text/plain": [
       "count    23699.000000\n",
       "mean         2.070636\n",
       "std          1.078405\n",
       "min          0.000000\n",
       "25%          1.000000\n",
       "50%          2.000000\n",
       "75%          3.000000\n",
       "max         19.000000\n",
       "Name: rooms, dtype: float64"
      ]
     },
     "execution_count": 100,
     "metadata": {},
     "output_type": "execute_result"
    },
    {
     "data": {
      "image/png": "[encoded data removed]",
      "text/plain": [
       "<Figure size 360x216 with 1 Axes>"
      ]
     },
     "metadata": {
      "needs_background": "light"
     },
     "output_type": "display_data"
    }
   ],
   "source": [
    "data.plot(y = 'rooms', kind = 'hist', bins = 30, grid=True, range = (0,15), figsize = (5,3))\n",
    "data['rooms'].describe()"
   ]
  },
  {
   "cell_type": "markdown",
   "metadata": {},
   "source": [
    "<div class=\"alert alert-info\">\n",
    "<b>Вывод </b> \n",
    "    \n",
    "Изучили число комнат:\n",
    "    \n",
    "С данными все в порядке, из графика видно, что больше всего предложений одно-/двухкомнатных квартир... Около 8000\n",
    "    \n"
   ]
  },
  {
   "cell_type": "markdown",
   "metadata": {},
   "source": [
    "### изучение высоты потолков"
   ]
  },
  {
   "cell_type": "code",
   "execution_count": 101,
   "metadata": {
    "scrolled": false
   },
   "outputs": [
    {
     "data": {
      "text/plain": [
       "count    14504.000000\n",
       "mean         2.771499\n",
       "std          1.261056\n",
       "min          1.000000\n",
       "25%          2.520000\n",
       "50%          2.650000\n",
       "75%          2.800000\n",
       "max        100.000000\n",
       "Name: ceiling_height, dtype: float64"
      ]
     },
     "execution_count": 101,
     "metadata": {},
     "output_type": "execute_result"
    },
    {
     "data": {
      "image/png": "[encoded data removed]",
      "text/plain": [
       "<Figure size 360x216 with 1 Axes>"
      ]
     },
     "metadata": {
      "needs_background": "light"
     },
     "output_type": "display_data"
    }
   ],
   "source": [
    "data.plot(y = 'ceiling_height', kind = 'hist', bins = 30, range = (2,5), grid=True, figsize = (5,3))\n",
    "data['ceiling_height'].describe()"
   ]
  },
  {
   "cell_type": "markdown",
   "metadata": {},
   "source": [
    "\n",
    "\n",
    "\n",
    "\n",
    "<div class=\"alert alert-info\">\n",
    "<b>Вывод </b> \n",
    "    \n",
    "Изучили высоту потолков:\n",
    "    \n",
    "    \n",
    "Есть очевидные варианты с стандартной высотой в 2.6м, это несильно отличается от среднего поазателя в  2.7. С данными все в порядке"
   ]
  },
  {
   "cell_type": "markdown",
   "metadata": {},
   "source": [
    "<div class=\"alert alert-info\">\n",
    "<b>Общий вывод </b> \n",
    "\n",
    "Общая площадь в выборке колеблется от 12 до 900 м2, среднее значение 60, а медиана 52 м2. Распределение данных Гаусса.\n",
    "Цены на недвижимость имеют среднее значение в 6,5 млн руб., медиана 4,6 млн руб. Распределение данных Гаусса.\n",
    "Количество комнат колеблется от 1 до 19. Больше всего однокомнатных квартир.\n",
    "Высота потолков в среднем составляет 2,77 м, медиана 2,65 м.\n",
    "Во всех данных есть неадекватные значения, наподобе 0 комнат, высоты потолков в 1 или 100 метров, а также цена квартиры в 12190 рублей. О данных неадекватных значениях мы спросим у сотрудников, предоставивших нам выборку данных, для общего изучения данных, мы не станем убирать эти выбивающиеся значения."
   ]
  },
  {
   "cell_type": "markdown",
   "metadata": {},
   "source": [
    "### Изучение времени продажи квартиры."
   ]
  },
  {
   "cell_type": "code",
   "execution_count": 78,
   "metadata": {},
   "outputs": [
    {
     "data": {
      "text/plain": [
       "Index(['total_images', 'last_price', 'total_area', 'first_day_exposition',\n",
       "       'rooms', 'ceiling_height', 'floors_total', 'living_area', 'floor',\n",
       "       'is_apartment', 'studio', 'open_plan', 'kitchen_area', 'balcony',\n",
       "       'locality_name', 'airports_nearest', 'cityCenters_nearest',\n",
       "       'parks_around3000', 'parks_nearest', 'ponds_around3000',\n",
       "       'ponds_nearest', 'days_exposition', 'price_per_square_meter', 'weekday',\n",
       "       'month', 'year', 'floor_category', 'useful_area_ratio',\n",
       "       'kitchen_area_ratio'],\n",
       "      dtype='object')"
      ]
     },
     "metadata": {},
     "output_type": "display_data"
    },
    {
     "data": {
      "text/plain": [
       "count    20518.000000\n",
       "mean       180.888634\n",
       "std        219.727988\n",
       "min          1.000000\n",
       "25%         45.000000\n",
       "50%         95.000000\n",
       "75%        232.000000\n",
       "max       1580.000000\n",
       "Name: days_exposition, dtype: float64"
      ]
     },
     "execution_count": 78,
     "metadata": {},
     "output_type": "execute_result"
    },
    {
     "data": {
      "image/png": "[encoded data removed]",
      "text/plain": [
       "<Figure size 432x288 with 1 Axes>"
      ]
     },
     "metadata": {
      "needs_background": "light"
     },
     "output_type": "display_data"
    },
    {
     "data": {
      "image/png": "[encoded data removed]",
      "text/plain": [
       "<Figure size 432x288 with 1 Axes>"
      ]
     },
     "metadata": {
      "needs_background": "light"
     },
     "output_type": "display_data"
    }
   ],
   "source": [
    "display(data.columns)\n",
    "\n",
    "#посторена диаграмма размаха\n",
    "import matplotlib.pyplot as plt\n",
    "plt.boxplot(data[data['days_exposition']!=0]['days_exposition'])\n",
    "plt.ylim(1,1000)\n",
    "\n",
    "#data.plot(y = 'days_exposition', kind = 'hist', bins = 30, grid = True, range = (1,1600))\n",
    "data.plot(y = 'days_exposition', kind = 'hist', bins = 100, grid = True, range = (1,200))\n",
    "\n",
    "#среднее значение, медиана и межквартильный размах\n",
    "data[data['days_exposition']!=0]['days_exposition'].describe()\n",
    "#data[data['days_exposition']!=0]['days_exposition'].value_counts()\n"
   ]
  },
  {
   "cell_type": "markdown",
   "metadata": {},
   "source": [
    "<div class=\"alert alert-info\">\n",
    "<b>Вывод </b> \n",
    "\n",
    "    \n",
    "    \n",
    "- судя по гистограмме - мы имеем распределение Пуассона. Среднее значение - 180 дней,  медиана - 95. Сделав гистограмму со значениями от 0 до 200 с кол-вом корзин 100, обнаружили выбивающиеся значения и методом value_counts убедились в этом - у нас аномалии на 45, 60, 7, 30, 90 днях - это наиболее популярное количество дней до снятия объявления.\n",
    "    \n",
    "\n",
    "    \n",
    "- исходя же из метода boxplot - диаграмма размаха от минимального значения до 500 дней. Значит необоснованно быстрых значений у нас нет, а необоснованно долгие - от 500 дней и выше. Значит нормальные значения у нас лежат от 1 до 500."
   ]
  },
  {
   "cell_type": "code",
   "execution_count": 79,
   "metadata": {
    "scrolled": false
   },
   "outputs": [
    {
     "data": {
      "text/html": [
       "<div>\n",
       "<style scoped>\n",
       "    .dataframe tbody tr th:only-of-type {\n",
       "        vertical-align: middle;\n",
       "    }\n",
       "\n",
       "    .dataframe tbody tr th {\n",
       "        vertical-align: top;\n",
       "    }\n",
       "\n",
       "    .dataframe thead th {\n",
       "        text-align: right;\n",
       "    }\n",
       "</style>\n",
       "<table border=\"1\" class=\"dataframe\">\n",
       "  <thead>\n",
       "    <tr style=\"text-align: right;\">\n",
       "      <th></th>\n",
       "      <th>total_images</th>\n",
       "      <th>last_price</th>\n",
       "      <th>total_area</th>\n",
       "      <th>first_day_exposition</th>\n",
       "      <th>rooms</th>\n",
       "      <th>ceiling_height</th>\n",
       "      <th>floors_total</th>\n",
       "      <th>living_area</th>\n",
       "      <th>floor</th>\n",
       "      <th>is_apartment</th>\n",
       "      <th>...</th>\n",
       "      <th>ponds_around3000</th>\n",
       "      <th>ponds_nearest</th>\n",
       "      <th>days_exposition</th>\n",
       "      <th>price_per_square_meter</th>\n",
       "      <th>weekday</th>\n",
       "      <th>month</th>\n",
       "      <th>year</th>\n",
       "      <th>floor_category</th>\n",
       "      <th>useful_area_ratio</th>\n",
       "      <th>kitchen_area_ratio</th>\n",
       "    </tr>\n",
       "  </thead>\n",
       "  <tbody>\n",
       "    <tr>\n",
       "      <th>78</th>\n",
       "      <td>9</td>\n",
       "      <td>4.35</td>\n",
       "      <td>37.0</td>\n",
       "      <td>2018-02-22</td>\n",
       "      <td>1</td>\n",
       "      <td>NaN</td>\n",
       "      <td>19.0</td>\n",
       "      <td>18.0</td>\n",
       "      <td>6</td>\n",
       "      <td>False</td>\n",
       "      <td>...</td>\n",
       "      <td>0.0</td>\n",
       "      <td>NaN</td>\n",
       "      <td>45</td>\n",
       "      <td>117567</td>\n",
       "      <td>3</td>\n",
       "      <td>2</td>\n",
       "      <td>2018</td>\n",
       "      <td>другой</td>\n",
       "      <td>0.486486</td>\n",
       "      <td>0.289189</td>\n",
       "    </tr>\n",
       "    <tr>\n",
       "      <th>89</th>\n",
       "      <td>9</td>\n",
       "      <td>2.50</td>\n",
       "      <td>63.0</td>\n",
       "      <td>2018-10-25</td>\n",
       "      <td>3</td>\n",
       "      <td>2.50</td>\n",
       "      <td>5.0</td>\n",
       "      <td>43.0</td>\n",
       "      <td>4</td>\n",
       "      <td>False</td>\n",
       "      <td>...</td>\n",
       "      <td>NaN</td>\n",
       "      <td>NaN</td>\n",
       "      <td>45</td>\n",
       "      <td>39682</td>\n",
       "      <td>3</td>\n",
       "      <td>10</td>\n",
       "      <td>2018</td>\n",
       "      <td>другой</td>\n",
       "      <td>0.682540</td>\n",
       "      <td>0.142857</td>\n",
       "    </tr>\n",
       "    <tr>\n",
       "      <th>110</th>\n",
       "      <td>6</td>\n",
       "      <td>3.85</td>\n",
       "      <td>72.3</td>\n",
       "      <td>2017-09-29</td>\n",
       "      <td>2</td>\n",
       "      <td>NaN</td>\n",
       "      <td>3.0</td>\n",
       "      <td>27.4</td>\n",
       "      <td>2</td>\n",
       "      <td>False</td>\n",
       "      <td>...</td>\n",
       "      <td>NaN</td>\n",
       "      <td>NaN</td>\n",
       "      <td>45</td>\n",
       "      <td>53250</td>\n",
       "      <td>4</td>\n",
       "      <td>9</td>\n",
       "      <td>2017</td>\n",
       "      <td>другой</td>\n",
       "      <td>0.378976</td>\n",
       "      <td>0.326418</td>\n",
       "    </tr>\n",
       "    <tr>\n",
       "      <th>153</th>\n",
       "      <td>12</td>\n",
       "      <td>4.35</td>\n",
       "      <td>55.0</td>\n",
       "      <td>2017-05-21</td>\n",
       "      <td>2</td>\n",
       "      <td>2.57</td>\n",
       "      <td>9.0</td>\n",
       "      <td>31.2</td>\n",
       "      <td>2</td>\n",
       "      <td>False</td>\n",
       "      <td>...</td>\n",
       "      <td>0.0</td>\n",
       "      <td>NaN</td>\n",
       "      <td>45</td>\n",
       "      <td>79090</td>\n",
       "      <td>6</td>\n",
       "      <td>5</td>\n",
       "      <td>2017</td>\n",
       "      <td>другой</td>\n",
       "      <td>0.567273</td>\n",
       "      <td>0.150909</td>\n",
       "    </tr>\n",
       "    <tr>\n",
       "      <th>158</th>\n",
       "      <td>15</td>\n",
       "      <td>3.10</td>\n",
       "      <td>47.3</td>\n",
       "      <td>2017-11-07</td>\n",
       "      <td>2</td>\n",
       "      <td>NaN</td>\n",
       "      <td>5.0</td>\n",
       "      <td>27.5</td>\n",
       "      <td>2</td>\n",
       "      <td>False</td>\n",
       "      <td>...</td>\n",
       "      <td>NaN</td>\n",
       "      <td>NaN</td>\n",
       "      <td>45</td>\n",
       "      <td>65539</td>\n",
       "      <td>1</td>\n",
       "      <td>11</td>\n",
       "      <td>2017</td>\n",
       "      <td>другой</td>\n",
       "      <td>0.581395</td>\n",
       "      <td>0.179704</td>\n",
       "    </tr>\n",
       "    <tr>\n",
       "      <th>...</th>\n",
       "      <td>...</td>\n",
       "      <td>...</td>\n",
       "      <td>...</td>\n",
       "      <td>...</td>\n",
       "      <td>...</td>\n",
       "      <td>...</td>\n",
       "      <td>...</td>\n",
       "      <td>...</td>\n",
       "      <td>...</td>\n",
       "      <td>...</td>\n",
       "      <td>...</td>\n",
       "      <td>...</td>\n",
       "      <td>...</td>\n",
       "      <td>...</td>\n",
       "      <td>...</td>\n",
       "      <td>...</td>\n",
       "      <td>...</td>\n",
       "      <td>...</td>\n",
       "      <td>...</td>\n",
       "      <td>...</td>\n",
       "      <td>...</td>\n",
       "    </tr>\n",
       "    <tr>\n",
       "      <th>23601</th>\n",
       "      <td>10</td>\n",
       "      <td>2.90</td>\n",
       "      <td>43.4</td>\n",
       "      <td>2018-01-11</td>\n",
       "      <td>2</td>\n",
       "      <td>NaN</td>\n",
       "      <td>5.0</td>\n",
       "      <td>NaN</td>\n",
       "      <td>1</td>\n",
       "      <td>False</td>\n",
       "      <td>...</td>\n",
       "      <td>2.0</td>\n",
       "      <td>397.0</td>\n",
       "      <td>45</td>\n",
       "      <td>66820</td>\n",
       "      <td>3</td>\n",
       "      <td>1</td>\n",
       "      <td>2018</td>\n",
       "      <td>первый</td>\n",
       "      <td>NaN</td>\n",
       "      <td>NaN</td>\n",
       "    </tr>\n",
       "    <tr>\n",
       "      <th>23613</th>\n",
       "      <td>4</td>\n",
       "      <td>3.95</td>\n",
       "      <td>52.0</td>\n",
       "      <td>2018-03-04</td>\n",
       "      <td>3</td>\n",
       "      <td>NaN</td>\n",
       "      <td>5.0</td>\n",
       "      <td>NaN</td>\n",
       "      <td>2</td>\n",
       "      <td>False</td>\n",
       "      <td>...</td>\n",
       "      <td>0.0</td>\n",
       "      <td>NaN</td>\n",
       "      <td>45</td>\n",
       "      <td>75961</td>\n",
       "      <td>6</td>\n",
       "      <td>3</td>\n",
       "      <td>2018</td>\n",
       "      <td>другой</td>\n",
       "      <td>NaN</td>\n",
       "      <td>NaN</td>\n",
       "    </tr>\n",
       "    <tr>\n",
       "      <th>23670</th>\n",
       "      <td>9</td>\n",
       "      <td>2.45</td>\n",
       "      <td>45.6</td>\n",
       "      <td>2018-02-08</td>\n",
       "      <td>1</td>\n",
       "      <td>2.80</td>\n",
       "      <td>9.0</td>\n",
       "      <td>NaN</td>\n",
       "      <td>2</td>\n",
       "      <td>False</td>\n",
       "      <td>...</td>\n",
       "      <td>NaN</td>\n",
       "      <td>NaN</td>\n",
       "      <td>45</td>\n",
       "      <td>53728</td>\n",
       "      <td>3</td>\n",
       "      <td>2</td>\n",
       "      <td>2018</td>\n",
       "      <td>другой</td>\n",
       "      <td>NaN</td>\n",
       "      <td>NaN</td>\n",
       "    </tr>\n",
       "    <tr>\n",
       "      <th>23679</th>\n",
       "      <td>0</td>\n",
       "      <td>2.50</td>\n",
       "      <td>35.0</td>\n",
       "      <td>2017-12-08</td>\n",
       "      <td>1</td>\n",
       "      <td>NaN</td>\n",
       "      <td>9.0</td>\n",
       "      <td>NaN</td>\n",
       "      <td>4</td>\n",
       "      <td>False</td>\n",
       "      <td>...</td>\n",
       "      <td>NaN</td>\n",
       "      <td>NaN</td>\n",
       "      <td>45</td>\n",
       "      <td>71428</td>\n",
       "      <td>4</td>\n",
       "      <td>12</td>\n",
       "      <td>2017</td>\n",
       "      <td>другой</td>\n",
       "      <td>NaN</td>\n",
       "      <td>NaN</td>\n",
       "    </tr>\n",
       "    <tr>\n",
       "      <th>23695</th>\n",
       "      <td>14</td>\n",
       "      <td>3.10</td>\n",
       "      <td>59.0</td>\n",
       "      <td>2018-01-15</td>\n",
       "      <td>3</td>\n",
       "      <td>NaN</td>\n",
       "      <td>5.0</td>\n",
       "      <td>38.0</td>\n",
       "      <td>4</td>\n",
       "      <td>False</td>\n",
       "      <td>...</td>\n",
       "      <td>NaN</td>\n",
       "      <td>NaN</td>\n",
       "      <td>45</td>\n",
       "      <td>52542</td>\n",
       "      <td>0</td>\n",
       "      <td>1</td>\n",
       "      <td>2018</td>\n",
       "      <td>другой</td>\n",
       "      <td>0.644068</td>\n",
       "      <td>0.144068</td>\n",
       "    </tr>\n",
       "  </tbody>\n",
       "</table>\n",
       "<p>880 rows × 29 columns</p>\n",
       "</div>"
      ],
      "text/plain": [
       "       total_images  last_price  total_area first_day_exposition  rooms  \\\n",
       "78                9        4.35        37.0           2018-02-22      1   \n",
       "89                9        2.50        63.0           2018-10-25      3   \n",
       "110               6        3.85        72.3           2017-09-29      2   \n",
       "153              12        4.35        55.0           2017-05-21      2   \n",
       "158              15        3.10        47.3           2017-11-07      2   \n",
       "...             ...         ...         ...                  ...    ...   \n",
       "23601            10        2.90        43.4           2018-01-11      2   \n",
       "23613             4        3.95        52.0           2018-03-04      3   \n",
       "23670             9        2.45        45.6           2018-02-08      1   \n",
       "23679             0        2.50        35.0           2017-12-08      1   \n",
       "23695            14        3.10        59.0           2018-01-15      3   \n",
       "\n",
       "       ceiling_height  floors_total  living_area  floor  is_apartment  ...  \\\n",
       "78                NaN          19.0         18.0      6         False  ...   \n",
       "89               2.50           5.0         43.0      4         False  ...   \n",
       "110               NaN           3.0         27.4      2         False  ...   \n",
       "153              2.57           9.0         31.2      2         False  ...   \n",
       "158               NaN           5.0         27.5      2         False  ...   \n",
       "...               ...           ...          ...    ...           ...  ...   \n",
       "23601             NaN           5.0          NaN      1         False  ...   \n",
       "23613             NaN           5.0          NaN      2         False  ...   \n",
       "23670            2.80           9.0          NaN      2         False  ...   \n",
       "23679             NaN           9.0          NaN      4         False  ...   \n",
       "23695             NaN           5.0         38.0      4         False  ...   \n",
       "\n",
       "       ponds_around3000  ponds_nearest  days_exposition  \\\n",
       "78                  0.0            NaN               45   \n",
       "89                  NaN            NaN               45   \n",
       "110                 NaN            NaN               45   \n",
       "153                 0.0            NaN               45   \n",
       "158                 NaN            NaN               45   \n",
       "...                 ...            ...              ...   \n",
       "23601               2.0          397.0               45   \n",
       "23613               0.0            NaN               45   \n",
       "23670               NaN            NaN               45   \n",
       "23679               NaN            NaN               45   \n",
       "23695               NaN            NaN               45   \n",
       "\n",
       "       price_per_square_meter weekday  month  year  floor_category  \\\n",
       "78                     117567       3      2  2018          другой   \n",
       "89                      39682       3     10  2018          другой   \n",
       "110                     53250       4      9  2017          другой   \n",
       "153                     79090       6      5  2017          другой   \n",
       "158                     65539       1     11  2017          другой   \n",
       "...                       ...     ...    ...   ...             ...   \n",
       "23601                   66820       3      1  2018          первый   \n",
       "23613                   75961       6      3  2018          другой   \n",
       "23670                   53728       3      2  2018          другой   \n",
       "23679                   71428       4     12  2017          другой   \n",
       "23695                   52542       0      1  2018          другой   \n",
       "\n",
       "       useful_area_ratio  kitchen_area_ratio  \n",
       "78              0.486486            0.289189  \n",
       "89              0.682540            0.142857  \n",
       "110             0.378976            0.326418  \n",
       "153             0.567273            0.150909  \n",
       "158             0.581395            0.179704  \n",
       "...                  ...                 ...  \n",
       "23601                NaN                 NaN  \n",
       "23613                NaN                 NaN  \n",
       "23670                NaN                 NaN  \n",
       "23679                NaN                 NaN  \n",
       "23695           0.644068            0.144068  \n",
       "\n",
       "[880 rows x 29 columns]"
      ]
     },
     "execution_count": 79,
     "metadata": {},
     "output_type": "execute_result"
    }
   ],
   "source": [
    "data[data['days_exposition']==45]"
   ]
  },
  {
   "cell_type": "markdown",
   "metadata": {},
   "source": [
    "\n",
    "<div class=\"alert alert-info\">\n",
    "<b>Вывод </b> \n",
    "\n",
    "никаких общих особенностей в обьявлениях, снятых через 45 дней не выявлено, потому будем убирать эти данные из наших расчетов, как и данные с 60, 90, 30 и 7 дней в столбце days_exposition, так как это аномалии.\n",
    "\n",
    "    \n",
    "Исходя из метода describe, межквартильный размах - от 45 до 232 дней, исходя же из метода boxplot - диаграмма размаха у нас от минимального значения до примерно 500 дней. Значит необоснованно быстрых значений у нас нет, а необоснованно долгие - от 500 дней и выше. Значит нормальные значения у нас лежат от 1 до 500. На текущий момент мы уже знаем, что эти данные неправильные, но они нам нужны, чтобы сравнить с данными, очищенными от аномалий далее. Считаю важным уточнить у сотрудников насчет выбивающихся значений по датам снятия объявлений, чтобы убедиться в том, какие данные необходимо исключить из выборки."
   ]
  },
  {
   "cell_type": "markdown",
   "metadata": {},
   "source": [
    "## Анализ данных"
   ]
  },
  {
   "cell_type": "markdown",
   "metadata": {},
   "source": [
    "### Выбросы и аномалии"
   ]
  },
  {
   "cell_type": "code",
   "execution_count": 80,
   "metadata": {},
   "outputs": [],
   "source": [
    "good_data = data.query('days_exposition != 45 and days_exposition != 30 and days_exposition != 60 and days_exposition != 90 and days_exposition != 7 and days_exposition != 0')"
   ]
  },
  {
   "cell_type": "code",
   "execution_count": 81,
   "metadata": {},
   "outputs": [
    {
     "data": {
      "text/plain": [
       "(1.0, 1000.0)"
      ]
     },
     "execution_count": 81,
     "metadata": {},
     "output_type": "execute_result"
    },
    {
     "data": {
      "image/png": "[encoded data removed]",
      "text/plain": [
       "<Figure size 432x288 with 1 Axes>"
      ]
     },
     "metadata": {
      "needs_background": "light"
     },
     "output_type": "display_data"
    }
   ],
   "source": [
    "plt.boxplot(good_data['days_exposition'])\n",
    "plt.ylim(1,1000)"
   ]
  },
  {
   "cell_type": "code",
   "execution_count": 82,
   "metadata": {},
   "outputs": [
    {
     "data": {
      "text/plain": [
       "<AxesSubplot:ylabel='Frequency'>"
      ]
     },
     "execution_count": 82,
     "metadata": {},
     "output_type": "execute_result"
    },
    {
     "data": {
      "image/png": "[encoded data removed]",
      "text/plain": [
       "<Figure size 432x288 with 1 Axes>"
      ]
     },
     "metadata": {
      "needs_background": "light"
     },
     "output_type": "display_data"
    },
    {
     "data": {
      "image/png": "[encoded data removed]",
      "text/plain": [
       "<Figure size 432x288 with 1 Axes>"
      ]
     },
     "metadata": {
      "needs_background": "light"
     },
     "output_type": "display_data"
    }
   ],
   "source": [
    "good_data.plot(y = 'days_exposition', kind = 'hist', bins = 30, grid = True, range = (1,1600))\n",
    "good_data.plot(y = 'days_exposition', kind = 'hist', bins = 100, grid = True, range = (1,200))"
   ]
  },
  {
   "cell_type": "markdown",
   "metadata": {},
   "source": [
    "<div class=\"alert alert-info\">\n",
    "<b>Вывод </b> \n",
    "    \n",
    "Ожидаемо, в очищенных данных с аномалиями в значениях меньших медианы получаем бОльшие значения медианы и среднего значения - 114 и 195 соответственно, вместо 95 и 180. Аналогично, теперь нормальные значения располагаются от 1 до 600 дней вместо от 1 до 500 дней."
   ]
  },
  {
   "cell_type": "markdown",
   "metadata": {},
   "source": [
    "### Факторы больше всего влияющие на стоимость квартиры?"
   ]
  },
  {
   "cell_type": "markdown",
   "metadata": {},
   "source": [
    "#### зависимость цены квадратного метра от общей площади квартиры"
   ]
  },
  {
   "cell_type": "code",
   "execution_count": 84,
   "metadata": {},
   "outputs": [
    {
     "data": {
      "text/plain": [
       "0.3019601438779257"
      ]
     },
     "execution_count": 84,
     "metadata": {},
     "output_type": "execute_result"
    },
    {
     "data": {
      "image/png": "[encoded data removed]",
      "text/plain": [
       "<Figure size 432x288 with 1 Axes>"
      ]
     },
     "metadata": {
      "needs_background": "light"
     },
     "output_type": "display_data"
    }
   ],
   "source": [
    "pivot_table_total_area = data.pivot_table(index = 'total_area', values = 'price_per_square_meter', aggfunc = ['mean', 'count', 'median'])\n",
    "pivot_table_total_area.columns = ['mean', 'count', 'median']\n",
    "pivot_table_total_area.plot(y = 'median', style = 'o')\n",
    "\n",
    "pivot_table_total_area.sort_values('median', ascending = False)\n",
    "\n",
    "data['total_area'].corr(data['price_per_square_meter'])"
   ]
  },
  {
   "cell_type": "markdown",
   "metadata": {},
   "source": [
    "<div class=\"alert alert-info\">\n",
    "<b>Вывод </b> \n",
    "    \n",
    "Видим, что зависимость очень слабая - согласно корреляции Пирсона - 0.3! То есть, чем больше площадь тем немного выше стоимость!"
   ]
  },
  {
   "cell_type": "markdown",
   "metadata": {},
   "source": [
    "#### зависимость цены квадратного метра от числа комнат"
   ]
  },
  {
   "cell_type": "code",
   "execution_count": 85,
   "metadata": {},
   "outputs": [
    {
     "data": {
      "text/plain": [
       "0.05541949967059211"
      ]
     },
     "execution_count": 85,
     "metadata": {},
     "output_type": "execute_result"
    },
    {
     "data": {
      "image/png": "[encoded data removed]",
      "text/plain": [
       "<Figure size 432x288 with 1 Axes>"
      ]
     },
     "metadata": {
      "needs_background": "light"
     },
     "output_type": "display_data"
    }
   ],
   "source": [
    "\n",
    "pivot_table_rooms = data.pivot_table(index = 'rooms', values = 'price_per_square_meter', aggfunc = ['mean', 'count', 'median'])\n",
    "pivot_table_rooms.columns = ['mean', 'count', 'median']\n",
    "pivot_table_rooms.query('count > 50').plot(y = 'median')\n",
    "\n",
    "pivot_table_rooms.query('count > 50').sort_values('median', ascending = False)\n",
    "\n",
    "data['rooms'].corr(data['price_per_square_meter'])"
   ]
  },
  {
   "cell_type": "markdown",
   "metadata": {},
   "source": [
    "<div class=\"alert alert-info\">\n",
    "<b>Вывод </b> \n",
    "    \n",
    "Чем ближе количество комнат к 3 тем ниже стоимость квадратного метра.\n",
    "Края диапозона заметно идут вверх в двух случаях:\n",
    "- Чем меньше комнат, тем стоимость выше. Это ожидаемо, ведь однокомнатные квартиры, как правило дороже, чем двух - и трехкомнатные\n",
    "- Количество комнат от 4 :в данном случае можно предположить, что речь идет о жилье повышенной комфортности, комфорт- и премиум класса. В таких случаях цена будет выше\n"
   ]
  },
  {
   "cell_type": "markdown",
   "metadata": {},
   "source": [
    "#### зависимость цены квадратного метра от этажа (первого или последнего)"
   ]
  },
  {
   "cell_type": "code",
   "execution_count": 102,
   "metadata": {},
   "outputs": [
    {
     "data": {
      "text/html": [
       "<div>\n",
       "<style scoped>\n",
       "    .dataframe tbody tr th:only-of-type {\n",
       "        vertical-align: middle;\n",
       "    }\n",
       "\n",
       "    .dataframe tbody tr th {\n",
       "        vertical-align: top;\n",
       "    }\n",
       "\n",
       "    .dataframe thead th {\n",
       "        text-align: right;\n",
       "    }\n",
       "</style>\n",
       "<table border=\"1\" class=\"dataframe\">\n",
       "  <thead>\n",
       "    <tr style=\"text-align: right;\">\n",
       "      <th></th>\n",
       "      <th>mean</th>\n",
       "      <th>count</th>\n",
       "      <th>median</th>\n",
       "    </tr>\n",
       "    <tr>\n",
       "      <th>floor_category</th>\n",
       "      <th></th>\n",
       "      <th></th>\n",
       "      <th></th>\n",
       "    </tr>\n",
       "  </thead>\n",
       "  <tbody>\n",
       "    <tr>\n",
       "      <th>другой</th>\n",
       "      <td>103467.774233</td>\n",
       "      <td>17363</td>\n",
       "      <td>98275</td>\n",
       "    </tr>\n",
       "    <tr>\n",
       "      <th>первый</th>\n",
       "      <td>81983.111759</td>\n",
       "      <td>2917</td>\n",
       "      <td>81223</td>\n",
       "    </tr>\n",
       "    <tr>\n",
       "      <th>последний</th>\n",
       "      <td>93410.267686</td>\n",
       "      <td>3336</td>\n",
       "      <td>87777</td>\n",
       "    </tr>\n",
       "  </tbody>\n",
       "</table>\n",
       "</div>"
      ],
      "text/plain": [
       "                         mean  count  median\n",
       "floor_category                              \n",
       "другой          103467.774233  17363   98275\n",
       "первый           81983.111759   2917   81223\n",
       "последний        93410.267686   3336   87777"
      ]
     },
     "execution_count": 102,
     "metadata": {},
     "output_type": "execute_result"
    },
    {
     "data": {
      "image/png": "[encoded data removed]",
      "text/plain": [
       "<Figure size 432x288 with 1 Axes>"
      ]
     },
     "metadata": {
      "needs_background": "light"
     },
     "output_type": "display_data"
    }
   ],
   "source": [
    "pivot_table_floor_category = data.pivot_table(index = 'floor_category', values = 'price_per_square_meter', aggfunc = ['mean', 'count', 'median'])\n",
    "pivot_table_floor_category.columns = ['mean', 'count', 'median']\n",
    "pivot_table_floor_category.plot(y = 'median')\n",
    "pivot_table_floor_category"
   ]
  },
  {
   "cell_type": "markdown",
   "metadata": {},
   "source": [
    "<div class=\"alert alert-info\">\n",
    "<b>Вывод </b> \n",
    "    \n",
    "Согласно медиане - как правило квартиры на первом этаже дешевле квартир на последнем этаже - в среднем на 10%!\n",
    "Про цену на других этажах мы можем сказать, что они так же дороже, чем недвижимость на 1-ом этаже, рост стоимостиё\n",
    "квадратного метра возрастает до 20%"
   ]
  },
  {
   "cell_type": "markdown",
   "metadata": {},
   "source": [
    "#### зависимость цены квадратного метра от удалённости от центра"
   ]
  },
  {
   "cell_type": "code",
   "execution_count": 103,
   "metadata": {
    "scrolled": true
   },
   "outputs": [
    {
     "data": {
      "text/plain": [
       "-0.31795073682864694"
      ]
     },
     "execution_count": 103,
     "metadata": {},
     "output_type": "execute_result"
    },
    {
     "data": {
      "image/png": "[encoded data removed]",
      "text/plain": [
       "<Figure size 432x288 with 1 Axes>"
      ]
     },
     "metadata": {
      "needs_background": "light"
     },
     "output_type": "display_data"
    }
   ],
   "source": [
    "data.plot(kind = 'scatter', y = 'price_per_square_meter', x = 'cityCenters_nearest', alpha = 0.3)\n",
    "data['cityCenters_nearest'].corr(data['price_per_square_meter'])"
   ]
  },
  {
   "cell_type": "markdown",
   "metadata": {},
   "source": [
    "<div class=\"alert alert-info\">\n",
    "<b>Вывод </b> \n",
    "    \n",
    "Видим явную зависимость стоимости квадратного метра от близости к центру! Чем ближе к центру, тем выше стоимость!"
   ]
  },
  {
   "cell_type": "markdown",
   "metadata": {},
   "source": [
    "#### зависимость цены квадратного метра от даты размещения: дня недели."
   ]
  },
  {
   "cell_type": "code",
   "execution_count": 88,
   "metadata": {},
   "outputs": [
    {
     "data": {
      "text/html": [
       "<div>\n",
       "<style scoped>\n",
       "    .dataframe tbody tr th:only-of-type {\n",
       "        vertical-align: middle;\n",
       "    }\n",
       "\n",
       "    .dataframe tbody tr th {\n",
       "        vertical-align: top;\n",
       "    }\n",
       "\n",
       "    .dataframe thead th {\n",
       "        text-align: right;\n",
       "    }\n",
       "</style>\n",
       "<table border=\"1\" class=\"dataframe\">\n",
       "  <thead>\n",
       "    <tr style=\"text-align: right;\">\n",
       "      <th></th>\n",
       "      <th>mean</th>\n",
       "      <th>count</th>\n",
       "      <th>median</th>\n",
       "    </tr>\n",
       "    <tr>\n",
       "      <th>weekday</th>\n",
       "      <th></th>\n",
       "      <th></th>\n",
       "      <th></th>\n",
       "    </tr>\n",
       "  </thead>\n",
       "  <tbody>\n",
       "    <tr>\n",
       "      <th>1</th>\n",
       "      <td>99734.089410</td>\n",
       "      <td>4183</td>\n",
       "      <td>95634.0</td>\n",
       "    </tr>\n",
       "    <tr>\n",
       "      <th>2</th>\n",
       "      <td>99616.731002</td>\n",
       "      <td>3974</td>\n",
       "      <td>95473.0</td>\n",
       "    </tr>\n",
       "    <tr>\n",
       "      <th>3</th>\n",
       "      <td>100162.466356</td>\n",
       "      <td>4295</td>\n",
       "      <td>95143.0</td>\n",
       "    </tr>\n",
       "    <tr>\n",
       "      <th>0</th>\n",
       "      <td>99437.994463</td>\n",
       "      <td>3612</td>\n",
       "      <td>94688.0</td>\n",
       "    </tr>\n",
       "    <tr>\n",
       "      <th>4</th>\n",
       "      <td>99011.697000</td>\n",
       "      <td>4000</td>\n",
       "      <td>94616.0</td>\n",
       "    </tr>\n",
       "    <tr>\n",
       "      <th>6</th>\n",
       "      <td>97707.917010</td>\n",
       "      <td>1699</td>\n",
       "      <td>94501.0</td>\n",
       "    </tr>\n",
       "    <tr>\n",
       "      <th>5</th>\n",
       "      <td>99017.722107</td>\n",
       "      <td>1936</td>\n",
       "      <td>93545.5</td>\n",
       "    </tr>\n",
       "  </tbody>\n",
       "</table>\n",
       "</div>"
      ],
      "text/plain": [
       "                  mean  count   median\n",
       "weekday                               \n",
       "1         99734.089410   4183  95634.0\n",
       "2         99616.731002   3974  95473.0\n",
       "3        100162.466356   4295  95143.0\n",
       "0         99437.994463   3612  94688.0\n",
       "4         99011.697000   4000  94616.0\n",
       "6         97707.917010   1699  94501.0\n",
       "5         99017.722107   1936  93545.5"
      ]
     },
     "execution_count": 88,
     "metadata": {},
     "output_type": "execute_result"
    },
    {
     "data": {
      "image/png": "[encoded data removed]",
      "text/plain": [
       "<Figure size 432x288 with 1 Axes>"
      ]
     },
     "metadata": {
      "needs_background": "light"
     },
     "output_type": "display_data"
    }
   ],
   "source": [
    "\n",
    "pivot_table_weekday_exposition = data.pivot_table(index = 'weekday', values = 'price_per_square_meter', aggfunc = ['mean', 'count', 'median'])\n",
    "pivot_table_weekday_exposition.columns = ['mean', 'count', 'median']\n",
    "pivot_table_weekday_exposition.plot(y = 'median')\n",
    "\n",
    "pivot_table_weekday_exposition.sort_values('median', ascending = False)"
   ]
  },
  {
   "cell_type": "markdown",
   "metadata": {},
   "source": [
    "<div class=\"alert alert-info\">\n",
    "<b>Вывод </b> \n",
    "\n",
    "Видим, что чем ближе ко вторнику выставлены объявления тем, в среднем выше стоимость, но незначительно! По субботам стоимость самая низкая!\n",
    "Полагаю, что стоимость выставленной на продажу недвижимости зависит от общей активности людей, так как именно в рабочие дни мы видим более высокие цены."
   ]
  },
  {
   "cell_type": "markdown",
   "metadata": {},
   "source": [
    "#### зависимость цены квадратного метра от даты размещения: месяца."
   ]
  },
  {
   "cell_type": "code",
   "execution_count": 106,
   "metadata": {},
   "outputs": [
    {
     "data": {
      "text/html": [
       "<div>\n",
       "<style scoped>\n",
       "    .dataframe tbody tr th:only-of-type {\n",
       "        vertical-align: middle;\n",
       "    }\n",
       "\n",
       "    .dataframe tbody tr th {\n",
       "        vertical-align: top;\n",
       "    }\n",
       "\n",
       "    .dataframe thead th {\n",
       "        text-align: right;\n",
       "    }\n",
       "</style>\n",
       "<table border=\"1\" class=\"dataframe\">\n",
       "  <thead>\n",
       "    <tr style=\"text-align: right;\">\n",
       "      <th></th>\n",
       "      <th>mean</th>\n",
       "      <th>count</th>\n",
       "      <th>median</th>\n",
       "    </tr>\n",
       "    <tr>\n",
       "      <th>month</th>\n",
       "      <th></th>\n",
       "      <th></th>\n",
       "      <th></th>\n",
       "    </tr>\n",
       "  </thead>\n",
       "  <tbody>\n",
       "    <tr>\n",
       "      <th>4</th>\n",
       "      <td>101948.567045</td>\n",
       "      <td>2379</td>\n",
       "      <td>96451</td>\n",
       "    </tr>\n",
       "    <tr>\n",
       "      <th>8</th>\n",
       "      <td>100110.094037</td>\n",
       "      <td>1744</td>\n",
       "      <td>96026</td>\n",
       "    </tr>\n",
       "    <tr>\n",
       "      <th>9</th>\n",
       "      <td>100463.814740</td>\n",
       "      <td>1981</td>\n",
       "      <td>95607</td>\n",
       "    </tr>\n",
       "    <tr>\n",
       "      <th>11</th>\n",
       "      <td>99230.427246</td>\n",
       "      <td>2371</td>\n",
       "      <td>95588</td>\n",
       "    </tr>\n",
       "    <tr>\n",
       "      <th>3</th>\n",
       "      <td>98972.768844</td>\n",
       "      <td>2587</td>\n",
       "      <td>95238</td>\n",
       "    </tr>\n",
       "    <tr>\n",
       "      <th>1</th>\n",
       "      <td>99862.139333</td>\n",
       "      <td>1500</td>\n",
       "      <td>95222</td>\n",
       "    </tr>\n",
       "    <tr>\n",
       "      <th>2</th>\n",
       "      <td>98768.292045</td>\n",
       "      <td>2640</td>\n",
       "      <td>95000</td>\n",
       "    </tr>\n",
       "    <tr>\n",
       "      <th>7</th>\n",
       "      <td>99625.190560</td>\n",
       "      <td>1695</td>\n",
       "      <td>95000</td>\n",
       "    </tr>\n",
       "    <tr>\n",
       "      <th>12</th>\n",
       "      <td>99574.280926</td>\n",
       "      <td>1641</td>\n",
       "      <td>94262</td>\n",
       "    </tr>\n",
       "    <tr>\n",
       "      <th>10</th>\n",
       "      <td>97933.448049</td>\n",
       "      <td>2127</td>\n",
       "      <td>94202</td>\n",
       "    </tr>\n",
       "    <tr>\n",
       "      <th>5</th>\n",
       "      <td>98543.340659</td>\n",
       "      <td>1274</td>\n",
       "      <td>92857</td>\n",
       "    </tr>\n",
       "    <tr>\n",
       "      <th>6</th>\n",
       "      <td>97762.870455</td>\n",
       "      <td>1760</td>\n",
       "      <td>92799</td>\n",
       "    </tr>\n",
       "  </tbody>\n",
       "</table>\n",
       "</div>"
      ],
      "text/plain": [
       "                mean  count  median\n",
       "month                              \n",
       "4      101948.567045   2379   96451\n",
       "8      100110.094037   1744   96026\n",
       "9      100463.814740   1981   95607\n",
       "11      99230.427246   2371   95588\n",
       "3       98972.768844   2587   95238\n",
       "1       99862.139333   1500   95222\n",
       "2       98768.292045   2640   95000\n",
       "7       99625.190560   1695   95000\n",
       "12      99574.280926   1641   94262\n",
       "10      97933.448049   2127   94202\n",
       "5       98543.340659   1274   92857\n",
       "6       97762.870455   1760   92799"
      ]
     },
     "execution_count": 106,
     "metadata": {},
     "output_type": "execute_result"
    },
    {
     "data": {
      "image/png": "[encoded data removed]",
      "text/plain": [
       "<Figure size 432x288 with 1 Axes>"
      ]
     },
     "metadata": {
      "needs_background": "light"
     },
     "output_type": "display_data"
    }
   ],
   "source": [
    "pivot_table_month_exposition = data.pivot_table(index = 'month', values = 'price_per_square_meter', aggfunc = ['mean', 'count', 'median'])\n",
    "pivot_table_month_exposition.columns = ['mean', 'count', 'median']\n",
    "pivot_table_month_exposition.plot(y = 'median')\n",
    "\n",
    "pivot_table_month_exposition.sort_values('median', ascending = False)"
   ]
  },
  {
   "cell_type": "markdown",
   "metadata": {},
   "source": [
    "<div class=\"alert alert-info\">\n",
    "<b>Вывод </b> \n",
    "    \n",
    "    \n",
    "Самая высокая стоимость метра в апреле и августе! Самая низкая стоимость в мае и июне! На рынке недвижимости, как и во многих других сферах присутствует сезонность - в начале лета мы видим наименьшее предложение как по количеству, так и по стоимости недвижимости. Наверное, это связано с отпусками."
   ]
  },
  {
   "cell_type": "markdown",
   "metadata": {},
   "source": [
    "#### зависимость цены квадратного метра от даты размещения: года."
   ]
  },
  {
   "cell_type": "code",
   "execution_count": 90,
   "metadata": {},
   "outputs": [
    {
     "data": {
      "text/html": [
       "<div>\n",
       "<style scoped>\n",
       "    .dataframe tbody tr th:only-of-type {\n",
       "        vertical-align: middle;\n",
       "    }\n",
       "\n",
       "    .dataframe tbody tr th {\n",
       "        vertical-align: top;\n",
       "    }\n",
       "\n",
       "    .dataframe thead th {\n",
       "        text-align: right;\n",
       "    }\n",
       "</style>\n",
       "<table border=\"1\" class=\"dataframe\">\n",
       "  <thead>\n",
       "    <tr style=\"text-align: right;\">\n",
       "      <th></th>\n",
       "      <th>mean</th>\n",
       "      <th>count</th>\n",
       "      <th>median</th>\n",
       "    </tr>\n",
       "    <tr>\n",
       "      <th>year</th>\n",
       "      <th></th>\n",
       "      <th></th>\n",
       "      <th></th>\n",
       "    </tr>\n",
       "  </thead>\n",
       "  <tbody>\n",
       "    <tr>\n",
       "      <th>2014</th>\n",
       "      <td>124830.000000</td>\n",
       "      <td>137</td>\n",
       "      <td>107000.0</td>\n",
       "    </tr>\n",
       "    <tr>\n",
       "      <th>2019</th>\n",
       "      <td>107123.332060</td>\n",
       "      <td>2879</td>\n",
       "      <td>103305.0</td>\n",
       "    </tr>\n",
       "    <tr>\n",
       "      <th>2018</th>\n",
       "      <td>97773.107290</td>\n",
       "      <td>8519</td>\n",
       "      <td>95689.0</td>\n",
       "    </tr>\n",
       "    <tr>\n",
       "      <th>2015</th>\n",
       "      <td>104613.756507</td>\n",
       "      <td>1191</td>\n",
       "      <td>93414.0</td>\n",
       "    </tr>\n",
       "    <tr>\n",
       "      <th>2017</th>\n",
       "      <td>97621.434188</td>\n",
       "      <td>8190</td>\n",
       "      <td>92564.5</td>\n",
       "    </tr>\n",
       "    <tr>\n",
       "      <th>2016</th>\n",
       "      <td>98321.900467</td>\n",
       "      <td>2783</td>\n",
       "      <td>91743.0</td>\n",
       "    </tr>\n",
       "  </tbody>\n",
       "</table>\n",
       "</div>"
      ],
      "text/plain": [
       "               mean  count    median\n",
       "year                                \n",
       "2014  124830.000000    137  107000.0\n",
       "2019  107123.332060   2879  103305.0\n",
       "2018   97773.107290   8519   95689.0\n",
       "2015  104613.756507   1191   93414.0\n",
       "2017   97621.434188   8190   92564.5\n",
       "2016   98321.900467   2783   91743.0"
      ]
     },
     "execution_count": 90,
     "metadata": {},
     "output_type": "execute_result"
    },
    {
     "data": {
      "image/png": "[encoded data removed]",
      "text/plain": [
       "<Figure size 432x288 with 1 Axes>"
      ]
     },
     "metadata": {
      "needs_background": "light"
     },
     "output_type": "display_data"
    }
   ],
   "source": [
    "\n",
    "pivot_table_year_exposition = data.pivot_table(index = 'year', values = 'price_per_square_meter', aggfunc = ['mean', 'count', 'median'])\n",
    "pivot_table_year_exposition.columns = ['mean', 'count', 'median']\n",
    "pivot_table_year_exposition.plot(y = 'median')\n",
    "\n",
    "pivot_table_year_exposition.sort_values('median', ascending = False)\n"
   ]
  },
  {
   "cell_type": "markdown",
   "metadata": {},
   "source": [
    "<div class=\"alert alert-info\">\n",
    "<b>Вывод </b> \n",
    "    \n",
    "    \n",
    "    \n",
    "Видим, что с 2014 до 2016 года цена падала, но далее начала увеличиваться! В СРЕДНЕМ! Мы не рассматриваем сегментацию рынка и по факту стоимость аналогичных квартир могла себя вести абсолютно иначе от года к году! В выводе присутствует реальный пример."
   ]
  },
  {
   "cell_type": "markdown",
   "metadata": {},
   "source": [
    "### 10 населённых пунктов с наибольшим числом объявлений"
   ]
  },
  {
   "cell_type": "code",
   "execution_count": 91,
   "metadata": {},
   "outputs": [
    {
     "data": {
      "text/html": [
       "<div>\n",
       "<style scoped>\n",
       "    .dataframe tbody tr th:only-of-type {\n",
       "        vertical-align: middle;\n",
       "    }\n",
       "\n",
       "    .dataframe tbody tr th {\n",
       "        vertical-align: top;\n",
       "    }\n",
       "\n",
       "    .dataframe thead th {\n",
       "        text-align: right;\n",
       "    }\n",
       "</style>\n",
       "<table border=\"1\" class=\"dataframe\">\n",
       "  <thead>\n",
       "    <tr style=\"text-align: right;\">\n",
       "      <th></th>\n",
       "      <th>total_images</th>\n",
       "      <th>last_price</th>\n",
       "      <th>total_area</th>\n",
       "      <th>first_day_exposition</th>\n",
       "      <th>rooms</th>\n",
       "      <th>ceiling_height</th>\n",
       "      <th>floors_total</th>\n",
       "      <th>living_area</th>\n",
       "      <th>floor</th>\n",
       "      <th>is_apartment</th>\n",
       "      <th>...</th>\n",
       "      <th>ponds_around3000</th>\n",
       "      <th>ponds_nearest</th>\n",
       "      <th>days_exposition</th>\n",
       "      <th>price_per_square_meter</th>\n",
       "      <th>weekday</th>\n",
       "      <th>month</th>\n",
       "      <th>year</th>\n",
       "      <th>floor_category</th>\n",
       "      <th>useful_area_ratio</th>\n",
       "      <th>kitchen_area_ratio</th>\n",
       "    </tr>\n",
       "    <tr>\n",
       "      <th>locality_name</th>\n",
       "      <th></th>\n",
       "      <th></th>\n",
       "      <th></th>\n",
       "      <th></th>\n",
       "      <th></th>\n",
       "      <th></th>\n",
       "      <th></th>\n",
       "      <th></th>\n",
       "      <th></th>\n",
       "      <th></th>\n",
       "      <th></th>\n",
       "      <th></th>\n",
       "      <th></th>\n",
       "      <th></th>\n",
       "      <th></th>\n",
       "      <th></th>\n",
       "      <th></th>\n",
       "      <th></th>\n",
       "      <th></th>\n",
       "      <th></th>\n",
       "      <th></th>\n",
       "    </tr>\n",
       "  </thead>\n",
       "  <tbody>\n",
       "    <tr>\n",
       "      <th>Санкт-Петербург</th>\n",
       "      <td>15721</td>\n",
       "      <td>15721</td>\n",
       "      <td>15721</td>\n",
       "      <td>15721</td>\n",
       "      <td>15721</td>\n",
       "      <td>10104</td>\n",
       "      <td>15651</td>\n",
       "      <td>14581</td>\n",
       "      <td>15721</td>\n",
       "      <td>15721</td>\n",
       "      <td>...</td>\n",
       "      <td>15660</td>\n",
       "      <td>7983</td>\n",
       "      <td>15721</td>\n",
       "      <td>15721</td>\n",
       "      <td>15721</td>\n",
       "      <td>15721</td>\n",
       "      <td>15721</td>\n",
       "      <td>15652</td>\n",
       "      <td>14581</td>\n",
       "      <td>14342</td>\n",
       "    </tr>\n",
       "    <tr>\n",
       "      <th>посёлок Мурино</th>\n",
       "      <td>522</td>\n",
       "      <td>522</td>\n",
       "      <td>522</td>\n",
       "      <td>522</td>\n",
       "      <td>522</td>\n",
       "      <td>200</td>\n",
       "      <td>520</td>\n",
       "      <td>461</td>\n",
       "      <td>522</td>\n",
       "      <td>522</td>\n",
       "      <td>...</td>\n",
       "      <td>0</td>\n",
       "      <td>0</td>\n",
       "      <td>522</td>\n",
       "      <td>522</td>\n",
       "      <td>522</td>\n",
       "      <td>522</td>\n",
       "      <td>522</td>\n",
       "      <td>520</td>\n",
       "      <td>461</td>\n",
       "      <td>422</td>\n",
       "    </tr>\n",
       "    <tr>\n",
       "      <th>посёлок Шушары</th>\n",
       "      <td>440</td>\n",
       "      <td>440</td>\n",
       "      <td>440</td>\n",
       "      <td>440</td>\n",
       "      <td>440</td>\n",
       "      <td>217</td>\n",
       "      <td>439</td>\n",
       "      <td>404</td>\n",
       "      <td>440</td>\n",
       "      <td>440</td>\n",
       "      <td>...</td>\n",
       "      <td>436</td>\n",
       "      <td>152</td>\n",
       "      <td>440</td>\n",
       "      <td>440</td>\n",
       "      <td>440</td>\n",
       "      <td>440</td>\n",
       "      <td>440</td>\n",
       "      <td>439</td>\n",
       "      <td>404</td>\n",
       "      <td>398</td>\n",
       "    </tr>\n",
       "    <tr>\n",
       "      <th>Всеволожск</th>\n",
       "      <td>398</td>\n",
       "      <td>398</td>\n",
       "      <td>398</td>\n",
       "      <td>398</td>\n",
       "      <td>398</td>\n",
       "      <td>272</td>\n",
       "      <td>398</td>\n",
       "      <td>371</td>\n",
       "      <td>398</td>\n",
       "      <td>398</td>\n",
       "      <td>...</td>\n",
       "      <td>0</td>\n",
       "      <td>0</td>\n",
       "      <td>398</td>\n",
       "      <td>398</td>\n",
       "      <td>398</td>\n",
       "      <td>398</td>\n",
       "      <td>398</td>\n",
       "      <td>398</td>\n",
       "      <td>371</td>\n",
       "      <td>357</td>\n",
       "    </tr>\n",
       "    <tr>\n",
       "      <th>Пушкин</th>\n",
       "      <td>369</td>\n",
       "      <td>369</td>\n",
       "      <td>369</td>\n",
       "      <td>369</td>\n",
       "      <td>369</td>\n",
       "      <td>234</td>\n",
       "      <td>369</td>\n",
       "      <td>345</td>\n",
       "      <td>369</td>\n",
       "      <td>369</td>\n",
       "      <td>...</td>\n",
       "      <td>369</td>\n",
       "      <td>177</td>\n",
       "      <td>369</td>\n",
       "      <td>369</td>\n",
       "      <td>369</td>\n",
       "      <td>369</td>\n",
       "      <td>369</td>\n",
       "      <td>369</td>\n",
       "      <td>345</td>\n",
       "      <td>338</td>\n",
       "    </tr>\n",
       "    <tr>\n",
       "      <th>Колпино</th>\n",
       "      <td>338</td>\n",
       "      <td>338</td>\n",
       "      <td>338</td>\n",
       "      <td>338</td>\n",
       "      <td>338</td>\n",
       "      <td>203</td>\n",
       "      <td>338</td>\n",
       "      <td>328</td>\n",
       "      <td>338</td>\n",
       "      <td>338</td>\n",
       "      <td>...</td>\n",
       "      <td>337</td>\n",
       "      <td>190</td>\n",
       "      <td>338</td>\n",
       "      <td>338</td>\n",
       "      <td>338</td>\n",
       "      <td>338</td>\n",
       "      <td>338</td>\n",
       "      <td>338</td>\n",
       "      <td>328</td>\n",
       "      <td>322</td>\n",
       "    </tr>\n",
       "    <tr>\n",
       "      <th>посёлок Парголово</th>\n",
       "      <td>327</td>\n",
       "      <td>327</td>\n",
       "      <td>327</td>\n",
       "      <td>327</td>\n",
       "      <td>327</td>\n",
       "      <td>137</td>\n",
       "      <td>327</td>\n",
       "      <td>301</td>\n",
       "      <td>327</td>\n",
       "      <td>327</td>\n",
       "      <td>...</td>\n",
       "      <td>327</td>\n",
       "      <td>56</td>\n",
       "      <td>327</td>\n",
       "      <td>327</td>\n",
       "      <td>327</td>\n",
       "      <td>327</td>\n",
       "      <td>327</td>\n",
       "      <td>327</td>\n",
       "      <td>301</td>\n",
       "      <td>289</td>\n",
       "    </tr>\n",
       "    <tr>\n",
       "      <th>Гатчина</th>\n",
       "      <td>307</td>\n",
       "      <td>307</td>\n",
       "      <td>307</td>\n",
       "      <td>307</td>\n",
       "      <td>307</td>\n",
       "      <td>149</td>\n",
       "      <td>307</td>\n",
       "      <td>292</td>\n",
       "      <td>307</td>\n",
       "      <td>307</td>\n",
       "      <td>...</td>\n",
       "      <td>0</td>\n",
       "      <td>0</td>\n",
       "      <td>307</td>\n",
       "      <td>307</td>\n",
       "      <td>307</td>\n",
       "      <td>307</td>\n",
       "      <td>307</td>\n",
       "      <td>307</td>\n",
       "      <td>292</td>\n",
       "      <td>294</td>\n",
       "    </tr>\n",
       "    <tr>\n",
       "      <th>деревня Кудрово</th>\n",
       "      <td>299</td>\n",
       "      <td>299</td>\n",
       "      <td>299</td>\n",
       "      <td>299</td>\n",
       "      <td>299</td>\n",
       "      <td>122</td>\n",
       "      <td>299</td>\n",
       "      <td>262</td>\n",
       "      <td>299</td>\n",
       "      <td>299</td>\n",
       "      <td>...</td>\n",
       "      <td>0</td>\n",
       "      <td>0</td>\n",
       "      <td>299</td>\n",
       "      <td>299</td>\n",
       "      <td>299</td>\n",
       "      <td>299</td>\n",
       "      <td>299</td>\n",
       "      <td>299</td>\n",
       "      <td>262</td>\n",
       "      <td>231</td>\n",
       "    </tr>\n",
       "    <tr>\n",
       "      <th>Выборг</th>\n",
       "      <td>237</td>\n",
       "      <td>237</td>\n",
       "      <td>237</td>\n",
       "      <td>237</td>\n",
       "      <td>237</td>\n",
       "      <td>98</td>\n",
       "      <td>237</td>\n",
       "      <td>193</td>\n",
       "      <td>237</td>\n",
       "      <td>237</td>\n",
       "      <td>...</td>\n",
       "      <td>0</td>\n",
       "      <td>0</td>\n",
       "      <td>237</td>\n",
       "      <td>237</td>\n",
       "      <td>237</td>\n",
       "      <td>237</td>\n",
       "      <td>237</td>\n",
       "      <td>237</td>\n",
       "      <td>193</td>\n",
       "      <td>201</td>\n",
       "    </tr>\n",
       "  </tbody>\n",
       "</table>\n",
       "<p>10 rows × 28 columns</p>\n",
       "</div>"
      ],
      "text/plain": [
       "                   total_images  last_price  total_area  first_day_exposition  \\\n",
       "locality_name                                                                   \n",
       "Санкт-Петербург           15721       15721       15721                 15721   \n",
       "посёлок Мурино              522         522         522                   522   \n",
       "посёлок Шушары              440         440         440                   440   \n",
       "Всеволожск                  398         398         398                   398   \n",
       "Пушкин                      369         369         369                   369   \n",
       "Колпино                     338         338         338                   338   \n",
       "посёлок Парголово           327         327         327                   327   \n",
       "Гатчина                     307         307         307                   307   \n",
       "деревня Кудрово             299         299         299                   299   \n",
       "Выборг                      237         237         237                   237   \n",
       "\n",
       "                   rooms  ceiling_height  floors_total  living_area  floor  \\\n",
       "locality_name                                                                \n",
       "Санкт-Петербург    15721           10104         15651        14581  15721   \n",
       "посёлок Мурино       522             200           520          461    522   \n",
       "посёлок Шушары       440             217           439          404    440   \n",
       "Всеволожск           398             272           398          371    398   \n",
       "Пушкин               369             234           369          345    369   \n",
       "Колпино              338             203           338          328    338   \n",
       "посёлок Парголово    327             137           327          301    327   \n",
       "Гатчина              307             149           307          292    307   \n",
       "деревня Кудрово      299             122           299          262    299   \n",
       "Выборг               237              98           237          193    237   \n",
       "\n",
       "                   is_apartment  ...  ponds_around3000  ponds_nearest  \\\n",
       "locality_name                    ...                                    \n",
       "Санкт-Петербург           15721  ...             15660           7983   \n",
       "посёлок Мурино              522  ...                 0              0   \n",
       "посёлок Шушары              440  ...               436            152   \n",
       "Всеволожск                  398  ...                 0              0   \n",
       "Пушкин                      369  ...               369            177   \n",
       "Колпино                     338  ...               337            190   \n",
       "посёлок Парголово           327  ...               327             56   \n",
       "Гатчина                     307  ...                 0              0   \n",
       "деревня Кудрово             299  ...                 0              0   \n",
       "Выборг                      237  ...                 0              0   \n",
       "\n",
       "                   days_exposition  price_per_square_meter  weekday  month  \\\n",
       "locality_name                                                                \n",
       "Санкт-Петербург              15721                   15721    15721  15721   \n",
       "посёлок Мурино                 522                     522      522    522   \n",
       "посёлок Шушары                 440                     440      440    440   \n",
       "Всеволожск                     398                     398      398    398   \n",
       "Пушкин                         369                     369      369    369   \n",
       "Колпино                        338                     338      338    338   \n",
       "посёлок Парголово              327                     327      327    327   \n",
       "Гатчина                        307                     307      307    307   \n",
       "деревня Кудрово                299                     299      299    299   \n",
       "Выборг                         237                     237      237    237   \n",
       "\n",
       "                    year  floor_category  useful_area_ratio  \\\n",
       "locality_name                                                 \n",
       "Санкт-Петербург    15721           15652              14581   \n",
       "посёлок Мурино       522             520                461   \n",
       "посёлок Шушары       440             439                404   \n",
       "Всеволожск           398             398                371   \n",
       "Пушкин               369             369                345   \n",
       "Колпино              338             338                328   \n",
       "посёлок Парголово    327             327                301   \n",
       "Гатчина              307             307                292   \n",
       "деревня Кудрово      299             299                262   \n",
       "Выборг               237             237                193   \n",
       "\n",
       "                   kitchen_area_ratio  \n",
       "locality_name                          \n",
       "Санкт-Петербург                 14342  \n",
       "посёлок Мурино                    422  \n",
       "посёлок Шушары                    398  \n",
       "Всеволожск                        357  \n",
       "Пушкин                            338  \n",
       "Колпино                           322  \n",
       "посёлок Парголово                 289  \n",
       "Гатчина                           294  \n",
       "деревня Кудрово                   231  \n",
       "Выборг                            201  \n",
       "\n",
       "[10 rows x 28 columns]"
      ]
     },
     "metadata": {},
     "output_type": "display_data"
    }
   ],
   "source": [
    "locality_pivot_table=data.groupby('locality_name').count().sort_values('last_price' , ascending = False).head(10)\n",
    "display (locality_pivot_table)"
   ]
  },
  {
   "cell_type": "markdown",
   "metadata": {},
   "source": [
    "<div class=\"alert alert-info\">\n",
    "<b>Вывод </b> \n",
    "    \n",
    "Самая высокая стоимость жилья из 10 населённых пунктов с самым большим количеством объявлений в Санкт-Петербурге, тогда как самая низкая стоимость в Выборге.\n"
   ]
  },
  {
   "cell_type": "markdown",
   "metadata": {},
   "source": [
    "### Предложения квартир по расстоянию до центра."
   ]
  },
  {
   "cell_type": "code",
   "execution_count": 107,
   "metadata": {},
   "outputs": [
    {
     "data": {
      "text/html": [
       "<div>\n",
       "<style scoped>\n",
       "    .dataframe tbody tr th:only-of-type {\n",
       "        vertical-align: middle;\n",
       "    }\n",
       "\n",
       "    .dataframe tbody tr th {\n",
       "        vertical-align: top;\n",
       "    }\n",
       "\n",
       "    .dataframe thead th {\n",
       "        text-align: right;\n",
       "    }\n",
       "</style>\n",
       "<table border=\"1\" class=\"dataframe\">\n",
       "  <thead>\n",
       "    <tr style=\"text-align: right;\">\n",
       "      <th></th>\n",
       "      <th>price_per_square_meter</th>\n",
       "    </tr>\n",
       "    <tr>\n",
       "      <th>cityCenters_nearest_km</th>\n",
       "      <th></th>\n",
       "    </tr>\n",
       "  </thead>\n",
       "  <tbody>\n",
       "    <tr>\n",
       "      <th>0</th>\n",
       "      <td>187323.674419</td>\n",
       "    </tr>\n",
       "    <tr>\n",
       "      <th>1</th>\n",
       "      <td>166603.312500</td>\n",
       "    </tr>\n",
       "    <tr>\n",
       "      <th>2</th>\n",
       "      <td>146662.420195</td>\n",
       "    </tr>\n",
       "    <tr>\n",
       "      <th>3</th>\n",
       "      <td>129415.891635</td>\n",
       "    </tr>\n",
       "    <tr>\n",
       "      <th>4</th>\n",
       "      <td>137475.039691</td>\n",
       "    </tr>\n",
       "  </tbody>\n",
       "</table>\n",
       "</div>"
      ],
      "text/plain": [
       "                        price_per_square_meter\n",
       "cityCenters_nearest_km                        \n",
       "0                                187323.674419\n",
       "1                                166603.312500\n",
       "2                                146662.420195\n",
       "3                                129415.891635\n",
       "4                                137475.039691"
      ]
     },
     "execution_count": 107,
     "metadata": {},
     "output_type": "execute_result"
    },
    {
     "data": {
      "image/png": "[encoded data removed]",
      "text/plain": [
       "<Figure size 432x288 with 1 Axes>"
      ]
     },
     "metadata": {
      "needs_background": "light"
     },
     "output_type": "display_data"
    }
   ],
   "source": [
    "data['cityCenters_nearest_km'] = data['cityCenters_nearest']/1000\n",
    "data['cityCenters_nearest_km'] = data['cityCenters_nearest_km'].fillna(999999)\n",
    "data['cityCenters_nearest_km'] = data['cityCenters_nearest_km'].astype('int')\n",
    "pivot_table_km = data.query('locality_name == \"Санкт-Петербург\" and cityCenters_nearest_km !=999999').pivot_table(index = 'cityCenters_nearest_km', values = 'price_per_square_meter', aggfunc = 'mean')\n",
    "\n",
    "pivot_table_km.plot()\n",
    "pivot_table_km.head()"
   ]
  },
  {
   "cell_type": "markdown",
   "metadata": {},
   "source": [
    "<div class=\"alert alert-info\">\n",
    "<b>Вывод </b> \n",
    "    \n",
    "Судя по графику центром считать будем радиус в 6 километров!"
   ]
  },
  {
   "cell_type": "markdown",
   "metadata": {},
   "source": [
    "### cегментация квартир в центре. "
   ]
  },
  {
   "cell_type": "code",
   "execution_count": 93,
   "metadata": {},
   "outputs": [],
   "source": [
    "#выделим квартиры в центре, беря за радиус 6 км\n",
    "center_spb_data = data.query('cityCenters_nearest_km <= 6 and locality_name == \"Санкт-Петербург\"')\n"
   ]
  },
  {
   "cell_type": "markdown",
   "metadata": {},
   "source": [
    "#### зависимость стоимости квадратного метра от количества комнат квартир в центре. "
   ]
  },
  {
   "cell_type": "code",
   "execution_count": 94,
   "metadata": {},
   "outputs": [
    {
     "data": {
      "text/html": [
       "<div>\n",
       "<style scoped>\n",
       "    .dataframe tbody tr th:only-of-type {\n",
       "        vertical-align: middle;\n",
       "    }\n",
       "\n",
       "    .dataframe tbody tr th {\n",
       "        vertical-align: top;\n",
       "    }\n",
       "\n",
       "    .dataframe thead th {\n",
       "        text-align: right;\n",
       "    }\n",
       "</style>\n",
       "<table border=\"1\" class=\"dataframe\">\n",
       "  <thead>\n",
       "    <tr style=\"text-align: right;\">\n",
       "      <th></th>\n",
       "      <th>mean</th>\n",
       "      <th>count</th>\n",
       "      <th>median</th>\n",
       "    </tr>\n",
       "    <tr>\n",
       "      <th>rooms</th>\n",
       "      <th></th>\n",
       "      <th></th>\n",
       "      <th></th>\n",
       "    </tr>\n",
       "  </thead>\n",
       "  <tbody>\n",
       "    <tr>\n",
       "      <th>0</th>\n",
       "      <td>146371.533333</td>\n",
       "      <td>15</td>\n",
       "      <td>136563.0</td>\n",
       "    </tr>\n",
       "    <tr>\n",
       "      <th>1</th>\n",
       "      <td>154890.935010</td>\n",
       "      <td>477</td>\n",
       "      <td>143750.0</td>\n",
       "    </tr>\n",
       "    <tr>\n",
       "      <th>2</th>\n",
       "      <td>142548.622661</td>\n",
       "      <td>962</td>\n",
       "      <td>126094.5</td>\n",
       "    </tr>\n",
       "    <tr>\n",
       "      <th>3</th>\n",
       "      <td>143165.464039</td>\n",
       "      <td>1015</td>\n",
       "      <td>117235.0</td>\n",
       "    </tr>\n",
       "    <tr>\n",
       "      <th>4</th>\n",
       "      <td>137840.903433</td>\n",
       "      <td>466</td>\n",
       "      <td>108267.5</td>\n",
       "    </tr>\n",
       "    <tr>\n",
       "      <th>5</th>\n",
       "      <td>145010.686916</td>\n",
       "      <td>214</td>\n",
       "      <td>104158.0</td>\n",
       "    </tr>\n",
       "    <tr>\n",
       "      <th>6</th>\n",
       "      <td>153676.024691</td>\n",
       "      <td>81</td>\n",
       "      <td>103361.0</td>\n",
       "    </tr>\n",
       "    <tr>\n",
       "      <th>7</th>\n",
       "      <td>167223.055556</td>\n",
       "      <td>54</td>\n",
       "      <td>109996.0</td>\n",
       "    </tr>\n",
       "  </tbody>\n",
       "</table>\n",
       "</div>"
      ],
      "text/plain": [
       "                mean  count    median\n",
       "rooms                                \n",
       "0      146371.533333     15  136563.0\n",
       "1      154890.935010    477  143750.0\n",
       "2      142548.622661    962  126094.5\n",
       "3      143165.464039   1015  117235.0\n",
       "4      137840.903433    466  108267.5\n",
       "5      145010.686916    214  104158.0\n",
       "6      153676.024691     81  103361.0\n",
       "7      167223.055556     54  109996.0"
      ]
     },
     "execution_count": 94,
     "metadata": {},
     "output_type": "execute_result"
    },
    {
     "data": {
      "image/png": "[encoded data removed]",
      "text/plain": [
       "<Figure size 432x288 with 1 Axes>"
      ]
     },
     "metadata": {
      "needs_background": "light"
     },
     "output_type": "display_data"
    }
   ],
   "source": [
    "center_spb_rooms = center_spb_data.pivot_table(index = 'rooms', values = 'price_per_square_meter', aggfunc = ['mean', 'count', 'median'])\n",
    "center_spb_rooms.columns = ['mean', 'count', 'median']\n",
    "\n",
    "center_spb_rooms.query('count > 50').plot(y = 'median')\n",
    "center_spb_rooms.query('count > 50').sort_values('median', ascending = False)\n",
    "center_spb_data['rooms'].corr(center_spb_data['price_per_square_meter'])\n",
    "center_spb_rooms.head(8)"
   ]
  },
  {
   "cell_type": "markdown",
   "metadata": {},
   "source": [
    "<div class=\"alert alert-info\">\n",
    "<b>Вывод </b> \n",
    "    \n",
    "В центре СПБ чем меньше комнат, тем дороже стоимость метра квадратного, в отличие от всей выборки, где стоимость уменьшается в зависимости от близости кол-ва комнат к 3! Так мы считаем, исходя из поведения медианной стоимости, в зависимости от количества комнат. Хотя корреляция маленькая, правильнее смотреть именно на график."
   ]
  },
  {
   "cell_type": "markdown",
   "metadata": {},
   "source": [
    "#### Зависимость стоимости квадратного метра от этажа квартир в центре. "
   ]
  },
  {
   "cell_type": "code",
   "execution_count": 95,
   "metadata": {},
   "outputs": [
    {
     "data": {
      "text/html": [
       "<div>\n",
       "<style scoped>\n",
       "    .dataframe tbody tr th:only-of-type {\n",
       "        vertical-align: middle;\n",
       "    }\n",
       "\n",
       "    .dataframe tbody tr th {\n",
       "        vertical-align: top;\n",
       "    }\n",
       "\n",
       "    .dataframe thead th {\n",
       "        text-align: right;\n",
       "    }\n",
       "</style>\n",
       "<table border=\"1\" class=\"dataframe\">\n",
       "  <thead>\n",
       "    <tr style=\"text-align: right;\">\n",
       "      <th></th>\n",
       "      <th>mean</th>\n",
       "      <th>count</th>\n",
       "      <th>median</th>\n",
       "    </tr>\n",
       "    <tr>\n",
       "      <th>floor_category</th>\n",
       "      <th></th>\n",
       "      <th></th>\n",
       "      <th></th>\n",
       "    </tr>\n",
       "  </thead>\n",
       "  <tbody>\n",
       "    <tr>\n",
       "      <th>другой</th>\n",
       "      <td>148508.907917</td>\n",
       "      <td>2324</td>\n",
       "      <td>127470</td>\n",
       "    </tr>\n",
       "    <tr>\n",
       "      <th>первый</th>\n",
       "      <td>122682.506739</td>\n",
       "      <td>371</td>\n",
       "      <td>109457</td>\n",
       "    </tr>\n",
       "    <tr>\n",
       "      <th>последний</th>\n",
       "      <td>144071.772803</td>\n",
       "      <td>603</td>\n",
       "      <td>116666</td>\n",
       "    </tr>\n",
       "  </tbody>\n",
       "</table>\n",
       "</div>"
      ],
      "text/plain": [
       "                         mean  count  median\n",
       "floor_category                              \n",
       "другой          148508.907917   2324  127470\n",
       "первый          122682.506739    371  109457\n",
       "последний       144071.772803    603  116666"
      ]
     },
     "execution_count": 95,
     "metadata": {},
     "output_type": "execute_result"
    },
    {
     "data": {
      "image/png": "[encoded data removed]",
      "text/plain": [
       "<Figure size 432x288 with 1 Axes>"
      ]
     },
     "metadata": {
      "needs_background": "light"
     },
     "output_type": "display_data"
    }
   ],
   "source": [
    "center_spb_floor_category = center_spb_data.pivot_table(index = 'floor_category', values = 'price_per_square_meter', aggfunc = ['mean', 'count', 'median'])\n",
    "center_spb_floor_category.columns = ['mean', 'count', 'median']\n",
    "center_spb_floor_category.plot(y = 'median')\n",
    "center_spb_floor_category"
   ]
  },
  {
   "cell_type": "markdown",
   "metadata": {},
   "source": [
    "<div class=\"alert alert-info\">\n",
    "<b>Вывод</b>\n",
    "    \n",
    "нет особых отличий от общей выборки квартир! Квартиры на первом этаже в среднем дешевле, чем на последнем!\n",
    "А так же можно сказать, что другие этажи в центре дороже первого этажа\n",
    "с ростом цены до 20%"
   ]
  },
  {
   "cell_type": "markdown",
   "metadata": {},
   "source": [
    "#### Зависимость стоимости квадратного метра от от удаленности от центра в радиусе 6 км"
   ]
  },
  {
   "cell_type": "code",
   "execution_count": 96,
   "metadata": {},
   "outputs": [
    {
     "data": {
      "text/plain": [
       "-0.029526751607416725"
      ]
     },
     "execution_count": 96,
     "metadata": {},
     "output_type": "execute_result"
    },
    {
     "data": {
      "image/png": "[encoded data removed]",
      "text/plain": [
       "<Figure size 432x288 with 1 Axes>"
      ]
     },
     "metadata": {
      "needs_background": "light"
     },
     "output_type": "display_data"
    }
   ],
   "source": [
    "center_spb_data.plot(kind = 'scatter', y = 'price_per_square_meter', x = 'cityCenters_nearest', alpha = 0.3)\n",
    "center_spb_data['cityCenters_nearest'].corr(center_spb_data['price_per_square_meter'])"
   ]
  },
  {
   "cell_type": "markdown",
   "metadata": {},
   "source": [
    "<div class=\"alert alert-info\">\n",
    "<b>Вывод</b>\n",
    "    \n",
    "График построен на основании выборки из квартир, расположенных в центре. Самые дорогие объекты расположены в километровом кольце от определеннго нами центра. Квартиры расположеные на следующем кольце 2-6 км от центра несильно варьируются в цене за квадратный метр,и их цена ниже на 20-30% в сравнении с квартирами в первом кольце.\n"
   ]
  },
  {
   "cell_type": "markdown",
   "metadata": {},
   "source": [
    "#### Зависимость стоимости квадратного метра от дня недели размещения объявления квартир в центре"
   ]
  },
  {
   "cell_type": "code",
   "execution_count": 97,
   "metadata": {},
   "outputs": [
    {
     "data": {
      "text/html": [
       "<div>\n",
       "<style scoped>\n",
       "    .dataframe tbody tr th:only-of-type {\n",
       "        vertical-align: middle;\n",
       "    }\n",
       "\n",
       "    .dataframe tbody tr th {\n",
       "        vertical-align: top;\n",
       "    }\n",
       "\n",
       "    .dataframe thead th {\n",
       "        text-align: right;\n",
       "    }\n",
       "</style>\n",
       "<table border=\"1\" class=\"dataframe\">\n",
       "  <thead>\n",
       "    <tr style=\"text-align: right;\">\n",
       "      <th></th>\n",
       "      <th>mean</th>\n",
       "      <th>count</th>\n",
       "      <th>median</th>\n",
       "    </tr>\n",
       "    <tr>\n",
       "      <th>weekday</th>\n",
       "      <th></th>\n",
       "      <th></th>\n",
       "      <th></th>\n",
       "    </tr>\n",
       "  </thead>\n",
       "  <tbody>\n",
       "    <tr>\n",
       "      <th>6</th>\n",
       "      <td>147600.250000</td>\n",
       "      <td>180</td>\n",
       "      <td>129279.5</td>\n",
       "    </tr>\n",
       "    <tr>\n",
       "      <th>5</th>\n",
       "      <td>155971.818565</td>\n",
       "      <td>237</td>\n",
       "      <td>128703.0</td>\n",
       "    </tr>\n",
       "    <tr>\n",
       "      <th>0</th>\n",
       "      <td>144265.019608</td>\n",
       "      <td>510</td>\n",
       "      <td>126325.0</td>\n",
       "    </tr>\n",
       "    <tr>\n",
       "      <th>4</th>\n",
       "      <td>143626.619390</td>\n",
       "      <td>557</td>\n",
       "      <td>125000.0</td>\n",
       "    </tr>\n",
       "    <tr>\n",
       "      <th>2</th>\n",
       "      <td>142758.117747</td>\n",
       "      <td>586</td>\n",
       "      <td>124586.5</td>\n",
       "    </tr>\n",
       "    <tr>\n",
       "      <th>3</th>\n",
       "      <td>145014.211454</td>\n",
       "      <td>681</td>\n",
       "      <td>120578.0</td>\n",
       "    </tr>\n",
       "    <tr>\n",
       "      <th>1</th>\n",
       "      <td>142527.471119</td>\n",
       "      <td>554</td>\n",
       "      <td>118747.5</td>\n",
       "    </tr>\n",
       "  </tbody>\n",
       "</table>\n",
       "</div>"
      ],
      "text/plain": [
       "                  mean  count    median\n",
       "weekday                                \n",
       "6        147600.250000    180  129279.5\n",
       "5        155971.818565    237  128703.0\n",
       "0        144265.019608    510  126325.0\n",
       "4        143626.619390    557  125000.0\n",
       "2        142758.117747    586  124586.5\n",
       "3        145014.211454    681  120578.0\n",
       "1        142527.471119    554  118747.5"
      ]
     },
     "execution_count": 97,
     "metadata": {},
     "output_type": "execute_result"
    },
    {
     "data": {
      "image/png": "[encoded data removed]",
      "text/plain": [
       "<Figure size 432x288 with 1 Axes>"
      ]
     },
     "metadata": {
      "needs_background": "light"
     },
     "output_type": "display_data"
    }
   ],
   "source": [
    "center_spb_weekday_exposition = center_spb_data.pivot_table(index = 'weekday', values = 'price_per_square_meter', aggfunc = ['mean', 'count', 'median'])\n",
    "center_spb_weekday_exposition.columns = ['mean', 'count', 'median']\n",
    "center_spb_weekday_exposition.plot(y = 'median')\n",
    "\n",
    "center_spb_weekday_exposition.sort_values('median', ascending = False)"
   ]
  },
  {
   "cell_type": "markdown",
   "metadata": {},
   "source": [
    "<div class=\"alert alert-info\">\n",
    "<b>Вывод</b>\n",
    "    \n",
    "    \n",
    "Ситуация отличается от всей выборки, минимальные средние цены в четверг и вторник, самые высокие - в понедельник и воскресенье!"
   ]
  },
  {
   "cell_type": "markdown",
   "metadata": {},
   "source": [
    "#### Зависимость стоимости квадратного метра от месяца размещения объявления квартир в центре"
   ]
  },
  {
   "cell_type": "code",
   "execution_count": 98,
   "metadata": {},
   "outputs": [
    {
     "data": {
      "text/html": [
       "<div>\n",
       "<style scoped>\n",
       "    .dataframe tbody tr th:only-of-type {\n",
       "        vertical-align: middle;\n",
       "    }\n",
       "\n",
       "    .dataframe tbody tr th {\n",
       "        vertical-align: top;\n",
       "    }\n",
       "\n",
       "    .dataframe thead th {\n",
       "        text-align: right;\n",
       "    }\n",
       "</style>\n",
       "<table border=\"1\" class=\"dataframe\">\n",
       "  <thead>\n",
       "    <tr style=\"text-align: right;\">\n",
       "      <th></th>\n",
       "      <th>mean</th>\n",
       "      <th>count</th>\n",
       "      <th>median</th>\n",
       "    </tr>\n",
       "    <tr>\n",
       "      <th>month</th>\n",
       "      <th></th>\n",
       "      <th></th>\n",
       "      <th></th>\n",
       "    </tr>\n",
       "  </thead>\n",
       "  <tbody>\n",
       "    <tr>\n",
       "      <th>3</th>\n",
       "      <td>147665.441595</td>\n",
       "      <td>351</td>\n",
       "      <td>130333.0</td>\n",
       "    </tr>\n",
       "    <tr>\n",
       "      <th>1</th>\n",
       "      <td>147891.754902</td>\n",
       "      <td>204</td>\n",
       "      <td>129334.5</td>\n",
       "    </tr>\n",
       "    <tr>\n",
       "      <th>4</th>\n",
       "      <td>156002.057878</td>\n",
       "      <td>311</td>\n",
       "      <td>127574.0</td>\n",
       "    </tr>\n",
       "    <tr>\n",
       "      <th>8</th>\n",
       "      <td>146000.719665</td>\n",
       "      <td>239</td>\n",
       "      <td>125000.0</td>\n",
       "    </tr>\n",
       "    <tr>\n",
       "      <th>9</th>\n",
       "      <td>146258.156250</td>\n",
       "      <td>288</td>\n",
       "      <td>124051.5</td>\n",
       "    </tr>\n",
       "    <tr>\n",
       "      <th>10</th>\n",
       "      <td>140580.590406</td>\n",
       "      <td>271</td>\n",
       "      <td>123497.0</td>\n",
       "    </tr>\n",
       "    <tr>\n",
       "      <th>11</th>\n",
       "      <td>142519.198198</td>\n",
       "      <td>333</td>\n",
       "      <td>123333.0</td>\n",
       "    </tr>\n",
       "    <tr>\n",
       "      <th>5</th>\n",
       "      <td>135036.109290</td>\n",
       "      <td>183</td>\n",
       "      <td>122077.0</td>\n",
       "    </tr>\n",
       "    <tr>\n",
       "      <th>12</th>\n",
       "      <td>149975.766234</td>\n",
       "      <td>231</td>\n",
       "      <td>121328.0</td>\n",
       "    </tr>\n",
       "    <tr>\n",
       "      <th>2</th>\n",
       "      <td>144605.161202</td>\n",
       "      <td>366</td>\n",
       "      <td>121285.0</td>\n",
       "    </tr>\n",
       "    <tr>\n",
       "      <th>7</th>\n",
       "      <td>141620.436090</td>\n",
       "      <td>266</td>\n",
       "      <td>118236.0</td>\n",
       "    </tr>\n",
       "    <tr>\n",
       "      <th>6</th>\n",
       "      <td>135256.832061</td>\n",
       "      <td>262</td>\n",
       "      <td>117086.0</td>\n",
       "    </tr>\n",
       "  </tbody>\n",
       "</table>\n",
       "</div>"
      ],
      "text/plain": [
       "                mean  count    median\n",
       "month                                \n",
       "3      147665.441595    351  130333.0\n",
       "1      147891.754902    204  129334.5\n",
       "4      156002.057878    311  127574.0\n",
       "8      146000.719665    239  125000.0\n",
       "9      146258.156250    288  124051.5\n",
       "10     140580.590406    271  123497.0\n",
       "11     142519.198198    333  123333.0\n",
       "5      135036.109290    183  122077.0\n",
       "12     149975.766234    231  121328.0\n",
       "2      144605.161202    366  121285.0\n",
       "7      141620.436090    266  118236.0\n",
       "6      135256.832061    262  117086.0"
      ]
     },
     "execution_count": 98,
     "metadata": {},
     "output_type": "execute_result"
    },
    {
     "data": {
      "image/png": "[encoded data removed]",
      "text/plain": [
       "<Figure size 432x288 with 1 Axes>"
      ]
     },
     "metadata": {
      "needs_background": "light"
     },
     "output_type": "display_data"
    }
   ],
   "source": [
    "center_spb_month_exposition = center_spb_data.pivot_table(index = 'month', values = 'price_per_square_meter', aggfunc = ['mean', 'count', 'median'])\n",
    "center_spb_month_exposition.columns = ['mean', 'count', 'median']\n",
    "center_spb_month_exposition.plot(y = 'median')\n",
    "\n",
    "center_spb_month_exposition.sort_values('median', ascending = False)"
   ]
  },
  {
   "cell_type": "markdown",
   "metadata": {},
   "source": [
    "<div class=\"alert alert-info\">\n",
    "<b>Вывод</b>\n",
    "    \n",
    "Ситуация похожая с общей выборкой - самая высокая стоимость метра в апреле и августе! Самая низкая стоимость в мае, июне, июле!"
   ]
  },
  {
   "cell_type": "markdown",
   "metadata": {},
   "source": [
    "#### Зависимость стоимости квадратного метра от года размещения объявления квартир в центре"
   ]
  },
  {
   "cell_type": "code",
   "execution_count": 99,
   "metadata": {},
   "outputs": [
    {
     "data": {
      "text/html": [
       "<div>\n",
       "<style scoped>\n",
       "    .dataframe tbody tr th:only-of-type {\n",
       "        vertical-align: middle;\n",
       "    }\n",
       "\n",
       "    .dataframe tbody tr th {\n",
       "        vertical-align: top;\n",
       "    }\n",
       "\n",
       "    .dataframe thead th {\n",
       "        text-align: right;\n",
       "    }\n",
       "</style>\n",
       "<table border=\"1\" class=\"dataframe\">\n",
       "  <thead>\n",
       "    <tr style=\"text-align: right;\">\n",
       "      <th></th>\n",
       "      <th>mean</th>\n",
       "      <th>count</th>\n",
       "      <th>median</th>\n",
       "    </tr>\n",
       "    <tr>\n",
       "      <th>year</th>\n",
       "      <th></th>\n",
       "      <th></th>\n",
       "      <th></th>\n",
       "    </tr>\n",
       "  </thead>\n",
       "  <tbody>\n",
       "    <tr>\n",
       "      <th>2019</th>\n",
       "      <td>162670.250000</td>\n",
       "      <td>356</td>\n",
       "      <td>136304.5</td>\n",
       "    </tr>\n",
       "    <tr>\n",
       "      <th>2018</th>\n",
       "      <td>141077.877778</td>\n",
       "      <td>990</td>\n",
       "      <td>124875.0</td>\n",
       "    </tr>\n",
       "    <tr>\n",
       "      <th>2017</th>\n",
       "      <td>143164.951695</td>\n",
       "      <td>1180</td>\n",
       "      <td>121260.5</td>\n",
       "    </tr>\n",
       "    <tr>\n",
       "      <th>2015</th>\n",
       "      <td>147424.363636</td>\n",
       "      <td>297</td>\n",
       "      <td>119568.0</td>\n",
       "    </tr>\n",
       "    <tr>\n",
       "      <th>2016</th>\n",
       "      <td>138241.017582</td>\n",
       "      <td>455</td>\n",
       "      <td>116784.0</td>\n",
       "    </tr>\n",
       "  </tbody>\n",
       "</table>\n",
       "</div>"
      ],
      "text/plain": [
       "               mean  count    median\n",
       "year                                \n",
       "2019  162670.250000    356  136304.5\n",
       "2018  141077.877778    990  124875.0\n",
       "2017  143164.951695   1180  121260.5\n",
       "2015  147424.363636    297  119568.0\n",
       "2016  138241.017582    455  116784.0"
      ]
     },
     "execution_count": 99,
     "metadata": {},
     "output_type": "execute_result"
    },
    {
     "data": {
      "image/png": "[encoded data removed]",
      "text/plain": [
       "<Figure size 432x288 with 1 Axes>"
      ]
     },
     "metadata": {
      "needs_background": "light"
     },
     "output_type": "display_data"
    }
   ],
   "source": [
    "center_spb_year_exposition = center_spb_data.pivot_table(index = 'year', values = 'price_per_square_meter', aggfunc = ['mean', 'count', 'median'])\n",
    "center_spb_year_exposition.columns = ['mean', 'count', 'median']\n",
    "center_spb_year_exposition.query('count > 50').plot(y = 'median')\n",
    "center_spb_year_exposition.query('count > 50').sort_values('median', ascending = False)"
   ]
  },
  {
   "cell_type": "markdown",
   "metadata": {},
   "source": [
    "<div class=\"alert alert-info\">\n",
    "<b>Вывод</b>\n",
    "    \n",
    "В отличие от всей выборки - цены в центре СПБ в 2016-2017 годах не падали, а планомерно расли!"
   ]
  },
  {
   "cell_type": "markdown",
   "metadata": {},
   "source": [
    "## Общий вывод"
   ]
  },
  {
   "cell_type": "markdown",
   "metadata": {},
   "source": [
    "<div class=\"alert alert-info\">\n",
    "    \n",
    "Вывод\n",
    "\n",
    "- Мы обработали полученный архив данных - обработали пропущенные значения там, где это необходимо, заменили типы данных на необходимые для удобства вычислений.\n",
    "\n",
    "Выявлены аномалии:\n",
    "Изучили следующие параметры на наличие выбивающихся значений:\n",
    "Площадь квартиры – более 114 метров\n",
    "Цена - более 11,9 млн рублей\n",
    "Потолки - менее 2,25 м\n",
    "Количество комнат – превышает 7\n",
    "\n",
    "\n",
    "- Посчитали и добавили в таблицу стоимость квадратного метра жилья по каждому объявлению, изучили продажи в разрезе дней недели и выявили, что в понедельник и воскресенье продаются  квартиры с самым высокой средней ценой.\n",
    "Так же узнали месяцы и годы размещения объявлений. Было выявлено, что цена на квартиры неизменно растет с 2016 по 2019 год. Самыми дорогими метрами обладают квартиры, проданные в апреле и августе, а самыми дешевыми – май и июнь. \n",
    "Так же проверили и добавили категории по этажам квартир с целью понять зависимость цены от этажа. По результатам мы видим, что средние этажи – самые дорогие, чуть дешевле последние этажи, а первые этажи достигают снижения цены до 20% по отношению к остальным\n",
    "\n",
    "\n",
    "- Срок продажи квартиры.\n",
    "Изучая время продажи квартир мы выявили, что большое количество объявлений было автоматически снято с Яндекс Недвижимость и дату из снятия нельзя считать датой продажи квартиры, поэтому, изучая средние сроки продажи квартир - данные значения не учитывались\n",
    "В остальном как правило, продажа недвижимости занимала 3 месяца (95 дней). При этом четверть всех объектов недвижимости была продана в течение 45 дней с момента публикации. \n",
    "\n",
    "- Мы так же же выявили при помощи диаграммы размаха, что нормальные значения продажи квартир варьируются от 1 до 600 дней. \n",
    "\n",
    "- На стоимость квадратного метра квартиры больше всего влияют количество комнат, этаж квартиры, близость к центру в радиусе 6 км. Незначительно на стоимость квадратного метра влияют день, месяц, год размещения и общая площадь.. Судя, по резкости изменения цен в зависимости от удаления от центра СПБ, мы выявили центр города в радиусе 6 километров.\n",
    "\n",
    "- Так же нами выявлены самые самый популярные локации: Санкт-Петербург, посёлок Мурино, посёлок Шушары, Всеволожск, Пушкин\n",
    "\n",
    "\n",
    "\n",
    "\n"
   ]
  }
 ],
 "metadata": {
  "ExecuteTimeLog": [
   {
    "duration": 742,
    "start_time": "2021-11-09T17:45:42.359Z"
   },
   {
    "duration": 68,
    "start_time": "2021-11-09T17:50:02.707Z"
   },
   {
    "duration": 70,
    "start_time": "2021-11-09T17:50:06.288Z"
   },
   {
    "duration": 79,
    "start_time": "2021-11-09T17:51:11.990Z"
   },
   {
    "duration": 70,
    "start_time": "2021-11-09T17:53:29.108Z"
   },
   {
    "duration": 335,
    "start_time": "2021-11-09T17:53:29.180Z"
   },
   {
    "duration": 508,
    "start_time": "2021-11-09T17:55:35.282Z"
   },
   {
    "duration": 78,
    "start_time": "2021-11-09T17:55:38.771Z"
   },
   {
    "duration": 267,
    "start_time": "2021-11-09T17:55:38.851Z"
   },
   {
    "duration": 479,
    "start_time": "2021-11-09T17:55:39.120Z"
   },
   {
    "duration": 78,
    "start_time": "2021-11-09T17:56:27.629Z"
   },
   {
    "duration": 278,
    "start_time": "2021-11-09T17:56:27.709Z"
   },
   {
    "duration": 479,
    "start_time": "2021-11-09T17:56:27.989Z"
   },
   {
    "duration": 1208,
    "start_time": "2021-11-09T17:56:28.469Z"
   },
   {
    "duration": 78,
    "start_time": "2021-11-09T17:58:33.693Z"
   },
   {
    "duration": 280,
    "start_time": "2021-11-09T17:58:33.774Z"
   },
   {
    "duration": 599,
    "start_time": "2021-11-09T17:58:34.056Z"
   },
   {
    "duration": 1230,
    "start_time": "2021-11-09T17:58:34.656Z"
   },
   {
    "duration": 856,
    "start_time": "2021-11-13T13:27:33.390Z"
   },
   {
    "duration": 52,
    "start_time": "2021-11-13T13:27:34.249Z"
   },
   {
    "duration": 408,
    "start_time": "2021-11-13T13:27:34.304Z"
   },
   {
    "duration": -82,
    "start_time": "2021-11-13T13:27:34.796Z"
   },
   {
    "duration": 89,
    "start_time": "2021-11-13T13:28:38.019Z"
   },
   {
    "duration": 32,
    "start_time": "2021-11-13T13:28:38.110Z"
   },
   {
    "duration": 328,
    "start_time": "2021-11-13T13:28:38.144Z"
   },
   {
    "duration": -45,
    "start_time": "2021-11-13T13:28:38.519Z"
   },
   {
    "duration": 98,
    "start_time": "2021-11-13T13:32:16.874Z"
   },
   {
    "duration": 551,
    "start_time": "2021-11-13T13:32:16.976Z"
   },
   {
    "duration": 1198,
    "start_time": "2021-11-13T13:32:17.530Z"
   },
   {
    "duration": 2176,
    "start_time": "2021-11-13T13:32:18.731Z"
   },
   {
    "duration": 530,
    "start_time": "2021-11-13T16:08:01.008Z"
   },
   {
    "duration": 949,
    "start_time": "2021-11-13T16:08:07.207Z"
   },
   {
    "duration": 4,
    "start_time": "2021-11-13T16:08:08.159Z"
   },
   {
    "duration": 435,
    "start_time": "2021-11-13T16:08:08.166Z"
   },
   {
    "duration": -364,
    "start_time": "2021-11-13T16:08:08.968Z"
   },
   {
    "duration": 36,
    "start_time": "2021-11-13T16:08:29.897Z"
   },
   {
    "duration": 70,
    "start_time": "2021-11-13T16:08:39.106Z"
   },
   {
    "duration": 556,
    "start_time": "2021-11-13T16:13:43.540Z"
   },
   {
    "duration": 633,
    "start_time": "2021-11-13T16:14:36.786Z"
   },
   {
    "duration": 102,
    "start_time": "2021-11-13T16:15:11.740Z"
   },
   {
    "duration": 519,
    "start_time": "2021-11-13T16:15:11.845Z"
   },
   {
    "duration": 823,
    "start_time": "2021-11-13T16:15:12.366Z"
   },
   {
    "duration": 2256,
    "start_time": "2021-11-13T16:15:13.191Z"
   },
   {
    "duration": 442,
    "start_time": "2021-11-13T16:17:47.407Z"
   },
   {
    "duration": 98,
    "start_time": "2021-11-13T16:23:46.631Z"
   },
   {
    "duration": 486,
    "start_time": "2021-11-13T16:23:46.732Z"
   },
   {
    "duration": 808,
    "start_time": "2021-11-13T16:23:47.221Z"
   },
   {
    "duration": 2426,
    "start_time": "2021-11-13T16:23:48.032Z"
   },
   {
    "duration": 100,
    "start_time": "2021-11-13T16:29:12.706Z"
   },
   {
    "duration": 576,
    "start_time": "2021-11-13T16:29:12.809Z"
   },
   {
    "duration": 789,
    "start_time": "2021-11-13T16:29:13.388Z"
   },
   {
    "duration": 2334,
    "start_time": "2021-11-13T16:29:14.180Z"
   },
   {
    "duration": 96,
    "start_time": "2021-11-13T16:56:21.673Z"
   },
   {
    "duration": 98,
    "start_time": "2021-11-13T16:56:25.419Z"
   },
   {
    "duration": 587,
    "start_time": "2021-11-13T16:56:25.520Z"
   },
   {
    "duration": 1316,
    "start_time": "2021-11-13T16:56:26.110Z"
   },
   {
    "duration": 2476,
    "start_time": "2021-11-13T16:56:27.429Z"
   },
   {
    "duration": 94,
    "start_time": "2021-11-13T16:57:00.044Z"
   },
   {
    "duration": 484,
    "start_time": "2021-11-13T16:57:00.140Z"
   },
   {
    "duration": 933,
    "start_time": "2021-11-13T16:57:00.626Z"
   },
   {
    "duration": 2281,
    "start_time": "2021-11-13T16:57:01.562Z"
   },
   {
    "duration": 577,
    "start_time": "2021-11-13T16:59:42.054Z"
   },
   {
    "duration": 103,
    "start_time": "2021-11-13T17:00:01.856Z"
   },
   {
    "duration": 489,
    "start_time": "2021-11-13T17:00:01.962Z"
   },
   {
    "duration": 814,
    "start_time": "2021-11-13T17:00:02.454Z"
   },
   {
    "duration": 2600,
    "start_time": "2021-11-13T17:00:03.271Z"
   },
   {
    "duration": 1283,
    "start_time": "2021-11-13T17:01:45.939Z"
   },
   {
    "duration": 94,
    "start_time": "2021-11-13T17:02:00.870Z"
   },
   {
    "duration": 482,
    "start_time": "2021-11-13T17:02:00.966Z"
   },
   {
    "duration": 894,
    "start_time": "2021-11-13T17:02:01.452Z"
   },
   {
    "duration": 2276,
    "start_time": "2021-11-13T17:02:02.348Z"
   },
   {
    "duration": 2518,
    "start_time": "2021-11-13T17:02:55.985Z"
   },
   {
    "duration": 103,
    "start_time": "2021-11-13T17:03:50.043Z"
   },
   {
    "duration": 579,
    "start_time": "2021-11-13T17:03:50.148Z"
   },
   {
    "duration": 1136,
    "start_time": "2021-11-13T17:03:50.730Z"
   },
   {
    "duration": 1893,
    "start_time": "2021-11-13T17:03:51.869Z"
   },
   {
    "duration": 96,
    "start_time": "2021-11-13T17:04:38.310Z"
   },
   {
    "duration": 468,
    "start_time": "2021-11-13T17:04:38.409Z"
   },
   {
    "duration": 1348,
    "start_time": "2021-11-13T17:04:38.880Z"
   },
   {
    "duration": 2083,
    "start_time": "2021-11-13T17:04:40.231Z"
   },
   {
    "duration": 93,
    "start_time": "2021-11-13T17:05:30.331Z"
   },
   {
    "duration": 524,
    "start_time": "2021-11-13T17:05:30.426Z"
   },
   {
    "duration": 818,
    "start_time": "2021-11-13T17:05:30.953Z"
   },
   {
    "duration": 2935,
    "start_time": "2021-11-13T17:05:31.774Z"
   },
   {
    "duration": 96,
    "start_time": "2021-11-13T17:05:46.419Z"
   },
   {
    "duration": 491,
    "start_time": "2021-11-13T17:05:46.522Z"
   },
   {
    "duration": 1189,
    "start_time": "2021-11-13T17:05:47.016Z"
   },
   {
    "duration": 29,
    "start_time": "2021-11-13T17:05:48.207Z"
   },
   {
    "duration": 98,
    "start_time": "2021-11-13T17:06:09.417Z"
   },
   {
    "duration": 481,
    "start_time": "2021-11-13T17:06:09.518Z"
   },
   {
    "duration": 908,
    "start_time": "2021-11-13T17:06:10.002Z"
   },
   {
    "duration": 20,
    "start_time": "2021-11-13T17:06:10.912Z"
   },
   {
    "duration": 98,
    "start_time": "2021-11-13T17:06:40.758Z"
   },
   {
    "duration": 588,
    "start_time": "2021-11-13T17:06:40.858Z"
   },
   {
    "duration": 1150,
    "start_time": "2021-11-13T17:06:41.449Z"
   },
   {
    "duration": 10,
    "start_time": "2021-11-13T17:06:42.602Z"
   },
   {
    "duration": 2008,
    "start_time": "2021-11-13T17:07:32.479Z"
   },
   {
    "duration": 100,
    "start_time": "2021-11-13T17:12:21.338Z"
   },
   {
    "duration": 565,
    "start_time": "2021-11-13T17:12:21.441Z"
   },
   {
    "duration": 1140,
    "start_time": "2021-11-13T17:12:22.008Z"
   },
   {
    "duration": 2007,
    "start_time": "2021-11-13T17:12:23.150Z"
   },
   {
    "duration": 1293,
    "start_time": "2021-11-13T17:19:44.133Z"
   },
   {
    "duration": 146,
    "start_time": "2021-11-13T17:29:18.982Z"
   },
   {
    "duration": 710,
    "start_time": "2021-11-13T17:29:19.132Z"
   },
   {
    "duration": 927,
    "start_time": "2021-11-13T17:29:19.846Z"
   },
   {
    "duration": 2263,
    "start_time": "2021-11-13T17:29:20.776Z"
   },
   {
    "duration": 1340,
    "start_time": "2021-11-13T17:29:23.042Z"
   },
   {
    "duration": 65,
    "start_time": "2021-11-13T17:29:24.384Z"
   },
   {
    "duration": 1229,
    "start_time": "2021-11-13T17:29:24.452Z"
   },
   {
    "duration": 145,
    "start_time": "2021-11-13T17:33:35.089Z"
   },
   {
    "duration": 529,
    "start_time": "2021-11-13T17:33:35.237Z"
   },
   {
    "duration": 784,
    "start_time": "2021-11-13T17:33:35.769Z"
   },
   {
    "duration": 2505,
    "start_time": "2021-11-13T17:33:36.556Z"
   },
   {
    "duration": 2004,
    "start_time": "2021-11-13T17:33:39.063Z"
   },
   {
    "duration": 82,
    "start_time": "2021-11-13T17:33:41.070Z"
   },
   {
    "duration": 1224,
    "start_time": "2021-11-13T17:33:41.156Z"
   },
   {
    "duration": 360,
    "start_time": "2021-11-13T17:33:42.384Z"
   },
   {
    "duration": 96,
    "start_time": "2021-11-13T17:36:44.634Z"
   },
   {
    "duration": 465,
    "start_time": "2021-11-13T17:36:44.732Z"
   },
   {
    "duration": 896,
    "start_time": "2021-11-13T17:36:45.201Z"
   },
   {
    "duration": 2005,
    "start_time": "2021-11-13T17:36:46.100Z"
   },
   {
    "duration": 1674,
    "start_time": "2021-11-13T17:36:48.107Z"
   },
   {
    "duration": 58,
    "start_time": "2021-11-13T17:36:49.783Z"
   },
   {
    "duration": 1425,
    "start_time": "2021-11-13T17:36:49.843Z"
   },
   {
    "duration": 438,
    "start_time": "2021-11-13T17:36:51.271Z"
   },
   {
    "duration": 350,
    "start_time": "2021-11-13T17:36:51.712Z"
   },
   {
    "duration": 277,
    "start_time": "2021-11-13T17:39:25.404Z"
   },
   {
    "duration": 97,
    "start_time": "2021-11-13T17:42:03.344Z"
   },
   {
    "duration": 531,
    "start_time": "2021-11-13T17:42:03.444Z"
   },
   {
    "duration": 1623,
    "start_time": "2021-11-13T17:42:03.978Z"
   },
   {
    "duration": 2657,
    "start_time": "2021-11-13T17:42:05.604Z"
   },
   {
    "duration": 1419,
    "start_time": "2021-11-13T17:42:08.263Z"
   },
   {
    "duration": 64,
    "start_time": "2021-11-13T17:42:09.685Z"
   },
   {
    "duration": 1253,
    "start_time": "2021-11-13T17:42:09.751Z"
   },
   {
    "duration": 416,
    "start_time": "2021-11-13T17:42:11.009Z"
   },
   {
    "duration": 495,
    "start_time": "2021-11-13T17:42:11.427Z"
   },
   {
    "duration": 299,
    "start_time": "2021-11-13T17:42:11.925Z"
   },
   {
    "duration": 732,
    "start_time": "2021-11-13T17:42:12.227Z"
   },
   {
    "duration": 99,
    "start_time": "2021-11-13T17:43:13.974Z"
   },
   {
    "duration": 93,
    "start_time": "2021-11-13T18:17:38.391Z"
   },
   {
    "duration": 472,
    "start_time": "2021-11-13T18:17:38.486Z"
   },
   {
    "duration": 1105,
    "start_time": "2021-11-13T18:17:38.961Z"
   },
   {
    "duration": 2121,
    "start_time": "2021-11-13T18:17:40.069Z"
   },
   {
    "duration": 1259,
    "start_time": "2021-11-13T18:17:42.192Z"
   },
   {
    "duration": 70,
    "start_time": "2021-11-13T18:17:43.454Z"
   },
   {
    "duration": 1217,
    "start_time": "2021-11-13T18:17:43.527Z"
   },
   {
    "duration": 358,
    "start_time": "2021-11-13T18:17:44.749Z"
   },
   {
    "duration": 352,
    "start_time": "2021-11-13T18:17:45.110Z"
   },
   {
    "duration": 299,
    "start_time": "2021-11-13T18:17:45.465Z"
   },
   {
    "duration": 678,
    "start_time": "2021-11-13T18:17:45.766Z"
   },
   {
    "duration": 440,
    "start_time": "2021-11-13T18:17:46.446Z"
   },
   {
    "duration": 104,
    "start_time": "2021-11-13T18:18:11.082Z"
   },
   {
    "duration": 3,
    "start_time": "2021-11-13T18:20:12.036Z"
   },
   {
    "duration": 3,
    "start_time": "2021-11-13T18:29:59.309Z"
   },
   {
    "duration": 95,
    "start_time": "2021-11-13T18:49:08.975Z"
   },
   {
    "duration": 470,
    "start_time": "2021-11-13T18:49:09.073Z"
   },
   {
    "duration": 878,
    "start_time": "2021-11-13T18:49:09.547Z"
   },
   {
    "duration": 1933,
    "start_time": "2021-11-13T18:49:10.428Z"
   },
   {
    "duration": 1367,
    "start_time": "2021-11-13T18:49:12.364Z"
   },
   {
    "duration": 50,
    "start_time": "2021-11-13T18:49:13.734Z"
   },
   {
    "duration": 1262,
    "start_time": "2021-11-13T18:49:13.786Z"
   },
   {
    "duration": 345,
    "start_time": "2021-11-13T18:49:15.052Z"
   },
   {
    "duration": 340,
    "start_time": "2021-11-13T18:49:15.400Z"
   },
   {
    "duration": 286,
    "start_time": "2021-11-13T18:49:15.743Z"
   },
   {
    "duration": 715,
    "start_time": "2021-11-13T18:49:16.031Z"
   },
   {
    "duration": 303,
    "start_time": "2021-11-13T18:49:16.749Z"
   },
   {
    "duration": 306,
    "start_time": "2021-11-13T18:49:17.054Z"
   },
   {
    "duration": -27,
    "start_time": "2021-11-13T18:49:17.389Z"
   },
   {
    "duration": -30,
    "start_time": "2021-11-13T18:49:17.394Z"
   },
   {
    "duration": -32,
    "start_time": "2021-11-13T18:49:17.398Z"
   },
   {
    "duration": -35,
    "start_time": "2021-11-13T18:49:17.402Z"
   },
   {
    "duration": -37,
    "start_time": "2021-11-13T18:49:17.406Z"
   },
   {
    "duration": -40,
    "start_time": "2021-11-13T18:49:17.410Z"
   },
   {
    "duration": -43,
    "start_time": "2021-11-13T18:49:17.414Z"
   },
   {
    "duration": -44,
    "start_time": "2021-11-13T18:49:17.417Z"
   },
   {
    "duration": -47,
    "start_time": "2021-11-13T18:49:17.421Z"
   },
   {
    "duration": -49,
    "start_time": "2021-11-13T18:49:17.424Z"
   },
   {
    "duration": 94,
    "start_time": "2021-11-13T18:51:20.396Z"
   },
   {
    "duration": 479,
    "start_time": "2021-11-13T18:51:20.493Z"
   },
   {
    "duration": 1104,
    "start_time": "2021-11-13T18:51:20.975Z"
   },
   {
    "duration": 1881,
    "start_time": "2021-11-13T18:51:22.082Z"
   },
   {
    "duration": 1199,
    "start_time": "2021-11-13T18:51:23.965Z"
   },
   {
    "duration": 62,
    "start_time": "2021-11-13T18:51:25.166Z"
   },
   {
    "duration": 1356,
    "start_time": "2021-11-13T18:51:25.231Z"
   },
   {
    "duration": 346,
    "start_time": "2021-11-13T18:51:26.591Z"
   },
   {
    "duration": 331,
    "start_time": "2021-11-13T18:51:26.939Z"
   },
   {
    "duration": 302,
    "start_time": "2021-11-13T18:51:27.274Z"
   },
   {
    "duration": 738,
    "start_time": "2021-11-13T18:51:27.579Z"
   },
   {
    "duration": 302,
    "start_time": "2021-11-13T18:51:28.323Z"
   },
   {
    "duration": 331,
    "start_time": "2021-11-13T18:51:28.627Z"
   },
   {
    "duration": 288,
    "start_time": "2021-11-13T18:51:28.960Z"
   },
   {
    "duration": -20,
    "start_time": "2021-11-13T18:51:29.270Z"
   },
   {
    "duration": -23,
    "start_time": "2021-11-13T18:51:29.275Z"
   },
   {
    "duration": -25,
    "start_time": "2021-11-13T18:51:29.278Z"
   },
   {
    "duration": -26,
    "start_time": "2021-11-13T18:51:29.281Z"
   },
   {
    "duration": -28,
    "start_time": "2021-11-13T18:51:29.285Z"
   },
   {
    "duration": -31,
    "start_time": "2021-11-13T18:51:29.289Z"
   },
   {
    "duration": -36,
    "start_time": "2021-11-13T18:51:29.296Z"
   },
   {
    "duration": -39,
    "start_time": "2021-11-13T18:51:29.300Z"
   },
   {
    "duration": -41,
    "start_time": "2021-11-13T18:51:29.303Z"
   },
   {
    "duration": 96,
    "start_time": "2021-11-13T18:52:58.890Z"
   },
   {
    "duration": 472,
    "start_time": "2021-11-13T18:52:58.988Z"
   },
   {
    "duration": 944,
    "start_time": "2021-11-13T18:52:59.462Z"
   },
   {
    "duration": 1969,
    "start_time": "2021-11-13T18:53:00.410Z"
   },
   {
    "duration": 1214,
    "start_time": "2021-11-13T18:53:02.381Z"
   },
   {
    "duration": 66,
    "start_time": "2021-11-13T18:53:03.597Z"
   },
   {
    "duration": 1350,
    "start_time": "2021-11-13T18:53:03.665Z"
   },
   {
    "duration": 354,
    "start_time": "2021-11-13T18:53:05.025Z"
   },
   {
    "duration": 346,
    "start_time": "2021-11-13T18:53:05.382Z"
   },
   {
    "duration": 300,
    "start_time": "2021-11-13T18:53:05.731Z"
   },
   {
    "duration": 704,
    "start_time": "2021-11-13T18:53:06.034Z"
   },
   {
    "duration": 320,
    "start_time": "2021-11-13T18:53:06.741Z"
   },
   {
    "duration": 325,
    "start_time": "2021-11-13T18:53:07.064Z"
   },
   {
    "duration": 355,
    "start_time": "2021-11-13T18:53:07.392Z"
   },
   {
    "duration": 54,
    "start_time": "2021-11-13T18:53:07.750Z"
   },
   {
    "duration": 312,
    "start_time": "2021-11-13T18:53:07.823Z"
   },
   {
    "duration": 15,
    "start_time": "2021-11-13T18:53:08.138Z"
   },
   {
    "duration": 612,
    "start_time": "2021-11-13T18:53:08.155Z"
   },
   {
    "duration": 323,
    "start_time": "2021-11-13T18:53:08.822Z"
   },
   {
    "duration": 435,
    "start_time": "2021-11-13T18:53:09.148Z"
   },
   {
    "duration": 502,
    "start_time": "2021-11-13T18:53:09.587Z"
   },
   {
    "duration": -29,
    "start_time": "2021-11-13T18:53:10.120Z"
   },
   {
    "duration": -31,
    "start_time": "2021-11-13T18:53:10.124Z"
   },
   {
    "duration": 103,
    "start_time": "2021-11-13T18:53:45.675Z"
   },
   {
    "duration": 491,
    "start_time": "2021-11-13T18:53:45.780Z"
   },
   {
    "duration": 1015,
    "start_time": "2021-11-13T18:53:46.274Z"
   },
   {
    "duration": 1926,
    "start_time": "2021-11-13T18:53:47.292Z"
   },
   {
    "duration": 1217,
    "start_time": "2021-11-13T18:53:49.223Z"
   },
   {
    "duration": 49,
    "start_time": "2021-11-13T18:53:50.442Z"
   },
   {
    "duration": 1373,
    "start_time": "2021-11-13T18:53:50.493Z"
   },
   {
    "duration": 371,
    "start_time": "2021-11-13T18:53:51.870Z"
   },
   {
    "duration": 349,
    "start_time": "2021-11-13T18:53:52.244Z"
   },
   {
    "duration": 393,
    "start_time": "2021-11-13T18:53:52.596Z"
   },
   {
    "duration": 686,
    "start_time": "2021-11-13T18:53:52.992Z"
   },
   {
    "duration": 311,
    "start_time": "2021-11-13T18:53:53.680Z"
   },
   {
    "duration": 327,
    "start_time": "2021-11-13T18:53:53.993Z"
   },
   {
    "duration": 336,
    "start_time": "2021-11-13T18:53:54.323Z"
   },
   {
    "duration": 37,
    "start_time": "2021-11-13T18:53:54.661Z"
   },
   {
    "duration": 325,
    "start_time": "2021-11-13T18:53:54.700Z"
   },
   {
    "duration": 11,
    "start_time": "2021-11-13T18:53:55.028Z"
   },
   {
    "duration": 341,
    "start_time": "2021-11-13T18:53:55.041Z"
   },
   {
    "duration": 284,
    "start_time": "2021-11-13T18:53:55.384Z"
   },
   {
    "duration": 475,
    "start_time": "2021-11-13T18:53:55.670Z"
   },
   {
    "duration": 334,
    "start_time": "2021-11-13T18:53:56.147Z"
   },
   {
    "duration": 296,
    "start_time": "2021-11-13T18:53:56.484Z"
   },
   {
    "duration": 40,
    "start_time": "2021-11-13T18:53:56.743Z"
   },
   {
    "duration": 103,
    "start_time": "2021-11-13T18:55:21.027Z"
   },
   {
    "duration": 464,
    "start_time": "2021-11-13T18:55:21.133Z"
   },
   {
    "duration": 903,
    "start_time": "2021-11-13T18:55:21.600Z"
   },
   {
    "duration": 1986,
    "start_time": "2021-11-13T18:55:22.506Z"
   },
   {
    "duration": 1206,
    "start_time": "2021-11-13T18:55:24.494Z"
   },
   {
    "duration": 60,
    "start_time": "2021-11-13T18:55:25.703Z"
   },
   {
    "duration": 1388,
    "start_time": "2021-11-13T18:55:25.766Z"
   },
   {
    "duration": 351,
    "start_time": "2021-11-13T18:55:27.159Z"
   },
   {
    "duration": 341,
    "start_time": "2021-11-13T18:55:27.514Z"
   },
   {
    "duration": 290,
    "start_time": "2021-11-13T18:55:27.858Z"
   },
   {
    "duration": 797,
    "start_time": "2021-11-13T18:55:28.152Z"
   },
   {
    "duration": 309,
    "start_time": "2021-11-13T18:55:28.952Z"
   },
   {
    "duration": 327,
    "start_time": "2021-11-13T18:55:29.264Z"
   },
   {
    "duration": 341,
    "start_time": "2021-11-13T18:55:29.594Z"
   },
   {
    "duration": 36,
    "start_time": "2021-11-13T18:55:29.938Z"
   },
   {
    "duration": 363,
    "start_time": "2021-11-13T18:55:29.976Z"
   },
   {
    "duration": 16,
    "start_time": "2021-11-13T18:55:30.341Z"
   },
   {
    "duration": 360,
    "start_time": "2021-11-13T18:55:30.359Z"
   },
   {
    "duration": 320,
    "start_time": "2021-11-13T18:55:30.723Z"
   },
   {
    "duration": 442,
    "start_time": "2021-11-13T18:55:31.046Z"
   },
   {
    "duration": 326,
    "start_time": "2021-11-13T18:55:31.490Z"
   },
   {
    "duration": 327,
    "start_time": "2021-11-13T18:55:31.823Z"
   },
   {
    "duration": 307,
    "start_time": "2021-11-13T18:55:32.154Z"
   },
   {
    "duration": 112,
    "start_time": "2021-11-13T18:56:29.015Z"
   },
   {
    "duration": 474,
    "start_time": "2021-11-13T18:56:29.130Z"
   },
   {
    "duration": 941,
    "start_time": "2021-11-13T18:56:29.608Z"
   },
   {
    "duration": 1920,
    "start_time": "2021-11-13T18:56:30.552Z"
   },
   {
    "duration": 1385,
    "start_time": "2021-11-13T18:56:32.475Z"
   },
   {
    "duration": 66,
    "start_time": "2021-11-13T18:56:33.863Z"
   },
   {
    "duration": 1462,
    "start_time": "2021-11-13T18:56:33.931Z"
   },
   {
    "duration": 355,
    "start_time": "2021-11-13T18:56:35.397Z"
   },
   {
    "duration": 337,
    "start_time": "2021-11-13T18:56:35.755Z"
   },
   {
    "duration": 296,
    "start_time": "2021-11-13T18:56:36.094Z"
   },
   {
    "duration": 712,
    "start_time": "2021-11-13T18:56:36.392Z"
   },
   {
    "duration": 315,
    "start_time": "2021-11-13T18:56:37.107Z"
   },
   {
    "duration": 328,
    "start_time": "2021-11-13T18:56:37.424Z"
   },
   {
    "duration": 327,
    "start_time": "2021-11-13T18:56:37.754Z"
   },
   {
    "duration": 56,
    "start_time": "2021-11-13T18:56:38.083Z"
   },
   {
    "duration": 314,
    "start_time": "2021-11-13T18:56:38.142Z"
   },
   {
    "duration": 12,
    "start_time": "2021-11-13T18:56:38.459Z"
   },
   {
    "duration": 328,
    "start_time": "2021-11-13T18:56:38.473Z"
   },
   {
    "duration": 288,
    "start_time": "2021-11-13T18:56:38.803Z"
   },
   {
    "duration": 511,
    "start_time": "2021-11-13T18:56:39.094Z"
   },
   {
    "duration": 318,
    "start_time": "2021-11-13T18:56:39.608Z"
   },
   {
    "duration": 478,
    "start_time": "2021-11-13T18:56:39.928Z"
   },
   {
    "duration": 450,
    "start_time": "2021-11-13T18:56:40.410Z"
   },
   {
    "duration": 719,
    "start_time": "2021-11-14T07:16:15.138Z"
   },
   {
    "duration": 358,
    "start_time": "2021-11-14T07:16:15.859Z"
   },
   {
    "duration": 530,
    "start_time": "2021-11-14T07:16:16.219Z"
   },
   {
    "duration": 1140,
    "start_time": "2021-11-14T07:16:16.751Z"
   },
   {
    "duration": 735,
    "start_time": "2021-11-14T07:16:17.893Z"
   },
   {
    "duration": 46,
    "start_time": "2021-11-14T07:16:18.629Z"
   },
   {
    "duration": 835,
    "start_time": "2021-11-14T07:16:18.677Z"
   },
   {
    "duration": 225,
    "start_time": "2021-11-14T07:16:19.515Z"
   },
   {
    "duration": 211,
    "start_time": "2021-11-14T07:16:19.742Z"
   },
   {
    "duration": 186,
    "start_time": "2021-11-14T07:16:19.955Z"
   },
   {
    "duration": 484,
    "start_time": "2021-11-14T07:16:20.144Z"
   },
   {
    "duration": 213,
    "start_time": "2021-11-14T07:16:20.629Z"
   },
   {
    "duration": 210,
    "start_time": "2021-11-14T07:16:20.844Z"
   },
   {
    "duration": 211,
    "start_time": "2021-11-14T07:16:21.056Z"
   },
   {
    "duration": 26,
    "start_time": "2021-11-14T07:16:21.268Z"
   },
   {
    "duration": 210,
    "start_time": "2021-11-14T07:16:21.295Z"
   },
   {
    "duration": 9,
    "start_time": "2021-11-14T07:16:21.507Z"
   },
   {
    "duration": 210,
    "start_time": "2021-11-14T07:16:21.518Z"
   },
   {
    "duration": 278,
    "start_time": "2021-11-14T07:16:21.730Z"
   },
   {
    "duration": 316,
    "start_time": "2021-11-14T07:16:22.010Z"
   },
   {
    "duration": 202,
    "start_time": "2021-11-14T07:16:22.327Z"
   },
   {
    "duration": 209,
    "start_time": "2021-11-14T07:16:22.531Z"
   },
   {
    "duration": 217,
    "start_time": "2021-11-14T07:16:22.743Z"
   },
   {
    "duration": 962,
    "start_time": "2021-11-14T07:18:48.537Z"
   },
   {
    "duration": 1198,
    "start_time": "2021-11-14T07:19:05.186Z"
   },
   {
    "duration": 96,
    "start_time": "2021-11-14T07:59:23.799Z"
   },
   {
    "duration": 87,
    "start_time": "2021-11-14T08:18:56.818Z"
   },
   {
    "duration": 113,
    "start_time": "2021-11-14T17:22:04.059Z"
   },
   {
    "duration": 900,
    "start_time": "2021-11-14T17:25:13.594Z"
   },
   {
    "duration": 611,
    "start_time": "2021-11-14T17:25:50.906Z"
   },
   {
    "duration": 98,
    "start_time": "2021-11-14T17:25:57.725Z"
   },
   {
    "duration": 430,
    "start_time": "2021-11-14T17:25:57.826Z"
   },
   {
    "duration": 1312,
    "start_time": "2021-11-14T17:25:58.259Z"
   },
   {
    "duration": 2031,
    "start_time": "2021-11-14T17:25:59.574Z"
   },
   {
    "duration": 1641,
    "start_time": "2021-11-14T17:26:01.607Z"
   },
   {
    "duration": 87,
    "start_time": "2021-11-14T17:26:03.251Z"
   },
   {
    "duration": 1670,
    "start_time": "2021-11-14T17:26:03.341Z"
   },
   {
    "duration": 363,
    "start_time": "2021-11-14T17:26:05.013Z"
   },
   {
    "duration": 613,
    "start_time": "2021-11-14T17:26:05.384Z"
   },
   {
    "duration": 406,
    "start_time": "2021-11-14T17:26:06.000Z"
   },
   {
    "duration": 766,
    "start_time": "2021-11-14T17:26:06.409Z"
   },
   {
    "duration": 389,
    "start_time": "2021-11-14T17:26:07.177Z"
   },
   {
    "duration": 373,
    "start_time": "2021-11-14T17:26:07.569Z"
   },
   {
    "duration": 355,
    "start_time": "2021-11-14T17:26:07.945Z"
   },
   {
    "duration": 41,
    "start_time": "2021-11-14T17:26:08.303Z"
   },
   {
    "duration": 548,
    "start_time": "2021-11-14T17:26:08.346Z"
   },
   {
    "duration": 21,
    "start_time": "2021-11-14T17:26:08.898Z"
   },
   {
    "duration": 799,
    "start_time": "2021-11-14T17:26:08.923Z"
   },
   {
    "duration": 323,
    "start_time": "2021-11-14T17:26:09.725Z"
   },
   {
    "duration": 483,
    "start_time": "2021-11-14T17:26:10.051Z"
   },
   {
    "duration": 531,
    "start_time": "2021-11-14T17:26:10.538Z"
   },
   {
    "duration": 419,
    "start_time": "2021-11-14T17:26:11.072Z"
   },
   {
    "duration": 461,
    "start_time": "2021-11-14T17:26:11.493Z"
   },
   {
    "duration": 115,
    "start_time": "2021-11-14T17:49:06.045Z"
   },
   {
    "duration": 695,
    "start_time": "2021-11-14T17:49:06.251Z"
   },
   {
    "duration": -40,
    "start_time": "2021-11-14T17:49:06.992Z"
   },
   {
    "duration": -75,
    "start_time": "2021-11-14T17:49:07.030Z"
   },
   {
    "duration": -80,
    "start_time": "2021-11-14T17:49:07.037Z"
   },
   {
    "duration": -82,
    "start_time": "2021-11-14T17:49:07.041Z"
   },
   {
    "duration": -87,
    "start_time": "2021-11-14T17:49:07.049Z"
   },
   {
    "duration": -89,
    "start_time": "2021-11-14T17:49:07.054Z"
   },
   {
    "duration": -96,
    "start_time": "2021-11-14T17:49:07.063Z"
   },
   {
    "duration": -100,
    "start_time": "2021-11-14T17:49:07.069Z"
   },
   {
    "duration": -101,
    "start_time": "2021-11-14T17:49:07.073Z"
   },
   {
    "duration": -102,
    "start_time": "2021-11-14T17:49:07.077Z"
   },
   {
    "duration": -106,
    "start_time": "2021-11-14T17:49:07.083Z"
   },
   {
    "duration": -107,
    "start_time": "2021-11-14T17:49:07.086Z"
   },
   {
    "duration": -108,
    "start_time": "2021-11-14T17:49:07.090Z"
   },
   {
    "duration": -111,
    "start_time": "2021-11-14T17:49:07.095Z"
   },
   {
    "duration": -112,
    "start_time": "2021-11-14T17:49:07.098Z"
   },
   {
    "duration": -114,
    "start_time": "2021-11-14T17:49:07.102Z"
   },
   {
    "duration": -113,
    "start_time": "2021-11-14T17:49:07.104Z"
   },
   {
    "duration": -114,
    "start_time": "2021-11-14T17:49:07.108Z"
   },
   {
    "duration": -115,
    "start_time": "2021-11-14T17:49:07.111Z"
   },
   {
    "duration": -117,
    "start_time": "2021-11-14T17:49:07.116Z"
   },
   {
    "duration": -117,
    "start_time": "2021-11-14T17:49:07.118Z"
   },
   {
    "duration": -119,
    "start_time": "2021-11-14T17:49:07.122Z"
   },
   {
    "duration": 170,
    "start_time": "2021-11-14T17:49:18.315Z"
   },
   {
    "duration": 68,
    "start_time": "2021-11-14T17:49:18.489Z"
   },
   {
    "duration": 482,
    "start_time": "2021-11-14T17:49:18.563Z"
   },
   {
    "duration": 1082,
    "start_time": "2021-11-14T17:49:19.049Z"
   },
   {
    "duration": 2149,
    "start_time": "2021-11-14T17:49:20.133Z"
   },
   {
    "duration": 1675,
    "start_time": "2021-11-14T17:49:22.285Z"
   },
   {
    "duration": 64,
    "start_time": "2021-11-14T17:49:23.963Z"
   },
   {
    "duration": 1493,
    "start_time": "2021-11-14T17:49:24.030Z"
   },
   {
    "duration": 478,
    "start_time": "2021-11-14T17:49:25.527Z"
   },
   {
    "duration": 493,
    "start_time": "2021-11-14T17:49:26.007Z"
   },
   {
    "duration": 313,
    "start_time": "2021-11-14T17:49:26.503Z"
   },
   {
    "duration": 740,
    "start_time": "2021-11-14T17:49:26.818Z"
   },
   {
    "duration": 331,
    "start_time": "2021-11-14T17:49:27.561Z"
   },
   {
    "duration": 346,
    "start_time": "2021-11-14T17:49:27.895Z"
   },
   {
    "duration": 351,
    "start_time": "2021-11-14T17:49:28.243Z"
   },
   {
    "duration": 62,
    "start_time": "2021-11-14T17:49:28.597Z"
   },
   {
    "duration": 519,
    "start_time": "2021-11-14T17:49:28.663Z"
   },
   {
    "duration": 21,
    "start_time": "2021-11-14T17:49:29.185Z"
   },
   {
    "duration": 350,
    "start_time": "2021-11-14T17:49:29.210Z"
   },
   {
    "duration": 310,
    "start_time": "2021-11-14T17:49:29.563Z"
   },
   {
    "duration": 476,
    "start_time": "2021-11-14T17:49:29.875Z"
   },
   {
    "duration": 352,
    "start_time": "2021-11-14T17:49:30.354Z"
   },
   {
    "duration": 878,
    "start_time": "2021-11-14T17:49:30.710Z"
   },
   {
    "duration": 653,
    "start_time": "2021-11-14T17:49:31.592Z"
   },
   {
    "duration": 109,
    "start_time": "2021-11-14T17:49:42.437Z"
   },
   {
    "duration": 56,
    "start_time": "2021-11-14T17:49:42.549Z"
   },
   {
    "duration": 467,
    "start_time": "2021-11-14T17:49:42.608Z"
   },
   {
    "duration": 1251,
    "start_time": "2021-11-14T17:49:43.082Z"
   },
   {
    "duration": 2040,
    "start_time": "2021-11-14T17:49:44.335Z"
   },
   {
    "duration": 1540,
    "start_time": "2021-11-14T17:49:46.382Z"
   },
   {
    "duration": 72,
    "start_time": "2021-11-14T17:49:47.925Z"
   },
   {
    "duration": 1356,
    "start_time": "2021-11-14T17:49:48.000Z"
   },
   {
    "duration": 373,
    "start_time": "2021-11-14T17:49:49.362Z"
   },
   {
    "duration": 666,
    "start_time": "2021-11-14T17:49:49.740Z"
   },
   {
    "duration": 433,
    "start_time": "2021-11-14T17:49:50.410Z"
   },
   {
    "duration": 824,
    "start_time": "2021-11-14T17:49:50.846Z"
   },
   {
    "duration": 355,
    "start_time": "2021-11-14T17:49:51.673Z"
   },
   {
    "duration": 486,
    "start_time": "2021-11-14T17:49:52.031Z"
   },
   {
    "duration": 366,
    "start_time": "2021-11-14T17:49:52.520Z"
   },
   {
    "duration": 48,
    "start_time": "2021-11-14T17:49:52.889Z"
   },
   {
    "duration": 362,
    "start_time": "2021-11-14T17:49:52.939Z"
   },
   {
    "duration": 12,
    "start_time": "2021-11-14T17:49:53.303Z"
   },
   {
    "duration": 365,
    "start_time": "2021-11-14T17:49:53.317Z"
   },
   {
    "duration": 319,
    "start_time": "2021-11-14T17:49:53.685Z"
   },
   {
    "duration": 459,
    "start_time": "2021-11-14T17:49:54.007Z"
   },
   {
    "duration": 355,
    "start_time": "2021-11-14T17:49:54.469Z"
   },
   {
    "duration": 363,
    "start_time": "2021-11-14T17:49:54.826Z"
   },
   {
    "duration": 360,
    "start_time": "2021-11-14T17:49:55.192Z"
   },
   {
    "duration": 42,
    "start_time": "2021-11-14T17:51:12.557Z"
   },
   {
    "duration": 104,
    "start_time": "2021-11-14T17:51:23.357Z"
   },
   {
    "duration": 51,
    "start_time": "2021-11-14T17:51:23.464Z"
   },
   {
    "duration": 464,
    "start_time": "2021-11-14T17:51:23.518Z"
   },
   {
    "duration": 1234,
    "start_time": "2021-11-14T17:51:23.985Z"
   },
   {
    "duration": 2489,
    "start_time": "2021-11-14T17:51:25.222Z"
   },
   {
    "duration": 1299,
    "start_time": "2021-11-14T17:51:27.714Z"
   },
   {
    "duration": 67,
    "start_time": "2021-11-14T17:51:29.015Z"
   },
   {
    "duration": 1416,
    "start_time": "2021-11-14T17:51:29.084Z"
   },
   {
    "duration": 393,
    "start_time": "2021-11-14T17:51:30.504Z"
   },
   {
    "duration": 385,
    "start_time": "2021-11-14T17:51:30.900Z"
   },
   {
    "duration": 324,
    "start_time": "2021-11-14T17:51:31.287Z"
   },
   {
    "duration": 741,
    "start_time": "2021-11-14T17:51:31.614Z"
   },
   {
    "duration": 369,
    "start_time": "2021-11-14T17:51:32.357Z"
   },
   {
    "duration": 358,
    "start_time": "2021-11-14T17:51:32.730Z"
   },
   {
    "duration": 360,
    "start_time": "2021-11-14T17:51:33.091Z"
   },
   {
    "duration": 56,
    "start_time": "2021-11-14T17:51:33.454Z"
   },
   {
    "duration": 356,
    "start_time": "2021-11-14T17:51:33.513Z"
   },
   {
    "duration": 17,
    "start_time": "2021-11-14T17:51:33.871Z"
   },
   {
    "duration": 363,
    "start_time": "2021-11-14T17:51:33.890Z"
   },
   {
    "duration": 416,
    "start_time": "2021-11-14T17:51:34.256Z"
   },
   {
    "duration": 484,
    "start_time": "2021-11-14T17:51:34.675Z"
   },
   {
    "duration": 344,
    "start_time": "2021-11-14T17:51:35.161Z"
   },
   {
    "duration": 362,
    "start_time": "2021-11-14T17:51:35.507Z"
   },
   {
    "duration": 367,
    "start_time": "2021-11-14T17:51:35.872Z"
   },
   {
    "duration": 126,
    "start_time": "2021-11-14T17:52:21.269Z"
   },
   {
    "duration": 109,
    "start_time": "2021-11-14T17:53:31.133Z"
   },
   {
    "duration": 322,
    "start_time": "2021-11-14T17:53:31.245Z"
   },
   {
    "duration": -21,
    "start_time": "2021-11-14T17:53:31.592Z"
   },
   {
    "duration": -23,
    "start_time": "2021-11-14T17:53:31.595Z"
   },
   {
    "duration": -51,
    "start_time": "2021-11-14T17:53:31.625Z"
   },
   {
    "duration": -55,
    "start_time": "2021-11-14T17:53:31.630Z"
   },
   {
    "duration": -58,
    "start_time": "2021-11-14T17:53:31.635Z"
   },
   {
    "duration": -61,
    "start_time": "2021-11-14T17:53:31.639Z"
   },
   {
    "duration": -62,
    "start_time": "2021-11-14T17:53:31.642Z"
   },
   {
    "duration": -64,
    "start_time": "2021-11-14T17:53:31.646Z"
   },
   {
    "duration": -66,
    "start_time": "2021-11-14T17:53:31.650Z"
   },
   {
    "duration": -69,
    "start_time": "2021-11-14T17:53:31.654Z"
   },
   {
    "duration": -71,
    "start_time": "2021-11-14T17:53:31.658Z"
   },
   {
    "duration": -73,
    "start_time": "2021-11-14T17:53:31.663Z"
   },
   {
    "duration": -76,
    "start_time": "2021-11-14T17:53:31.668Z"
   },
   {
    "duration": -79,
    "start_time": "2021-11-14T17:53:31.672Z"
   },
   {
    "duration": -80,
    "start_time": "2021-11-14T17:53:31.675Z"
   },
   {
    "duration": -82,
    "start_time": "2021-11-14T17:53:31.679Z"
   },
   {
    "duration": -86,
    "start_time": "2021-11-14T17:53:31.685Z"
   },
   {
    "duration": -88,
    "start_time": "2021-11-14T17:53:31.688Z"
   },
   {
    "duration": -90,
    "start_time": "2021-11-14T17:53:31.692Z"
   },
   {
    "duration": -91,
    "start_time": "2021-11-14T17:53:31.695Z"
   },
   {
    "duration": -93,
    "start_time": "2021-11-14T17:53:31.699Z"
   },
   {
    "duration": -95,
    "start_time": "2021-11-14T17:53:31.703Z"
   },
   {
    "duration": 103,
    "start_time": "2021-11-14T17:54:17.598Z"
   },
   {
    "duration": 320,
    "start_time": "2021-11-14T17:54:17.704Z"
   },
   {
    "duration": -25,
    "start_time": "2021-11-14T17:54:18.054Z"
   },
   {
    "duration": -28,
    "start_time": "2021-11-14T17:54:18.058Z"
   },
   {
    "duration": -29,
    "start_time": "2021-11-14T17:54:18.062Z"
   },
   {
    "duration": -31,
    "start_time": "2021-11-14T17:54:18.066Z"
   },
   {
    "duration": -33,
    "start_time": "2021-11-14T17:54:18.070Z"
   },
   {
    "duration": -34,
    "start_time": "2021-11-14T17:54:18.073Z"
   },
   {
    "duration": -36,
    "start_time": "2021-11-14T17:54:18.078Z"
   },
   {
    "duration": -43,
    "start_time": "2021-11-14T17:54:18.087Z"
   },
   {
    "duration": -45,
    "start_time": "2021-11-14T17:54:18.091Z"
   },
   {
    "duration": -46,
    "start_time": "2021-11-14T17:54:18.094Z"
   },
   {
    "duration": -48,
    "start_time": "2021-11-14T17:54:18.098Z"
   },
   {
    "duration": -50,
    "start_time": "2021-11-14T17:54:18.102Z"
   },
   {
    "duration": -52,
    "start_time": "2021-11-14T17:54:18.106Z"
   },
   {
    "duration": -53,
    "start_time": "2021-11-14T17:54:18.109Z"
   },
   {
    "duration": -55,
    "start_time": "2021-11-14T17:54:18.113Z"
   },
   {
    "duration": -56,
    "start_time": "2021-11-14T17:54:18.116Z"
   },
   {
    "duration": -58,
    "start_time": "2021-11-14T17:54:18.120Z"
   },
   {
    "duration": -59,
    "start_time": "2021-11-14T17:54:18.123Z"
   },
   {
    "duration": -61,
    "start_time": "2021-11-14T17:54:18.127Z"
   },
   {
    "duration": -62,
    "start_time": "2021-11-14T17:54:18.130Z"
   },
   {
    "duration": -52,
    "start_time": "2021-11-14T17:54:18.134Z"
   },
   {
    "duration": -59,
    "start_time": "2021-11-14T17:54:18.143Z"
   },
   {
    "duration": 163,
    "start_time": "2021-11-14T17:55:20.386Z"
   },
   {
    "duration": 364,
    "start_time": "2021-11-14T17:55:20.553Z"
   },
   {
    "duration": -27,
    "start_time": "2021-11-14T17:55:20.950Z"
   },
   {
    "duration": -29,
    "start_time": "2021-11-14T17:55:20.954Z"
   },
   {
    "duration": -55,
    "start_time": "2021-11-14T17:55:20.982Z"
   },
   {
    "duration": -62,
    "start_time": "2021-11-14T17:55:20.991Z"
   },
   {
    "duration": -64,
    "start_time": "2021-11-14T17:55:20.994Z"
   },
   {
    "duration": -66,
    "start_time": "2021-11-14T17:55:20.998Z"
   },
   {
    "duration": -69,
    "start_time": "2021-11-14T17:55:21.002Z"
   },
   {
    "duration": -71,
    "start_time": "2021-11-14T17:55:21.006Z"
   },
   {
    "duration": -73,
    "start_time": "2021-11-14T17:55:21.009Z"
   },
   {
    "duration": -75,
    "start_time": "2021-11-14T17:55:21.013Z"
   },
   {
    "duration": -76,
    "start_time": "2021-11-14T17:55:21.016Z"
   },
   {
    "duration": -79,
    "start_time": "2021-11-14T17:55:21.020Z"
   },
   {
    "duration": -81,
    "start_time": "2021-11-14T17:55:21.024Z"
   },
   {
    "duration": -82,
    "start_time": "2021-11-14T17:55:21.026Z"
   },
   {
    "duration": -84,
    "start_time": "2021-11-14T17:55:21.030Z"
   },
   {
    "duration": -86,
    "start_time": "2021-11-14T17:55:21.033Z"
   },
   {
    "duration": -87,
    "start_time": "2021-11-14T17:55:21.036Z"
   },
   {
    "duration": -90,
    "start_time": "2021-11-14T17:55:21.040Z"
   },
   {
    "duration": -91,
    "start_time": "2021-11-14T17:55:21.043Z"
   },
   {
    "duration": -94,
    "start_time": "2021-11-14T17:55:21.047Z"
   },
   {
    "duration": -103,
    "start_time": "2021-11-14T17:55:21.058Z"
   },
   {
    "duration": -105,
    "start_time": "2021-11-14T17:55:21.061Z"
   },
   {
    "duration": 120,
    "start_time": "2021-11-14T17:55:45.602Z"
   },
   {
    "duration": 325,
    "start_time": "2021-11-14T17:55:45.726Z"
   },
   {
    "duration": -117,
    "start_time": "2021-11-14T17:55:46.172Z"
   },
   {
    "duration": -119,
    "start_time": "2021-11-14T17:55:46.175Z"
   },
   {
    "duration": -119,
    "start_time": "2021-11-14T17:55:46.177Z"
   },
   {
    "duration": -126,
    "start_time": "2021-11-14T17:55:46.186Z"
   },
   {
    "duration": -129,
    "start_time": "2021-11-14T17:55:46.190Z"
   },
   {
    "duration": -129,
    "start_time": "2021-11-14T17:55:46.192Z"
   },
   {
    "duration": -131,
    "start_time": "2021-11-14T17:55:46.195Z"
   },
   {
    "duration": -133,
    "start_time": "2021-11-14T17:55:46.198Z"
   },
   {
    "duration": -136,
    "start_time": "2021-11-14T17:55:46.202Z"
   },
   {
    "duration": -137,
    "start_time": "2021-11-14T17:55:46.205Z"
   },
   {
    "duration": -139,
    "start_time": "2021-11-14T17:55:46.208Z"
   },
   {
    "duration": -140,
    "start_time": "2021-11-14T17:55:46.210Z"
   },
   {
    "duration": -141,
    "start_time": "2021-11-14T17:55:46.213Z"
   },
   {
    "duration": -143,
    "start_time": "2021-11-14T17:55:46.216Z"
   },
   {
    "duration": -144,
    "start_time": "2021-11-14T17:55:46.219Z"
   },
   {
    "duration": -145,
    "start_time": "2021-11-14T17:55:46.222Z"
   },
   {
    "duration": -146,
    "start_time": "2021-11-14T17:55:46.224Z"
   },
   {
    "duration": -147,
    "start_time": "2021-11-14T17:55:46.227Z"
   },
   {
    "duration": -148,
    "start_time": "2021-11-14T17:55:46.230Z"
   },
   {
    "duration": -148,
    "start_time": "2021-11-14T17:55:46.233Z"
   },
   {
    "duration": -149,
    "start_time": "2021-11-14T17:55:46.235Z"
   },
   {
    "duration": -150,
    "start_time": "2021-11-14T17:55:46.238Z"
   },
   {
    "duration": 121,
    "start_time": "2021-11-14T17:56:13.287Z"
   },
   {
    "duration": 580,
    "start_time": "2021-11-14T17:56:13.411Z"
   },
   {
    "duration": -130,
    "start_time": "2021-11-14T17:56:14.126Z"
   },
   {
    "duration": -164,
    "start_time": "2021-11-14T17:56:14.162Z"
   },
   {
    "duration": -170,
    "start_time": "2021-11-14T17:56:14.170Z"
   },
   {
    "duration": -172,
    "start_time": "2021-11-14T17:56:14.175Z"
   },
   {
    "duration": -175,
    "start_time": "2021-11-14T17:56:14.180Z"
   },
   {
    "duration": -177,
    "start_time": "2021-11-14T17:56:14.184Z"
   },
   {
    "duration": -181,
    "start_time": "2021-11-14T17:56:14.190Z"
   },
   {
    "duration": -183,
    "start_time": "2021-11-14T17:56:14.194Z"
   },
   {
    "duration": -187,
    "start_time": "2021-11-14T17:56:14.201Z"
   },
   {
    "duration": -188,
    "start_time": "2021-11-14T17:56:14.205Z"
   },
   {
    "duration": -188,
    "start_time": "2021-11-14T17:56:14.207Z"
   },
   {
    "duration": -189,
    "start_time": "2021-11-14T17:56:14.211Z"
   },
   {
    "duration": -191,
    "start_time": "2021-11-14T17:56:14.216Z"
   },
   {
    "duration": -193,
    "start_time": "2021-11-14T17:56:14.220Z"
   },
   {
    "duration": -192,
    "start_time": "2021-11-14T17:56:14.222Z"
   },
   {
    "duration": -194,
    "start_time": "2021-11-14T17:56:14.225Z"
   },
   {
    "duration": -195,
    "start_time": "2021-11-14T17:56:14.228Z"
   },
   {
    "duration": -135,
    "start_time": "2021-11-14T17:56:14.233Z"
   },
   {
    "duration": -136,
    "start_time": "2021-11-14T17:56:14.236Z"
   },
   {
    "duration": -135,
    "start_time": "2021-11-14T17:56:14.238Z"
   },
   {
    "duration": -135,
    "start_time": "2021-11-14T17:56:14.241Z"
   },
   {
    "duration": -134,
    "start_time": "2021-11-14T17:56:14.243Z"
   },
   {
    "duration": 334,
    "start_time": "2021-11-14T17:57:15.482Z"
   },
   {
    "duration": 432,
    "start_time": "2021-11-14T17:57:15.820Z"
   },
   {
    "duration": -20,
    "start_time": "2021-11-14T17:57:16.276Z"
   },
   {
    "duration": -36,
    "start_time": "2021-11-14T17:57:16.293Z"
   },
   {
    "duration": -38,
    "start_time": "2021-11-14T17:57:16.297Z"
   },
   {
    "duration": -40,
    "start_time": "2021-11-14T17:57:16.300Z"
   },
   {
    "duration": -42,
    "start_time": "2021-11-14T17:57:16.303Z"
   },
   {
    "duration": -45,
    "start_time": "2021-11-14T17:57:16.307Z"
   },
   {
    "duration": -47,
    "start_time": "2021-11-14T17:57:16.311Z"
   },
   {
    "duration": -49,
    "start_time": "2021-11-14T17:57:16.314Z"
   },
   {
    "duration": -52,
    "start_time": "2021-11-14T17:57:16.318Z"
   },
   {
    "duration": -53,
    "start_time": "2021-11-14T17:57:16.321Z"
   },
   {
    "duration": -54,
    "start_time": "2021-11-14T17:57:16.323Z"
   },
   {
    "duration": -55,
    "start_time": "2021-11-14T17:57:16.326Z"
   },
   {
    "duration": -58,
    "start_time": "2021-11-14T17:57:16.330Z"
   },
   {
    "duration": -66,
    "start_time": "2021-11-14T17:57:16.340Z"
   },
   {
    "duration": -69,
    "start_time": "2021-11-14T17:57:16.344Z"
   },
   {
    "duration": -70,
    "start_time": "2021-11-14T17:57:16.347Z"
   },
   {
    "duration": -73,
    "start_time": "2021-11-14T17:57:16.351Z"
   },
   {
    "duration": -76,
    "start_time": "2021-11-14T17:57:16.355Z"
   },
   {
    "duration": -77,
    "start_time": "2021-11-14T17:57:16.358Z"
   },
   {
    "duration": -79,
    "start_time": "2021-11-14T17:57:16.362Z"
   },
   {
    "duration": -81,
    "start_time": "2021-11-14T17:57:16.367Z"
   },
   {
    "duration": -81,
    "start_time": "2021-11-14T17:57:16.370Z"
   },
   {
    "duration": 95,
    "start_time": "2021-11-14T17:59:18.912Z"
   },
   {
    "duration": 360,
    "start_time": "2021-11-14T17:59:19.010Z"
   },
   {
    "duration": -38,
    "start_time": "2021-11-14T17:59:19.413Z"
   },
   {
    "duration": -40,
    "start_time": "2021-11-14T17:59:19.417Z"
   },
   {
    "duration": -42,
    "start_time": "2021-11-14T17:59:19.420Z"
   },
   {
    "duration": -74,
    "start_time": "2021-11-14T17:59:19.453Z"
   },
   {
    "duration": -76,
    "start_time": "2021-11-14T17:59:19.457Z"
   },
   {
    "duration": -79,
    "start_time": "2021-11-14T17:59:19.461Z"
   },
   {
    "duration": -80,
    "start_time": "2021-11-14T17:59:19.464Z"
   },
   {
    "duration": -83,
    "start_time": "2021-11-14T17:59:19.468Z"
   },
   {
    "duration": -84,
    "start_time": "2021-11-14T17:59:19.471Z"
   },
   {
    "duration": -86,
    "start_time": "2021-11-14T17:59:19.474Z"
   },
   {
    "duration": -87,
    "start_time": "2021-11-14T17:59:19.477Z"
   },
   {
    "duration": -89,
    "start_time": "2021-11-14T17:59:19.480Z"
   },
   {
    "duration": -92,
    "start_time": "2021-11-14T17:59:19.484Z"
   },
   {
    "duration": -93,
    "start_time": "2021-11-14T17:59:19.487Z"
   },
   {
    "duration": -94,
    "start_time": "2021-11-14T17:59:19.490Z"
   },
   {
    "duration": -94,
    "start_time": "2021-11-14T17:59:19.492Z"
   },
   {
    "duration": -95,
    "start_time": "2021-11-14T17:59:19.495Z"
   },
   {
    "duration": -96,
    "start_time": "2021-11-14T17:59:19.498Z"
   },
   {
    "duration": -98,
    "start_time": "2021-11-14T17:59:19.501Z"
   },
   {
    "duration": -97,
    "start_time": "2021-11-14T17:59:19.503Z"
   },
   {
    "duration": -99,
    "start_time": "2021-11-14T17:59:19.507Z"
   },
   {
    "duration": -98,
    "start_time": "2021-11-14T17:59:19.509Z"
   },
   {
    "duration": 126,
    "start_time": "2021-11-14T18:00:25.275Z"
   },
   {
    "duration": 339,
    "start_time": "2021-11-14T18:00:25.405Z"
   },
   {
    "duration": -19,
    "start_time": "2021-11-14T18:00:25.768Z"
   },
   {
    "duration": -22,
    "start_time": "2021-11-14T18:00:25.772Z"
   },
   {
    "duration": -22,
    "start_time": "2021-11-14T18:00:25.775Z"
   },
   {
    "duration": -47,
    "start_time": "2021-11-14T18:00:25.802Z"
   },
   {
    "duration": -49,
    "start_time": "2021-11-14T18:00:25.806Z"
   },
   {
    "duration": -50,
    "start_time": "2021-11-14T18:00:25.809Z"
   },
   {
    "duration": -50,
    "start_time": "2021-11-14T18:00:25.812Z"
   },
   {
    "duration": -51,
    "start_time": "2021-11-14T18:00:25.815Z"
   },
   {
    "duration": -53,
    "start_time": "2021-11-14T18:00:25.819Z"
   },
   {
    "duration": -58,
    "start_time": "2021-11-14T18:00:25.827Z"
   },
   {
    "duration": -61,
    "start_time": "2021-11-14T18:00:25.831Z"
   },
   {
    "duration": -63,
    "start_time": "2021-11-14T18:00:25.835Z"
   },
   {
    "duration": -65,
    "start_time": "2021-11-14T18:00:25.838Z"
   },
   {
    "duration": -67,
    "start_time": "2021-11-14T18:00:25.842Z"
   },
   {
    "duration": -68,
    "start_time": "2021-11-14T18:00:25.844Z"
   },
   {
    "duration": -70,
    "start_time": "2021-11-14T18:00:25.848Z"
   },
   {
    "duration": -72,
    "start_time": "2021-11-14T18:00:25.851Z"
   },
   {
    "duration": -72,
    "start_time": "2021-11-14T18:00:25.853Z"
   },
   {
    "duration": -74,
    "start_time": "2021-11-14T18:00:25.856Z"
   },
   {
    "duration": -75,
    "start_time": "2021-11-14T18:00:25.859Z"
   },
   {
    "duration": -77,
    "start_time": "2021-11-14T18:00:25.863Z"
   },
   {
    "duration": -79,
    "start_time": "2021-11-14T18:00:25.866Z"
   },
   {
    "duration": 95,
    "start_time": "2021-11-14T18:00:44.434Z"
   },
   {
    "duration": 310,
    "start_time": "2021-11-14T18:00:44.531Z"
   },
   {
    "duration": 12,
    "start_time": "2021-11-14T18:00:44.832Z"
   },
   {
    "duration": 8,
    "start_time": "2021-11-14T18:00:44.838Z"
   },
   {
    "duration": 5,
    "start_time": "2021-11-14T18:00:44.842Z"
   },
   {
    "duration": 2,
    "start_time": "2021-11-14T18:00:44.847Z"
   },
   {
    "duration": -1,
    "start_time": "2021-11-14T18:00:44.851Z"
   },
   {
    "duration": -4,
    "start_time": "2021-11-14T18:00:44.856Z"
   },
   {
    "duration": -7,
    "start_time": "2021-11-14T18:00:44.860Z"
   },
   {
    "duration": -8,
    "start_time": "2021-11-14T18:00:44.863Z"
   },
   {
    "duration": -12,
    "start_time": "2021-11-14T18:00:44.868Z"
   },
   {
    "duration": -13,
    "start_time": "2021-11-14T18:00:44.871Z"
   },
   {
    "duration": -22,
    "start_time": "2021-11-14T18:00:44.881Z"
   },
   {
    "duration": -25,
    "start_time": "2021-11-14T18:00:44.886Z"
   },
   {
    "duration": -27,
    "start_time": "2021-11-14T18:00:44.889Z"
   },
   {
    "duration": -29,
    "start_time": "2021-11-14T18:00:44.892Z"
   },
   {
    "duration": -32,
    "start_time": "2021-11-14T18:00:44.897Z"
   },
   {
    "duration": -34,
    "start_time": "2021-11-14T18:00:44.900Z"
   },
   {
    "duration": -36,
    "start_time": "2021-11-14T18:00:44.904Z"
   },
   {
    "duration": -38,
    "start_time": "2021-11-14T18:00:44.907Z"
   },
   {
    "duration": -39,
    "start_time": "2021-11-14T18:00:44.910Z"
   },
   {
    "duration": -41,
    "start_time": "2021-11-14T18:00:44.913Z"
   },
   {
    "duration": -44,
    "start_time": "2021-11-14T18:00:44.918Z"
   },
   {
    "duration": -46,
    "start_time": "2021-11-14T18:00:44.921Z"
   },
   {
    "duration": 100,
    "start_time": "2021-11-14T18:01:37.836Z"
   },
   {
    "duration": 9,
    "start_time": "2021-11-14T18:01:37.940Z"
   },
   {
    "duration": 480,
    "start_time": "2021-11-14T18:01:37.952Z"
   },
   {
    "duration": 881,
    "start_time": "2021-11-14T18:01:38.435Z"
   },
   {
    "duration": 2627,
    "start_time": "2021-11-14T18:01:39.319Z"
   },
   {
    "duration": 1376,
    "start_time": "2021-11-14T18:01:41.948Z"
   },
   {
    "duration": 134,
    "start_time": "2021-11-14T18:01:43.384Z"
   },
   {
    "duration": 1588,
    "start_time": "2021-11-14T18:01:43.521Z"
   },
   {
    "duration": 385,
    "start_time": "2021-11-14T18:01:45.114Z"
   },
   {
    "duration": 502,
    "start_time": "2021-11-14T18:01:45.503Z"
   },
   {
    "duration": 320,
    "start_time": "2021-11-14T18:01:46.007Z"
   },
   {
    "duration": 726,
    "start_time": "2021-11-14T18:01:46.329Z"
   },
   {
    "duration": 344,
    "start_time": "2021-11-14T18:01:47.058Z"
   },
   {
    "duration": 365,
    "start_time": "2021-11-14T18:01:47.406Z"
   },
   {
    "duration": 345,
    "start_time": "2021-11-14T18:01:47.782Z"
   },
   {
    "duration": 55,
    "start_time": "2021-11-14T18:01:48.129Z"
   },
   {
    "duration": 334,
    "start_time": "2021-11-14T18:01:48.186Z"
   },
   {
    "duration": 12,
    "start_time": "2021-11-14T18:01:48.523Z"
   },
   {
    "duration": 362,
    "start_time": "2021-11-14T18:01:48.537Z"
   },
   {
    "duration": 321,
    "start_time": "2021-11-14T18:01:48.902Z"
   },
   {
    "duration": 503,
    "start_time": "2021-11-14T18:01:49.226Z"
   },
   {
    "duration": 354,
    "start_time": "2021-11-14T18:01:49.732Z"
   },
   {
    "duration": 443,
    "start_time": "2021-11-14T18:01:50.089Z"
   },
   {
    "duration": 387,
    "start_time": "2021-11-14T18:01:50.535Z"
   },
   {
    "duration": 128,
    "start_time": "2021-11-14T18:02:11.385Z"
   },
   {
    "duration": 342,
    "start_time": "2021-11-14T18:02:11.517Z"
   },
   {
    "duration": -17,
    "start_time": "2021-11-14T18:02:11.880Z"
   },
   {
    "duration": -22,
    "start_time": "2021-11-14T18:02:11.888Z"
   },
   {
    "duration": -24,
    "start_time": "2021-11-14T18:02:11.892Z"
   },
   {
    "duration": -28,
    "start_time": "2021-11-14T18:02:11.897Z"
   },
   {
    "duration": -30,
    "start_time": "2021-11-14T18:02:11.901Z"
   },
   {
    "duration": -32,
    "start_time": "2021-11-14T18:02:11.904Z"
   },
   {
    "duration": -34,
    "start_time": "2021-11-14T18:02:11.908Z"
   },
   {
    "duration": -37,
    "start_time": "2021-11-14T18:02:11.912Z"
   },
   {
    "duration": -38,
    "start_time": "2021-11-14T18:02:11.915Z"
   },
   {
    "duration": -40,
    "start_time": "2021-11-14T18:02:11.918Z"
   },
   {
    "duration": -42,
    "start_time": "2021-11-14T18:02:11.922Z"
   },
   {
    "duration": -44,
    "start_time": "2021-11-14T18:02:11.925Z"
   },
   {
    "duration": -44,
    "start_time": "2021-11-14T18:02:11.927Z"
   },
   {
    "duration": -47,
    "start_time": "2021-11-14T18:02:11.931Z"
   },
   {
    "duration": -48,
    "start_time": "2021-11-14T18:02:11.934Z"
   },
   {
    "duration": -49,
    "start_time": "2021-11-14T18:02:11.937Z"
   },
   {
    "duration": -51,
    "start_time": "2021-11-14T18:02:11.941Z"
   },
   {
    "duration": -54,
    "start_time": "2021-11-14T18:02:11.945Z"
   },
   {
    "duration": -54,
    "start_time": "2021-11-14T18:02:11.947Z"
   },
   {
    "duration": -63,
    "start_time": "2021-11-14T18:02:11.957Z"
   },
   {
    "duration": -64,
    "start_time": "2021-11-14T18:02:11.960Z"
   },
   {
    "duration": -64,
    "start_time": "2021-11-14T18:02:11.962Z"
   },
   {
    "duration": 92,
    "start_time": "2021-11-14T18:02:25.111Z"
   },
   {
    "duration": 326,
    "start_time": "2021-11-14T18:02:25.206Z"
   },
   {
    "duration": -65,
    "start_time": "2021-11-14T18:02:25.601Z"
   },
   {
    "duration": -68,
    "start_time": "2021-11-14T18:02:25.605Z"
   },
   {
    "duration": -75,
    "start_time": "2021-11-14T18:02:25.614Z"
   },
   {
    "duration": -78,
    "start_time": "2021-11-14T18:02:25.618Z"
   },
   {
    "duration": -80,
    "start_time": "2021-11-14T18:02:25.621Z"
   },
   {
    "duration": -82,
    "start_time": "2021-11-14T18:02:25.624Z"
   },
   {
    "duration": -83,
    "start_time": "2021-11-14T18:02:25.627Z"
   },
   {
    "duration": -85,
    "start_time": "2021-11-14T18:02:25.630Z"
   },
   {
    "duration": -86,
    "start_time": "2021-11-14T18:02:25.633Z"
   },
   {
    "duration": -88,
    "start_time": "2021-11-14T18:02:25.636Z"
   },
   {
    "duration": -90,
    "start_time": "2021-11-14T18:02:25.639Z"
   },
   {
    "duration": -90,
    "start_time": "2021-11-14T18:02:25.641Z"
   },
   {
    "duration": -92,
    "start_time": "2021-11-14T18:02:25.644Z"
   },
   {
    "duration": -94,
    "start_time": "2021-11-14T18:02:25.647Z"
   },
   {
    "duration": -96,
    "start_time": "2021-11-14T18:02:25.650Z"
   },
   {
    "duration": -96,
    "start_time": "2021-11-14T18:02:25.652Z"
   },
   {
    "duration": -98,
    "start_time": "2021-11-14T18:02:25.655Z"
   },
   {
    "duration": -99,
    "start_time": "2021-11-14T18:02:25.657Z"
   },
   {
    "duration": -100,
    "start_time": "2021-11-14T18:02:25.660Z"
   },
   {
    "duration": -101,
    "start_time": "2021-11-14T18:02:25.662Z"
   },
   {
    "duration": -102,
    "start_time": "2021-11-14T18:02:25.664Z"
   },
   {
    "duration": -103,
    "start_time": "2021-11-14T18:02:25.667Z"
   },
   {
    "duration": 92,
    "start_time": "2021-11-14T18:04:43.126Z"
   },
   {
    "duration": 6,
    "start_time": "2021-11-14T18:04:43.220Z"
   },
   {
    "duration": 466,
    "start_time": "2021-11-14T18:04:43.229Z"
   },
   {
    "duration": 853,
    "start_time": "2021-11-14T18:04:43.699Z"
   },
   {
    "duration": 2270,
    "start_time": "2021-11-14T18:04:44.555Z"
   },
   {
    "duration": 2124,
    "start_time": "2021-11-14T18:04:46.827Z"
   },
   {
    "duration": 71,
    "start_time": "2021-11-14T18:04:48.954Z"
   },
   {
    "duration": 1364,
    "start_time": "2021-11-14T18:04:49.027Z"
   },
   {
    "duration": 411,
    "start_time": "2021-11-14T18:04:50.395Z"
   },
   {
    "duration": 389,
    "start_time": "2021-11-14T18:04:50.810Z"
   },
   {
    "duration": 352,
    "start_time": "2021-11-14T18:04:51.203Z"
   },
   {
    "duration": 933,
    "start_time": "2021-11-14T18:04:51.558Z"
   },
   {
    "duration": 667,
    "start_time": "2021-11-14T18:04:52.494Z"
   },
   {
    "duration": 457,
    "start_time": "2021-11-14T18:04:53.164Z"
   },
   {
    "duration": 380,
    "start_time": "2021-11-14T18:04:53.624Z"
   },
   {
    "duration": 44,
    "start_time": "2021-11-14T18:04:54.007Z"
   },
   {
    "duration": 359,
    "start_time": "2021-11-14T18:04:54.053Z"
   },
   {
    "duration": 12,
    "start_time": "2021-11-14T18:04:54.414Z"
   },
   {
    "duration": 375,
    "start_time": "2021-11-14T18:04:54.429Z"
   },
   {
    "duration": 434,
    "start_time": "2021-11-14T18:04:54.807Z"
   },
   {
    "duration": 484,
    "start_time": "2021-11-14T18:04:55.244Z"
   },
   {
    "duration": 348,
    "start_time": "2021-11-14T18:04:55.730Z"
   },
   {
    "duration": 359,
    "start_time": "2021-11-14T18:04:56.081Z"
   },
   {
    "duration": 374,
    "start_time": "2021-11-14T18:04:56.442Z"
   },
   {
    "duration": 92,
    "start_time": "2021-11-14T18:05:12.431Z"
   },
   {
    "duration": 59,
    "start_time": "2021-11-14T18:05:12.526Z"
   },
   {
    "duration": 481,
    "start_time": "2021-11-14T18:05:12.589Z"
   },
   {
    "duration": 1333,
    "start_time": "2021-11-14T18:05:13.074Z"
   },
   {
    "duration": 2332,
    "start_time": "2021-11-14T18:05:14.409Z"
   },
   {
    "duration": 1544,
    "start_time": "2021-11-14T18:05:16.744Z"
   },
   {
    "duration": 54,
    "start_time": "2021-11-14T18:05:18.290Z"
   },
   {
    "duration": 1542,
    "start_time": "2021-11-14T18:05:18.346Z"
   },
   {
    "duration": 385,
    "start_time": "2021-11-14T18:05:19.892Z"
   },
   {
    "duration": 379,
    "start_time": "2021-11-14T18:05:20.281Z"
   },
   {
    "duration": 335,
    "start_time": "2021-11-14T18:05:20.663Z"
   },
   {
    "duration": 961,
    "start_time": "2021-11-14T18:05:21.001Z"
   },
   {
    "duration": 347,
    "start_time": "2021-11-14T18:05:21.965Z"
   },
   {
    "duration": 367,
    "start_time": "2021-11-14T18:05:22.315Z"
   },
   {
    "duration": 356,
    "start_time": "2021-11-14T18:05:22.684Z"
   },
   {
    "duration": 57,
    "start_time": "2021-11-14T18:05:23.043Z"
   },
   {
    "duration": 350,
    "start_time": "2021-11-14T18:05:23.103Z"
   },
   {
    "duration": 27,
    "start_time": "2021-11-14T18:05:23.455Z"
   },
   {
    "duration": 466,
    "start_time": "2021-11-14T18:05:23.485Z"
   },
   {
    "duration": 321,
    "start_time": "2021-11-14T18:05:23.954Z"
   },
   {
    "duration": 631,
    "start_time": "2021-11-14T18:05:24.287Z"
   },
   {
    "duration": 504,
    "start_time": "2021-11-14T18:05:24.921Z"
   },
   {
    "duration": 375,
    "start_time": "2021-11-14T18:05:25.427Z"
   },
   {
    "duration": 380,
    "start_time": "2021-11-14T18:05:25.805Z"
   },
   {
    "duration": 107,
    "start_time": "2021-11-14T18:30:29.702Z"
   },
   {
    "duration": 87,
    "start_time": "2021-11-14T18:34:42.065Z"
   },
   {
    "duration": 45,
    "start_time": "2021-11-14T18:34:42.156Z"
   },
   {
    "duration": 36,
    "start_time": "2021-11-14T18:34:42.204Z"
   },
   {
    "duration": 43,
    "start_time": "2021-11-14T18:34:42.243Z"
   },
   {
    "duration": 11,
    "start_time": "2021-11-14T18:34:42.289Z"
   },
   {
    "duration": 12,
    "start_time": "2021-11-14T18:34:42.302Z"
   },
   {
    "duration": 7,
    "start_time": "2021-11-14T18:34:42.317Z"
   },
   {
    "duration": 447,
    "start_time": "2021-11-14T18:34:42.327Z"
   },
   {
    "duration": 7,
    "start_time": "2021-11-14T18:34:42.783Z"
   },
   {
    "duration": 14,
    "start_time": "2021-11-14T18:34:42.794Z"
   },
   {
    "duration": 73,
    "start_time": "2021-11-14T18:34:42.810Z"
   },
   {
    "duration": 13,
    "start_time": "2021-11-14T18:34:42.886Z"
   },
   {
    "duration": 1203,
    "start_time": "2021-11-14T18:34:42.901Z"
   },
   {
    "duration": 2146,
    "start_time": "2021-11-14T18:34:44.106Z"
   },
   {
    "duration": 1449,
    "start_time": "2021-11-14T18:34:46.255Z"
   },
   {
    "duration": 54,
    "start_time": "2021-11-14T18:34:47.706Z"
   },
   {
    "duration": 1298,
    "start_time": "2021-11-14T18:34:47.762Z"
   },
   {
    "duration": 355,
    "start_time": "2021-11-14T18:34:49.063Z"
   },
   {
    "duration": 484,
    "start_time": "2021-11-14T18:34:49.420Z"
   },
   {
    "duration": 302,
    "start_time": "2021-11-14T18:34:49.907Z"
   },
   {
    "duration": 733,
    "start_time": "2021-11-14T18:34:50.211Z"
   },
   {
    "duration": 329,
    "start_time": "2021-11-14T18:34:50.946Z"
   },
   {
    "duration": 351,
    "start_time": "2021-11-14T18:34:51.277Z"
   },
   {
    "duration": 345,
    "start_time": "2021-11-14T18:34:51.631Z"
   },
   {
    "duration": 39,
    "start_time": "2021-11-14T18:34:51.983Z"
   },
   {
    "duration": 345,
    "start_time": "2021-11-14T18:34:52.025Z"
   },
   {
    "duration": 17,
    "start_time": "2021-11-14T18:34:52.375Z"
   },
   {
    "duration": 349,
    "start_time": "2021-11-14T18:34:52.395Z"
   },
   {
    "duration": 312,
    "start_time": "2021-11-14T18:34:52.746Z"
   },
   {
    "duration": 570,
    "start_time": "2021-11-14T18:34:53.060Z"
   },
   {
    "duration": 329,
    "start_time": "2021-11-14T18:34:53.633Z"
   },
   {
    "duration": 358,
    "start_time": "2021-11-14T18:34:53.964Z"
   },
   {
    "duration": 458,
    "start_time": "2021-11-14T18:34:54.324Z"
   },
   {
    "duration": 10,
    "start_time": "2021-11-14T18:35:13.096Z"
   },
   {
    "duration": 100,
    "start_time": "2021-11-14T18:35:38.246Z"
   },
   {
    "duration": 69,
    "start_time": "2021-11-14T18:35:38.349Z"
   },
   {
    "duration": 36,
    "start_time": "2021-11-14T18:35:38.421Z"
   },
   {
    "duration": 33,
    "start_time": "2021-11-14T18:35:38.460Z"
   },
   {
    "duration": 11,
    "start_time": "2021-11-14T18:35:38.495Z"
   },
   {
    "duration": 13,
    "start_time": "2021-11-14T18:35:38.508Z"
   },
   {
    "duration": 13,
    "start_time": "2021-11-14T18:35:38.523Z"
   },
   {
    "duration": 454,
    "start_time": "2021-11-14T18:35:38.539Z"
   },
   {
    "duration": 8,
    "start_time": "2021-11-14T18:35:38.997Z"
   },
   {
    "duration": 9,
    "start_time": "2021-11-14T18:35:39.008Z"
   },
   {
    "duration": 80,
    "start_time": "2021-11-14T18:35:39.020Z"
   },
   {
    "duration": 15,
    "start_time": "2021-11-14T18:35:39.102Z"
   },
   {
    "duration": 879,
    "start_time": "2021-11-14T18:35:39.120Z"
   },
   {
    "duration": 2917,
    "start_time": "2021-11-14T18:35:40.001Z"
   },
   {
    "duration": 2162,
    "start_time": "2021-11-14T18:35:42.920Z"
   },
   {
    "duration": 55,
    "start_time": "2021-11-14T18:35:45.085Z"
   },
   {
    "duration": 1297,
    "start_time": "2021-11-14T18:35:45.143Z"
   },
   {
    "duration": 388,
    "start_time": "2021-11-14T18:35:46.443Z"
   },
   {
    "duration": 530,
    "start_time": "2021-11-14T18:35:46.835Z"
   },
   {
    "duration": 399,
    "start_time": "2021-11-14T18:35:47.368Z"
   },
   {
    "duration": 781,
    "start_time": "2021-11-14T18:35:47.770Z"
   },
   {
    "duration": 323,
    "start_time": "2021-11-14T18:35:48.554Z"
   },
   {
    "duration": 358,
    "start_time": "2021-11-14T18:35:48.881Z"
   },
   {
    "duration": 471,
    "start_time": "2021-11-14T18:35:49.241Z"
   },
   {
    "duration": 39,
    "start_time": "2021-11-14T18:35:49.715Z"
   },
   {
    "duration": 338,
    "start_time": "2021-11-14T18:35:49.756Z"
   },
   {
    "duration": 12,
    "start_time": "2021-11-14T18:35:50.099Z"
   },
   {
    "duration": 478,
    "start_time": "2021-11-14T18:35:50.114Z"
   },
   {
    "duration": 310,
    "start_time": "2021-11-14T18:35:50.595Z"
   },
   {
    "duration": 558,
    "start_time": "2021-11-14T18:35:50.908Z"
   },
   {
    "duration": 337,
    "start_time": "2021-11-14T18:35:51.468Z"
   },
   {
    "duration": 377,
    "start_time": "2021-11-14T18:35:51.807Z"
   },
   {
    "duration": 445,
    "start_time": "2021-11-14T18:35:52.187Z"
   },
   {
    "duration": 585,
    "start_time": "2021-11-14T18:36:03.080Z"
   },
   {
    "duration": 7,
    "start_time": "2021-11-14T18:36:14.168Z"
   },
   {
    "duration": 360,
    "start_time": "2021-11-14T18:38:22.703Z"
   },
   {
    "duration": 19,
    "start_time": "2021-11-14T18:39:29.415Z"
   },
   {
    "duration": 107,
    "start_time": "2021-11-14T18:42:24.790Z"
   },
   {
    "duration": 38,
    "start_time": "2021-11-14T18:42:24.900Z"
   },
   {
    "duration": 59,
    "start_time": "2021-11-14T18:42:24.942Z"
   },
   {
    "duration": 15,
    "start_time": "2021-11-14T18:42:25.004Z"
   },
   {
    "duration": 15,
    "start_time": "2021-11-14T18:42:25.021Z"
   },
   {
    "duration": 51,
    "start_time": "2021-11-14T18:42:25.039Z"
   },
   {
    "duration": 7,
    "start_time": "2021-11-14T18:42:25.093Z"
   },
   {
    "duration": 427,
    "start_time": "2021-11-14T18:42:25.103Z"
   },
   {
    "duration": 11,
    "start_time": "2021-11-14T18:42:25.537Z"
   },
   {
    "duration": 29,
    "start_time": "2021-11-14T18:42:25.553Z"
   },
   {
    "duration": 79,
    "start_time": "2021-11-14T18:42:25.585Z"
   },
   {
    "duration": 26,
    "start_time": "2021-11-14T18:42:25.667Z"
   },
   {
    "duration": 1000,
    "start_time": "2021-11-14T18:42:25.695Z"
   },
   {
    "duration": 2463,
    "start_time": "2021-11-14T18:42:26.697Z"
   },
   {
    "duration": 1297,
    "start_time": "2021-11-14T18:42:29.163Z"
   },
   {
    "duration": 64,
    "start_time": "2021-11-14T18:42:30.462Z"
   },
   {
    "duration": 1478,
    "start_time": "2021-11-14T18:42:30.529Z"
   },
   {
    "duration": 417,
    "start_time": "2021-11-14T18:42:32.009Z"
   },
   {
    "duration": 353,
    "start_time": "2021-11-14T18:42:32.429Z"
   },
   {
    "duration": 301,
    "start_time": "2021-11-14T18:42:32.784Z"
   },
   {
    "duration": 916,
    "start_time": "2021-11-14T18:42:33.087Z"
   },
   {
    "duration": 344,
    "start_time": "2021-11-14T18:42:34.006Z"
   },
   {
    "duration": 368,
    "start_time": "2021-11-14T18:42:34.352Z"
   },
   {
    "duration": 356,
    "start_time": "2021-11-14T18:42:34.722Z"
   },
   {
    "duration": 40,
    "start_time": "2021-11-14T18:42:35.082Z"
   },
   {
    "duration": 348,
    "start_time": "2021-11-14T18:42:35.124Z"
   },
   {
    "duration": 13,
    "start_time": "2021-11-14T18:42:35.485Z"
   },
   {
    "duration": 374,
    "start_time": "2021-11-14T18:42:35.501Z"
   },
   {
    "duration": 313,
    "start_time": "2021-11-14T18:42:35.878Z"
   },
   {
    "duration": 448,
    "start_time": "2021-11-14T18:42:36.193Z"
   },
   {
    "duration": 338,
    "start_time": "2021-11-14T18:42:36.644Z"
   },
   {
    "duration": 351,
    "start_time": "2021-11-14T18:42:36.984Z"
   },
   {
    "duration": 480,
    "start_time": "2021-11-14T18:42:37.337Z"
   },
   {
    "duration": 120,
    "start_time": "2021-11-14T18:43:26.379Z"
   },
   {
    "duration": 38,
    "start_time": "2021-11-14T18:43:26.501Z"
   },
   {
    "duration": 59,
    "start_time": "2021-11-14T18:43:26.543Z"
   },
   {
    "duration": 11,
    "start_time": "2021-11-14T18:43:26.605Z"
   },
   {
    "duration": 13,
    "start_time": "2021-11-14T18:43:26.619Z"
   },
   {
    "duration": 411,
    "start_time": "2021-11-14T18:43:26.634Z"
   },
   {
    "duration": -48,
    "start_time": "2021-11-14T18:43:27.097Z"
   },
   {
    "duration": -51,
    "start_time": "2021-11-14T18:43:27.101Z"
   },
   {
    "duration": -53,
    "start_time": "2021-11-14T18:43:27.104Z"
   },
   {
    "duration": -58,
    "start_time": "2021-11-14T18:43:27.111Z"
   },
   {
    "duration": -61,
    "start_time": "2021-11-14T18:43:27.115Z"
   },
   {
    "duration": -63,
    "start_time": "2021-11-14T18:43:27.118Z"
   },
   {
    "duration": -65,
    "start_time": "2021-11-14T18:43:27.121Z"
   },
   {
    "duration": -66,
    "start_time": "2021-11-14T18:43:27.124Z"
   },
   {
    "duration": -69,
    "start_time": "2021-11-14T18:43:27.128Z"
   },
   {
    "duration": -71,
    "start_time": "2021-11-14T18:43:27.131Z"
   },
   {
    "duration": -74,
    "start_time": "2021-11-14T18:43:27.136Z"
   },
   {
    "duration": -76,
    "start_time": "2021-11-14T18:43:27.139Z"
   },
   {
    "duration": -78,
    "start_time": "2021-11-14T18:43:27.142Z"
   },
   {
    "duration": -80,
    "start_time": "2021-11-14T18:43:27.146Z"
   },
   {
    "duration": -83,
    "start_time": "2021-11-14T18:43:27.150Z"
   },
   {
    "duration": -90,
    "start_time": "2021-11-14T18:43:27.159Z"
   },
   {
    "duration": -96,
    "start_time": "2021-11-14T18:43:27.167Z"
   },
   {
    "duration": -96,
    "start_time": "2021-11-14T18:43:27.169Z"
   },
   {
    "duration": -98,
    "start_time": "2021-11-14T18:43:27.173Z"
   },
   {
    "duration": -102,
    "start_time": "2021-11-14T18:43:27.180Z"
   },
   {
    "duration": -104,
    "start_time": "2021-11-14T18:43:27.183Z"
   },
   {
    "duration": -104,
    "start_time": "2021-11-14T18:43:27.186Z"
   },
   {
    "duration": -106,
    "start_time": "2021-11-14T18:43:27.189Z"
   },
   {
    "duration": -113,
    "start_time": "2021-11-14T18:43:27.202Z"
   },
   {
    "duration": -114,
    "start_time": "2021-11-14T18:43:27.205Z"
   },
   {
    "duration": -119,
    "start_time": "2021-11-14T18:43:27.212Z"
   },
   {
    "duration": -121,
    "start_time": "2021-11-14T18:43:27.216Z"
   },
   {
    "duration": 121,
    "start_time": "2021-11-14T18:43:46.581Z"
   },
   {
    "duration": 38,
    "start_time": "2021-11-14T18:43:46.704Z"
   },
   {
    "duration": 56,
    "start_time": "2021-11-14T18:43:46.746Z"
   },
   {
    "duration": 8,
    "start_time": "2021-11-14T18:43:46.806Z"
   },
   {
    "duration": 11,
    "start_time": "2021-11-14T18:43:46.817Z"
   },
   {
    "duration": 366,
    "start_time": "2021-11-14T18:43:46.831Z"
   },
   {
    "duration": -63,
    "start_time": "2021-11-14T18:43:47.263Z"
   },
   {
    "duration": -65,
    "start_time": "2021-11-14T18:43:47.267Z"
   },
   {
    "duration": -67,
    "start_time": "2021-11-14T18:43:47.270Z"
   },
   {
    "duration": -76,
    "start_time": "2021-11-14T18:43:47.280Z"
   },
   {
    "duration": -79,
    "start_time": "2021-11-14T18:43:47.285Z"
   },
   {
    "duration": -81,
    "start_time": "2021-11-14T18:43:47.288Z"
   },
   {
    "duration": -84,
    "start_time": "2021-11-14T18:43:47.293Z"
   },
   {
    "duration": -86,
    "start_time": "2021-11-14T18:43:47.296Z"
   },
   {
    "duration": -90,
    "start_time": "2021-11-14T18:43:47.301Z"
   },
   {
    "duration": -90,
    "start_time": "2021-11-14T18:43:47.303Z"
   },
   {
    "duration": -92,
    "start_time": "2021-11-14T18:43:47.307Z"
   },
   {
    "duration": -94,
    "start_time": "2021-11-14T18:43:47.310Z"
   },
   {
    "duration": -96,
    "start_time": "2021-11-14T18:43:47.314Z"
   },
   {
    "duration": -98,
    "start_time": "2021-11-14T18:43:47.317Z"
   },
   {
    "duration": -100,
    "start_time": "2021-11-14T18:43:47.320Z"
   },
   {
    "duration": -102,
    "start_time": "2021-11-14T18:43:47.324Z"
   },
   {
    "duration": -106,
    "start_time": "2021-11-14T18:43:47.329Z"
   },
   {
    "duration": -108,
    "start_time": "2021-11-14T18:43:47.332Z"
   },
   {
    "duration": -110,
    "start_time": "2021-11-14T18:43:47.335Z"
   },
   {
    "duration": -111,
    "start_time": "2021-11-14T18:43:47.338Z"
   },
   {
    "duration": -113,
    "start_time": "2021-11-14T18:43:47.341Z"
   },
   {
    "duration": -115,
    "start_time": "2021-11-14T18:43:47.344Z"
   },
   {
    "duration": -117,
    "start_time": "2021-11-14T18:43:47.347Z"
   },
   {
    "duration": -117,
    "start_time": "2021-11-14T18:43:47.349Z"
   },
   {
    "duration": -119,
    "start_time": "2021-11-14T18:43:47.352Z"
   },
   {
    "duration": -121,
    "start_time": "2021-11-14T18:43:47.355Z"
   },
   {
    "duration": -121,
    "start_time": "2021-11-14T18:43:47.357Z"
   },
   {
    "duration": 111,
    "start_time": "2021-11-14T18:44:12.590Z"
   },
   {
    "duration": 39,
    "start_time": "2021-11-14T18:44:12.704Z"
   },
   {
    "duration": 69,
    "start_time": "2021-11-14T18:44:12.746Z"
   },
   {
    "duration": 9,
    "start_time": "2021-11-14T18:44:12.818Z"
   },
   {
    "duration": 13,
    "start_time": "2021-11-14T18:44:12.831Z"
   },
   {
    "duration": 24,
    "start_time": "2021-11-14T18:44:12.883Z"
   },
   {
    "duration": 7,
    "start_time": "2021-11-14T18:44:12.910Z"
   },
   {
    "duration": 490,
    "start_time": "2021-11-14T18:44:12.920Z"
   },
   {
    "duration": 8,
    "start_time": "2021-11-14T18:44:13.414Z"
   },
   {
    "duration": 9,
    "start_time": "2021-11-14T18:44:13.426Z"
   },
   {
    "duration": 81,
    "start_time": "2021-11-14T18:44:13.437Z"
   },
   {
    "duration": 16,
    "start_time": "2021-11-14T18:44:13.521Z"
   },
   {
    "duration": 1272,
    "start_time": "2021-11-14T18:44:13.540Z"
   },
   {
    "duration": 2032,
    "start_time": "2021-11-14T18:44:14.815Z"
   },
   {
    "duration": 1427,
    "start_time": "2021-11-14T18:44:16.850Z"
   },
   {
    "duration": 55,
    "start_time": "2021-11-14T18:44:18.279Z"
   },
   {
    "duration": 1301,
    "start_time": "2021-11-14T18:44:18.336Z"
   },
   {
    "duration": 354,
    "start_time": "2021-11-14T18:44:19.640Z"
   },
   {
    "duration": 352,
    "start_time": "2021-11-14T18:44:19.996Z"
   },
   {
    "duration": 299,
    "start_time": "2021-11-14T18:44:20.350Z"
   },
   {
    "duration": 959,
    "start_time": "2021-11-14T18:44:20.652Z"
   },
   {
    "duration": 379,
    "start_time": "2021-11-14T18:44:21.614Z"
   },
   {
    "duration": 343,
    "start_time": "2021-11-14T18:44:21.996Z"
   },
   {
    "duration": 473,
    "start_time": "2021-11-14T18:44:22.342Z"
   },
   {
    "duration": 41,
    "start_time": "2021-11-14T18:44:22.817Z"
   },
   {
    "duration": 351,
    "start_time": "2021-11-14T18:44:22.860Z"
   },
   {
    "duration": 12,
    "start_time": "2021-11-14T18:44:23.216Z"
   },
   {
    "duration": 383,
    "start_time": "2021-11-14T18:44:23.231Z"
   },
   {
    "duration": 326,
    "start_time": "2021-11-14T18:44:23.617Z"
   },
   {
    "duration": 479,
    "start_time": "2021-11-14T18:44:23.947Z"
   },
   {
    "duration": 347,
    "start_time": "2021-11-14T18:44:24.429Z"
   },
   {
    "duration": 353,
    "start_time": "2021-11-14T18:44:24.783Z"
   },
   {
    "duration": 345,
    "start_time": "2021-11-14T18:44:25.139Z"
   },
   {
    "duration": 7,
    "start_time": "2021-11-14T18:54:06.062Z"
   },
   {
    "duration": 396,
    "start_time": "2021-11-14T18:54:30.141Z"
   },
   {
    "duration": 378,
    "start_time": "2021-11-14T18:55:00.284Z"
   },
   {
    "duration": 351,
    "start_time": "2021-11-14T18:55:13.914Z"
   },
   {
    "duration": 7,
    "start_time": "2021-11-14T18:55:59.853Z"
   },
   {
    "duration": 6,
    "start_time": "2021-11-14T18:56:11.173Z"
   },
   {
    "duration": 516,
    "start_time": "2021-11-14T18:56:39.686Z"
   },
   {
    "duration": 41,
    "start_time": "2021-11-14T18:56:40.205Z"
   },
   {
    "duration": 59,
    "start_time": "2021-11-14T18:56:40.250Z"
   },
   {
    "duration": 12,
    "start_time": "2021-11-14T18:56:40.312Z"
   },
   {
    "duration": 13,
    "start_time": "2021-11-14T18:56:40.327Z"
   },
   {
    "duration": 50,
    "start_time": "2021-11-14T18:56:40.343Z"
   },
   {
    "duration": 25,
    "start_time": "2021-11-14T18:56:40.395Z"
   },
   {
    "duration": 437,
    "start_time": "2021-11-14T18:56:40.423Z"
   },
   {
    "duration": 19,
    "start_time": "2021-11-14T18:56:40.864Z"
   },
   {
    "duration": 9,
    "start_time": "2021-11-14T18:56:40.887Z"
   },
   {
    "duration": 60,
    "start_time": "2021-11-14T18:56:40.899Z"
   },
   {
    "duration": 33,
    "start_time": "2021-11-14T18:56:40.962Z"
   },
   {
    "duration": 1366,
    "start_time": "2021-11-14T18:56:40.998Z"
   },
   {
    "duration": 1995,
    "start_time": "2021-11-14T18:56:42.366Z"
   },
   {
    "duration": 1279,
    "start_time": "2021-11-14T18:56:44.363Z"
   },
   {
    "duration": 67,
    "start_time": "2021-11-14T18:56:45.645Z"
   },
   {
    "duration": 1391,
    "start_time": "2021-11-14T18:56:45.715Z"
   },
   {
    "duration": 377,
    "start_time": "2021-11-14T18:56:47.108Z"
   },
   {
    "duration": 419,
    "start_time": "2021-11-14T18:56:47.488Z"
   },
   {
    "duration": 326,
    "start_time": "2021-11-14T18:56:47.910Z"
   },
   {
    "duration": 746,
    "start_time": "2021-11-14T18:56:48.239Z"
   },
   {
    "duration": 333,
    "start_time": "2021-11-14T18:56:48.988Z"
   },
   {
    "duration": 350,
    "start_time": "2021-11-14T18:56:49.324Z"
   },
   {
    "duration": 352,
    "start_time": "2021-11-14T18:56:49.677Z"
   },
   {
    "duration": 59,
    "start_time": "2021-11-14T18:56:50.032Z"
   },
   {
    "duration": 342,
    "start_time": "2021-11-14T18:56:50.094Z"
   },
   {
    "duration": 12,
    "start_time": "2021-11-14T18:56:50.441Z"
   },
   {
    "duration": 367,
    "start_time": "2021-11-14T18:56:50.456Z"
   },
   {
    "duration": 308,
    "start_time": "2021-11-14T18:56:50.825Z"
   },
   {
    "duration": 488,
    "start_time": "2021-11-14T18:56:51.136Z"
   },
   {
    "duration": 347,
    "start_time": "2021-11-14T18:56:51.627Z"
   },
   {
    "duration": 343,
    "start_time": "2021-11-14T18:56:51.976Z"
   },
   {
    "duration": 571,
    "start_time": "2021-11-14T18:56:52.322Z"
   },
   {
    "duration": 10,
    "start_time": "2021-11-14T18:57:09.100Z"
   },
   {
    "duration": 7,
    "start_time": "2021-11-14T18:57:42.991Z"
   },
   {
    "duration": 7,
    "start_time": "2021-11-14T18:58:00.997Z"
   },
   {
    "duration": 19,
    "start_time": "2021-11-14T19:00:34.423Z"
   },
   {
    "duration": 311,
    "start_time": "2021-11-14T19:01:04.728Z"
   },
   {
    "duration": 18,
    "start_time": "2021-11-14T19:01:12.054Z"
   },
   {
    "duration": 551,
    "start_time": "2021-11-14T19:05:37.520Z"
   },
   {
    "duration": 396,
    "start_time": "2021-11-14T19:06:25.511Z"
   },
   {
    "duration": 391,
    "start_time": "2021-11-14T19:07:18.455Z"
   },
   {
    "duration": 422,
    "start_time": "2021-11-14T19:09:26.333Z"
   },
   {
    "duration": 111,
    "start_time": "2021-11-14T19:10:42.471Z"
   },
   {
    "duration": 6,
    "start_time": "2021-11-14T19:12:11.126Z"
   },
   {
    "duration": 995,
    "start_time": "2021-11-14T20:02:56.009Z"
   },
   {
    "duration": 1183,
    "start_time": "2021-11-14T20:07:13.089Z"
   },
   {
    "duration": 94,
    "start_time": "2021-11-14T20:10:01.073Z"
   },
   {
    "duration": 46,
    "start_time": "2021-11-14T20:10:01.170Z"
   },
   {
    "duration": 37,
    "start_time": "2021-11-14T20:10:01.219Z"
   },
   {
    "duration": 9,
    "start_time": "2021-11-14T20:10:01.283Z"
   },
   {
    "duration": 49,
    "start_time": "2021-11-14T20:10:01.294Z"
   },
   {
    "duration": 25,
    "start_time": "2021-11-14T20:10:01.345Z"
   },
   {
    "duration": 41,
    "start_time": "2021-11-14T20:10:01.372Z"
   },
   {
    "duration": 452,
    "start_time": "2021-11-14T20:10:01.416Z"
   },
   {
    "duration": 15,
    "start_time": "2021-11-14T20:10:01.871Z"
   },
   {
    "duration": 17,
    "start_time": "2021-11-14T20:10:01.888Z"
   },
   {
    "duration": 68,
    "start_time": "2021-11-14T20:10:01.908Z"
   },
   {
    "duration": 14,
    "start_time": "2021-11-14T20:10:01.982Z"
   },
   {
    "duration": 6,
    "start_time": "2021-11-14T20:10:01.999Z"
   },
   {
    "duration": 18,
    "start_time": "2021-11-14T20:10:02.009Z"
   },
   {
    "duration": 18,
    "start_time": "2021-11-14T20:10:02.030Z"
   },
   {
    "duration": 34,
    "start_time": "2021-11-14T20:10:02.051Z"
   },
   {
    "duration": 1415,
    "start_time": "2021-11-14T20:10:02.088Z"
   },
   {
    "duration": 2175,
    "start_time": "2021-11-14T20:10:03.505Z"
   },
   {
    "duration": 1266,
    "start_time": "2021-11-14T20:10:05.682Z"
   },
   {
    "duration": 62,
    "start_time": "2021-11-14T20:10:06.951Z"
   },
   {
    "duration": 1533,
    "start_time": "2021-11-14T20:10:07.016Z"
   },
   {
    "duration": 353,
    "start_time": "2021-11-14T20:10:08.552Z"
   },
   {
    "duration": 350,
    "start_time": "2021-11-14T20:10:08.907Z"
   },
   {
    "duration": 292,
    "start_time": "2021-11-14T20:10:09.259Z"
   },
   {
    "duration": 776,
    "start_time": "2021-11-14T20:10:09.553Z"
   },
   {
    "duration": 327,
    "start_time": "2021-11-14T20:10:10.332Z"
   },
   {
    "duration": 328,
    "start_time": "2021-11-14T20:10:10.662Z"
   },
   {
    "duration": 341,
    "start_time": "2021-11-14T20:10:10.993Z"
   },
   {
    "duration": 54,
    "start_time": "2021-11-14T20:10:11.337Z"
   },
   {
    "duration": 314,
    "start_time": "2021-11-14T20:10:11.394Z"
   },
   {
    "duration": 12,
    "start_time": "2021-11-14T20:10:11.712Z"
   },
   {
    "duration": 495,
    "start_time": "2021-11-14T20:10:11.726Z"
   },
   {
    "duration": 317,
    "start_time": "2021-11-14T20:10:12.224Z"
   },
   {
    "duration": 468,
    "start_time": "2021-11-14T20:10:12.544Z"
   },
   {
    "duration": 351,
    "start_time": "2021-11-14T20:10:13.014Z"
   },
   {
    "duration": 353,
    "start_time": "2021-11-14T20:10:13.367Z"
   },
   {
    "duration": 361,
    "start_time": "2021-11-14T20:10:13.722Z"
   },
   {
    "duration": 56,
    "start_time": "2021-11-14T20:12:41.809Z"
   },
   {
    "duration": 90,
    "start_time": "2021-11-14T20:19:19.225Z"
   },
   {
    "duration": 38,
    "start_time": "2021-11-14T20:19:19.318Z"
   },
   {
    "duration": 56,
    "start_time": "2021-11-14T20:19:19.359Z"
   },
   {
    "duration": 9,
    "start_time": "2021-11-14T20:19:19.418Z"
   },
   {
    "duration": 12,
    "start_time": "2021-11-14T20:19:19.430Z"
   },
   {
    "duration": 45,
    "start_time": "2021-11-14T20:19:19.444Z"
   },
   {
    "duration": 18,
    "start_time": "2021-11-14T20:19:19.492Z"
   },
   {
    "duration": 473,
    "start_time": "2021-11-14T20:19:19.513Z"
   },
   {
    "duration": 10,
    "start_time": "2021-11-14T20:19:19.989Z"
   },
   {
    "duration": 10,
    "start_time": "2021-11-14T20:19:20.003Z"
   },
   {
    "duration": 95,
    "start_time": "2021-11-14T20:19:20.016Z"
   },
   {
    "duration": 16,
    "start_time": "2021-11-14T20:19:20.114Z"
   },
   {
    "duration": 8,
    "start_time": "2021-11-14T20:19:20.133Z"
   },
   {
    "duration": 44,
    "start_time": "2021-11-14T20:19:20.144Z"
   },
   {
    "duration": 10,
    "start_time": "2021-11-14T20:19:20.190Z"
   },
   {
    "duration": 9,
    "start_time": "2021-11-14T20:19:20.202Z"
   },
   {
    "duration": 1224,
    "start_time": "2021-11-14T20:19:20.214Z"
   },
   {
    "duration": 5,
    "start_time": "2021-11-14T20:19:21.440Z"
   },
   {
    "duration": 11,
    "start_time": "2021-11-14T20:19:21.448Z"
   },
   {
    "duration": 74,
    "start_time": "2021-11-14T20:19:21.462Z"
   },
   {
    "duration": 742,
    "start_time": "2021-11-14T20:19:21.538Z"
   },
   {
    "duration": 636,
    "start_time": "2021-11-14T20:19:22.283Z"
   },
   {
    "duration": 399,
    "start_time": "2021-11-14T20:19:22.921Z"
   },
   {
    "duration": 395,
    "start_time": "2021-11-14T20:19:23.322Z"
   },
   {
    "duration": 1289,
    "start_time": "2021-11-14T20:19:23.719Z"
   },
   {
    "duration": 52,
    "start_time": "2021-11-14T20:19:25.011Z"
   },
   {
    "duration": 1264,
    "start_time": "2021-11-14T20:19:25.086Z"
   },
   {
    "duration": 488,
    "start_time": "2021-11-14T20:19:26.354Z"
   },
   {
    "duration": 387,
    "start_time": "2021-11-14T20:19:26.844Z"
   },
   {
    "duration": 294,
    "start_time": "2021-11-14T20:19:27.234Z"
   },
   {
    "duration": 826,
    "start_time": "2021-11-14T20:19:27.531Z"
   },
   {
    "duration": 310,
    "start_time": "2021-11-14T20:19:28.360Z"
   },
   {
    "duration": 337,
    "start_time": "2021-11-14T20:19:28.672Z"
   },
   {
    "duration": 356,
    "start_time": "2021-11-14T20:19:29.011Z"
   },
   {
    "duration": 46,
    "start_time": "2021-11-14T20:19:29.369Z"
   },
   {
    "duration": 325,
    "start_time": "2021-11-14T20:19:29.417Z"
   },
   {
    "duration": 12,
    "start_time": "2021-11-14T20:19:29.744Z"
   },
   {
    "duration": 405,
    "start_time": "2021-11-14T20:19:29.758Z"
   },
   {
    "duration": 300,
    "start_time": "2021-11-14T20:19:30.166Z"
   },
   {
    "duration": 474,
    "start_time": "2021-11-14T20:19:30.469Z"
   },
   {
    "duration": 339,
    "start_time": "2021-11-14T20:19:30.945Z"
   },
   {
    "duration": 345,
    "start_time": "2021-11-14T20:19:31.287Z"
   },
   {
    "duration": 378,
    "start_time": "2021-11-14T20:19:31.635Z"
   },
   {
    "duration": 736,
    "start_time": "2021-11-14T20:21:18.138Z"
   },
   {
    "duration": 596,
    "start_time": "2021-11-14T20:22:06.041Z"
   },
   {
    "duration": 602,
    "start_time": "2021-11-14T20:22:51.773Z"
   },
   {
    "duration": 105,
    "start_time": "2021-11-14T20:24:04.556Z"
   },
   {
    "duration": 53,
    "start_time": "2021-11-14T20:24:04.663Z"
   },
   {
    "duration": 67,
    "start_time": "2021-11-14T20:24:04.719Z"
   },
   {
    "duration": 11,
    "start_time": "2021-11-14T20:24:04.789Z"
   },
   {
    "duration": 23,
    "start_time": "2021-11-14T20:24:04.802Z"
   },
   {
    "duration": 25,
    "start_time": "2021-11-14T20:24:04.828Z"
   },
   {
    "duration": 32,
    "start_time": "2021-11-14T20:24:04.856Z"
   },
   {
    "duration": 439,
    "start_time": "2021-11-14T20:24:04.890Z"
   },
   {
    "duration": 9,
    "start_time": "2021-11-14T20:24:05.334Z"
   },
   {
    "duration": 15,
    "start_time": "2021-11-14T20:24:05.346Z"
   },
   {
    "duration": 53,
    "start_time": "2021-11-14T20:24:05.381Z"
   },
   {
    "duration": 14,
    "start_time": "2021-11-14T20:24:05.436Z"
   },
   {
    "duration": 33,
    "start_time": "2021-11-14T20:24:05.452Z"
   },
   {
    "duration": 13,
    "start_time": "2021-11-14T20:24:05.487Z"
   },
   {
    "duration": 9,
    "start_time": "2021-11-14T20:24:05.502Z"
   },
   {
    "duration": 11,
    "start_time": "2021-11-14T20:24:05.514Z"
   },
   {
    "duration": 1184,
    "start_time": "2021-11-14T20:24:05.528Z"
   },
   {
    "duration": 6,
    "start_time": "2021-11-14T20:24:06.714Z"
   },
   {
    "duration": 12,
    "start_time": "2021-11-14T20:24:06.722Z"
   },
   {
    "duration": 75,
    "start_time": "2021-11-14T20:24:06.736Z"
   },
   {
    "duration": 625,
    "start_time": "2021-11-14T20:24:06.814Z"
   },
   {
    "duration": 733,
    "start_time": "2021-11-14T20:24:07.442Z"
   },
   {
    "duration": 392,
    "start_time": "2021-11-14T20:24:08.177Z"
   },
   {
    "duration": 391,
    "start_time": "2021-11-14T20:24:08.571Z"
   },
   {
    "duration": 1246,
    "start_time": "2021-11-14T20:24:08.965Z"
   },
   {
    "duration": 69,
    "start_time": "2021-11-14T20:24:10.214Z"
   },
   {
    "duration": 1280,
    "start_time": "2021-11-14T20:24:10.288Z"
   },
   {
    "duration": 351,
    "start_time": "2021-11-14T20:24:11.571Z"
   },
   {
    "duration": 603,
    "start_time": "2021-11-14T20:24:11.925Z"
   },
   {
    "duration": 291,
    "start_time": "2021-11-14T20:24:12.530Z"
   },
   {
    "duration": 736,
    "start_time": "2021-11-14T20:24:12.823Z"
   },
   {
    "duration": 322,
    "start_time": "2021-11-14T20:24:13.562Z"
   },
   {
    "duration": 334,
    "start_time": "2021-11-14T20:24:13.887Z"
   },
   {
    "duration": 346,
    "start_time": "2021-11-14T20:24:14.223Z"
   },
   {
    "duration": 45,
    "start_time": "2021-11-14T20:24:14.572Z"
   },
   {
    "duration": 332,
    "start_time": "2021-11-14T20:24:14.619Z"
   },
   {
    "duration": 13,
    "start_time": "2021-11-14T20:24:14.953Z"
   },
   {
    "duration": 362,
    "start_time": "2021-11-14T20:24:14.982Z"
   },
   {
    "duration": 300,
    "start_time": "2021-11-14T20:24:15.346Z"
   },
   {
    "duration": 949,
    "start_time": "2021-11-14T20:24:15.648Z"
   },
   {
    "duration": 615,
    "start_time": "2021-11-14T20:24:16.600Z"
   },
   {
    "duration": 410,
    "start_time": "2021-11-14T20:24:17.218Z"
   },
   {
    "duration": 362,
    "start_time": "2021-11-14T20:24:17.631Z"
   },
   {
    "duration": 612,
    "start_time": "2021-11-14T20:26:11.754Z"
   },
   {
    "duration": 605,
    "start_time": "2021-11-14T20:27:32.554Z"
   },
   {
    "duration": 779,
    "start_time": "2021-11-14T20:27:41.192Z"
   },
   {
    "duration": 840,
    "start_time": "2021-11-14T20:27:58.706Z"
   },
   {
    "duration": 596,
    "start_time": "2021-11-14T20:28:10.828Z"
   },
   {
    "duration": 595,
    "start_time": "2021-11-14T20:28:23.574Z"
   },
   {
    "duration": 582,
    "start_time": "2021-11-14T20:28:28.821Z"
   },
   {
    "duration": 296,
    "start_time": "2021-11-14T20:28:51.902Z"
   },
   {
    "duration": 304,
    "start_time": "2021-11-14T20:29:06.225Z"
   },
   {
    "duration": 463,
    "start_time": "2021-11-14T20:29:16.903Z"
   },
   {
    "duration": 584,
    "start_time": "2021-11-14T20:29:59.631Z"
   },
   {
    "duration": 621,
    "start_time": "2021-11-14T20:30:19.725Z"
   },
   {
    "duration": 606,
    "start_time": "2021-11-14T20:30:42.411Z"
   },
   {
    "duration": 91,
    "start_time": "2021-11-14T20:31:35.027Z"
   },
   {
    "duration": 37,
    "start_time": "2021-11-14T20:31:35.121Z"
   },
   {
    "duration": 45,
    "start_time": "2021-11-14T20:31:35.161Z"
   },
   {
    "duration": 12,
    "start_time": "2021-11-14T20:31:35.208Z"
   },
   {
    "duration": 21,
    "start_time": "2021-11-14T20:31:35.222Z"
   },
   {
    "duration": 46,
    "start_time": "2021-11-14T20:31:35.245Z"
   },
   {
    "duration": 20,
    "start_time": "2021-11-14T20:31:35.294Z"
   },
   {
    "duration": 465,
    "start_time": "2021-11-14T20:31:35.317Z"
   },
   {
    "duration": 10,
    "start_time": "2021-11-14T20:31:35.785Z"
   },
   {
    "duration": 10,
    "start_time": "2021-11-14T20:31:35.798Z"
   },
   {
    "duration": 84,
    "start_time": "2021-11-14T20:31:35.810Z"
   },
   {
    "duration": 14,
    "start_time": "2021-11-14T20:31:35.896Z"
   },
   {
    "duration": 6,
    "start_time": "2021-11-14T20:31:35.912Z"
   },
   {
    "duration": 14,
    "start_time": "2021-11-14T20:31:35.920Z"
   },
   {
    "duration": 9,
    "start_time": "2021-11-14T20:31:35.936Z"
   },
   {
    "duration": 39,
    "start_time": "2021-11-14T20:31:35.947Z"
   },
   {
    "duration": 1025,
    "start_time": "2021-11-14T20:31:35.989Z"
   },
   {
    "duration": 5,
    "start_time": "2021-11-14T20:31:37.017Z"
   },
   {
    "duration": 8,
    "start_time": "2021-11-14T20:31:37.024Z"
   },
   {
    "duration": 105,
    "start_time": "2021-11-14T20:31:37.084Z"
   },
   {
    "duration": 708,
    "start_time": "2021-11-14T20:31:37.191Z"
   },
   {
    "duration": 827,
    "start_time": "2021-11-14T20:31:37.902Z"
   },
   {
    "duration": 397,
    "start_time": "2021-11-14T20:31:38.731Z"
   },
   {
    "duration": 503,
    "start_time": "2021-11-14T20:31:39.131Z"
   },
   {
    "duration": 1281,
    "start_time": "2021-11-14T20:31:39.637Z"
   },
   {
    "duration": 63,
    "start_time": "2021-11-14T20:31:40.920Z"
   },
   {
    "duration": 1262,
    "start_time": "2021-11-14T20:31:40.988Z"
   },
   {
    "duration": 344,
    "start_time": "2021-11-14T20:31:42.252Z"
   },
   {
    "duration": 344,
    "start_time": "2021-11-14T20:31:42.598Z"
   },
   {
    "duration": 301,
    "start_time": "2021-11-14T20:31:42.944Z"
   },
   {
    "duration": 782,
    "start_time": "2021-11-14T20:31:43.247Z"
   },
   {
    "duration": 320,
    "start_time": "2021-11-14T20:31:44.031Z"
   },
   {
    "duration": 341,
    "start_time": "2021-11-14T20:31:44.354Z"
   },
   {
    "duration": 348,
    "start_time": "2021-11-14T20:31:44.698Z"
   },
   {
    "duration": 56,
    "start_time": "2021-11-14T20:31:45.049Z"
   },
   {
    "duration": 325,
    "start_time": "2021-11-14T20:31:45.108Z"
   },
   {
    "duration": 13,
    "start_time": "2021-11-14T20:31:45.436Z"
   },
   {
    "duration": 343,
    "start_time": "2021-11-14T20:31:45.452Z"
   },
   {
    "duration": 309,
    "start_time": "2021-11-14T20:31:45.798Z"
   },
   {
    "duration": 717,
    "start_time": "2021-11-14T20:31:46.110Z"
   },
   {
    "duration": 347,
    "start_time": "2021-11-14T20:31:46.830Z"
   },
   {
    "duration": 344,
    "start_time": "2021-11-14T20:31:47.179Z"
   },
   {
    "duration": 359,
    "start_time": "2021-11-14T20:31:47.525Z"
   },
   {
    "duration": 95,
    "start_time": "2021-11-14T20:31:58.522Z"
   },
   {
    "duration": 63,
    "start_time": "2021-11-14T20:31:58.620Z"
   },
   {
    "duration": 36,
    "start_time": "2021-11-14T20:31:58.686Z"
   },
   {
    "duration": 11,
    "start_time": "2021-11-14T20:31:58.725Z"
   },
   {
    "duration": 70,
    "start_time": "2021-11-14T20:31:58.739Z"
   },
   {
    "duration": 21,
    "start_time": "2021-11-14T20:31:58.816Z"
   },
   {
    "duration": 29,
    "start_time": "2021-11-14T20:31:58.840Z"
   },
   {
    "duration": 474,
    "start_time": "2021-11-14T20:31:58.881Z"
   },
   {
    "duration": 10,
    "start_time": "2021-11-14T20:31:59.358Z"
   },
   {
    "duration": 10,
    "start_time": "2021-11-14T20:31:59.384Z"
   },
   {
    "duration": 87,
    "start_time": "2021-11-14T20:31:59.397Z"
   },
   {
    "duration": 15,
    "start_time": "2021-11-14T20:31:59.487Z"
   },
   {
    "duration": 8,
    "start_time": "2021-11-14T20:31:59.505Z"
   },
   {
    "duration": 15,
    "start_time": "2021-11-14T20:31:59.515Z"
   },
   {
    "duration": 9,
    "start_time": "2021-11-14T20:31:59.533Z"
   },
   {
    "duration": 8,
    "start_time": "2021-11-14T20:31:59.583Z"
   },
   {
    "duration": 1342,
    "start_time": "2021-11-14T20:31:59.594Z"
   },
   {
    "duration": 46,
    "start_time": "2021-11-14T20:32:00.939Z"
   },
   {
    "duration": 14,
    "start_time": "2021-11-14T20:32:00.987Z"
   },
   {
    "duration": 80,
    "start_time": "2021-11-14T20:32:01.004Z"
   },
   {
    "duration": 727,
    "start_time": "2021-11-14T20:32:01.087Z"
   },
   {
    "duration": 652,
    "start_time": "2021-11-14T20:32:01.817Z"
   },
   {
    "duration": 426,
    "start_time": "2021-11-14T20:32:02.475Z"
   },
   {
    "duration": 404,
    "start_time": "2021-11-14T20:32:02.904Z"
   },
   {
    "duration": 1604,
    "start_time": "2021-11-14T20:32:03.310Z"
   },
   {
    "duration": 71,
    "start_time": "2021-11-14T20:32:04.917Z"
   },
   {
    "duration": 1276,
    "start_time": "2021-11-14T20:32:04.991Z"
   },
   {
    "duration": 360,
    "start_time": "2021-11-14T20:32:06.269Z"
   },
   {
    "duration": 355,
    "start_time": "2021-11-14T20:32:06.633Z"
   },
   {
    "duration": 299,
    "start_time": "2021-11-14T20:32:06.991Z"
   },
   {
    "duration": 770,
    "start_time": "2021-11-14T20:32:07.292Z"
   },
   {
    "duration": 323,
    "start_time": "2021-11-14T20:32:08.064Z"
   },
   {
    "duration": 324,
    "start_time": "2021-11-14T20:32:08.389Z"
   },
   {
    "duration": 349,
    "start_time": "2021-11-14T20:32:08.716Z"
   },
   {
    "duration": 50,
    "start_time": "2021-11-14T20:32:09.068Z"
   },
   {
    "duration": 352,
    "start_time": "2021-11-14T20:32:09.121Z"
   },
   {
    "duration": 12,
    "start_time": "2021-11-14T20:32:09.475Z"
   },
   {
    "duration": 356,
    "start_time": "2021-11-14T20:32:09.489Z"
   },
   {
    "duration": 295,
    "start_time": "2021-11-14T20:32:09.848Z"
   },
   {
    "duration": 472,
    "start_time": "2021-11-14T20:32:10.146Z"
   },
   {
    "duration": 330,
    "start_time": "2021-11-14T20:32:10.620Z"
   },
   {
    "duration": 361,
    "start_time": "2021-11-14T20:32:10.953Z"
   },
   {
    "duration": 352,
    "start_time": "2021-11-14T20:32:11.317Z"
   },
   {
    "duration": 97,
    "start_time": "2021-11-14T20:32:12.104Z"
   },
   {
    "duration": 40,
    "start_time": "2021-11-14T20:32:12.205Z"
   },
   {
    "duration": 65,
    "start_time": "2021-11-14T20:32:12.249Z"
   },
   {
    "duration": 10,
    "start_time": "2021-11-14T20:32:12.317Z"
   },
   {
    "duration": 12,
    "start_time": "2021-11-14T20:32:12.330Z"
   },
   {
    "duration": 43,
    "start_time": "2021-11-14T20:32:12.345Z"
   },
   {
    "duration": 18,
    "start_time": "2021-11-14T20:32:12.391Z"
   },
   {
    "duration": 443,
    "start_time": "2021-11-14T20:32:12.413Z"
   },
   {
    "duration": 25,
    "start_time": "2021-11-14T20:32:12.858Z"
   },
   {
    "duration": 7,
    "start_time": "2021-11-14T20:32:12.885Z"
   },
   {
    "duration": 52,
    "start_time": "2021-11-14T20:32:12.895Z"
   },
   {
    "duration": 42,
    "start_time": "2021-11-14T20:32:12.949Z"
   },
   {
    "duration": 7,
    "start_time": "2021-11-14T20:32:12.993Z"
   },
   {
    "duration": 11,
    "start_time": "2021-11-14T20:32:13.002Z"
   },
   {
    "duration": 7,
    "start_time": "2021-11-14T20:32:13.016Z"
   },
   {
    "duration": 9,
    "start_time": "2021-11-14T20:32:13.025Z"
   },
   {
    "duration": 1399,
    "start_time": "2021-11-14T20:32:13.083Z"
   },
   {
    "duration": 6,
    "start_time": "2021-11-14T20:32:14.484Z"
   },
   {
    "duration": 8,
    "start_time": "2021-11-14T20:32:14.492Z"
   },
   {
    "duration": 56,
    "start_time": "2021-11-14T20:32:14.502Z"
   },
   {
    "duration": 673,
    "start_time": "2021-11-14T20:32:14.561Z"
   },
   {
    "duration": 633,
    "start_time": "2021-11-14T20:32:15.236Z"
   },
   {
    "duration": 380,
    "start_time": "2021-11-14T20:32:15.874Z"
   },
   {
    "duration": 395,
    "start_time": "2021-11-14T20:32:16.257Z"
   },
   {
    "duration": 1278,
    "start_time": "2021-11-14T20:32:16.655Z"
   },
   {
    "duration": 62,
    "start_time": "2021-11-14T20:32:17.936Z"
   },
   {
    "duration": 1266,
    "start_time": "2021-11-14T20:32:18.001Z"
   },
   {
    "duration": 344,
    "start_time": "2021-11-14T20:32:19.269Z"
   },
   {
    "duration": 346,
    "start_time": "2021-11-14T20:32:19.615Z"
   },
   {
    "duration": 309,
    "start_time": "2021-11-14T20:32:19.963Z"
   },
   {
    "duration": 757,
    "start_time": "2021-11-14T20:32:20.275Z"
   },
   {
    "duration": 328,
    "start_time": "2021-11-14T20:32:21.034Z"
   },
   {
    "duration": 609,
    "start_time": "2021-11-14T20:32:21.365Z"
   },
   {
    "duration": 436,
    "start_time": "2021-11-14T20:32:21.976Z"
   },
   {
    "duration": 38,
    "start_time": "2021-11-14T20:32:22.415Z"
   },
   {
    "duration": 335,
    "start_time": "2021-11-14T20:32:22.455Z"
   },
   {
    "duration": 12,
    "start_time": "2021-11-14T20:32:22.793Z"
   },
   {
    "duration": 367,
    "start_time": "2021-11-14T20:32:22.808Z"
   },
   {
    "duration": 308,
    "start_time": "2021-11-14T20:32:23.177Z"
   },
   {
    "duration": 460,
    "start_time": "2021-11-14T20:32:23.488Z"
   },
   {
    "duration": 342,
    "start_time": "2021-11-14T20:32:23.950Z"
   },
   {
    "duration": 339,
    "start_time": "2021-11-14T20:32:24.294Z"
   },
   {
    "duration": 370,
    "start_time": "2021-11-14T20:32:24.636Z"
   },
   {
    "duration": 112,
    "start_time": "2021-11-14T20:39:47.105Z"
   },
   {
    "duration": 92,
    "start_time": "2021-11-14T20:40:55.311Z"
   },
   {
    "duration": 38,
    "start_time": "2021-11-14T20:40:55.405Z"
   },
   {
    "duration": 47,
    "start_time": "2021-11-14T20:40:55.446Z"
   },
   {
    "duration": 8,
    "start_time": "2021-11-14T20:40:55.496Z"
   },
   {
    "duration": 10,
    "start_time": "2021-11-14T20:40:55.507Z"
   },
   {
    "duration": 14,
    "start_time": "2021-11-14T20:40:55.519Z"
   },
   {
    "duration": 56,
    "start_time": "2021-11-14T20:40:55.535Z"
   },
   {
    "duration": 468,
    "start_time": "2021-11-14T20:40:55.593Z"
   },
   {
    "duration": 18,
    "start_time": "2021-11-14T20:40:56.065Z"
   },
   {
    "duration": 11,
    "start_time": "2021-11-14T20:40:56.086Z"
   },
   {
    "duration": 54,
    "start_time": "2021-11-14T20:40:56.099Z"
   },
   {
    "duration": 30,
    "start_time": "2021-11-14T20:40:56.155Z"
   },
   {
    "duration": 8,
    "start_time": "2021-11-14T20:40:56.188Z"
   },
   {
    "duration": 12,
    "start_time": "2021-11-14T20:40:56.198Z"
   },
   {
    "duration": 8,
    "start_time": "2021-11-14T20:40:56.212Z"
   },
   {
    "duration": 10,
    "start_time": "2021-11-14T20:40:56.222Z"
   },
   {
    "duration": 1189,
    "start_time": "2021-11-14T20:40:56.235Z"
   },
   {
    "duration": 5,
    "start_time": "2021-11-14T20:40:57.426Z"
   },
   {
    "duration": 7,
    "start_time": "2021-11-14T20:40:57.483Z"
   },
   {
    "duration": 57,
    "start_time": "2021-11-14T20:40:57.493Z"
   },
   {
    "duration": 646,
    "start_time": "2021-11-14T20:40:57.553Z"
   },
   {
    "duration": 624,
    "start_time": "2021-11-14T20:40:58.201Z"
   },
   {
    "duration": 382,
    "start_time": "2021-11-14T20:40:58.828Z"
   },
   {
    "duration": 492,
    "start_time": "2021-11-14T20:40:59.213Z"
   },
   {
    "duration": 1526,
    "start_time": "2021-11-14T20:40:59.707Z"
   },
   {
    "duration": 65,
    "start_time": "2021-11-14T20:41:01.235Z"
   },
   {
    "duration": 1301,
    "start_time": "2021-11-14T20:41:01.306Z"
   },
   {
    "duration": 362,
    "start_time": "2021-11-14T20:41:02.610Z"
   },
   {
    "duration": 351,
    "start_time": "2021-11-14T20:41:02.974Z"
   },
   {
    "duration": 299,
    "start_time": "2021-11-14T20:41:03.327Z"
   },
   {
    "duration": 726,
    "start_time": "2021-11-14T20:41:03.628Z"
   },
   {
    "duration": 316,
    "start_time": "2021-11-14T20:41:04.357Z"
   },
   {
    "duration": 330,
    "start_time": "2021-11-14T20:41:04.675Z"
   },
   {
    "duration": 336,
    "start_time": "2021-11-14T20:41:05.007Z"
   },
   {
    "duration": 50,
    "start_time": "2021-11-14T20:41:05.346Z"
   },
   {
    "duration": 322,
    "start_time": "2021-11-14T20:41:05.398Z"
   },
   {
    "duration": 11,
    "start_time": "2021-11-14T20:41:05.723Z"
   },
   {
    "duration": 356,
    "start_time": "2021-11-14T20:41:05.737Z"
   },
   {
    "duration": 299,
    "start_time": "2021-11-14T20:41:06.096Z"
   },
   {
    "duration": 538,
    "start_time": "2021-11-14T20:41:06.398Z"
   },
   {
    "duration": 321,
    "start_time": "2021-11-14T20:41:06.939Z"
   },
   {
    "duration": 337,
    "start_time": "2021-11-14T20:41:07.262Z"
   },
   {
    "duration": 346,
    "start_time": "2021-11-14T20:41:07.601Z"
   },
   {
    "duration": 107,
    "start_time": "2021-11-14T20:46:44.036Z"
   },
   {
    "duration": 46,
    "start_time": "2021-11-14T20:46:44.147Z"
   },
   {
    "duration": 37,
    "start_time": "2021-11-14T20:46:44.198Z"
   },
   {
    "duration": 11,
    "start_time": "2021-11-14T20:46:44.239Z"
   },
   {
    "duration": 12,
    "start_time": "2021-11-14T20:46:44.283Z"
   },
   {
    "duration": 12,
    "start_time": "2021-11-14T20:46:44.297Z"
   },
   {
    "duration": 18,
    "start_time": "2021-11-14T20:46:44.311Z"
   },
   {
    "duration": 598,
    "start_time": "2021-11-14T20:46:44.331Z"
   },
   {
    "duration": 10,
    "start_time": "2021-11-14T20:46:44.933Z"
   },
   {
    "duration": 11,
    "start_time": "2021-11-14T20:46:44.947Z"
   },
   {
    "duration": 65,
    "start_time": "2021-11-14T20:46:44.983Z"
   },
   {
    "duration": 39,
    "start_time": "2021-11-14T20:46:45.052Z"
   },
   {
    "duration": 8,
    "start_time": "2021-11-14T20:46:45.094Z"
   },
   {
    "duration": 13,
    "start_time": "2021-11-14T20:46:45.104Z"
   },
   {
    "duration": 10,
    "start_time": "2021-11-14T20:46:45.119Z"
   },
   {
    "duration": 9,
    "start_time": "2021-11-14T20:46:45.132Z"
   },
   {
    "duration": 1521,
    "start_time": "2021-11-14T20:46:45.144Z"
   },
   {
    "duration": 16,
    "start_time": "2021-11-14T20:46:46.667Z"
   },
   {
    "duration": 9,
    "start_time": "2021-11-14T20:46:46.686Z"
   },
   {
    "duration": 57,
    "start_time": "2021-11-14T20:46:46.697Z"
   },
   {
    "duration": 663,
    "start_time": "2021-11-14T20:46:46.781Z"
   },
   {
    "duration": 673,
    "start_time": "2021-11-14T20:46:47.447Z"
   },
   {
    "duration": 398,
    "start_time": "2021-11-14T20:46:48.122Z"
   },
   {
    "duration": 405,
    "start_time": "2021-11-14T20:46:48.522Z"
   },
   {
    "duration": 124,
    "start_time": "2021-11-14T20:46:48.930Z"
   },
   {
    "duration": 9,
    "start_time": "2021-11-14T20:46:49.049Z"
   },
   {
    "duration": 7,
    "start_time": "2021-11-14T20:46:49.053Z"
   },
   {
    "duration": -21,
    "start_time": "2021-11-14T20:46:49.083Z"
   },
   {
    "duration": -24,
    "start_time": "2021-11-14T20:46:49.088Z"
   },
   {
    "duration": -26,
    "start_time": "2021-11-14T20:46:49.092Z"
   },
   {
    "duration": -30,
    "start_time": "2021-11-14T20:46:49.098Z"
   },
   {
    "duration": -31,
    "start_time": "2021-11-14T20:46:49.101Z"
   },
   {
    "duration": -33,
    "start_time": "2021-11-14T20:46:49.105Z"
   },
   {
    "duration": -34,
    "start_time": "2021-11-14T20:46:49.108Z"
   },
   {
    "duration": -35,
    "start_time": "2021-11-14T20:46:49.111Z"
   },
   {
    "duration": -37,
    "start_time": "2021-11-14T20:46:49.115Z"
   },
   {
    "duration": -37,
    "start_time": "2021-11-14T20:46:49.117Z"
   },
   {
    "duration": -38,
    "start_time": "2021-11-14T20:46:49.120Z"
   },
   {
    "duration": -39,
    "start_time": "2021-11-14T20:46:49.123Z"
   },
   {
    "duration": -40,
    "start_time": "2021-11-14T20:46:49.126Z"
   },
   {
    "duration": -41,
    "start_time": "2021-11-14T20:46:49.129Z"
   },
   {
    "duration": -42,
    "start_time": "2021-11-14T20:46:49.132Z"
   },
   {
    "duration": -42,
    "start_time": "2021-11-14T20:46:49.134Z"
   },
   {
    "duration": -43,
    "start_time": "2021-11-14T20:46:49.137Z"
   },
   {
    "duration": 91,
    "start_time": "2021-11-14T20:49:05.726Z"
   },
   {
    "duration": 73,
    "start_time": "2021-11-14T20:49:05.820Z"
   },
   {
    "duration": 35,
    "start_time": "2021-11-14T20:49:05.896Z"
   },
   {
    "duration": 12,
    "start_time": "2021-11-14T20:49:05.934Z"
   },
   {
    "duration": 37,
    "start_time": "2021-11-14T20:49:05.949Z"
   },
   {
    "duration": 14,
    "start_time": "2021-11-14T20:49:05.988Z"
   },
   {
    "duration": 20,
    "start_time": "2021-11-14T20:49:06.005Z"
   },
   {
    "duration": 461,
    "start_time": "2021-11-14T20:49:06.027Z"
   },
   {
    "duration": 10,
    "start_time": "2021-11-14T20:49:06.492Z"
   },
   {
    "duration": 8,
    "start_time": "2021-11-14T20:49:06.505Z"
   },
   {
    "duration": 84,
    "start_time": "2021-11-14T20:49:06.516Z"
   },
   {
    "duration": 14,
    "start_time": "2021-11-14T20:49:06.603Z"
   },
   {
    "duration": 7,
    "start_time": "2021-11-14T20:49:06.619Z"
   },
   {
    "duration": 11,
    "start_time": "2021-11-14T20:49:06.629Z"
   },
   {
    "duration": 41,
    "start_time": "2021-11-14T20:49:06.643Z"
   },
   {
    "duration": 8,
    "start_time": "2021-11-14T20:49:06.686Z"
   },
   {
    "duration": 1212,
    "start_time": "2021-11-14T20:49:06.696Z"
   },
   {
    "duration": 5,
    "start_time": "2021-11-14T20:49:07.911Z"
   },
   {
    "duration": 8,
    "start_time": "2021-11-14T20:49:07.919Z"
   },
   {
    "duration": 74,
    "start_time": "2021-11-14T20:49:07.929Z"
   },
   {
    "duration": 628,
    "start_time": "2021-11-14T20:49:08.005Z"
   },
   {
    "duration": 615,
    "start_time": "2021-11-14T20:49:08.635Z"
   },
   {
    "duration": 598,
    "start_time": "2021-11-14T20:49:09.253Z"
   },
   {
    "duration": 400,
    "start_time": "2021-11-14T20:49:09.853Z"
   },
   {
    "duration": 1270,
    "start_time": "2021-11-14T20:49:10.255Z"
   },
   {
    "duration": 64,
    "start_time": "2021-11-14T20:49:11.528Z"
   },
   {
    "duration": 1255,
    "start_time": "2021-11-14T20:49:11.598Z"
   },
   {
    "duration": 355,
    "start_time": "2021-11-14T20:49:12.856Z"
   },
   {
    "duration": 348,
    "start_time": "2021-11-14T20:49:13.214Z"
   },
   {
    "duration": 304,
    "start_time": "2021-11-14T20:49:13.565Z"
   },
   {
    "duration": 749,
    "start_time": "2021-11-14T20:49:13.871Z"
   },
   {
    "duration": 323,
    "start_time": "2021-11-14T20:49:14.622Z"
   },
   {
    "duration": 336,
    "start_time": "2021-11-14T20:49:14.948Z"
   },
   {
    "duration": 330,
    "start_time": "2021-11-14T20:49:15.287Z"
   },
   {
    "duration": 39,
    "start_time": "2021-11-14T20:49:15.620Z"
   },
   {
    "duration": 340,
    "start_time": "2021-11-14T20:49:15.661Z"
   },
   {
    "duration": 12,
    "start_time": "2021-11-14T20:49:16.004Z"
   },
   {
    "duration": 338,
    "start_time": "2021-11-14T20:49:16.018Z"
   },
   {
    "duration": 301,
    "start_time": "2021-11-14T20:49:16.359Z"
   },
   {
    "duration": 448,
    "start_time": "2021-11-14T20:49:16.662Z"
   },
   {
    "duration": 329,
    "start_time": "2021-11-14T20:49:17.112Z"
   },
   {
    "duration": 349,
    "start_time": "2021-11-14T20:49:17.444Z"
   },
   {
    "duration": 623,
    "start_time": "2021-11-14T20:49:17.796Z"
   },
   {
    "duration": 869,
    "start_time": "2021-11-14T20:54:38.716Z"
   },
   {
    "duration": 310,
    "start_time": "2021-11-15T04:12:46.263Z"
   },
   {
    "duration": 16,
    "start_time": "2021-11-15T04:14:17.493Z"
   },
   {
    "duration": 105,
    "start_time": "2021-11-15T04:21:17.489Z"
   },
   {
    "duration": 36,
    "start_time": "2021-11-15T04:21:17.596Z"
   },
   {
    "duration": 58,
    "start_time": "2021-11-15T04:21:17.635Z"
   },
   {
    "duration": 10,
    "start_time": "2021-11-15T04:21:17.695Z"
   },
   {
    "duration": 10,
    "start_time": "2021-11-15T04:21:17.707Z"
   },
   {
    "duration": 12,
    "start_time": "2021-11-15T04:21:17.719Z"
   },
   {
    "duration": 55,
    "start_time": "2021-11-15T04:21:17.733Z"
   },
   {
    "duration": 436,
    "start_time": "2021-11-15T04:21:17.791Z"
   },
   {
    "duration": 10,
    "start_time": "2021-11-15T04:21:18.230Z"
   },
   {
    "duration": 11,
    "start_time": "2021-11-15T04:21:18.243Z"
   },
   {
    "duration": 74,
    "start_time": "2021-11-15T04:21:18.257Z"
   },
   {
    "duration": 13,
    "start_time": "2021-11-15T04:21:18.334Z"
   },
   {
    "duration": 33,
    "start_time": "2021-11-15T04:21:18.349Z"
   },
   {
    "duration": 8,
    "start_time": "2021-11-15T04:21:18.384Z"
   },
   {
    "duration": 9,
    "start_time": "2021-11-15T04:21:18.395Z"
   },
   {
    "duration": 7,
    "start_time": "2021-11-15T04:21:18.406Z"
   },
   {
    "duration": 1178,
    "start_time": "2021-11-15T04:21:18.415Z"
   },
   {
    "duration": 5,
    "start_time": "2021-11-15T04:21:19.595Z"
   },
   {
    "duration": 8,
    "start_time": "2021-11-15T04:21:19.602Z"
   },
   {
    "duration": 72,
    "start_time": "2021-11-15T04:21:19.612Z"
   },
   {
    "duration": 609,
    "start_time": "2021-11-15T04:21:19.686Z"
   },
   {
    "duration": 727,
    "start_time": "2021-11-15T04:21:20.297Z"
   },
   {
    "duration": 375,
    "start_time": "2021-11-15T04:21:21.026Z"
   },
   {
    "duration": 400,
    "start_time": "2021-11-15T04:21:21.403Z"
   },
   {
    "duration": 826,
    "start_time": "2021-11-15T04:21:21.805Z"
   },
   {
    "duration": 61,
    "start_time": "2021-11-15T04:21:22.633Z"
   },
   {
    "duration": 1465,
    "start_time": "2021-11-15T04:21:22.699Z"
   },
   {
    "duration": 346,
    "start_time": "2021-11-15T04:21:24.167Z"
   },
   {
    "duration": 340,
    "start_time": "2021-11-15T04:21:24.515Z"
   },
   {
    "duration": 294,
    "start_time": "2021-11-15T04:21:24.857Z"
   },
   {
    "duration": 725,
    "start_time": "2021-11-15T04:21:25.153Z"
   },
   {
    "duration": 307,
    "start_time": "2021-11-15T04:21:25.883Z"
   },
   {
    "duration": 342,
    "start_time": "2021-11-15T04:21:26.193Z"
   },
   {
    "duration": 372,
    "start_time": "2021-11-15T04:21:26.539Z"
   },
   {
    "duration": 52,
    "start_time": "2021-11-15T04:21:26.914Z"
   },
   {
    "duration": 320,
    "start_time": "2021-11-15T04:21:26.983Z"
   },
   {
    "duration": 11,
    "start_time": "2021-11-15T04:21:27.306Z"
   },
   {
    "duration": 451,
    "start_time": "2021-11-15T04:21:27.319Z"
   },
   {
    "duration": 289,
    "start_time": "2021-11-15T04:21:27.772Z"
   },
   {
    "duration": 465,
    "start_time": "2021-11-15T04:21:28.064Z"
   },
   {
    "duration": 328,
    "start_time": "2021-11-15T04:21:28.531Z"
   },
   {
    "duration": 328,
    "start_time": "2021-11-15T04:21:28.861Z"
   },
   {
    "duration": 347,
    "start_time": "2021-11-15T04:21:29.191Z"
   },
   {
    "duration": 92,
    "start_time": "2021-11-15T04:27:27.748Z"
   },
   {
    "duration": 65,
    "start_time": "2021-11-15T04:27:27.842Z"
   },
   {
    "duration": 33,
    "start_time": "2021-11-15T04:27:27.910Z"
   },
   {
    "duration": 16,
    "start_time": "2021-11-15T04:27:27.946Z"
   },
   {
    "duration": 13,
    "start_time": "2021-11-15T04:27:27.982Z"
   },
   {
    "duration": 22,
    "start_time": "2021-11-15T04:27:27.997Z"
   },
   {
    "duration": 17,
    "start_time": "2021-11-15T04:27:28.022Z"
   },
   {
    "duration": 442,
    "start_time": "2021-11-15T04:27:28.041Z"
   },
   {
    "duration": 9,
    "start_time": "2021-11-15T04:27:28.487Z"
   },
   {
    "duration": 11,
    "start_time": "2021-11-15T04:27:28.499Z"
   },
   {
    "duration": 73,
    "start_time": "2021-11-15T04:27:28.512Z"
   },
   {
    "duration": 14,
    "start_time": "2021-11-15T04:27:28.588Z"
   },
   {
    "duration": 6,
    "start_time": "2021-11-15T04:27:28.604Z"
   },
   {
    "duration": 10,
    "start_time": "2021-11-15T04:27:28.612Z"
   },
   {
    "duration": 8,
    "start_time": "2021-11-15T04:27:28.624Z"
   },
   {
    "duration": 48,
    "start_time": "2021-11-15T04:27:28.635Z"
   },
   {
    "duration": 803,
    "start_time": "2021-11-15T04:27:28.686Z"
   },
   {
    "duration": 4,
    "start_time": "2021-11-15T04:27:29.491Z"
   },
   {
    "duration": 8,
    "start_time": "2021-11-15T04:27:29.498Z"
   },
   {
    "duration": 106,
    "start_time": "2021-11-15T04:27:29.508Z"
   },
   {
    "duration": 1124,
    "start_time": "2021-11-15T04:27:29.616Z"
   },
   {
    "duration": 640,
    "start_time": "2021-11-15T04:27:30.742Z"
   },
   {
    "duration": 386,
    "start_time": "2021-11-15T04:27:31.384Z"
   },
   {
    "duration": 386,
    "start_time": "2021-11-15T04:27:31.773Z"
   },
   {
    "duration": 863,
    "start_time": "2021-11-15T04:27:32.162Z"
   },
   {
    "duration": 69,
    "start_time": "2021-11-15T04:27:33.027Z"
   },
   {
    "duration": 18,
    "start_time": "2021-11-15T04:27:33.101Z"
   },
   {
    "duration": 223,
    "start_time": "2021-11-15T04:27:33.122Z"
   },
   {
    "duration": 1036,
    "start_time": "2021-11-15T04:27:33.348Z"
   },
   {
    "duration": 11,
    "start_time": "2021-11-15T04:27:34.386Z"
   },
   {
    "duration": 343,
    "start_time": "2021-11-15T04:27:34.399Z"
   },
   {
    "duration": 336,
    "start_time": "2021-11-15T04:27:34.744Z"
   },
   {
    "duration": 296,
    "start_time": "2021-11-15T04:27:35.082Z"
   },
   {
    "duration": 733,
    "start_time": "2021-11-15T04:27:35.381Z"
   },
   {
    "duration": 321,
    "start_time": "2021-11-15T04:27:36.118Z"
   },
   {
    "duration": 331,
    "start_time": "2021-11-15T04:27:36.442Z"
   },
   {
    "duration": 337,
    "start_time": "2021-11-15T04:27:36.781Z"
   },
   {
    "duration": 36,
    "start_time": "2021-11-15T04:27:37.120Z"
   },
   {
    "duration": 324,
    "start_time": "2021-11-15T04:27:37.158Z"
   },
   {
    "duration": 12,
    "start_time": "2021-11-15T04:27:37.484Z"
   },
   {
    "duration": 331,
    "start_time": "2021-11-15T04:27:37.498Z"
   },
   {
    "duration": 326,
    "start_time": "2021-11-15T04:27:37.831Z"
   },
   {
    "duration": 582,
    "start_time": "2021-11-15T04:27:38.159Z"
   },
   {
    "duration": 569,
    "start_time": "2021-11-15T04:27:38.743Z"
   },
   {
    "duration": 334,
    "start_time": "2021-11-15T04:27:39.315Z"
   },
   {
    "duration": 342,
    "start_time": "2021-11-15T04:27:39.652Z"
   },
   {
    "duration": 125,
    "start_time": "2021-11-15T04:31:24.671Z"
   },
   {
    "duration": 35,
    "start_time": "2021-11-15T04:31:24.799Z"
   },
   {
    "duration": 59,
    "start_time": "2021-11-15T04:31:24.837Z"
   },
   {
    "duration": 8,
    "start_time": "2021-11-15T04:31:24.898Z"
   },
   {
    "duration": 11,
    "start_time": "2021-11-15T04:31:24.908Z"
   },
   {
    "duration": 18,
    "start_time": "2021-11-15T04:31:24.921Z"
   },
   {
    "duration": 55,
    "start_time": "2021-11-15T04:31:24.942Z"
   },
   {
    "duration": 436,
    "start_time": "2021-11-15T04:31:24.999Z"
   },
   {
    "duration": 9,
    "start_time": "2021-11-15T04:31:25.439Z"
   },
   {
    "duration": 32,
    "start_time": "2021-11-15T04:31:25.451Z"
   },
   {
    "duration": 54,
    "start_time": "2021-11-15T04:31:25.485Z"
   },
   {
    "duration": 15,
    "start_time": "2021-11-15T04:31:25.541Z"
   },
   {
    "duration": 27,
    "start_time": "2021-11-15T04:31:25.558Z"
   },
   {
    "duration": 17,
    "start_time": "2021-11-15T04:31:25.587Z"
   },
   {
    "duration": 7,
    "start_time": "2021-11-15T04:31:25.606Z"
   },
   {
    "duration": 7,
    "start_time": "2021-11-15T04:31:25.616Z"
   },
   {
    "duration": 816,
    "start_time": "2021-11-15T04:31:25.626Z"
   },
   {
    "duration": 5,
    "start_time": "2021-11-15T04:31:26.445Z"
   },
   {
    "duration": 10,
    "start_time": "2021-11-15T04:31:26.452Z"
   },
   {
    "duration": 65,
    "start_time": "2021-11-15T04:31:26.465Z"
   },
   {
    "duration": 771,
    "start_time": "2021-11-15T04:31:26.533Z"
   },
   {
    "duration": 876,
    "start_time": "2021-11-15T04:31:27.306Z"
   },
   {
    "duration": 386,
    "start_time": "2021-11-15T04:31:28.184Z"
   },
   {
    "duration": 382,
    "start_time": "2021-11-15T04:31:28.572Z"
   },
   {
    "duration": 839,
    "start_time": "2021-11-15T04:31:28.956Z"
   },
   {
    "duration": 51,
    "start_time": "2021-11-15T04:31:29.797Z"
   },
   {
    "duration": 41,
    "start_time": "2021-11-15T04:31:29.853Z"
   },
   {
    "duration": 214,
    "start_time": "2021-11-15T04:31:29.897Z"
   },
   {
    "duration": 1260,
    "start_time": "2021-11-15T04:31:30.113Z"
   },
   {
    "duration": 7,
    "start_time": "2021-11-15T04:31:31.375Z"
   },
   {
    "duration": 451,
    "start_time": "2021-11-15T04:31:31.384Z"
   },
   {
    "duration": 355,
    "start_time": "2021-11-15T04:31:31.838Z"
   },
   {
    "duration": 315,
    "start_time": "2021-11-15T04:31:32.195Z"
   },
   {
    "duration": 707,
    "start_time": "2021-11-15T04:31:32.512Z"
   },
   {
    "duration": 310,
    "start_time": "2021-11-15T04:31:33.221Z"
   },
   {
    "duration": 328,
    "start_time": "2021-11-15T04:31:33.534Z"
   },
   {
    "duration": 328,
    "start_time": "2021-11-15T04:31:33.864Z"
   },
   {
    "duration": 41,
    "start_time": "2021-11-15T04:31:34.194Z"
   },
   {
    "duration": 327,
    "start_time": "2021-11-15T04:31:34.237Z"
   },
   {
    "duration": 20,
    "start_time": "2021-11-15T04:31:34.567Z"
   },
   {
    "duration": 332,
    "start_time": "2021-11-15T04:31:34.590Z"
   },
   {
    "duration": 305,
    "start_time": "2021-11-15T04:31:34.925Z"
   },
   {
    "duration": 470,
    "start_time": "2021-11-15T04:31:35.232Z"
   },
   {
    "duration": 332,
    "start_time": "2021-11-15T04:31:35.705Z"
   },
   {
    "duration": 335,
    "start_time": "2021-11-15T04:31:36.040Z"
   },
   {
    "duration": 345,
    "start_time": "2021-11-15T04:31:36.377Z"
   },
   {
    "duration": 98,
    "start_time": "2021-11-15T04:44:11.450Z"
   },
   {
    "duration": 345,
    "start_time": "2021-11-15T04:45:42.812Z"
   },
   {
    "duration": 112,
    "start_time": "2021-11-15T04:45:48.376Z"
   },
   {
    "duration": 36,
    "start_time": "2021-11-15T04:45:48.491Z"
   },
   {
    "duration": 63,
    "start_time": "2021-11-15T04:45:48.530Z"
   },
   {
    "duration": 9,
    "start_time": "2021-11-15T04:45:48.595Z"
   },
   {
    "duration": 10,
    "start_time": "2021-11-15T04:45:48.607Z"
   },
   {
    "duration": 12,
    "start_time": "2021-11-15T04:45:48.619Z"
   },
   {
    "duration": 54,
    "start_time": "2021-11-15T04:45:48.633Z"
   },
   {
    "duration": 439,
    "start_time": "2021-11-15T04:45:48.691Z"
   },
   {
    "duration": 10,
    "start_time": "2021-11-15T04:45:49.133Z"
   },
   {
    "duration": 14,
    "start_time": "2021-11-15T04:45:49.145Z"
   },
   {
    "duration": 72,
    "start_time": "2021-11-15T04:45:49.161Z"
   },
   {
    "duration": 14,
    "start_time": "2021-11-15T04:45:49.235Z"
   },
   {
    "duration": 32,
    "start_time": "2021-11-15T04:45:49.252Z"
   },
   {
    "duration": 10,
    "start_time": "2021-11-15T04:45:49.287Z"
   },
   {
    "duration": 8,
    "start_time": "2021-11-15T04:45:49.300Z"
   },
   {
    "duration": 8,
    "start_time": "2021-11-15T04:45:49.310Z"
   },
   {
    "duration": 1185,
    "start_time": "2021-11-15T04:45:49.320Z"
   },
   {
    "duration": 5,
    "start_time": "2021-11-15T04:45:50.507Z"
   },
   {
    "duration": 15,
    "start_time": "2021-11-15T04:45:50.515Z"
   },
   {
    "duration": 64,
    "start_time": "2021-11-15T04:45:50.533Z"
   },
   {
    "duration": 606,
    "start_time": "2021-11-15T04:45:50.600Z"
   },
   {
    "duration": 827,
    "start_time": "2021-11-15T04:45:51.209Z"
   },
   {
    "duration": 364,
    "start_time": "2021-11-15T04:45:52.041Z"
   },
   {
    "duration": 382,
    "start_time": "2021-11-15T04:45:52.408Z"
   },
   {
    "duration": 851,
    "start_time": "2021-11-15T04:45:52.792Z"
   },
   {
    "duration": 61,
    "start_time": "2021-11-15T04:45:53.646Z"
   },
   {
    "duration": 17,
    "start_time": "2021-11-15T04:45:53.709Z"
   },
   {
    "duration": 215,
    "start_time": "2021-11-15T04:45:53.729Z"
   },
   {
    "duration": 1044,
    "start_time": "2021-11-15T04:45:53.946Z"
   },
   {
    "duration": 4,
    "start_time": "2021-11-15T04:45:54.992Z"
   },
   {
    "duration": 349,
    "start_time": "2021-11-15T04:45:54.998Z"
   },
   {
    "duration": 342,
    "start_time": "2021-11-15T04:45:55.349Z"
   },
   {
    "duration": 314,
    "start_time": "2021-11-15T04:45:55.693Z"
   },
   {
    "duration": 9,
    "start_time": "2021-11-15T04:45:56.002Z"
   },
   {
    "duration": 5,
    "start_time": "2021-11-15T04:45:56.008Z"
   },
   {
    "duration": 3,
    "start_time": "2021-11-15T04:45:56.012Z"
   },
   {
    "duration": 2,
    "start_time": "2021-11-15T04:45:56.016Z"
   },
   {
    "duration": -1,
    "start_time": "2021-11-15T04:45:56.020Z"
   },
   {
    "duration": -2,
    "start_time": "2021-11-15T04:45:56.024Z"
   },
   {
    "duration": -3,
    "start_time": "2021-11-15T04:45:56.027Z"
   },
   {
    "duration": -5,
    "start_time": "2021-11-15T04:45:56.031Z"
   },
   {
    "duration": -6,
    "start_time": "2021-11-15T04:45:56.034Z"
   },
   {
    "duration": -7,
    "start_time": "2021-11-15T04:45:56.037Z"
   },
   {
    "duration": -7,
    "start_time": "2021-11-15T04:45:56.040Z"
   },
   {
    "duration": -8,
    "start_time": "2021-11-15T04:45:56.043Z"
   },
   {
    "duration": -17,
    "start_time": "2021-11-15T04:45:56.054Z"
   },
   {
    "duration": 319,
    "start_time": "2021-11-15T04:48:23.321Z"
   },
   {
    "duration": 279,
    "start_time": "2021-11-15T04:49:07.843Z"
   },
   {
    "duration": 322,
    "start_time": "2021-11-15T05:04:30.386Z"
   },
   {
    "duration": 313,
    "start_time": "2021-11-15T05:08:13.992Z"
   },
   {
    "duration": 302,
    "start_time": "2021-11-15T05:08:38.665Z"
   },
   {
    "duration": 303,
    "start_time": "2021-11-15T05:10:15.191Z"
   },
   {
    "duration": 281,
    "start_time": "2021-11-15T05:10:22.635Z"
   },
   {
    "duration": 763,
    "start_time": "2021-11-15T05:52:00.968Z"
   },
   {
    "duration": 98,
    "start_time": "2021-11-15T05:52:05.550Z"
   },
   {
    "duration": 50,
    "start_time": "2021-11-15T05:52:05.650Z"
   },
   {
    "duration": 39,
    "start_time": "2021-11-15T05:52:05.705Z"
   },
   {
    "duration": 44,
    "start_time": "2021-11-15T05:52:05.748Z"
   },
   {
    "duration": 16,
    "start_time": "2021-11-15T05:52:05.796Z"
   },
   {
    "duration": 16,
    "start_time": "2021-11-15T05:52:05.815Z"
   },
   {
    "duration": 56,
    "start_time": "2021-11-15T05:52:05.834Z"
   },
   {
    "duration": 432,
    "start_time": "2021-11-15T05:52:05.893Z"
   },
   {
    "duration": 9,
    "start_time": "2021-11-15T05:52:06.329Z"
   },
   {
    "duration": 11,
    "start_time": "2021-11-15T05:52:06.342Z"
   },
   {
    "duration": 76,
    "start_time": "2021-11-15T05:52:06.356Z"
   },
   {
    "duration": 14,
    "start_time": "2021-11-15T05:52:06.434Z"
   },
   {
    "duration": 6,
    "start_time": "2021-11-15T05:52:06.451Z"
   },
   {
    "duration": 8,
    "start_time": "2021-11-15T05:52:06.482Z"
   },
   {
    "duration": 8,
    "start_time": "2021-11-15T05:52:06.492Z"
   },
   {
    "duration": 7,
    "start_time": "2021-11-15T05:52:06.503Z"
   },
   {
    "duration": 1195,
    "start_time": "2021-11-15T05:52:06.513Z"
   },
   {
    "duration": 5,
    "start_time": "2021-11-15T05:52:07.710Z"
   },
   {
    "duration": 13,
    "start_time": "2021-11-15T05:52:07.717Z"
   },
   {
    "duration": 106,
    "start_time": "2021-11-15T05:52:07.732Z"
   },
   {
    "duration": 857,
    "start_time": "2021-11-15T05:52:07.840Z"
   },
   {
    "duration": 622,
    "start_time": "2021-11-15T05:52:08.699Z"
   },
   {
    "duration": 373,
    "start_time": "2021-11-15T05:52:09.323Z"
   },
   {
    "duration": 405,
    "start_time": "2021-11-15T05:52:09.698Z"
   },
   {
    "duration": 848,
    "start_time": "2021-11-15T05:52:10.106Z"
   },
   {
    "duration": 62,
    "start_time": "2021-11-15T05:52:10.957Z"
   },
   {
    "duration": 17,
    "start_time": "2021-11-15T05:52:11.024Z"
   },
   {
    "duration": 220,
    "start_time": "2021-11-15T05:52:11.043Z"
   },
   {
    "duration": 1036,
    "start_time": "2021-11-15T05:52:11.266Z"
   },
   {
    "duration": 3,
    "start_time": "2021-11-15T05:52:12.304Z"
   },
   {
    "duration": 351,
    "start_time": "2021-11-15T05:52:12.310Z"
   },
   {
    "duration": 372,
    "start_time": "2021-11-15T05:52:12.664Z"
   },
   {
    "duration": 295,
    "start_time": "2021-11-15T05:52:13.038Z"
   },
   {
    "duration": 718,
    "start_time": "2021-11-15T05:52:13.335Z"
   },
   {
    "duration": 312,
    "start_time": "2021-11-15T05:52:14.056Z"
   },
   {
    "duration": 330,
    "start_time": "2021-11-15T05:52:14.371Z"
   },
   {
    "duration": 341,
    "start_time": "2021-11-15T05:52:14.704Z"
   },
   {
    "duration": 50,
    "start_time": "2021-11-15T05:52:15.047Z"
   },
   {
    "duration": 314,
    "start_time": "2021-11-15T05:52:15.099Z"
   },
   {
    "duration": 12,
    "start_time": "2021-11-15T05:52:15.415Z"
   },
   {
    "duration": 339,
    "start_time": "2021-11-15T05:52:15.429Z"
   },
   {
    "duration": 311,
    "start_time": "2021-11-15T05:52:15.771Z"
   },
   {
    "duration": 425,
    "start_time": "2021-11-15T05:52:16.084Z"
   },
   {
    "duration": 337,
    "start_time": "2021-11-15T05:52:16.511Z"
   },
   {
    "duration": 340,
    "start_time": "2021-11-15T05:52:16.850Z"
   },
   {
    "duration": 634,
    "start_time": "2021-11-15T05:52:17.192Z"
   },
   {
    "duration": 37,
    "start_time": "2021-11-15T05:59:20.251Z"
   },
   {
    "duration": 334,
    "start_time": "2021-11-15T05:59:55.002Z"
   },
   {
    "duration": 39,
    "start_time": "2021-11-15T06:01:24.633Z"
   },
   {
    "duration": 385,
    "start_time": "2021-11-15T06:04:29.597Z"
   },
   {
    "duration": 1977,
    "start_time": "2021-11-15T06:05:01.825Z"
   },
   {
    "duration": 358,
    "start_time": "2021-11-15T06:06:10.174Z"
   },
   {
    "duration": 38,
    "start_time": "2021-11-15T06:08:42.431Z"
   },
   {
    "duration": 111,
    "start_time": "2021-11-15T06:09:02.419Z"
   },
   {
    "duration": 74,
    "start_time": "2021-11-15T06:09:02.534Z"
   },
   {
    "duration": 39,
    "start_time": "2021-11-15T06:09:02.612Z"
   },
   {
    "duration": 32,
    "start_time": "2021-11-15T06:09:02.654Z"
   },
   {
    "duration": 13,
    "start_time": "2021-11-15T06:09:02.690Z"
   },
   {
    "duration": 28,
    "start_time": "2021-11-15T06:09:02.706Z"
   },
   {
    "duration": 20,
    "start_time": "2021-11-15T06:09:02.736Z"
   },
   {
    "duration": 589,
    "start_time": "2021-11-15T06:09:02.759Z"
   },
   {
    "duration": 9,
    "start_time": "2021-11-15T06:09:03.351Z"
   },
   {
    "duration": 24,
    "start_time": "2021-11-15T06:09:03.362Z"
   },
   {
    "duration": 132,
    "start_time": "2021-11-15T06:09:03.390Z"
   },
   {
    "duration": 67,
    "start_time": "2021-11-15T06:09:03.525Z"
   },
   {
    "duration": 9,
    "start_time": "2021-11-15T06:09:03.595Z"
   },
   {
    "duration": 15,
    "start_time": "2021-11-15T06:09:03.607Z"
   },
   {
    "duration": 61,
    "start_time": "2021-11-15T06:09:03.625Z"
   },
   {
    "duration": 9,
    "start_time": "2021-11-15T06:09:03.689Z"
   },
   {
    "duration": 1581,
    "start_time": "2021-11-15T06:09:03.701Z"
   },
   {
    "duration": 6,
    "start_time": "2021-11-15T06:09:05.284Z"
   },
   {
    "duration": 12,
    "start_time": "2021-11-15T06:09:05.293Z"
   },
   {
    "duration": 75,
    "start_time": "2021-11-15T06:09:05.308Z"
   },
   {
    "duration": 627,
    "start_time": "2021-11-15T06:09:05.386Z"
   },
   {
    "duration": 638,
    "start_time": "2021-11-15T06:09:06.016Z"
   },
   {
    "duration": 416,
    "start_time": "2021-11-15T06:09:06.661Z"
   },
   {
    "duration": 402,
    "start_time": "2021-11-15T06:09:07.083Z"
   },
   {
    "duration": 937,
    "start_time": "2021-11-15T06:09:07.487Z"
   },
   {
    "duration": 63,
    "start_time": "2021-11-15T06:09:08.426Z"
   },
   {
    "duration": 16,
    "start_time": "2021-11-15T06:09:08.491Z"
   },
   {
    "duration": 214,
    "start_time": "2021-11-15T06:09:08.510Z"
   },
   {
    "duration": 1019,
    "start_time": "2021-11-15T06:09:08.726Z"
   },
   {
    "duration": 3,
    "start_time": "2021-11-15T06:09:09.747Z"
   },
   {
    "duration": 347,
    "start_time": "2021-11-15T06:09:09.753Z"
   },
   {
    "duration": 591,
    "start_time": "2021-11-15T06:09:10.103Z"
   },
   {
    "duration": 305,
    "start_time": "2021-11-15T06:09:10.697Z"
   },
   {
    "duration": 745,
    "start_time": "2021-11-15T06:09:11.004Z"
   },
   {
    "duration": 319,
    "start_time": "2021-11-15T06:09:11.752Z"
   },
   {
    "duration": 341,
    "start_time": "2021-11-15T06:09:12.073Z"
   },
   {
    "duration": 340,
    "start_time": "2021-11-15T06:09:12.417Z"
   },
   {
    "duration": 304,
    "start_time": "2021-11-15T06:09:12.760Z"
   },
   {
    "duration": 45,
    "start_time": "2021-11-15T06:09:13.024Z"
   },
   {
    "duration": -2,
    "start_time": "2021-11-15T06:09:13.073Z"
   },
   {
    "duration": -18,
    "start_time": "2021-11-15T06:09:13.091Z"
   },
   {
    "duration": -33,
    "start_time": "2021-11-15T06:09:13.109Z"
   },
   {
    "duration": -50,
    "start_time": "2021-11-15T06:09:13.128Z"
   },
   {
    "duration": -65,
    "start_time": "2021-11-15T06:09:13.145Z"
   },
   {
    "duration": -66,
    "start_time": "2021-11-15T06:09:13.149Z"
   },
   {
    "duration": -72,
    "start_time": "2021-11-15T06:09:13.157Z"
   },
   {
    "duration": 123,
    "start_time": "2021-11-15T06:09:39.349Z"
   },
   {
    "duration": 361,
    "start_time": "2021-11-15T06:10:06.892Z"
   },
   {
    "duration": 40,
    "start_time": "2021-11-15T06:11:04.954Z"
   },
   {
    "duration": 375,
    "start_time": "2021-11-15T06:16:56.652Z"
   },
   {
    "duration": 299,
    "start_time": "2021-11-15T06:17:05.560Z"
   },
   {
    "duration": 320,
    "start_time": "2021-11-15T06:17:22.343Z"
   },
   {
    "duration": 448,
    "start_time": "2021-11-15T06:17:39.697Z"
   },
   {
    "duration": 306,
    "start_time": "2021-11-15T06:24:34.229Z"
   },
   {
    "duration": 104,
    "start_time": "2021-11-15T06:24:39.778Z"
   },
   {
    "duration": 37,
    "start_time": "2021-11-15T06:24:39.885Z"
   },
   {
    "duration": 68,
    "start_time": "2021-11-15T06:24:39.925Z"
   },
   {
    "duration": 9,
    "start_time": "2021-11-15T06:24:39.996Z"
   },
   {
    "duration": 12,
    "start_time": "2021-11-15T06:24:40.007Z"
   },
   {
    "duration": 18,
    "start_time": "2021-11-15T06:24:40.022Z"
   },
   {
    "duration": 53,
    "start_time": "2021-11-15T06:24:40.042Z"
   },
   {
    "duration": 435,
    "start_time": "2021-11-15T06:24:40.098Z"
   },
   {
    "duration": 10,
    "start_time": "2021-11-15T06:24:40.537Z"
   },
   {
    "duration": 8,
    "start_time": "2021-11-15T06:24:40.550Z"
   },
   {
    "duration": 76,
    "start_time": "2021-11-15T06:24:40.560Z"
   },
   {
    "duration": 14,
    "start_time": "2021-11-15T06:24:40.638Z"
   },
   {
    "duration": 7,
    "start_time": "2021-11-15T06:24:40.683Z"
   },
   {
    "duration": 11,
    "start_time": "2021-11-15T06:24:40.692Z"
   },
   {
    "duration": 8,
    "start_time": "2021-11-15T06:24:40.705Z"
   },
   {
    "duration": 8,
    "start_time": "2021-11-15T06:24:40.715Z"
   },
   {
    "duration": 1234,
    "start_time": "2021-11-15T06:24:40.725Z"
   },
   {
    "duration": 5,
    "start_time": "2021-11-15T06:24:41.962Z"
   },
   {
    "duration": 15,
    "start_time": "2021-11-15T06:24:41.969Z"
   },
   {
    "duration": 53,
    "start_time": "2021-11-15T06:24:41.987Z"
   },
   {
    "duration": 627,
    "start_time": "2021-11-15T06:24:42.042Z"
   },
   {
    "duration": 720,
    "start_time": "2021-11-15T06:24:42.672Z"
   },
   {
    "duration": 382,
    "start_time": "2021-11-15T06:24:43.394Z"
   },
   {
    "duration": 381,
    "start_time": "2021-11-15T06:24:43.782Z"
   },
   {
    "duration": 845,
    "start_time": "2021-11-15T06:24:44.165Z"
   },
   {
    "duration": 49,
    "start_time": "2021-11-15T06:24:45.013Z"
   },
   {
    "duration": 17,
    "start_time": "2021-11-15T06:24:45.084Z"
   },
   {
    "duration": 211,
    "start_time": "2021-11-15T06:24:45.104Z"
   },
   {
    "duration": 1293,
    "start_time": "2021-11-15T06:24:45.317Z"
   },
   {
    "duration": 2,
    "start_time": "2021-11-15T06:24:46.613Z"
   },
   {
    "duration": 432,
    "start_time": "2021-11-15T06:24:46.618Z"
   },
   {
    "duration": 336,
    "start_time": "2021-11-15T06:24:47.052Z"
   },
   {
    "duration": 294,
    "start_time": "2021-11-15T06:24:47.391Z"
   },
   {
    "duration": 742,
    "start_time": "2021-11-15T06:24:47.688Z"
   },
   {
    "duration": 313,
    "start_time": "2021-11-15T06:24:48.433Z"
   },
   {
    "duration": 337,
    "start_time": "2021-11-15T06:24:48.748Z"
   },
   {
    "duration": 329,
    "start_time": "2021-11-15T06:24:49.087Z"
   },
   {
    "duration": 301,
    "start_time": "2021-11-15T06:24:49.418Z"
   },
   {
    "duration": -93,
    "start_time": "2021-11-15T06:24:49.814Z"
   },
   {
    "duration": -113,
    "start_time": "2021-11-15T06:24:49.835Z"
   },
   {
    "duration": -132,
    "start_time": "2021-11-15T06:24:49.856Z"
   },
   {
    "duration": -135,
    "start_time": "2021-11-15T06:24:49.860Z"
   },
   {
    "duration": -138,
    "start_time": "2021-11-15T06:24:49.864Z"
   },
   {
    "duration": -140,
    "start_time": "2021-11-15T06:24:49.868Z"
   },
   {
    "duration": -143,
    "start_time": "2021-11-15T06:24:49.872Z"
   },
   {
    "duration": -146,
    "start_time": "2021-11-15T06:24:49.876Z"
   },
   {
    "duration": 482,
    "start_time": "2021-11-15T06:25:51.733Z"
   },
   {
    "duration": 71,
    "start_time": "2021-11-15T06:26:11.137Z"
   },
   {
    "duration": 582,
    "start_time": "2021-11-15T06:26:37.871Z"
   },
   {
    "duration": 861,
    "start_time": "2021-11-15T06:27:25.536Z"
   },
   {
    "duration": 508,
    "start_time": "2021-11-15T06:27:35.241Z"
   },
   {
    "duration": 74,
    "start_time": "2021-11-15T06:27:48.507Z"
   },
   {
    "duration": 25,
    "start_time": "2021-11-15T06:28:02.867Z"
   },
   {
    "duration": 29,
    "start_time": "2021-11-15T06:28:05.603Z"
   },
   {
    "duration": 74,
    "start_time": "2021-11-15T06:28:24.340Z"
   },
   {
    "duration": 27,
    "start_time": "2021-11-15T06:29:13.265Z"
   },
   {
    "duration": 25,
    "start_time": "2021-11-15T06:29:38.462Z"
   },
   {
    "duration": 416,
    "start_time": "2021-11-15T06:29:55.658Z"
   },
   {
    "duration": 24,
    "start_time": "2021-11-15T06:30:06.128Z"
   },
   {
    "duration": 55,
    "start_time": "2021-11-15T06:50:32.657Z"
   },
   {
    "duration": 57,
    "start_time": "2021-11-15T06:52:57.669Z"
   },
   {
    "duration": 53,
    "start_time": "2021-11-15T06:52:57.675Z"
   },
   {
    "duration": 50,
    "start_time": "2021-11-15T06:52:57.680Z"
   },
   {
    "duration": 48,
    "start_time": "2021-11-15T06:52:57.683Z"
   },
   {
    "duration": 46,
    "start_time": "2021-11-15T06:52:57.687Z"
   },
   {
    "duration": 45,
    "start_time": "2021-11-15T06:52:57.690Z"
   },
   {
    "duration": 38,
    "start_time": "2021-11-15T06:52:57.699Z"
   },
   {
    "duration": 34,
    "start_time": "2021-11-15T06:52:57.704Z"
   },
   {
    "duration": 33,
    "start_time": "2021-11-15T06:52:57.707Z"
   },
   {
    "duration": 31,
    "start_time": "2021-11-15T06:52:57.711Z"
   },
   {
    "duration": 30,
    "start_time": "2021-11-15T06:52:57.714Z"
   },
   {
    "duration": 27,
    "start_time": "2021-11-15T06:52:57.718Z"
   },
   {
    "duration": 25,
    "start_time": "2021-11-15T06:52:57.722Z"
   },
   {
    "duration": 23,
    "start_time": "2021-11-15T06:52:57.726Z"
   },
   {
    "duration": 15,
    "start_time": "2021-11-15T06:52:57.735Z"
   },
   {
    "duration": 13,
    "start_time": "2021-11-15T06:52:57.739Z"
   },
   {
    "duration": 11,
    "start_time": "2021-11-15T06:52:57.743Z"
   },
   {
    "duration": 9,
    "start_time": "2021-11-15T06:52:57.746Z"
   },
   {
    "duration": 6,
    "start_time": "2021-11-15T06:52:57.750Z"
   },
   {
    "duration": 3,
    "start_time": "2021-11-15T06:52:57.755Z"
   },
   {
    "duration": 1,
    "start_time": "2021-11-15T06:52:57.758Z"
   },
   {
    "duration": -1,
    "start_time": "2021-11-15T06:52:57.762Z"
   },
   {
    "duration": 16,
    "start_time": "2021-11-15T06:52:57.766Z"
   },
   {
    "duration": 15,
    "start_time": "2021-11-15T06:52:57.769Z"
   },
   {
    "duration": 15,
    "start_time": "2021-11-15T06:52:57.771Z"
   },
   {
    "duration": 13,
    "start_time": "2021-11-15T06:52:57.775Z"
   },
   {
    "duration": 6,
    "start_time": "2021-11-15T06:52:57.784Z"
   },
   {
    "duration": 2,
    "start_time": "2021-11-15T06:52:57.789Z"
   },
   {
    "duration": 1,
    "start_time": "2021-11-15T06:52:57.792Z"
   },
   {
    "duration": 0,
    "start_time": "2021-11-15T06:52:57.795Z"
   },
   {
    "duration": -1,
    "start_time": "2021-11-15T06:52:57.798Z"
   },
   {
    "duration": -188,
    "start_time": "2021-11-15T06:52:57.987Z"
   },
   {
    "duration": -317,
    "start_time": "2021-11-15T06:52:58.117Z"
   },
   {
    "duration": -355,
    "start_time": "2021-11-15T06:52:58.157Z"
   },
   {
    "duration": -355,
    "start_time": "2021-11-15T06:52:58.159Z"
   },
   {
    "duration": -356,
    "start_time": "2021-11-15T06:52:58.162Z"
   },
   {
    "duration": -356,
    "start_time": "2021-11-15T06:52:58.164Z"
   },
   {
    "duration": -356,
    "start_time": "2021-11-15T06:52:58.167Z"
   },
   {
    "duration": -357,
    "start_time": "2021-11-15T06:52:58.170Z"
   },
   {
    "duration": -358,
    "start_time": "2021-11-15T06:52:58.173Z"
   },
   {
    "duration": -360,
    "start_time": "2021-11-15T06:52:58.176Z"
   },
   {
    "duration": -361,
    "start_time": "2021-11-15T06:52:58.179Z"
   },
   {
    "duration": -363,
    "start_time": "2021-11-15T06:52:58.182Z"
   },
   {
    "duration": -364,
    "start_time": "2021-11-15T06:52:58.185Z"
   },
   {
    "duration": -305,
    "start_time": "2021-11-15T06:52:58.187Z"
   },
   {
    "duration": -307,
    "start_time": "2021-11-15T06:52:58.191Z"
   },
   {
    "duration": 26,
    "start_time": "2021-11-15T06:53:33.215Z"
   },
   {
    "duration": 47,
    "start_time": "2021-11-15T09:33:22.528Z"
   },
   {
    "duration": 856,
    "start_time": "2021-11-15T09:34:00.666Z"
   },
   {
    "duration": 351,
    "start_time": "2021-11-15T09:34:28.705Z"
   },
   {
    "duration": 71,
    "start_time": "2021-11-15T09:34:53.432Z"
   },
   {
    "duration": 57,
    "start_time": "2021-11-15T09:35:06.183Z"
   },
   {
    "duration": -28,
    "start_time": "2021-11-15T09:36:07.971Z"
   },
   {
    "duration": -100,
    "start_time": "2021-11-15T09:36:32.645Z"
   },
   {
    "duration": 66,
    "start_time": "2021-11-15T09:37:10.524Z"
   },
   {
    "duration": 72,
    "start_time": "2021-11-15T09:37:26.333Z"
   },
   {
    "duration": 47,
    "start_time": "2021-11-15T09:37:45.698Z"
   },
   {
    "duration": 28,
    "start_time": "2021-11-15T09:42:08.568Z"
   },
   {
    "duration": 341,
    "start_time": "2021-11-15T09:42:36.668Z"
   },
   {
    "duration": 26,
    "start_time": "2021-11-15T09:43:04.645Z"
   },
   {
    "duration": 73,
    "start_time": "2021-11-15T09:43:09.946Z"
   },
   {
    "duration": 1298,
    "start_time": "2021-11-15T09:44:00.259Z"
   },
   {
    "duration": 807,
    "start_time": "2021-11-15T09:44:24.396Z"
   },
   {
    "duration": 679,
    "start_time": "2021-11-15T09:45:17.603Z"
   },
   {
    "duration": 37,
    "start_time": "2021-11-15T09:46:17.526Z"
   },
   {
    "duration": 30,
    "start_time": "2021-11-15T09:46:22.287Z"
   },
   {
    "duration": 20,
    "start_time": "2021-11-15T09:46:56.483Z"
   },
   {
    "duration": 21,
    "start_time": "2021-11-15T09:47:23.474Z"
   },
   {
    "duration": 20,
    "start_time": "2021-11-15T09:47:30.323Z"
   },
   {
    "duration": 45,
    "start_time": "2021-11-15T09:49:13.681Z"
   },
   {
    "duration": 907,
    "start_time": "2021-11-15T09:49:24.653Z"
   },
   {
    "duration": 37,
    "start_time": "2021-11-15T09:49:52.403Z"
   },
   {
    "duration": 38,
    "start_time": "2021-11-15T09:51:06.357Z"
   },
   {
    "duration": 21,
    "start_time": "2021-11-15T09:52:07.008Z"
   },
   {
    "duration": 125,
    "start_time": "2021-11-15T09:55:57.773Z"
   },
   {
    "duration": 36,
    "start_time": "2021-11-15T09:55:57.901Z"
   },
   {
    "duration": 60,
    "start_time": "2021-11-15T09:55:57.940Z"
   },
   {
    "duration": 14,
    "start_time": "2021-11-15T09:55:58.003Z"
   },
   {
    "duration": 10,
    "start_time": "2021-11-15T09:55:58.020Z"
   },
   {
    "duration": 22,
    "start_time": "2021-11-15T09:55:58.032Z"
   },
   {
    "duration": 34,
    "start_time": "2021-11-15T09:55:58.056Z"
   },
   {
    "duration": 454,
    "start_time": "2021-11-15T09:55:58.094Z"
   },
   {
    "duration": 9,
    "start_time": "2021-11-15T09:55:58.551Z"
   },
   {
    "duration": 25,
    "start_time": "2021-11-15T09:55:58.562Z"
   },
   {
    "duration": 54,
    "start_time": "2021-11-15T09:55:58.590Z"
   },
   {
    "duration": 38,
    "start_time": "2021-11-15T09:55:58.646Z"
   },
   {
    "duration": 7,
    "start_time": "2021-11-15T09:55:58.686Z"
   },
   {
    "duration": 17,
    "start_time": "2021-11-15T09:55:58.695Z"
   },
   {
    "duration": 8,
    "start_time": "2021-11-15T09:55:58.714Z"
   },
   {
    "duration": 11,
    "start_time": "2021-11-15T09:55:58.724Z"
   },
   {
    "duration": 1181,
    "start_time": "2021-11-15T09:55:58.737Z"
   },
   {
    "duration": 5,
    "start_time": "2021-11-15T09:55:59.920Z"
   },
   {
    "duration": 9,
    "start_time": "2021-11-15T09:55:59.927Z"
   },
   {
    "duration": 97,
    "start_time": "2021-11-15T09:55:59.938Z"
   },
   {
    "duration": 647,
    "start_time": "2021-11-15T09:56:00.038Z"
   },
   {
    "duration": 634,
    "start_time": "2021-11-15T09:56:00.688Z"
   },
   {
    "duration": 397,
    "start_time": "2021-11-15T09:56:01.330Z"
   },
   {
    "duration": 407,
    "start_time": "2021-11-15T09:56:01.730Z"
   },
   {
    "duration": 855,
    "start_time": "2021-11-15T09:56:02.140Z"
   },
   {
    "duration": 56,
    "start_time": "2021-11-15T09:56:02.997Z"
   },
   {
    "duration": 39,
    "start_time": "2021-11-15T09:56:03.055Z"
   },
   {
    "duration": 212,
    "start_time": "2021-11-15T09:56:03.097Z"
   },
   {
    "duration": 1413,
    "start_time": "2021-11-15T09:56:03.312Z"
   },
   {
    "duration": 4,
    "start_time": "2021-11-15T09:56:04.728Z"
   },
   {
    "duration": 375,
    "start_time": "2021-11-15T09:56:04.734Z"
   },
   {
    "duration": 349,
    "start_time": "2021-11-15T09:56:05.112Z"
   },
   {
    "duration": 313,
    "start_time": "2021-11-15T09:56:05.464Z"
   },
   {
    "duration": 740,
    "start_time": "2021-11-15T09:56:05.781Z"
   },
   {
    "duration": 338,
    "start_time": "2021-11-15T09:56:06.524Z"
   },
   {
    "duration": 347,
    "start_time": "2021-11-15T09:56:06.866Z"
   },
   {
    "duration": 345,
    "start_time": "2021-11-15T09:56:07.216Z"
   },
   {
    "duration": 29,
    "start_time": "2021-11-15T09:56:07.563Z"
   },
   {
    "duration": 321,
    "start_time": "2021-11-15T09:56:07.595Z"
   },
   {
    "duration": 13,
    "start_time": "2021-11-15T09:56:07.918Z"
   },
   {
    "duration": 345,
    "start_time": "2021-11-15T09:56:07.933Z"
   },
   {
    "duration": 303,
    "start_time": "2021-11-15T09:56:08.282Z"
   },
   {
    "duration": 449,
    "start_time": "2021-11-15T09:56:08.587Z"
   },
   {
    "duration": 325,
    "start_time": "2021-11-15T09:56:09.039Z"
   },
   {
    "duration": 342,
    "start_time": "2021-11-15T09:56:09.367Z"
   },
   {
    "duration": 354,
    "start_time": "2021-11-15T09:56:09.712Z"
   },
   {
    "duration": 543,
    "start_time": "2021-11-15T10:01:55.766Z"
   },
   {
    "duration": 736,
    "start_time": "2021-11-15T10:02:16.231Z"
   },
   {
    "duration": 15,
    "start_time": "2021-11-15T10:02:49.626Z"
   },
   {
    "duration": -51,
    "start_time": "2021-11-15T10:02:57.996Z"
   },
   {
    "duration": -63,
    "start_time": "2021-11-15T10:02:58.009Z"
   },
   {
    "duration": -67,
    "start_time": "2021-11-15T10:02:58.014Z"
   },
   {
    "duration": -68,
    "start_time": "2021-11-15T10:02:58.017Z"
   },
   {
    "duration": -71,
    "start_time": "2021-11-15T10:02:58.021Z"
   },
   {
    "duration": -73,
    "start_time": "2021-11-15T10:02:58.024Z"
   },
   {
    "duration": -76,
    "start_time": "2021-11-15T10:02:58.029Z"
   },
   {
    "duration": -79,
    "start_time": "2021-11-15T10:02:58.033Z"
   },
   {
    "duration": -81,
    "start_time": "2021-11-15T10:02:58.037Z"
   },
   {
    "duration": -83,
    "start_time": "2021-11-15T10:02:58.040Z"
   },
   {
    "duration": -86,
    "start_time": "2021-11-15T10:02:58.044Z"
   },
   {
    "duration": -87,
    "start_time": "2021-11-15T10:02:58.047Z"
   },
   {
    "duration": -89,
    "start_time": "2021-11-15T10:02:58.050Z"
   },
   {
    "duration": -90,
    "start_time": "2021-11-15T10:02:58.053Z"
   },
   {
    "duration": -92,
    "start_time": "2021-11-15T10:02:58.056Z"
   },
   {
    "duration": -94,
    "start_time": "2021-11-15T10:02:58.059Z"
   },
   {
    "duration": -96,
    "start_time": "2021-11-15T10:02:58.062Z"
   },
   {
    "duration": -96,
    "start_time": "2021-11-15T10:02:58.064Z"
   },
   {
    "duration": -98,
    "start_time": "2021-11-15T10:02:58.067Z"
   },
   {
    "duration": -101,
    "start_time": "2021-11-15T10:02:58.071Z"
   },
   {
    "duration": -102,
    "start_time": "2021-11-15T10:02:58.074Z"
   },
   {
    "duration": -103,
    "start_time": "2021-11-15T10:02:58.076Z"
   },
   {
    "duration": -105,
    "start_time": "2021-11-15T10:02:58.079Z"
   },
   {
    "duration": -106,
    "start_time": "2021-11-15T10:02:58.082Z"
   },
   {
    "duration": -107,
    "start_time": "2021-11-15T10:02:58.084Z"
   },
   {
    "duration": -108,
    "start_time": "2021-11-15T10:02:58.087Z"
   },
   {
    "duration": -109,
    "start_time": "2021-11-15T10:02:58.089Z"
   },
   {
    "duration": -110,
    "start_time": "2021-11-15T10:02:58.092Z"
   },
   {
    "duration": -112,
    "start_time": "2021-11-15T10:02:58.095Z"
   },
   {
    "duration": -114,
    "start_time": "2021-11-15T10:02:58.098Z"
   },
   {
    "duration": -114,
    "start_time": "2021-11-15T10:02:58.100Z"
   },
   {
    "duration": -116,
    "start_time": "2021-11-15T10:02:58.103Z"
   },
   {
    "duration": -127,
    "start_time": "2021-11-15T10:02:58.116Z"
   },
   {
    "duration": -130,
    "start_time": "2021-11-15T10:02:58.120Z"
   },
   {
    "duration": -132,
    "start_time": "2021-11-15T10:02:58.124Z"
   },
   {
    "duration": -134,
    "start_time": "2021-11-15T10:02:58.127Z"
   },
   {
    "duration": -134,
    "start_time": "2021-11-15T10:02:58.129Z"
   },
   {
    "duration": -136,
    "start_time": "2021-11-15T10:02:58.132Z"
   },
   {
    "duration": -140,
    "start_time": "2021-11-15T10:02:58.137Z"
   },
   {
    "duration": -140,
    "start_time": "2021-11-15T10:02:58.139Z"
   },
   {
    "duration": -143,
    "start_time": "2021-11-15T10:02:58.143Z"
   },
   {
    "duration": -144,
    "start_time": "2021-11-15T10:02:58.146Z"
   },
   {
    "duration": -145,
    "start_time": "2021-11-15T10:02:58.148Z"
   },
   {
    "duration": -147,
    "start_time": "2021-11-15T10:02:58.151Z"
   },
   {
    "duration": -149,
    "start_time": "2021-11-15T10:02:58.154Z"
   },
   {
    "duration": -150,
    "start_time": "2021-11-15T10:02:58.156Z"
   },
   {
    "duration": -6,
    "start_time": "2021-11-15T10:05:01.497Z"
   },
   {
    "duration": 30,
    "start_time": "2021-11-15T10:05:23.959Z"
   },
   {
    "duration": 298,
    "start_time": "2021-11-15T10:05:36.805Z"
   },
   {
    "duration": 303,
    "start_time": "2021-11-15T10:05:41.368Z"
   },
   {
    "duration": 303,
    "start_time": "2021-11-15T10:06:01.446Z"
   },
   {
    "duration": 327,
    "start_time": "2021-11-15T10:06:08.777Z"
   },
   {
    "duration": 322,
    "start_time": "2021-11-15T10:06:13.643Z"
   },
   {
    "duration": 12,
    "start_time": "2021-11-15T10:07:12.377Z"
   },
   {
    "duration": 104,
    "start_time": "2021-11-15T10:08:07.706Z"
   },
   {
    "duration": 36,
    "start_time": "2021-11-15T10:08:07.813Z"
   },
   {
    "duration": 62,
    "start_time": "2021-11-15T10:08:07.852Z"
   },
   {
    "duration": 10,
    "start_time": "2021-11-15T10:08:07.918Z"
   },
   {
    "duration": 12,
    "start_time": "2021-11-15T10:08:07.930Z"
   },
   {
    "duration": 45,
    "start_time": "2021-11-15T10:08:07.944Z"
   },
   {
    "duration": 17,
    "start_time": "2021-11-15T10:08:07.992Z"
   },
   {
    "duration": 460,
    "start_time": "2021-11-15T10:08:08.011Z"
   },
   {
    "duration": 10,
    "start_time": "2021-11-15T10:08:08.483Z"
   },
   {
    "duration": 11,
    "start_time": "2021-11-15T10:08:08.497Z"
   },
   {
    "duration": 82,
    "start_time": "2021-11-15T10:08:08.511Z"
   },
   {
    "duration": 15,
    "start_time": "2021-11-15T10:08:08.595Z"
   },
   {
    "duration": 7,
    "start_time": "2021-11-15T10:08:08.612Z"
   },
   {
    "duration": 14,
    "start_time": "2021-11-15T10:08:08.621Z"
   },
   {
    "duration": 9,
    "start_time": "2021-11-15T10:08:08.638Z"
   },
   {
    "duration": 8,
    "start_time": "2021-11-15T10:08:08.682Z"
   },
   {
    "duration": 1221,
    "start_time": "2021-11-15T10:08:08.692Z"
   },
   {
    "duration": 8,
    "start_time": "2021-11-15T10:08:09.916Z"
   },
   {
    "duration": 8,
    "start_time": "2021-11-15T10:08:09.982Z"
   },
   {
    "duration": 191,
    "start_time": "2021-11-15T10:08:09.993Z"
   },
   {
    "duration": 860,
    "start_time": "2021-11-15T10:08:10.187Z"
   },
   {
    "duration": 890,
    "start_time": "2021-11-15T10:08:11.049Z"
   },
   {
    "duration": 379,
    "start_time": "2021-11-15T10:08:11.942Z"
   },
   {
    "duration": 406,
    "start_time": "2021-11-15T10:08:12.323Z"
   },
   {
    "duration": 843,
    "start_time": "2021-11-15T10:08:12.732Z"
   },
   {
    "duration": 53,
    "start_time": "2021-11-15T10:08:13.578Z"
   },
   {
    "duration": 18,
    "start_time": "2021-11-15T10:08:13.636Z"
   },
   {
    "duration": 208,
    "start_time": "2021-11-15T10:08:13.682Z"
   },
   {
    "duration": 1058,
    "start_time": "2021-11-15T10:08:13.893Z"
   },
   {
    "duration": 3,
    "start_time": "2021-11-15T10:08:14.954Z"
   },
   {
    "duration": 395,
    "start_time": "2021-11-15T10:08:14.960Z"
   },
   {
    "duration": 350,
    "start_time": "2021-11-15T10:08:15.357Z"
   },
   {
    "duration": 308,
    "start_time": "2021-11-15T10:08:15.709Z"
   },
   {
    "duration": 745,
    "start_time": "2021-11-15T10:08:16.020Z"
   },
   {
    "duration": 320,
    "start_time": "2021-11-15T10:08:16.768Z"
   },
   {
    "duration": 333,
    "start_time": "2021-11-15T10:08:17.090Z"
   },
   {
    "duration": 346,
    "start_time": "2021-11-15T10:08:17.426Z"
   },
   {
    "duration": 25,
    "start_time": "2021-11-15T10:08:17.774Z"
   },
   {
    "duration": 340,
    "start_time": "2021-11-15T10:08:17.801Z"
   },
   {
    "duration": 12,
    "start_time": "2021-11-15T10:08:18.144Z"
   },
   {
    "duration": 350,
    "start_time": "2021-11-15T10:08:18.158Z"
   },
   {
    "duration": 306,
    "start_time": "2021-11-15T10:08:18.510Z"
   },
   {
    "duration": 507,
    "start_time": "2021-11-15T10:08:18.819Z"
   },
   {
    "duration": 324,
    "start_time": "2021-11-15T10:08:19.328Z"
   },
   {
    "duration": 335,
    "start_time": "2021-11-15T10:08:19.655Z"
   },
   {
    "duration": 364,
    "start_time": "2021-11-15T10:08:19.993Z"
   },
   {
    "duration": 312,
    "start_time": "2021-11-15T10:08:59.280Z"
   },
   {
    "duration": 345,
    "start_time": "2021-11-15T10:09:10.737Z"
   },
   {
    "duration": 304,
    "start_time": "2021-11-15T10:09:19.006Z"
   },
   {
    "duration": 35,
    "start_time": "2021-11-15T10:21:35.546Z"
   },
   {
    "duration": 43,
    "start_time": "2021-11-15T10:21:39.863Z"
   },
   {
    "duration": 326,
    "start_time": "2021-11-15T10:22:06.318Z"
   },
   {
    "duration": 322,
    "start_time": "2021-11-15T10:22:39.995Z"
   },
   {
    "duration": 336,
    "start_time": "2021-11-15T10:22:55.656Z"
   },
   {
    "duration": 356,
    "start_time": "2021-11-15T10:23:45.302Z"
   },
   {
    "duration": 626,
    "start_time": "2021-11-15T10:27:49.948Z"
   },
   {
    "duration": 499,
    "start_time": "2021-11-15T10:29:24.303Z"
   },
   {
    "duration": 38,
    "start_time": "2021-11-15T12:32:14.280Z"
   },
   {
    "duration": 885,
    "start_time": "2021-11-15T18:10:15.772Z"
   },
   {
    "duration": 46,
    "start_time": "2021-11-15T18:10:16.660Z"
   },
   {
    "duration": 36,
    "start_time": "2021-11-15T18:10:16.709Z"
   },
   {
    "duration": 25,
    "start_time": "2021-11-15T18:10:16.748Z"
   },
   {
    "duration": 10,
    "start_time": "2021-11-15T18:10:16.775Z"
   },
   {
    "duration": 14,
    "start_time": "2021-11-15T18:10:16.787Z"
   },
   {
    "duration": 24,
    "start_time": "2021-11-15T18:10:16.804Z"
   },
   {
    "duration": 581,
    "start_time": "2021-11-15T18:10:16.831Z"
   },
   {
    "duration": 10,
    "start_time": "2021-11-15T18:10:17.415Z"
   },
   {
    "duration": 10,
    "start_time": "2021-11-15T18:10:17.428Z"
   },
   {
    "duration": 78,
    "start_time": "2021-11-15T18:10:17.440Z"
   },
   {
    "duration": 13,
    "start_time": "2021-11-15T18:10:17.521Z"
   },
   {
    "duration": 32,
    "start_time": "2021-11-15T18:10:17.536Z"
   },
   {
    "duration": 7,
    "start_time": "2021-11-15T18:10:17.571Z"
   },
   {
    "duration": 10,
    "start_time": "2021-11-15T18:10:17.581Z"
   },
   {
    "duration": 19,
    "start_time": "2021-11-15T18:10:17.593Z"
   },
   {
    "duration": 858,
    "start_time": "2021-11-15T18:10:17.614Z"
   },
   {
    "duration": 5,
    "start_time": "2021-11-15T18:10:18.474Z"
   },
   {
    "duration": 7,
    "start_time": "2021-11-15T18:10:18.482Z"
   },
   {
    "duration": 80,
    "start_time": "2021-11-15T18:10:18.491Z"
   },
   {
    "duration": 750,
    "start_time": "2021-11-15T18:10:18.573Z"
   },
   {
    "duration": 643,
    "start_time": "2021-11-15T18:10:19.326Z"
   },
   {
    "duration": 513,
    "start_time": "2021-11-15T18:10:19.975Z"
   },
   {
    "duration": 413,
    "start_time": "2021-11-15T18:10:20.490Z"
   },
   {
    "duration": 985,
    "start_time": "2021-11-15T18:10:20.906Z"
   },
   {
    "duration": 76,
    "start_time": "2021-11-15T18:10:21.894Z"
   },
   {
    "duration": 20,
    "start_time": "2021-11-15T18:10:21.973Z"
   },
   {
    "duration": 242,
    "start_time": "2021-11-15T18:10:21.996Z"
   },
   {
    "duration": 1288,
    "start_time": "2021-11-15T18:10:22.241Z"
   },
   {
    "duration": 4,
    "start_time": "2021-11-15T18:10:23.532Z"
   },
   {
    "duration": 478,
    "start_time": "2021-11-15T18:10:23.540Z"
   },
   {
    "duration": 374,
    "start_time": "2021-11-15T18:10:24.021Z"
   },
   {
    "duration": 323,
    "start_time": "2021-11-15T18:10:24.398Z"
   },
   {
    "duration": 747,
    "start_time": "2021-11-15T18:10:24.723Z"
   },
   {
    "duration": 331,
    "start_time": "2021-11-15T18:10:25.472Z"
   },
   {
    "duration": 349,
    "start_time": "2021-11-15T18:10:25.806Z"
   },
   {
    "duration": 350,
    "start_time": "2021-11-15T18:10:26.167Z"
   },
   {
    "duration": 50,
    "start_time": "2021-11-15T18:10:26.520Z"
   },
   {
    "duration": 332,
    "start_time": "2021-11-15T18:10:26.573Z"
   },
   {
    "duration": 12,
    "start_time": "2021-11-15T18:10:26.908Z"
   },
   {
    "duration": 444,
    "start_time": "2021-11-15T18:10:26.923Z"
   },
   {
    "duration": 349,
    "start_time": "2021-11-15T18:10:27.369Z"
   },
   {
    "duration": 511,
    "start_time": "2021-11-15T18:10:27.721Z"
   },
   {
    "duration": 344,
    "start_time": "2021-11-15T18:10:28.234Z"
   },
   {
    "duration": 358,
    "start_time": "2021-11-15T18:10:28.581Z"
   },
   {
    "duration": 480,
    "start_time": "2021-11-15T18:10:28.942Z"
   },
   {
    "duration": 368,
    "start_time": "2021-11-15T18:14:21.672Z"
   },
   {
    "duration": 149,
    "start_time": "2021-11-15T18:33:14.416Z"
   },
   {
    "duration": 112,
    "start_time": "2021-11-15T18:35:32.651Z"
   },
   {
    "duration": 141,
    "start_time": "2021-11-15T19:10:42.882Z"
   },
   {
    "duration": 118,
    "start_time": "2021-11-15T20:12:16.444Z"
   },
   {
    "duration": 836,
    "start_time": "2021-11-16T06:45:13.181Z"
   },
   {
    "duration": 51,
    "start_time": "2021-11-16T06:45:14.020Z"
   },
   {
    "duration": 59,
    "start_time": "2021-11-16T06:45:14.075Z"
   },
   {
    "duration": 11,
    "start_time": "2021-11-16T06:45:14.138Z"
   },
   {
    "duration": 12,
    "start_time": "2021-11-16T06:45:14.151Z"
   },
   {
    "duration": 16,
    "start_time": "2021-11-16T06:45:14.166Z"
   },
   {
    "duration": 60,
    "start_time": "2021-11-16T06:45:14.185Z"
   },
   {
    "duration": 543,
    "start_time": "2021-11-16T06:45:14.249Z"
   },
   {
    "duration": 10,
    "start_time": "2021-11-16T06:45:14.795Z"
   },
   {
    "duration": 26,
    "start_time": "2021-11-16T06:45:14.807Z"
   },
   {
    "duration": 52,
    "start_time": "2021-11-16T06:45:14.836Z"
   },
   {
    "duration": 13,
    "start_time": "2021-11-16T06:45:14.890Z"
   },
   {
    "duration": 29,
    "start_time": "2021-11-16T06:45:14.905Z"
   },
   {
    "duration": 9,
    "start_time": "2021-11-16T06:45:14.936Z"
   },
   {
    "duration": 10,
    "start_time": "2021-11-16T06:45:14.947Z"
   },
   {
    "duration": 8,
    "start_time": "2021-11-16T06:45:14.959Z"
   },
   {
    "duration": 838,
    "start_time": "2021-11-16T06:45:14.970Z"
   },
   {
    "duration": 5,
    "start_time": "2021-11-16T06:45:15.810Z"
   },
   {
    "duration": 5,
    "start_time": "2021-11-16T06:45:15.829Z"
   },
   {
    "duration": 52,
    "start_time": "2021-11-16T06:45:15.836Z"
   },
   {
    "duration": 616,
    "start_time": "2021-11-16T06:45:15.890Z"
   },
   {
    "duration": 733,
    "start_time": "2021-11-16T06:45:16.509Z"
   },
   {
    "duration": 388,
    "start_time": "2021-11-16T06:45:17.248Z"
   },
   {
    "duration": 383,
    "start_time": "2021-11-16T06:45:17.639Z"
   },
   {
    "duration": 838,
    "start_time": "2021-11-16T06:45:18.028Z"
   },
   {
    "duration": 67,
    "start_time": "2021-11-16T06:45:18.868Z"
   },
   {
    "duration": 17,
    "start_time": "2021-11-16T06:45:18.937Z"
   },
   {
    "duration": 217,
    "start_time": "2021-11-16T06:45:18.957Z"
   },
   {
    "duration": 1118,
    "start_time": "2021-11-16T06:45:19.176Z"
   },
   {
    "duration": 3,
    "start_time": "2021-11-16T06:45:20.296Z"
   },
   {
    "duration": 356,
    "start_time": "2021-11-16T06:45:20.301Z"
   },
   {
    "duration": 345,
    "start_time": "2021-11-16T06:45:20.661Z"
   },
   {
    "duration": 305,
    "start_time": "2021-11-16T06:45:21.008Z"
   },
   {
    "duration": 759,
    "start_time": "2021-11-16T06:45:21.316Z"
   },
   {
    "duration": 329,
    "start_time": "2021-11-16T06:45:22.079Z"
   },
   {
    "duration": 331,
    "start_time": "2021-11-16T06:45:22.411Z"
   },
   {
    "duration": 335,
    "start_time": "2021-11-16T06:45:22.744Z"
   },
   {
    "duration": 54,
    "start_time": "2021-11-16T06:45:23.081Z"
   },
   {
    "duration": 335,
    "start_time": "2021-11-16T06:45:23.138Z"
   },
   {
    "duration": 12,
    "start_time": "2021-11-16T06:45:23.475Z"
   },
   {
    "duration": 430,
    "start_time": "2021-11-16T06:45:23.489Z"
   },
   {
    "duration": 326,
    "start_time": "2021-11-16T06:45:23.921Z"
   },
   {
    "duration": 552,
    "start_time": "2021-11-16T06:45:24.249Z"
   },
   {
    "duration": 420,
    "start_time": "2021-11-16T06:45:24.804Z"
   },
   {
    "duration": 329,
    "start_time": "2021-11-16T06:45:25.230Z"
   },
   {
    "duration": 367,
    "start_time": "2021-11-16T06:45:25.562Z"
   },
   {
    "duration": 227,
    "start_time": "2021-11-20T18:43:02.884Z"
   },
   {
    "duration": 583,
    "start_time": "2021-11-20T18:43:06.842Z"
   },
   {
    "duration": 30,
    "start_time": "2021-11-20T18:43:07.427Z"
   },
   {
    "duration": 35,
    "start_time": "2021-11-20T18:43:07.459Z"
   },
   {
    "duration": 9,
    "start_time": "2021-11-20T18:43:07.496Z"
   },
   {
    "duration": 8,
    "start_time": "2021-11-20T18:43:07.507Z"
   },
   {
    "duration": 16,
    "start_time": "2021-11-20T18:43:07.517Z"
   },
   {
    "duration": 13,
    "start_time": "2021-11-20T18:43:07.534Z"
   },
   {
    "duration": 374,
    "start_time": "2021-11-20T18:43:07.548Z"
   },
   {
    "duration": 7,
    "start_time": "2021-11-20T18:43:07.925Z"
   },
   {
    "duration": 7,
    "start_time": "2021-11-20T18:43:07.934Z"
   },
   {
    "duration": 53,
    "start_time": "2021-11-20T18:43:07.943Z"
   },
   {
    "duration": 10,
    "start_time": "2021-11-20T18:43:07.998Z"
   },
   {
    "duration": 6,
    "start_time": "2021-11-20T18:43:08.009Z"
   },
   {
    "duration": 5,
    "start_time": "2021-11-20T18:43:08.017Z"
   },
   {
    "duration": 5,
    "start_time": "2021-11-20T18:43:08.024Z"
   },
   {
    "duration": 5,
    "start_time": "2021-11-20T18:43:08.031Z"
   },
   {
    "duration": 531,
    "start_time": "2021-11-20T18:43:08.038Z"
   },
   {
    "duration": 5,
    "start_time": "2021-11-20T18:43:08.571Z"
   },
   {
    "duration": 15,
    "start_time": "2021-11-20T18:43:08.577Z"
   },
   {
    "duration": 45,
    "start_time": "2021-11-20T18:43:08.593Z"
   },
   {
    "duration": 369,
    "start_time": "2021-11-20T18:43:08.640Z"
   },
   {
    "duration": 382,
    "start_time": "2021-11-20T18:43:09.012Z"
   },
   {
    "duration": 444,
    "start_time": "2021-11-20T18:43:09.396Z"
   },
   {
    "duration": 284,
    "start_time": "2021-11-20T18:43:09.842Z"
   },
   {
    "duration": 521,
    "start_time": "2021-11-20T18:43:10.128Z"
   },
   {
    "duration": 44,
    "start_time": "2021-11-20T18:43:10.651Z"
   },
   {
    "duration": 11,
    "start_time": "2021-11-20T18:43:10.699Z"
   },
   {
    "duration": 136,
    "start_time": "2021-11-20T18:43:10.712Z"
   },
   {
    "duration": 702,
    "start_time": "2021-11-20T18:43:10.850Z"
   },
   {
    "duration": 2,
    "start_time": "2021-11-20T18:43:11.554Z"
   },
   {
    "duration": 227,
    "start_time": "2021-11-20T18:43:11.558Z"
   },
   {
    "duration": 215,
    "start_time": "2021-11-20T18:43:11.787Z"
   },
   {
    "duration": 184,
    "start_time": "2021-11-20T18:43:12.004Z"
   },
   {
    "duration": 460,
    "start_time": "2021-11-20T18:43:12.192Z"
   },
   {
    "duration": 196,
    "start_time": "2021-11-20T18:43:12.653Z"
   },
   {
    "duration": 202,
    "start_time": "2021-11-20T18:43:12.851Z"
   },
   {
    "duration": 210,
    "start_time": "2021-11-20T18:43:13.055Z"
   },
   {
    "duration": 33,
    "start_time": "2021-11-20T18:43:13.267Z"
   },
   {
    "duration": 201,
    "start_time": "2021-11-20T18:43:13.302Z"
   },
   {
    "duration": 8,
    "start_time": "2021-11-20T18:43:13.505Z"
   },
   {
    "duration": 281,
    "start_time": "2021-11-20T18:43:13.514Z"
   },
   {
    "duration": 196,
    "start_time": "2021-11-20T18:43:13.797Z"
   },
   {
    "duration": 342,
    "start_time": "2021-11-20T18:43:13.994Z"
   },
   {
    "duration": 199,
    "start_time": "2021-11-20T18:43:14.337Z"
   },
   {
    "duration": 211,
    "start_time": "2021-11-20T18:43:14.538Z"
   },
   {
    "duration": 222,
    "start_time": "2021-11-20T18:43:14.750Z"
   },
   {
    "duration": 36,
    "start_time": "2021-11-20T18:43:24.406Z"
   },
   {
    "duration": 509,
    "start_time": "2022-06-15T21:44:08.959Z"
   },
   {
    "duration": 22,
    "start_time": "2022-06-15T21:44:09.470Z"
   },
   {
    "duration": 21,
    "start_time": "2022-06-15T21:44:09.494Z"
   },
   {
    "duration": 5,
    "start_time": "2022-06-15T21:44:09.517Z"
   },
   {
    "duration": 6,
    "start_time": "2022-06-15T21:44:09.523Z"
   },
   {
    "duration": 63,
    "start_time": "2022-06-15T21:44:09.530Z"
   },
   {
    "duration": 13,
    "start_time": "2022-06-15T21:44:09.595Z"
   },
   {
    "duration": 504,
    "start_time": "2022-06-15T21:44:09.610Z"
   },
   {
    "duration": 6,
    "start_time": "2022-06-15T21:44:10.115Z"
   },
   {
    "duration": 7,
    "start_time": "2022-06-15T21:44:10.123Z"
   },
   {
    "duration": 29,
    "start_time": "2022-06-15T21:44:10.131Z"
   },
   {
    "duration": 8,
    "start_time": "2022-06-15T21:44:10.162Z"
   },
   {
    "duration": 5,
    "start_time": "2022-06-15T21:44:10.190Z"
   },
   {
    "duration": 7,
    "start_time": "2022-06-15T21:44:10.196Z"
   },
   {
    "duration": 5,
    "start_time": "2022-06-15T21:44:10.205Z"
   },
   {
    "duration": 5,
    "start_time": "2022-06-15T21:44:10.212Z"
   },
   {
    "duration": 302,
    "start_time": "2022-06-15T21:44:10.218Z"
   },
   {
    "duration": 3,
    "start_time": "2022-06-15T21:44:10.522Z"
   },
   {
    "duration": 6,
    "start_time": "2022-06-15T21:44:10.526Z"
   },
   {
    "duration": 32,
    "start_time": "2022-06-15T21:44:10.533Z"
   },
   {
    "duration": 246,
    "start_time": "2022-06-15T21:44:10.566Z"
   },
   {
    "duration": 267,
    "start_time": "2022-06-15T21:44:10.813Z"
   },
   {
    "duration": 154,
    "start_time": "2022-06-15T21:44:11.081Z"
   },
   {
    "duration": 164,
    "start_time": "2022-06-15T21:44:11.237Z"
   },
   {
    "duration": 325,
    "start_time": "2022-06-15T21:44:11.402Z"
   },
   {
    "duration": 29,
    "start_time": "2022-06-15T21:44:11.728Z"
   },
   {
    "duration": 9,
    "start_time": "2022-06-15T21:44:11.758Z"
   },
   {
    "duration": 84,
    "start_time": "2022-06-15T21:44:11.771Z"
   },
   {
    "duration": 473,
    "start_time": "2022-06-15T21:44:11.857Z"
   },
   {
    "duration": 2,
    "start_time": "2022-06-15T21:44:12.331Z"
   },
   {
    "duration": 139,
    "start_time": "2022-06-15T21:44:12.334Z"
   },
   {
    "duration": 154,
    "start_time": "2022-06-15T21:44:12.475Z"
   },
   {
    "duration": 134,
    "start_time": "2022-06-15T21:44:12.631Z"
   },
   {
    "duration": 179,
    "start_time": "2022-06-15T21:44:12.766Z"
   },
   {
    "duration": 130,
    "start_time": "2022-06-15T21:44:12.947Z"
   },
   {
    "duration": 141,
    "start_time": "2022-06-15T21:44:13.078Z"
   },
   {
    "duration": 146,
    "start_time": "2022-06-15T21:44:13.220Z"
   },
   {
    "duration": 25,
    "start_time": "2022-06-15T21:44:13.367Z"
   },
   {
    "duration": 138,
    "start_time": "2022-06-15T21:44:13.393Z"
   },
   {
    "duration": 7,
    "start_time": "2022-06-15T21:44:13.533Z"
   },
   {
    "duration": 154,
    "start_time": "2022-06-15T21:44:13.542Z"
   },
   {
    "duration": 188,
    "start_time": "2022-06-15T21:44:13.698Z"
   },
   {
    "duration": 140,
    "start_time": "2022-06-15T21:44:13.890Z"
   },
   {
    "duration": 135,
    "start_time": "2022-06-15T21:44:14.031Z"
   },
   {
    "duration": 141,
    "start_time": "2022-06-15T21:44:14.168Z"
   },
   {
    "duration": 156,
    "start_time": "2022-06-15T21:44:14.310Z"
   },
   {
    "duration": 31,
    "start_time": "2022-06-15T22:04:53.012Z"
   },
   {
    "duration": 20,
    "start_time": "2022-06-15T22:09:36.476Z"
   },
   {
    "duration": 37,
    "start_time": "2022-06-15T22:09:49.636Z"
   },
   {
    "duration": 147,
    "start_time": "2022-06-15T22:26:05.658Z"
   },
   {
    "duration": 2,
    "start_time": "2022-06-15T22:33:13.900Z"
   },
   {
    "duration": 2,
    "start_time": "2022-06-15T22:33:20.121Z"
   },
   {
    "duration": 3,
    "start_time": "2022-06-15T22:34:11.459Z"
   },
   {
    "duration": 226,
    "start_time": "2022-06-15T22:34:28.553Z"
   },
   {
    "duration": 87,
    "start_time": "2022-06-15T22:34:37.814Z"
   },
   {
    "duration": 18,
    "start_time": "2022-06-15T22:34:37.902Z"
   },
   {
    "duration": 21,
    "start_time": "2022-06-15T22:34:37.921Z"
   },
   {
    "duration": 8,
    "start_time": "2022-06-15T22:34:37.944Z"
   },
   {
    "duration": 6,
    "start_time": "2022-06-15T22:34:37.953Z"
   },
   {
    "duration": 40,
    "start_time": "2022-06-15T22:34:37.991Z"
   },
   {
    "duration": 13,
    "start_time": "2022-06-15T22:34:38.032Z"
   },
   {
    "duration": 185,
    "start_time": "2022-06-15T22:34:38.046Z"
   },
   {
    "duration": 7,
    "start_time": "2022-06-15T22:34:38.233Z"
   },
   {
    "duration": 6,
    "start_time": "2022-06-15T22:34:38.242Z"
   },
   {
    "duration": 44,
    "start_time": "2022-06-15T22:34:38.249Z"
   },
   {
    "duration": 8,
    "start_time": "2022-06-15T22:34:38.294Z"
   },
   {
    "duration": 3,
    "start_time": "2022-06-15T22:34:38.303Z"
   },
   {
    "duration": 6,
    "start_time": "2022-06-15T22:34:38.308Z"
   },
   {
    "duration": 5,
    "start_time": "2022-06-15T22:34:38.315Z"
   },
   {
    "duration": 4,
    "start_time": "2022-06-15T22:34:38.322Z"
   },
   {
    "duration": 328,
    "start_time": "2022-06-15T22:34:38.327Z"
   },
   {
    "duration": 4,
    "start_time": "2022-06-15T22:34:38.657Z"
   },
   {
    "duration": 36,
    "start_time": "2022-06-15T22:34:38.663Z"
   },
   {
    "duration": 241,
    "start_time": "2022-06-15T22:34:38.700Z"
   },
   {
    "duration": 237,
    "start_time": "2022-06-15T22:34:38.942Z"
   },
   {
    "duration": 145,
    "start_time": "2022-06-15T22:34:39.181Z"
   },
   {
    "duration": 156,
    "start_time": "2022-06-15T22:34:39.328Z"
   },
   {
    "duration": 328,
    "start_time": "2022-06-15T22:34:39.486Z"
   },
   {
    "duration": 30,
    "start_time": "2022-06-15T22:34:39.816Z"
   },
   {
    "duration": 9,
    "start_time": "2022-06-15T22:34:39.848Z"
   },
   {
    "duration": 83,
    "start_time": "2022-06-15T22:34:39.858Z"
   },
   {
    "duration": 460,
    "start_time": "2022-06-15T22:34:39.944Z"
   },
   {
    "duration": 2,
    "start_time": "2022-06-15T22:34:40.405Z"
   },
   {
    "duration": 132,
    "start_time": "2022-06-15T22:34:40.408Z"
   },
   {
    "duration": 145,
    "start_time": "2022-06-15T22:34:40.541Z"
   },
   {
    "duration": 128,
    "start_time": "2022-06-15T22:34:40.688Z"
   },
   {
    "duration": 165,
    "start_time": "2022-06-15T22:34:40.818Z"
   },
   {
    "duration": 125,
    "start_time": "2022-06-15T22:34:40.991Z"
   },
   {
    "duration": 138,
    "start_time": "2022-06-15T22:34:41.117Z"
   },
   {
    "duration": 136,
    "start_time": "2022-06-15T22:34:41.256Z"
   },
   {
    "duration": 19,
    "start_time": "2022-06-15T22:34:41.394Z"
   },
   {
    "duration": 139,
    "start_time": "2022-06-15T22:34:41.415Z"
   },
   {
    "duration": 7,
    "start_time": "2022-06-15T22:34:41.555Z"
   },
   {
    "duration": 198,
    "start_time": "2022-06-15T22:34:41.564Z"
   },
   {
    "duration": 136,
    "start_time": "2022-06-15T22:34:41.764Z"
   },
   {
    "duration": 143,
    "start_time": "2022-06-15T22:34:41.901Z"
   },
   {
    "duration": 127,
    "start_time": "2022-06-15T22:34:42.046Z"
   },
   {
    "duration": 141,
    "start_time": "2022-06-15T22:34:42.175Z"
   },
   {
    "duration": 158,
    "start_time": "2022-06-15T22:34:42.317Z"
   },
   {
    "duration": 145,
    "start_time": "2022-06-15T22:35:44.497Z"
   },
   {
    "duration": 145,
    "start_time": "2022-06-15T22:36:35.062Z"
   },
   {
    "duration": 122,
    "start_time": "2022-06-15T22:47:42.603Z"
   },
   {
    "duration": 155,
    "start_time": "2022-06-15T22:48:55.604Z"
   },
   {
    "duration": 92,
    "start_time": "2022-06-15T23:26:27.021Z"
   },
   {
    "duration": 6,
    "start_time": "2022-06-15T23:27:07.468Z"
   },
   {
    "duration": 129,
    "start_time": "2022-06-15T23:34:35.775Z"
   },
   {
    "duration": 129,
    "start_time": "2022-06-15T23:36:19.954Z"
   }
  ],
  "kernelspec": {
   "display_name": "Python 3 (ipykernel)",
   "language": "python",
   "name": "python3"
  },
  "language_info": {
   "codemirror_mode": {
    "name": "ipython",
    "version": 3
   },
   "file_extension": ".py",
   "mimetype": "text/x-python",
   "name": "python",
   "nbconvert_exporter": "python",
   "pygments_lexer": "ipython3",
   "version": "3.9.5"
  },
  "toc": {
   "base_numbering": 1,
   "nav_menu": {},
   "number_sections": true,
   "sideBar": true,
   "skip_h1_title": true,
   "title_cell": "Содержание",
   "title_sidebar": "Contents",
   "toc_cell": true,
   "toc_position": {
    "height": "calc(100% - 180px)",
    "left": "10px",
    "top": "150px",
    "width": "310px"
   },
   "toc_section_display": true,
   "toc_window_display": true
  }
 },
 "nbformat": 4,
 "nbformat_minor": 2
}
